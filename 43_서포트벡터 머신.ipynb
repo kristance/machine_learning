{
 "cells": [
  {
   "cell_type": "code",
   "execution_count": 1,
   "id": "d69f6fb8-d9c3-4c52-95c8-ed5ae39b4dde",
   "metadata": {
    "tags": []
   },
   "outputs": [],
   "source": [
    "import warnings\n",
    "warnings.filterwarnings(action='ignore')\n",
    "%config Completer.use_jedi = False\n",
    "import numpy as np\n",
    "import pandas as pd\n",
    "import matplotlib.pyplot as plt\n",
    "import matplotlib as mpl\n",
    "mpl.rcParams['axes.unicode_minus'] = False\n",
    "plt.rcParams['font.family'] = 'NanumGothicCoding'\n",
    "plt.rcParams['font.size'] = 10\n",
    "import seaborn as sns\n",
    "\n",
    "from sklearn import datasets\n",
    "from sklearn.model_selection import train_test_split\n",
    "from sklearn.preprocessing import StandardScaler\n",
    "from sklearn.metrics import accuracy_score\n",
    "from sklearn.metrics import confusion_matrix\n",
    "from sklearn.metrics import classification_report\n",
    "from sklearn.metrics import mean_squared_error  \n",
    "from sklearn.metrics import mean_absolute_error\n",
    "from sklearn.metrics import r2_score\n",
    "from sklearn.metrics import precision_score \n",
    "from sklearn.metrics import recall_score\n",
    "from sklearn.metrics import f1_score"
   ]
  },
  {
   "cell_type": "markdown",
   "id": "e21d05fa-3b71-4eee-88c1-dc702e0c8674",
   "metadata": {},
   "source": [
    "***\n",
    "서포트 벡터 머신(Support Vector machine)은 벡터를 기준으로 클래스를 판별하는 방식으로 클래스를 구분하는 여러 방법 중 중심선과 경계선을 이용해  \n",
    "데이터를 구분한다.  \n",
    "경계선을 서포트 벡터라고하며, 이것이 서포트 벡터 머신이라는 이름의 유래이다.\n",
    "\n",
    "중심선을 그리기 위해서는 중심선에 수직인 벡터 w를 구하는 것이 중요하다. 중심선에 수직인 벡터 w와 테이터 포인트 x를 내적했을 때 내적값 c가 되는 지점이  \n",
    "중심선이 되고 $w^T = c$라고 표현한다.  \n",
    "\n",
    "내적값 c가 되는 지점인 중심선을 기준으로 영역을 나눌 수 있다. 데이터 공간을 내적없이 c보다 큰 영역과 c보다 작은 영역으로 각각 나누면  \n",
    "중심선의 윗부분과 아랫부분을 나눌 수 있다는 것을 알 수 있다.  \n",
    "\n",
    "서포트 벡터 머신은 마진(Margin)을 최대화하는 것이 목표이다.  \n",
    "마진이란 서포트 벡터간 너비를 의미한다.  \n",
    "***"
   ]
  },
  {
   "cell_type": "markdown",
   "id": "98a9201b-6b4e-4eea-a827-75ec8a31a35b",
   "metadata": {},
   "source": [
    "소프트 마진(Soft Margin)  \n",
    "서포트 벡터 머신은 데이터가 잘못 분류되는 경우를 고려하지 않는다. 하지만 잘못 분류된 데이터가 하나도 없다는 조건은 현실적으로 너무 엄격한 기준이므로 성립되기 쉽지 않다.  \n",
    " 소프트 마진은 기존 서포트 벡터 머신의 기준을 완화해서 잘못 분류된 데이터를 어느 정도 허용하는 방법이다.\n",
    "***\n",
    "\n",
    "커널 소프트 벡터 머신(Kernel Support Vector Machine)  \n",
    "커널 소프트 벡터 머신이란 피쳐 공간을 변형한 후 서포트 벡터 머신을 적용하는 것을 의미한다.  \n",
    "좌표 평면을 평평한 종이라고 생각하고 종이 위에 데이터가 퍼져있다고 가정하면, 종이를 구부렸을 때 기존 좌표 공간과 구부러진 공간의 데이터 좌표가 서로 다를 것이다.  \n",
    "구부러진 공간에 서포트 벡터 머신을 적용한 후 종이를 펴면 데이터가 잘 분리된 것을 볼 수 있다.\n",
    "***"
   ]
  },
  {
   "cell_type": "markdown",
   "id": "8ec0be21-f3f0-4f20-9bb9-709eddcb8fd3",
   "metadata": {},
   "source": [
    "와인 데이터를 사용해 와인 종류를 분류하는 모델을 생성하고 학습시킨다.\n",
    "***"
   ]
  },
  {
   "cell_type": "code",
   "execution_count": 2,
   "id": "f4937145-d6bc-4c48-a1d5-bf07ef151817",
   "metadata": {
    "tags": []
   },
   "outputs": [
    {
     "name": "stdout",
     "output_type": "stream",
     "text": [
      "(178, 13) (178,)\n",
      "(133, 13) (45, 13) (133,) (45,)\n"
     ]
    },
    {
     "data": {
      "text/plain": [
       "SVC(probability=True)"
      ]
     },
     "execution_count": 2,
     "metadata": {},
     "output_type": "execute_result"
    }
   ],
   "source": [
    "# 데이터 불러오기\n",
    "raw_data = datasets.load_wine() # 사이킷런이 제공하는 와인 데이터를 불러온다.\n",
    "\n",
    "# 피쳐, 레이블 데이터 저장\n",
    "xData = raw_data.data # 피쳐 데이터를 저장한다.\n",
    "yData = raw_data.target # 피쳐 데이터에 따른 레이블을 저장한다.\n",
    "print(xData.shape, yData.shape)\n",
    "\n",
    "\n",
    "# 학습 데이터와 테스트 데이터로 분할\n",
    "x_train, x_test, y_train, y_test = train_test_split(xData, yData, random_state=0)\n",
    "print(x_train.shape, x_test.shape, y_train.shape, y_test.shape)\n",
    "\n",
    "# 데이터 표준화\n",
    "std_scale = StandardScaler() # 표준화 스케일러 객체를 만든다.\n",
    "x_train = std_scale.fit_transform(x_train) # 학습 데이터를 스케일러로 표준화하고 적용한다.\n",
    "x_test = std_scale.transform(x_test) # 테스트 데이터를 학습 데이터로 표준화된 스케일러에 적용한다.\n",
    "\n",
    "#  모델 생성 후 데이터 학습\n",
    "from sklearn.svm import SVC # 서포트 벡터 머신을 사용하기 위해 import 한다.\n",
    "\n",
    "# 서포트 벡터 머신 모델을 만든다.\n",
    "#서포트 벡터 머신 모델의 kernel 속성으로 커널 함수 종류를 지정해서 모델을 만든다.\n",
    "# kernel 속성의 기본값은 'rbf'(방사기저함수)이고 'linear'(선형함수), 'poly'(다항식), 'sigmoid'(시그모이드) 중에서 지정 가능하다.\n",
    "# 학습된 모델로 테스트 데이터를 예측할 때 predict()일 경우 문제 없지만,  \n",
    "# 예측 결과를 비율로 얻어오는 predict_proba()일 경우 probability 속성을 True로 설정해야한다.\n",
    "clf = SVC(kernel='rbf', probability=True)\n",
    "\n",
    "# 표준화된 학습 데이터 x_train와 학습 데이터에 따른 레이블 데이터 y_train으로 서포트 벡터 머신 모델에 학습시킨다.\n",
    "clf.fit(x_train, y_train)\n"
   ]
  },
  {
   "cell_type": "markdown",
   "id": "50c15a98-e1cf-4af9-9532-6e8208601485",
   "metadata": {},
   "source": [
    "***\n",
    "학습된 모델로 테스트 데이터를 예측한다.\n",
    "***"
   ]
  },
  {
   "cell_type": "code",
   "execution_count": 5,
   "id": "927ca308-161a-431e-bcd7-47288c30aa4f",
   "metadata": {
    "tags": []
   },
   "outputs": [
    {
     "name": "stdout",
     "output_type": "stream",
     "text": [
      "[0 2 1 0 1 1 0 2 1 1 2 2 0 1 2 1 0 0 1 0 1 0 0 1 1 1 1 1 1 2 0 0 1 0 0 0 2\n",
      " 1 1 2 0 0 1 1 1]\n"
     ]
    }
   ],
   "source": [
    "#predict() 메소드의 인수로 표준화된 테스트 데이터를 넘겨서 예측한다.\n",
    "predict = clf.predict(x_test)\n",
    "# predict_proba() 메소드를 사용하려면 서포트 벡터 머신 모델 생성시 probability=True 속성을 반드시 지정해줘야한다.\n",
    "#predict = clf.predict_proba(x_test) \n",
    "print(predict)"
   ]
  },
  {
   "cell_type": "markdown",
   "id": "f214087a-d973-4050-a112-a4bde0ef5efd",
   "metadata": {},
   "source": [
    "***\n",
    "학습된 모델을 평가한다.\n",
    "***"
   ]
  },
  {
   "cell_type": "code",
   "execution_count": 6,
   "id": "ead81b62-d4ce-4391-a5e0-7956b7daf24c",
   "metadata": {
    "tags": []
   },
   "outputs": [
    {
     "name": "stdout",
     "output_type": "stream",
     "text": [
      "[[16  0  0]\n",
      " [ 0 21  0]\n",
      " [ 0  0  8]]\n"
     ]
    }
   ],
   "source": [
    "# 혼동 행렬\n",
    "conf_matrix = confusion_matrix(y_test, predict)\n",
    "print(conf_matrix)"
   ]
  },
  {
   "cell_type": "code",
   "execution_count": 7,
   "id": "22ebc48d-a343-4cbb-a9f2-83c51ab9d746",
   "metadata": {
    "tags": []
   },
   "outputs": [
    {
     "name": "stdout",
     "output_type": "stream",
     "text": [
      "              precision    recall  f1-score   support\n",
      "\n",
      "     class_0       1.00      1.00      1.00        16\n",
      "     class_1       1.00      1.00      1.00        21\n",
      "     class_2       1.00      1.00      1.00         8\n",
      "\n",
      "    accuracy                           1.00        45\n",
      "   macro avg       1.00      1.00      1.00        45\n",
      "weighted avg       1.00      1.00      1.00        45\n",
      "\n"
     ]
    }
   ],
   "source": [
    "#분류 리포트\n",
    "class_report = classification_report(y_test, predict, target_names=raw_data.target_names)\n",
    "print(class_report)"
   ]
  },
  {
   "cell_type": "code",
   "execution_count": null,
   "id": "f5ecff08-5a67-4847-90af-ce1495171c29",
   "metadata": {},
   "outputs": [],
   "source": []
  },
  {
   "cell_type": "code",
   "execution_count": null,
   "id": "8c761e5f-3751-4190-8ce8-63dafceb3ef4",
   "metadata": {},
   "outputs": [],
   "source": []
  },
  {
   "cell_type": "code",
   "execution_count": null,
   "id": "74bfe232-dc3a-4063-b87c-ead1cddff165",
   "metadata": {},
   "outputs": [],
   "source": []
  },
  {
   "cell_type": "code",
   "execution_count": null,
   "id": "bd99f68e-66c2-408b-beb2-b881403da0b8",
   "metadata": {},
   "outputs": [],
   "source": []
  },
  {
   "cell_type": "code",
   "execution_count": null,
   "id": "f5a51863-56e0-4f4a-a069-c67fbfbed8af",
   "metadata": {},
   "outputs": [],
   "source": []
  },
  {
   "cell_type": "code",
   "execution_count": null,
   "id": "62952aa8-190f-4dce-82d7-5cd73cfb28fa",
   "metadata": {},
   "outputs": [],
   "source": []
  },
  {
   "cell_type": "code",
   "execution_count": null,
   "id": "d5d02bf5-91c2-4110-806c-b90727f3bc92",
   "metadata": {},
   "outputs": [],
   "source": []
  },
  {
   "cell_type": "code",
   "execution_count": null,
   "id": "00c6f0f8-5c7c-48c3-b49a-54eca259e1fa",
   "metadata": {},
   "outputs": [],
   "source": []
  },
  {
   "cell_type": "code",
   "execution_count": null,
   "id": "596de671-485a-40cf-94df-4ed1b60be96d",
   "metadata": {},
   "outputs": [],
   "source": []
  },
  {
   "cell_type": "code",
   "execution_count": null,
   "id": "5d87bcdd-4a59-4212-9b42-c81def18333e",
   "metadata": {},
   "outputs": [],
   "source": []
  },
  {
   "cell_type": "code",
   "execution_count": null,
   "id": "286675af-2d1a-4bf5-a6ee-0f822eba6507",
   "metadata": {},
   "outputs": [],
   "source": []
  },
  {
   "cell_type": "code",
   "execution_count": null,
   "id": "fc58e541-fedf-4d01-b5fe-be6a3802fcb3",
   "metadata": {},
   "outputs": [],
   "source": []
  },
  {
   "cell_type": "code",
   "execution_count": null,
   "id": "daebb576-ab8c-449b-9b01-22063f359e6d",
   "metadata": {},
   "outputs": [],
   "source": []
  },
  {
   "cell_type": "code",
   "execution_count": null,
   "id": "f2a3243f-d916-4c5a-b01f-c9ddfbbb9be5",
   "metadata": {},
   "outputs": [],
   "source": []
  },
  {
   "cell_type": "code",
   "execution_count": null,
   "id": "ada24a48-1bc0-4f4e-a8bc-86a7de7e4169",
   "metadata": {},
   "outputs": [],
   "source": []
  },
  {
   "cell_type": "code",
   "execution_count": null,
   "id": "4fd84870-215a-4633-a522-be4d709f06bf",
   "metadata": {},
   "outputs": [],
   "source": []
  },
  {
   "cell_type": "code",
   "execution_count": null,
   "id": "e968b315-2b5c-4613-96fc-1520da9888fa",
   "metadata": {},
   "outputs": [],
   "source": []
  },
  {
   "cell_type": "code",
   "execution_count": null,
   "id": "347c1092-3324-47cf-a1dd-50146a15c6d3",
   "metadata": {},
   "outputs": [],
   "source": []
  },
  {
   "cell_type": "code",
   "execution_count": null,
   "id": "122db852-3d3f-477b-ab4f-38b6af9f2ab4",
   "metadata": {},
   "outputs": [],
   "source": []
  },
  {
   "cell_type": "code",
   "execution_count": null,
   "id": "d1772adb-b7e7-47f2-9a24-44bc288bc5b6",
   "metadata": {},
   "outputs": [],
   "source": []
  },
  {
   "cell_type": "code",
   "execution_count": null,
   "id": "a78bf879-49c5-459b-9fe9-1711e0b0a717",
   "metadata": {},
   "outputs": [],
   "source": []
  },
  {
   "cell_type": "code",
   "execution_count": null,
   "id": "ab42840e-5c09-46dc-bc5f-3fa9ba529574",
   "metadata": {},
   "outputs": [],
   "source": []
  },
  {
   "cell_type": "code",
   "execution_count": null,
   "id": "a3f554b3-82ca-4d00-bdd9-2d9e85bbb39c",
   "metadata": {},
   "outputs": [],
   "source": []
  },
  {
   "cell_type": "code",
   "execution_count": null,
   "id": "cdf20965-2c31-4919-a2d5-3124f97f7d5b",
   "metadata": {},
   "outputs": [],
   "source": []
  },
  {
   "cell_type": "code",
   "execution_count": null,
   "id": "692addc3-f86f-4d6e-a0bf-c16de6fdc579",
   "metadata": {},
   "outputs": [],
   "source": []
  },
  {
   "cell_type": "code",
   "execution_count": null,
   "id": "58ba67c1-e9e8-48b9-b103-a11e14f9e518",
   "metadata": {},
   "outputs": [],
   "source": []
  },
  {
   "cell_type": "code",
   "execution_count": null,
   "id": "f658cd9e-89ba-489d-9d3b-295b9dcb0f57",
   "metadata": {},
   "outputs": [],
   "source": []
  },
  {
   "cell_type": "code",
   "execution_count": null,
   "id": "9b0eb3ac-73cf-445e-910b-ef6ab134ecb6",
   "metadata": {},
   "outputs": [],
   "source": []
  },
  {
   "cell_type": "code",
   "execution_count": null,
   "id": "3c7b8557-a5c5-4a56-99f5-c780b0d655b8",
   "metadata": {},
   "outputs": [],
   "source": []
  },
  {
   "cell_type": "code",
   "execution_count": null,
   "id": "bf497686-591b-4889-862f-fc01364ec98e",
   "metadata": {},
   "outputs": [],
   "source": []
  },
  {
   "cell_type": "code",
   "execution_count": null,
   "id": "c1ac6123-5007-454c-adea-4d6b3139bfd7",
   "metadata": {},
   "outputs": [],
   "source": []
  },
  {
   "cell_type": "code",
   "execution_count": null,
   "id": "5451d40e-03e5-4587-b8f9-42f8d3227135",
   "metadata": {},
   "outputs": [],
   "source": []
  },
  {
   "cell_type": "code",
   "execution_count": null,
   "id": "c30be7e0-4315-4def-a5bd-0a938a8972b5",
   "metadata": {},
   "outputs": [],
   "source": []
  },
  {
   "cell_type": "code",
   "execution_count": null,
   "id": "50be5983-dc7b-43b3-a834-6ad88dc59bae",
   "metadata": {},
   "outputs": [],
   "source": []
  },
  {
   "cell_type": "code",
   "execution_count": null,
   "id": "64d3950e-3c7e-40b6-b221-aefaead65061",
   "metadata": {},
   "outputs": [],
   "source": []
  },
  {
   "cell_type": "code",
   "execution_count": null,
   "id": "8c6492c2-eb77-48b5-b09d-83479762e3ee",
   "metadata": {},
   "outputs": [],
   "source": []
  },
  {
   "cell_type": "code",
   "execution_count": null,
   "id": "540185e0-dc77-441a-84d3-7f22bd4a54d0",
   "metadata": {},
   "outputs": [],
   "source": []
  },
  {
   "cell_type": "code",
   "execution_count": null,
   "id": "dd64a1e1-9356-4800-af8f-62c0f77c4075",
   "metadata": {},
   "outputs": [],
   "source": []
  },
  {
   "cell_type": "code",
   "execution_count": null,
   "id": "dd1e7030-7bfb-4acb-9513-9cc0b305b980",
   "metadata": {},
   "outputs": [],
   "source": []
  },
  {
   "cell_type": "code",
   "execution_count": null,
   "id": "4c3a8fc8-ebd8-4a9e-99a6-5b0dd8956aa8",
   "metadata": {},
   "outputs": [],
   "source": []
  },
  {
   "cell_type": "code",
   "execution_count": null,
   "id": "880b12d5-89e1-4a7c-b7c6-007d115c2dfd",
   "metadata": {},
   "outputs": [],
   "source": []
  },
  {
   "cell_type": "code",
   "execution_count": null,
   "id": "771acdc5-da2f-4fef-b47d-a49da3cd2514",
   "metadata": {},
   "outputs": [],
   "source": []
  },
  {
   "cell_type": "code",
   "execution_count": null,
   "id": "cf4003cf-ffd2-4af6-a8f2-cf5a3b103008",
   "metadata": {},
   "outputs": [],
   "source": []
  },
  {
   "cell_type": "code",
   "execution_count": null,
   "id": "c74b3359-48d7-4dc1-b983-d0b0597751fc",
   "metadata": {},
   "outputs": [],
   "source": []
  },
  {
   "cell_type": "code",
   "execution_count": null,
   "id": "2f2c1f04-b27e-4c5b-a660-f47997f6e1a4",
   "metadata": {},
   "outputs": [],
   "source": []
  },
  {
   "cell_type": "code",
   "execution_count": null,
   "id": "81097bf0-ad0f-466b-b7d9-e7f3492532a3",
   "metadata": {},
   "outputs": [],
   "source": []
  },
  {
   "cell_type": "code",
   "execution_count": null,
   "id": "8f07dd6a-508d-4240-95a0-bda1f8911fe9",
   "metadata": {},
   "outputs": [],
   "source": []
  },
  {
   "cell_type": "code",
   "execution_count": null,
   "id": "6a7d315f-8ce1-4d68-b064-698faac4dd83",
   "metadata": {},
   "outputs": [],
   "source": []
  },
  {
   "cell_type": "code",
   "execution_count": null,
   "id": "67405257-a5b6-4500-a825-7275b9360028",
   "metadata": {},
   "outputs": [],
   "source": []
  },
  {
   "cell_type": "code",
   "execution_count": null,
   "id": "54f496b4-1554-4a7c-aa0f-4770004ac9a8",
   "metadata": {},
   "outputs": [],
   "source": []
  },
  {
   "cell_type": "code",
   "execution_count": null,
   "id": "7ef3f1f7-2c76-4116-92be-eaa38d2c2fe8",
   "metadata": {},
   "outputs": [],
   "source": []
  },
  {
   "cell_type": "code",
   "execution_count": null,
   "id": "90bc2a82-4313-4cdd-b1ca-be35115b6ac6",
   "metadata": {},
   "outputs": [],
   "source": []
  },
  {
   "cell_type": "code",
   "execution_count": null,
   "id": "c4a357ee-04d4-455c-ae4b-33238ce2cfe2",
   "metadata": {},
   "outputs": [],
   "source": []
  },
  {
   "cell_type": "code",
   "execution_count": null,
   "id": "06172361-da17-46d4-a51a-c4a5b980863c",
   "metadata": {},
   "outputs": [],
   "source": []
  },
  {
   "cell_type": "code",
   "execution_count": null,
   "id": "1b1148f4-ffed-439c-b54d-6852f85068c6",
   "metadata": {},
   "outputs": [],
   "source": []
  },
  {
   "cell_type": "code",
   "execution_count": null,
   "id": "8ee8af47-aafd-4215-aa9d-97b5a8e31349",
   "metadata": {},
   "outputs": [],
   "source": []
  },
  {
   "cell_type": "code",
   "execution_count": null,
   "id": "f46ae573-82b9-45ec-a0d0-caa8f6945909",
   "metadata": {},
   "outputs": [],
   "source": []
  },
  {
   "cell_type": "code",
   "execution_count": null,
   "id": "305615fb-7950-43e7-8717-f63c7e8ccd5f",
   "metadata": {},
   "outputs": [],
   "source": []
  },
  {
   "cell_type": "code",
   "execution_count": null,
   "id": "2faab543-e3a2-4ad6-9ef0-e0d19a280b3d",
   "metadata": {},
   "outputs": [],
   "source": []
  },
  {
   "cell_type": "code",
   "execution_count": null,
   "id": "fcd8d810-a4ee-4360-a795-d795abe961a0",
   "metadata": {},
   "outputs": [],
   "source": []
  },
  {
   "cell_type": "code",
   "execution_count": null,
   "id": "8baeca57-6747-4f2e-bdac-950de4ebc28e",
   "metadata": {},
   "outputs": [],
   "source": []
  },
  {
   "cell_type": "code",
   "execution_count": null,
   "id": "96a91b0f-ea27-4e9b-a6c1-1884e1c4f0f0",
   "metadata": {},
   "outputs": [],
   "source": []
  },
  {
   "cell_type": "code",
   "execution_count": null,
   "id": "c96b43fc-7d14-456a-836f-3eeb0801293d",
   "metadata": {},
   "outputs": [],
   "source": []
  },
  {
   "cell_type": "code",
   "execution_count": null,
   "id": "da716867-d891-4ba2-82a2-683f8670da67",
   "metadata": {},
   "outputs": [],
   "source": []
  }
 ],
 "metadata": {
  "kernelspec": {
   "display_name": "Python [conda env:.conda-py3.7] *",
   "language": "python",
   "name": "conda-env-.conda-py3.7-py"
  },
  "language_info": {
   "codemirror_mode": {
    "name": "ipython",
    "version": 3
   },
   "file_extension": ".py",
   "mimetype": "text/x-python",
   "name": "python",
   "nbconvert_exporter": "python",
   "pygments_lexer": "ipython3",
   "version": "3.7.1"
  }
 },
 "nbformat": 4,
 "nbformat_minor": 5
}
