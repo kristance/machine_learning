{
 "cells": [
  {
   "cell_type": "code",
   "execution_count": 1,
   "id": "a836ecab-63ad-4c14-a816-2216d4bc15fa",
   "metadata": {
    "tags": []
   },
   "outputs": [],
   "source": [
    "import warnings\n",
    "warnings.filterwarnings(action='ignore')\n",
    "%config Completer.use_jedi = False\n",
    "import numpy as np\n",
    "import pandas as pd\n",
    "import matplotlib.pyplot as plt\n",
    "import matplotlib as mpl\n",
    "mpl.rcParams['axes.unicode_minus'] = False\n",
    "plt.rcParams['font.family'] = 'RIDIBatang'\n",
    "plt.rcParams['font.size'] = 10\n",
    "import seaborn as sns\n",
    "\n",
    "from sklearn import datasets\n",
    "from sklearn.model_selection import train_test_split\n",
    "from sklearn.preprocessing import StandardScaler\n",
    "from sklearn.metrics import accuracy_score\n",
    "from sklearn.metrics import confusion_matrix\n",
    "from sklearn.metrics import classification_report\n",
    "from sklearn.metrics import mean_squared_error  \n",
    "from sklearn.metrics import mean_absolute_error\n",
    "from sklearn.metrics import r2_score\n",
    "from sklearn.metrics import precision_score \n",
    "from sklearn.metrics import recall_score\n",
    "from sklearn.metrics import f1_score"
   ]
  },
  {
   "cell_type": "markdown",
   "id": "63031b17-086a-4c5a-a34d-e97fbd343e19",
   "metadata": {},
   "source": [
    "***\n",
    "차원 축소(Dimension Reduction)\n",
    "***\n",
    "데이터에는 중요한 부분과 중요하지 않은 부분이 존재한다.  \n",
    "중요하지 않은 부분을 노이즈(Noise)라 하며, 노이즈는 데이터에서 정보를 얻을 때 방해가 되는 부분을 의미한다.  \n",
    "머신러닝 과정에서 불필요한 노이즈를 제거하는 것이 중요하고, 노이즈를 제거할 때 사용하는 방법이 차원 축소이다.  \n",
    "\n",
    "차원 축소를 통해 데이터의 중요하지 않은 부분인 노이즈를 제거할 수 있기에 차원 축소 기법이 널리 사용되고 있다.  \n",
    "\n",
    "차원 축소는 주어진 데이터의 정보 손실을 최소화하면서 줄이는 것이 핵심이다.  \n",
    "차원 축소는 특징을 추출한다는 것과 밀접한 관련이 있고, 특징을 추출한다는 것은 데이터에서 두드러진 면을 찾는 것과 같다.  \n",
    "\n",
    "차원 축소는 비지도 학습 차원 축소로도 접근할 수 있고, 지도 학습 차원 축소로도 접근할 수도 있다.  \n",
    "비지도 학습적인 접근 방법에는 대표적으로 주성분 분석(Principal Component Analysis)과 같은 방법이 있고,  \n",
    "지도 학습적인 접근 방법에는 선형 판별 분석(Linear Discriminame Analysis)과 같은 방법이 있다.\n",
    "\n",
    "***\n",
    "차원의 저주(curse of dimension)\n",
    "***\n",
    "\n",
    "차원 축소를 하는 이유 중 하나는 차원의 저주 문제를 해결할 수 있기때문이다.  \n",
    "차원의 저주란 데이터의 차원(피쳐의 갯수)이 커질수록 해당 차원을 표현하기 위해 필요한 데이터가 기하급수적으로 많아짐을 의미한다.   \n",
    "학습 데이터셋의 차원이 클수록 차원의 저주때문에 해당 공간을 적절히 표현하지 못하고, 과대 적합될 확률이 높아진다."
   ]
  },
  {
   "cell_type": "markdown",
   "id": "b5d97f9a-3abd-45cb-b5df-0d57faa44dcd",
   "metadata": {},
   "source": [
    "***\n",
    "주성분 분석은 차원 축소 방법의 하나로 여러 피쳐가 통계적으로 서로 상관관계가 없도록 변환시키는 방법이다.\n",
    "\n",
    "주성분 분석은 피쳐 간 상관관계를 기반으로 데이터의 특성을 파악한다.  \n",
    "먼저, 데이터셋의 공분산 행렬의 고유값과 고유 벡터를 구한다. \n",
    "이때, 고유값은 고유 벡터의 크기를 나타내고 분산의 크기를 의미한다. 또한 고유 벡터는 분산의 방향을 의미한다.  \n",
    "분산이 큰 고유 벡터에 기존 데이터를 투영해서 새로운 벡터를 구할 수 있는데, 이 벡터를 주성분 벡터이라고 한다.\n",
    "***"
   ]
  },
  {
   "cell_type": "markdown",
   "id": "3deabe19-3255-4ea6-a098-ddecf5e17d3e",
   "metadata": {},
   "source": [
    "\n",
    "공분산을 안다는 것은 상관계수도 알 수 있다는 뜻이다. 고유 벡터를 통해 알 수있는 사실은 각 피쳐의 분산 방향을 알 수 있고, 고유값을 통해서는 분산의 크기를 알 수 있다.  \n",
    "즉, 데이터가 여러 방향으로 흩어져 있을 때 고유 벡터를 사용하면 각 흩어짐에 대한 방향을 파악할 수 있으며, 고유값을 이용하면 어느정도 흩어져 있는지 그 크기를 확인할 수 있다.  \n",
    "\n",
    "공분산의 행렬이  P차원이라면 고유값도 P개를 구할 수 있다. 고유값은 데이터의 흩어진 정도의 크기라고 했으므로 P개를 모두 더하면 데이터셋 전체의 변동성이 된다.  \n",
    "전체 변동성 대비 i번째 주성분이 설명하는 비율을 수식으로 나타내면 아래와 같다.  \n",
    "\n",
    "$$\\frac{\\lambda_i}{\\lambda_1 + \\lambda_2 + \\lambda_3 + \\dots + \\lambda_p}$$\n",
    "\n",
    "\n",
    "위의 식을 이용하면 해당 고유값이 전체 변동성의 크기 중 어느 정도 설명하는지 알 수 있다. 이를 설명된 분산 (Explained Variance)이라고 한다.  \n",
    "예를 들면, P차원의 데이터를 2차원으로 줄이기로 하면, 가장 큰 고유값 2개를 $\\lambda_1, \\lambda_2$라고 하고, 이를 설명된 분산을 구하기 위해 아래처럼 구했다고 가정한다면\n",
    "\n",
    "$$\\frac{\\lambda_1 + \\lambda_2}{\\lambda_1 + \\lambda_2 + \\lambda_3 + \\dots + \\lambda_p} = 0.94$$\n",
    "\n",
    "위 결과를 통해 전체 변동성 $\\lambda_1, \\lambda_2$로 설명된느 변동성이 94%라는 것을 알 수 있다.  \n",
    "즉, 전체 P차원의 데이터를 2차원으로 줄였을 때, 전체 변동성의 94%가 설명 가능하다는 것이다. \n",
    "***\n"
   ]
  },
  {
   "cell_type": "markdown",
   "id": "db0043c5-383b-4fe3-9ebe-2f778f7c9a67",
   "metadata": {},
   "source": [
    "와인 데이터를 이용해 주성분 분석을 통해 차원을 축소해 본 후 차우너을 축소하기 전과 차원을 축소한 후 정확도가 어떻게 달라지는지 알아본다.\n",
    "***"
   ]
  },
  {
   "cell_type": "code",
   "execution_count": 2,
   "id": "5cd949ef-94a4-4b91-a74a-754529b5e31a",
   "metadata": {
    "tags": []
   },
   "outputs": [
    {
     "name": "stdout",
     "output_type": "stream",
     "text": [
      "(178, 13) (178,)\n",
      "(133, 13) (45, 13) (133,) (45,)\n"
     ]
    }
   ],
   "source": [
    "# 데이터 불러오기\n",
    "raw_data = datasets.load_wine() # 사이킷런이 제공하는 와인 데이터를 불러온다.\n",
    "\n",
    "# 피쳐, 레이블 데이터 저장\n",
    "xData = raw_data.data # 피쳐 데이터를 저장한다.\n",
    "yData = raw_data.target # 피쳐 데이터에 따른 레이블을 저장한다.\n",
    "print(xData.shape, yData.shape)\n",
    "\n",
    "# 학습 데이터와 테스트 데이터로 분할\n",
    "x_train, x_test, y_train, y_test = train_test_split(xData, yData, random_state=0)\n",
    "print(x_train.shape, x_test.shape, y_train.shape, y_test.shape)\n",
    "\n",
    "# 데이터 표준화\n",
    "std_scale = StandardScaler() # 표준화 스케일러 객체를 만든다.\n",
    "x_train = std_scale.fit_transform(x_train) # 학습 데이터를 스케일러로 표준화하고 적용한다.\n",
    "x_test = std_scale.transform(x_test) # 테스트 데이터를 학습 데이터로 표준화된 스케일러에 적용한다.\n"
   ]
  },
  {
   "cell_type": "markdown",
   "id": "4e8a7a26-a63b-4bad-997b-b7e7caa78388",
   "metadata": {},
   "source": [
    "***\n",
    "주성분 분석을 통한 차원 축소\n",
    "***"
   ]
  },
  {
   "cell_type": "code",
   "execution_count": 3,
   "id": "82aefd0e-b853-4215-898b-5d3c326e858e",
   "metadata": {
    "tags": []
   },
   "outputs": [
    {
     "name": "stdout",
     "output_type": "stream",
     "text": [
      "(133, 2) (45, 2)\n"
     ]
    }
   ],
   "source": [
    "from sklearn.decomposition import PCA # 주성분 분석 알고리즘 사용\n",
    "\n",
    "#n_components 속성에 축소할 차원의 크기를 지정하고 주성분 분석 모델 객체를 만든다.\n",
    "pca = PCA(n_components=2)\n",
    "\n",
    "#pca.fit(x_train) # 학습 데이터로 주성분 분석 모델을 학습\n",
    "#x_train = pca.transform(x_train) # 학습된 주성분 분석 모델에 학습 데이터를 적용\n",
    "x_train_pca = pca.fit_transform(x_train)\n",
    "\n",
    "# 학습은 학습 데이터로만 해야하고 테스트 데이터는 학습 데이터로 학습된 결과에 적용만 시킨다.\n",
    "x_test_pca = pca.transform(x_test)\n",
    "\n",
    "# 차원 축소 이전 데이터의 차원을 확인하면 차원 축소 전의 피쳐 데이터는 13차원의 데이터 133개로 구성되어 있음을 알 수 있고, \n",
    "# 주성분 분석을 이용, 차원 축소한 데이터는 2차원의 데이터 133개로 구성되어 있음을 알 수 있다. \n",
    "print(x_train_pca.shape, x_test_pca.shape) # ::before (133, 13) (45, 13) -> ::after (133, 2) (45, 2)"
   ]
  },
  {
   "cell_type": "code",
   "execution_count": 4,
   "id": "6195d00a-6726-4796-ab96-e8c129ece787",
   "metadata": {
    "tags": []
   },
   "outputs": [
    {
     "name": "stdout",
     "output_type": "stream",
     "text": [
      "[[ 1.09915015  0.07084878  0.29200815 -0.19021916  0.31314949  0.33631366\n",
      "   0.27857191 -0.15183097  0.24675731  0.46056315 -0.08451718  0.0678613\n",
      "   0.52254184]\n",
      " [ 0.07084878  0.88645357  0.15270652  0.24405452 -0.03410475 -0.3717228\n",
      "  -0.4461403   0.3374758  -0.29928379  0.35254849 -0.44772203 -0.47242887\n",
      "  -0.15427996]\n",
      " [ 0.29200815  0.15270652  0.71036656 -0.00831644  0.13494112  0.03441575\n",
      "  -0.01708121  0.04041271  0.01649682  0.33126838 -0.18710436 -0.12411702\n",
      "   0.19306093]\n",
      " [-0.19021916  0.24405452 -0.00831644  0.78863789 -0.15840422 -0.42328103\n",
      "  -0.45504504  0.31926786 -0.33062168  0.07126745 -0.30244884 -0.3856564\n",
      "  -0.33788566]\n",
      " [ 0.31314949 -0.03410475  0.13494112 -0.15840422  0.70900685  0.26779674\n",
      "   0.25018881 -0.15571699  0.20193364  0.18990996  0.04375683  0.13559734\n",
      "   0.32921721]\n",
      " [ 0.33631366 -0.3717228   0.03441575 -0.42328103  0.26779674  1.20231404\n",
      "   0.72342148 -0.50434344  0.52889224 -0.07605509  0.46090655  0.60068158\n",
      "   0.56048398]\n",
      " [ 0.27857191 -0.4461403  -0.01708121 -0.45504504  0.25018881  0.72342148\n",
      "   1.31049617 -0.55682153  0.56680644 -0.17851244  0.55252716  0.68527628\n",
      "   0.54961375]\n",
      " [-0.15183097  0.3374758   0.04041271  0.31926786 -0.15571699 -0.50434344\n",
      "  -0.55682153  0.92205577 -0.39674855  0.17610649 -0.41764387 -0.50157591\n",
      "  -0.35779494]\n",
      " [ 0.24675731 -0.29928379  0.01649682 -0.33062168  0.20193364  0.52889224\n",
      "   0.56680644 -0.39674855  0.9364615  -0.07798525  0.37096292  0.47677672\n",
      "   0.42762553]\n",
      " [ 0.46056315  0.35254849  0.33126838  0.07126745  0.18990996 -0.07605509\n",
      "  -0.17851244  0.17610649 -0.07798525  1.13950937 -0.4330736  -0.34744157\n",
      "   0.2355313 ]\n",
      " [-0.08451718 -0.44772203 -0.18710436 -0.30244884  0.04375683  0.46090655\n",
      "   0.55252716 -0.41764387  0.37096292 -0.4330736   1.0762792   0.58390206\n",
      "   0.19328854]\n",
      " [ 0.0678613  -0.47242887 -0.12411702 -0.3856564   0.13559734  0.60068158\n",
      "   0.68527628 -0.50157591  0.47677672 -0.34744157  0.58390206  1.18458752\n",
      "   0.35849423]\n",
      " [ 0.52254184 -0.15427996  0.19306093 -0.33788566  0.32921721  0.56048398\n",
      "   0.54961375 -0.35779494  0.42762553  0.2355313   0.19328854  0.35849423\n",
      "   1.13316626]]\n"
     ]
    }
   ],
   "source": [
    "# 공분산 행렬을 확인한다.\n",
    "# get_covariance() 메소드로 차원 축소에 사용된 공분산 행렬을 얻어올 수 있다. \n",
    "print(pca.get_covariance())"
   ]
  },
  {
   "cell_type": "code",
   "execution_count": 5,
   "id": "7d2ba71a-8994-45ae-95d0-a3484fea30fc",
   "metadata": {
    "tags": []
   },
   "outputs": [
    {
     "name": "stdout",
     "output_type": "stream",
     "text": [
      "[25.3887705  18.00040359]\n"
     ]
    }
   ],
   "source": [
    "# 고유값을 확인한다.\n",
    "# singular_values_ 속성으로 고유값을 확인할 수 있다.\n",
    "# 13차원의 학습 데이터를 2차원으로 차원 축소했으므로 2개의 고유값을 확인할 수 있다.\n",
    "print(pca.singular_values_)"
   ]
  },
  {
   "cell_type": "code",
   "execution_count": 6,
   "id": "86e7ffb7-7a84-4534-901d-4e17035c4dc8",
   "metadata": {
    "tags": []
   },
   "outputs": [
    {
     "name": "stdout",
     "output_type": "stream",
     "text": [
      "[[ 0.14285263 -0.24443441 -0.01392104 -0.24517361  0.1315099   0.38923734\n",
      "   0.42471766 -0.30128613  0.30523465 -0.10462106  0.30267149  0.37266737\n",
      "   0.29150867]\n",
      " [-0.50194071 -0.23015832 -0.31022311  0.03872248 -0.23858952 -0.09688729\n",
      "  -0.01451474 -0.03693926 -0.0584635  -0.54240798  0.28168064  0.16944035\n",
      "  -0.35182263]]\n"
     ]
    }
   ],
   "source": [
    "# 고유벡터를 확인한다. \n",
    "# components_ 속성으로 고유벡터를 확인할 수 있다. \n",
    "# 고유벡터는 각 고유값에 대응하는 벡터로, 이 고유 벡터가 주성분 벡터이다.\n",
    "print(pca.components_)"
   ]
  },
  {
   "cell_type": "code",
   "execution_count": 7,
   "id": "047ac784-3e5b-4105-9184-cbfac7e825d6",
   "metadata": {
    "tags": []
   },
   "outputs": [
    {
     "name": "stdout",
     "output_type": "stream",
     "text": [
      "[4.88325506 2.45465553]\n",
      "[0.37281068 0.18739996]\n",
      "0.5602106402185468\n"
     ]
    }
   ],
   "source": [
    "# 차원 축소를 통해 얻어진 주성분 벡터가 전체 분산 대비 설명하는 정도를 살펴본다.\n",
    "# explained_variance_ 속성으로 '설명되는 분산'을 확인 할 수 있다.\n",
    "print(pca.explained_variance_)\n",
    "\n",
    "# explained_variance_ratio_ 속성으로 전체 분산 대비 '설명되는 분산'을 확인 할 수 있다.\n",
    "# 첫번째 주성분은 전체 분산의 37.3%를, 두번째 주성분은 전체 분산은 18.7% 정도를 설명한다는 것을 알 수 있다. \n",
    "print(pca.explained_variance_ratio_)\n",
    "\n",
    "# 첫번째, 두번쨰 주성분으로 전체 분산의 56% 정도를 설명한다.                                                                                  \n",
    "print(sum(pca.explained_variance_ratio_))"
   ]
  },
  {
   "cell_type": "markdown",
   "id": "2d893030-ea4f-4497-816c-7ee7235c21ab",
   "metadata": {},
   "source": [
    "***\n",
    "주성분 분석을 통해 차원 축소된 데이터 시각화\n",
    "***"
   ]
  },
  {
   "cell_type": "code",
   "execution_count": 8,
   "id": "9a86a48a-f51c-447a-80b7-889c237e907e",
   "metadata": {
    "tags": []
   },
   "outputs": [
    {
     "data": {
      "text/html": [
       "<div>\n",
       "<style scoped>\n",
       "    .dataframe tbody tr th:only-of-type {\n",
       "        vertical-align: middle;\n",
       "    }\n",
       "\n",
       "    .dataframe tbody tr th {\n",
       "        vertical-align: top;\n",
       "    }\n",
       "\n",
       "    .dataframe thead th {\n",
       "        text-align: right;\n",
       "    }\n",
       "</style>\n",
       "<table border=\"1\" class=\"dataframe\">\n",
       "  <thead>\n",
       "    <tr style=\"text-align: right;\">\n",
       "      <th></th>\n",
       "      <th>PCA_compute1</th>\n",
       "      <th>PCA_compute2</th>\n",
       "      <th>label</th>\n",
       "    </tr>\n",
       "  </thead>\n",
       "  <tbody>\n",
       "    <tr>\n",
       "      <th>0</th>\n",
       "      <td>2.128500</td>\n",
       "      <td>-1.019732</td>\n",
       "      <td>0</td>\n",
       "    </tr>\n",
       "    <tr>\n",
       "      <th>1</th>\n",
       "      <td>-2.948125</td>\n",
       "      <td>-0.254807</td>\n",
       "      <td>2</td>\n",
       "    </tr>\n",
       "    <tr>\n",
       "      <th>2</th>\n",
       "      <td>1.919795</td>\n",
       "      <td>1.337012</td>\n",
       "      <td>1</td>\n",
       "    </tr>\n",
       "    <tr>\n",
       "      <th>3</th>\n",
       "      <td>-2.133376</td>\n",
       "      <td>-0.945897</td>\n",
       "      <td>2</td>\n",
       "    </tr>\n",
       "    <tr>\n",
       "      <th>4</th>\n",
       "      <td>2.236803</td>\n",
       "      <td>-2.269839</td>\n",
       "      <td>0</td>\n",
       "    </tr>\n",
       "    <tr>\n",
       "      <th>...</th>\n",
       "      <td>...</td>\n",
       "      <td>...</td>\n",
       "      <td>...</td>\n",
       "    </tr>\n",
       "    <tr>\n",
       "      <th>128</th>\n",
       "      <td>-0.540398</td>\n",
       "      <td>2.693526</td>\n",
       "      <td>1</td>\n",
       "    </tr>\n",
       "    <tr>\n",
       "      <th>129</th>\n",
       "      <td>0.294211</td>\n",
       "      <td>2.430463</td>\n",
       "      <td>1</td>\n",
       "    </tr>\n",
       "    <tr>\n",
       "      <th>130</th>\n",
       "      <td>-0.033184</td>\n",
       "      <td>2.066114</td>\n",
       "      <td>1</td>\n",
       "    </tr>\n",
       "    <tr>\n",
       "      <th>131</th>\n",
       "      <td>2.886899</td>\n",
       "      <td>-0.714086</td>\n",
       "      <td>0</td>\n",
       "    </tr>\n",
       "    <tr>\n",
       "      <th>132</th>\n",
       "      <td>-2.392796</td>\n",
       "      <td>-2.132222</td>\n",
       "      <td>2</td>\n",
       "    </tr>\n",
       "  </tbody>\n",
       "</table>\n",
       "<p>133 rows × 3 columns</p>\n",
       "</div>"
      ],
      "text/plain": [
       "     PCA_compute1  PCA_compute2  label\n",
       "0        2.128500     -1.019732      0\n",
       "1       -2.948125     -0.254807      2\n",
       "2        1.919795      1.337012      1\n",
       "3       -2.133376     -0.945897      2\n",
       "4        2.236803     -2.269839      0\n",
       "..            ...           ...    ...\n",
       "128     -0.540398      2.693526      1\n",
       "129      0.294211      2.430463      1\n",
       "130     -0.033184      2.066114      1\n",
       "131      2.886899     -0.714086      0\n",
       "132     -2.392796     -2.132222      2\n",
       "\n",
       "[133 rows x 3 columns]"
      ]
     },
     "execution_count": 8,
     "metadata": {},
     "output_type": "execute_result"
    }
   ],
   "source": [
    "# 차원 축소한 데이터 시각화를 위해 데이터 프레임을 만든다.\n",
    "x_train_df = pd.DataFrame(x_train_pca, columns=['PCA_compute1', 'PCA_compute2'])\n",
    "x_train_df[\"label\"] = y_train\n",
    "x_train_df"
   ]
  },
  {
   "cell_type": "code",
   "execution_count": 9,
   "id": "2d00651a-8a00-4c02-bbb1-37ab8ed535c6",
   "metadata": {
    "tags": []
   },
   "outputs": [
    {
     "data": {
      "image/png": "[encoded data removed]",
      "text/plain": [
       "<Figure size 1000x700 with 1 Axes>"
      ]
     },
     "metadata": {},
     "output_type": "display_data"
    }
   ],
   "source": [
    "plt.figure(figsize=[10, 7])\n",
    "# 레이블이 적용되지 않은 경우, 각 데이터가 어떤 와인 클래스를 나타내는지 알 수 없다.\n",
    "plt.scatter(x=x_train_df.PCA_compute1, y=x_train_df.PCA_compute2, marker=\"*\")\n",
    "plt.title(\"레이블 미적용 주성분 분석 데이터 시각화\")\n",
    "plt.xlabel(\"PCA_Comp_1\")\n",
    "plt.ylabel(\"PCA_Comp_2\")\n",
    "plt.show()"
   ]
  },
  {
   "cell_type": "code",
   "execution_count": 10,
   "id": "a851b488-5095-4952-92db-1dde7c8f6779",
   "metadata": {
    "tags": []
   },
   "outputs": [
    {
     "data": {
      "image/png": "[encoded data removed]",
      "text/plain": [
       "<Figure size 1000x700 with 1 Axes>"
      ]
     },
     "metadata": {},
     "output_type": "display_data"
    }
   ],
   "source": [
    "plt.figure(figsize=[10, 7])\n",
    "# 레이블이 적용되면 각 데이터가 어떤 와인 클래스를 나타내는지 알 수 있다.\n",
    "# 레이블 별로 데이터를 분할한다.\n",
    "df_0 = x_train_df[x_train_df.label ==0]\n",
    "df_1= x_train_df[x_train_df.label == 1]\n",
    "df_2 = x_train_df[x_train_df.label == 2]\n",
    "\n",
    "# 레이블 별로 분할된 데이터에 첫번째 주성분 벡터를 추출한다.\n",
    "pca_x0 = df_0.PCA_compute1\n",
    "pca_x1 = df_1.PCA_compute1\n",
    "pca_x2 = df_2.PCA_compute1\n",
    "\n",
    "# 레이블 별로 분할된 데이터에 두번째 주성분 벡터를 추출한다.\n",
    "pca_y0 = df_0.PCA_compute2\n",
    "pca_y1 = df_1.PCA_compute2\n",
    "pca_y2 = df_2.PCA_compute2\n",
    "\n",
    "# 레이블 이름을 지정한다.\n",
    "label0 = raw_data.target_names[0]\n",
    "label1 = raw_data.target_names[1]\n",
    "label2 = raw_data.target_names[2]\n",
    "\n",
    "# 산포도를 그린다.\n",
    "plt.scatter(x=pca_x0, y=pca_y0, marker=\"*\", label= label0 )\n",
    "plt.scatter(x=pca_x1, y=pca_y1, marker=\"s\", label= label1 )\n",
    "plt.scatter(x=pca_x2, y=pca_y2, marker=\"o\", label= label2 )\n",
    "\n",
    "\n",
    "\n",
    "\n",
    "plt.title(\"레이블 적용된 주성분 분석 데이터 시각화\")\n",
    "plt.xlabel(\"PCA_Comp_1\")\n",
    "plt.ylabel(\"PCA_Comp_2\")\n",
    "plt.legend()\n",
    "plt.show()"
   ]
  },
  {
   "cell_type": "code",
   "execution_count": 19,
   "id": "21dc27bf-df0b-4375-9b44-ba264da92648",
   "metadata": {
    "tags": []
   },
   "outputs": [
    {
     "data": {
      "image/png": "[encoded data removed]",
      "text/plain": [
       "<Figure size 1000x700 with 1 Axes>"
      ]
     },
     "metadata": {},
     "output_type": "display_data"
    }
   ],
   "source": [
    "# 위 셀의 시각화 코드를 반복문을 사용해서 만든다.\n",
    "plt.figure(figsize=[10, 7])\n",
    "markers = [\"o\", \"*\", \"s\"]\n",
    "\n",
    "for index, marker in enumerate(markers):\n",
    "     df_index = x_train_df[x_train_df.label == index] # 레이블 별로 데이터를 분할한다.\n",
    "     x = df_index.PCA_compute1 # 레이블 별로 분할된 데이터에 첫번째 주성분 벡터를 추출한다.\n",
    "     y = df_index.PCA_compute2 # 레이블 별로 분할된 데이터에 두번째 주성분 벡터를 추출한다.\n",
    "     label = raw_data.target_names[index] # 레이블 이름을 지정한다.\n",
    "     plt.scatter(x=x, y=y, marker=marker, label= label ) # 산포도를 그린다.\n",
    "\n",
    "plt.title(\"레이블 적용된 주성분 분석 데이터 시각화\")\n",
    "plt.xlabel(\"PCA_Comp_1\")\n",
    "plt.ylabel(\"PCA_Comp_2\")\n",
    "plt.legend()\n",
    "plt.show()"
   ]
  },
  {
   "cell_type": "markdown",
   "id": "88219bb5-7154-421c-9df1-c46f2fbaa7ff",
   "metadata": {},
   "source": [
    "***\n",
    "주성분 분석 적용 전 데이터 학습 x_train\n",
    "***"
   ]
  },
  {
   "cell_type": "code",
   "execution_count": 12,
   "id": "929b252a-bacc-4f97-9ad0-ad31c0301b27",
   "metadata": {},
   "outputs": [],
   "source": [
    "from sklearn.ensemble import RandomForestClassifier"
   ]
  },
  {
   "cell_type": "code",
   "execution_count": 14,
   "id": "afa6c412-d459-4bb4-bc16-e3d78b56a8e6",
   "metadata": {
    "tags": []
   },
   "outputs": [
    {
     "name": "stdout",
     "output_type": "stream",
     "text": [
      "[0 2 1 0 1 1 0 2 1 1 2 2 0 1 2 1 0 0 2 0 1 0 0 1 1 1 1 1 1 2 0 0 1 0 0 0 2\n",
      " 1 1 2 0 0 1 1 1]\n"
     ]
    },
    {
     "data": {
      "text/plain": [
       "array([[16,  0,  0],\n",
       "       [ 0, 20,  1],\n",
       "       [ 0,  0,  8]], dtype=int64)"
      ]
     },
     "execution_count": 14,
     "metadata": {},
     "output_type": "execute_result"
    }
   ],
   "source": [
    "rfc = RandomForestClassifier(max_depth=4, random_state=0) # 랜덤 포레스트 모델 객체 생성\n",
    "rfc.fit(x_train, y_train) # 학습\n",
    "predict = rfc.predict(x_test) #예측\n",
    "print(predict)\n",
    "confusion_matrix(y_test, predict) #혼동행렬"
   ]
  },
  {
   "cell_type": "code",
   "execution_count": 15,
   "id": "6437dd8a-b8aa-42d6-aabc-8703372f16f7",
   "metadata": {
    "tags": []
   },
   "outputs": [
    {
     "name": "stdout",
     "output_type": "stream",
     "text": [
      "              precision    recall  f1-score   support\n",
      "\n",
      "           0       1.00      1.00      1.00        16\n",
      "           1       1.00      0.95      0.98        21\n",
      "           2       0.89      1.00      0.94         8\n",
      "\n",
      "    accuracy                           0.98        45\n",
      "   macro avg       0.96      0.98      0.97        45\n",
      "weighted avg       0.98      0.98      0.98        45\n",
      "\n"
     ]
    }
   ],
   "source": [
    "print(classification_report(y_test, predict))"
   ]
  },
  {
   "cell_type": "markdown",
   "id": "b263a478-f402-4d25-84e6-891eb2d1a972",
   "metadata": {},
   "source": [
    "***\n",
    "주성분 분석 적용 후 데이터 학습 x_train_pca\n",
    "***"
   ]
  },
  {
   "cell_type": "code",
   "execution_count": 17,
   "id": "eaddf084-5ad1-4d06-abbb-5047ce932d8e",
   "metadata": {
    "tags": []
   },
   "outputs": [
    {
     "name": "stdout",
     "output_type": "stream",
     "text": [
      "[0 2 1 0 1 0 0 2 1 1 2 2 0 1 2 1 0 0 1 0 1 0 0 1 1 1 1 1 1 2 0 0 1 0 0 0 2\n",
      " 1 1 2 0 0 1 1 1]\n"
     ]
    },
    {
     "data": {
      "text/plain": [
       "array([[16,  0,  0],\n",
       "       [ 1, 20,  0],\n",
       "       [ 0,  0,  8]], dtype=int64)"
      ]
     },
     "execution_count": 17,
     "metadata": {},
     "output_type": "execute_result"
    }
   ],
   "source": [
    "# 표준화된 학습 데이터와 학습 데이터에 따른 레이블 데이터를 주성분 분석을 적용한 데이터로 앙상블 랜덤 포레스트 모델을 학습시킨다.\n",
    "rfc.fit(x_train_pca, y_train) # 학습; 주성분 분석 후 x_train_pca\n",
    "predict = rfc.predict(x_test_pca) #예측\n",
    "print(predict)\n",
    "confusion_matrix(y_test, predict) # 혼동행렬"
   ]
  },
  {
   "cell_type": "code",
   "execution_count": 18,
   "id": "80aba88a-5bf1-4a49-9717-a644b8c0b758",
   "metadata": {},
   "outputs": [
    {
     "name": "stdout",
     "output_type": "stream",
     "text": [
      "              precision    recall  f1-score   support\n",
      "\n",
      "           0       0.94      1.00      0.97        16\n",
      "           1       1.00      0.95      0.98        21\n",
      "           2       1.00      1.00      1.00         8\n",
      "\n",
      "    accuracy                           0.98        45\n",
      "   macro avg       0.98      0.98      0.98        45\n",
      "weighted avg       0.98      0.98      0.98        45\n",
      "\n"
     ]
    }
   ],
   "source": [
    "print(classification_report(y_test, predict))"
   ]
  },
  {
   "cell_type": "markdown",
   "id": "1982c528-c63b-4d18-a448-515989b8d7b6",
   "metadata": {},
   "source": [
    "***\n",
    "PCA를 적용한 데이터의 정확도가 96%로 나타나는데, 이는 PCA 적용 이전보다 2%정도 줄어든 정확도를 보여준다.  \n",
    "PCA 적용 이전에는 13차원 데이터였으나, 이를 11차원이나 줄여 2차원 데이터로 줄였음에도 불구하고 정확도는 약 2%정도의 감소밖에 되지 않았다.  \n",
    "학습 비용을 고려할 때, 차원 축소를 이용하면 학습 비용 대비 정확도 감소는 적다고 보아 효율적이라 볼 수 있다.  \n",
    "\n",
    "실제로 고차원 데이터의 경우, 시스템 리소스가 부족해 학습이 어려운 경우가 있는데 차원 축소는 이러한 문제를 해결해 준다.  \n",
    "***"
   ]
  },
  {
   "cell_type": "code",
   "execution_count": null,
   "id": "e9cc84d8-9c48-43d0-bf1a-3d213ea147dc",
   "metadata": {},
   "outputs": [],
   "source": []
  },
  {
   "cell_type": "code",
   "execution_count": null,
   "id": "8ca79ec7-99fd-4425-ba96-714f7e9d3cd5",
   "metadata": {},
   "outputs": [],
   "source": []
  },
  {
   "cell_type": "code",
   "execution_count": null,
   "id": "52c6cba8-e8eb-4101-9082-e19fce844b70",
   "metadata": {},
   "outputs": [],
   "source": []
  },
  {
   "cell_type": "code",
   "execution_count": null,
   "id": "0b25180a-a32a-4437-b69f-a726b415b4b1",
   "metadata": {},
   "outputs": [],
   "source": []
  },
  {
   "cell_type": "code",
   "execution_count": null,
   "id": "2c252218-c6e2-402e-b964-d6ea379c9635",
   "metadata": {},
   "outputs": [],
   "source": []
  },
  {
   "cell_type": "code",
   "execution_count": null,
   "id": "0d885dd9-e67c-4cf7-83a8-fa4d3ccc9a8e",
   "metadata": {},
   "outputs": [],
   "source": []
  },
  {
   "cell_type": "code",
   "execution_count": null,
   "id": "d3c84625-1560-46e4-8ea2-caaf8cd321e4",
   "metadata": {},
   "outputs": [],
   "source": []
  },
  {
   "cell_type": "code",
   "execution_count": null,
   "id": "b4dd49a7-3f2c-4250-a40f-11ae5cb7366f",
   "metadata": {},
   "outputs": [],
   "source": []
  },
  {
   "cell_type": "code",
   "execution_count": null,
   "id": "70aa41f4-2de5-4592-8bb1-40a712bde7e5",
   "metadata": {},
   "outputs": [],
   "source": []
  },
  {
   "cell_type": "code",
   "execution_count": null,
   "id": "535a3511-9acb-421a-8135-bf93a1107ea3",
   "metadata": {},
   "outputs": [],
   "source": []
  },
  {
   "cell_type": "code",
   "execution_count": null,
   "id": "c99d1ec9-b95f-4d4b-8d20-43904186c33f",
   "metadata": {},
   "outputs": [],
   "source": []
  },
  {
   "cell_type": "code",
   "execution_count": null,
   "id": "544ca3b9-6966-4719-9424-362eb3fc221c",
   "metadata": {},
   "outputs": [],
   "source": []
  },
  {
   "cell_type": "code",
   "execution_count": null,
   "id": "bc19291d-70ee-4739-9185-842c6ca36123",
   "metadata": {},
   "outputs": [],
   "source": []
  },
  {
   "cell_type": "code",
   "execution_count": null,
   "id": "744b3920-837d-45ff-971f-89fac6b27562",
   "metadata": {},
   "outputs": [],
   "source": []
  },
  {
   "cell_type": "code",
   "execution_count": null,
   "id": "a43c2f50-6292-4438-893a-5154349b3280",
   "metadata": {},
   "outputs": [],
   "source": []
  },
  {
   "cell_type": "code",
   "execution_count": null,
   "id": "c10ecdae-6bb8-400d-b770-0fca1730c63a",
   "metadata": {},
   "outputs": [],
   "source": []
  },
  {
   "cell_type": "code",
   "execution_count": null,
   "id": "3a22cb89-6cdf-4944-a10f-1ec86453c048",
   "metadata": {},
   "outputs": [],
   "source": []
  },
  {
   "cell_type": "code",
   "execution_count": null,
   "id": "7ef111ec-76d4-4fb7-9c28-1a922f5acf89",
   "metadata": {},
   "outputs": [],
   "source": []
  },
  {
   "cell_type": "code",
   "execution_count": null,
   "id": "57c2a7ff-4d1c-42e5-9eee-f98497242032",
   "metadata": {},
   "outputs": [],
   "source": []
  },
  {
   "cell_type": "code",
   "execution_count": null,
   "id": "4e699f0e-c5bc-4a5c-ad6e-a9449b44e052",
   "metadata": {},
   "outputs": [],
   "source": []
  },
  {
   "cell_type": "code",
   "execution_count": null,
   "id": "292d7245-e3ef-4fa6-a3ce-905333cd7d94",
   "metadata": {},
   "outputs": [],
   "source": []
  },
  {
   "cell_type": "code",
   "execution_count": null,
   "id": "165e1399-eca0-4652-b11a-85e819f8f0b1",
   "metadata": {},
   "outputs": [],
   "source": []
  },
  {
   "cell_type": "code",
   "execution_count": null,
   "id": "9e1c5e17-3002-470f-8bed-d333b6b8b058",
   "metadata": {},
   "outputs": [],
   "source": []
  },
  {
   "cell_type": "code",
   "execution_count": null,
   "id": "f7225b1d-63b9-4041-a2bb-35b74050c3e0",
   "metadata": {},
   "outputs": [],
   "source": []
  },
  {
   "cell_type": "code",
   "execution_count": null,
   "id": "e58ef6c0-4438-4bdc-97f8-04d29de1131d",
   "metadata": {},
   "outputs": [],
   "source": []
  },
  {
   "cell_type": "code",
   "execution_count": null,
   "id": "231a1716-c79f-457c-a8fe-c7404095c6b6",
   "metadata": {},
   "outputs": [],
   "source": []
  },
  {
   "cell_type": "code",
   "execution_count": null,
   "id": "473f639f-c2ff-47f0-a863-9b92b9448be8",
   "metadata": {},
   "outputs": [],
   "source": []
  },
  {
   "cell_type": "code",
   "execution_count": null,
   "id": "0d978fb8-8910-4393-b080-7008c4957661",
   "metadata": {},
   "outputs": [],
   "source": []
  },
  {
   "cell_type": "code",
   "execution_count": null,
   "id": "d8cc9760-f353-4d50-949a-debccac66aa4",
   "metadata": {},
   "outputs": [],
   "source": []
  },
  {
   "cell_type": "code",
   "execution_count": null,
   "id": "4a3a2587-1600-4d1f-aceb-953685ff5307",
   "metadata": {},
   "outputs": [],
   "source": []
  },
  {
   "cell_type": "code",
   "execution_count": null,
   "id": "0a841693-ebf1-4d87-8f76-44537926281e",
   "metadata": {},
   "outputs": [],
   "source": []
  },
  {
   "cell_type": "code",
   "execution_count": null,
   "id": "0916876f-8be9-42b6-8b2e-555709a6cf8e",
   "metadata": {},
   "outputs": [],
   "source": []
  },
  {
   "cell_type": "code",
   "execution_count": null,
   "id": "fa7054d9-cc43-45b6-b09a-55e4e3008731",
   "metadata": {},
   "outputs": [],
   "source": []
  },
  {
   "cell_type": "code",
   "execution_count": null,
   "id": "1a42eca3-c9b5-4c44-8408-261169824862",
   "metadata": {},
   "outputs": [],
   "source": []
  },
  {
   "cell_type": "code",
   "execution_count": null,
   "id": "25842792-8ab7-4b61-ba16-8846847116bb",
   "metadata": {},
   "outputs": [],
   "source": []
  },
  {
   "cell_type": "code",
   "execution_count": null,
   "id": "48a6f17a-c9e5-400a-bae6-b17d9e69ad1c",
   "metadata": {},
   "outputs": [],
   "source": []
  },
  {
   "cell_type": "code",
   "execution_count": null,
   "id": "895e8c17-7ff6-414a-b7bc-8153d3234d78",
   "metadata": {},
   "outputs": [],
   "source": []
  },
  {
   "cell_type": "code",
   "execution_count": null,
   "id": "8959333c-44e8-43b4-9bd9-eb0349f0fdcf",
   "metadata": {},
   "outputs": [],
   "source": []
  },
  {
   "cell_type": "code",
   "execution_count": null,
   "id": "66652009-bf70-4332-aa5d-76d58da20129",
   "metadata": {},
   "outputs": [],
   "source": []
  },
  {
   "cell_type": "code",
   "execution_count": null,
   "id": "fd58dd74-3a8c-45ab-8ab3-a7c481c17e20",
   "metadata": {},
   "outputs": [],
   "source": []
  },
  {
   "cell_type": "code",
   "execution_count": null,
   "id": "613ee1bc-d25e-43b9-8f8e-638953bf2317",
   "metadata": {},
   "outputs": [],
   "source": []
  },
  {
   "cell_type": "code",
   "execution_count": null,
   "id": "fc971049-87d7-438b-89ca-924647dbc2f3",
   "metadata": {},
   "outputs": [],
   "source": []
  },
  {
   "cell_type": "code",
   "execution_count": null,
   "id": "954de4df-d0bc-4055-a496-3d22d521050d",
   "metadata": {},
   "outputs": [],
   "source": []
  },
  {
   "cell_type": "code",
   "execution_count": null,
   "id": "6dd06ed0-6dcd-4156-bef2-d5a31b2e4dd7",
   "metadata": {},
   "outputs": [],
   "source": []
  },
  {
   "cell_type": "code",
   "execution_count": null,
   "id": "85106227-c4c7-435e-bd18-8ab23bbb653b",
   "metadata": {},
   "outputs": [],
   "source": []
  }
 ],
 "metadata": {
  "kernelspec": {
   "display_name": "Python [conda env:.conda-py3.7] *",
   "language": "python",
   "name": "conda-env-.conda-py3.7-py"
  },
  "language_info": {
   "codemirror_mode": {
    "name": "ipython",
    "version": 3
   },
   "file_extension": ".py",
   "mimetype": "text/x-python",
   "name": "python",
   "nbconvert_exporter": "python",
   "pygments_lexer": "ipython3",
   "version": "3.7.1"
  }
 },
 "nbformat": 4,
 "nbformat_minor": 5
}
