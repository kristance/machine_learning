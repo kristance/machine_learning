{
 "cells": [
  {
   "cell_type": "code",
   "execution_count": 1,
   "id": "8eb2f50d-e99e-4d6a-93cf-c8e68d626590",
   "metadata": {
    "tags": []
   },
   "outputs": [
    {
     "name": "stdout",
     "output_type": "stream",
     "text": [
      "WARNING:tensorflow:From C:\\Users\\tj\\.conda\\envs\\py3.7\\lib\\site-packages\\tensorflow\\python\\compat\\v2_compat.py:107: disable_resource_variables (from tensorflow.python.ops.variable_scope) is deprecated and will be removed in a future version.\n",
      "Instructions for updating:\n",
      "non-resource variables are not supported in the long term\n"
     ]
    }
   ],
   "source": [
    "import warnings\n",
    "warnings.filterwarnings(action='ignore')\n",
    "%config Completer.use_jedi = False\n",
    "import tensorflow.compat.v1 as tf\n",
    "tf.disable_v2_behavior()\n",
    "import numpy as np"
   ]
  },
  {
   "cell_type": "markdown",
   "id": "920f5bbd-fd0a-43ab-8762-d2878982d134",
   "metadata": {},
   "source": [
    "***\n",
    "LSTM(Long Short Term Memory)\n",
    "***\n",
    "LSTM은 RNN에서 발생되는 단점 기울기 소실(Gradient Vanishing) 또는 기울기 폭주 (Gradient Exploding)와 같은 RNN의 단점을 극복하고자  \n",
    "만들어진 좀더 진화된 RNN으로 LSTM 셀 내부를 살펴보면 기존 RNN의 단점을 극복하기 위해 이전의 정보를 지우거나 기억하기 위한 로직과  \n",
    "현재 정보를 기억하기 위한 로직이 추가로 구현되어 있다.  \n",
    "아래 그림을 보면 RNN에서 보지못했던 황색 선과 조금더 많아진 활성화 함수와 수학 기호들을 볼수 있다."
   ]
  },
  {
   "cell_type": "markdown",
   "id": "09cd1526-c7ea-43b0-b0ca-f8a286d0ca03",
   "metadata": {},
   "source": [
    "<img src=\"./LSTM (2).png\">"
   ]
  },
  {
   "cell_type": "markdown",
   "id": "13cab012-0f25-439f-8578-08e21c6a6123",
   "metadata": {},
   "source": [
    "***\n",
    "황색선은 메모리셀이라 부른다.  \n",
    "황색선상의 곱하기 기호(*)에서 시그모이드의 출력값이 곱해지게 되어 메모리셀의 기존 정보를 어느정도까지 기억할지 결정하게 된다.  \n",
    "황색선상의 더하기 기호(+)에서 새로운 정보와 시그모이드의 출력값이 곱해지게 되어 새로운 정보를 어느 정도까지 메모리셀의 기존 정보에 더할지 결정하는 로직이다.\n",
    "\n",
    "h<sub>t</sub> 선상의 곱하기 기호에서 메모리셀의 정보와 현재 정보가 계산되어 출력(상태)값을 출력한다.\n",
    "***"
   ]
  },
  {
   "cell_type": "markdown",
   "id": "cc16fbb9-45d5-4656-bb67-5690129f1278",
   "metadata": {},
   "source": [
    "***\n",
    "tensorflow에는 이미 LSTM이 구현되어있기 때문에 위 그림을 직접 구현할 필요는 없고, 아래 그림만 이해해도 사용하는데 무리가 없다.\n",
    "***"
   ]
  },
  {
   "cell_type": "markdown",
   "id": "f98ac4c9-569e-4b9c-8175-a295d8b6a4df",
   "metadata": {},
   "source": [
    "<img src=\"./LSTM (3).png\">"
   ]
  },
  {
   "cell_type": "markdown",
   "id": "0496a6a8-25b0-43f0-98ba-257e282dde6d",
   "metadata": {},
   "source": [
    "***\n",
    "LSTM의 출력값 및 상태값, 메모리셀 값을 확인한다.\n",
    "***"
   ]
  },
  {
   "cell_type": "code",
   "execution_count": 2,
   "id": "1f468f1d-419b-404d-82df-b03f30a88a8d",
   "metadata": {
    "tags": []
   },
   "outputs": [],
   "source": [
    "inputs = np.array([[[1, 2]]])\n",
    "#print(inputs) # [[[1 2]]]\n",
    "#print(inputs.shape) # (1, 1, 2)"
   ]
  },
  {
   "cell_type": "code",
   "execution_count": 3,
   "id": "cd198ebb-b088-4c09-b95a-184e8e865874",
   "metadata": {
    "tags": []
   },
   "outputs": [
    {
     "name": "stdout",
     "output_type": "stream",
     "text": [
      "입력데이터 -> [[[1. 2.]]]\n"
     ]
    }
   ],
   "source": [
    "tf.set_random_seed(35)\n",
    "tf_inputs = tf.constant(inputs, dtype=tf.float32)\n",
    "sess = tf.Session()\n",
    "print('입력데이터 -> {}'.format(sess.run(tf_inputs)))"
   ]
  },
  {
   "cell_type": "markdown",
   "id": "19c804a2-2053-4a61-9869-f7007735a9f5",
   "metadata": {},
   "source": [
    "***\n",
    "LSTM 셀을 만든다.\n",
    "***"
   ]
  },
  {
   "cell_type": "code",
   "execution_count": 4,
   "id": "b37c5d11-154c-4e27-9d7e-d4f373a1a972",
   "metadata": {
    "tags": []
   },
   "outputs": [
    {
     "name": "stdout",
     "output_type": "stream",
     "text": [
      "WARNING:tensorflow:From C:\\Users\\tj\\AppData\\Local\\Temp\\ipykernel_13356\\1214245838.py:3: dynamic_rnn (from tensorflow.python.ops.rnn) is deprecated and will be removed in a future version.\n",
      "Instructions for updating:\n",
      "Please use `keras.layers.RNN(cell)`, which is equivalent to this API\n",
      "WARNING:tensorflow:From C:\\Users\\tj\\.conda\\envs\\py3.7\\lib\\site-packages\\keras\\layers\\rnn\\legacy_cells.py:1048: calling Zeros.__init__ (from tensorflow.python.ops.init_ops) with dtype is deprecated and will be removed in a future version.\n",
      "Instructions for updating:\n",
      "Call initializer instance with the dtype argument instead of passing it to the constructor\n"
     ]
    }
   ],
   "source": [
    "#LSTMCell() 객체를 생성할 때 생성자의 인수 num_units로 RNN 셀의 갯수를 지정해서 RNN 객체를 생성한다.\n",
    "lstm_cell = tf.nn.rnn_cell.LSTMCell(num_units=1)\n",
    "outputs, state = tf.nn.dynamic_rnn(cell=lstm_cell, dtype=tf.float32, inputs=tf_inputs)"
   ]
  },
  {
   "cell_type": "code",
   "execution_count": 11,
   "id": "70d5f84f-1e2f-4cf4-a8f5-567839563468",
   "metadata": {
    "tags": []
   },
   "outputs": [
    {
     "name": "stdout",
     "output_type": "stream",
     "text": [
      "LSTM 출력값\n",
      "[[[-0.01633656]]]\n",
      "LSTM 최종 상태값\n",
      "[[-0.01633656]]\n",
      "LSTM 메모리셀\n",
      "[[-0.01633656]]\n"
     ]
    }
   ],
   "source": [
    "with tf.Session() as sess:\n",
    "     sess.run(tf.global_variables_initializer())\n",
    "     outputs_, state_ = sess.run([outputs, state])\n",
    "     print('LSTM 출력값\\n',outputs_ ,sep='') # y\n",
    "     print('LSTM 최종 상태값\\n',state_.h ,sep='')\n",
    "     print('LSTM 메모리셀\\n',state_.h ,sep='')"
   ]
  },
  {
   "cell_type": "code",
   "execution_count": null,
   "id": "bcf500cb-4909-4c44-9d88-b0a32ef64d92",
   "metadata": {},
   "outputs": [],
   "source": []
  },
  {
   "cell_type": "code",
   "execution_count": null,
   "id": "96ccdab5-0821-4908-bfb1-a6d9d28e1399",
   "metadata": {},
   "outputs": [],
   "source": []
  },
  {
   "cell_type": "code",
   "execution_count": null,
   "id": "cb69108b-08e2-496b-a266-cb6d41a6eb5e",
   "metadata": {},
   "outputs": [],
   "source": []
  },
  {
   "cell_type": "code",
   "execution_count": null,
   "id": "d723beb4-c876-4c7c-b605-dfccf2975173",
   "metadata": {},
   "outputs": [],
   "source": []
  },
  {
   "cell_type": "code",
   "execution_count": null,
   "id": "af0432c7-92ce-4df6-a0cd-469e1e033538",
   "metadata": {},
   "outputs": [],
   "source": []
  },
  {
   "cell_type": "code",
   "execution_count": null,
   "id": "8b042148-40e8-4071-9a1a-2e1a3ad76c16",
   "metadata": {},
   "outputs": [],
   "source": []
  },
  {
   "cell_type": "code",
   "execution_count": null,
   "id": "8f347557-ca4a-4df8-b8fd-9782674e301d",
   "metadata": {},
   "outputs": [],
   "source": []
  },
  {
   "cell_type": "code",
   "execution_count": null,
   "id": "35ceeef8-3812-448e-ac50-7a4826082740",
   "metadata": {},
   "outputs": [],
   "source": []
  },
  {
   "cell_type": "code",
   "execution_count": null,
   "id": "939a8d0f-80d4-427c-a348-5aa4c1301e8f",
   "metadata": {},
   "outputs": [],
   "source": []
  },
  {
   "cell_type": "code",
   "execution_count": null,
   "id": "e903da6d-08be-47b1-a619-58f7e0926020",
   "metadata": {},
   "outputs": [],
   "source": []
  },
  {
   "cell_type": "code",
   "execution_count": null,
   "id": "34018061-34eb-472d-bf81-37f0dff11085",
   "metadata": {},
   "outputs": [],
   "source": []
  },
  {
   "cell_type": "code",
   "execution_count": null,
   "id": "b9292e0c-3bbc-4cba-9adf-ec64aed03c77",
   "metadata": {},
   "outputs": [],
   "source": []
  },
  {
   "cell_type": "code",
   "execution_count": null,
   "id": "932ff8c5-6b1c-4233-a920-dc609d380b93",
   "metadata": {},
   "outputs": [],
   "source": []
  },
  {
   "cell_type": "code",
   "execution_count": null,
   "id": "ef67be83-d0b7-4de2-9d35-0c96ea865439",
   "metadata": {},
   "outputs": [],
   "source": []
  },
  {
   "cell_type": "code",
   "execution_count": null,
   "id": "32c950fe-2a48-4125-aba8-6448cec8cc7b",
   "metadata": {},
   "outputs": [],
   "source": []
  },
  {
   "cell_type": "code",
   "execution_count": null,
   "id": "8338fffc-9096-43d3-8249-014645107ce8",
   "metadata": {},
   "outputs": [],
   "source": []
  },
  {
   "cell_type": "code",
   "execution_count": null,
   "id": "742d67a9-b9cf-46b6-965e-f7d20249d4cf",
   "metadata": {},
   "outputs": [],
   "source": []
  },
  {
   "cell_type": "code",
   "execution_count": null,
   "id": "5a9ba7f3-e0b0-4eb3-bae3-c8d54d3a790b",
   "metadata": {},
   "outputs": [],
   "source": []
  },
  {
   "cell_type": "code",
   "execution_count": null,
   "id": "e4b01554-4e9c-4dbb-aad9-8e285f7c85da",
   "metadata": {},
   "outputs": [],
   "source": []
  },
  {
   "cell_type": "code",
   "execution_count": null,
   "id": "9696df27-c05e-4213-adc7-a790cd67db2d",
   "metadata": {},
   "outputs": [],
   "source": []
  },
  {
   "cell_type": "code",
   "execution_count": null,
   "id": "35123819-8c5a-4b7f-9a1b-e8b117514d65",
   "metadata": {},
   "outputs": [],
   "source": []
  },
  {
   "cell_type": "code",
   "execution_count": null,
   "id": "6a1ce1a8-fae4-4512-9635-63c9c17cc3bb",
   "metadata": {},
   "outputs": [],
   "source": []
  },
  {
   "cell_type": "code",
   "execution_count": null,
   "id": "b2c21a50-e839-4c95-88f6-15d9649617e5",
   "metadata": {},
   "outputs": [],
   "source": []
  },
  {
   "cell_type": "code",
   "execution_count": null,
   "id": "0fb56de6-585f-400b-b165-047f3df2f103",
   "metadata": {},
   "outputs": [],
   "source": []
  },
  {
   "cell_type": "code",
   "execution_count": null,
   "id": "d76d11f5-d4d8-4bce-bc3f-18f7a415cba9",
   "metadata": {},
   "outputs": [],
   "source": []
  },
  {
   "cell_type": "code",
   "execution_count": null,
   "id": "b06d2e47-5892-4799-bdc5-8c1948f1c677",
   "metadata": {},
   "outputs": [],
   "source": []
  },
  {
   "cell_type": "code",
   "execution_count": null,
   "id": "dcbb8dd2-0dce-4dcb-afcf-6f9d65770fbf",
   "metadata": {},
   "outputs": [],
   "source": []
  },
  {
   "cell_type": "code",
   "execution_count": null,
   "id": "4d741697-6b30-41b7-adc5-8bcc876014a3",
   "metadata": {},
   "outputs": [],
   "source": []
  },
  {
   "cell_type": "code",
   "execution_count": null,
   "id": "7e787344-8c12-4fed-8218-d82182802e72",
   "metadata": {},
   "outputs": [],
   "source": []
  },
  {
   "cell_type": "code",
   "execution_count": null,
   "id": "39dd70a5-5f64-4c92-89ea-b68a4ec9df40",
   "metadata": {},
   "outputs": [],
   "source": []
  },
  {
   "cell_type": "code",
   "execution_count": null,
   "id": "65e0d2be-2ca1-42c0-8be7-2491b4ba938f",
   "metadata": {},
   "outputs": [],
   "source": []
  },
  {
   "cell_type": "code",
   "execution_count": null,
   "id": "0bd431b8-eef4-43d1-b8e6-8ba90a6dbd3c",
   "metadata": {},
   "outputs": [],
   "source": []
  },
  {
   "cell_type": "code",
   "execution_count": null,
   "id": "377b75f8-9a26-460b-bbff-e9f6870edbdf",
   "metadata": {},
   "outputs": [],
   "source": []
  },
  {
   "cell_type": "code",
   "execution_count": null,
   "id": "a9d207da-9b70-4875-ae66-71dc09f5e320",
   "metadata": {},
   "outputs": [],
   "source": []
  },
  {
   "cell_type": "code",
   "execution_count": null,
   "id": "3c1d4f92-34b7-4236-890b-56c13c389f6e",
   "metadata": {},
   "outputs": [],
   "source": []
  },
  {
   "cell_type": "code",
   "execution_count": null,
   "id": "53e781ed-da8c-456a-94e8-f252c7c48fba",
   "metadata": {},
   "outputs": [],
   "source": []
  },
  {
   "cell_type": "code",
   "execution_count": null,
   "id": "f6a044b0-9135-4d9c-a451-0e5cec9537af",
   "metadata": {},
   "outputs": [],
   "source": []
  },
  {
   "cell_type": "code",
   "execution_count": null,
   "id": "b2e9aeae-d10e-4bb3-8500-e037648c037b",
   "metadata": {},
   "outputs": [],
   "source": []
  },
  {
   "cell_type": "code",
   "execution_count": null,
   "id": "337f8f4e-b7d6-45e0-8913-3f01e7441bd5",
   "metadata": {},
   "outputs": [],
   "source": []
  },
  {
   "cell_type": "code",
   "execution_count": null,
   "id": "f5674926-76d7-43dd-9467-ff4fbc1a0b83",
   "metadata": {},
   "outputs": [],
   "source": []
  },
  {
   "cell_type": "code",
   "execution_count": null,
   "id": "e8366951-50fa-4aba-9353-a253a65c62ad",
   "metadata": {},
   "outputs": [],
   "source": []
  },
  {
   "cell_type": "code",
   "execution_count": null,
   "id": "950e4ce2-f488-4071-abae-48518740d760",
   "metadata": {},
   "outputs": [],
   "source": []
  },
  {
   "cell_type": "code",
   "execution_count": null,
   "id": "24937b22-f6df-4dc2-bc54-96ab1b37573f",
   "metadata": {},
   "outputs": [],
   "source": []
  },
  {
   "cell_type": "code",
   "execution_count": null,
   "id": "814d6eca-7ed3-4384-afbb-61ca0ec77621",
   "metadata": {},
   "outputs": [],
   "source": []
  },
  {
   "cell_type": "code",
   "execution_count": null,
   "id": "bc63b85f-6023-4594-832f-9bc32d65b77b",
   "metadata": {},
   "outputs": [],
   "source": []
  },
  {
   "cell_type": "code",
   "execution_count": null,
   "id": "2a628388-e868-40d8-879f-698e6a6a7a7f",
   "metadata": {},
   "outputs": [],
   "source": []
  },
  {
   "cell_type": "code",
   "execution_count": null,
   "id": "c5b58ec3-c2aa-4cae-8b39-c6c6f90ee0bb",
   "metadata": {},
   "outputs": [],
   "source": []
  },
  {
   "cell_type": "code",
   "execution_count": null,
   "id": "31509a7c-e427-4eaf-b061-7c8f15ab573d",
   "metadata": {},
   "outputs": [],
   "source": []
  },
  {
   "cell_type": "code",
   "execution_count": null,
   "id": "a6cb71e8-bcd5-4f6a-8c44-51acde94d88c",
   "metadata": {},
   "outputs": [],
   "source": []
  },
  {
   "cell_type": "code",
   "execution_count": null,
   "id": "9c151733-8284-4e64-9025-bbca6da1dd05",
   "metadata": {},
   "outputs": [],
   "source": []
  },
  {
   "cell_type": "code",
   "execution_count": null,
   "id": "0cbcb9e6-8995-41ee-85fc-bf96285d4477",
   "metadata": {},
   "outputs": [],
   "source": []
  }
 ],
 "metadata": {
  "kernelspec": {
   "display_name": "Python [conda env:.conda-py3.7] *",
   "language": "python",
   "name": "conda-env-.conda-py3.7-py"
  },
  "language_info": {
   "codemirror_mode": {
    "name": "ipython",
    "version": 3
   },
   "file_extension": ".py",
   "mimetype": "text/x-python",
   "name": "python",
   "nbconvert_exporter": "python",
   "pygments_lexer": "ipython3",
   "version": "3.7.1"
  }
 },
 "nbformat": 4,
 "nbformat_minor": 5
}
