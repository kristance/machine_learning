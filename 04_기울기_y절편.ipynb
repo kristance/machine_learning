{
 "cells": [
  {
   "cell_type": "code",
   "execution_count": 1,
   "id": "a3569011",
   "metadata": {},
   "outputs": [
    {
     "name": "stdout",
     "output_type": "stream",
     "text": [
      "WARNING:tensorflow:From C:\\Users\\tj\\.conda\\envs\\py3.7\\lib\\site-packages\\tensorflow\\python\\compat\\v2_compat.py:107: disable_resource_variables (from tensorflow.python.ops.variable_scope) is deprecated and will be removed in a future version.\n",
      "Instructions for updating:\n",
      "non-resource variables are not supported in the long term\n"
     ]
    }
   ],
   "source": [
    " %config Completer.use_jedi = False                                       \n",
    "import warnings                                                             \n",
    "warnings.filterwarnings(action=\"ignore\")\n",
    "import tensorflow.compat.v1 as tf\n",
    "tf.disable_v2_behavior()"
   ]
  },
  {
   "cell_type": "markdown",
   "id": "7264ef70",
   "metadata": {},
   "source": [
    "***\n",
    "기울기와 y절편을 계산할 데이터를 만든다.\n",
    "***"
   ]
  },
  {
   "cell_type": "code",
   "execution_count": 2,
   "id": "7f03cba8",
   "metadata": {},
   "outputs": [],
   "source": [
    "xData = [2, 4, 6, 8] # 공부시간\n",
    "yData = [81, 93, 91, 97] # 공부시간에 따른 시험점수 -> 실제값"
   ]
  },
  {
   "cell_type": "markdown",
   "id": "19039cda",
   "metadata": {},
   "source": [
    "***\n",
    "공부시간과 공부시간에 따른 데이터를 데이터프레임으로 만든다.\n",
    "***"
   ]
  },
  {
   "cell_type": "code",
   "execution_count": 3,
   "id": "15794050",
   "metadata": {},
   "outputs": [],
   "source": [
    "import numpy as np                                                          \n",
    "import pandas as pd                                                       \n",
    "import matplotlib.pyplot as plt     \n",
    "import matplotlib as mpl  \n",
    "mpl.rcParams['axes.unicode_minus'] = False                                  \n",
    "import matplotlib.font_manager as fm\n",
    "font = 'C:\\\\Windows\\\\Fonts\\\\JetBrainsMono-Regular.ttf'\n",
    "fontprop = fm.FontProperties(fname=font, size=16).get_name()\n",
    "plt.rc('font', family = 'NanumGothicCoding')\n",
    "plt.rc('font', size = 16)\n",
    "import seaborn as sns                                                       \n",
    "import missingno as msno                           "
   ]
  },
  {
   "cell_type": "code",
   "execution_count": 4,
   "id": "6ed3ba90",
   "metadata": {},
   "outputs": [
    {
     "data": {
      "text/html": [
       "<div>\n",
       "<style scoped>\n",
       "    .dataframe tbody tr th:only-of-type {\n",
       "        vertical-align: middle;\n",
       "    }\n",
       "\n",
       "    .dataframe tbody tr th {\n",
       "        vertical-align: top;\n",
       "    }\n",
       "\n",
       "    .dataframe thead th {\n",
       "        text-align: right;\n",
       "    }\n",
       "</style>\n",
       "<table border=\"1\" class=\"dataframe\">\n",
       "  <thead>\n",
       "    <tr style=\"text-align: right;\">\n",
       "      <th></th>\n",
       "      <th>x</th>\n",
       "      <th>y</th>\n",
       "    </tr>\n",
       "  </thead>\n",
       "  <tbody>\n",
       "    <tr>\n",
       "      <th>0</th>\n",
       "      <td>2</td>\n",
       "      <td>81</td>\n",
       "    </tr>\n",
       "    <tr>\n",
       "      <th>1</th>\n",
       "      <td>4</td>\n",
       "      <td>93</td>\n",
       "    </tr>\n",
       "    <tr>\n",
       "      <th>2</th>\n",
       "      <td>6</td>\n",
       "      <td>91</td>\n",
       "    </tr>\n",
       "    <tr>\n",
       "      <th>3</th>\n",
       "      <td>8</td>\n",
       "      <td>97</td>\n",
       "    </tr>\n",
       "  </tbody>\n",
       "</table>\n",
       "</div>"
      ],
      "text/plain": [
       "   x   y\n",
       "0  2  81\n",
       "1  4  93\n",
       "2  6  91\n",
       "3  8  97"
      ]
     },
     "execution_count": 4,
     "metadata": {},
     "output_type": "execute_result"
    }
   ],
   "source": [
    "df = pd.DataFrame(columns=['x', 'y']) # 빈 데이터프레임을 만든다.\n",
    "# 빈 데이터프레임에 데이터를 넣을 때는 loc[index]를 사용해서 리스트 형태의 데이터를 넣어주면 된다.\n",
    "df.loc[0] = [2, 81]\n",
    "df.loc[1] = [4, 93]\n",
    "df.loc[2] = [6, 91]\n",
    "df.loc[3] = [8, 97]\n",
    "df"
   ]
  },
  {
   "cell_type": "markdown",
   "id": "a48cc220",
   "metadata": {},
   "source": [
    "***\n",
    "공부시간과 공부시간에 따른 시험점수 시각화\n",
    "***"
   ]
  },
  {
   "cell_type": "code",
   "execution_count": 5,
   "id": "c5e68781",
   "metadata": {},
   "outputs": [
    {
     "data": {
      "image/png": "[encoded data removed]",
      "text/plain": [
       "<Figure size 800x600 with 1 Axes>"
      ]
     },
     "metadata": {},
     "output_type": "display_data"
    }
   ],
   "source": [
    "plt.figure(figsize=[8, 6])\n",
    "sns.scatterplot(df, x = 'x', y = 'y', s = 100)\n",
    "plt.title('공부시간에 따른 시험점수')\n",
    "plt.xlabel('공부시간')\n",
    "plt.ylabel('시험점수')\n",
    "plt.show()"
   ]
  },
  {
   "cell_type": "markdown",
   "id": "02c5f66e",
   "metadata": {},
   "source": [
    "***\n",
    "기울기 공식\n",
    "***\n",
    "$\\frac{\\sum_{i = 0}^{n - 1}(x_i - \\bar x)(y_i - \\bar y)}{\\sum_{i = 0}^{n - 1}(x_i - \\bar x)^2}$"
   ]
  },
  {
   "cell_type": "code",
   "execution_count": 6,
   "id": "f57a51e3",
   "metadata": {},
   "outputs": [
    {
     "name": "stdout",
     "output_type": "stream",
     "text": [
      "공부시간의 평균 -> 5.0시간, 공부시간에 따른 시험점수의 평균 -> 90.5점\n"
     ]
    }
   ],
   "source": [
    "#공부시간과 공부시간에 따른 시험점수의 평균을 계산한다.\n",
    "mean_x = np.mean(xData) # 공부시간의 평균\n",
    "mean_y = np.mean(yData)\n",
    "print('공부시간의 평균 -> {}시간, 공부시간에 따른 시험점수의 평균 -> {}점'.format(mean_x, mean_y))"
   ]
  },
  {
   "cell_type": "code",
   "execution_count": 30,
   "id": "7308d207",
   "metadata": {},
   "outputs": [
    {
     "name": "stdout",
     "output_type": "stream",
     "text": [
      "46.0\n"
     ]
    }
   ],
   "source": [
    "# 기울기 공식에서 분자를 계산하는 함수\n",
    "def top(xData, mean_x, yData, mean_y):\n",
    "    total = 0\n",
    "    '''\n",
    "    for i in range(len(xData)):\n",
    "        sess = tf.Session()\n",
    "        x = tf.placeholder(dtype=tf.float64)\n",
    "        y = tf.placeholder(dtype=tf.float64)\n",
    "        A = x[i] - mean_x\n",
    "        B = y[i] - mean_y\n",
    "        Z = A * B\n",
    "        sess.run(tf.global_variables_initializer())\n",
    "        result_1 = sess.run(Z, feed_dict={ x : xData, y : yData})\n",
    "        total += result_1\n",
    "    '''\n",
    "    for i in range(len(xData)):\n",
    "        total += (xData[i] - mean_x) * (yData[i] - mean_y)\n",
    "    # ----- for i\n",
    "    return total\n",
    "\n",
    "numerator  = top(xData, mean_x, yData, mean_y)\n",
    "print(numerator )"
   ]
  },
  {
   "cell_type": "code",
   "execution_count": 34,
   "id": "23a887a8",
   "metadata": {},
   "outputs": [
    {
     "name": "stdout",
     "output_type": "stream",
     "text": [
      "20.0\n"
     ]
    }
   ],
   "source": [
    "# 기울기 공식에서 분모를 계산하는 함수\n",
    "def bottom(xData, mean_x):\n",
    "    total = 0\n",
    "    '''\n",
    "    for j in range(len(xData)):\n",
    "        sess = tf.Session()\n",
    "        x = tf.placeholder(dtype=tf.float64)\n",
    "        A = x[j] - mean_x\n",
    "        B = tf.square(A)\n",
    "        result_2 = sess.run(B, feed_dict={x : xData})\n",
    "        total += result_2\n",
    "    '''\n",
    "    for j in range(len(xData)):\n",
    "        #total += (xData[j] - mean_x) * (xData[j] - mean_x)\n",
    "        total += (xData[j] - mean_x) ** 2\n",
    "    #------- for j\n",
    "    \n",
    "    return total\n",
    "denominator = bottom(xData, mean_x)\n",
    "print(denominator)"
   ]
  },
  {
   "cell_type": "code",
   "execution_count": 35,
   "id": "6a2cd805",
   "metadata": {},
   "outputs": [
    {
     "name": "stdout",
     "output_type": "stream",
     "text": [
      "기울기 공식의 분자 -> 46.0, 기울기 공식의 분모 -> 20.0\n",
      "기울기 -> 2.3\n"
     ]
    }
   ],
   "source": [
    "print('기울기 공식의 분자 -> {}, 기울기 공식의 분모 -> {}'.format(numerator, denominator))\n",
    "a = numerator / denominator\n",
    "print('기울기 -> {}'.format (a))"
   ]
  },
  {
   "cell_type": "markdown",
   "id": "2dd72685",
   "metadata": {},
   "source": [
    "***\n",
    "y절편 공식\n",
    "***\n"
   ]
  },
  {
   "cell_type": "code",
   "execution_count": 36,
   "id": "4665f3c9",
   "metadata": {},
   "outputs": [
    {
     "name": "stdout",
     "output_type": "stream",
     "text": [
      "y절편 -> 79.0\n"
     ]
    }
   ],
   "source": [
    "b = mean_y - (a * mean_x)\n",
    "print('y절편 -> {}'.format(b))"
   ]
  },
  {
   "cell_type": "code",
   "execution_count": null,
   "id": "d6eb3533",
   "metadata": {},
   "outputs": [],
   "source": []
  },
  {
   "cell_type": "code",
   "execution_count": null,
   "id": "d85aa130",
   "metadata": {},
   "outputs": [],
   "source": []
  },
  {
   "cell_type": "code",
   "execution_count": null,
   "id": "9b1517c0",
   "metadata": {},
   "outputs": [],
   "source": []
  },
  {
   "cell_type": "code",
   "execution_count": null,
   "id": "be90dd8c",
   "metadata": {},
   "outputs": [],
   "source": []
  },
  {
   "cell_type": "code",
   "execution_count": null,
   "id": "777efd8d",
   "metadata": {},
   "outputs": [],
   "source": []
  },
  {
   "cell_type": "code",
   "execution_count": null,
   "id": "bbfb3392",
   "metadata": {},
   "outputs": [],
   "source": []
  },
  {
   "cell_type": "code",
   "execution_count": null,
   "id": "32d18b20",
   "metadata": {},
   "outputs": [],
   "source": []
  },
  {
   "cell_type": "code",
   "execution_count": null,
   "id": "c5889410",
   "metadata": {},
   "outputs": [],
   "source": []
  },
  {
   "cell_type": "code",
   "execution_count": null,
   "id": "c4cc4d40",
   "metadata": {},
   "outputs": [],
   "source": []
  },
  {
   "cell_type": "code",
   "execution_count": null,
   "id": "e8f10c63",
   "metadata": {},
   "outputs": [],
   "source": []
  },
  {
   "cell_type": "code",
   "execution_count": null,
   "id": "9a618aa5",
   "metadata": {},
   "outputs": [],
   "source": []
  },
  {
   "cell_type": "code",
   "execution_count": null,
   "id": "a8291205",
   "metadata": {},
   "outputs": [],
   "source": []
  },
  {
   "cell_type": "code",
   "execution_count": null,
   "id": "f8d17202",
   "metadata": {},
   "outputs": [],
   "source": []
  },
  {
   "cell_type": "code",
   "execution_count": null,
   "id": "473c0682",
   "metadata": {},
   "outputs": [],
   "source": []
  },
  {
   "cell_type": "code",
   "execution_count": null,
   "id": "2b46e021",
   "metadata": {},
   "outputs": [],
   "source": []
  },
  {
   "cell_type": "code",
   "execution_count": null,
   "id": "117e1ae9",
   "metadata": {},
   "outputs": [],
   "source": []
  },
  {
   "cell_type": "code",
   "execution_count": null,
   "id": "00079723",
   "metadata": {},
   "outputs": [],
   "source": []
  },
  {
   "cell_type": "code",
   "execution_count": null,
   "id": "7be0e0f9",
   "metadata": {},
   "outputs": [],
   "source": []
  },
  {
   "cell_type": "code",
   "execution_count": null,
   "id": "fa936a0e",
   "metadata": {},
   "outputs": [],
   "source": []
  },
  {
   "cell_type": "code",
   "execution_count": null,
   "id": "caf7027f",
   "metadata": {},
   "outputs": [],
   "source": []
  },
  {
   "cell_type": "code",
   "execution_count": null,
   "id": "640ae395",
   "metadata": {},
   "outputs": [],
   "source": []
  },
  {
   "cell_type": "code",
   "execution_count": null,
   "id": "081ce322",
   "metadata": {},
   "outputs": [],
   "source": []
  },
  {
   "cell_type": "code",
   "execution_count": null,
   "id": "6c2cf5bc",
   "metadata": {},
   "outputs": [],
   "source": []
  },
  {
   "cell_type": "code",
   "execution_count": null,
   "id": "a968a3cf",
   "metadata": {},
   "outputs": [],
   "source": []
  },
  {
   "cell_type": "code",
   "execution_count": null,
   "id": "d762d363",
   "metadata": {},
   "outputs": [],
   "source": []
  },
  {
   "cell_type": "code",
   "execution_count": null,
   "id": "f8755afc",
   "metadata": {},
   "outputs": [],
   "source": []
  },
  {
   "cell_type": "code",
   "execution_count": null,
   "id": "f444f996",
   "metadata": {},
   "outputs": [],
   "source": []
  },
  {
   "cell_type": "code",
   "execution_count": null,
   "id": "940a4dcd",
   "metadata": {},
   "outputs": [],
   "source": []
  },
  {
   "cell_type": "code",
   "execution_count": null,
   "id": "cf92e196",
   "metadata": {},
   "outputs": [],
   "source": []
  },
  {
   "cell_type": "code",
   "execution_count": null,
   "id": "08b4327c",
   "metadata": {},
   "outputs": [],
   "source": []
  },
  {
   "cell_type": "code",
   "execution_count": null,
   "id": "137eed4d",
   "metadata": {},
   "outputs": [],
   "source": []
  },
  {
   "cell_type": "code",
   "execution_count": null,
   "id": "9dfd1582",
   "metadata": {},
   "outputs": [],
   "source": []
  },
  {
   "cell_type": "code",
   "execution_count": null,
   "id": "7e65e8be",
   "metadata": {},
   "outputs": [],
   "source": []
  },
  {
   "cell_type": "code",
   "execution_count": null,
   "id": "3483831b",
   "metadata": {},
   "outputs": [],
   "source": []
  },
  {
   "cell_type": "code",
   "execution_count": null,
   "id": "f37a984b",
   "metadata": {},
   "outputs": [],
   "source": []
  }
 ],
 "metadata": {
  "kernelspec": {
   "display_name": "Python [conda env:.conda-py3.7] *",
   "language": "python",
   "name": "conda-env-.conda-py3.7-py"
  },
  "language_info": {
   "codemirror_mode": {
    "name": "ipython",
    "version": 3
   },
   "file_extension": ".py",
   "mimetype": "text/x-python",
   "name": "python",
   "nbconvert_exporter": "python",
   "pygments_lexer": "ipython3",
   "version": "3.7.1"
  }
 },
 "nbformat": 4,
 "nbformat_minor": 5
}
