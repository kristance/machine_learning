{
 "cells": [
  {
   "cell_type": "code",
   "execution_count": 1,
   "id": "3360ee87-5f54-4e6a-ab8d-86425885e3d8",
   "metadata": {
    "tags": []
   },
   "outputs": [],
   "source": [
    "import warnings\n",
    "warnings.filterwarnings(action='ignore')\n",
    "%config Completer.use_jedi = False\n",
    "import numpy as np\n",
    "import pandas as pd\n",
    "import matplotlib.pyplot as plt\n",
    "import matplotlib as mpl\n",
    "mpl.rcParams['axes.unicode_minus'] = False\n",
    "plt.rcParams['font.family'] = 'NanumGothicCoding'\n",
    "plt.rcParams['font.size'] = 10\n",
    "import seaborn as sns\n",
    "\n",
    "from sklearn import datasets\n",
    "from sklearn.model_selection import train_test_split\n",
    "from sklearn.preprocessing import StandardScaler\n",
    "\n",
    "# 분류 문제 성능 평가 라이브러리\n",
    "from sklearn.metrics import accuracy_score\n",
    "from sklearn.metrics import precision_score\n",
    "from sklearn.metrics import recall_score\n",
    "from sklearn.metrics import f1_score\n",
    "from sklearn.metrics import confusion_matrix\n",
    "from sklearn.metrics import classification_report\n",
    "\n",
    "#회귀 문제 성능 평가 라이브러리\n",
    "from sklearn.metrics import mean_absolute_error\n",
    "from sklearn.metrics import mean_squared_error\n",
    "from sklearn.metrics import r2_score\n",
    "\n",
    "#군집 문제 성능 평가 라이브러리\n",
    "from sklearn.metrics import silhouette_score"
   ]
  },
  {
   "cell_type": "markdown",
   "id": "9f6cb42f-41c0-40df-8ce3-82bc9738609a",
   "metadata": {},
   "source": [
    "***\n",
    "지도 학습 (Supervised Learning)에서는 라벨링된 데이털르 이용해서 모델을 생성한다.  \n",
    "주어진 데이터셋에 라벨링이 되어있다면 학습 및 분류를 시키기 좋지만,  \n",
    "실제로 데이털르 다루다보면 라벨링이 되어 있지 않은 경우도 많이 접한다. \n",
    "***"
   ]
  },
  {
   "cell_type": "markdown",
   "id": "44d572f1-4914-4256-a575-aed1a0574d30",
   "metadata": {},
   "source": [
    "***\n",
    "비지도 학습(Unsupervised Learning)\n",
    "***\n",
    "비지도 학습은 라벨링이 되어있지 않은 데이터를 이용하는 학습 방법이다.  \n",
    "비지도 학습에 사용하는 데이터는 라벨링이 되어있지 않으므로 레이블 없이 피쳐 데이터만 활용해 데이터를 학습시킨다.  \n",
    "지도 학습에서는 데이터를 분류하는 것을 Classification라고 했지만, 비지도 학습에서는 데이터를 분류하는 것을 Clustering이라고 한다.  "
   ]
  },
  {
   "cell_type": "markdown",
   "id": "da756c95-d1b4-4a35-9dcf-4d96cdf446e4",
   "metadata": {},
   "source": [
    "***\n",
    "k-평균 클러스터링(kMeans Clustering)\n",
    "***\n",
    "k-평균 클러스터링은 n개의 데이터를 k개의 클러스터로 나누는 클러스터링 기법이다. k-평균 클러스터링은 각 데이터 포인트와 각 그룹의 평균(중심)간의 거리를 구한 후  \n",
    "가장 가까운 클러스터로 배정하는 방법이다.  \n",
    "\n",
    "k-평균 클러스터링에서는 거리라를 개념이 사용되고, 여기서는 유클리드 거리(Euclidean Distance)를 사용한다.  \n",
    "데이터 포인트 x와 데이터 포인트 y 사이의 유클리드 거리는 아래와 같은 공식을 사용한다. ; 피타고라스 정의와 유사\n",
    "\n",
    "\n",
    "$$d(x, y) = \\sqrt{\\sum_{i=1}^n (x_i - y_i)^2}$$\n",
    "\n",
    "\n",
    "\n",
    "k-평균 클러스터링 알고리즘\n",
    "- 그룹 평균 초기화 : k-평균 클러스터링 알고리즘은 첫 과정이 각 그룹의 평균을 초기화하는 것인데, 이때 사용하는 가장 기본적인 방법은 랜덤으로 평균을 설정하는 것이다.  \n",
    "- 그룹 할당 : 각 데이터 포인트와 가장 가까운 그룹 평균에 해당되는 그룹에 할당한다. 즉, 각 데이터 포인트와 각 그룹의 평균까지의 거리를 계산해서 가장 가까운 그룹으로 속하게 만드는 것이다.  \n",
    "- 평균 업데이트 : 직전 단계를 거치면 모든 데이터 포인트가 어떤 그룹에 속하는지 알 수 있다. 그 후, 각 그룹에 대한 새로운 평균값을 구한다.\n",
    "- 반복 : 그룹 할당 단계에서 바뀌는 값이 없을 때까지 그룹 할당 단계부터 직전 단계까지 반복한다.\n",
    "\n",
    "k-평균 클러스터링은 사용하기 쉽다는 장점이 있지만 k-평균 클러스터링에서는 가중치를 주지않아 클러스터간 데이터의 밀도 차이가 있을 경우  \n",
    "클러스터링이 잘 되지 않는 단점이 있다.  \n",
    "그리고 k-평균 클러스터링은 모양을 고려하지 않으며, 초기 k값을 사용자가 정해야 한다는 단점이 존재한다.  \n"
   ]
  },
  {
   "cell_type": "markdown",
   "id": "e331c0f0-7d38-428c-889d-c6033a1db755",
   "metadata": {},
   "source": [
    "***\n",
    "k-평균 클러스터링 알고리즘을 활용해서 주어진 데이터를 클러스터링 해본다.\n",
    "***"
   ]
  },
  {
   "cell_type": "code",
   "execution_count": 2,
   "id": "48308611-cf30-4408-a53d-b7bb7619dbb3",
   "metadata": {
    "tags": []
   },
   "outputs": [
    {
     "name": "stdout",
     "output_type": "stream",
     "text": [
      "(100, 2) (100,)\n",
      "[-6.08678403  4.7298269 ] 3\n",
      "[3.80174985 4.27826762] 1\n",
      "[-7.33058271 -8.4940632 ] 4\n",
      "[-6.10706886 -7.81890608] 4\n",
      "[ 5.52556208 -8.18696464] 0\n"
     ]
    }
   ],
   "source": [
    "# 데이터 불러오기\n",
    "# make_blobs() 메소드로 사이킷런이 제공하는 한지점에서 방향에 상관없이 물질의 중요한 특성이 동일한 성질을 가지는 등방성 가우시안 정규분포를 따르는 가상 데이터를 불러온다.\n",
    "# n_sample 속성의 기본값은 100이고, 랜덤으로 불러올 데이터의 갯수를 지정한다.\n",
    "# n_features 속성의 기본값은 2이고, 랜덤으로 불러온 데이터 당 피쳐의 갯수를 지정한다.\n",
    "# random_state 속성값을 지정하면 매번 같은 배열의 데이터를 불러온다.\n",
    "# centers 속성의 기본값은 3이고, 클러스터의 갯수를 설정해서 클러스터링 가상 데이터를 만든다.\n",
    "\n",
    "x_train, y_train = datasets.make_blobs(n_samples=100, n_features=2, random_state=10, centers=6) \n",
    "print(x_train.shape, y_train.shape)\n",
    "for i in range(len(x_train[:5])):\n",
    "     print(x_train[i], y_train[i])"
   ]
  },
  {
   "cell_type": "markdown",
   "id": "b421bb84-e7b6-4d92-ac54-ff420c1c7565",
   "metadata": {},
   "source": [
    "***\n",
    "클러스터링 되지 않은 데이터 시각화\n",
    "***"
   ]
  },
  {
   "cell_type": "code",
   "execution_count": 3,
   "id": "c899a7e8-a3f6-4374-85c4-39f460cc8b4e",
   "metadata": {
    "tags": []
   },
   "outputs": [
    {
     "data": {
      "image/png": "[encoded data removed]",
      "text/plain": [
       "<Figure size 1000x700 with 1 Axes>"
      ]
     },
     "metadata": {},
     "output_type": "display_data"
    }
   ],
   "source": [
    "# 클러스터링되지 않은 데이터 시각화\n",
    "plt.figure(figsize=[10, 7])\n",
    "plt.scatter(x=x_train[: , 0], y=x_train[:, 1], c=\"red\")\n",
    "plt.show()"
   ]
  },
  {
   "cell_type": "markdown",
   "id": "693bae26-55cd-4297-a192-d92e83df2eaa",
   "metadata": {},
   "source": [
    "***\n",
    "k-평균 클러스터링 모델을 생성 후 학습시킨다.\n",
    "***"
   ]
  },
  {
   "cell_type": "code",
   "execution_count": 4,
   "id": "49dc830d-ff9e-412a-a340-16240595960b",
   "metadata": {
    "tags": []
   },
   "outputs": [
    {
     "data": {
      "text/plain": [
       "KMeans(init='random', max_iter=100, n_clusters=3, random_state=0)"
      ]
     },
     "execution_count": 4,
     "metadata": {},
     "output_type": "execute_result"
    }
   ],
   "source": [
    "from sklearn.cluster import KMeans # k평균 클러스터링 알고리즘 사용\n",
    "\n",
    "# n_clusters 속성에 클러스터링 갯수를 지정해서 k-평균 클러스터링 모델을 만든다. 기본값은 8이다. \n",
    "# init 속성은 첫번째 중심값을 선정하는 방법을 지정한다. 기본값으로 \"k-means++\"이다.\n",
    "# \"k-means++\" : 샘플링 단게에서 여러번 시도하고 그중에서 가장 좋은 중심을 선택한다.\n",
    "# \"random\" : 랜덤하게 중심을 선택한다.\n",
    "# max_iter 속성은 클러스터링을 실행하는 최대 반복 횟수를 지정한다. 기본값은 300이다.\n",
    "cluster = KMeans(n_clusters=3, init=\"random\", max_iter=100, random_state=0)\n",
    "\n",
    "#학습데이터로 k평균 클러스터링 모델을 학습시킨다.\n",
    "cluster.fit(x_train)\n"
   ]
  },
  {
   "cell_type": "code",
   "execution_count": 5,
   "id": "1036062d-6a83-4802-b7d7-9acce2546ab1",
   "metadata": {
    "tags": []
   },
   "outputs": [
    {
     "name": "stdout",
     "output_type": "stream",
     "text": [
      "[0 0 2 2 1 2 1 1 1 0 0 2 1 0 1 2 0 1 1 1 1 2 0 2 2 2 0 0 1 1 1 0 0 1 0 0 0\n",
      " 0 0 0 1 1 0 1 1 0 0 0 1 0 1 0 1 0 0 1 1 0 0 1 2 0 0 1 0 2 0 0 0 1 0 0 2 1\n",
      " 1 2 0 0 0 1 0 2 2 1 1 0 1 0 0 1 0 1 0 0 0 2 0 0 0 0]\n",
      "[0 0 2 2 1 2 1 1 1 0 0 2 1 0 1 2 0 1 1 1 1 2 0 2 2 2 0 0 1 1 1 0 0 1 0 0 0\n",
      " 0 0 0 1 1 0 1 1 0 0 0 1 0 1 0 1 0 0 1 1 0 0 1 2 0 0 1 0 2 0 0 0 1 0 0 2 1\n",
      " 1 2 0 0 0 1 0 2 2 1 1 0 1 0 0 1 0 1 0 0 0 2 0 0 0 0]\n"
     ]
    }
   ],
   "source": [
    "# 클러스터링 결과(레이블)를 확인한다.\n",
    "# labels_ 속성으로 클러스터링 결과를 얻어올 수 있다.\n",
    "print(cluster.labels_)\n",
    "\n",
    "# predict() 메소드에 피쳐 데이터를 넘겨서 클러스터링 결과를 확인할 수 있다.\n",
    "print(cluster.predict(x_train))"
   ]
  },
  {
   "cell_type": "markdown",
   "id": "d014aecc-c53a-4f6a-94bd-a5b0ce3cdc94",
   "metadata": {},
   "source": [
    "***\n",
    "k-평균 클러스터링 알고리즘으로 클러스터링된 이미지 시각화\n",
    "***"
   ]
  },
  {
   "cell_type": "code",
   "execution_count": 6,
   "id": "c6dda138-7b47-4906-8b22-b8612f56d8f8",
   "metadata": {
    "tags": []
   },
   "outputs": [
    {
     "data": {
      "text/html": [
       "<div>\n",
       "<style scoped>\n",
       "    .dataframe tbody tr th:only-of-type {\n",
       "        vertical-align: middle;\n",
       "    }\n",
       "\n",
       "    .dataframe tbody tr th {\n",
       "        vertical-align: top;\n",
       "    }\n",
       "\n",
       "    .dataframe thead th {\n",
       "        text-align: right;\n",
       "    }\n",
       "</style>\n",
       "<table border=\"1\" class=\"dataframe\">\n",
       "  <thead>\n",
       "    <tr style=\"text-align: right;\">\n",
       "      <th></th>\n",
       "      <th>x</th>\n",
       "      <th>y</th>\n",
       "      <th>label</th>\n",
       "      <th>cluster</th>\n",
       "    </tr>\n",
       "  </thead>\n",
       "  <tbody>\n",
       "    <tr>\n",
       "      <th>0</th>\n",
       "      <td>-6.086784</td>\n",
       "      <td>4.729827</td>\n",
       "      <td>3</td>\n",
       "      <td>0</td>\n",
       "    </tr>\n",
       "    <tr>\n",
       "      <th>1</th>\n",
       "      <td>3.801750</td>\n",
       "      <td>4.278268</td>\n",
       "      <td>1</td>\n",
       "      <td>0</td>\n",
       "    </tr>\n",
       "    <tr>\n",
       "      <th>2</th>\n",
       "      <td>-7.330583</td>\n",
       "      <td>-8.494063</td>\n",
       "      <td>4</td>\n",
       "      <td>2</td>\n",
       "    </tr>\n",
       "    <tr>\n",
       "      <th>3</th>\n",
       "      <td>-6.107069</td>\n",
       "      <td>-7.818906</td>\n",
       "      <td>4</td>\n",
       "      <td>2</td>\n",
       "    </tr>\n",
       "    <tr>\n",
       "      <th>4</th>\n",
       "      <td>5.525562</td>\n",
       "      <td>-8.186965</td>\n",
       "      <td>0</td>\n",
       "      <td>1</td>\n",
       "    </tr>\n",
       "    <tr>\n",
       "      <th>...</th>\n",
       "      <td>...</td>\n",
       "      <td>...</td>\n",
       "      <td>...</td>\n",
       "      <td>...</td>\n",
       "    </tr>\n",
       "    <tr>\n",
       "      <th>95</th>\n",
       "      <td>-6.950884</td>\n",
       "      <td>-9.024594</td>\n",
       "      <td>4</td>\n",
       "      <td>2</td>\n",
       "    </tr>\n",
       "    <tr>\n",
       "      <th>96</th>\n",
       "      <td>2.591843</td>\n",
       "      <td>4.446782</td>\n",
       "      <td>1</td>\n",
       "      <td>0</td>\n",
       "    </tr>\n",
       "    <tr>\n",
       "      <th>97</th>\n",
       "      <td>2.992321</td>\n",
       "      <td>5.436981</td>\n",
       "      <td>1</td>\n",
       "      <td>0</td>\n",
       "    </tr>\n",
       "    <tr>\n",
       "      <th>98</th>\n",
       "      <td>2.310466</td>\n",
       "      <td>4.854172</td>\n",
       "      <td>1</td>\n",
       "      <td>0</td>\n",
       "    </tr>\n",
       "    <tr>\n",
       "      <th>99</th>\n",
       "      <td>3.316214</td>\n",
       "      <td>10.323041</td>\n",
       "      <td>5</td>\n",
       "      <td>0</td>\n",
       "    </tr>\n",
       "  </tbody>\n",
       "</table>\n",
       "<p>100 rows × 4 columns</p>\n",
       "</div>"
      ],
      "text/plain": [
       "           x          y  label  cluster\n",
       "0  -6.086784   4.729827      3        0\n",
       "1   3.801750   4.278268      1        0\n",
       "2  -7.330583  -8.494063      4        2\n",
       "3  -6.107069  -7.818906      4        2\n",
       "4   5.525562  -8.186965      0        1\n",
       "..       ...        ...    ...      ...\n",
       "95 -6.950884  -9.024594      4        2\n",
       "96  2.591843   4.446782      1        0\n",
       "97  2.992321   5.436981      1        0\n",
       "98  2.310466   4.854172      1        0\n",
       "99  3.316214  10.323041      5        0\n",
       "\n",
       "[100 rows x 4 columns]"
      ]
     },
     "execution_count": 6,
     "metadata": {},
     "output_type": "execute_result"
    }
   ],
   "source": [
    "# 클러스터링된 데이터 시각화를 위해 데이터 프레임을 만든다.\n",
    "x_train_df = pd.DataFrame(x_train, columns=['x', 'y'])\n",
    "x_train_df[\"label\"] = y_train\n",
    "x_train_df[\"cluster\"] = cluster.labels_ # 데이터프레임에 클러스터링된 레이블을 넣어준다.\n",
    "x_train_df"
   ]
  },
  {
   "cell_type": "code",
   "execution_count": 7,
   "id": "760f5c9f-d59c-4868-a6fb-455587bb9ed7",
   "metadata": {
    "tags": []
   },
   "outputs": [
    {
     "name": "stdout",
     "output_type": "stream",
     "text": [
      "{0, 1, 2, 3, 4, 5}\n",
      "{0, 1, 2}\n"
     ]
    }
   ],
   "source": [
    "# 레이블과 클러스터링된 레이블의 종류 확인\n",
    "print(set(x_train_df.label))\n",
    "print(set(x_train_df.cluster))"
   ]
  },
  {
   "cell_type": "markdown",
   "id": "e4c9f414-038f-463b-ae55-32d0c1eda801",
   "metadata": {},
   "source": [
    "***\n",
    "실제 데이터의 레이블 데이터 시각화\n",
    "***"
   ]
  },
  {
   "cell_type": "code",
   "execution_count": 8,
   "id": "85e6b6e9-caa7-4d58-af79-f5958c670b3e",
   "metadata": {
    "tags": []
   },
   "outputs": [
    {
     "data": {
      "image/png": "[encoded data removed]",
      "text/plain": [
       "<Figure size 1000x700 with 1 Axes>"
      ]
     },
     "metadata": {},
     "output_type": "display_data"
    }
   ],
   "source": [
    "# 위 셀의 시각화 코드를 반복문을 사용해서 만든다.\n",
    "plt.figure(figsize=[10, 7])\n",
    "markers = [\"o\", \"*\", \"s\", \"x\", \"^\", \"v\"]\n",
    "\n",
    "for i in set(x_train_df.label):\n",
    "     df_index = x_train_df[x_train_df.label == i] # 원 데이터의 레이블 데이터를 분할한다.\n",
    "     X = df_index.x # 학습 데이터의 첫번째 성분 벡터를 추출한다.\n",
    "     Y = df_index.y # 학습 데이터의 두번째 성분 벡터를 추출한다.\n",
    "     plt.scatter(x=X, y=Y, marker = markers[i], label= i ) # 산포도를 그린다.\n",
    "\n",
    "plt.title(\"원 데이터의 레이블 별 데이터 시각화\")\n",
    "plt.xlabel(\"x\")\n",
    "plt.ylabel(\"y\")\n",
    "plt.legend()\n",
    "plt.show()"
   ]
  },
  {
   "cell_type": "markdown",
   "id": "73d36e84-cfe7-4ab6-961d-1fd8a1652176",
   "metadata": {},
   "source": [
    "***\n",
    "k-평균 클러스터링 된 결과 데이터 시각화\n",
    "***"
   ]
  },
  {
   "cell_type": "code",
   "execution_count": 9,
   "id": "547632ad-95b9-4aa3-9e8d-bff2eb17fc46",
   "metadata": {
    "tags": []
   },
   "outputs": [
    {
     "data": {
      "image/png": "[encoded data removed]",
      "text/plain": [
       "<Figure size 1000x700 with 1 Axes>"
      ]
     },
     "metadata": {},
     "output_type": "display_data"
    }
   ],
   "source": [
    "# 위 셀의 시각화 코드를 반복문을 사용해서 만든다.\n",
    "plt.figure(figsize=[10, 7])\n",
    "markers = [\"o\", \"*\", \"s\", \"x\", \"^\", \"v\"]\n",
    "\n",
    "for i in set(x_train_df.cluster):\n",
    "     df_index = x_train_df[x_train_df.cluster == i] # 클러스터링 결과별로 데이터를 분할한다.\n",
    "     X = df_index.x # 클러스터링 결과에서 첫번째 성분 벡터를 추출한다.\n",
    "     Y = df_index.y # 클러스터링 결과에서 두번째 성분 벡터를 추출한다.\n",
    "     plt.scatter(x=X, y=Y, marker = markers[i], label=i ) # 산포도를 그린다.\n",
    "\n",
    "plt.title(\"k-평균 클러스터링 시각화\")\n",
    "plt.xlabel(\"x\")\n",
    "plt.ylabel(\"y\")\n",
    "plt.legend()\n",
    "plt.show()"
   ]
  },
  {
   "cell_type": "markdown",
   "id": "71ba758d-5f76-4ed6-8e5a-532cf6b45ef3",
   "metadata": {},
   "source": [
    "***\n",
    "학습된 모델을 평가한다.\n",
    "***"
   ]
  },
  {
   "cell_type": "code",
   "execution_count": 10,
   "id": "70e6992a-fc39-4fe4-8d50-fcd72aae2963",
   "metadata": {
    "tags": []
   },
   "outputs": [
    {
     "name": "stdout",
     "output_type": "stream",
     "text": [
      "0.5960814992972427\n"
     ]
    }
   ],
   "source": [
    "# 실루엣 스코어(silhouette_score)는 서로 다른 군집이 얼마나 잘 분리되어 있는지를 나타내는 지표로 군집 문제에서의 모델 성능을 평가한다.\n",
    "# 실루엣 스코어는 -1 - 1 사이의 값을 가지며 점수가 높을수록 좋은 성능을 의미한다.\n",
    "# silhouette_score() 메소드에 피쳐 데이터와 군집화 결과로 얻은 클러스터를 넘겨 실루엣 스코어를 평가한다.\n",
    "sil_score = silhouette_score(x_train, cluster.labels_)\n",
    "print(sil_score)"
   ]
  },
  {
   "cell_type": "code",
   "execution_count": null,
   "id": "a5831bb1-6d9e-46a6-ae23-56eaa230b1c4",
   "metadata": {},
   "outputs": [],
   "source": []
  },
  {
   "cell_type": "code",
   "execution_count": null,
   "id": "00a4d549-97c2-4770-b957-2cdee5f2879c",
   "metadata": {},
   "outputs": [],
   "source": []
  },
  {
   "cell_type": "code",
   "execution_count": null,
   "id": "22794380-d987-4b37-8120-182eadff8efc",
   "metadata": {},
   "outputs": [],
   "source": []
  },
  {
   "cell_type": "code",
   "execution_count": null,
   "id": "c9aa6c50-76bf-4cff-add6-800ea1193b90",
   "metadata": {},
   "outputs": [],
   "source": []
  },
  {
   "cell_type": "code",
   "execution_count": null,
   "id": "2fe73d78-d77c-4ccc-b83a-e6ca367e9750",
   "metadata": {},
   "outputs": [],
   "source": []
  },
  {
   "cell_type": "code",
   "execution_count": null,
   "id": "1e9ba1d0-b4f3-48a9-8600-b97f6f7e927c",
   "metadata": {},
   "outputs": [],
   "source": []
  },
  {
   "cell_type": "code",
   "execution_count": null,
   "id": "3c131bec-3c83-46fb-8552-8da4ba25ecbb",
   "metadata": {},
   "outputs": [],
   "source": []
  },
  {
   "cell_type": "code",
   "execution_count": null,
   "id": "4d03caf0-ffd1-4b9c-9202-294bc923c875",
   "metadata": {},
   "outputs": [],
   "source": []
  },
  {
   "cell_type": "code",
   "execution_count": null,
   "id": "f4b3094b-43f8-40f8-8e85-03cb5c374a39",
   "metadata": {},
   "outputs": [],
   "source": []
  },
  {
   "cell_type": "code",
   "execution_count": null,
   "id": "5ccb727d-6e8f-4bb4-a318-2e2353f84c6e",
   "metadata": {},
   "outputs": [],
   "source": []
  },
  {
   "cell_type": "code",
   "execution_count": null,
   "id": "d0801a7b-7014-40ea-9722-0728ae39e199",
   "metadata": {},
   "outputs": [],
   "source": []
  },
  {
   "cell_type": "code",
   "execution_count": null,
   "id": "1703aac2-cd5c-456a-9de9-56b8c72e25de",
   "metadata": {},
   "outputs": [],
   "source": []
  },
  {
   "cell_type": "code",
   "execution_count": null,
   "id": "69f8924b-b79b-4c1c-9f97-f23dd78e1d71",
   "metadata": {},
   "outputs": [],
   "source": []
  },
  {
   "cell_type": "code",
   "execution_count": null,
   "id": "ddd127de-bc6d-4b14-8e7a-9791a3dbd420",
   "metadata": {},
   "outputs": [],
   "source": []
  },
  {
   "cell_type": "code",
   "execution_count": null,
   "id": "254c74df-3309-49e9-9e4c-fd6c87cb2590",
   "metadata": {},
   "outputs": [],
   "source": []
  },
  {
   "cell_type": "code",
   "execution_count": null,
   "id": "1cfa93cd-d2c1-4eeb-861c-bddab01ce4a6",
   "metadata": {},
   "outputs": [],
   "source": []
  },
  {
   "cell_type": "code",
   "execution_count": null,
   "id": "54f72c25-2fd7-43da-b0d8-ceeb8f5d1af2",
   "metadata": {},
   "outputs": [],
   "source": []
  },
  {
   "cell_type": "code",
   "execution_count": null,
   "id": "4e0fcfa7-38a4-4a5d-bdaf-601df22bd278",
   "metadata": {},
   "outputs": [],
   "source": []
  },
  {
   "cell_type": "code",
   "execution_count": null,
   "id": "98814984-aed8-49cd-bbfb-b90d4bbd545c",
   "metadata": {},
   "outputs": [],
   "source": []
  },
  {
   "cell_type": "code",
   "execution_count": null,
   "id": "b4490272-8c12-487c-b23a-4af0b0343e48",
   "metadata": {},
   "outputs": [],
   "source": []
  },
  {
   "cell_type": "code",
   "execution_count": null,
   "id": "e95773c0-6f72-4155-a143-ae1f5b26efbf",
   "metadata": {},
   "outputs": [],
   "source": []
  },
  {
   "cell_type": "code",
   "execution_count": null,
   "id": "0b42feaf-9bd1-4d4b-a591-d4ab2ad97ef4",
   "metadata": {},
   "outputs": [],
   "source": []
  },
  {
   "cell_type": "code",
   "execution_count": null,
   "id": "71e2a4af-fa4e-4b5b-8b56-f3e2d2967bed",
   "metadata": {},
   "outputs": [],
   "source": []
  },
  {
   "cell_type": "code",
   "execution_count": null,
   "id": "aed1cec7-8cd4-460b-9de7-ecb97556a627",
   "metadata": {},
   "outputs": [],
   "source": []
  }
 ],
 "metadata": {
  "kernelspec": {
   "display_name": "Python [conda env:.conda-py3.7] *",
   "language": "python",
   "name": "conda-env-.conda-py3.7-py"
  },
  "language_info": {
   "codemirror_mode": {
    "name": "ipython",
    "version": 3
   },
   "file_extension": ".py",
   "mimetype": "text/x-python",
   "name": "python",
   "nbconvert_exporter": "python",
   "pygments_lexer": "ipython3",
   "version": "3.7.1"
  }
 },
 "nbformat": 4,
 "nbformat_minor": 5
}
