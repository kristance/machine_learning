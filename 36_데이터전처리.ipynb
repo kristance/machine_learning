{
 "cells": [
  {
   "cell_type": "code",
   "execution_count": 1,
   "id": "6ae63844-8c8a-4ae0-8190-52e984a74c30",
   "metadata": {
    "tags": []
   },
   "outputs": [
    {
     "name": "stdout",
     "output_type": "stream",
     "text": [
      "WARNING:tensorflow:From C:\\Users\\tj\\.conda\\envs\\py3.7\\lib\\site-packages\\tensorflow\\python\\compat\\v2_compat.py:107: disable_resource_variables (from tensorflow.python.ops.variable_scope) is deprecated and will be removed in a future version.\n",
      "Instructions for updating:\n",
      "non-resource variables are not supported in the long term\n"
     ]
    }
   ],
   "source": [
    "import warnings\n",
    "warnings.filterwarnings(action='ignore')\n",
    "%config Completer.use_jedi = False\n",
    "import tensorflow.compat.v1 as tf\n",
    "tf.disable_v2_behavior()\n",
    "import numpy as np\n",
    "import pandas as pd\n",
    "import matplotlib.pyplot as plt                                            \n",
    "import matplotlib as mpl                                                    \n",
    "mpl.rcParams['axes.unicode_minus'] = False                                  \n",
    "#plt.rcParams('font.family') = 'RIDIBatang'                          \n",
    "#plt.rcParams('font.size') = 16                                             \n",
    "import matplotlib.font_manager as fm\n",
    "font = 'C:\\\\Windows\\\\Fonts\\\\RIDIBatang.otf'\n",
    "fontprop = fm.FontProperties(fname=font, size=16).get_name()\n",
    "plt.rc('font', family = 'RIDIBatang')\n",
    "plt.rc('font', size = 16)\n",
    "import seaborn as sns    \n",
    "from sklearn import datasets"
   ]
  },
  {
   "cell_type": "markdown",
   "id": "59e3940f-712b-452c-8184-dda9e86eb60f",
   "metadata": {},
   "source": [
    "***\n",
    "데이터 전처리\n",
    "***\n",
    "우리가 실제로 접하게 되는 데이터는 Scikit-learn에서 제공하는 데이터와는 다르게 머신러닝을 적용하기 전에 데이터를 가공해야 하는 경우가 대부분이다.  \n",
    "이를 데이터 전처리 또는 피쳐 엔지니어링 등으로 부른다.  "
   ]
  },
  {
   "cell_type": "markdown",
   "id": "eb9419ae-b3d9-4374-8e7e-65aea37cc385",
   "metadata": {},
   "source": [
    "***\n",
    "결측치(missing value) 처리\n",
    "***\n",
    "Dataset의 일부에 데이터가 존재하지 않을 경우 결측치라고 부르며, 머신러닝 알고리즘을 적용하기 전에 결측치를 처리하는 것이 좋다."
   ]
  },
  {
   "cell_type": "code",
   "execution_count": 2,
   "id": "62c557a5-f1f8-4728-a04c-68ca1c8bd92b",
   "metadata": {
    "tags": []
   },
   "outputs": [
    {
     "data": {
      "text/html": [
       "<div>\n",
       "<style scoped>\n",
       "    .dataframe tbody tr th:only-of-type {\n",
       "        vertical-align: middle;\n",
       "    }\n",
       "\n",
       "    .dataframe tbody tr th {\n",
       "        vertical-align: top;\n",
       "    }\n",
       "\n",
       "    .dataframe thead th {\n",
       "        text-align: right;\n",
       "    }\n",
       "</style>\n",
       "<table border=\"1\" class=\"dataframe\">\n",
       "  <thead>\n",
       "    <tr style=\"text-align: right;\">\n",
       "      <th></th>\n",
       "      <th>Age</th>\n",
       "      <th>Gender</th>\n",
       "      <th>Birth_M</th>\n",
       "      <th>Hobby</th>\n",
       "      <th>Label</th>\n",
       "    </tr>\n",
       "  </thead>\n",
       "  <tbody>\n",
       "    <tr>\n",
       "      <th>0</th>\n",
       "      <td>42</td>\n",
       "      <td>male</td>\n",
       "      <td>12</td>\n",
       "      <td>reading</td>\n",
       "      <td>class2</td>\n",
       "    </tr>\n",
       "    <tr>\n",
       "      <th>1</th>\n",
       "      <td>35</td>\n",
       "      <td>unknown</td>\n",
       "      <td>3</td>\n",
       "      <td>cooking</td>\n",
       "      <td>class1</td>\n",
       "    </tr>\n",
       "    <tr>\n",
       "      <th>2</th>\n",
       "      <td>1000</td>\n",
       "      <td>female</td>\n",
       "      <td>7</td>\n",
       "      <td>cycling</td>\n",
       "      <td>class3</td>\n",
       "    </tr>\n",
       "    <tr>\n",
       "      <th>3</th>\n",
       "      <td>1000</td>\n",
       "      <td>unknown</td>\n",
       "      <td>21</td>\n",
       "      <td>unknown</td>\n",
       "      <td>unknown</td>\n",
       "    </tr>\n",
       "  </tbody>\n",
       "</table>\n",
       "</div>"
      ],
      "text/plain": [
       "    Age   Gender  Birth_M    Hobby    Label\n",
       "0    42     male       12  reading   class2\n",
       "1    35  unknown        3  cooking   class1\n",
       "2  1000   female        7  cycling   class3\n",
       "3  1000  unknown       21  unknown  unknown"
      ]
     },
     "execution_count": 2,
     "metadata": {},
     "output_type": "execute_result"
    }
   ],
   "source": [
    "# 데이터프레임에 데이터가 존재하지 않는 결측치는 없지만 부적절한 값(이상치)이 존재한다.\n",
    "# 나이에 1000이라는 값이 존재하는 것과 나머지 피쳐에 'unknown'이라는 값이 입력된 부적절한 값은 결측치로 처리하는 것이 좋다.\n",
    "df = pd.DataFrame([\n",
    "    [42, 'male', 12, 'reading', 'class2'],\n",
    "    [35, 'unknown', 3, 'cooking', 'class1'],\n",
    "    [1000, 'female', 7, 'cycling', 'class3'],\n",
    "    [1000, 'unknown', 21, 'unknown', 'unknown']\n",
    "])\n",
    "# 나이, 성별, 태어난달, 취미, 레이블\n",
    "df.columns = ['Age', 'Gender', 'Birth_M', 'Hobby', 'Label']\n",
    "df"
   ]
  },
  {
   "cell_type": "code",
   "execution_count": 3,
   "id": "3bad449f-c30c-405e-9da4-7cca37a12136",
   "metadata": {
    "tags": []
   },
   "outputs": [
    {
     "name": "stdout",
     "output_type": "stream",
     "text": [
      "Age: [  42   35 1000]\n",
      "Gender: ['male' 'unknown' 'female']\n",
      "Birth_M: [12  3  7 21]\n",
      "Hobby: ['reading' 'cooking' 'cycling' 'unknown']\n",
      "Label: ['class2' 'class1' 'class3' 'unknown']\n"
     ]
    }
   ],
   "source": [
    "# unique() 메소드로 각 시리즈의 유일한 값을 확인할 수 있다.\n",
    "print('Age:', df.Age.unique())\n",
    "print('Gender:', df.Gender.unique())\n",
    "print('Birth_M:', df.Birth_M.unique())\n",
    "print('Hobby:', df.Hobby.unique())\n",
    "print('Label:', df.Label.unique())"
   ]
  },
  {
   "cell_type": "code",
   "execution_count": 4,
   "id": "ebdd3fea-a01a-411a-b6cf-b275e2570af2",
   "metadata": {
    "tags": []
   },
   "outputs": [
    {
     "data": {
      "text/html": [
       "<div>\n",
       "<style scoped>\n",
       "    .dataframe tbody tr th:only-of-type {\n",
       "        vertical-align: middle;\n",
       "    }\n",
       "\n",
       "    .dataframe tbody tr th {\n",
       "        vertical-align: top;\n",
       "    }\n",
       "\n",
       "    .dataframe thead th {\n",
       "        text-align: right;\n",
       "    }\n",
       "</style>\n",
       "<table border=\"1\" class=\"dataframe\">\n",
       "  <thead>\n",
       "    <tr style=\"text-align: right;\">\n",
       "      <th></th>\n",
       "      <th>Age</th>\n",
       "      <th>Gender</th>\n",
       "      <th>Birth_M</th>\n",
       "      <th>Hobby</th>\n",
       "      <th>Label</th>\n",
       "    </tr>\n",
       "  </thead>\n",
       "  <tbody>\n",
       "    <tr>\n",
       "      <th>0</th>\n",
       "      <td>42.0</td>\n",
       "      <td>male</td>\n",
       "      <td>12.0</td>\n",
       "      <td>reading</td>\n",
       "      <td>class2</td>\n",
       "    </tr>\n",
       "    <tr>\n",
       "      <th>1</th>\n",
       "      <td>35.0</td>\n",
       "      <td>NaN</td>\n",
       "      <td>3.0</td>\n",
       "      <td>cooking</td>\n",
       "      <td>class1</td>\n",
       "    </tr>\n",
       "    <tr>\n",
       "      <th>2</th>\n",
       "      <td>NaN</td>\n",
       "      <td>female</td>\n",
       "      <td>7.0</td>\n",
       "      <td>cycling</td>\n",
       "      <td>class3</td>\n",
       "    </tr>\n",
       "    <tr>\n",
       "      <th>3</th>\n",
       "      <td>NaN</td>\n",
       "      <td>NaN</td>\n",
       "      <td>NaN</td>\n",
       "      <td>NaN</td>\n",
       "      <td>NaN</td>\n",
       "    </tr>\n",
       "  </tbody>\n",
       "</table>\n",
       "</div>"
      ],
      "text/plain": [
       "    Age  Gender  Birth_M    Hobby   Label\n",
       "0  42.0    male     12.0  reading  class2\n",
       "1  35.0     NaN      3.0  cooking  class1\n",
       "2   NaN  female      7.0  cycling  class3\n",
       "3   NaN     NaN      NaN      NaN     NaN"
      ]
     },
     "execution_count": 4,
     "metadata": {},
     "output_type": "execute_result"
    }
   ],
   "source": [
    "# 부적절한 데이터 값을 결측치로 바꾸기 위해 np.NaN을 사용한다.\n",
    "df.loc[df.Age > 150, 'Age'] = np.NaN\n",
    "df.loc[df.Gender == 'unknown', 'Gender'] = np.NaN\n",
    "df.loc[df.Birth_M > 12, 'Birth_M'] = np.NaN\n",
    "df.loc[df.Hobby == 'unknown', 'Hobby'] = np.NaN\n",
    "df.loc[df.Label == 'unknown', 'Label'] = np.NaN\n",
    "df"
   ]
  },
  {
   "cell_type": "code",
   "execution_count": 5,
   "id": "f46fe85d-8b82-4b02-ada1-7ec6e8216db0",
   "metadata": {
    "tags": []
   },
   "outputs": [
    {
     "name": "stdout",
     "output_type": "stream",
     "text": [
      "<class 'pandas.core.frame.DataFrame'>\n",
      "RangeIndex: 4 entries, 0 to 3\n",
      "Data columns (total 5 columns):\n",
      " #   Column   Non-Null Count  Dtype  \n",
      "---  ------   --------------  -----  \n",
      " 0   Age      2 non-null      float64\n",
      " 1   Gender   2 non-null      object \n",
      " 2   Birth_M  3 non-null      float64\n",
      " 3   Hobby    3 non-null      object \n",
      " 4   Label    3 non-null      object \n",
      "dtypes: float64(2), object(3)\n",
      "memory usage: 288.0+ bytes\n"
     ]
    }
   ],
   "source": [
    "# Dataset의 각 열의 결측치 갯수를 확인한다.\n",
    "df.info()"
   ]
  },
  {
   "cell_type": "code",
   "execution_count": 6,
   "id": "b486a70b-c921-4b5d-8b99-49c18115a5ae",
   "metadata": {
    "tags": []
   },
   "outputs": [
    {
     "data": {
      "text/plain": [
       "Age        2\n",
       "Gender     2\n",
       "Birth_M    1\n",
       "Hobby      1\n",
       "Label      1\n",
       "dtype: int64"
      ]
     },
     "execution_count": 6,
     "metadata": {},
     "output_type": "execute_result"
    }
   ],
   "source": [
    "df.isna().sum()"
   ]
  },
  {
   "cell_type": "markdown",
   "id": "26858dec-419d-413c-aafa-b109e37a3ce4",
   "metadata": {},
   "source": [
    "***\n",
    "결측치를 처리하는데 주로 쓰이는 방법은 결측치를 삭제하거나 다른 값으로 변경하는 방법이 있다.\n",
    "***"
   ]
  },
  {
   "cell_type": "code",
   "execution_count": 7,
   "id": "6404a6f6-f8ef-4f46-91e5-3dd5d405ffdc",
   "metadata": {
    "tags": []
   },
   "outputs": [
    {
     "data": {
      "text/html": [
       "<div>\n",
       "<style scoped>\n",
       "    .dataframe tbody tr th:only-of-type {\n",
       "        vertical-align: middle;\n",
       "    }\n",
       "\n",
       "    .dataframe tbody tr th {\n",
       "        vertical-align: top;\n",
       "    }\n",
       "\n",
       "    .dataframe thead th {\n",
       "        text-align: right;\n",
       "    }\n",
       "</style>\n",
       "<table border=\"1\" class=\"dataframe\">\n",
       "  <thead>\n",
       "    <tr style=\"text-align: right;\">\n",
       "      <th></th>\n",
       "      <th>Age</th>\n",
       "      <th>Gender</th>\n",
       "      <th>Birth_M</th>\n",
       "      <th>Hobby</th>\n",
       "      <th>Label</th>\n",
       "    </tr>\n",
       "  </thead>\n",
       "  <tbody>\n",
       "    <tr>\n",
       "      <th>0</th>\n",
       "      <td>42.0</td>\n",
       "      <td>male</td>\n",
       "      <td>12.0</td>\n",
       "      <td>reading</td>\n",
       "      <td>class2</td>\n",
       "    </tr>\n",
       "  </tbody>\n",
       "</table>\n",
       "</div>"
      ],
      "text/plain": [
       "    Age Gender  Birth_M    Hobby   Label\n",
       "0  42.0   male     12.0  reading  class2"
      ]
     },
     "execution_count": 7,
     "metadata": {},
     "output_type": "execute_result"
    }
   ],
   "source": [
    "# dropna() 메소드로 결측치를 삭제할 수 있다.\n",
    "# axis 속성을 생략하거나 0으로 지정하면 결측치가 하나라도 포함된 모든 행을 삭제한다.\n",
    "# inplace 속성을 True를 지정하면 실행 결과를 대입하지 않아도 실행결과를 즉시 반영한다.\n",
    "df.dropna() #df.dropna(axis=0)"
   ]
  },
  {
   "cell_type": "code",
   "execution_count": 8,
   "id": "71d7c0d6-6eb5-49dc-b66a-8423e87b2e05",
   "metadata": {
    "tags": []
   },
   "outputs": [
    {
     "data": {
      "text/html": [
       "<div>\n",
       "<style scoped>\n",
       "    .dataframe tbody tr th:only-of-type {\n",
       "        vertical-align: middle;\n",
       "    }\n",
       "\n",
       "    .dataframe tbody tr th {\n",
       "        vertical-align: top;\n",
       "    }\n",
       "\n",
       "    .dataframe thead th {\n",
       "        text-align: right;\n",
       "    }\n",
       "</style>\n",
       "<table border=\"1\" class=\"dataframe\">\n",
       "  <thead>\n",
       "    <tr style=\"text-align: right;\">\n",
       "      <th></th>\n",
       "    </tr>\n",
       "  </thead>\n",
       "  <tbody>\n",
       "    <tr>\n",
       "      <th>0</th>\n",
       "    </tr>\n",
       "    <tr>\n",
       "      <th>1</th>\n",
       "    </tr>\n",
       "    <tr>\n",
       "      <th>2</th>\n",
       "    </tr>\n",
       "    <tr>\n",
       "      <th>3</th>\n",
       "    </tr>\n",
       "  </tbody>\n",
       "</table>\n",
       "</div>"
      ],
      "text/plain": [
       "Empty DataFrame\n",
       "Columns: []\n",
       "Index: [0, 1, 2, 3]"
      ]
     },
     "execution_count": 8,
     "metadata": {},
     "output_type": "execute_result"
    }
   ],
   "source": [
    "# axis 1로 지정하면 결측치가 하나라도 포함된 모든 열을 삭제한다. ; 데이터가 NaN이 들어있으면 열단위로 지운다.\n",
    "df.dropna(axis=1) "
   ]
  },
  {
   "cell_type": "code",
   "execution_count": 9,
   "id": "08388f44-8a0e-41c9-9a9a-070848243ed1",
   "metadata": {
    "tags": []
   },
   "outputs": [
    {
     "data": {
      "text/html": [
       "<div>\n",
       "<style scoped>\n",
       "    .dataframe tbody tr th:only-of-type {\n",
       "        vertical-align: middle;\n",
       "    }\n",
       "\n",
       "    .dataframe tbody tr th {\n",
       "        vertical-align: top;\n",
       "    }\n",
       "\n",
       "    .dataframe thead th {\n",
       "        text-align: right;\n",
       "    }\n",
       "</style>\n",
       "<table border=\"1\" class=\"dataframe\">\n",
       "  <thead>\n",
       "    <tr style=\"text-align: right;\">\n",
       "      <th></th>\n",
       "      <th>Age</th>\n",
       "      <th>Gender</th>\n",
       "      <th>Birth_M</th>\n",
       "      <th>Hobby</th>\n",
       "      <th>Label</th>\n",
       "    </tr>\n",
       "  </thead>\n",
       "  <tbody>\n",
       "    <tr>\n",
       "      <th>0</th>\n",
       "      <td>42.0</td>\n",
       "      <td>male</td>\n",
       "      <td>12.0</td>\n",
       "      <td>reading</td>\n",
       "      <td>class2</td>\n",
       "    </tr>\n",
       "    <tr>\n",
       "      <th>1</th>\n",
       "      <td>35.0</td>\n",
       "      <td>NaN</td>\n",
       "      <td>3.0</td>\n",
       "      <td>cooking</td>\n",
       "      <td>class1</td>\n",
       "    </tr>\n",
       "    <tr>\n",
       "      <th>2</th>\n",
       "      <td>NaN</td>\n",
       "      <td>female</td>\n",
       "      <td>7.0</td>\n",
       "      <td>cycling</td>\n",
       "      <td>class3</td>\n",
       "    </tr>\n",
       "  </tbody>\n",
       "</table>\n",
       "</div>"
      ],
      "text/plain": [
       "    Age  Gender  Birth_M    Hobby   Label\n",
       "0  42.0    male     12.0  reading  class2\n",
       "1  35.0     NaN      3.0  cooking  class1\n",
       "2   NaN  female      7.0  cycling  class3"
      ]
     },
     "execution_count": 9,
     "metadata": {},
     "output_type": "execute_result"
    }
   ],
   "source": [
    "# how 속성을 'all'로 지정하면 모든 값이 결측치인 행을 삭제한다.\n",
    "df.dropna(how='all')"
   ]
  },
  {
   "cell_type": "code",
   "execution_count": 10,
   "id": "9db1545c-ffb4-47a2-b801-9de69e208a74",
   "metadata": {
    "tags": []
   },
   "outputs": [
    {
     "data": {
      "text/html": [
       "<div>\n",
       "<style scoped>\n",
       "    .dataframe tbody tr th:only-of-type {\n",
       "        vertical-align: middle;\n",
       "    }\n",
       "\n",
       "    .dataframe tbody tr th {\n",
       "        vertical-align: top;\n",
       "    }\n",
       "\n",
       "    .dataframe thead th {\n",
       "        text-align: right;\n",
       "    }\n",
       "</style>\n",
       "<table border=\"1\" class=\"dataframe\">\n",
       "  <thead>\n",
       "    <tr style=\"text-align: right;\">\n",
       "      <th></th>\n",
       "      <th>Age</th>\n",
       "      <th>Gender</th>\n",
       "      <th>Birth_M</th>\n",
       "      <th>Hobby</th>\n",
       "      <th>Label</th>\n",
       "    </tr>\n",
       "  </thead>\n",
       "  <tbody>\n",
       "    <tr>\n",
       "      <th>0</th>\n",
       "      <td>42.0</td>\n",
       "      <td>male</td>\n",
       "      <td>12.0</td>\n",
       "      <td>reading</td>\n",
       "      <td>class2</td>\n",
       "    </tr>\n",
       "  </tbody>\n",
       "</table>\n",
       "</div>"
      ],
      "text/plain": [
       "    Age Gender  Birth_M    Hobby   Label\n",
       "0  42.0   male     12.0  reading  class2"
      ]
     },
     "execution_count": 10,
     "metadata": {},
     "output_type": "execute_result"
    }
   ],
   "source": [
    "# thresh 속성에 숫자를 지정하면 결측치를 제외한 갯수가 숫자보다 작은 행을 삭제한다.\n",
    "df.dropna(thresh=5)"
   ]
  },
  {
   "cell_type": "code",
   "execution_count": 11,
   "id": "374101e0-2906-4140-ab92-9ab17306c44e",
   "metadata": {
    "tags": []
   },
   "outputs": [
    {
     "data": {
      "text/html": [
       "<div>\n",
       "<style scoped>\n",
       "    .dataframe tbody tr th:only-of-type {\n",
       "        vertical-align: middle;\n",
       "    }\n",
       "\n",
       "    .dataframe tbody tr th {\n",
       "        vertical-align: top;\n",
       "    }\n",
       "\n",
       "    .dataframe thead th {\n",
       "        text-align: right;\n",
       "    }\n",
       "</style>\n",
       "<table border=\"1\" class=\"dataframe\">\n",
       "  <thead>\n",
       "    <tr style=\"text-align: right;\">\n",
       "      <th></th>\n",
       "      <th>Age</th>\n",
       "      <th>Gender</th>\n",
       "      <th>Birth_M</th>\n",
       "      <th>Hobby</th>\n",
       "      <th>Label</th>\n",
       "    </tr>\n",
       "  </thead>\n",
       "  <tbody>\n",
       "    <tr>\n",
       "      <th>0</th>\n",
       "      <td>42.0</td>\n",
       "      <td>male</td>\n",
       "      <td>12.0</td>\n",
       "      <td>reading</td>\n",
       "      <td>class2</td>\n",
       "    </tr>\n",
       "    <tr>\n",
       "      <th>2</th>\n",
       "      <td>NaN</td>\n",
       "      <td>female</td>\n",
       "      <td>7.0</td>\n",
       "      <td>cycling</td>\n",
       "      <td>class3</td>\n",
       "    </tr>\n",
       "  </tbody>\n",
       "</table>\n",
       "</div>"
      ],
      "text/plain": [
       "    Age  Gender  Birth_M    Hobby   Label\n",
       "0  42.0    male     12.0  reading  class2\n",
       "2   NaN  female      7.0  cycling  class3"
      ]
     },
     "execution_count": 11,
     "metadata": {},
     "output_type": "execute_result"
    }
   ],
   "source": [
    "# subset 속성에 열이름을 지정하면 특정 열에 결측치가 존재하는 행을 삭제한다.\n",
    "df.dropna(subset=['Gender'])"
   ]
  },
  {
   "cell_type": "code",
   "execution_count": 12,
   "id": "4d7398ca-8a4b-470f-ab1e-bc6d243f1fc5",
   "metadata": {
    "tags": []
   },
   "outputs": [
    {
     "data": {
      "text/html": [
       "<div>\n",
       "<style scoped>\n",
       "    .dataframe tbody tr th:only-of-type {\n",
       "        vertical-align: middle;\n",
       "    }\n",
       "\n",
       "    .dataframe tbody tr th {\n",
       "        vertical-align: top;\n",
       "    }\n",
       "\n",
       "    .dataframe thead th {\n",
       "        text-align: right;\n",
       "    }\n",
       "</style>\n",
       "<table border=\"1\" class=\"dataframe\">\n",
       "  <thead>\n",
       "    <tr style=\"text-align: right;\">\n",
       "      <th></th>\n",
       "      <th>Age</th>\n",
       "      <th>Gender</th>\n",
       "      <th>Birth_M</th>\n",
       "      <th>Hobby</th>\n",
       "      <th>Label</th>\n",
       "    </tr>\n",
       "  </thead>\n",
       "  <tbody>\n",
       "    <tr>\n",
       "      <th>0</th>\n",
       "      <td>42.0</td>\n",
       "      <td>male</td>\n",
       "      <td>12.0</td>\n",
       "      <td>reading</td>\n",
       "      <td>class2</td>\n",
       "    </tr>\n",
       "    <tr>\n",
       "      <th>1</th>\n",
       "      <td>35.0</td>\n",
       "      <td>0</td>\n",
       "      <td>3.0</td>\n",
       "      <td>cooking</td>\n",
       "      <td>class1</td>\n",
       "    </tr>\n",
       "    <tr>\n",
       "      <th>2</th>\n",
       "      <td>0.0</td>\n",
       "      <td>female</td>\n",
       "      <td>7.0</td>\n",
       "      <td>cycling</td>\n",
       "      <td>class3</td>\n",
       "    </tr>\n",
       "    <tr>\n",
       "      <th>3</th>\n",
       "      <td>0.0</td>\n",
       "      <td>0</td>\n",
       "      <td>0.0</td>\n",
       "      <td>0</td>\n",
       "      <td>0</td>\n",
       "    </tr>\n",
       "  </tbody>\n",
       "</table>\n",
       "</div>"
      ],
      "text/plain": [
       "    Age  Gender  Birth_M    Hobby   Label\n",
       "0  42.0    male     12.0  reading  class2\n",
       "1  35.0       0      3.0  cooking  class1\n",
       "2   0.0  female      7.0  cycling  class3\n",
       "3   0.0       0      0.0        0       0"
      ]
     },
     "execution_count": 12,
     "metadata": {},
     "output_type": "execute_result"
    }
   ],
   "source": [
    "#fillna() 메소드로 결측치를 대체할 값을 지정할 수 있다.\n",
    "df.fillna(0)"
   ]
  },
  {
   "cell_type": "code",
   "execution_count": 13,
   "id": "81f33d78-2a61-43f1-83a2-fd19e7636714",
   "metadata": {
    "tags": []
   },
   "outputs": [],
   "source": [
    "# fillna() 메소드의 value 속성으로 결측치를 대체할 값이 저장된 딕셔너리를 지정해서 열별로 결측치를 대체할 수 있다.\n",
    "# 열 이름을 key로 하고 결측치를 대체할 값을 value로 하는 딕셔너리를 지정한다.\n",
    "alter_values = {'Age' : 0, 'Gender' : '0', 'Birth_M' : 0.0, 'Hobby' : 'Nothing', 'Label' : 'class4'}\n",
    "df.fillna(value=alter_values, inplace=True)"
   ]
  },
  {
   "cell_type": "markdown",
   "id": "8173bd2b-9571-4f68-864c-86ca0a8adea9",
   "metadata": {},
   "source": [
    "***\n",
    "기계 처리에 적합하도록 클래스 레이블 설정\n",
    "***\n",
    "Label 열을 보면 문자열(Object) 형태인데, 기계처리에 적합하도록 하기위해 문자열을 상수(int)로 바꿔야 하는 경우가 있다.  \n"
   ]
  },
  {
   "cell_type": "markdown",
   "id": "952e853a-a929-48ae-ac41-f0a804c41fa3",
   "metadata": {},
   "source": [
    "***\n",
    "Scikit-learn을 사용하지 않고 레이블 설정하기\n",
    "***"
   ]
  },
  {
   "cell_type": "code",
   "execution_count": 14,
   "id": "2cc7a81c-9a42-46ff-83ff-48bc79fe6dec",
   "metadata": {
    "tags": []
   },
   "outputs": [
    {
     "name": "stdout",
     "output_type": "stream",
     "text": [
      "['class2' 'class1' 'class3' 'class4']\n",
      "['class1' 'class2' 'class3' 'class4']\n"
     ]
    }
   ],
   "source": [
    "# 라벨링할 레이블만 얻어와서 오름차순으로 정렬한다.\n",
    "label_df = df.Label.values\n",
    "print(label_df)\n",
    "label_df.sort()# 오름차순 정렬\n",
    "#label_df[::-1] # 내림차순 정렬\n",
    "print(label_df)\n"
   ]
  },
  {
   "cell_type": "code",
   "execution_count": 15,
   "id": "0a27f4d1-074c-47e0-9e9c-889a3e1d4d31",
   "metadata": {
    "tags": []
   },
   "outputs": [
    {
     "name": "stdout",
     "output_type": "stream",
     "text": [
      "{'class1': 0, 'class2': 1, 'class3': 2, 'class4': 3}\n"
     ]
    }
   ],
   "source": [
    "# 반복문을 실행해서 정렬된 레이블을 Key로 일련번호를 value로 하는 딕셔너리를 만든다.\n",
    "label_dict = dict()\n",
    "for key, value in enumerate( label_df ) :\n",
    "     #print(idx, val)\n",
    "     label_dict[value] = key\n",
    "print(label_dict)"
   ]
  },
  {
   "cell_type": "code",
   "execution_count": 16,
   "id": "8ea78aa8-051c-47c9-b0bf-f472620516b9",
   "metadata": {
    "tags": []
   },
   "outputs": [
    {
     "data": {
      "text/html": [
       "<div>\n",
       "<style scoped>\n",
       "    .dataframe tbody tr th:only-of-type {\n",
       "        vertical-align: middle;\n",
       "    }\n",
       "\n",
       "    .dataframe tbody tr th {\n",
       "        vertical-align: top;\n",
       "    }\n",
       "\n",
       "    .dataframe thead th {\n",
       "        text-align: right;\n",
       "    }\n",
       "</style>\n",
       "<table border=\"1\" class=\"dataframe\">\n",
       "  <thead>\n",
       "    <tr style=\"text-align: right;\">\n",
       "      <th></th>\n",
       "      <th>Age</th>\n",
       "      <th>Gender</th>\n",
       "      <th>Birth_M</th>\n",
       "      <th>Hobby</th>\n",
       "      <th>Label</th>\n",
       "      <th>Label_1</th>\n",
       "    </tr>\n",
       "  </thead>\n",
       "  <tbody>\n",
       "    <tr>\n",
       "      <th>0</th>\n",
       "      <td>42.0</td>\n",
       "      <td>male</td>\n",
       "      <td>12.0</td>\n",
       "      <td>reading</td>\n",
       "      <td>class1</td>\n",
       "      <td>0</td>\n",
       "    </tr>\n",
       "    <tr>\n",
       "      <th>1</th>\n",
       "      <td>35.0</td>\n",
       "      <td>0</td>\n",
       "      <td>3.0</td>\n",
       "      <td>cooking</td>\n",
       "      <td>class2</td>\n",
       "      <td>1</td>\n",
       "    </tr>\n",
       "    <tr>\n",
       "      <th>2</th>\n",
       "      <td>0.0</td>\n",
       "      <td>female</td>\n",
       "      <td>7.0</td>\n",
       "      <td>cycling</td>\n",
       "      <td>class3</td>\n",
       "      <td>2</td>\n",
       "    </tr>\n",
       "    <tr>\n",
       "      <th>3</th>\n",
       "      <td>0.0</td>\n",
       "      <td>0</td>\n",
       "      <td>0.0</td>\n",
       "      <td>Nothing</td>\n",
       "      <td>class4</td>\n",
       "      <td>3</td>\n",
       "    </tr>\n",
       "  </tbody>\n",
       "</table>\n",
       "</div>"
      ],
      "text/plain": [
       "    Age  Gender  Birth_M    Hobby   Label  Label_1\n",
       "0  42.0    male     12.0  reading  class1        0\n",
       "1  35.0       0      3.0  cooking  class2        1\n",
       "2   0.0  female      7.0  cycling  class3        2\n",
       "3   0.0       0      0.0  Nothing  class4        3"
      ]
     },
     "execution_count": 16,
     "metadata": {},
     "output_type": "execute_result"
    }
   ],
   "source": [
    "#### replace() 메소드를 이용해서 딕셔너리에 저장된 데이터로 레이블을 라벨링한다.\n",
    "df['Label_1'] = df.Label.replace(label_dict)\n",
    "df"
   ]
  },
  {
   "cell_type": "markdown",
   "id": "206b2c7d-0428-4ed3-a0f2-8e6c535d559d",
   "metadata": {},
   "source": [
    "***\n",
    "Scikit-learn으로 레이블 설정하기\n",
    "***"
   ]
  },
  {
   "cell_type": "code",
   "execution_count": 17,
   "id": "2f626c93-8f80-4ab6-a034-b3796f7ab2b7",
   "metadata": {
    "tags": []
   },
   "outputs": [],
   "source": [
    "# 레이블 라벨링을 하기 위해 import 한다.\n",
    "from sklearn.preprocessing import LabelEncoder"
   ]
  },
  {
   "cell_type": "code",
   "execution_count": 18,
   "id": "57d66359-1c16-44b3-baea-9a24b01d0a1d",
   "metadata": {
    "tags": []
   },
   "outputs": [
    {
     "name": "stdout",
     "output_type": "stream",
     "text": [
      "['class1' 'class2' 'class3' 'class4']\n",
      "[0 1 2 3]\n"
     ]
    },
    {
     "data": {
      "text/html": [
       "<div>\n",
       "<style scoped>\n",
       "    .dataframe tbody tr th:only-of-type {\n",
       "        vertical-align: middle;\n",
       "    }\n",
       "\n",
       "    .dataframe tbody tr th {\n",
       "        vertical-align: top;\n",
       "    }\n",
       "\n",
       "    .dataframe thead th {\n",
       "        text-align: right;\n",
       "    }\n",
       "</style>\n",
       "<table border=\"1\" class=\"dataframe\">\n",
       "  <thead>\n",
       "    <tr style=\"text-align: right;\">\n",
       "      <th></th>\n",
       "      <th>Age</th>\n",
       "      <th>Gender</th>\n",
       "      <th>Birth_M</th>\n",
       "      <th>Hobby</th>\n",
       "      <th>Label</th>\n",
       "      <th>Label_1</th>\n",
       "      <th>Label_2</th>\n",
       "    </tr>\n",
       "  </thead>\n",
       "  <tbody>\n",
       "    <tr>\n",
       "      <th>0</th>\n",
       "      <td>42.0</td>\n",
       "      <td>male</td>\n",
       "      <td>12.0</td>\n",
       "      <td>reading</td>\n",
       "      <td>class1</td>\n",
       "      <td>0</td>\n",
       "      <td>0</td>\n",
       "    </tr>\n",
       "    <tr>\n",
       "      <th>1</th>\n",
       "      <td>35.0</td>\n",
       "      <td>0</td>\n",
       "      <td>3.0</td>\n",
       "      <td>cooking</td>\n",
       "      <td>class2</td>\n",
       "      <td>1</td>\n",
       "      <td>1</td>\n",
       "    </tr>\n",
       "    <tr>\n",
       "      <th>2</th>\n",
       "      <td>0.0</td>\n",
       "      <td>female</td>\n",
       "      <td>7.0</td>\n",
       "      <td>cycling</td>\n",
       "      <td>class3</td>\n",
       "      <td>2</td>\n",
       "      <td>2</td>\n",
       "    </tr>\n",
       "    <tr>\n",
       "      <th>3</th>\n",
       "      <td>0.0</td>\n",
       "      <td>0</td>\n",
       "      <td>0.0</td>\n",
       "      <td>Nothing</td>\n",
       "      <td>class4</td>\n",
       "      <td>3</td>\n",
       "      <td>3</td>\n",
       "    </tr>\n",
       "  </tbody>\n",
       "</table>\n",
       "</div>"
      ],
      "text/plain": [
       "    Age  Gender  Birth_M    Hobby   Label  Label_1  Label_2\n",
       "0  42.0    male     12.0  reading  class1        0        0\n",
       "1  35.0       0      3.0  cooking  class2        1        1\n",
       "2   0.0  female      7.0  cycling  class3        2        2\n",
       "3   0.0       0      0.0  Nothing  class4        3        3"
      ]
     },
     "execution_count": 18,
     "metadata": {},
     "output_type": "execute_result"
    }
   ],
   "source": [
    "encoded_Label = LabelEncoder() #라벨링을 실행할 객체를 만든다.\n",
    "unLabel = df.Label.values #라벨링할 데이터를 얻어온다.\n",
    "print(unLabel)\n",
    "\n",
    "#new_Label = encoded_Label.fit(unLabel) # 학습시킨다.\n",
    "#new_Label = new_Label.transform(unLabel) # 학습한 결과를 적용시킨다.\n",
    "# fit_transform() 메소드는 학습(fit)과 적용(transform)을 한번에 실행한다.\n",
    "new_Label = encoded_Label.fit_transform(unLabel)\n",
    "print(new_Label)\n",
    "\n",
    "# 라벨링한 결괄르 데이터프레임에 넣어준다.\n",
    "df['Label_2'] = new_Label\n",
    "df"
   ]
  },
  {
   "cell_type": "markdown",
   "id": "8b464045-057b-45bd-8e21-e56e02816487",
   "metadata": {},
   "source": [
    "***\n",
    "원-핫 인코딩(One-Hot Encoding)\n",
    "***\n",
    "원-핫 인코딩은 클래스를 라벨링하는 또다른 방법으로 오직 0과 1만 사용한 벡터를 이용해서 데이터 값을 나타내는 것이다."
   ]
  },
  {
   "cell_type": "markdown",
   "id": "0e88b912-cba7-4fe5-8f5b-be2f0052430b",
   "metadata": {},
   "source": [
    "***\n",
    "* Pandas를 이용한 원-핫 인코딩\n",
    "***"
   ]
  },
  {
   "cell_type": "code",
   "execution_count": 19,
   "id": "d0aed9c7-da88-4a4e-8a44-383f6de0a384",
   "metadata": {
    "tags": []
   },
   "outputs": [
    {
     "data": {
      "text/html": [
       "<div>\n",
       "<style scoped>\n",
       "    .dataframe tbody tr th:only-of-type {\n",
       "        vertical-align: middle;\n",
       "    }\n",
       "\n",
       "    .dataframe tbody tr th {\n",
       "        vertical-align: top;\n",
       "    }\n",
       "\n",
       "    .dataframe thead th {\n",
       "        text-align: right;\n",
       "    }\n",
       "</style>\n",
       "<table border=\"1\" class=\"dataframe\">\n",
       "  <thead>\n",
       "    <tr style=\"text-align: right;\">\n",
       "      <th></th>\n",
       "      <th>class1</th>\n",
       "      <th>class2</th>\n",
       "      <th>class3</th>\n",
       "      <th>class4</th>\n",
       "    </tr>\n",
       "  </thead>\n",
       "  <tbody>\n",
       "    <tr>\n",
       "      <th>0</th>\n",
       "      <td>1</td>\n",
       "      <td>0</td>\n",
       "      <td>0</td>\n",
       "      <td>0</td>\n",
       "    </tr>\n",
       "    <tr>\n",
       "      <th>1</th>\n",
       "      <td>0</td>\n",
       "      <td>1</td>\n",
       "      <td>0</td>\n",
       "      <td>0</td>\n",
       "    </tr>\n",
       "    <tr>\n",
       "      <th>2</th>\n",
       "      <td>0</td>\n",
       "      <td>0</td>\n",
       "      <td>1</td>\n",
       "      <td>0</td>\n",
       "    </tr>\n",
       "    <tr>\n",
       "      <th>3</th>\n",
       "      <td>0</td>\n",
       "      <td>0</td>\n",
       "      <td>0</td>\n",
       "      <td>1</td>\n",
       "    </tr>\n",
       "  </tbody>\n",
       "</table>\n",
       "</div>"
      ],
      "text/plain": [
       "   class1  class2  class3  class4\n",
       "0       1       0       0       0\n",
       "1       0       1       0       0\n",
       "2       0       0       1       0\n",
       "3       0       0       0       1"
      ]
     },
     "execution_count": 19,
     "metadata": {},
     "output_type": "execute_result"
    }
   ],
   "source": [
    "pd.get_dummies(df.Label)"
   ]
  },
  {
   "cell_type": "code",
   "execution_count": 20,
   "id": "4fbf64b4-19fd-4d31-8c4f-420dfa2020e6",
   "metadata": {
    "tags": []
   },
   "outputs": [
    {
     "data": {
      "text/html": [
       "<div>\n",
       "<style scoped>\n",
       "    .dataframe tbody tr th:only-of-type {\n",
       "        vertical-align: middle;\n",
       "    }\n",
       "\n",
       "    .dataframe tbody tr th {\n",
       "        vertical-align: top;\n",
       "    }\n",
       "\n",
       "    .dataframe thead th {\n",
       "        text-align: right;\n",
       "    }\n",
       "</style>\n",
       "<table border=\"1\" class=\"dataframe\">\n",
       "  <thead>\n",
       "    <tr style=\"text-align: right;\">\n",
       "      <th></th>\n",
       "      <th>0.0</th>\n",
       "      <th>35.0</th>\n",
       "      <th>42.0</th>\n",
       "    </tr>\n",
       "  </thead>\n",
       "  <tbody>\n",
       "    <tr>\n",
       "      <th>0</th>\n",
       "      <td>0</td>\n",
       "      <td>0</td>\n",
       "      <td>1</td>\n",
       "    </tr>\n",
       "    <tr>\n",
       "      <th>1</th>\n",
       "      <td>0</td>\n",
       "      <td>1</td>\n",
       "      <td>0</td>\n",
       "    </tr>\n",
       "    <tr>\n",
       "      <th>2</th>\n",
       "      <td>1</td>\n",
       "      <td>0</td>\n",
       "      <td>0</td>\n",
       "    </tr>\n",
       "    <tr>\n",
       "      <th>3</th>\n",
       "      <td>1</td>\n",
       "      <td>0</td>\n",
       "      <td>0</td>\n",
       "    </tr>\n",
       "  </tbody>\n",
       "</table>\n",
       "</div>"
      ],
      "text/plain": [
       "   0.0   35.0  42.0\n",
       "0     0     0     1\n",
       "1     0     1     0\n",
       "2     1     0     0\n",
       "3     1     0     0"
      ]
     },
     "execution_count": 20,
     "metadata": {},
     "output_type": "execute_result"
    }
   ],
   "source": [
    "pd.get_dummies(df.Age)"
   ]
  },
  {
   "cell_type": "code",
   "execution_count": 21,
   "id": "e8b91220-532a-4783-8706-0c3052af6016",
   "metadata": {
    "tags": []
   },
   "outputs": [
    {
     "data": {
      "text/html": [
       "<div>\n",
       "<style scoped>\n",
       "    .dataframe tbody tr th:only-of-type {\n",
       "        vertical-align: middle;\n",
       "    }\n",
       "\n",
       "    .dataframe tbody tr th {\n",
       "        vertical-align: top;\n",
       "    }\n",
       "\n",
       "    .dataframe thead th {\n",
       "        text-align: right;\n",
       "    }\n",
       "</style>\n",
       "<table border=\"1\" class=\"dataframe\">\n",
       "  <thead>\n",
       "    <tr style=\"text-align: right;\">\n",
       "      <th></th>\n",
       "      <th>class2</th>\n",
       "      <th>class3</th>\n",
       "      <th>class4</th>\n",
       "    </tr>\n",
       "  </thead>\n",
       "  <tbody>\n",
       "    <tr>\n",
       "      <th>0</th>\n",
       "      <td>0</td>\n",
       "      <td>0</td>\n",
       "      <td>0</td>\n",
       "    </tr>\n",
       "    <tr>\n",
       "      <th>1</th>\n",
       "      <td>1</td>\n",
       "      <td>0</td>\n",
       "      <td>0</td>\n",
       "    </tr>\n",
       "    <tr>\n",
       "      <th>2</th>\n",
       "      <td>0</td>\n",
       "      <td>1</td>\n",
       "      <td>0</td>\n",
       "    </tr>\n",
       "    <tr>\n",
       "      <th>3</th>\n",
       "      <td>0</td>\n",
       "      <td>0</td>\n",
       "      <td>1</td>\n",
       "    </tr>\n",
       "  </tbody>\n",
       "</table>\n",
       "</div>"
      ],
      "text/plain": [
       "   class2  class3  class4\n",
       "0       0       0       0\n",
       "1       1       0       0\n",
       "2       0       1       0\n",
       "3       0       0       1"
      ]
     },
     "execution_count": 21,
     "metadata": {},
     "output_type": "execute_result"
    }
   ],
   "source": [
    "# 위 방법에서는 길이가 4인 벡터를 이용해서 클래스(레이블)를 구분했다.\n",
    "# drop_first 속성값을 True로 지정하면 벡터 길이를 하나 줄인 벡러를 이용해 원-핫인코딩을 할 수 있다.\n",
    "# drop_first=True 속성을 지정하면 3개의 0과 1의 조합으로 4개의 클래스가 구분되는 것을 확인할 수 있다.\n",
    "pd.get_dummies(df.Label, drop_first=True)"
   ]
  },
  {
   "cell_type": "markdown",
   "id": "f5b8dbf1-6e4f-405e-9773-766380f0f3e5",
   "metadata": {},
   "source": [
    "***\n",
    "Scikit-learn을 이용한 원-핫인코딩\n",
    "***"
   ]
  },
  {
   "cell_type": "code",
   "execution_count": 22,
   "id": "9c2db414-f4a1-478e-a68d-e66ba48c39a9",
   "metadata": {
    "tags": []
   },
   "outputs": [],
   "source": [
    "# 원-핫 인코딩을 하기위해 import 한다.\n",
    "from sklearn.preprocessing import OneHotEncoder"
   ]
  },
  {
   "cell_type": "code",
   "execution_count": 23,
   "id": "410fba62-47cc-4004-83c0-2493ab34aed7",
   "metadata": {
    "tags": []
   },
   "outputs": [
    {
     "name": "stdout",
     "output_type": "stream",
     "text": [
      "    Label\n",
      "0  class1\n",
      "1  class2\n",
      "2  class3\n",
      "3  class4\n",
      "  (0, 0)\t1.0\n",
      "  (1, 1)\t1.0\n",
      "  (2, 2)\t1.0\n",
      "  (3, 3)\t1.0\n",
      "<class 'scipy.sparse.csr.csr_matrix'>\n",
      "[[1. 0. 0. 0.]\n",
      " [0. 1. 0. 0.]\n",
      " [0. 0. 1. 0.]\n",
      " [0. 0. 0. 1.]]\n",
      "<class 'numpy.ndarray'>\n"
     ]
    }
   ],
   "source": [
    "one_hot = OneHotEncoder() # 원-핫인코딩을 실행할 객체를 만든다.\n",
    "label = df[['Label']] # 원-핫 인코딩을 실행할 데이터를 얻어온다.\n",
    "print(label)\n",
    "\n",
    "#new_Label = one_hot.fit(label) # 학습시킨다. 원-핫 인코딩을 실행한다.\n",
    "#new_Label = one_hot.transform(label) # 학습한 결과를 적용시킨다.\n",
    "new_Label = one_hot.fit_transform(label)\n",
    "print(new_Label) # 결과를 출력하면 희소 행렬로 출력된다.\n",
    "print(type(new_Label))\n",
    "\n",
    "print(new_Label.toarray())\n",
    "print(type(new_Label.toarray()))"
   ]
  },
  {
   "cell_type": "markdown",
   "id": "fbe07518-07bc-4fb1-aea1-83207b20499c",
   "metadata": {},
   "source": [
    "***\n",
    "tensorflow를 이용한 원-핫인코딩\n",
    "***"
   ]
  },
  {
   "cell_type": "code",
   "execution_count": 24,
   "id": "63eb61f0-9f92-43ff-af21-71700797f8fe",
   "metadata": {
    "tags": []
   },
   "outputs": [],
   "source": [
    "# 원-핫인코딩을 하기 위해 import 한다.\n",
    "from tensorflow.keras.utils import to_categorical"
   ]
  },
  {
   "cell_type": "code",
   "execution_count": 25,
   "id": "a735bc05-b004-4f94-b2ba-ddd98dca1d4e",
   "metadata": {
    "tags": []
   },
   "outputs": [
    {
     "name": "stdout",
     "output_type": "stream",
     "text": [
      "[[1. 0. 0. 0.]\n",
      " [0. 1. 0. 0.]\n",
      " [0. 0. 1. 0.]\n",
      " [0. 0. 0. 1.]]\n",
      "<class 'numpy.ndarray'>\n"
     ]
    }
   ],
   "source": [
    "label = df[['Label_2']] # 원-핫 인코딩을 실행할 데이터를 얻어온다.\n",
    "new_Label = to_categorical(label) #원-핫 인코딩을 실행한다. 인수로 반드시 숫자를 넘겨야한다.\n",
    "print(new_Label)\n",
    "print(type(new_Label))\n"
   ]
  },
  {
   "cell_type": "markdown",
   "id": "800798a0-d760-41f3-931c-6c917f5a42a1",
   "metadata": {},
   "source": [
    " ***\n",
    " 데이터 스케일링(Data scaling) -> 정규화\n",
    " ***\n",
    " 피쳐는 제각기 다른 단위를 가지기때문에 이로인해 숫자 자체의 크기 차이가 발생한다.  \n",
    " 데이터 스케일링은 데이터 값이 단위의 영향을 받지 않도록 변형하는 것을 의미한다.  \n",
    " 전체 데이터를 학습데이터와 테스트 데이터로 나누고 스케일링의 기준이 되는 값을 구할 때는 학습데이터만으로 구한다."
   ]
  },
  {
   "cell_type": "markdown",
   "id": "fcac061b-cdd9-4455-8fbb-2234bac3e142",
   "metadata": {},
   "source": [
    "***\n",
    "-  표준화(Standard) 스케일링 \n",
    "***\n",
    "대표적인 데이터 스케일링 방법으로 평균이 0, 표준편차가 1이 되도록 변경하는 방법이다. -> 표준 정규 분포;평균 0, 표준편차 1\n",
    "\n",
    "$$\\frac{x_i - \\bar x}{\\sigma}$$\n",
    "\n",
    "기존 데이터값에서 평균을 뺀 후, 표준편차로 나눈다."
   ]
  },
  {
   "cell_type": "code",
   "execution_count": 26,
   "id": "a9c5902e-12db-4b31-94f8-b56293d9a6b3",
   "metadata": {
    "tags": []
   },
   "outputs": [],
   "source": [
    "# 표준화 스케일링을 하기 위해 import 한다.\n",
    "from sklearn.preprocessing import StandardScaler"
   ]
  },
  {
   "cell_type": "code",
   "execution_count": 27,
   "id": "787c266c-415f-4957-941e-e54543c5e08c",
   "metadata": {
    "tags": []
   },
   "outputs": [
    {
     "name": "stdout",
     "output_type": "stream",
     "text": [
      "   Birth_M\n",
      "0     12.0\n",
      "1      3.0\n",
      "2      7.0\n",
      "3      0.0\n",
      "----------\n",
      "[[ 1.44444444]\n",
      " [-0.55555556]\n",
      " [ 0.33333333]\n",
      " [-1.22222222]]\n"
     ]
    }
   ],
   "source": [
    "std = StandardScaler() # 표준화 스케일링 객체를 선언한다.\n",
    "#표준화 스케일러를 적용할 데이터를 fit() 메소드로 학습시킨 후 transform() 메소드로 적용시킨다.\n",
    "y = df[['Birth_M']]\n",
    "print(y)\n",
    "print('----------')\n",
    "std.fit(y)\n",
    "x_std = std.transform(y)\n",
    "print(x_std)"
   ]
  },
  {
   "cell_type": "code",
   "execution_count": 28,
   "id": "2bcf7068-1a86-4afa-b5e0-3f08806c38e2",
   "metadata": {},
   "outputs": [
    {
     "name": "stdout",
     "output_type": "stream",
     "text": [
      "평균 -> -0.0, 표준편차 -> 1.000000\n"
     ]
    }
   ],
   "source": [
    "# 실제로 표준화 스케일링 후 데이터가 평균이 0, 표준편차가 1인지 확인한다.\n",
    "print('평균 -> {:.1f}, 표준편차 -> {:1f}'.format(np.mean(x_std), np.std(x_std)))"
   ]
  },
  {
   "cell_type": "markdown",
   "id": "5956ec68-527d-4b6f-a78e-acda25170238",
   "metadata": {
    "tags": []
   },
   "source": [
    "***\n",
    "로버스트 스케일링\n",
    "***\n",
    "표준화 스케일리을 변형한 방법으로 중앙값(median)과 사분위수(quantile)을 사용한다. 극단값의 영향을 거의 받지 않는 다는 장점이 있다..\n",
    "\n",
    "$$\\frac{x_i - q_2}{q_3 - q_1}$$\n",
    "\n",
    "위 식에서 q<sub>1</sub>는 2사분위수(중위수), a<sub>3</sub>는 3분위수를 의미한다.                                                                                                                                                                                             "
   ]
  },
  {
   "cell_type": "code",
   "execution_count": 29,
   "id": "5106a164-d0bc-437d-a536-3db09271e931",
   "metadata": {
    "tags": []
   },
   "outputs": [],
   "source": [
    "# 로버스트 스케일링을 하기 위해 import 한다.\n",
    "from sklearn.preprocessing import RobustScaler"
   ]
  },
  {
   "cell_type": "code",
   "execution_count": 30,
   "id": "0142872d-e263-4a24-b04c-5cdf34a2ce16",
   "metadata": {
    "tags": []
   },
   "outputs": [
    {
     "name": "stdout",
     "output_type": "stream",
     "text": [
      "[[ 1.16666667]\n",
      " [-0.33333333]\n",
      " [ 0.33333333]\n",
      " [-0.83333333]]\n"
     ]
    }
   ],
   "source": [
    "robust = RobustScaler() # 로버스트 스케일링 객체를 선언한다.\n",
    "#로버스트 스케일러를 적용할 데이터를 fit() 메소드로 학습시킨 후 transform() 메소드로 적용시킨다.\n",
    "y = df[['Birth_M']]\n",
    "robust.fit(y) # 로버스트 스케일링을 학습시킨다.\n",
    "x_robust = robust.transform(y) # 학습 결과를 적용시킨다.\n",
    "print(x_robust)"
   ]
  },
  {
   "cell_type": "markdown",
   "id": "5fd30079-f3bf-4a26-a84c-ddcd148b948d",
   "metadata": {},
   "source": [
    "***\n",
    "최소-최대(min-max) 스케일링\n",
    "***\n",
    "$$\\frac{x_i - min(x)}{max(x) - min(x)}$$\n",
    "\n",
    "데이터 값의 범위를 최소값(0)과 최대값(1) 사이의 값으로 범위를 제한한다."
   ]
  },
  {
   "cell_type": "code",
   "execution_count": 31,
   "id": "a22d4562-acbf-40c8-8623-521106de9c1d",
   "metadata": {
    "tags": []
   },
   "outputs": [],
   "source": [
    "#최소-최대 스케일리을 하기 위해 import 한다.\n",
    "from sklearn.preprocessing import MinMaxScaler"
   ]
  },
  {
   "cell_type": "code",
   "execution_count": 32,
   "id": "da8d9b4c-1a21-4514-adf7-ae56bb16ef90",
   "metadata": {
    "tags": []
   },
   "outputs": [
    {
     "name": "stdout",
     "output_type": "stream",
     "text": [
      "[[1.        ]\n",
      " [0.25      ]\n",
      " [0.58333333]\n",
      " [0.        ]]\n"
     ]
    }
   ],
   "source": [
    "min_max = MinMaxScaler() # 로버스트 스케일링 객체를 선언한다.\n",
    "#로버스트 스케일러를 적용할 데이터를 fit() 메소드로 학습시킨 후 transform() 메소드로 적용시킨다.\n",
    "y = df[['Birth_M']]\n",
    "#min_max.fit(y) # 로버스트 스케일링을 학습시킨다.\n",
    "#x_min_max = min_max.transform(y) # 학습 결과를 적용시킨다.\n",
    "x_min_max = min_max.fit_transform(y)\n",
    "print(x_min_max)"
   ]
  },
  {
   "cell_type": "markdown",
   "id": "1d7fed7a-e4f6-4750-9a25-5b1f8014899f",
   "metadata": {},
   "source": [
    "***\n",
    "노멀(Normal Scaling) 스케일링\n",
    "***\n",
    "벡터의 유클리드 거리(두 점 사이의 거리 계산에 사용)가 1이 되도록 데이터값을 변경한다.  \n",
    "주로, 벡터의 길이는 상관없고 방향(각도)만을 고려할 때 사용한다.  \n",
    "표준화, 로버스트, 최소-최대 스케일링은 열 기준인 것과 다르게 노멀 스케일링은 행 기준이다.  \n",
    "\n",
    "$$\\frac{x_i}{\\sqrt{x_i^2 + y_i^2 + z_i^2}}$$\n"
   ]
  },
  {
   "cell_type": "code",
   "execution_count": 33,
   "id": "be199a2f-922d-48dd-8941-155fafc33a07",
   "metadata": {
    "tags": []
   },
   "outputs": [],
   "source": [
    "#노멀 스케일링을 하기 위해 import 한다.\n",
    "from sklearn.preprocessing import Normalizer"
   ]
  },
  {
   "cell_type": "code",
   "execution_count": 34,
   "id": "19f32d89-06b6-4f65-ba7d-42685f3d588a",
   "metadata": {
    "tags": []
   },
   "outputs": [
    {
     "name": "stdout",
     "output_type": "stream",
     "text": [
      "[[0.96152395 0.27472113]\n",
      " [0.99634665 0.08540114]\n",
      " [0.         1.        ]\n",
      " [0.         0.        ]]\n"
     ]
    }
   ],
   "source": [
    "normal = Normalizer() # 로버스트 스케일링 객체를 선언한다.\n",
    "#로버스트 스케일러를 적용할 데이터를 fit() 메소드로 학습시킨 후 transform() 메소드로 적용시킨다.\n",
    "y = df[['Age', 'Birth_M']]\n",
    "#normal.fit(y) # 로버스트 스케일링을 학습시킨다.\n",
    "#x_normal = normal.transform(y) # 학습 결과를 적용시킨다.\n",
    "x_normal = normal.fit_transform(y)\n",
    "print(x_normal)"
   ]
  },
  {
   "cell_type": "markdown",
   "id": "5b4b253d-c998-4de5-96c9-20787421ac99",
   "metadata": {},
   "source": [
    "***\n",
    "데이터 스케일링 과정에서 fit() 메소드는 학습 데이터에 대해서만 사용하며, 테스트 데이터에는 fit() 메소드를 사용하지 않고  \n",
    "transform() 메소드만 사용한다.   \n",
    "그 이유는 스케일러는 학습 데이터를 기반으로 만들어야하기 때문이다.  \n",
    "만약, 학습 데이터와 테스트 데이터에 fit() 메소드를 실행해서 각각이 데이터로 스케일링을 한다면 학습 데이터와 테스트 데이터의 분포가 다르기때문에  \n",
    "학습 데이터와 테스트 데이터의 스케일링 범위 및 파라미터가 달라진다.\n",
    "***\n",
    "\n",
    "from skleaarn.preprocessing import StandardScaler\n",
    "std = StandarScaler()  \n",
    "\n",
    "std.fit(x_train) # 학습 데이터로 스케일러를 학습시킨다.  \n",
    "x_train_std = std.transform(x_train) # 학습 데이터에 스케일러를 적용시킨다.  \n",
    "\n",
    "또는   \n",
    "\n",
    "x_train_std = std.fit_transform(x_train)  \n",
    "방법을 사용해서 스케일러를 학습시킨 후 적용한다.\n",
    "\n",
    "테스트 데이터는 fit() 메소드를 사용하지 않고 학습 데이터로 학습된 스케일러에 테스트 데이터를 적용만 시킨다.  \n",
    "x_test_std = std.transform(x_test)  \n",
    "\n",
    "\n",
    "***"
   ]
  },
  {
   "cell_type": "code",
   "execution_count": null,
   "id": "2dcdd348-eaac-4f7b-87ec-9c2108fefe46",
   "metadata": {},
   "outputs": [],
   "source": []
  },
  {
   "cell_type": "code",
   "execution_count": null,
   "id": "9aee0e18-1a97-455b-ae69-6ffa0511d5f8",
   "metadata": {},
   "outputs": [],
   "source": []
  },
  {
   "cell_type": "code",
   "execution_count": null,
   "id": "a9451837-fd3e-4e2a-be38-929a33e3b9d4",
   "metadata": {},
   "outputs": [],
   "source": []
  },
  {
   "cell_type": "code",
   "execution_count": null,
   "id": "1d7febda-033c-45a4-9e9f-fb746b89befd",
   "metadata": {},
   "outputs": [],
   "source": []
  },
  {
   "cell_type": "code",
   "execution_count": null,
   "id": "6f783133-923e-41c6-95af-258655e902e0",
   "metadata": {},
   "outputs": [],
   "source": []
  },
  {
   "cell_type": "code",
   "execution_count": null,
   "id": "f9859d0d-feb5-479b-a22a-80de0cf9bd57",
   "metadata": {},
   "outputs": [],
   "source": []
  },
  {
   "cell_type": "code",
   "execution_count": null,
   "id": "88a98cc3-34d5-4ceb-aaa7-71ea2d4bad2a",
   "metadata": {},
   "outputs": [],
   "source": []
  },
  {
   "cell_type": "code",
   "execution_count": null,
   "id": "a922f7cf-9859-4dc9-99d2-02cfff320d2d",
   "metadata": {},
   "outputs": [],
   "source": []
  },
  {
   "cell_type": "code",
   "execution_count": null,
   "id": "3c6c9aef-4816-4a59-b6a9-3d31a63f2011",
   "metadata": {},
   "outputs": [],
   "source": []
  },
  {
   "cell_type": "code",
   "execution_count": null,
   "id": "973605a4-ee4e-4a53-8602-2bf8ddff132d",
   "metadata": {},
   "outputs": [],
   "source": []
  },
  {
   "cell_type": "code",
   "execution_count": null,
   "id": "92f46037-d563-48d1-b02a-208b5b5db528",
   "metadata": {},
   "outputs": [],
   "source": []
  },
  {
   "cell_type": "code",
   "execution_count": null,
   "id": "35460808-79ed-4a98-a5d6-c86dc27e4704",
   "metadata": {},
   "outputs": [],
   "source": []
  },
  {
   "cell_type": "code",
   "execution_count": null,
   "id": "27fe30ca-69f8-4e96-bf46-5e9e05597b7e",
   "metadata": {},
   "outputs": [],
   "source": []
  },
  {
   "cell_type": "code",
   "execution_count": null,
   "id": "6e98157e-ba4d-414c-a195-70f7388d3675",
   "metadata": {},
   "outputs": [],
   "source": []
  },
  {
   "cell_type": "code",
   "execution_count": null,
   "id": "403f89b3-9bfe-477f-8059-1ec3b6ce698e",
   "metadata": {},
   "outputs": [],
   "source": []
  },
  {
   "cell_type": "code",
   "execution_count": null,
   "id": "380a5866-5297-45b0-a339-64c7869a5d82",
   "metadata": {},
   "outputs": [],
   "source": []
  },
  {
   "cell_type": "code",
   "execution_count": null,
   "id": "b953ad46-e899-4979-99fb-72d529850562",
   "metadata": {},
   "outputs": [],
   "source": []
  },
  {
   "cell_type": "code",
   "execution_count": null,
   "id": "6d53a5f6-5244-45e4-bdab-6e0f185203e6",
   "metadata": {},
   "outputs": [],
   "source": []
  },
  {
   "cell_type": "code",
   "execution_count": null,
   "id": "5eee1ea0-40c9-4712-afeb-5f384f54f933",
   "metadata": {},
   "outputs": [],
   "source": []
  },
  {
   "cell_type": "code",
   "execution_count": null,
   "id": "fdb905f9-a750-454b-a762-651879b75450",
   "metadata": {},
   "outputs": [],
   "source": []
  },
  {
   "cell_type": "code",
   "execution_count": null,
   "id": "fb717679-4299-4a16-b10a-4e622fa34259",
   "metadata": {},
   "outputs": [],
   "source": []
  },
  {
   "cell_type": "code",
   "execution_count": null,
   "id": "0e9f1fd1-79d0-47b9-b5ed-744f9a64e5a7",
   "metadata": {},
   "outputs": [],
   "source": []
  },
  {
   "cell_type": "code",
   "execution_count": null,
   "id": "d322f1a6-ec52-4849-b579-ec9312c938f1",
   "metadata": {},
   "outputs": [],
   "source": []
  },
  {
   "cell_type": "code",
   "execution_count": null,
   "id": "6e4d55e3-d17b-4aa1-ba06-83fe4781124f",
   "metadata": {},
   "outputs": [],
   "source": []
  },
  {
   "cell_type": "code",
   "execution_count": null,
   "id": "08bae755-7049-4427-97c4-8553b8b8ab1b",
   "metadata": {},
   "outputs": [],
   "source": []
  },
  {
   "cell_type": "code",
   "execution_count": null,
   "id": "c7785722-6905-4491-83a7-0971c099d228",
   "metadata": {},
   "outputs": [],
   "source": []
  },
  {
   "cell_type": "code",
   "execution_count": null,
   "id": "174c0bd8-7e1c-4d7e-9d8c-809e335d5cba",
   "metadata": {},
   "outputs": [],
   "source": []
  },
  {
   "cell_type": "code",
   "execution_count": null,
   "id": "c53c9efe-34b8-4f44-ab41-93fe625619e5",
   "metadata": {},
   "outputs": [],
   "source": []
  },
  {
   "cell_type": "code",
   "execution_count": null,
   "id": "bae710c4-23b0-4316-81ed-97931328a1d7",
   "metadata": {},
   "outputs": [],
   "source": []
  },
  {
   "cell_type": "code",
   "execution_count": null,
   "id": "3cf07fac-0967-4781-97f0-4e02df38b625",
   "metadata": {},
   "outputs": [],
   "source": []
  },
  {
   "cell_type": "code",
   "execution_count": null,
   "id": "769a6e4a-2322-4bef-843d-0d7ea8eb067a",
   "metadata": {},
   "outputs": [],
   "source": []
  },
  {
   "cell_type": "code",
   "execution_count": null,
   "id": "532b00eb-98f7-4124-a54f-c6c132045c6d",
   "metadata": {},
   "outputs": [],
   "source": []
  },
  {
   "cell_type": "code",
   "execution_count": null,
   "id": "d4224faf-93c8-4283-80aa-bf211333194f",
   "metadata": {},
   "outputs": [],
   "source": []
  },
  {
   "cell_type": "code",
   "execution_count": null,
   "id": "2ba0f25a-02b6-4d43-a8c4-ad7ad87e5eae",
   "metadata": {},
   "outputs": [],
   "source": []
  },
  {
   "cell_type": "code",
   "execution_count": null,
   "id": "ab28df0c-bf8c-48d0-9efa-f18e039ab4f5",
   "metadata": {},
   "outputs": [],
   "source": []
  },
  {
   "cell_type": "code",
   "execution_count": null,
   "id": "5746fed2-7e27-4522-8a84-3602db9ac7b5",
   "metadata": {},
   "outputs": [],
   "source": []
  },
  {
   "cell_type": "code",
   "execution_count": null,
   "id": "6bb57cb1-19a9-4fd6-977d-592bf2fa63d2",
   "metadata": {},
   "outputs": [],
   "source": []
  },
  {
   "cell_type": "code",
   "execution_count": null,
   "id": "688869ce-14f9-4c44-9d7d-778215e83141",
   "metadata": {},
   "outputs": [],
   "source": []
  },
  {
   "cell_type": "code",
   "execution_count": null,
   "id": "9c6e4cf8-3714-43c4-b53c-2fcd67ca2d70",
   "metadata": {},
   "outputs": [],
   "source": []
  },
  {
   "cell_type": "code",
   "execution_count": null,
   "id": "bc995432-bbcd-40a8-9cfa-357bd0126bd4",
   "metadata": {},
   "outputs": [],
   "source": []
  },
  {
   "cell_type": "code",
   "execution_count": null,
   "id": "fb7ef398-547b-499b-8713-82ae67ffdcb2",
   "metadata": {},
   "outputs": [],
   "source": []
  },
  {
   "cell_type": "code",
   "execution_count": null,
   "id": "643ef590-17c3-4561-9915-d8502effbf9b",
   "metadata": {},
   "outputs": [],
   "source": []
  },
  {
   "cell_type": "code",
   "execution_count": null,
   "id": "189b5b2a-ff18-4b79-a99f-b4fda1c7a19d",
   "metadata": {},
   "outputs": [],
   "source": []
  },
  {
   "cell_type": "code",
   "execution_count": null,
   "id": "c322e172-823b-45e5-9345-7c02b5757c98",
   "metadata": {},
   "outputs": [],
   "source": []
  },
  {
   "cell_type": "code",
   "execution_count": null,
   "id": "75410b3f-3412-4898-b74d-b4c45ee02d07",
   "metadata": {},
   "outputs": [],
   "source": []
  },
  {
   "cell_type": "code",
   "execution_count": null,
   "id": "0ddbafc5-b3d7-4adf-bb62-4378c857d1a0",
   "metadata": {},
   "outputs": [],
   "source": []
  },
  {
   "cell_type": "code",
   "execution_count": null,
   "id": "224861ee-70cd-40cd-b3f8-050449b03f7a",
   "metadata": {},
   "outputs": [],
   "source": []
  },
  {
   "cell_type": "code",
   "execution_count": null,
   "id": "07223f0d-ee6c-4e7e-993d-22e200d92074",
   "metadata": {},
   "outputs": [],
   "source": []
  },
  {
   "cell_type": "code",
   "execution_count": null,
   "id": "7f0ca60a-784b-4d01-b04e-7111e732b893",
   "metadata": {},
   "outputs": [],
   "source": []
  },
  {
   "cell_type": "code",
   "execution_count": null,
   "id": "94619e7c-be6a-48db-97bf-40a117a0d3d0",
   "metadata": {},
   "outputs": [],
   "source": []
  },
  {
   "cell_type": "code",
   "execution_count": null,
   "id": "75d26473-c3c1-4f43-a16d-355775ea1e2f",
   "metadata": {},
   "outputs": [],
   "source": []
  },
  {
   "cell_type": "code",
   "execution_count": null,
   "id": "468b00ce-6752-42ac-bf67-ef96bcd8d173",
   "metadata": {},
   "outputs": [],
   "source": []
  },
  {
   "cell_type": "code",
   "execution_count": null,
   "id": "4614f182-2641-4279-95e4-c7c6bdf92a39",
   "metadata": {},
   "outputs": [],
   "source": []
  },
  {
   "cell_type": "code",
   "execution_count": null,
   "id": "93a0941a-bdd0-49de-9732-b2cb7b986b70",
   "metadata": {},
   "outputs": [],
   "source": []
  },
  {
   "cell_type": "code",
   "execution_count": null,
   "id": "e643fbe4-70e9-46e4-8f25-32b5f8e25ecb",
   "metadata": {},
   "outputs": [],
   "source": []
  },
  {
   "cell_type": "code",
   "execution_count": null,
   "id": "06a215e2-c988-43fa-9b30-0d0212ab2ca7",
   "metadata": {},
   "outputs": [],
   "source": []
  },
  {
   "cell_type": "code",
   "execution_count": null,
   "id": "9c2ad1cb-aad7-4100-8d59-e6a64f1dbfbf",
   "metadata": {},
   "outputs": [],
   "source": []
  },
  {
   "cell_type": "code",
   "execution_count": null,
   "id": "d91b54ac-c448-4ea3-8b56-d1504828d85b",
   "metadata": {},
   "outputs": [],
   "source": []
  },
  {
   "cell_type": "code",
   "execution_count": null,
   "id": "18357f9d-b45e-4a5e-9ddc-35f738745626",
   "metadata": {},
   "outputs": [],
   "source": []
  },
  {
   "cell_type": "code",
   "execution_count": null,
   "id": "0ac327c0-ee33-4366-a7db-6053911aac3a",
   "metadata": {},
   "outputs": [],
   "source": []
  },
  {
   "cell_type": "code",
   "execution_count": null,
   "id": "975c355a-3cbb-4dfd-b4b1-c62eb822d16b",
   "metadata": {},
   "outputs": [],
   "source": []
  },
  {
   "cell_type": "code",
   "execution_count": null,
   "id": "df5a9d3d-7fe7-4636-8e54-2e455b070f3d",
   "metadata": {},
   "outputs": [],
   "source": []
  }
 ],
 "metadata": {
  "kernelspec": {
   "display_name": "Python [conda env:.conda-py3.7] *",
   "language": "python",
   "name": "conda-env-.conda-py3.7-py"
  },
  "language_info": {
   "codemirror_mode": {
    "name": "ipython",
    "version": 3
   },
   "file_extension": ".py",
   "mimetype": "text/x-python",
   "name": "python",
   "nbconvert_exporter": "python",
   "pygments_lexer": "ipython3",
   "version": "3.7.1"
  }
 },
 "nbformat": 4,
 "nbformat_minor": 5
}
