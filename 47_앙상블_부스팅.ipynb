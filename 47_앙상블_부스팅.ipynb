{
 "cells": [
  {
   "cell_type": "code",
   "execution_count": 1,
   "id": "a55adaeb-4e7b-483e-b5e6-1f1bc2336221",
   "metadata": {
    "tags": []
   },
   "outputs": [],
   "source": [
    "import warnings\n",
    "warnings.filterwarnings(action='ignore')\n",
    "%config Completer.use_jedi = False\n",
    "import numpy as np\n",
    "import pandas as pd\n",
    "import matplotlib.pyplot as plt\n",
    "import matplotlib as mpl\n",
    "mpl.rcParams['axes.unicode_minus'] = False\n",
    "plt.rcParams['font.family'] = 'NanumGothicCoding'\n",
    "plt.rcParams['font.size'] = 10\n",
    "import seaborn as sns\n",
    "\n",
    "from sklearn import datasets\n",
    "from sklearn.model_selection import train_test_split\n",
    "from sklearn.preprocessing import StandardScaler\n",
    "from sklearn.metrics import accuracy_score\n",
    "from sklearn.metrics import confusion_matrix\n",
    "from sklearn.metrics import classification_report\n",
    "from sklearn.metrics import mean_squared_error  \n",
    "from sklearn.metrics import mean_absolute_error\n",
    "from sklearn.metrics import r2_score\n",
    "from sklearn.metrics import precision_score \n",
    "from sklearn.metrics import recall_score\n",
    "from sklearn.metrics import f1_score"
   ]
  },
  {
   "cell_type": "markdown",
   "id": "60bf490a-68a3-40f0-9a3d-c7971ff7b39b",
   "metadata": {},
   "source": [
    "***\n",
    "부스팅(Boosting)\n",
    "***\n",
    "\n",
    "초기에는 모든 데이터 포인트에 동일한 가중치를 할당하고 점차 학습이 진행되면서 올바르게 분류된 데이터 포인트의 가중치는 감소시키는 반면,  \n",
    "잘못 분류된 데이터 포인트의 가중치는 증가시킨다.  \n",
    "결과적으로 학습이 진행되면서 학습기는 잘못 분류된(분류하기 어려운) 데이터에 집중하게 되고,  \n",
    "이전 단계에서 만들어진 학습기는 다음 단계에서 사용할 학습 데이터의 가중치를 반영하는데 사용하므로 부스팅은 배깅과는 달리 이전 분류기의 영향을 받는다.  \n",
    "\n",
    "배깅은 각 데이터 포인트가 추출될 확률이 모두 동일하지만, 부스팅은 각 데이터 포인트에 할당된 가중치에 비례해서 추출된다.  \n",
    "\n",
    "***\n",
    "에이다 부스트(Aida Boost)\n",
    "***\n",
    "약한 학습기 여러개를 모아 하나의 강한 학습기를 만드는 방법으로 개별적으로는 약한 학습 모델이지만, 이와 같은 모델을 다수 생성하고 부스팅을 적용함으로써  \n",
    "강한 학습기가 만들어진다.  \n",
    "\n",
    "보팅이낭 배깅은 모델이 병렬적으로 실행된다. 10개의 모델이 있다면 10개의 모델을 동시에 학습시킬 수 있다는 뜻이다.  \n",
    "이에 반해, 부스팅은 여러 약한 학습기가 순차적으로 적용된다. 그 이유는 약한 학습 이후 판별하지 못한 데이터 포인트에 대해서 가중치를 부여하기 때문이다.   \n",
    "\n",
    "에이다 부스트의 핵심 아이디어는 분류하기 어려운 학습 데이터에 가중치를 더 높이는 것이다. 즉, 이전에 잘못 분류된 학습 데이터 포인트는 가중치가 증가해 오차율이 높아진다.  \n",
    "다음 약한 학습기는 이전 학습기에서 증가한 오차를 낮추는 방향으로 학습하게 된다.   \n",
    "\n",
    "에이다 부스트는 일반적인 부스팅과는 다르게 약한 학습기를 학습할 때 학습 데이터셋 전체를 사용한다.  \n",
    "학습 샘플은 반복할 때마다 가중치가 부여되며 이 앙상블은 이전 학습기가 실수한 부분을 학습하는 강력한 분류기를 만든다."
   ]
  },
  {
   "cell_type": "markdown",
   "id": "b926caa3-b83e-4edd-a745-77160966a4bb",
   "metadata": {},
   "source": [
    "***\n",
    "암 데이터를 사용해 암 여부를 예측하는 모델을 생성하고 학습한다.\n",
    "***"
   ]
  },
  {
   "cell_type": "code",
   "execution_count": 2,
   "id": "2a1c35b6-82dc-4fa7-bce1-2a10f217ede5",
   "metadata": {
    "tags": []
   },
   "outputs": [
    {
     "name": "stdout",
     "output_type": "stream",
     "text": [
      "(569, 30) (569,)\n",
      "(426, 30) (143, 30) (426,) (143,)\n"
     ]
    },
    {
     "data": {
      "text/plain": [
       "AdaBoostClassifier()"
      ]
     },
     "execution_count": 2,
     "metadata": {},
     "output_type": "execute_result"
    }
   ],
   "source": [
    "# 데이터 불러오기\n",
    "raw_data = datasets.load_breast_cancer() # 사이킷런이 제공하는 암 데이터를 불러온다.\n",
    "\n",
    "# 피쳐, 레이블 데이터 저장\n",
    "xData = raw_data.data # 피쳐 데이터를 저장한다.\n",
    "yData = raw_data.target # 피쳐 데이터에 따른 레이블을 저장한다.\n",
    "print(xData.shape, yData.shape)\n",
    "\n",
    "\n",
    "# 학습 데이터와 테스트 데이터로 분할\n",
    "x_train, x_test, y_train, y_test = train_test_split(xData, yData, random_state=0)\n",
    "print(x_train.shape, x_test.shape, y_train.shape, y_test.shape)\n",
    "\n",
    "# 데이터 표준화\n",
    "std_scale = StandardScaler() # 표준화 스케일러 객체를 만든다.\n",
    "x_train = std_scale.fit_transform(x_train) # 학습 데이터를 스케일러로 표준화하고 적용한다.\n",
    "x_test = std_scale.transform(x_test) # 테스트 데이터를 학습 데이터로 표준화된 스케일러에 적용한다.\n",
    "\n",
    "# 모델 생성 후 데이터 학습\n",
    "from sklearn.ensemble import AdaBoostClassifier # 에이다 부스트 알고리즘 사용\n",
    "\n",
    "# 모델을 만든다.\n",
    "clf = AdaBoostClassifier()\n",
    "\n",
    "# 표준화된 학습 데이터 x_train와 학습 데이터에 따른 레이블 데이터 y_train으로 앙상블 에이다 부스트 모델을 학습시킨다.\n",
    "clf.fit(x_train, y_train)\n"
   ]
  },
  {
   "cell_type": "markdown",
   "id": "f1d01935-1b77-412c-af0b-749f706e3c1d",
   "metadata": {},
   "source": [
    "***\n",
    "학습된 모델로 테스트 데이터를 예측한다.\n",
    "***"
   ]
  },
  {
   "cell_type": "code",
   "execution_count": 3,
   "id": "e64e48c0-5962-4bea-b118-053a59e7c2f8",
   "metadata": {
    "tags": []
   },
   "outputs": [
    {
     "name": "stdout",
     "output_type": "stream",
     "text": [
      "[0 1 1 1 1 1 1 1 1 1 0 1 1 1 1 0 1 0 0 0 0 0 1 1 0 1 1 0 1 0 1 0 1 0 1 0 1\n",
      " 0 1 0 0 1 0 1 1 0 1 1 1 0 0 0 0 1 1 1 1 1 1 0 0 0 1 1 0 1 0 0 0 1 1 0 1 0\n",
      " 0 1 1 1 1 1 0 0 0 1 0 1 1 1 0 0 1 1 1 0 1 1 0 1 1 1 1 1 1 1 0 1 0 1 0 0 1\n",
      " 0 0 1 1 1 1 1 1 1 1 1 0 1 0 0 1 1 1 1 0 1 1 1 1 1 1 0 0 1 1 1 0]\n"
     ]
    }
   ],
   "source": [
    "#predict() 메소드의 인수로 표준화된 테스트 데이터를 넘겨서 예측한다.\n",
    "predict = clf.predict(x_test)\n",
    "print(predict)"
   ]
  },
  {
   "cell_type": "markdown",
   "id": "f1d2ea4b-370e-49d1-a316-e0d0a27f4e9b",
   "metadata": {},
   "source": [
    "***\n",
    "학습된 모델을 평가한다\n",
    "***"
   ]
  },
  {
   "cell_type": "code",
   "execution_count": 4,
   "id": "a80cdfa2-cdfe-4115-b590-ef0119914762",
   "metadata": {
    "tags": []
   },
   "outputs": [
    {
     "name": "stdout",
     "output_type": "stream",
     "text": [
      "[[52  1]\n",
      " [ 2 88]]\n"
     ]
    }
   ],
   "source": [
    "# 혼동 행렬\n",
    "conf_matrix = confusion_matrix(y_test, predict)\n",
    "print(conf_matrix)"
   ]
  },
  {
   "cell_type": "code",
   "execution_count": 5,
   "id": "497314e5-2be2-4c98-9ea6-d7d6693a5d70",
   "metadata": {
    "tags": []
   },
   "outputs": [
    {
     "name": "stdout",
     "output_type": "stream",
     "text": [
      "              precision    recall  f1-score   support\n",
      "\n",
      "   malignant       0.96      0.98      0.97        53\n",
      "      benign       0.99      0.98      0.98        90\n",
      "\n",
      "    accuracy                           0.98       143\n",
      "   macro avg       0.98      0.98      0.98       143\n",
      "weighted avg       0.98      0.98      0.98       143\n",
      "\n"
     ]
    }
   ],
   "source": [
    "#분류 리포트\n",
    "class_report = classification_report(y_test, predict, target_names=raw_data.target_names)\n",
    "print(class_report)"
   ]
  },
  {
   "cell_type": "code",
   "execution_count": null,
   "id": "2fbb303a-9344-4f6b-932a-f60861bc0475",
   "metadata": {},
   "outputs": [],
   "source": []
  },
  {
   "cell_type": "code",
   "execution_count": null,
   "id": "deea255e-e16f-45a9-8574-86b695a575c9",
   "metadata": {},
   "outputs": [],
   "source": []
  },
  {
   "cell_type": "code",
   "execution_count": null,
   "id": "ab569fb4-2feb-47ad-b9f3-816e12cabc2e",
   "metadata": {},
   "outputs": [],
   "source": []
  },
  {
   "cell_type": "code",
   "execution_count": null,
   "id": "59207166-ac09-4748-bbf0-4c87a4b5c569",
   "metadata": {},
   "outputs": [],
   "source": []
  },
  {
   "cell_type": "code",
   "execution_count": null,
   "id": "7db637b1-aeec-47b3-ba1b-b2f4778f1609",
   "metadata": {},
   "outputs": [],
   "source": []
  },
  {
   "cell_type": "code",
   "execution_count": null,
   "id": "0be4addc-257e-4db8-90df-083459fc0df3",
   "metadata": {},
   "outputs": [],
   "source": []
  },
  {
   "cell_type": "code",
   "execution_count": null,
   "id": "b6d204e2-b31d-4e7c-8b1b-2c4571a6466e",
   "metadata": {},
   "outputs": [],
   "source": []
  },
  {
   "cell_type": "code",
   "execution_count": null,
   "id": "ed0a8a58-0f53-4d3d-9208-72a16fb2846b",
   "metadata": {},
   "outputs": [],
   "source": []
  },
  {
   "cell_type": "code",
   "execution_count": null,
   "id": "4331345c-3db6-4094-8697-3e6eba65a57a",
   "metadata": {},
   "outputs": [],
   "source": []
  },
  {
   "cell_type": "code",
   "execution_count": null,
   "id": "a4fcd2df-5a2f-4250-97db-848d0d8101aa",
   "metadata": {},
   "outputs": [],
   "source": []
  },
  {
   "cell_type": "code",
   "execution_count": null,
   "id": "ea9f21ce-59f3-43ce-b085-38effc2ff467",
   "metadata": {},
   "outputs": [],
   "source": []
  },
  {
   "cell_type": "code",
   "execution_count": null,
   "id": "008fcd6d-bef0-4162-9abf-dce6f465e3f8",
   "metadata": {},
   "outputs": [],
   "source": []
  },
  {
   "cell_type": "code",
   "execution_count": null,
   "id": "81469f9c-fb06-4f1a-8690-2835c061b487",
   "metadata": {},
   "outputs": [],
   "source": []
  },
  {
   "cell_type": "code",
   "execution_count": null,
   "id": "9d145940-441c-4037-8ee4-f92b37ed50bf",
   "metadata": {},
   "outputs": [],
   "source": []
  },
  {
   "cell_type": "code",
   "execution_count": null,
   "id": "06e18867-0510-4fc5-be85-f9a2456c8d89",
   "metadata": {},
   "outputs": [],
   "source": []
  },
  {
   "cell_type": "code",
   "execution_count": null,
   "id": "e8d422c0-0f86-4a3c-aee6-0302f12e197c",
   "metadata": {},
   "outputs": [],
   "source": []
  },
  {
   "cell_type": "code",
   "execution_count": null,
   "id": "047133a8-c8d4-4ba4-a239-c6c1eeee0a09",
   "metadata": {},
   "outputs": [],
   "source": []
  },
  {
   "cell_type": "code",
   "execution_count": null,
   "id": "0e8e9c69-a86c-42fe-9393-180fcfc0474b",
   "metadata": {},
   "outputs": [],
   "source": []
  },
  {
   "cell_type": "code",
   "execution_count": null,
   "id": "9d2008f8-6ab3-49d3-b263-adc649e4440e",
   "metadata": {},
   "outputs": [],
   "source": []
  },
  {
   "cell_type": "code",
   "execution_count": null,
   "id": "edf184ec-9297-4b87-bd82-2c1a00b8791e",
   "metadata": {},
   "outputs": [],
   "source": []
  },
  {
   "cell_type": "code",
   "execution_count": null,
   "id": "dd02b840-ec95-4310-93ec-56a7ed491c97",
   "metadata": {},
   "outputs": [],
   "source": []
  },
  {
   "cell_type": "code",
   "execution_count": null,
   "id": "ee95db20-3364-467f-8144-4592755d4044",
   "metadata": {},
   "outputs": [],
   "source": []
  },
  {
   "cell_type": "code",
   "execution_count": null,
   "id": "c71b970e-4bfd-44fa-9345-52bf4069de2f",
   "metadata": {},
   "outputs": [],
   "source": []
  },
  {
   "cell_type": "code",
   "execution_count": null,
   "id": "a011538f-c051-4e33-9a24-26e10a3df63d",
   "metadata": {},
   "outputs": [],
   "source": []
  },
  {
   "cell_type": "code",
   "execution_count": null,
   "id": "9e5f17cd-d294-4eaf-9188-309659d8dc4b",
   "metadata": {},
   "outputs": [],
   "source": []
  },
  {
   "cell_type": "code",
   "execution_count": null,
   "id": "b3b90100-f687-4f32-bb44-51ffe6331e33",
   "metadata": {},
   "outputs": [],
   "source": []
  },
  {
   "cell_type": "code",
   "execution_count": null,
   "id": "4c5b5d7c-71b4-4b08-b2f3-2017d7e3ae07",
   "metadata": {},
   "outputs": [],
   "source": []
  },
  {
   "cell_type": "code",
   "execution_count": null,
   "id": "8a4ffbb8-3110-4455-b1b6-e0fa16b61c6e",
   "metadata": {},
   "outputs": [],
   "source": []
  }
 ],
 "metadata": {
  "kernelspec": {
   "display_name": "Python [conda env:.conda-py3.7] *",
   "language": "python",
   "name": "conda-env-.conda-py3.7-py"
  },
  "language_info": {
   "codemirror_mode": {
    "name": "ipython",
    "version": 3
   },
   "file_extension": ".py",
   "mimetype": "text/x-python",
   "name": "python",
   "nbconvert_exporter": "python",
   "pygments_lexer": "ipython3",
   "version": "3.7.1"
  }
 },
 "nbformat": 4,
 "nbformat_minor": 5
}
