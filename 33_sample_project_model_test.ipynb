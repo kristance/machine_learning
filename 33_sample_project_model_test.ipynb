{
 "cells": [
  {
   "cell_type": "code",
   "execution_count": 1,
   "id": "f4ef25d0-833b-4499-b68d-9c7d355bfeeb",
   "metadata": {
    "tags": []
   },
   "outputs": [
    {
     "name": "stdout",
     "output_type": "stream",
     "text": [
      "WARNING:tensorflow:From C:\\Users\\tj\\.conda\\envs\\py3.7\\lib\\site-packages\\tensorflow\\python\\compat\\v2_compat.py:107: disable_resource_variables (from tensorflow.python.ops.variable_scope) is deprecated and will be removed in a future version.\n",
      "Instructions for updating:\n",
      "non-resource variables are not supported in the long term\n"
     ]
    }
   ],
   "source": [
    "import warnings\n",
    "warnings.filterwarnings(action='ignore')\n",
    "%config Completer.use_jedi = False\n",
    "import tensorflow.compat.v1 as tf\n",
    "tf.disable_v2_behavior()\n",
    "import numpy as np\n",
    "import pandas as pd"
   ]
  },
  {
   "cell_type": "code",
   "execution_count": 2,
   "id": "9a2ffbd9-ab58-4ead-affb-ea27d37ebe05",
   "metadata": {
    "tags": []
   },
   "outputs": [],
   "source": [
    "X = tf.placeholder(dtype=tf.float32, shape=(None, 4))\n",
    "a = tf.Variable(tf.random_uniform((4, 1), dtype=tf.float32))\n",
    "b = tf.Variable(tf.random_uniform([1], dtype=tf.float32))\n",
    "y = tf.matmul(X, a) + b"
   ]
  },
  {
   "cell_type": "code",
   "execution_count": 3,
   "id": "14cc1a0d-23e4-4d7b-929d-f4f6c56a8c66",
   "metadata": {
    "tags": []
   },
   "outputs": [
    {
     "name": "stdin",
     "output_type": "stream",
     "text": [
      "평균온도??? 5.2\n",
      "최저온도??? -7.5\n",
      "최고온도??? 700.1\n",
      "강수량??? 15.0\n"
     ]
    }
   ],
   "source": [
    "#배추 가격을 결정하는 4가지 변화 요인을 키보드로 입력받는다.\n",
    "#data = [[5.2, -7.5, 700.1, 15.0]]\n",
    "avgTemp = float(input('평균온도???'))\n",
    "minTemp = float(input('최저온도???'))\n",
    "maxTemp = float(input('최고온도???'))\n",
    "rainFall = float(input('강수량???'))"
   ]
  },
  {
   "cell_type": "code",
   "execution_count": 9,
   "id": "923b3ef4-8c68-46d5-8ee6-2cb68be8e644",
   "metadata": {
    "tags": []
   },
   "outputs": [
    {
     "name": "stdout",
     "output_type": "stream",
     "text": [
      "INFO:tensorflow:Restoring parameters from ./model/baechu.ckpt\n",
      "평균기온 ->  5.2, 최저기온 -> -7.5, 최고기온 -> 700.1, 강수량 -> 15.0 ========> 배추 가격 -> 181,345.69원\n"
     ]
    }
   ],
   "source": [
    "sess = tf.Session()\n",
    "sess.run(tf.global_variables_initializer())\n",
    "\n",
    "# 디스크에 저장된 학습 모델을 불러와 적용시킨다.\n",
    "saver = tf.train.Saver()\n",
    "saver.restore(sess, './model/baechu.ckpt' )\n",
    "\n",
    "# 키보드로 입력받은 데이터를 불러온 학습 모델에서 사용하기 위해 2차원 리스트 형태로 만든다.\n",
    "data = [[avgTemp, minTemp, maxTemp, rainFall]]\n",
    "\n",
    "# 불러온 학습 모델에 키보드로 입력한 데이터를 적용시켜 배추 가격을 예측한다.\n",
    "# 테스트\n",
    "result = sess.run(y, feed_dict={X : data})\n",
    "print('평균기온 -> {:4.1f}, 최저기온 -> {:4.1f}, 최고기온 -> {:4.1f}, 강수량 -> {:4.1f} ========> 배추 가격 -> {:7,.2f}원'\\\n",
    "      .format(avgTemp, minTemp, maxTemp, rainFall, result[0][0]))"
   ]
  },
  {
   "cell_type": "code",
   "execution_count": null,
   "id": "12e4c889-7ee6-4762-a782-34f6cf14f040",
   "metadata": {},
   "outputs": [],
   "source": []
  },
  {
   "cell_type": "code",
   "execution_count": null,
   "id": "90ef8e69-8434-4668-b223-4927e32c3e2c",
   "metadata": {},
   "outputs": [],
   "source": []
  },
  {
   "cell_type": "code",
   "execution_count": null,
   "id": "3db4d535-6965-4a04-8a54-6c90d3b13060",
   "metadata": {},
   "outputs": [],
   "source": []
  },
  {
   "cell_type": "code",
   "execution_count": null,
   "id": "aadab1e0-d874-4d56-b90f-aa8b100aca8c",
   "metadata": {},
   "outputs": [],
   "source": []
  },
  {
   "cell_type": "code",
   "execution_count": null,
   "id": "4eed709a-77f1-4ad7-952b-6cc6fa43578e",
   "metadata": {},
   "outputs": [],
   "source": []
  },
  {
   "cell_type": "code",
   "execution_count": null,
   "id": "219109a9-de75-4b78-9152-3605e1369632",
   "metadata": {},
   "outputs": [],
   "source": []
  },
  {
   "cell_type": "code",
   "execution_count": null,
   "id": "10a1507a-b294-46be-891d-3964d36c606b",
   "metadata": {},
   "outputs": [],
   "source": []
  },
  {
   "cell_type": "code",
   "execution_count": null,
   "id": "5228b623-dbfa-495a-a39c-4146277f4de9",
   "metadata": {},
   "outputs": [],
   "source": []
  },
  {
   "cell_type": "code",
   "execution_count": null,
   "id": "013e4acb-6994-49b5-bf63-1c0346da0a69",
   "metadata": {},
   "outputs": [],
   "source": []
  },
  {
   "cell_type": "code",
   "execution_count": null,
   "id": "febed06f-ae48-4ba9-8a92-c066dc8aa93a",
   "metadata": {},
   "outputs": [],
   "source": []
  },
  {
   "cell_type": "code",
   "execution_count": null,
   "id": "65a9983c-209c-4be4-948d-0bb06176368c",
   "metadata": {},
   "outputs": [],
   "source": []
  },
  {
   "cell_type": "code",
   "execution_count": null,
   "id": "5f3cc762-3045-4dc2-90e1-86d457907114",
   "metadata": {},
   "outputs": [],
   "source": []
  },
  {
   "cell_type": "code",
   "execution_count": null,
   "id": "62368bfb-6c3a-4f3a-bda2-1c2e540f2535",
   "metadata": {},
   "outputs": [],
   "source": []
  },
  {
   "cell_type": "code",
   "execution_count": null,
   "id": "4cd667c7-05c9-4b33-ab2b-42fd976e1754",
   "metadata": {},
   "outputs": [],
   "source": []
  },
  {
   "cell_type": "code",
   "execution_count": null,
   "id": "8b7deccb-6d25-4da3-aee4-5f3301d303cb",
   "metadata": {},
   "outputs": [],
   "source": []
  },
  {
   "cell_type": "code",
   "execution_count": null,
   "id": "90414b5c-6feb-4f02-8176-39eb042cb373",
   "metadata": {},
   "outputs": [],
   "source": []
  },
  {
   "cell_type": "code",
   "execution_count": null,
   "id": "3c1f70e9-ef73-4454-84db-af1befab06ce",
   "metadata": {},
   "outputs": [],
   "source": []
  },
  {
   "cell_type": "code",
   "execution_count": null,
   "id": "a7a98c80-7d70-4f59-be04-0bf093adaf07",
   "metadata": {},
   "outputs": [],
   "source": []
  },
  {
   "cell_type": "code",
   "execution_count": null,
   "id": "81c3cbce-e3c8-4714-9c0a-551ef7c0cc30",
   "metadata": {},
   "outputs": [],
   "source": []
  },
  {
   "cell_type": "code",
   "execution_count": null,
   "id": "a4e25139-21fd-4931-a5c7-56f84ea6766c",
   "metadata": {},
   "outputs": [],
   "source": []
  },
  {
   "cell_type": "code",
   "execution_count": null,
   "id": "d9feb189-c0fc-4ca7-a619-d794bc3dbf30",
   "metadata": {},
   "outputs": [],
   "source": []
  },
  {
   "cell_type": "code",
   "execution_count": null,
   "id": "f783a19a-6b41-4a63-9361-f62832195a09",
   "metadata": {},
   "outputs": [],
   "source": []
  },
  {
   "cell_type": "code",
   "execution_count": null,
   "id": "152049c3-610d-4ec8-9d1b-23cf9c796b35",
   "metadata": {},
   "outputs": [],
   "source": []
  },
  {
   "cell_type": "code",
   "execution_count": null,
   "id": "25d89312-6ef0-49c3-9d9b-f6ec582c0820",
   "metadata": {},
   "outputs": [],
   "source": []
  },
  {
   "cell_type": "code",
   "execution_count": null,
   "id": "8e860845-b32e-47da-81e6-072937890da3",
   "metadata": {},
   "outputs": [],
   "source": []
  },
  {
   "cell_type": "code",
   "execution_count": null,
   "id": "a1f1f65c-94f2-4f6d-ae73-0e58bebda415",
   "metadata": {},
   "outputs": [],
   "source": []
  },
  {
   "cell_type": "code",
   "execution_count": null,
   "id": "de59fa96-9b4e-4354-8a87-ed3b2d6c0b05",
   "metadata": {},
   "outputs": [],
   "source": []
  },
  {
   "cell_type": "code",
   "execution_count": null,
   "id": "f270f5f8-e591-45c5-bbe3-c52b4829b531",
   "metadata": {},
   "outputs": [],
   "source": []
  },
  {
   "cell_type": "code",
   "execution_count": null,
   "id": "860612fb-0486-4026-a733-c20862f82920",
   "metadata": {},
   "outputs": [],
   "source": []
  },
  {
   "cell_type": "code",
   "execution_count": null,
   "id": "de472b7f-b041-43d4-a068-8d116d62760c",
   "metadata": {},
   "outputs": [],
   "source": []
  },
  {
   "cell_type": "code",
   "execution_count": null,
   "id": "940809c5-4ce3-41a6-836c-5337711ebe4c",
   "metadata": {},
   "outputs": [],
   "source": []
  },
  {
   "cell_type": "code",
   "execution_count": null,
   "id": "ab0fc027-f4bd-4171-bdaa-2950ce504044",
   "metadata": {},
   "outputs": [],
   "source": []
  },
  {
   "cell_type": "code",
   "execution_count": null,
   "id": "b94bf507-2ad8-40f8-84e7-ea89d7c0ff84",
   "metadata": {},
   "outputs": [],
   "source": []
  },
  {
   "cell_type": "code",
   "execution_count": null,
   "id": "32ed9bed-edd4-413e-8172-5ea7bc796542",
   "metadata": {},
   "outputs": [],
   "source": []
  },
  {
   "cell_type": "code",
   "execution_count": null,
   "id": "797fd740-ed42-44a6-b6bc-5d750792a580",
   "metadata": {},
   "outputs": [],
   "source": []
  },
  {
   "cell_type": "code",
   "execution_count": null,
   "id": "d349c8dc-f633-4f60-84bb-58cda0be20b6",
   "metadata": {},
   "outputs": [],
   "source": []
  },
  {
   "cell_type": "code",
   "execution_count": null,
   "id": "4841f484-6943-45e7-80cc-71776ac74972",
   "metadata": {},
   "outputs": [],
   "source": []
  },
  {
   "cell_type": "code",
   "execution_count": null,
   "id": "d52d0894-3fc1-443f-8888-6724a127c71e",
   "metadata": {},
   "outputs": [],
   "source": []
  },
  {
   "cell_type": "code",
   "execution_count": null,
   "id": "82892996-aff6-4340-b2fa-b8c7275ad81e",
   "metadata": {},
   "outputs": [],
   "source": []
  },
  {
   "cell_type": "code",
   "execution_count": null,
   "id": "49f9674d-8634-45f8-b038-da76d4cdb3c9",
   "metadata": {},
   "outputs": [],
   "source": []
  },
  {
   "cell_type": "code",
   "execution_count": null,
   "id": "25c98913-3965-405d-83eb-89e460518521",
   "metadata": {},
   "outputs": [],
   "source": []
  },
  {
   "cell_type": "code",
   "execution_count": null,
   "id": "2e87cf98-abc4-4d25-bfc0-547d8cabf018",
   "metadata": {},
   "outputs": [],
   "source": []
  },
  {
   "cell_type": "code",
   "execution_count": null,
   "id": "9e60e98d-04a2-4947-a194-ee7d6d11e6bb",
   "metadata": {},
   "outputs": [],
   "source": []
  },
  {
   "cell_type": "code",
   "execution_count": null,
   "id": "157fe04e-d5cc-4ef9-8cb9-f82eaa0ca8ed",
   "metadata": {},
   "outputs": [],
   "source": []
  },
  {
   "cell_type": "code",
   "execution_count": null,
   "id": "7df3d732-09fe-4c43-a7e3-715cf651087f",
   "metadata": {},
   "outputs": [],
   "source": []
  },
  {
   "cell_type": "code",
   "execution_count": null,
   "id": "10fdad96-bb2b-45b6-9dd5-a361912b4930",
   "metadata": {},
   "outputs": [],
   "source": []
  },
  {
   "cell_type": "code",
   "execution_count": null,
   "id": "99e3cccb-1c3b-4be7-8063-b1ee01e88954",
   "metadata": {},
   "outputs": [],
   "source": []
  },
  {
   "cell_type": "code",
   "execution_count": null,
   "id": "1675034a-bec2-42c3-8ac5-fc0d57963233",
   "metadata": {},
   "outputs": [],
   "source": []
  }
 ],
 "metadata": {
  "kernelspec": {
   "display_name": "Python [conda env:.conda-py3.7] *",
   "language": "python",
   "name": "conda-env-.conda-py3.7-py"
  },
  "language_info": {
   "codemirror_mode": {
    "name": "ipython",
    "version": 3
   },
   "file_extension": ".py",
   "mimetype": "text/x-python",
   "name": "python",
   "nbconvert_exporter": "python",
   "pygments_lexer": "ipython3",
   "version": "3.7.1"
  }
 },
 "nbformat": 4,
 "nbformat_minor": 5
}
