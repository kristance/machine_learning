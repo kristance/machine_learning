{
 "cells": [
  {
   "cell_type": "code",
   "execution_count": 1,
   "id": "83b7ef79-4213-4aad-97ef-86d902107f14",
   "metadata": {
    "tags": []
   },
   "outputs": [],
   "source": [
    "import warnings\n",
    "warnings.filterwarnings(action='ignore')\n",
    "%config Completer.use_jedi = False\n",
    "import numpy as np\n",
    "import pandas as pd\n",
    "import matplotlib.pyplot as plt\n",
    "import matplotlib as mpl\n",
    "mpl.rcParams['axes.unicode_minus'] = False\n",
    "plt.rcParams['font.family'] = 'RIDIBatang'\n",
    "plt.rcParams['font.size'] = 10\n",
    "import seaborn as sns\n",
    "\n",
    "from sklearn import datasets\n",
    "from sklearn.model_selection import train_test_split\n",
    "from sklearn.preprocessing import StandardScaler\n",
    "from sklearn.metrics import accuracy_score\n",
    "from sklearn.metrics import confusion_matrix\n",
    "from sklearn.metrics import classification_report\n",
    "from sklearn.metrics import mean_squared_error  \n",
    "from sklearn.metrics import mean_absolute_error\n",
    "from sklearn.metrics import r2_score\n",
    "from sklearn.metrics import precision_score \n",
    "from sklearn.metrics import recall_score\n",
    "from sklearn.metrics import f1_score"
   ]
  },
  {
   "cell_type": "markdown",
   "id": "2ab35c1f-30c0-451d-a175-9f187b44b41c",
   "metadata": {},
   "source": [
    "***\n",
    "지역적 선형 임베딩 (Locally Linear Embedding, LLE)\n",
    "***\n",
    "각 데이터 포인트의 이웃 데이터 중 k개의 이웃 데이터를 선정하고 데이터 자신과 k개의 이웃 데이터를 하나의 덩어리로 가정하고 데이터를 재구성한다.  \n",
    "기존 데이터 자신의 이웃 데이터를 기준을 재구성하는 방법으로 해당 데이터 자체보다 주변의 이웃 데이터들이 중요하다. "
   ]
  },
  {
   "cell_type": "markdown",
   "id": "e021ae7d-42c3-4ed8-a756-ea8c41da1cf0",
   "metadata": {},
   "source": [
    "***\n",
    "다른 차원 축소 방법과 비교하기 위해 와인 데이터를 이용한다.\n",
    "***"
   ]
  },
  {
   "cell_type": "code",
   "execution_count": 2,
   "id": "45162355-d436-4cea-971c-190dca5500cc",
   "metadata": {
    "tags": []
   },
   "outputs": [
    {
     "name": "stdout",
     "output_type": "stream",
     "text": [
      "(178, 13) (178,)\n",
      "(133, 13) (45, 13) (133,) (45,)\n"
     ]
    }
   ],
   "source": [
    "# 데이터 불러오기\n",
    "raw_data = datasets.load_wine() # 사이킷런이 제공하는 와인 데이터를 불러온다.\n",
    "\n",
    "# 피쳐, 레이블 데이터 저장\n",
    "xData = raw_data.data # 피쳐 데이터를 저장한다.\n",
    "yData = raw_data.target # 피쳐 데이터에 따른 레이블을 저장한다.\n",
    "print(xData.shape, yData.shape)\n",
    "\n",
    "# 학습 데이터와 테스트 데이터로 분할\n",
    "x_train, x_test, y_train, y_test = train_test_split(xData, yData, random_state=1)\n",
    "print(x_train.shape, x_test.shape, y_train.shape, y_test.shape)\n",
    "\n",
    "# 데이터 표준화\n",
    "std_scale = StandardScaler() # 표준화 스케일러 객체를 만든다.\n",
    "x_train = std_scale.fit_transform(x_train) # 학습 데이터를 스케일러로 표준화하고 적용한다.\n",
    "x_test = std_scale.transform(x_test) # 테스트 데이터를 학습 데이터로 표준화된 스케일러에 적용한다.\n"
   ]
  },
  {
   "cell_type": "markdown",
   "id": "f7e38ab4-5e18-4de8-b4ec-7ee6c2d44f83",
   "metadata": {},
   "source": [
    "***\n",
    "지역적 선형 임베딩을 통한 차원 축소\n",
    "***"
   ]
  },
  {
   "cell_type": "code",
   "execution_count": 3,
   "id": "ca5a7d61-660b-4f04-b55c-acd2844e901f",
   "metadata": {
    "tags": []
   },
   "outputs": [
    {
     "name": "stdout",
     "output_type": "stream",
     "text": [
      "(133, 2) (45, 2)\n"
     ]
    }
   ],
   "source": [
    "from sklearn.manifold import LocallyLinearEmbedding # 지역적 선형 임베딩 알고리즘 사용\n",
    "# n_components 속성의 기본값은 2이고, 축소할 차원이 크기를 지정해 지역적 선형 임베딩 모델 객체를 만든다.\n",
    "lle = LocallyLinearEmbedding(n_components=2)\n",
    "\n",
    "#lle.fit(x_train, y_train) # 학습 데이터와 학습 데이터의 레이블로 지역적 선형 임베딩 분석 모델 학습, 지역적 선형 임베딩 알고리즘은 지도 학습이므로 레이블;답이 필요함.\n",
    "#x_train_lle = lle.transform(x_train)# 학습된 지역적 선형 임베딩 모델에 학습 데이터를 적용\n",
    "x_train_lle = lle.fit_transform(x_train, y_train)\n",
    "\n",
    "# 학습은 학습 데이터로만 해야하고 테스트 데이터는 학습 데이터로 학습된 결과에 적용만 시킨다.\n",
    "x_test_lle = lle.transform(x_test)\n",
    "\n",
    "# 차원 축소 이전 데이터의 차원을 확인하면 차원 축소 전의 피쳐 데이터는 13차원의 데이터 133개로 구성되어 있음을 알 수 있고, \n",
    "# 주성분 분석을 이용, 차원 축소한 데이터는 2차원의 데이터 133개로 구성되어 있음을 알 수 있다. \n",
    "print(x_train_lle.shape, x_test_lle.shape) # ::before (133, 13) (45, 13) -> ::after (133, 2) (45, 2)"
   ]
  },
  {
   "cell_type": "code",
   "execution_count": 4,
   "id": "236e5d80-53c6-49f7-9621-10ef9c94dfc9",
   "metadata": {
    "collapsed": true,
    "jupyter": {
     "outputs_hidden": true
    },
    "tags": []
   },
   "outputs": [
    {
     "name": "stdout",
     "output_type": "stream",
     "text": [
      "[[ 0.10370077  0.03797149]\n",
      " [ 0.07222626  0.00764776]\n",
      " [ 0.11291288  0.05930921]\n",
      " [ 0.11560401  0.06205209]\n",
      " [ 0.11854756  0.06719633]\n",
      " [-0.02664269 -0.13181186]\n",
      " [-0.10501921  0.07537654]\n",
      " [-0.10326081  0.07047313]\n",
      " [ 0.10811266  0.04689056]\n",
      " [-0.04377827 -0.09418701]\n",
      " [ 0.0712414   0.01801874]\n",
      " [ 0.13033709  0.08810276]\n",
      " [ 0.02991311 -0.04069974]\n",
      " [-0.07898669  0.01497572]\n",
      " [ 0.03473125 -0.05744147]\n",
      " [ 0.01943026 -0.04529514]\n",
      " [ 0.11959649  0.07007802]\n",
      " [-0.10317351  0.07114343]\n",
      " [-0.02752016 -0.14962908]\n",
      " [-0.1164511   0.10200801]\n",
      " [ 0.10508563  0.04186687]\n",
      " [-0.01462819 -0.16313682]\n",
      " [ 0.06810266 -0.0169578 ]\n",
      " [-0.01732533 -0.16242923]\n",
      " [ 0.11454199  0.05901053]\n",
      " [-0.09625792  0.05485706]\n",
      " [-0.11013016  0.08772677]\n",
      " [-0.10843424  0.08356562]\n",
      " [-0.10619192  0.07755468]\n",
      " [-0.08729218  0.04167607]\n",
      " [-0.03682447 -0.05761368]\n",
      " [ 0.09367018  0.02624216]\n",
      " [-0.10295085  0.06762962]\n",
      " [ 0.11999055  0.07023365]\n",
      " [-0.06361883 -0.0199435 ]\n",
      " [-0.11550832  0.09903396]\n",
      " [ 0.11279934  0.05534145]\n",
      " [-0.01480272 -0.14963322]\n",
      " [ 0.09097877  0.0177418 ]\n",
      " [-0.11129768  0.08887578]\n",
      " [-0.06350492 -0.02242311]\n",
      " [ 0.06246531 -0.02636424]\n",
      " [ 0.11911483  0.06843243]\n",
      " [-0.00792097 -0.12221016]\n",
      " [-0.03631181 -0.12179878]\n",
      " [-0.02579461 -0.16485912]\n",
      " [ 0.09295664  0.02351943]\n",
      " [ 0.03188792 -0.07080559]\n",
      " [ 0.06818446 -0.01439848]\n",
      " [-0.05730272 -0.05525765]\n",
      " [-0.09883839  0.05929349]\n",
      " [-0.01586358 -0.17146571]\n",
      " [-0.01672269 -0.17041903]\n",
      " [-0.02204577 -0.1723805 ]\n",
      " [ 0.06678143  0.01426048]\n",
      " [ 0.11436298  0.0595111 ]\n",
      " [ 0.10260414  0.0373604 ]\n",
      " [ 0.0997909   0.03011605]\n",
      " [-0.11259142  0.09204803]\n",
      " [ 0.09885983  0.02607939]\n",
      " [-0.07858605  0.00082623]\n",
      " [-0.084302    0.0229665 ]\n",
      " [-0.10603904  0.07684319]\n",
      " [ 0.09496388  0.02139363]\n",
      " [-0.02757692 -0.09910238]\n",
      " [ 0.12166793  0.07041667]\n",
      " [-0.01814073 -0.17633886]\n",
      " [-0.01530843 -0.15877534]\n",
      " [ 0.11452847  0.05834804]\n",
      " [-0.10320436  0.07020295]\n",
      " [-0.01613968 -0.16929274]\n",
      " [-0.0193291  -0.10716739]\n",
      " [-0.12046407  0.11290301]\n",
      " [-0.10110371  0.06439205]\n",
      " [-0.02998362 -0.14469412]\n",
      " [ 0.04902972 -0.04338483]\n",
      " [-0.02154733 -0.17381898]\n",
      " [-0.09971112  0.0625639 ]\n",
      " [-0.10375299  0.0710789 ]\n",
      " [-0.0288432  -0.10242084]\n",
      " [ 0.11466711  0.06136667]\n",
      " [-0.03040775 -0.14349819]\n",
      " [ 0.06825681 -0.01840047]\n",
      " [-0.09935535  0.05653994]\n",
      " [ 0.04446691 -0.05338093]\n",
      " [-0.01740723 -0.14034382]\n",
      " [ 0.11790976  0.06591575]\n",
      " [ 0.12119223  0.07147328]\n",
      " [-0.00269915 -0.10647415]\n",
      " [ 0.0562949  -0.03606248]\n",
      " [ 0.12629369  0.07981134]\n",
      " [ 0.11811673  0.06662161]\n",
      " [-0.10602982  0.07713197]\n",
      " [ 0.11456055  0.05912476]\n",
      " [-0.12114437  0.11396084]\n",
      " [-0.10363782  0.0710784 ]\n",
      " [ 0.12048444  0.07130553]\n",
      " [ 0.09123947  0.02964363]\n",
      " [-0.01909976 -0.13209886]\n",
      " [-0.10249116  0.06678007]\n",
      " [ 0.10671965  0.04489305]\n",
      " [-0.03210618 -0.05510616]\n",
      " [-0.02568002 -0.16011489]\n",
      " [ 0.1074142   0.04210225]\n",
      " [ 0.12077344  0.07166584]\n",
      " [ 0.11909469  0.06587289]\n",
      " [-0.04519954 -0.03071079]\n",
      " [ 0.03121498 -0.0709812 ]\n",
      " [ 0.09360186  0.02404615]\n",
      " [-0.10553282  0.07566127]\n",
      " [-0.11051108  0.08804668]\n",
      " [-0.03505464 -0.1190506 ]\n",
      " [-0.03553034  0.03426303]\n",
      " [-0.01487209 -0.0527306 ]\n",
      " [ 0.11017831  0.05066087]\n",
      " [-0.11020285  0.08673048]\n",
      " [-0.10731603  0.07979049]\n",
      " [-0.10353821  0.07064577]\n",
      " [-0.10982747  0.0860409 ]\n",
      " [-0.10483871  0.07207522]\n",
      " [-0.0092534  -0.14381871]\n",
      " [ 0.0903019   0.01575679]\n",
      " [ 0.12420843  0.07796707]\n",
      " [-0.06826823 -0.01537622]\n",
      " [ 0.05841631 -0.02674777]\n",
      " [-0.04361163 -0.10066293]\n",
      " [-0.11196061  0.09136494]\n",
      " [-0.00382491 -0.1014684 ]\n",
      " [-0.12246751  0.11758882]\n",
      " [-0.10674483  0.07740897]\n",
      " [ 0.00163096 -0.11905171]\n",
      " [-0.11199196  0.09147604]\n",
      " [ 0.10587132  0.04226829]]\n"
     ]
    }
   ],
   "source": [
    "# 지역적 선형 임베딩 벡터 확인\n",
    "# embedding_속성으로 지역적 선형 임베딩 벡터를 확인할 수 있다.\n",
    "print(lle.embedding_)"
   ]
  },
  {
   "cell_type": "markdown",
   "id": "608252fb-efac-4b64-b727-890a905745fc",
   "metadata": {},
   "source": [
    "***\n",
    "지역적 선형 임베딩을 통해 차원 축소된 데이터 시각화\n",
    "***"
   ]
  },
  {
   "cell_type": "code",
   "execution_count": 5,
   "id": "b59ae334-7ebe-4623-aff5-959a7fd5ac9c",
   "metadata": {
    "tags": []
   },
   "outputs": [
    {
     "data": {
      "text/html": [
       "<div>\n",
       "<style scoped>\n",
       "    .dataframe tbody tr th:only-of-type {\n",
       "        vertical-align: middle;\n",
       "    }\n",
       "\n",
       "    .dataframe tbody tr th {\n",
       "        vertical-align: top;\n",
       "    }\n",
       "\n",
       "    .dataframe thead th {\n",
       "        text-align: right;\n",
       "    }\n",
       "</style>\n",
       "<table border=\"1\" class=\"dataframe\">\n",
       "  <thead>\n",
       "    <tr style=\"text-align: right;\">\n",
       "      <th></th>\n",
       "      <th>lle_comp1</th>\n",
       "      <th>lle_comp2</th>\n",
       "      <th>label</th>\n",
       "    </tr>\n",
       "  </thead>\n",
       "  <tbody>\n",
       "    <tr>\n",
       "      <th>0</th>\n",
       "      <td>0.103701</td>\n",
       "      <td>0.037971</td>\n",
       "      <td>0</td>\n",
       "    </tr>\n",
       "    <tr>\n",
       "      <th>1</th>\n",
       "      <td>0.072226</td>\n",
       "      <td>0.007648</td>\n",
       "      <td>1</td>\n",
       "    </tr>\n",
       "    <tr>\n",
       "      <th>2</th>\n",
       "      <td>0.112913</td>\n",
       "      <td>0.059309</td>\n",
       "      <td>0</td>\n",
       "    </tr>\n",
       "    <tr>\n",
       "      <th>3</th>\n",
       "      <td>0.115604</td>\n",
       "      <td>0.062052</td>\n",
       "      <td>0</td>\n",
       "    </tr>\n",
       "    <tr>\n",
       "      <th>4</th>\n",
       "      <td>0.118548</td>\n",
       "      <td>0.067196</td>\n",
       "      <td>0</td>\n",
       "    </tr>\n",
       "    <tr>\n",
       "      <th>...</th>\n",
       "      <td>...</td>\n",
       "      <td>...</td>\n",
       "      <td>...</td>\n",
       "    </tr>\n",
       "    <tr>\n",
       "      <th>128</th>\n",
       "      <td>-0.122468</td>\n",
       "      <td>0.117589</td>\n",
       "      <td>2</td>\n",
       "    </tr>\n",
       "    <tr>\n",
       "      <th>129</th>\n",
       "      <td>-0.106745</td>\n",
       "      <td>0.077409</td>\n",
       "      <td>2</td>\n",
       "    </tr>\n",
       "    <tr>\n",
       "      <th>130</th>\n",
       "      <td>0.001631</td>\n",
       "      <td>-0.119052</td>\n",
       "      <td>1</td>\n",
       "    </tr>\n",
       "    <tr>\n",
       "      <th>131</th>\n",
       "      <td>-0.111992</td>\n",
       "      <td>0.091476</td>\n",
       "      <td>2</td>\n",
       "    </tr>\n",
       "    <tr>\n",
       "      <th>132</th>\n",
       "      <td>0.105871</td>\n",
       "      <td>0.042268</td>\n",
       "      <td>0</td>\n",
       "    </tr>\n",
       "  </tbody>\n",
       "</table>\n",
       "<p>133 rows × 3 columns</p>\n",
       "</div>"
      ],
      "text/plain": [
       "     lle_comp1  lle_comp2  label\n",
       "0     0.103701   0.037971      0\n",
       "1     0.072226   0.007648      1\n",
       "2     0.112913   0.059309      0\n",
       "3     0.115604   0.062052      0\n",
       "4     0.118548   0.067196      0\n",
       "..         ...        ...    ...\n",
       "128  -0.122468   0.117589      2\n",
       "129  -0.106745   0.077409      2\n",
       "130   0.001631  -0.119052      1\n",
       "131  -0.111992   0.091476      2\n",
       "132   0.105871   0.042268      0\n",
       "\n",
       "[133 rows x 3 columns]"
      ]
     },
     "execution_count": 5,
     "metadata": {},
     "output_type": "execute_result"
    }
   ],
   "source": [
    "# 차원 축소한 데이터 시각화를 위해 데이터 프레임을 만든다.\n",
    "x_train_df = pd.DataFrame(x_train_lle, columns=['lle_comp1', 'lle_comp2'])\n",
    "x_train_df[\"label\"] = y_train\n",
    "x_train_df"
   ]
  },
  {
   "cell_type": "code",
   "execution_count": 6,
   "id": "b7176b64-7894-4334-b422-77c84a22d84b",
   "metadata": {
    "tags": []
   },
   "outputs": [
    {
     "data": {
      "image/png": "[encoded data removed]",
      "text/plain": [
       "<Figure size 1000x700 with 1 Axes>"
      ]
     },
     "metadata": {},
     "output_type": "display_data"
    }
   ],
   "source": [
    "# 위 셀의 시각화 코드를 반복문을 사용해서 만든다.\n",
    "plt.figure(figsize=[10, 7])\n",
    "markers = [\"o\", \"*\", \"s\"]\n",
    "\n",
    "for index, marker in enumerate(markers):\n",
    "     df_index = x_train_df[x_train_df.label == index] # 레이블 별로 데이터를 분할한다.\n",
    "     x = df_index.lle_comp1 # 레이블 별로 분할된 데이터에 첫번째 주성분 벡터를 추출한다.\n",
    "     y = df_index.lle_comp2 # 레이블 별로 분할된 데이터에 두번째 주성분 벡터를 추출한다.\n",
    "     label = raw_data.target_names[index] # 레이블 이름을 지정한다.\n",
    "     plt.scatter(x=x, y=y, marker=marker, label= label ) # 산포도를 그린다.\n",
    "\n",
    "plt.title(\"레이블 적용된 지역적 선형 임베딩 데이터 시각화\")\n",
    "plt.xlabel(\"lle_Comp_1\")\n",
    "plt.ylabel(\"lle_Comp_2\")\n",
    "plt.legend()\n",
    "plt.show()"
   ]
  },
  {
   "cell_type": "markdown",
   "id": "1911392c-002b-45c5-a278-936a64a8c98b",
   "metadata": {},
   "source": [
    "***\n",
    "지역적 선형 임베딩 적용 전 데이터 학습 x_train\n",
    "***"
   ]
  },
  {
   "cell_type": "code",
   "execution_count": 7,
   "id": "9ce2f945-680f-48fa-8b93-be1eea168817",
   "metadata": {
    "tags": []
   },
   "outputs": [
    {
     "data": {
      "text/plain": [
       "array([[18,  0,  0],\n",
       "       [ 1, 16,  0],\n",
       "       [ 0,  0, 10]], dtype=int64)"
      ]
     },
     "execution_count": 7,
     "metadata": {},
     "output_type": "execute_result"
    }
   ],
   "source": [
    "from sklearn.ensemble import RandomForestClassifier\n",
    "\n",
    "rfc = RandomForestClassifier(max_depth=4, random_state=0) # 랜덤 포레스트 모델 객체 생성\n",
    "rfc.fit(x_train, y_train) # 학습\n",
    "predict = rfc.predict(x_test) #예측\n",
    "#print(predict)\n",
    "confusion_matrix(y_test, predict) #혼동행렬"
   ]
  },
  {
   "cell_type": "code",
   "execution_count": 8,
   "id": "fd067c94-4bb1-4437-82e4-b3d465816650",
   "metadata": {
    "tags": []
   },
   "outputs": [
    {
     "name": "stdout",
     "output_type": "stream",
     "text": [
      "              precision    recall  f1-score   support\n",
      "\n",
      "           0       0.95      1.00      0.97        18\n",
      "           1       1.00      0.94      0.97        17\n",
      "           2       1.00      1.00      1.00        10\n",
      "\n",
      "    accuracy                           0.98        45\n",
      "   macro avg       0.98      0.98      0.98        45\n",
      "weighted avg       0.98      0.98      0.98        45\n",
      "\n"
     ]
    }
   ],
   "source": [
    "print(classification_report(y_test, predict))"
   ]
  },
  {
   "cell_type": "markdown",
   "id": "ea7a4f4a-099d-4454-be3f-916a62d6078d",
   "metadata": {},
   "source": [
    "***\n",
    "선형 판별 분석 적용 후 데이터 학습 x_train_lle\n",
    "***"
   ]
  },
  {
   "cell_type": "code",
   "execution_count": 9,
   "id": "8adc7e85-b269-49de-bc71-27c13830b084",
   "metadata": {
    "tags": []
   },
   "outputs": [
    {
     "data": {
      "text/plain": [
       "array([[16,  2,  0],\n",
       "       [ 1, 16,  0],\n",
       "       [ 0,  0, 10]], dtype=int64)"
      ]
     },
     "execution_count": 9,
     "metadata": {},
     "output_type": "execute_result"
    }
   ],
   "source": [
    "rfc.fit(x_train_lle, y_train) # 학습된 랜덤 포레스트 모델에 테스트 데이터를 넣어서 학습 학습\n",
    "predict = rfc.predict(x_test_lle) #예측\n",
    "#print(predict)\n",
    "confusion_matrix(y_test, predict) #혼동행렬"
   ]
  },
  {
   "cell_type": "code",
   "execution_count": 10,
   "id": "28665bf8-8376-4f37-b591-0151b30c3490",
   "metadata": {
    "tags": []
   },
   "outputs": [
    {
     "name": "stdout",
     "output_type": "stream",
     "text": [
      "              precision    recall  f1-score   support\n",
      "\n",
      "           0       0.94      0.89      0.91        18\n",
      "           1       0.89      0.94      0.91        17\n",
      "           2       1.00      1.00      1.00        10\n",
      "\n",
      "    accuracy                           0.93        45\n",
      "   macro avg       0.94      0.94      0.94        45\n",
      "weighted avg       0.93      0.93      0.93        45\n",
      "\n"
     ]
    }
   ],
   "source": [
    "print(classification_report(y_test, predict)) # 분류 리포트"
   ]
  },
  {
   "cell_type": "code",
   "execution_count": null,
   "id": "560f35bf-9b89-4e20-96d7-dbc751429f3c",
   "metadata": {},
   "outputs": [],
   "source": []
  },
  {
   "cell_type": "code",
   "execution_count": null,
   "id": "08e62852-1bc1-4870-8032-28eb132ea07f",
   "metadata": {},
   "outputs": [],
   "source": []
  },
  {
   "cell_type": "code",
   "execution_count": null,
   "id": "5400733d-01b0-4e88-b7fe-547d5f78a088",
   "metadata": {},
   "outputs": [],
   "source": []
  },
  {
   "cell_type": "code",
   "execution_count": null,
   "id": "674702ee-f558-4b45-8d46-97b1799e610d",
   "metadata": {},
   "outputs": [],
   "source": []
  },
  {
   "cell_type": "code",
   "execution_count": null,
   "id": "2938fc28-d118-4c71-ba78-3800a09fc1db",
   "metadata": {},
   "outputs": [],
   "source": []
  },
  {
   "cell_type": "code",
   "execution_count": null,
   "id": "18aec632-565a-40d9-9426-af9f84c29307",
   "metadata": {},
   "outputs": [],
   "source": []
  },
  {
   "cell_type": "code",
   "execution_count": null,
   "id": "7a0019b5-5ce8-412d-be03-e8b0519dd257",
   "metadata": {},
   "outputs": [],
   "source": []
  },
  {
   "cell_type": "code",
   "execution_count": null,
   "id": "7a1ccfe2-56c6-4442-bdcd-1c56a8c8c199",
   "metadata": {},
   "outputs": [],
   "source": []
  },
  {
   "cell_type": "code",
   "execution_count": null,
   "id": "ca3db623-9c86-4866-80cd-dfe9d97fc1c8",
   "metadata": {},
   "outputs": [],
   "source": []
  },
  {
   "cell_type": "code",
   "execution_count": null,
   "id": "6eae46a7-1429-413e-bfdc-a528b3e5b877",
   "metadata": {},
   "outputs": [],
   "source": []
  },
  {
   "cell_type": "code",
   "execution_count": null,
   "id": "09f929a4-5156-421f-9050-0a9a68200885",
   "metadata": {},
   "outputs": [],
   "source": []
  },
  {
   "cell_type": "code",
   "execution_count": null,
   "id": "27bebd81-5736-4958-b308-f09a5b529aae",
   "metadata": {},
   "outputs": [],
   "source": []
  },
  {
   "cell_type": "code",
   "execution_count": null,
   "id": "59cbe091-587d-42ce-96d4-9dc358b0de85",
   "metadata": {},
   "outputs": [],
   "source": []
  },
  {
   "cell_type": "code",
   "execution_count": null,
   "id": "1a15498e-d623-4e5d-a97e-e9264a803b6d",
   "metadata": {},
   "outputs": [],
   "source": []
  },
  {
   "cell_type": "code",
   "execution_count": null,
   "id": "00258489-a7e3-4e0a-a390-2e0a8757b581",
   "metadata": {},
   "outputs": [],
   "source": []
  },
  {
   "cell_type": "code",
   "execution_count": null,
   "id": "f162a6d6-5226-40ab-a772-b5ea8cb00e7f",
   "metadata": {},
   "outputs": [],
   "source": []
  },
  {
   "cell_type": "code",
   "execution_count": null,
   "id": "fe834210-5b09-4564-99c2-99cfbb49b49d",
   "metadata": {},
   "outputs": [],
   "source": []
  },
  {
   "cell_type": "code",
   "execution_count": null,
   "id": "2e063410-2b3d-4672-863d-193caf941131",
   "metadata": {},
   "outputs": [],
   "source": []
  },
  {
   "cell_type": "code",
   "execution_count": null,
   "id": "952ef910-78dc-4db1-b5d3-28f203f8767b",
   "metadata": {},
   "outputs": [],
   "source": []
  },
  {
   "cell_type": "code",
   "execution_count": null,
   "id": "7df7218d-3ac0-441e-8b21-bd656dd24b77",
   "metadata": {},
   "outputs": [],
   "source": []
  },
  {
   "cell_type": "code",
   "execution_count": null,
   "id": "5cf0c1ec-d4df-49f3-aca8-60d1a2e930a3",
   "metadata": {},
   "outputs": [],
   "source": []
  },
  {
   "cell_type": "code",
   "execution_count": null,
   "id": "5097cc24-d38f-4238-ad4d-145d4faeee3d",
   "metadata": {},
   "outputs": [],
   "source": []
  },
  {
   "cell_type": "code",
   "execution_count": null,
   "id": "ee28ddd9-1fc4-459e-b1be-2afb1a497bd7",
   "metadata": {},
   "outputs": [],
   "source": []
  },
  {
   "cell_type": "code",
   "execution_count": null,
   "id": "d8c29cfa-0fdf-44dd-9477-0b4f95806c15",
   "metadata": {},
   "outputs": [],
   "source": []
  },
  {
   "cell_type": "code",
   "execution_count": null,
   "id": "a91f25ac-9e9d-434e-8f20-def935d2b0ca",
   "metadata": {},
   "outputs": [],
   "source": []
  },
  {
   "cell_type": "code",
   "execution_count": null,
   "id": "f899b38f-da70-463a-87f1-f77f84606e8a",
   "metadata": {},
   "outputs": [],
   "source": []
  },
  {
   "cell_type": "code",
   "execution_count": null,
   "id": "cf7ffb2d-b3b9-499d-8d37-c6860485071d",
   "metadata": {},
   "outputs": [],
   "source": []
  },
  {
   "cell_type": "code",
   "execution_count": null,
   "id": "7ef79812-9d20-408c-8a48-6a02254e8366",
   "metadata": {},
   "outputs": [],
   "source": []
  },
  {
   "cell_type": "code",
   "execution_count": null,
   "id": "bcc5b085-7556-4fd6-b59a-4cad0c59ae81",
   "metadata": {},
   "outputs": [],
   "source": []
  },
  {
   "cell_type": "code",
   "execution_count": null,
   "id": "0a966813-6e1c-4076-a888-04a897898975",
   "metadata": {},
   "outputs": [],
   "source": []
  },
  {
   "cell_type": "code",
   "execution_count": null,
   "id": "dac65996-7581-487b-98db-251b80b1608c",
   "metadata": {},
   "outputs": [],
   "source": []
  },
  {
   "cell_type": "code",
   "execution_count": null,
   "id": "598f3689-12a0-48a4-98bf-04386c6a8c1f",
   "metadata": {},
   "outputs": [],
   "source": []
  },
  {
   "cell_type": "code",
   "execution_count": null,
   "id": "d1a2187a-21a8-46ad-8734-180a550dbc04",
   "metadata": {},
   "outputs": [],
   "source": []
  },
  {
   "cell_type": "code",
   "execution_count": null,
   "id": "5781d5c7-7f82-4859-98d0-db1ce0840504",
   "metadata": {},
   "outputs": [],
   "source": []
  },
  {
   "cell_type": "code",
   "execution_count": null,
   "id": "482d2e13-f3ed-461b-b4a5-228d0694796c",
   "metadata": {},
   "outputs": [],
   "source": []
  },
  {
   "cell_type": "code",
   "execution_count": null,
   "id": "335a8b4b-f875-4d1c-bebe-d6c30a19a750",
   "metadata": {},
   "outputs": [],
   "source": []
  },
  {
   "cell_type": "code",
   "execution_count": null,
   "id": "aa12d539-e0a7-4acd-ae4a-526c83d0e369",
   "metadata": {},
   "outputs": [],
   "source": []
  },
  {
   "cell_type": "code",
   "execution_count": null,
   "id": "dec11462-2ce8-427f-b386-3c6d1f7f68ca",
   "metadata": {},
   "outputs": [],
   "source": []
  },
  {
   "cell_type": "code",
   "execution_count": null,
   "id": "6ffbb7ab-cee5-43a7-b00d-4e1a57be249f",
   "metadata": {},
   "outputs": [],
   "source": []
  },
  {
   "cell_type": "code",
   "execution_count": null,
   "id": "994a75c8-dd0d-4521-ab51-20afe40df841",
   "metadata": {},
   "outputs": [],
   "source": []
  },
  {
   "cell_type": "code",
   "execution_count": null,
   "id": "dc26faee-a6b1-4232-b610-0a4709483f2b",
   "metadata": {},
   "outputs": [],
   "source": []
  },
  {
   "cell_type": "code",
   "execution_count": null,
   "id": "d0df5e28-3cdc-481a-b9f9-85069c83120b",
   "metadata": {},
   "outputs": [],
   "source": []
  },
  {
   "cell_type": "code",
   "execution_count": null,
   "id": "042cb570-feb8-4b72-9aa2-6533a0337285",
   "metadata": {},
   "outputs": [],
   "source": []
  },
  {
   "cell_type": "code",
   "execution_count": null,
   "id": "ecb8d811-607c-47c8-b268-7ca688e3c68b",
   "metadata": {},
   "outputs": [],
   "source": []
  },
  {
   "cell_type": "code",
   "execution_count": null,
   "id": "8dad90e4-9983-4f0e-9b16-db5ebc3c0df5",
   "metadata": {},
   "outputs": [],
   "source": []
  },
  {
   "cell_type": "code",
   "execution_count": null,
   "id": "f75d3d6e-c99e-4319-9660-6d0dfa3272fc",
   "metadata": {},
   "outputs": [],
   "source": []
  },
  {
   "cell_type": "code",
   "execution_count": null,
   "id": "433466c8-8363-4804-8f60-9552146f771f",
   "metadata": {},
   "outputs": [],
   "source": []
  },
  {
   "cell_type": "code",
   "execution_count": null,
   "id": "4dcec7d1-afdf-4993-9dd9-5cc3108987be",
   "metadata": {},
   "outputs": [],
   "source": []
  }
 ],
 "metadata": {
  "kernelspec": {
   "display_name": "py3.7",
   "language": "python",
   "name": "py3.7"
  },
  "language_info": {
   "codemirror_mode": {
    "name": "ipython",
    "version": 3
   },
   "file_extension": ".py",
   "mimetype": "text/x-python",
   "name": "python",
   "nbconvert_exporter": "python",
   "pygments_lexer": "ipython3",
   "version": "3.7.1"
  }
 },
 "nbformat": 4,
 "nbformat_minor": 5
}
