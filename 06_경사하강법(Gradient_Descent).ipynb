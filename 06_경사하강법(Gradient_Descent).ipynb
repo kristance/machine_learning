{
 "cells": [
  {
   "cell_type": "code",
   "execution_count": 1,
   "id": "72bbb8f1",
   "metadata": {},
   "outputs": [
    {
     "name": "stdout",
     "output_type": "stream",
     "text": [
      "WARNING:tensorflow:From C:\\Users\\tj\\.conda\\envs\\py3.7\\lib\\site-packages\\tensorflow\\python\\compat\\v2_compat.py:107: disable_resource_variables (from tensorflow.python.ops.variable_scope) is deprecated and will be removed in a future version.\n",
      "Instructions for updating:\n",
      "non-resource variables are not supported in the long term\n"
     ]
    }
   ],
   "source": [
    " %config Completer.use_jedi = False                                       \n",
    "import warnings                                                             \n",
    "warnings.filterwarnings(action=\"ignore\")\n",
    "import tensorflow.compat.v1 as tf\n",
    "tf.disable_v2_behavior()"
   ]
  },
  {
   "cell_type": "markdown",
   "id": "1cb4d104",
   "metadata": {},
   "source": [
    "***\n",
    "경사 하강법(Gradient Descent)  \n",
    "***\n",
    "기울기를 너무 크게 잡아도 넘무 작게 잡아도 오차가 커지기때문에 평균 제곱근 오차를 계산하면 U자 형태의 2차 방정식 곡선이 만들어진다.  \n",
    "이렇게 만들어진 2차 곡선의 임의의 한 점을 선택해서 미분을 실행하면 임의의 점에 대한 기울기가 계산되고 기울기를 0에 가깝게 이동하면서  \n",
    "최적의 기울기를 계산한다."
   ]
  },
  {
   "cell_type": "code",
   "execution_count": 2,
   "id": "393ea79b",
   "metadata": {},
   "outputs": [],
   "source": [
    "data = [ [2, 81], [4, 93], [6, 91], [8, 97] ] #[공부시간, 공부시간에 따른 시험점수]\n",
    "xData = [i[0] for i in data] #공부시간\n",
    "yData = [i[1] for i in data] #공부시간에 따른 시험점수, 실제값"
   ]
  },
  {
   "cell_type": "code",
   "execution_count": 3,
   "id": "eb9dfb4f",
   "metadata": {},
   "outputs": [
    {
     "name": "stdout",
     "output_type": "stream",
     "text": [
      "a = [5.5510798], b = [44.604397]\n"
     ]
    }
   ],
   "source": [
    "#기울기 a와 y절편 b를 과적합을 방지하기 위해 난수를 발생시켜 정한다.\n",
    "#random_uniform([난수의갯수], 최소값, 최대값, dtype=난수의데이터타입, seed=숫자)\n",
    "#최소값과 최대값 생략시 ([1], 0, 1)이 기본값이다.\n",
    "#dtype 생략시 기본값은 tf.float32이고, seed 값을 지정하면 항상 일정한 난수가 생성된다. \n",
    "a = tf.Variable(tf.random_uniform([1], 0, 10)) # 기울기, -100 ~ 100 사이의 난수\n",
    "b = tf.Variable(tf.random_uniform([1], 0, 100)) # y절편, -100 ~ 100 사이의 난수\n",
    "sess = tf.Session()\n",
    "sess.run(tf.global_variables_initializer())\n",
    "print('a = {}, b = {}'.format( sess.run(a), sess.run(b) ))"
   ]
  },
  {
   "cell_type": "code",
   "execution_count": 4,
   "id": "e9b1cc75",
   "metadata": {},
   "outputs": [],
   "source": [
    "#예측 성적(Y)를 얻기위한 가설(수식)을 만든다.\n",
    "Y = a * xData + b"
   ]
  },
  {
   "cell_type": "code",
   "execution_count": 5,
   "id": "1fabe875",
   "metadata": {},
   "outputs": [],
   "source": [
    "#RMSE에서 사용할 수식(오차함수;비용함수)를 만든다.\n",
    "#np.sqrt(((predict_result - yData) ** 2).mean()) -> numpy 사용\n",
    "#tf.square( Y - yData ) : 예측점수(Y)와 실제점수(yData)의 편차제곱을 계산한다.\n",
    "#tf.reduce_mean( tf.square(Y - yData) ) : 예측점수와 실제점수의 편차제곱의 평균을 계산한다.\n",
    "#tf.sqrt(tf.reduce_mean( tf.square(Y - yData) )) : 예측점수와 실제점수의 편차제곱의 평균에 대한 제곱근을 계산한다.\n",
    "rmse = tf.sqrt(tf.reduce_mean( tf.square(Y - yData) ))"
   ]
  },
  {
   "cell_type": "code",
   "execution_count": 6,
   "id": "91debb00",
   "metadata": {},
   "outputs": [],
   "source": [
    "#경사하강법 알고리즘을 이용해서 RMSE를 최소로 하는 값을 찾는다.\n",
    "learning_rate = 0.01\n",
    "gradient_descent = tf.train.GradientDescentOptimizer(learning_rate=learning_rate).minimize(rmse)"
   ]
  },
  {
   "cell_type": "code",
   "execution_count": 7,
   "id": "884513c7",
   "metadata": {
    "scrolled": false
   },
   "outputs": [
    {
     "name": "stdout",
     "output_type": "stream",
     "text": [
      "epoch ->     0, cost -> 16.0270, a -> 6.46441, b -> 45.4558\n",
      "epoch ->   500, cost -> 13.1320, a -> 7.55854, b -> 47.6192\n",
      "epoch ->  1000, cost -> 12.3628, a -> 7.23444, b -> 49.5534\n",
      "epoch ->  1500, cost -> 11.5990, a -> 6.91148, b -> 51.4807\n",
      "epoch ->  2000, cost -> 10.8419, a -> 6.58991, b -> 53.3997\n",
      "epoch ->  2500, cost -> 10.0927, a -> 6.27004, b -> 55.3085\n",
      "epoch ->  3000, cost ->  9.3533, a -> 5.95228, b -> 57.2048\n",
      "epoch ->  3500, cost ->  8.6260, a -> 5.63712, b -> 59.0855\n",
      "epoch ->  4000, cost ->  7.9139, a -> 5.32528, b -> 60.9465\n",
      "epoch ->  4500, cost ->  7.2210, a -> 5.01766, b -> 62.7822\n",
      "epoch ->  5000, cost ->  6.5526, a -> 4.71554, b -> 64.5852\n",
      "epoch ->  5500, cost ->  5.9156, a -> 4.42061, b -> 66.3451\n",
      "epoch ->  6000, cost ->  5.3191, a -> 4.13519, b -> 68.0484\n",
      "epoch ->  6500, cost ->  4.7739, a -> 3.86234, b -> 69.6766\n",
      "epoch ->  7000, cost ->  4.2924, a -> 3.60596, b -> 71.2066\n",
      "epoch ->  7500, cost ->  3.8863, a -> 3.37056, b -> 72.6114\n",
      "epoch ->  8000, cost ->  3.5633, a -> 3.16067, b -> 73.8639\n",
      "epoch ->  8500, cost ->  3.3230, a -> 2.97972, b -> 74.9437\n",
      "epoch ->  9000, cost ->  3.1561, a -> 2.82895, b -> 75.8434\n",
      "epoch ->  9500, cost ->  3.0469, a -> 2.70711, b -> 76.5705\n",
      "epoch -> 10000, cost ->  2.9789, a -> 2.61097, b -> 77.1443\n"
     ]
    }
   ],
   "source": [
    "#학습시킨다.\n",
    "sess = tf.Session()\n",
    "sess.run(tf.global_variables_initializer())\n",
    "\n",
    "for epoch in range(10001):\n",
    "    sess.run(gradient_descent)\n",
    "    if epoch % 500 == 0:\n",
    "        #print(epoch, sess.run(rmse), sess.run(a), sess.run(b))\n",
    "        '''\n",
    "        print('epoch -> %5d, rmse -> %7.4f, a -> %7.4f, b -> %7.4f'\n",
    "              %  ( epoch, sess.run(rmse), sess.run(a), sess.run(b) ))\n",
    "        '''\n",
    "        print('epoch -> {:5d}, rmse -> {:7.4f}, a -> {:7.5f}, b -> {:7.4f}'\n",
    "               .format( epoch, sess.run(rmse), sess.run(a)[0], sess.run(b)[0] ))"
   ]
  },
  {
   "cell_type": "markdown",
   "id": "94e5be1b",
   "metadata": {},
   "source": [
    "<img src=\"./gradient_descent.png\" width=600px>"
   ]
  },
  {
   "cell_type": "code",
   "execution_count": null,
   "id": "d9b3f18e",
   "metadata": {},
   "outputs": [],
   "source": []
  },
  {
   "cell_type": "code",
   "execution_count": null,
   "id": "a11e5405",
   "metadata": {},
   "outputs": [],
   "source": []
  },
  {
   "cell_type": "code",
   "execution_count": null,
   "id": "5d42289b",
   "metadata": {},
   "outputs": [],
   "source": []
  },
  {
   "cell_type": "code",
   "execution_count": null,
   "id": "01414312",
   "metadata": {},
   "outputs": [],
   "source": []
  },
  {
   "cell_type": "code",
   "execution_count": null,
   "id": "78971c3c",
   "metadata": {},
   "outputs": [],
   "source": []
  },
  {
   "cell_type": "code",
   "execution_count": null,
   "id": "42e7f3d1",
   "metadata": {},
   "outputs": [],
   "source": []
  },
  {
   "cell_type": "code",
   "execution_count": null,
   "id": "80258dce",
   "metadata": {},
   "outputs": [],
   "source": []
  },
  {
   "cell_type": "code",
   "execution_count": null,
   "id": "500fce7d",
   "metadata": {},
   "outputs": [],
   "source": []
  },
  {
   "cell_type": "code",
   "execution_count": null,
   "id": "6d8bab4b",
   "metadata": {},
   "outputs": [],
   "source": []
  },
  {
   "cell_type": "code",
   "execution_count": null,
   "id": "8bf1a8cd",
   "metadata": {},
   "outputs": [],
   "source": []
  },
  {
   "cell_type": "code",
   "execution_count": null,
   "id": "96f1dc2a",
   "metadata": {},
   "outputs": [],
   "source": []
  },
  {
   "cell_type": "code",
   "execution_count": null,
   "id": "7c656a1b",
   "metadata": {},
   "outputs": [],
   "source": []
  },
  {
   "cell_type": "code",
   "execution_count": null,
   "id": "6e5ebb02",
   "metadata": {},
   "outputs": [],
   "source": []
  },
  {
   "cell_type": "code",
   "execution_count": null,
   "id": "94c12520",
   "metadata": {},
   "outputs": [],
   "source": []
  },
  {
   "cell_type": "code",
   "execution_count": null,
   "id": "1731c49a",
   "metadata": {},
   "outputs": [],
   "source": []
  },
  {
   "cell_type": "code",
   "execution_count": null,
   "id": "8b21af8b",
   "metadata": {},
   "outputs": [],
   "source": []
  },
  {
   "cell_type": "code",
   "execution_count": null,
   "id": "2d8f2b59",
   "metadata": {},
   "outputs": [],
   "source": []
  },
  {
   "cell_type": "code",
   "execution_count": null,
   "id": "1972f781",
   "metadata": {},
   "outputs": [],
   "source": []
  },
  {
   "cell_type": "code",
   "execution_count": null,
   "id": "50a2ea25",
   "metadata": {},
   "outputs": [],
   "source": []
  },
  {
   "cell_type": "code",
   "execution_count": null,
   "id": "acc7b3cb",
   "metadata": {},
   "outputs": [],
   "source": []
  },
  {
   "cell_type": "code",
   "execution_count": null,
   "id": "caf36460",
   "metadata": {},
   "outputs": [],
   "source": []
  },
  {
   "cell_type": "code",
   "execution_count": null,
   "id": "141a1205",
   "metadata": {},
   "outputs": [],
   "source": []
  },
  {
   "cell_type": "code",
   "execution_count": null,
   "id": "957871ae",
   "metadata": {},
   "outputs": [],
   "source": []
  }
 ],
 "metadata": {
  "kernelspec": {
   "display_name": "Python [conda env:.conda-py3.7] *",
   "language": "python",
   "name": "conda-env-.conda-py3.7-py"
  },
  "language_info": {
   "codemirror_mode": {
    "name": "ipython",
    "version": 3
   },
   "file_extension": ".py",
   "mimetype": "text/x-python",
   "name": "python",
   "nbconvert_exporter": "python",
   "pygments_lexer": "ipython3",
   "version": "3.7.1"
  }
 },
 "nbformat": 4,
 "nbformat_minor": 5
}
