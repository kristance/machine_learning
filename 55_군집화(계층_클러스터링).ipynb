{
 "cells": [
  {
   "cell_type": "code",
   "execution_count": 1,
   "id": "805711b4-88f1-4f89-8d8e-a4caab57f1ba",
   "metadata": {
    "tags": []
   },
   "outputs": [],
   "source": [
    "import warnings\n",
    "warnings.filterwarnings(action='ignore')\n",
    "%config Completer.use_jedi = False\n",
    "import numpy as np\n",
    "import pandas as pd\n",
    "import matplotlib.pyplot as plt\n",
    "import matplotlib as mpl\n",
    "mpl.rcParams['axes.unicode_minus'] = False\n",
    "plt.rcParams['font.family'] = 'NanumGothicCoding'\n",
    "plt.rcParams['font.size'] = 10\n",
    "import seaborn as sns\n",
    "\n",
    "from sklearn import datasets\n",
    "from sklearn.model_selection import train_test_split\n",
    "from sklearn.preprocessing import StandardScaler\n",
    "from sklearn.metrics import accuracy_score\n",
    "from sklearn.metrics import precision_score\n",
    "from sklearn.metrics import recall_score\n",
    "from sklearn.metrics import f1_score\n",
    "from sklearn.metrics import confusion_matrix\n",
    "from sklearn.metrics import classification_report\n",
    "from sklearn.metrics import mean_absolute_error\n",
    "from sklearn.metrics import mean_squared_error\n",
    "from sklearn.metrics import r2_score\n",
    "from sklearn.metrics import silhouette_score"
   ]
  },
  {
   "cell_type": "markdown",
   "id": "37edbf1f-be7c-4c96-a007-9b767fdc9449",
   "metadata": {},
   "source": [
    "***\n",
    "계층 클러스터링(Hierarchical Clustering) 알고리즘은 데이터 간 계층을 기반으로 데이터 간 병합 또는 분할을 통해서 해당 데이터 포인트가 속할 그룹을 결정한다.  \n",
    "계층 클러스터링은 크게 병합 계층 클러스터링(Agglomerative Hierarchical Clustering)과 분할 계층 클러스터링(Division Hierarchical Clustering) 으로 나눌 수 있다.  \n",
    "***\n",
    "- 병합 게층 클러스터링 : 개별 데이터 포인트를 하나의 클러스터로 설정하고 시작하는 방법으로 데이터 포인트가 100가 있다면 처음에 100개의 클러스터가 있다고 존재한다고 가정한다.  \n",
    "    그리고 각 클러스터를 비교해서 클러스터간 유사도가 높을 경우 두개의 클러스터를 하나의 클러스터로 합치는 방법이다.  \n",
    "    처음에는 다수의 클러스터로 시작하지만 결국에는 데이터셋 전체를 하나의 클러스터로 묶는 방법이다.\n",
    "    \n",
    "    \n",
    "- 분할 계층 클러스터링 : 병합 계층 클러스터링과는 반대로 전체 데이터셋을 하나의 클러스터로 설정하고 시작하는 방법으로 데이터 포인트가 100개가 있다면  \n",
    "    이 데이터셋 전체를 1개의 클러스터라 가정하는 것이다.  \n",
    "    그리고 클러스터 내부에서 가장 멀리 떨어진 데이터 포인트를 다른 클러스터로 분리하는 방법이다.  \n",
    "    처음에는 하나의 클러스터로 시작하지만 결국에는 클러스터가 데이터 포인트의 갯수만큼 분리되는 방법이다.  "
   ]
  },
  {
   "cell_type": "markdown",
   "id": "dc66616b-a34d-4394-8aa8-cbe9f7970024",
   "metadata": {},
   "source": [
    "***\n",
    "계층 클러스터링 알고리즘을 활용해서 주어진 데이터를 클러스터링 해본다.\n",
    "***\n",
    "데이터 불러오기"
   ]
  },
  {
   "cell_type": "code",
   "execution_count": 2,
   "id": "0ce592c9-1e40-4033-8d62-c86c1c4dbca7",
   "metadata": {
    "tags": []
   },
   "outputs": [
    {
     "name": "stdout",
     "output_type": "stream",
     "text": [
      "(100, 2) (100,)\n"
     ]
    }
   ],
   "source": [
    "# 클러스터링용 가상 데이터를 불러온다.\n",
    "x_train, y_train = datasets.make_blobs(n_samples=100, n_features=2, random_state=10, centers=6) \n",
    "print(x_train.shape, y_train.shape)"
   ]
  },
  {
   "cell_type": "markdown",
   "id": "a8865613-c8d9-4ac6-81a0-bcfa467f2f2f",
   "metadata": {
    "tags": []
   },
   "source": [
    "***\n",
    "클러스터링 되지 않은 데이터 시각화\n",
    "***"
   ]
  },
  {
   "cell_type": "code",
   "execution_count": 3,
   "id": "2cdaaeaa-c3d0-4a44-9586-2b3a54032d1c",
   "metadata": {
    "tags": []
   },
   "outputs": [
    {
     "data": {
      "image/png": "[encoded data removed]",
      "text/plain": [
       "<Figure size 1000x700 with 1 Axes>"
      ]
     },
     "metadata": {},
     "output_type": "display_data"
    }
   ],
   "source": [
    "# 클러스터링되지 않은 데이터 시각화\n",
    "plt.figure(figsize=[10, 7])\n",
    "plt.scatter(x=x_train[: , 0], y=x_train[:, 1], c=\"red\")\n",
    "plt.show()"
   ]
  },
  {
   "cell_type": "markdown",
   "id": "5e18c8dc-bf3b-4ca2-a4ed-8520b87e8a92",
   "metadata": {},
   "source": [
    "***\n",
    "병합 계층 클러스터링 모델을 생성 후 학습시킨다.\n",
    "***"
   ]
  },
  {
   "cell_type": "code",
   "execution_count": 4,
   "id": "81fad21d-bc24-4d05-8ac9-8608d103af2d",
   "metadata": {
    "tags": []
   },
   "outputs": [
    {
     "data": {
      "text/plain": [
       "AgglomerativeClustering(distance_threshold=0, linkage='complete',\n",
       "                        n_clusters=None)"
      ]
     },
     "execution_count": 4,
     "metadata": {},
     "output_type": "execute_result"
    }
   ],
   "source": [
    "# 병합 계층 클러스터링 알고리즘 사용\n",
    "from sklearn.cluster import AgglomerativeClustering \n",
    "\n",
    "# n_clusters 속성에 클러스터링 갯수를 지정해서 병합 계층 클러스터링 모델을 만든다. 기본값은 2이다. \n",
    "# 모든 데이터 포인트가 각각 하나의 클러스터를 구성하는 것을 보고싶으면 n_clusters 속성을 None으로 지정하면 된다. \n",
    "# 이때, distance_threshold 속성값을 반드시 0으로 지정하지 않으면 에러가 발생한다!!!!!!!!\n",
    "# linkage 속성으로 거리를 측정하는 방법을 지정한다. 기본값은 \"word\"이고, \"complete\", \"average\", \"single\"을 지정할 수 있다.\n",
    "# \"word\" : 병합되는 클러스터들의 분산을 최소화한다. 최소 분산 방법\n",
    "# \"complete\" : 모든 데이터 조합에 대한 거리를 측정해서 가장 큰 값을 구한다. 최장 거리 방법\n",
    "# \"average\" : 모든 데이터 조합에 대한 거리를 측정해서 평균 값을 구한다. 평균 거리 방법\n",
    "# \"single\" : 모든 데이터 조합에 대한 거리를 측정해서 가장 작은 값을 구한다. 최소 거리 방법\n",
    "cluster = AgglomerativeClustering(n_clusters=None, distance_threshold=0, linkage=\"complete\")\n",
    "\n",
    "#학습데이터로 병합 계층 클러스터링 모델을 학습시킨다.\n",
    "cluster.fit(x_train)"
   ]
  },
  {
   "cell_type": "code",
   "execution_count": 5,
   "id": "d607417b-1b4c-442e-9504-ba87d4a56312",
   "metadata": {
    "tags": []
   },
   "outputs": [
    {
     "name": "stdout",
     "output_type": "stream",
     "text": [
      "[88 57 75 93 80 92 69 59 76 77 72 99 91 63 82 71 37 66 55 94 81 60 67 35\n",
      " 87 61 46 83 73 98 54 84 41 62 65 56 43 68 78 64 97 27 49 58 33 52 48 53\n",
      " 28 38 50 74 79 90 29 95 85 13 96 70 45 34 22 16 40 32 47 86 36 18 30 23\n",
      " 31 42 26 17 51 39 89 24 25 44 19 21 10 12  8 15 20 11 14  7  9  5  6  3\n",
      "  4  2  1  0]\n",
      "[88 57 75 93 80 92 69 59 76 77 72 99 91 63 82 71 37 66 55 94 81 60 67 35\n",
      " 87 61 46 83 73 98 54 84 41 62 65 56 43 68 78 64 97 27 49 58 33 52 48 53\n",
      " 28 38 50 74 79 90 29 95 85 13 96 70 45 34 22 16 40 32 47 86 36 18 30 23\n",
      " 31 42 26 17 51 39 89 24 25 44 19 21 10 12  8 15 20 11 14  7  9  5  6  3\n",
      "  4  2  1  0]\n"
     ]
    }
   ],
   "source": [
    "# 클러스터링 결과(레이블)를 확인한다.\n",
    "# labels_ 속성으로 클러스터링 결과를 얻어올 수 있다.\n",
    "print(cluster.labels_)\n",
    "#fit_predict() 메소드에 피쳐 데이터를 넘겨서 클러스터링 결과를 확인할 수 있다. \n",
    "print(cluster.fit_predict(x_train))"
   ]
  },
  {
   "cell_type": "code",
   "execution_count": 6,
   "id": "548bbb19-d1c8-4493-96c1-d36b8a68614c",
   "metadata": {
    "tags": []
   },
   "outputs": [
    {
     "name": "stdout",
     "output_type": "stream",
     "text": [
      "[3 1 2 2 0 2 0 0 0 3 1 2 0 3 0 2 1 0 0 0 0 2 3 2 2 2 3 1 0 0 0 3 3 0 3 3 1\n",
      " 1 3 1 0 0 1 0 0 1 1 3 0 1 0 1 0 3 1 0 0 3 1 0 2 1 1 0 3 2 1 1 1 0 1 1 2 0\n",
      " 0 2 3 3 1 0 3 2 2 0 0 1 0 1 1 0 1 0 1 1 1 2 1 1 1 1]\n",
      "[3 1 2 2 0 2 0 0 0 3 1 2 0 3 0 2 1 0 0 0 0 2 3 2 2 2 3 1 0 0 0 3 3 0 3 3 1\n",
      " 1 3 1 0 0 1 0 0 1 1 3 0 1 0 1 0 3 1 0 0 3 1 0 2 1 1 0 3 2 1 1 1 0 1 1 2 0\n",
      " 0 2 3 3 1 0 3 2 2 0 0 1 0 1 1 0 1 0 1 1 1 2 1 1 1 1]\n"
     ]
    }
   ],
   "source": [
    "# n_clusters 속성값을 None이 아닌 값을 지정하려면 distance_threshold 속성을 지정하지 않는다.  \n",
    "cluster = AgglomerativeClustering(n_clusters=4, linkage=\"complete\")\n",
    "cluster.fit(x_train)\n",
    "print(cluster.labels_)\n",
    "print(cluster.fit_predict(x_train))"
   ]
  },
  {
   "cell_type": "markdown",
   "id": "4740ea29-056e-4cda-83b9-55d177d5da97",
   "metadata": {},
   "source": [
    "***\n",
    "병합 계층 클러스터링 알고리즘으로 클러스터링된 이미지 시각화\n",
    "***"
   ]
  },
  {
   "cell_type": "code",
   "execution_count": 7,
   "id": "f1303417-9516-4584-811a-8b9ea22e3074",
   "metadata": {
    "tags": []
   },
   "outputs": [
    {
     "data": {
      "text/html": [
       "<div>\n",
       "<style scoped>\n",
       "    .dataframe tbody tr th:only-of-type {\n",
       "        vertical-align: middle;\n",
       "    }\n",
       "\n",
       "    .dataframe tbody tr th {\n",
       "        vertical-align: top;\n",
       "    }\n",
       "\n",
       "    .dataframe thead th {\n",
       "        text-align: right;\n",
       "    }\n",
       "</style>\n",
       "<table border=\"1\" class=\"dataframe\">\n",
       "  <thead>\n",
       "    <tr style=\"text-align: right;\">\n",
       "      <th></th>\n",
       "      <th>x</th>\n",
       "      <th>y</th>\n",
       "      <th>label</th>\n",
       "      <th>cluster</th>\n",
       "    </tr>\n",
       "  </thead>\n",
       "  <tbody>\n",
       "    <tr>\n",
       "      <th>0</th>\n",
       "      <td>-6.086784</td>\n",
       "      <td>4.729827</td>\n",
       "      <td>3</td>\n",
       "      <td>3</td>\n",
       "    </tr>\n",
       "    <tr>\n",
       "      <th>1</th>\n",
       "      <td>3.801750</td>\n",
       "      <td>4.278268</td>\n",
       "      <td>1</td>\n",
       "      <td>1</td>\n",
       "    </tr>\n",
       "    <tr>\n",
       "      <th>2</th>\n",
       "      <td>-7.330583</td>\n",
       "      <td>-8.494063</td>\n",
       "      <td>4</td>\n",
       "      <td>2</td>\n",
       "    </tr>\n",
       "    <tr>\n",
       "      <th>3</th>\n",
       "      <td>-6.107069</td>\n",
       "      <td>-7.818906</td>\n",
       "      <td>4</td>\n",
       "      <td>2</td>\n",
       "    </tr>\n",
       "    <tr>\n",
       "      <th>4</th>\n",
       "      <td>5.525562</td>\n",
       "      <td>-8.186965</td>\n",
       "      <td>0</td>\n",
       "      <td>0</td>\n",
       "    </tr>\n",
       "    <tr>\n",
       "      <th>...</th>\n",
       "      <td>...</td>\n",
       "      <td>...</td>\n",
       "      <td>...</td>\n",
       "      <td>...</td>\n",
       "    </tr>\n",
       "    <tr>\n",
       "      <th>95</th>\n",
       "      <td>-6.950884</td>\n",
       "      <td>-9.024594</td>\n",
       "      <td>4</td>\n",
       "      <td>2</td>\n",
       "    </tr>\n",
       "    <tr>\n",
       "      <th>96</th>\n",
       "      <td>2.591843</td>\n",
       "      <td>4.446782</td>\n",
       "      <td>1</td>\n",
       "      <td>1</td>\n",
       "    </tr>\n",
       "    <tr>\n",
       "      <th>97</th>\n",
       "      <td>2.992321</td>\n",
       "      <td>5.436981</td>\n",
       "      <td>1</td>\n",
       "      <td>1</td>\n",
       "    </tr>\n",
       "    <tr>\n",
       "      <th>98</th>\n",
       "      <td>2.310466</td>\n",
       "      <td>4.854172</td>\n",
       "      <td>1</td>\n",
       "      <td>1</td>\n",
       "    </tr>\n",
       "    <tr>\n",
       "      <th>99</th>\n",
       "      <td>3.316214</td>\n",
       "      <td>10.323041</td>\n",
       "      <td>5</td>\n",
       "      <td>1</td>\n",
       "    </tr>\n",
       "  </tbody>\n",
       "</table>\n",
       "<p>100 rows × 4 columns</p>\n",
       "</div>"
      ],
      "text/plain": [
       "           x          y  label  cluster\n",
       "0  -6.086784   4.729827      3        3\n",
       "1   3.801750   4.278268      1        1\n",
       "2  -7.330583  -8.494063      4        2\n",
       "3  -6.107069  -7.818906      4        2\n",
       "4   5.525562  -8.186965      0        0\n",
       "..       ...        ...    ...      ...\n",
       "95 -6.950884  -9.024594      4        2\n",
       "96  2.591843   4.446782      1        1\n",
       "97  2.992321   5.436981      1        1\n",
       "98  2.310466   4.854172      1        1\n",
       "99  3.316214  10.323041      5        1\n",
       "\n",
       "[100 rows x 4 columns]"
      ]
     },
     "execution_count": 7,
     "metadata": {},
     "output_type": "execute_result"
    }
   ],
   "source": [
    "# 클러스터링된 데이터 시각화를 위해 데이터 프레임을 만든다.\n",
    "x_train_df = pd.DataFrame(x_train, columns=['x', 'y'])\n",
    "x_train_df[\"label\"] = y_train\n",
    "x_train_df[\"cluster\"] = cluster.labels_ # 데이터프레임에 클러스터링된 레이블을 넣어준다.\n",
    "x_train_df"
   ]
  },
  {
   "cell_type": "code",
   "execution_count": 8,
   "id": "5ff77f11-433c-4fec-bc09-afa9176dc453",
   "metadata": {
    "tags": []
   },
   "outputs": [
    {
     "name": "stdout",
     "output_type": "stream",
     "text": [
      "{0, 1, 2, 3, 4, 5}\n",
      "{0, 1, 2, 3}\n"
     ]
    }
   ],
   "source": [
    "# 레이블과 클러스터링된 레이블의 종류 확인\n",
    "print(set(x_train_df.label))\n",
    "print(set(x_train_df.cluster))"
   ]
  },
  {
   "cell_type": "markdown",
   "id": "d2468bad-6496-47e3-ae30-32ccc3b580ec",
   "metadata": {},
   "source": [
    "***\n",
    "실제 데이터의 레이블 데이터 시각화\n",
    "***"
   ]
  },
  {
   "cell_type": "code",
   "execution_count": 9,
   "id": "0d0b8562-ca30-4dea-81f1-03315ba577ec",
   "metadata": {
    "tags": []
   },
   "outputs": [
    {
     "data": {
      "image/png": "[encoded data removed]",
      "text/plain": [
       "<Figure size 1000x700 with 1 Axes>"
      ]
     },
     "metadata": {},
     "output_type": "display_data"
    }
   ],
   "source": [
    "# 위 셀의 시각화 코드를 반복문을 사용해서 만든다.\n",
    "plt.figure(figsize=[10, 7])\n",
    "markers = [\"o\", \"*\", \"s\", \"x\", \"^\", \"v\"]\n",
    "\n",
    "for i in set(x_train_df.label):\n",
    "     df_index = x_train_df[x_train_df.label == i] # 원 데이터의 레이블 데이터를 분할한다.\n",
    "     X = df_index.x # 학습 데이터의 첫번째 성분 벡터를 추출한다.\n",
    "     Y = df_index.y # 학습 데이터의 두번째 성분 벡터를 추출한다.\n",
    "     plt.scatter(x=X, y=Y, marker = markers[i], label= i ) # 산포도를 그린다.\n",
    "\n",
    "plt.title(\" 레이블 별 데이터 시각화\")\n",
    "plt.xlabel(\"x\")\n",
    "plt.ylabel(\"y\")\n",
    "plt.legend()\n",
    "plt.show()"
   ]
  },
  {
   "cell_type": "markdown",
   "id": "528314bb-6c85-4d2e-9c0a-4c720bcb8fa4",
   "metadata": {},
   "source": [
    "***\n",
    "병합 계층 클러스터링 된 결과 데이터 시각화\n",
    "***"
   ]
  },
  {
   "cell_type": "code",
   "execution_count": 10,
   "id": "b6eb935c-825a-4e61-a60b-0439b7750847",
   "metadata": {
    "tags": []
   },
   "outputs": [
    {
     "data": {
      "image/png": "[encoded data removed]",
      "text/plain": [
       "<Figure size 1000x700 with 1 Axes>"
      ]
     },
     "metadata": {},
     "output_type": "display_data"
    }
   ],
   "source": [
    "# 위 셀의 시각화 코드를 반복문을 사용해서 만든다.\n",
    "plt.figure(figsize=[10, 7])\n",
    "markers = [\"o\", \"*\", \"s\", \"x\", \"^\", \"v\"]\n",
    "\n",
    "for i in set(x_train_df.cluster):\n",
    "     df_index = x_train_df[x_train_df.cluster == i] # 클러스터링 결과별로 데이터를 분할한다.\n",
    "     X = df_index.x # 클러스터링 결과에서 첫번째 성분 벡터를 추출한다.\n",
    "     Y = df_index.y # 클러스터링 결과에서 두번째 성분 벡터를 추출한다.\n",
    "     plt.scatter(x=X, y=Y, marker = markers[i], label=i ) # 산포도를 그린다.\n",
    "\n",
    "plt.title(\"병합 계층 클러스터링 시각화\")\n",
    "plt.xlabel(\"x\")\n",
    "plt.ylabel(\"y\")\n",
    "plt.legend()\n",
    "plt.show()"
   ]
  },
  {
   "cell_type": "markdown",
   "id": "54b0e9dc-8d41-45c8-8009-95b40010f46d",
   "metadata": {},
   "source": [
    "***\n",
    "학습된 모델을 평가한다.\n",
    "***"
   ]
  },
  {
   "cell_type": "code",
   "execution_count": 11,
   "id": "62d74641-30b7-4285-b4cf-b8ebd202918f",
   "metadata": {
    "tags": []
   },
   "outputs": [
    {
     "name": "stdout",
     "output_type": "stream",
     "text": [
      "0.660300244760271\n"
     ]
    }
   ],
   "source": [
    "# silhouette_score() 메소드에 피쳐 데이터와 군집화 결과로 얻은 클러스터를 넘겨 실루엣 스코어를 평가한다.\n",
    "sil_score = silhouette_score(x_train, cluster.labels_)\n",
    "print(sil_score)"
   ]
  },
  {
   "cell_type": "markdown",
   "id": "87e47e4b-da98-4e54-aed0-6394103fbe1b",
   "metadata": {},
   "source": [
    "***\n",
    "덴드로그램(Dendrogram) 시각화\n",
    "***\n",
    "계층적 클러스터링 결과를 트리 구조로 나타낸 그림을 덴드로그램이라 한다."
   ]
  },
  {
   "cell_type": "code",
   "execution_count": 12,
   "id": "37627b4c-baa4-4222-84c0-661cf5399e89",
   "metadata": {
    "tags": []
   },
   "outputs": [
    {
     "name": "stdout",
     "output_type": "stream",
     "text": [
      "(10, 2) (10,)\n",
      "[9 7 8 6 5 3 4 2 1 0]\n"
     ]
    }
   ],
   "source": [
    "x_train, y_train = datasets.make_blobs(n_samples=10, n_features=2, random_state=10) \n",
    "print(x_train.shape, y_train.shape)\n",
    "cluster = AgglomerativeClustering(n_clusters=None, distance_threshold=0, linkage=\"complete\")\n",
    "cluster.fit(x_train)\n",
    "print(cluster.labels_)"
   ]
  },
  {
   "cell_type": "code",
   "execution_count": 13,
   "id": "167bf0b4-7f3b-4fd9-8116-b0878f7c1282",
   "metadata": {
    "tags": []
   },
   "outputs": [
    {
     "data": {
      "image/png": "[encoded data removed]",
      "text/plain": [
       "<Figure size 1000x700 with 1 Axes>"
      ]
     },
     "metadata": {},
     "output_type": "display_data"
    }
   ],
   "source": [
    "# 덴드로그램 사용\n",
    "from scipy.cluster.hierarchy import dendrogram, linkage\n",
    "\n",
    "plt.figure(figsize=[10, 7])\n",
    "linked = linkage(x_train, \"complete\")\n",
    "dendrogram(linked, orientation=\"top\", labels=cluster.labels_)\n",
    "plt.show()\n"
   ]
  },
  {
   "cell_type": "code",
   "execution_count": null,
   "id": "6c86462d-6e13-4af6-9a11-4f296ed2456b",
   "metadata": {},
   "outputs": [],
   "source": []
  },
  {
   "cell_type": "code",
   "execution_count": null,
   "id": "06ea6696-4695-4c3b-bd48-ede45cb9a023",
   "metadata": {},
   "outputs": [],
   "source": []
  },
  {
   "cell_type": "code",
   "execution_count": null,
   "id": "c70a8e87-caaf-4043-9468-009cd5a6175a",
   "metadata": {},
   "outputs": [],
   "source": []
  },
  {
   "cell_type": "code",
   "execution_count": null,
   "id": "7215f3d4-0e68-492f-b4bb-b0cec287831f",
   "metadata": {},
   "outputs": [],
   "source": []
  },
  {
   "cell_type": "code",
   "execution_count": null,
   "id": "055fb831-9f1d-4df6-8ad3-abf551c869ba",
   "metadata": {},
   "outputs": [],
   "source": []
  },
  {
   "cell_type": "code",
   "execution_count": null,
   "id": "826a76d9-cdd4-4e03-be06-f0b7ec93f0ed",
   "metadata": {},
   "outputs": [],
   "source": []
  },
  {
   "cell_type": "code",
   "execution_count": null,
   "id": "8f573e1d-fd01-43c7-9681-f288d454ca12",
   "metadata": {},
   "outputs": [],
   "source": []
  },
  {
   "cell_type": "code",
   "execution_count": null,
   "id": "06f825a6-d315-48b2-926d-c9071647cb7e",
   "metadata": {},
   "outputs": [],
   "source": []
  },
  {
   "cell_type": "code",
   "execution_count": null,
   "id": "58cb4a5f-1a5a-4b87-9603-ddb667b37584",
   "metadata": {},
   "outputs": [],
   "source": []
  },
  {
   "cell_type": "code",
   "execution_count": null,
   "id": "2a6b0413-642c-418e-8f3a-d33163d30314",
   "metadata": {},
   "outputs": [],
   "source": []
  },
  {
   "cell_type": "code",
   "execution_count": null,
   "id": "a44b827b-e2fe-4d14-97c0-90f4dec53564",
   "metadata": {},
   "outputs": [],
   "source": []
  },
  {
   "cell_type": "code",
   "execution_count": null,
   "id": "1012a1f9-ab64-4226-adce-f56558ca23ac",
   "metadata": {},
   "outputs": [],
   "source": []
  },
  {
   "cell_type": "code",
   "execution_count": null,
   "id": "6b578717-ee8f-48b5-ba2b-e531f003efb3",
   "metadata": {},
   "outputs": [],
   "source": []
  },
  {
   "cell_type": "code",
   "execution_count": null,
   "id": "a8c57544-65bf-4eb8-8dc8-96e5660fe869",
   "metadata": {},
   "outputs": [],
   "source": []
  },
  {
   "cell_type": "code",
   "execution_count": null,
   "id": "8d429e32-8a61-43b7-aa84-5bdadceb810f",
   "metadata": {},
   "outputs": [],
   "source": []
  },
  {
   "cell_type": "code",
   "execution_count": null,
   "id": "542db78d-76b8-4fea-b0c4-38d0cae18d9e",
   "metadata": {},
   "outputs": [],
   "source": []
  },
  {
   "cell_type": "code",
   "execution_count": null,
   "id": "6ceae7b2-65f1-4ef6-ad27-806fc9ab0def",
   "metadata": {},
   "outputs": [],
   "source": []
  },
  {
   "cell_type": "code",
   "execution_count": null,
   "id": "01177138-1357-49be-8ee4-e145af619577",
   "metadata": {},
   "outputs": [],
   "source": []
  },
  {
   "cell_type": "code",
   "execution_count": null,
   "id": "74d4a625-ab5a-4091-873a-6ba0b2ff8f20",
   "metadata": {},
   "outputs": [],
   "source": []
  },
  {
   "cell_type": "code",
   "execution_count": null,
   "id": "02b32923-df99-4c03-95e5-4ad5aba0fcdc",
   "metadata": {},
   "outputs": [],
   "source": []
  },
  {
   "cell_type": "code",
   "execution_count": null,
   "id": "e7a3ab48-f020-4e03-a699-41b7eb7796e9",
   "metadata": {},
   "outputs": [],
   "source": []
  },
  {
   "cell_type": "code",
   "execution_count": null,
   "id": "ed26f180-e246-4c2a-9c43-e2133b211b63",
   "metadata": {},
   "outputs": [],
   "source": []
  },
  {
   "cell_type": "code",
   "execution_count": null,
   "id": "805dc0ae-b333-48e5-b9bc-5e1a5edfae32",
   "metadata": {},
   "outputs": [],
   "source": []
  },
  {
   "cell_type": "code",
   "execution_count": null,
   "id": "44189e25-f9fc-454a-8228-6e18d79dab7a",
   "metadata": {},
   "outputs": [],
   "source": []
  },
  {
   "cell_type": "code",
   "execution_count": null,
   "id": "c97f3d14-2093-4cbf-a9c3-e71a63774b24",
   "metadata": {},
   "outputs": [],
   "source": []
  },
  {
   "cell_type": "code",
   "execution_count": null,
   "id": "493d3dd1-e899-4a97-9898-04d3810f02d4",
   "metadata": {},
   "outputs": [],
   "source": []
  },
  {
   "cell_type": "code",
   "execution_count": null,
   "id": "2bcce0a8-cd87-4e8f-bb2a-e6bc51b80d5b",
   "metadata": {},
   "outputs": [],
   "source": []
  },
  {
   "cell_type": "code",
   "execution_count": null,
   "id": "2b9161c6-4c6d-4315-a042-9405ff861b49",
   "metadata": {},
   "outputs": [],
   "source": []
  },
  {
   "cell_type": "code",
   "execution_count": null,
   "id": "52f489cd-bcfe-45b3-bb69-084fcb4cc6a8",
   "metadata": {},
   "outputs": [],
   "source": []
  },
  {
   "cell_type": "code",
   "execution_count": null,
   "id": "8d0203c3-c223-4a13-8d87-b3fa79fb4654",
   "metadata": {},
   "outputs": [],
   "source": []
  },
  {
   "cell_type": "code",
   "execution_count": null,
   "id": "8b946441-d243-4d6c-94c8-75d61dcd53d0",
   "metadata": {},
   "outputs": [],
   "source": []
  },
  {
   "cell_type": "code",
   "execution_count": null,
   "id": "1b02ba92-ca41-407a-9455-017470057af6",
   "metadata": {},
   "outputs": [],
   "source": []
  },
  {
   "cell_type": "code",
   "execution_count": null,
   "id": "02502adb-157f-400b-83a0-823a0ae974b1",
   "metadata": {},
   "outputs": [],
   "source": []
  },
  {
   "cell_type": "code",
   "execution_count": null,
   "id": "bd3d5603-4307-4301-8152-5d0a4ac7ce0b",
   "metadata": {},
   "outputs": [],
   "source": []
  },
  {
   "cell_type": "code",
   "execution_count": null,
   "id": "b6a4dcfc-d3db-49d7-8a4c-659045d3bccf",
   "metadata": {},
   "outputs": [],
   "source": []
  },
  {
   "cell_type": "code",
   "execution_count": null,
   "id": "68e22303-1805-4daa-939c-26772085cce6",
   "metadata": {},
   "outputs": [],
   "source": []
  },
  {
   "cell_type": "code",
   "execution_count": null,
   "id": "e4b823af-4797-4e7a-a479-791c76253fc1",
   "metadata": {},
   "outputs": [],
   "source": []
  },
  {
   "cell_type": "code",
   "execution_count": null,
   "id": "e6d19a85-4f8d-4c9c-8592-5f2d83e5cd44",
   "metadata": {},
   "outputs": [],
   "source": []
  },
  {
   "cell_type": "code",
   "execution_count": null,
   "id": "3b79b457-0a29-49bf-bda0-9865dfcdb607",
   "metadata": {},
   "outputs": [],
   "source": []
  },
  {
   "cell_type": "code",
   "execution_count": null,
   "id": "7bcab255-2ba1-401c-a9e2-332274a7433e",
   "metadata": {},
   "outputs": [],
   "source": []
  },
  {
   "cell_type": "code",
   "execution_count": null,
   "id": "68265e36-4a78-4dd7-8525-78a3addffe69",
   "metadata": {},
   "outputs": [],
   "source": []
  }
 ],
 "metadata": {
  "kernelspec": {
   "display_name": "Python [conda env:.conda-py3.7] *",
   "language": "python",
   "name": "conda-env-.conda-py3.7-py"
  },
  "language_info": {
   "codemirror_mode": {
    "name": "ipython",
    "version": 3
   },
   "file_extension": ".py",
   "mimetype": "text/x-python",
   "name": "python",
   "nbconvert_exporter": "python",
   "pygments_lexer": "ipython3",
   "version": "3.7.1"
  }
 },
 "nbformat": 4,
 "nbformat_minor": 5
}
