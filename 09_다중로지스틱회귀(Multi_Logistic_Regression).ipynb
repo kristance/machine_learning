{
 "cells": [
  {
   "cell_type": "code",
   "execution_count": 1,
   "id": "0839a70d",
   "metadata": {},
   "outputs": [
    {
     "name": "stdout",
     "output_type": "stream",
     "text": [
      "WARNING:tensorflow:From C:\\Users\\tj\\.conda\\envs\\py3.7\\lib\\site-packages\\tensorflow\\python\\compat\\v2_compat.py:107: disable_resource_variables (from tensorflow.python.ops.variable_scope) is deprecated and will be removed in a future version.\n",
      "Instructions for updating:\n",
      "non-resource variables are not supported in the long term\n"
     ]
    }
   ],
   "source": [
    "%config Completer.use_jedi = False                                       \n",
    "import warnings                                                             \n",
    "warnings.filterwarnings(action=\"ignore\")\n",
    "import tensorflow.compat.v1 as tf\n",
    "tf.disable_v2_behavior()\n",
    "import numpy as np"
   ]
  },
  {
   "cell_type": "code",
   "execution_count": 2,
   "id": "24c7e6bf",
   "metadata": {},
   "outputs": [
    {
     "name": "stdout",
     "output_type": "stream",
     "text": [
      "[[2, 0], [4, 0], [6, 1], [8, 1], [10, 1], [12, 1], [14, 1]]\n",
      "<class 'list'>\n",
      "[[ 2  0]\n",
      " [ 4  0]\n",
      " [ 6  1]\n",
      " [ 8  1]\n",
      " [10  1]\n",
      " [12  1]\n",
      " [14  1]]\n",
      "<class 'numpy.ndarray'>\n"
     ]
    }
   ],
   "source": [
    "x = [ [2, 0], [4, 0], [6, 1], [8, 1], [10, 1], [12, 1], [14, 1] ] #[공부시간, 과외시간], 7행 2열\n",
    "print(x)\n",
    "print(type(x))\n",
    "\n",
    "xData = np.array(x)\n",
    "print(xData)\n",
    "print(type(xData))"
   ]
  },
  {
   "cell_type": "code",
   "execution_count": 3,
   "id": "479762f2",
   "metadata": {},
   "outputs": [
    {
     "name": "stdout",
     "output_type": "stream",
     "text": [
      "[0, 0, 0, 1, 1, 1, 1]\n",
      "<class 'list'>\n",
      "[0 0 0 1 1 1 1]\n",
      "<class 'numpy.ndarray'>\n",
      "[[0]\n",
      " [0]\n",
      " [0]\n",
      " [1]\n",
      " [1]\n",
      " [1]\n",
      " [1]]\n",
      "<class 'numpy.ndarray'>\n"
     ]
    }
   ],
   "source": [
    "y = [0, 0, 0, 1, 1, 1, 1] #합격여부, 실제값, 1행 7열\n",
    "print(y)\n",
    "print(type(y))\n",
    "\n",
    "yData = np.array(y)\n",
    "print(yData)\n",
    "print(type(yData))\n",
    "\n",
    "#reshape() : numpy에서 데이터는 그대로 유지한 채 배열의 형태(차원;shape)를 변경한다.\n",
    "#1행 7열 numpy 배열 -> 7행 1열 numpy 배열\n",
    "yData = np.array(y).reshape(7, 1)\n",
    "print(yData)\n",
    "print(type(yData))"
   ]
  },
  {
   "cell_type": "markdown",
   "id": "acb5d3df",
   "metadata": {},
   "source": [
    "***\n",
    "xData와 yData를 저장할 placeholder를 만든다. \n",
    "***"
   ]
  },
  {
   "cell_type": "code",
   "execution_count": 4,
   "id": "664bc024",
   "metadata": {},
   "outputs": [],
   "source": [
    "#placeholder에 numpy 배열을 대입하는 경우 shape 속성을 이용해서 대입될 numpy 배열의 차원(shape)을 지정해야한다.\n",
    "#[None, 2] -> placeholder에 대입될 numpy 배열의 행의 갯수는 몇개라도 상관없고, 열의 갯수는 무조건 2개라는 의미이다.\n",
    "# row는 속성에 맞는 데이터수(자료수)가 변할 수 있기때문에 None, column은 속성의 갯수는 삽입되는 데이터의 속성 열의 갯수와 같이 2를 지정\n",
    "X = tf.placeholder(dtype=tf.float32, shape=[None, 2]) # xData가 대입될 placeholder\n",
    "Y = tf.placeholder(dtype=tf.float32, shape=[None, 1]) # yData가 대입될 placeholder"
   ]
  },
  {
   "cell_type": "markdown",
   "id": "dcaab3de",
   "metadata": {},
   "source": [
    "***\n",
    "가중치(기울기)와 y절편(b)을 임의의 값으로 정한다.\n",
    "***"
   ]
  },
  {
   "cell_type": "code",
   "execution_count": 5,
   "id": "ea8b7f8f",
   "metadata": {},
   "outputs": [
    {
     "name": "stdout",
     "output_type": "stream",
     "text": [
      "a\n",
      "[[0.86680484]\n",
      " [0.04889953]]\n",
      "b\n",
      "[0.7419169]\n",
      "****************************************************************************************************\n",
      " a1 -> 0.866805,\n",
      " a2-> 0.048900,\n",
      " b: -> 0.741917\n",
      "****************************************************************************************************\n",
      " a1 -> 0.866805,\n",
      " a2-> 0.048900,\n",
      " b: -> 0.741917\n"
     ]
    }
   ],
   "source": [
    "a = tf.Variable(tf.random_uniform([2, 1], dtype=tf.float32)) # 행렬의 내적(행렬곱)을 이용하기 위해 난수를 2행 1열로 발생시킨다.\n",
    "b = tf.Variable(tf.random_uniform([1], dtype=tf.float32)) \n",
    "sess = tf.Session()\n",
    "sess.run(tf.global_variables_initializer())\n",
    "print('a\\n', sess.run(a), sep='')\n",
    "print('b\\n', sess.run(b), sep='')\n",
    "print('*' * 100)\n",
    "print(' a1 -> %f,\\n a2-> %f,\\n b: -> %f' % (sess.run(a)[0], sess.run(a)[1], sess.run(b)))\n",
    "print('*' * 100)\n",
    "print(' a1 -> {:f},\\n a2-> {:f},\\n b: -> {:f}'.format (sess.run(a)[0][0], sess.run(a)[1][0], sess.run(b)[0]))"
   ]
  },
  {
   "cell_type": "markdown",
   "id": "53930bdd",
   "metadata": {},
   "source": [
    "***\n",
    "시그모이드 방정식, 오차함수, 경사 하강법\n",
    "***"
   ]
  },
  {
   "cell_type": "code",
   "execution_count": 6,
   "id": "ec656955",
   "metadata": {},
   "outputs": [],
   "source": [
    "#Y = 1 / (1 + np.e ** -((a1 * x1) + (a2 * x2) + b))\n",
    "#sigmoid() 메소드로 tensorflow에서 시그모이드 방정식을 계산한다.\n",
    "#matmul() 메소드로 tensorflow에서 행렬의 내적을 계산한다.\n",
    "y = tf.sigmoid( tf.matmul(X, a) + b ) # 시그모이드 방정식, 예측치\n",
    "\n",
    "#loss =  - tf.reduce_mean( 실측치 * tf.log(예측치)) + ( ( 1 - 실측치 ) * tf.log(1 - 예측치) ))\n",
    "loss =  - tf.reduce_mean(   (   Y   * tf.log(y)) +\n",
    "                         (( 1 - Y ) * tf.log(1 - y))\n",
    "                        ) # 오차함수\n",
    "\n",
    "gradient_descent = tf.train.GradientDescentOptimizer(0.01).minimize(loss) #경사 하강법"
   ]
  },
  {
   "cell_type": "markdown",
   "id": "9829dcba",
   "metadata": {},
   "source": [
    "***\n",
    "sigmoid() 메소드를 실행한 결과로 에측값(0 또는 1; 예측치)을 계산한다.\n",
    "***"
   ]
  },
  {
   "cell_type": "code",
   "execution_count": 7,
   "id": "754783d4",
   "metadata": {},
   "outputs": [
    {
     "name": "stdout",
     "output_type": "stream",
     "text": [
      "[1 4]\n",
      "[1. 0.]\n",
      "[1. 0.]\n"
     ]
    }
   ],
   "source": [
    "#sigmoid() 메소드의 실행 결과가 0.5이상이면 1을 0.5미만이면 0을 리턴시킨다.\n",
    "sess = tf.Session()\n",
    "\n",
    "#cast(data, dtype) 메소드는 tensorflow에서 데이터 형변환을 한다.\n",
    "expect = tf.cast(tf.constant([1.9, 4.3]), dtype=tf.int32)\n",
    "print(sess.run(expect))\n",
    "\n",
    "#cast() 메소드는 캐스팅할 데이터가 boolean 타입일 경우 True는 1로, False는 0으로 형변환 한다.\n",
    "expect = tf.cast(tf.constant([True, False]), dtype=tf.float32)\n",
    "print(sess.run(expect))\n",
    "expect = tf.cast([0.5 >= 0.5, 0.5 < 0.5], dtype=tf.float32)\n",
    "print(sess.run(expect))"
   ]
  },
  {
   "cell_type": "code",
   "execution_count": 8,
   "id": "fdf4076f",
   "metadata": {},
   "outputs": [],
   "source": [
    "# 시그모이드 함수의 실행 결과(예측치; y)로 최종 예측치를 계산한다.\n",
    "expect = tf.cast( (y >= 0.5), dtype=tf.float32) #최종 예측치"
   ]
  },
  {
   "cell_type": "markdown",
   "id": "d05a0df4",
   "metadata": {},
   "source": [
    "***\n",
    "최종 예측값(expect;예측치)와 실제값(실측치;Y)이 일치하는 정도(정확도,accuracy)를 계산한다.\n",
    "***"
   ]
  },
  {
   "cell_type": "code",
   "execution_count": 9,
   "id": "a1c37c78",
   "metadata": {},
   "outputs": [
    {
     "name": "stdout",
     "output_type": "stream",
     "text": [
      "True False\n"
     ]
    }
   ],
   "source": [
    "sess = tf.Session()\n",
    "# equal() 메소드로 tensorflow에서 두 인수로 지정한 두 값이 같으면 True, 다르면 False를 리턴한다.\n",
    "print(sess.run(tf.equal(1, 1)), sess.run(tf.equal(1, 11)))\n",
    "# 정확도는 equal() 메소드로 예측치와 실측치가 같은가 비교후 True 또는 False를 \n",
    "# cast() 메소드로 1 또는 0으로 캐스팅하고, 평균을 계산한다.\n",
    "accuracy = tf.reduce_mean(tf.cast(tf.equal(expect, Y), dtype=tf.float32))"
   ]
  },
  {
   "cell_type": "markdown",
   "id": "1de87041",
   "metadata": {},
   "source": [
    "***\n",
    "학습 시킨다.\n",
    "***"
   ]
  },
  {
   "cell_type": "code",
   "execution_count": 29,
   "id": "83f7df40",
   "metadata": {},
   "outputs": [
    {
     "name": "stdout",
     "output_type": "stream",
     "text": [
      "epoch ->     0, loss ->  1.3803, a1 ->  0.7420, a2 ->  0.2168, b ->  0.0279, accuracy ->  0.5714\n",
      "epoch ->   300, loss ->  0.4742, a1 ->  0.1739, a2 ->  0.1769, b -> -0.4999, accuracy ->  0.7143\n",
      "epoch ->   600, loss ->  0.4216, a1 ->  0.2180, a2 ->  0.1877, b -> -0.8941, accuracy ->  0.8571\n",
      "epoch ->   900, loss ->  0.3804, a1 ->  0.2584, a2 ->  0.1928, b -> -1.2431, accuracy ->  0.8571\n",
      "epoch ->  1200, loss ->  0.3475, a1 ->  0.2954, a2 ->  0.1933, b -> -1.5545, accuracy ->  0.8571\n",
      "epoch ->  1500, loss ->  0.3209, a1 ->  0.3297, a2 ->  0.1898, b -> -1.8348, accuracy ->  0.8571\n",
      "epoch ->  1800, loss ->  0.2990, a1 ->  0.3615, a2 ->  0.1831, b -> -2.0891, accuracy ->  0.8571\n",
      "epoch ->  2100, loss ->  0.2806, a1 ->  0.3912, a2 ->  0.1740, b -> -2.3216, accuracy ->  0.8571\n",
      "epoch ->  2400, loss ->  0.2650, a1 ->  0.4192, a2 ->  0.1627, b -> -2.5358, accuracy ->  0.8571\n",
      "epoch ->  2700, loss ->  0.2516, a1 ->  0.4456, a2 ->  0.1499, b -> -2.7344, accuracy ->  0.8571\n",
      "epoch ->  3000, loss ->  0.2398, a1 ->  0.4707, a2 ->  0.1358, b -> -2.9195, accuracy ->  0.8571\n",
      "epoch ->  3300, loss ->  0.2295, a1 ->  0.4945, a2 ->  0.1206, b -> -3.0929, accuracy ->  1.0000\n",
      "epoch ->  3600, loss ->  0.2204, a1 ->  0.5173, a2 ->  0.1046, b -> -3.2561, accuracy ->  1.0000\n",
      "epoch ->  3900, loss ->  0.2122, a1 ->  0.5391, a2 ->  0.0879, b -> -3.4103, accuracy ->  1.0000\n",
      "epoch ->  4200, loss ->  0.2048, a1 ->  0.5601, a2 ->  0.0707, b -> -3.5566, accuracy ->  1.0000\n",
      "epoch ->  4500, loss ->  0.1982, a1 ->  0.5803, a2 ->  0.0531, b -> -3.6957, accuracy ->  1.0000\n",
      "epoch ->  4800, loss ->  0.1920, a1 ->  0.5998, a2 ->  0.0351, b -> -3.8284, accuracy ->  1.0000\n",
      "epoch ->  5100, loss ->  0.1864, a1 ->  0.6187, a2 ->  0.0169, b -> -3.9554, accuracy ->  1.0000\n",
      "epoch ->  5400, loss ->  0.1813, a1 ->  0.6369, a2 -> -0.0015, b -> -4.0771, accuracy ->  1.0000\n",
      "epoch ->  5700, loss ->  0.1765, a1 ->  0.6546, a2 -> -0.0200, b -> -4.1941, accuracy ->  1.0000\n",
      "epoch ->  6000, loss ->  0.1720, a1 ->  0.6718, a2 -> -0.0386, b -> -4.3067, accuracy ->  1.0000\n",
      "epoch ->  6300, loss ->  0.1679, a1 ->  0.6886, a2 -> -0.0573, b -> -4.4153, accuracy ->  1.0000\n",
      "epoch ->  6600, loss ->  0.1640, a1 ->  0.7049, a2 -> -0.0760, b -> -4.5203, accuracy ->  1.0000\n",
      "epoch ->  6900, loss ->  0.1604, a1 ->  0.7208, a2 -> -0.0948, b -> -4.6218, accuracy ->  1.0000\n",
      "epoch ->  7200, loss ->  0.1570, a1 ->  0.7363, a2 -> -0.1135, b -> -4.7201, accuracy ->  1.0000\n",
      "epoch ->  7500, loss ->  0.1537, a1 ->  0.7515, a2 -> -0.1322, b -> -4.8156, accuracy ->  1.0000\n",
      "epoch ->  7800, loss ->  0.1507, a1 ->  0.7663, a2 -> -0.1508, b -> -4.9083, accuracy ->  1.0000\n",
      "epoch ->  8100, loss ->  0.1478, a1 ->  0.7808, a2 -> -0.1694, b -> -4.9984, accuracy ->  1.0000\n",
      "epoch ->  8400, loss ->  0.1450, a1 ->  0.7950, a2 -> -0.1879, b -> -5.0861, accuracy ->  1.0000\n",
      "epoch ->  8700, loss ->  0.1424, a1 ->  0.8089, a2 -> -0.2064, b -> -5.1716, accuracy ->  1.0000\n",
      "epoch ->  9000, loss ->  0.1399, a1 ->  0.8226, a2 -> -0.2248, b -> -5.2549, accuracy ->  1.0000\n",
      "epoch ->  9300, loss ->  0.1376, a1 ->  0.8360, a2 -> -0.2431, b -> -5.3363, accuracy ->  1.0000\n",
      "epoch ->  9600, loss ->  0.1353, a1 ->  0.8491, a2 -> -0.2612, b -> -5.4157, accuracy ->  1.0000\n",
      "epoch ->  9900, loss ->  0.1331, a1 ->  0.8621, a2 -> -0.2793, b -> -5.4934, accuracy ->  1.0000\n",
      "실측치\n",
      "[[0]\n",
      " [0]\n",
      " [0]\n",
      " [1]\n",
      " [1]\n",
      " [1]\n",
      " [1]]\n",
      "최종 예상치\n",
      "[[0.]\n",
      " [0.]\n",
      " [0.]\n",
      " [1.]\n",
      " [1.]\n",
      " [1.]\n",
      " [1.]]\n",
      "정확도 -> 100.00%\n"
     ]
    }
   ],
   "source": [
    "sess = tf.Session()\n",
    "sess.run(tf.global_variables_initializer())\n",
    "\n",
    "for epoch in range(10001):\n",
    "    # run() 메소드로 여러개를 한 번에 실행하려면 run() 메소드로 실행할 목록을 리스트로 묶어서 전달한다.\n",
    "    #run([실행할 내용, ...], feed_dict={플레이스홀더이름 : 플레이스홀더에저장할데이터, .....})\n",
    "    _, loss_, a_, b_, expect_, accuracy_ = sess.run([gradient_descent, loss, a, b, expect, accuracy],\n",
    "                                                                    feed_dict={X : xData, Y : yData})\n",
    "    if epoch % 300 == 0:\n",
    "        #print(epoch, loss_, a_[0], a_[1], b_, accuracy_)\n",
    "        print('epoch -> {:5d}, loss -> {:7.4f}, a1 -> {:7.4f}, a2 -> {:7.4f}, b -> {:7.4f}, accuracy -> {:7.4f}'\n",
    "               .format( epoch, loss_, a_[0][0], a_[1][0], b_[0], accuracy_ ))\n",
    "# ---- 학습 종료\n",
    "\n",
    "print('실측치\\n', yData, sep='')\n",
    "print('최종 예상치\\n', expect_, sep='')\n",
    "print('정확도 -> {:6.2%}'.format( accuracy_ ), sep='')"
   ]
  },
  {
   "cell_type": "code",
   "execution_count": 31,
   "id": "7a820ee7",
   "metadata": {},
   "outputs": [
    {
     "name": "stdout",
     "output_type": "stream",
     "text": [
      "불합격\n"
     ]
    }
   ],
   "source": [
    "# d = np.array([[5, 8]])\n",
    "d = np.array([5, 9]).reshape(1, 2)\n",
    "print('합격 'if sess.run(expect, feed_dict={X : d})[0][0] == 1.0 else '불합격')"
   ]
  },
  {
   "cell_type": "code",
   "execution_count": null,
   "id": "741c6cbe",
   "metadata": {},
   "outputs": [],
   "source": []
  },
  {
   "cell_type": "code",
   "execution_count": null,
   "id": "3d2637d1",
   "metadata": {},
   "outputs": [],
   "source": []
  },
  {
   "cell_type": "code",
   "execution_count": null,
   "id": "615b3d2e",
   "metadata": {},
   "outputs": [],
   "source": []
  },
  {
   "cell_type": "code",
   "execution_count": null,
   "id": "7003fc40",
   "metadata": {},
   "outputs": [],
   "source": []
  },
  {
   "cell_type": "code",
   "execution_count": null,
   "id": "67936ddd",
   "metadata": {},
   "outputs": [],
   "source": []
  },
  {
   "cell_type": "code",
   "execution_count": null,
   "id": "e2904794",
   "metadata": {},
   "outputs": [],
   "source": []
  },
  {
   "cell_type": "code",
   "execution_count": null,
   "id": "d4b91e59",
   "metadata": {},
   "outputs": [],
   "source": []
  },
  {
   "cell_type": "code",
   "execution_count": null,
   "id": "8605e6d2",
   "metadata": {},
   "outputs": [],
   "source": []
  },
  {
   "cell_type": "code",
   "execution_count": null,
   "id": "ab78287b",
   "metadata": {},
   "outputs": [],
   "source": []
  },
  {
   "cell_type": "code",
   "execution_count": null,
   "id": "356a1a57",
   "metadata": {},
   "outputs": [],
   "source": []
  },
  {
   "cell_type": "code",
   "execution_count": null,
   "id": "458fbed8",
   "metadata": {},
   "outputs": [],
   "source": []
  },
  {
   "cell_type": "code",
   "execution_count": null,
   "id": "4d5a815d",
   "metadata": {},
   "outputs": [],
   "source": []
  },
  {
   "cell_type": "code",
   "execution_count": null,
   "id": "90ba4040",
   "metadata": {},
   "outputs": [],
   "source": []
  },
  {
   "cell_type": "code",
   "execution_count": null,
   "id": "49532c6d",
   "metadata": {},
   "outputs": [],
   "source": []
  },
  {
   "cell_type": "code",
   "execution_count": null,
   "id": "1ea785e0",
   "metadata": {},
   "outputs": [],
   "source": []
  },
  {
   "cell_type": "code",
   "execution_count": null,
   "id": "c8cfb8fe",
   "metadata": {},
   "outputs": [],
   "source": []
  },
  {
   "cell_type": "code",
   "execution_count": null,
   "id": "eefea920",
   "metadata": {},
   "outputs": [],
   "source": []
  },
  {
   "cell_type": "code",
   "execution_count": null,
   "id": "66899bc5",
   "metadata": {},
   "outputs": [],
   "source": []
  },
  {
   "cell_type": "code",
   "execution_count": null,
   "id": "faa0d210",
   "metadata": {},
   "outputs": [],
   "source": []
  },
  {
   "cell_type": "code",
   "execution_count": null,
   "id": "53302b2d",
   "metadata": {},
   "outputs": [],
   "source": []
  },
  {
   "cell_type": "code",
   "execution_count": null,
   "id": "7599753f",
   "metadata": {},
   "outputs": [],
   "source": []
  },
  {
   "cell_type": "code",
   "execution_count": null,
   "id": "6a22bb83",
   "metadata": {},
   "outputs": [],
   "source": []
  },
  {
   "cell_type": "code",
   "execution_count": null,
   "id": "d31b41b1",
   "metadata": {},
   "outputs": [],
   "source": []
  },
  {
   "cell_type": "code",
   "execution_count": null,
   "id": "4a13eb55",
   "metadata": {},
   "outputs": [],
   "source": []
  },
  {
   "cell_type": "code",
   "execution_count": null,
   "id": "18eda1b5",
   "metadata": {},
   "outputs": [],
   "source": []
  },
  {
   "cell_type": "code",
   "execution_count": null,
   "id": "196fdaff",
   "metadata": {},
   "outputs": [],
   "source": []
  },
  {
   "cell_type": "code",
   "execution_count": null,
   "id": "e2e1f60f",
   "metadata": {},
   "outputs": [],
   "source": []
  }
 ],
 "metadata": {
  "kernelspec": {
   "display_name": "Python [conda env:.conda-py3.7] *",
   "language": "python",
   "name": "conda-env-.conda-py3.7-py"
  },
  "language_info": {
   "codemirror_mode": {
    "name": "ipython",
    "version": 3
   },
   "file_extension": ".py",
   "mimetype": "text/x-python",
   "name": "python",
   "nbconvert_exporter": "python",
   "pygments_lexer": "ipython3",
   "version": "3.7.1"
  }
 },
 "nbformat": 4,
 "nbformat_minor": 5
}
