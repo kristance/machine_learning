{
 "cells": [
  {
   "cell_type": "code",
   "execution_count": 1,
   "id": "c8c5a777-a26c-4a13-8e92-d208ce436c5a",
   "metadata": {
    "tags": []
   },
   "outputs": [
    {
     "name": "stdout",
     "output_type": "stream",
     "text": [
      "WARNING:tensorflow:From C:\\Users\\tj\\.conda\\envs\\py3.7\\lib\\site-packages\\tensorflow\\python\\compat\\v2_compat.py:107: disable_resource_variables (from tensorflow.python.ops.variable_scope) is deprecated and will be removed in a future version.\n",
      "Instructions for updating:\n",
      "non-resource variables are not supported in the long term\n"
     ]
    }
   ],
   "source": [
    "import warnings\n",
    "warnings.filterwarnings(action='ignore')\n",
    "%config Completer.use_jedi = False\n",
    "import tensorflow.compat.v1 as tf\n",
    "tf.disable_v2_behavior()\n",
    "import numpy as np\n",
    "import pandas as pd"
   ]
  },
  {
   "cell_type": "code",
   "execution_count": 2,
   "id": "666916eb-772c-4e6d-9c49-206e83fa9fc9",
   "metadata": {
    "tags": []
   },
   "outputs": [],
   "source": [
    "# flask web server를 사용할 수 있게 해주는 모듈을 import 한다.\n",
    "# conda install flask\n",
    "from flask import Flask, render_template, request"
   ]
  },
  {
   "cell_type": "code",
   "execution_count": null,
   "id": "8a5cef89-950e-4c5b-8b61-61740958bd9b",
   "metadata": {
    "tags": []
   },
   "outputs": [],
   "source": [
    "X = tf.placeholder(dtype=tf.float32, shape=(None, 4))\n",
    "a = tf.Variable(tf.random_uniform((4, 1), dtype=tf.float32))\n",
    "b = tf.Variable(tf.random_uniform([1], dtype=tf.float32))\n",
    "y = tf.matmul(X, a) + b"
   ]
  },
  {
   "cell_type": "code",
   "execution_count": null,
   "id": "f4f9a8de-97c5-45ee-a71a-ccb4dc833c85",
   "metadata": {},
   "outputs": [],
   "source": [
    "sess = tf.Session()\n",
    "sess.run(tf.global_variables_initializer())\n",
    "\n",
    "# 디스크에 저장된 학습 모델을 불러와 적용시킨다.\n",
    "saver = tf.train.Saver()\n",
    "saver.restore(sess, './model/baechu.ckpt' )\n",
    "\n",
    "# 키보드로 입력받은 데이터를 불러온 학습 모델에서 사용하기 위해 2차원 리스트 형태로 만든다.\n",
    "data = [[avgTemp, minTemp, maxTemp, rainFall]]\n",
    "\n",
    "# 불러온 학습 모델에 키보드로 입력한 데이터를 적용시켜 배추 가격을 예측한다.\n",
    "# 테스트\n",
    "result = sess.run(y, feed_dict={X : data})\n",
    "print('평균기온 -> {:4.1f}, 최저기온 -> {:4.1f}, 최고기온 -> {:4.1f}, 강수량 -> {:4.1f} ========> 배추 가격 -> {:7,.2f}원'\\\n",
    "      .format(avgTemp, minTemp, maxTemp, rainFall, result[0][0]))"
   ]
  },
  {
   "cell_type": "code",
   "execution_count": 3,
   "id": "b0434b4a-0f4c-4254-9fd5-f3259f5276e8",
   "metadata": {},
   "outputs": [],
   "source": [
    "# flask 객체를 선언한다.\n",
    "app = Flask(__name__)"
   ]
  },
  {
   "cell_type": "code",
   "execution_count": 4,
   "id": "9436358d-80c6-49ec-b6d6-d8c58d978174",
   "metadata": {},
   "outputs": [],
   "source": [
    "# Flask의 기본 포트인 5000번 포트의 기본 경로(\"/\")에 사용자가 GET, POST 방식으로 요청을 받는다.\n",
    "#\n",
    "@app.route(\"/\", methods = ('GET', 'POST'))\n",
    "def index():\n",
    "     #GET 방식으로 요청되면 index.html 파일을 화면에 표시만 한다. -> 처음 접속할 때\n",
    "     if request.method == 'GET':\n",
    "          # render_template() 함수를 이용해서 특정 페이지(\"index.htm\")를 브라우저에 표시할 수 있도록 한다.\n",
    "          return render_template(\"index.html\")\n",
    "     # POST 방식으로 요청되면 사용자가 입력한 데이터를 받아서 처리한다. -> submit 버튼을 클릭했을 때\n",
    "     else :\n",
    "          #form에 입력한 데이터를 받는다.\n",
    "          avgTemp = float(request.form['avgtemp']))\n",
    "minTemp = float(input('최저온도???'))\n",
    "maxTemp = float(input('최고온도???'))\n",
    "rainFall = float(input('강수량???'))"
   ]
  },
  {
   "cell_type": "code",
   "execution_count": 5,
   "id": "6689ac41-68f3-4d71-a4cb-21a715d15654",
   "metadata": {},
   "outputs": [
    {
     "name": "stdout",
     "output_type": "stream",
     "text": [
      " * Serving Flask app '__main__' (lazy loading)\n",
      " * Environment: production\n",
      "\u001b[31m   WARNING: This is a development server. Do not use it in a production deployment.\u001b[0m\n",
      "\u001b[2m   Use a production WSGI server instead.\u001b[0m\n",
      " * Debug mode: on\n"
     ]
    },
    {
     "name": "stderr",
     "output_type": "stream",
     "text": [
      "WARNING: This is a development server. Do not use it in a production deployment. Use a production WSGI server instead.\n",
      " * Running on http://127.0.0.1:5000\n",
      "Press CTRL+C to quit\n",
      " * Restarting with watchdog (windowsapi)\n"
     ]
    },
    {
     "ename": "SystemExit",
     "evalue": "1",
     "output_type": "error",
     "traceback": [
      "An exception has occurred, use %tb to see the full traceback.\n",
      "\u001b[1;31mSystemExit\u001b[0m\u001b[1;31m:\u001b[0m 1\n"
     ]
    }
   ],
   "source": [
    "if __name__ =='__main__':\n",
    "     #Flask web server를 실행한다.\n",
    "     app.run(debug=True)"
   ]
  },
  {
   "cell_type": "code",
   "execution_count": null,
   "id": "aff83df7-8c25-416d-9b00-5234a88cef6a",
   "metadata": {},
   "outputs": [],
   "source": []
  },
  {
   "cell_type": "code",
   "execution_count": null,
   "id": "084d4aac-7820-4818-9786-a384c92552c5",
   "metadata": {},
   "outputs": [],
   "source": []
  },
  {
   "cell_type": "code",
   "execution_count": null,
   "id": "d78f4ae6-c7b3-4370-a528-76783458a53b",
   "metadata": {},
   "outputs": [],
   "source": []
  },
  {
   "cell_type": "code",
   "execution_count": null,
   "id": "69c2b7f3-096e-433b-985d-ff9a045f3d18",
   "metadata": {},
   "outputs": [],
   "source": []
  },
  {
   "cell_type": "code",
   "execution_count": null,
   "id": "41880592-1002-4c29-8718-c99acfd676dc",
   "metadata": {},
   "outputs": [],
   "source": []
  },
  {
   "cell_type": "code",
   "execution_count": null,
   "id": "3ffa3a43-38dc-4860-8b1c-df1bc4b164f9",
   "metadata": {},
   "outputs": [],
   "source": []
  },
  {
   "cell_type": "code",
   "execution_count": null,
   "id": "9e4beb2e-d564-4d69-9276-37b935499beb",
   "metadata": {},
   "outputs": [],
   "source": []
  },
  {
   "cell_type": "code",
   "execution_count": null,
   "id": "613a11e9-89b8-41d7-8e5f-2e8bf7ff6947",
   "metadata": {},
   "outputs": [],
   "source": []
  },
  {
   "cell_type": "code",
   "execution_count": null,
   "id": "cf46597a-82db-46b6-a85d-1a3da21b9482",
   "metadata": {},
   "outputs": [],
   "source": []
  },
  {
   "cell_type": "code",
   "execution_count": null,
   "id": "4b6ffc29-10ec-4632-9d3f-3db13accba99",
   "metadata": {},
   "outputs": [],
   "source": []
  },
  {
   "cell_type": "code",
   "execution_count": null,
   "id": "8ab68a9a-3707-4b5a-a977-1ca12a016022",
   "metadata": {},
   "outputs": [],
   "source": []
  },
  {
   "cell_type": "code",
   "execution_count": null,
   "id": "d547f411-eafe-4ded-a344-6e6af2b500ae",
   "metadata": {},
   "outputs": [],
   "source": []
  },
  {
   "cell_type": "code",
   "execution_count": null,
   "id": "a612abd7-e8f5-4c09-9519-2af932298b61",
   "metadata": {},
   "outputs": [],
   "source": []
  }
 ],
 "metadata": {
  "kernelspec": {
   "display_name": "Python [conda env:.conda-py3.7] *",
   "language": "python",
   "name": "conda-env-.conda-py3.7-py"
  },
  "language_info": {
   "codemirror_mode": {
    "name": "ipython",
    "version": 3
   },
   "file_extension": ".py",
   "mimetype": "text/x-python",
   "name": "python",
   "nbconvert_exporter": "python",
   "pygments_lexer": "ipython3",
   "version": "3.7.1"
  }
 },
 "nbformat": 4,
 "nbformat_minor": 5
}
