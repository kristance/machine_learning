{
 "cells": [
  {
   "cell_type": "code",
   "execution_count": 1,
   "id": "643628d6",
   "metadata": {},
   "outputs": [],
   "source": [
    " %config Completer.use_jedi = False                                       \n",
    "import warnings                                                             \n",
    "warnings.filterwarnings(action=\"ignore\")\n",
    "import numpy as np                                                          \n",
    "import pandas as pd "
   ]
  },
  {
   "cell_type": "markdown",
   "id": "6a400f1e",
   "metadata": {},
   "source": [
    "***\n",
    "평균 제곱근 오차(RMSE, Root Mean Squared Error)\n",
    "***\n",
    "임의의 선을 그리고 난 후 이 선이 얼마나 잘 그려졌는지 평가해서 조금씩 수정해나가기 위해 주어진 선의 오차를 평가하는 알고리즘이 필요한데,  \n",
    "그 중 가장 많이 사용되는 알고리즘이 \"평균 제곱근 오차\"이다."
   ]
  },
  {
   "cell_type": "code",
   "execution_count": 2,
   "id": "066b5c56",
   "metadata": {},
   "outputs": [
    {
     "name": "stdout",
     "output_type": "stream",
     "text": [
      "공부시간 : 2시간, 공부시간에 따른 시험점수 : 81점\n",
      "공부시간 : 4시간, 공부시간에 따른 시험점수 : 93점\n",
      "공부시간 : 6시간, 공부시간에 따른 시험점수 : 91점\n",
      "공부시간 : 8시간, 공부시간에 따른 시험점수 : 97점\n"
     ]
    }
   ],
   "source": [
    "# 앞의 예제 파일 '04_기울기_y절편'에서 xData, yData 데이터 값이 1건씩 저장된 리스트\n",
    "#[xData(공부시간), yData(공부시간에 따른 시험점수)]\n",
    "data = [ [2, 81], [4, 93], [6, 91], [8, 97] ]\n",
    "# 기울기 a와 y절편 b를 임의로 정한다. -> [기울기, y절편] -> [2.3, 79]가 최적 기울기와 y절편\n",
    "ab = [2.3, 79]\n",
    "\n",
    "for i in data:\n",
    "    print('공부시간 : {}시간, 공부시간에 따른 시험점수 : {}점'.format( i[0], i[1] ))\n"
   ]
  },
  {
   "cell_type": "code",
   "execution_count": 3,
   "id": "79669c08",
   "metadata": {},
   "outputs": [
    {
     "name": "stdout",
     "output_type": "stream",
     "text": [
      "공부시간 : 2시간, 공부시간에 따른 시험점수 : 81점\n",
      "공부시간 : 4시간, 공부시간에 따른 시험점수 : 93점\n",
      "공부시간 : 6시간, 공부시간에 따른 시험점수 : 91점\n",
      "공부시간 : 8시간, 공부시간에 따른 시험점수 : 97점\n"
     ]
    }
   ],
   "source": [
    "#공부시간과 공부시간에 따른 시험점수 데이터 값이 1건씩 저장된 리스트에서 공부시간과 공부시간에 따른 시험점수를 뽑아내\n",
    "#별도의 리스트에 저장한다.\n",
    "xData = [i[0] for i in data]\n",
    "yData = [i[1] for i in data]\n",
    "\n",
    "for i in range(len(xData)):\n",
    "    print('공부시간 : {}시간, 공부시간에 따른 시험점수 : {}점'.format( xData[i], yData[i] ))"
   ]
  },
  {
   "cell_type": "code",
   "execution_count": 4,
   "id": "e0a1f6a4",
   "metadata": {},
   "outputs": [],
   "source": [
    "# Y = ax + b 수식에 기울기, y절편 값을 대입해서 결과 (예측성적)를 계산하는 함수\n",
    "def predict(x):\n",
    "    return (ab[0] * x + ab[1])"
   ]
  },
  {
   "cell_type": "code",
   "execution_count": 5,
   "id": "9f299d15",
   "metadata": {},
   "outputs": [
    {
     "name": "stdout",
     "output_type": "stream",
     "text": [
      "공부시간 : 2시간, 공부시간에 따른 시험점수 : 81점, 예측성적 : 83.6점\n",
      "공부시간 : 4시간, 공부시간에 따른 시험점수 : 93점, 예측성적 : 88.2점\n",
      "공부시간 : 6시간, 공부시간에 따른 시험점수 : 91점, 예측성적 : 92.8점\n",
      "공부시간 : 8시간, 공부시간에 따른 시험점수 : 97점, 예측성적 : 97.4점\n"
     ]
    }
   ],
   "source": [
    "#임의로 정한 기울기와 y절편으로 예측성적을 계산한다.\n",
    "predict_result = [] # 예측성적을 저장할 빈 리스트\n",
    "#모든 공부시간 (xData)값을 1번씩 대입해서 예측 성적 리스트(predict_result)에 추가한다.\n",
    "for i in range(len(xData)):\n",
    "    predict_result.append( predict(xData[i]) )\n",
    "    print('공부시간 : {}시간, 공부시간에 따른 시험점수 : {}점, 예측성적 : {}점'.format( xData[i], yData[i], predict_result[i] ))\n",
    "# ------ for i"
   ]
  },
  {
   "cell_type": "code",
   "execution_count": 6,
   "id": "2839604a",
   "metadata": {},
   "outputs": [],
   "source": [
    "#평균 제곱근 오차를 계산하는 함수 -> rmse(예측성적, 실제성적) -> 인수로 넘겨받는 데이터는 numpy 배열 타입의 데이터이어야 한다.\n",
    "def rmse(predict_result, yData):\n",
    "    # 파이썬의 리스트는 브로드캐스팅 연산이 불가능하므로 numpy의 배열로 바꿔서 연산한다.\n",
    "    predict_result = np.array(predict_result)\n",
    "    yData = np.array(yData)\n",
    "    return np.sqrt(((predict_result - yData) ** 2).mean())"
   ]
  },
  {
   "cell_type": "code",
   "execution_count": 8,
   "id": "f5e629a9",
   "metadata": {},
   "outputs": [
    {
     "name": "stdout",
     "output_type": "stream",
     "text": [
      "RMSE -> 2.880972058177584\n"
     ]
    }
   ],
   "source": [
    "#평균 제곱근 오차를 계산해서 출력한다.\n",
    "rmse_result = rmse(predict_result, yData)\n",
    "print('RMSE -> {}'.format( rmse_result ))"
   ]
  },
  {
   "cell_type": "markdown",
   "id": "590e84e6",
   "metadata": {},
   "source": [
    "***\n",
    "기울기 -> 3, y절편 -> 76일 경우 RMSE는 3.3166247903554가 계산되는 것을 확인할 수 있다.  \n",
    "기울기 -> 2.1, y절편 -> 82일 경우 RMSE는 3.535533905932736 계산되는 것을 확인할 수 있다.  \n",
    "이 오차를 줄이면서 새로운 선을 긋는 작업을 해야한다.  \n",
    "이를 위해서는 기울기와 y절편을 적절히 조절하면서 오차의 변화를 살펴보고, 오차가 최소가 되는  \n",
    "기울기와 y절편을 찾아야한다.  \n",
    "***\n",
    "앞의 예제 파일 '04_기울기_y절편'에서 계산된 기울기 -> 2.3, y절편 -> 79.0일 경우 RMSE는 2.880972058177584가 계산된다.  "
   ]
  },
  {
   "cell_type": "code",
   "execution_count": 9,
   "id": "235eb733",
   "metadata": {},
   "outputs": [
    {
     "data": {
      "text/plain": [
       "array([-79, -89, -85, -89])"
      ]
     },
     "execution_count": 9,
     "metadata": {},
     "output_type": "execute_result"
    }
   ],
   "source": [
    "#[2, 4, 6, 8] - [81, 93, 91, 97] #에러!!!\n",
    "np.array([2, 4, 6, 8]) - np.array([81, 93, 91, 97]) #numpy 배열은 가능!!!!"
   ]
  },
  {
   "cell_type": "code",
   "execution_count": null,
   "id": "6850dd3b",
   "metadata": {},
   "outputs": [],
   "source": []
  },
  {
   "cell_type": "code",
   "execution_count": null,
   "id": "47cf0378",
   "metadata": {},
   "outputs": [],
   "source": []
  },
  {
   "cell_type": "code",
   "execution_count": null,
   "id": "1132737c",
   "metadata": {},
   "outputs": [],
   "source": []
  },
  {
   "cell_type": "code",
   "execution_count": null,
   "id": "94d1ef36",
   "metadata": {},
   "outputs": [],
   "source": []
  },
  {
   "cell_type": "code",
   "execution_count": null,
   "id": "c2e3446f",
   "metadata": {},
   "outputs": [],
   "source": []
  },
  {
   "cell_type": "code",
   "execution_count": null,
   "id": "cd90bb8e",
   "metadata": {},
   "outputs": [],
   "source": []
  },
  {
   "cell_type": "code",
   "execution_count": null,
   "id": "665d4641",
   "metadata": {},
   "outputs": [],
   "source": []
  },
  {
   "cell_type": "code",
   "execution_count": null,
   "id": "8cfe764a",
   "metadata": {},
   "outputs": [],
   "source": []
  },
  {
   "cell_type": "code",
   "execution_count": null,
   "id": "6e61c080",
   "metadata": {},
   "outputs": [],
   "source": []
  },
  {
   "cell_type": "code",
   "execution_count": null,
   "id": "effa3b97",
   "metadata": {},
   "outputs": [],
   "source": []
  },
  {
   "cell_type": "code",
   "execution_count": null,
   "id": "2cec7433",
   "metadata": {},
   "outputs": [],
   "source": []
  },
  {
   "cell_type": "code",
   "execution_count": null,
   "id": "39b8c131",
   "metadata": {},
   "outputs": [],
   "source": []
  },
  {
   "cell_type": "code",
   "execution_count": null,
   "id": "2d567286",
   "metadata": {},
   "outputs": [],
   "source": []
  },
  {
   "cell_type": "code",
   "execution_count": null,
   "id": "e78f27d8",
   "metadata": {},
   "outputs": [],
   "source": []
  },
  {
   "cell_type": "code",
   "execution_count": null,
   "id": "e17d5488",
   "metadata": {},
   "outputs": [],
   "source": []
  },
  {
   "cell_type": "code",
   "execution_count": null,
   "id": "a04dcf94",
   "metadata": {},
   "outputs": [],
   "source": []
  },
  {
   "cell_type": "code",
   "execution_count": null,
   "id": "ababdba4",
   "metadata": {},
   "outputs": [],
   "source": []
  },
  {
   "cell_type": "code",
   "execution_count": null,
   "id": "c78ea7af",
   "metadata": {},
   "outputs": [],
   "source": []
  },
  {
   "cell_type": "code",
   "execution_count": null,
   "id": "699d6f7b",
   "metadata": {},
   "outputs": [],
   "source": []
  },
  {
   "cell_type": "code",
   "execution_count": null,
   "id": "0c07362a",
   "metadata": {},
   "outputs": [],
   "source": []
  },
  {
   "cell_type": "code",
   "execution_count": null,
   "id": "d22c81ec",
   "metadata": {},
   "outputs": [],
   "source": []
  },
  {
   "cell_type": "code",
   "execution_count": null,
   "id": "bab67055",
   "metadata": {},
   "outputs": [],
   "source": []
  },
  {
   "cell_type": "code",
   "execution_count": null,
   "id": "cc1c7ace",
   "metadata": {},
   "outputs": [],
   "source": []
  },
  {
   "cell_type": "code",
   "execution_count": null,
   "id": "df4d8810",
   "metadata": {},
   "outputs": [],
   "source": []
  },
  {
   "cell_type": "code",
   "execution_count": null,
   "id": "7165949a",
   "metadata": {},
   "outputs": [],
   "source": []
  },
  {
   "cell_type": "code",
   "execution_count": null,
   "id": "d02507a1",
   "metadata": {},
   "outputs": [],
   "source": []
  },
  {
   "cell_type": "code",
   "execution_count": null,
   "id": "87bf1a14",
   "metadata": {},
   "outputs": [],
   "source": []
  },
  {
   "cell_type": "code",
   "execution_count": null,
   "id": "53938d15",
   "metadata": {},
   "outputs": [],
   "source": []
  },
  {
   "cell_type": "code",
   "execution_count": null,
   "id": "073cb1f5",
   "metadata": {},
   "outputs": [],
   "source": []
  },
  {
   "cell_type": "code",
   "execution_count": null,
   "id": "a87407d2",
   "metadata": {},
   "outputs": [],
   "source": []
  },
  {
   "cell_type": "code",
   "execution_count": null,
   "id": "f8563f28",
   "metadata": {},
   "outputs": [],
   "source": []
  },
  {
   "cell_type": "code",
   "execution_count": null,
   "id": "9b977cbd",
   "metadata": {},
   "outputs": [],
   "source": []
  },
  {
   "cell_type": "code",
   "execution_count": null,
   "id": "07172b0a",
   "metadata": {},
   "outputs": [],
   "source": []
  },
  {
   "cell_type": "code",
   "execution_count": null,
   "id": "fcc8f8e6",
   "metadata": {},
   "outputs": [],
   "source": []
  },
  {
   "cell_type": "code",
   "execution_count": null,
   "id": "8f2e6a87",
   "metadata": {},
   "outputs": [],
   "source": []
  },
  {
   "cell_type": "code",
   "execution_count": null,
   "id": "99cde099",
   "metadata": {},
   "outputs": [],
   "source": []
  }
 ],
 "metadata": {
  "kernelspec": {
   "display_name": "Python [conda env:.conda-py3.7] *",
   "language": "python",
   "name": "conda-env-.conda-py3.7-py"
  },
  "language_info": {
   "codemirror_mode": {
    "name": "ipython",
    "version": 3
   },
   "file_extension": ".py",
   "mimetype": "text/x-python",
   "name": "python",
   "nbconvert_exporter": "python",
   "pygments_lexer": "ipython3",
   "version": "3.7.1"
  }
 },
 "nbformat": 4,
 "nbformat_minor": 5
}
