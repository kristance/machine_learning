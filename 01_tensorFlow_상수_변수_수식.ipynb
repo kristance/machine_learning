{
 "cells": [
  {
   "cell_type": "code",
   "execution_count": 1,
   "id": "30f93fca",
   "metadata": {},
   "outputs": [],
   "source": [
    " %config Completer.use_jedi = False                                       \n",
    "import warnings                                                             \n",
    "warnings.filterwarnings(action=\"ignore\")      "
   ]
  },
  {
   "cell_type": "code",
   "execution_count": 2,
   "id": "fd048b87",
   "metadata": {},
   "outputs": [
    {
     "name": "stdout",
     "output_type": "stream",
     "text": [
      "WARNING:tensorflow:From C:\\Users\\tj\\.conda\\envs\\py3.7\\lib\\site-packages\\tensorflow\\python\\compat\\v2_compat.py:107: disable_resource_variables (from tensorflow.python.ops.variable_scope) is deprecated and will be removed in a future version.\n",
      "Instructions for updating:\n",
      "non-resource variables are not supported in the long term\n",
      "2.10.0\n"
     ]
    }
   ],
   "source": [
    "# conda install tensorflow\n",
    "#import tensorflow as tf # tensorflow 2.x 버전을 사용한다.\n",
    "# tensorflow 1.x 버전을 사용하려면 아래와 같이 한다.\n",
    "import tensorflow.compat.v1 as tf\n",
    "tf.disable_v2_behavior() # tensorflow 2.x 버전의 문법을 사용하지 않겠다고 선언한다.\n",
    "print(tf.__version__)"
   ]
  },
  {
   "cell_type": "markdown",
   "id": "7470082c",
   "metadata": {},
   "source": [
    "***\n",
    "상수, 변수, 수식을 만든다. -> 세션에 넣는다.(변수는 반드시 초기화시킨다.) -> 실행한다.\n",
    "***"
   ]
  },
  {
   "cell_type": "markdown",
   "id": "ac4f0e6b",
   "metadata": {},
   "source": [
    "***\n",
    "tensorflow 상수\n",
    "***"
   ]
  },
  {
   "cell_type": "code",
   "execution_count": 3,
   "id": "b313ff43",
   "metadata": {},
   "outputs": [
    {
     "name": "stdout",
     "output_type": "stream",
     "text": [
      "a = Tensor(\"Const:0\", shape=(), dtype=int32)\n",
      "b = Tensor(\"Const_1:0\", shape=(), dtype=int32)\n",
      "a = 100\n",
      "b = 200\n"
     ]
    }
   ],
   "source": [
    "# constant() 메소드로 tensorflow에서 사용할 상수를 정의한다.\n",
    "a = tf.constant(100) # 상수 정의\n",
    "print('a = {}'.format(a))\n",
    "b = tf.constant(200) # 상수 정의\n",
    "print('b = {}'.format(b))\n",
    "\n",
    "# tensorflow 1.x버전은 반드시 세션이라는 작업영역을 만든 후 상수, 변수, 수식을 대입한 후 실행한다.\n",
    "# Session() 클래스로 tensorflow에서 사용할 세션을 정의한다.\n",
    "sess = tf.Session() # tensorflow 세션을 만든다.\n",
    "# run() 메소드로 tensorflow 세션의 내용을 실행한다.\n",
    "print('a = {}'.format(sess.run(a)))\n",
    "print('b = {}'.format(sess.run(b)))"
   ]
  },
  {
   "cell_type": "markdown",
   "id": "b2d2043a",
   "metadata": {},
   "source": [
    "***\n",
    "tensorflow 변수\n",
    "***"
   ]
  },
  {
   "cell_type": "code",
   "execution_count": 4,
   "id": "80a6e751",
   "metadata": {},
   "outputs": [
    {
     "name": "stdout",
     "output_type": "stream",
     "text": [
      "a = <tf.Variable 'Variable:0' shape=() dtype=int32_ref>\n",
      "b = <tf.Variable 'Variable_1:0' shape=() dtype=int32_ref>\n",
      "a = 300\n",
      "b = 400\n",
      "c = 500\n"
     ]
    }
   ],
   "source": [
    "# Variable() 클래스로 tensorflow에서 사용할 변수를 정의한다.\n",
    "a = tf.Variable(300) # 변수 정의\n",
    "print('a = {}'.format(a))\n",
    "b = tf.Variable(400)\n",
    "print('b = {}'.format(b))\n",
    "\n",
    "\n",
    "sess=tf.Session()\n",
    "\n",
    "# tensorflow 변수 초기화\n",
    "# Variable() 클래스로 생성한 tensorflow 변수는 사용하기 전에 반드시 초기화시켜야 한다.\n",
    "# tensorflow 변수 초기화는 tensorflow 변수를 사용하기 전에만 하면된다.\n",
    "# global_variables_initializer() 메소드로 tensorflow 변수를 초기화한다!!!!!\n",
    "\n",
    "#init = tf.global_variables_initializer()\n",
    "#sess.run(init)\n",
    "# 위의 2줄로 사용한 tensorflow 변수 초기화는 아래와 같이 1줄로 줄여서 사용할 수 있다.\n",
    "sess.run(tf.global_variables_initializer())\n",
    "\n",
    "print('a = {}'.format(sess.run(a)))\n",
    "print('b = {}'.format(sess.run(b)))\n",
    "\n",
    "# tensorflow 변수 초기화를 실행한 이후에 다시 변수를 만들었으면 다시 초기화시켜야 한다. -> 안하면 error!!!!\n",
    "c = tf.Variable(500)\n",
    "sess.run(tf.global_variables_initializer())\n",
    "print('c = {}'.format(sess.run(c)))"
   ]
  },
  {
   "cell_type": "markdown",
   "id": "aae81fba",
   "metadata": {},
   "source": [
    "***\n",
    "tensorflow 수식\n",
    "***"
   ]
  },
  {
   "cell_type": "code",
   "execution_count": 5,
   "id": "47684ce2",
   "metadata": {},
   "outputs": [
    {
     "name": "stdout",
     "output_type": "stream",
     "text": [
      "e = Tensor(\"add:0\", shape=(), dtype=int32)\n",
      "f = Tensor(\"Add_1:0\", shape=(), dtype=int32)\n",
      "g = Tensor(\"mul:0\", shape=(), dtype=int32)\n",
      "h = Tensor(\"Mul_1:0\", shape=(), dtype=int32)\n",
      "e = 700\n",
      "f = 700\n",
      "g = 120000\n",
      "h = 120000\n"
     ]
    }
   ],
   "source": [
    "a = tf.constant(300)\n",
    "b = tf.constant(400)\n",
    "c = tf.Variable(300)\n",
    "d = tf.Variable(400)\n",
    "\n",
    "e = a + b\n",
    "print('e = {}'.format(e))\n",
    "f = tf.add(a, b)\n",
    "print('f = {}'.format(f))\n",
    "\n",
    "g = c * d\n",
    "print('g = {}'.format(g))\n",
    "h = tf.multiply(c, d)\n",
    "print('h = {}'.format(h))\n",
    "\n",
    "sess = tf.Session()\n",
    "sess.run(tf.global_variables_initializer())\n",
    "print('e = {}'.format(sess.run(e)))\n",
    "print('f = {}'.format(sess.run(f)))\n",
    "print('g = {}'.format(sess.run(g)))\n",
    "print('h = {}'.format(sess.run(h)))"
   ]
  },
  {
   "cell_type": "code",
   "execution_count": null,
   "id": "c90d33fd",
   "metadata": {},
   "outputs": [],
   "source": []
  },
  {
   "cell_type": "code",
   "execution_count": null,
   "id": "01078401",
   "metadata": {},
   "outputs": [],
   "source": []
  },
  {
   "cell_type": "code",
   "execution_count": null,
   "id": "e56786eb",
   "metadata": {},
   "outputs": [],
   "source": []
  },
  {
   "cell_type": "code",
   "execution_count": null,
   "id": "404813ed",
   "metadata": {},
   "outputs": [],
   "source": []
  },
  {
   "cell_type": "code",
   "execution_count": null,
   "id": "eb88a93d",
   "metadata": {},
   "outputs": [],
   "source": []
  },
  {
   "cell_type": "code",
   "execution_count": null,
   "id": "9a70e9e2",
   "metadata": {},
   "outputs": [],
   "source": []
  },
  {
   "cell_type": "code",
   "execution_count": null,
   "id": "b5a272e0",
   "metadata": {},
   "outputs": [],
   "source": []
  },
  {
   "cell_type": "code",
   "execution_count": null,
   "id": "d5420f33",
   "metadata": {},
   "outputs": [],
   "source": []
  },
  {
   "cell_type": "code",
   "execution_count": null,
   "id": "e0bb90d0",
   "metadata": {},
   "outputs": [],
   "source": []
  },
  {
   "cell_type": "code",
   "execution_count": null,
   "id": "805cb968",
   "metadata": {},
   "outputs": [],
   "source": []
  },
  {
   "cell_type": "code",
   "execution_count": null,
   "id": "cf139980",
   "metadata": {},
   "outputs": [],
   "source": []
  },
  {
   "cell_type": "code",
   "execution_count": null,
   "id": "04ef01da",
   "metadata": {},
   "outputs": [],
   "source": []
  },
  {
   "cell_type": "code",
   "execution_count": null,
   "id": "90c51435",
   "metadata": {},
   "outputs": [],
   "source": []
  },
  {
   "cell_type": "code",
   "execution_count": null,
   "id": "cc2d4c7a",
   "metadata": {},
   "outputs": [],
   "source": []
  },
  {
   "cell_type": "code",
   "execution_count": null,
   "id": "1337db89",
   "metadata": {},
   "outputs": [],
   "source": []
  },
  {
   "cell_type": "code",
   "execution_count": null,
   "id": "9d0e4816",
   "metadata": {},
   "outputs": [],
   "source": []
  },
  {
   "cell_type": "code",
   "execution_count": null,
   "id": "023c9b18",
   "metadata": {},
   "outputs": [],
   "source": []
  },
  {
   "cell_type": "code",
   "execution_count": null,
   "id": "d2cf710b",
   "metadata": {},
   "outputs": [],
   "source": []
  },
  {
   "cell_type": "code",
   "execution_count": null,
   "id": "ed4fb58e",
   "metadata": {},
   "outputs": [],
   "source": []
  },
  {
   "cell_type": "code",
   "execution_count": null,
   "id": "a6fec8ed",
   "metadata": {},
   "outputs": [],
   "source": []
  },
  {
   "cell_type": "code",
   "execution_count": null,
   "id": "73e16242",
   "metadata": {},
   "outputs": [],
   "source": []
  },
  {
   "cell_type": "code",
   "execution_count": null,
   "id": "4eb572e3",
   "metadata": {},
   "outputs": [],
   "source": []
  },
  {
   "cell_type": "code",
   "execution_count": null,
   "id": "0e028904",
   "metadata": {},
   "outputs": [],
   "source": []
  },
  {
   "cell_type": "code",
   "execution_count": null,
   "id": "3edbe189",
   "metadata": {},
   "outputs": [],
   "source": []
  },
  {
   "cell_type": "code",
   "execution_count": null,
   "id": "b8be6e4d",
   "metadata": {},
   "outputs": [],
   "source": []
  },
  {
   "cell_type": "code",
   "execution_count": null,
   "id": "8eceed97",
   "metadata": {},
   "outputs": [],
   "source": []
  },
  {
   "cell_type": "code",
   "execution_count": null,
   "id": "a3b5c04c",
   "metadata": {},
   "outputs": [],
   "source": []
  },
  {
   "cell_type": "code",
   "execution_count": null,
   "id": "d8aa343f",
   "metadata": {},
   "outputs": [],
   "source": []
  },
  {
   "cell_type": "code",
   "execution_count": null,
   "id": "7d8f3c7c",
   "metadata": {},
   "outputs": [],
   "source": []
  },
  {
   "cell_type": "code",
   "execution_count": null,
   "id": "72c3c903",
   "metadata": {},
   "outputs": [],
   "source": []
  },
  {
   "cell_type": "code",
   "execution_count": null,
   "id": "37c4cb72",
   "metadata": {},
   "outputs": [],
   "source": []
  },
  {
   "cell_type": "code",
   "execution_count": null,
   "id": "5b595a55",
   "metadata": {},
   "outputs": [],
   "source": []
  },
  {
   "cell_type": "code",
   "execution_count": null,
   "id": "76fb1503",
   "metadata": {},
   "outputs": [],
   "source": []
  },
  {
   "cell_type": "code",
   "execution_count": null,
   "id": "c824eebc",
   "metadata": {},
   "outputs": [],
   "source": []
  },
  {
   "cell_type": "code",
   "execution_count": null,
   "id": "3f7d3d08",
   "metadata": {},
   "outputs": [],
   "source": []
  },
  {
   "cell_type": "code",
   "execution_count": null,
   "id": "4a5f43d8",
   "metadata": {},
   "outputs": [],
   "source": []
  },
  {
   "cell_type": "code",
   "execution_count": null,
   "id": "f5dc8bd3",
   "metadata": {},
   "outputs": [],
   "source": []
  },
  {
   "cell_type": "code",
   "execution_count": null,
   "id": "b594909c",
   "metadata": {},
   "outputs": [],
   "source": []
  },
  {
   "cell_type": "code",
   "execution_count": null,
   "id": "cd09a3a2",
   "metadata": {},
   "outputs": [],
   "source": []
  }
 ],
 "metadata": {
  "kernelspec": {
   "display_name": "Python [conda env:.conda-py3.7] *",
   "language": "python",
   "name": "conda-env-.conda-py3.7-py"
  },
  "language_info": {
   "codemirror_mode": {
    "name": "ipython",
    "version": 3
   },
   "file_extension": ".py",
   "mimetype": "text/x-python",
   "name": "python",
   "nbconvert_exporter": "python",
   "pygments_lexer": "ipython3",
   "version": "3.7.1"
  }
 },
 "nbformat": 4,
 "nbformat_minor": 5
}
