{
 "cells": [
  {
   "cell_type": "code",
   "execution_count": 1,
   "id": "5d8e7837-aea6-41ed-932a-3bb7eb92516c",
   "metadata": {
    "tags": []
   },
   "outputs": [],
   "source": [
    "import warnings\n",
    "warnings.filterwarnings(action='ignore')\n",
    "%config Completer.use_jedi = False\n",
    "import numpy as np\n",
    "import pandas as pd\n",
    "import matplotlib.pyplot as plt\n",
    "import matplotlib as mpl\n",
    "mpl.rcParams['axes.unicode_minus'] = False\n",
    "plt.rcParams['font.family'] = 'NanumGothicCoding'\n",
    "plt.rcParams['font.size'] = 10\n",
    "import seaborn as sns\n",
    "\n",
    "from sklearn import datasets\n",
    "from sklearn.model_selection import train_test_split\n",
    "from sklearn.preprocessing import StandardScaler\n",
    "from sklearn.metrics import accuracy_score\n",
    "from sklearn.metrics import confusion_matrix\n",
    "from sklearn.metrics import classification_report\n",
    "from sklearn.metrics import mean_squared_error  \n",
    "from sklearn.metrics import mean_absolute_error\n",
    "from sklearn.metrics import r2_score\n",
    "from sklearn.metrics import precision_score \n",
    "from sklearn.metrics import recall_score\n",
    "from sklearn.metrics import f1_score"
   ]
  },
  {
   "cell_type": "markdown",
   "id": "ad95793e-55df-438c-8886-fbea6fbc31c6",
   "metadata": {},
   "source": [
    "***\n",
    "의사결정 트리는 테스트를 위쪽에 놓고 해당 리스트로 발생 가능할 결과를 아래쪽으로 놓는다. 의사 결정 트리는 또다른 테스트가 될 수 있다.  \n",
    "즉, 상위 테스트로 판별하지 못한 데이터는 또다른 테스트만 자식 테스트를 사용해서 분류가 가능하다.  \n",
    "\n",
    "의사결정 트리는 테스트 성능을 평가하기 위해 엔트로피라는 개념을 사용한다.  \n",
    "엔트로피는 불순도 정도를 측정하며, 낮을수록 좋다.  이때, 불순도는 노드에 서로 다른 데이터가 얼마나 섞여있는지 의미한다.  \n",
    "불순도가 낮을수록 데이터가 섞여있지 않다는 것을 의미한다.\n",
    "\n",
    "지니계수(GINI Index)는 엔트로피와 함께 불순도를 측정하는 또다른 방법이다.  \n",
    "데이터셋에서 랜덤으로 삭제한 데이터에 임의로 라벨을 정했을 때 틀릴 확률를 의미한다.  \n",
    "만일, 해당 데이터셋에 모두 동일하게 라벨링 돼 있다면 지니계수는 0을 가지게 되며 이는 불순도가 0임을 의미한다.\n",
    "***\n"
   ]
  },
  {
   "cell_type": "markdown",
   "id": "6ea267bb-115c-4e4b-92c4-c7ee04bc6265",
   "metadata": {},
   "source": [
    "와인 데이터를 사용해 와인 종류를 분류하는 모델을 생성하고 학습시킨다.\n",
    "***"
   ]
  },
  {
   "cell_type": "code",
   "execution_count": 2,
   "id": "971adb53-c814-4f3a-b156-9b1fac5959b4",
   "metadata": {
    "tags": []
   },
   "outputs": [
    {
     "name": "stdout",
     "output_type": "stream",
     "text": [
      "(178, 13) (178,)\n",
      "(133, 13) (45, 13) (133,) (45,)\n"
     ]
    },
    {
     "data": {
      "text/plain": [
       "DecisionTreeClassifier(max_depth=4, random_state=0)"
      ]
     },
     "execution_count": 2,
     "metadata": {},
     "output_type": "execute_result"
    }
   ],
   "source": [
    "# 데이터 불러오기\n",
    "raw_data = datasets.load_wine() # 사이킷런이 제공하는 와인 데이터를 불러온다.\n",
    "\n",
    "# 피쳐, 레이블 데이터 저장\n",
    "xData = raw_data.data # 피쳐 데이터를 저장한다.\n",
    "yData = raw_data.target # 피쳐 데이터에 따른 레이블을 저장한다.\n",
    "print(xData.shape, yData.shape)\n",
    "\n",
    "\n",
    "# 학습 데이터와 테스트 데이터로 분할\n",
    "x_train, x_test, y_train, y_test = train_test_split(xData, yData, random_state=1)\n",
    "print(x_train.shape, x_test.shape, y_train.shape, y_test.shape)\n",
    "\n",
    "# 데이터 표준화\n",
    "std_scale = StandardScaler() # 표준화 스케일러 객체를 만든다.\n",
    "x_train = std_scale.fit_transform(x_train) # 학습 데이터를 스케일러로 표준화하고 적용한다.\n",
    "x_test = std_scale.transform(x_test) # 테스트 데이터를 학습 데이터로 표준화된 스케일러에 적용한다.\n",
    "\n",
    "#  모델 생성 후 데이터 학습\n",
    "from sklearn.tree import DecisionTreeClassifier\n",
    "\n",
    "# 의사 결정 트리 모델을 만든다.\n",
    "# 의사 결정 트리 알고리즘 구동시 random하게 특성들과 데이터 건수를 선택하는 로직이 포함되어 있기 때문에\n",
    "# random_state 속성에 특정 값을 지정하여 수행시마다 동일한 트리를 만들 수 있도록 한다.\n",
    "# 의사결정 트리는 과적합되기 쉬운 모델로 과적합 방지를 위해  max_depth 속성을 지정해 트리의 최대 깊이를 지정주는 것이 좋다.\n",
    "clf = DecisionTreeClassifier(random_state=0, max_depth=4)\n",
    "\n",
    "# 표준화된 학습 데이터 x_train와 학습 데이터에 따른 레이블 데이터 y_train으로 의사 결정 트리 모델에 학습시킨다.\n",
    "clf.fit(x_train, y_train)\n"
   ]
  },
  {
   "cell_type": "markdown",
   "id": "3d3f449a-92f6-4577-a4fa-62ecf488e392",
   "metadata": {},
   "source": [
    "***\n",
    "학습된 모델로 테스트 데이터를 예측한다.\n",
    "***"
   ]
  },
  {
   "cell_type": "code",
   "execution_count": 3,
   "id": "b8d63eed-acaf-4c38-9768-9620ad9002f0",
   "metadata": {
    "tags": []
   },
   "outputs": [
    {
     "name": "stdout",
     "output_type": "stream",
     "text": [
      "[2 1 0 1 0 2 1 0 2 1 0 0 1 0 1 1 2 0 1 0 0 1 2 1 0 2 0 0 0 2 1 2 2 0 1 1 2\n",
      " 0 1 0 0 1 2 0 0]\n"
     ]
    }
   ],
   "source": [
    "#predict() 메소드의 인수로 표준화된 테스트 데이터를 넘겨서 예측한다.\n",
    "predict = clf.predict(x_test)\n",
    "print(predict)"
   ]
  },
  {
   "cell_type": "code",
   "execution_count": 4,
   "id": "641d098d-e0f8-4f04-a1b0-8e7440549331",
   "metadata": {
    "tags": []
   },
   "outputs": [
    {
     "name": "stdout",
     "output_type": "stream",
     "text": [
      "[[18  0  0]\n",
      " [ 1 15  1]\n",
      " [ 0  0 10]]\n"
     ]
    }
   ],
   "source": [
    "# 혼동 행렬\n",
    "conf_matrix = confusion_matrix(y_test, predict)\n",
    "print(conf_matrix)"
   ]
  },
  {
   "cell_type": "code",
   "execution_count": 5,
   "id": "cfca951c-b02e-4d3d-ad14-9e44e070b943",
   "metadata": {
    "tags": []
   },
   "outputs": [
    {
     "name": "stdout",
     "output_type": "stream",
     "text": [
      "              precision    recall  f1-score   support\n",
      "\n",
      "     class_0       0.95      1.00      0.97        18\n",
      "     class_1       1.00      0.88      0.94        17\n",
      "     class_2       0.91      1.00      0.95        10\n",
      "\n",
      "    accuracy                           0.96        45\n",
      "   macro avg       0.95      0.96      0.95        45\n",
      "weighted avg       0.96      0.96      0.95        45\n",
      "\n"
     ]
    }
   ],
   "source": [
    "#분류 리포트\n",
    "class_report = classification_report(y_test, predict, target_names=raw_data.target_names)\n",
    "print(class_report)"
   ]
  },
  {
   "cell_type": "code",
   "execution_count": 6,
   "id": "7df74de7-93fe-416a-8dd9-1a223fdaa294",
   "metadata": {
    "tags": []
   },
   "outputs": [
    {
     "name": "stdout",
     "output_type": "stream",
     "text": [
      "일치\n",
      "일치\n",
      "일치\n",
      "일치\n",
      "일치\n",
      "일치\n",
      "일치\n",
      "일치\n",
      "일치\n",
      "일치\n",
      "일치\n",
      "일치\n",
      "일치\n",
      "일치\n",
      "일치\n",
      "일치\n",
      "일치\n",
      "일치\n",
      "일치\n",
      "일치\n",
      "일치\n",
      "일치\n",
      "일치\n",
      "일치\n",
      "일치\n",
      "일치\n",
      "일치\n",
      "일치\n",
      "일치\n",
      "일치\n",
      "일치\n",
      "일치\n",
      "일치\n",
      "일치\n",
      "일치\n",
      "일치\n",
      "테스트 클래스 -> 1, 예측치 -> 2\n",
      "테스트 클래스 -> 1, 예측치 -> 0\n",
      "일치\n",
      "일치\n",
      "일치\n",
      "일치\n",
      "일치\n",
      "일치\n",
      "일치\n"
     ]
    }
   ],
   "source": [
    "for i in range(len(y_test)):\n",
    "     if y_test[i] != predict[i]:\n",
    "          print(f'테스트 클래스 -> {y_test[i]}, 예측치 -> {predict[i]}')\n",
    "     else :\n",
    "          print('일치')"
   ]
  },
  {
   "cell_type": "code",
   "execution_count": null,
   "id": "18d2fb08-3cd7-4491-8621-afccfc83870f",
   "metadata": {},
   "outputs": [],
   "source": []
  },
  {
   "cell_type": "code",
   "execution_count": null,
   "id": "98d4fcbf-5471-49f4-8881-b9e7d193bc3a",
   "metadata": {},
   "outputs": [],
   "source": []
  },
  {
   "cell_type": "code",
   "execution_count": null,
   "id": "5d005837-255f-4078-a073-79b8b744c5f0",
   "metadata": {},
   "outputs": [],
   "source": []
  },
  {
   "cell_type": "code",
   "execution_count": null,
   "id": "2f98460c-8810-4915-a3c1-89c5516a0d04",
   "metadata": {},
   "outputs": [],
   "source": []
  },
  {
   "cell_type": "code",
   "execution_count": null,
   "id": "88dc4400-bc96-4cfe-a41e-257f9e69986b",
   "metadata": {},
   "outputs": [],
   "source": []
  },
  {
   "cell_type": "code",
   "execution_count": null,
   "id": "dcf085d4-ae27-4a5e-98cb-b4f1dfa6f00a",
   "metadata": {},
   "outputs": [],
   "source": []
  },
  {
   "cell_type": "code",
   "execution_count": null,
   "id": "70c0e71d-dce2-4d19-8a58-42c2dac6b397",
   "metadata": {},
   "outputs": [],
   "source": []
  },
  {
   "cell_type": "code",
   "execution_count": null,
   "id": "cc7255de-f98e-4e6a-9f91-3db36a4db57f",
   "metadata": {},
   "outputs": [],
   "source": []
  },
  {
   "cell_type": "code",
   "execution_count": null,
   "id": "50232404-98e1-4c7b-8596-9f3fa3a2b872",
   "metadata": {},
   "outputs": [],
   "source": []
  },
  {
   "cell_type": "code",
   "execution_count": null,
   "id": "7210d158-354e-447e-bddb-5ba7cedc0d4c",
   "metadata": {},
   "outputs": [],
   "source": []
  },
  {
   "cell_type": "code",
   "execution_count": null,
   "id": "0ee913c0-0d53-482e-b20f-1f2f544e9216",
   "metadata": {},
   "outputs": [],
   "source": []
  },
  {
   "cell_type": "code",
   "execution_count": null,
   "id": "cd2b384e-4923-4b82-ba42-db6598dec01f",
   "metadata": {},
   "outputs": [],
   "source": []
  },
  {
   "cell_type": "code",
   "execution_count": null,
   "id": "50a1b433-9662-4431-99db-92535f022161",
   "metadata": {},
   "outputs": [],
   "source": []
  },
  {
   "cell_type": "code",
   "execution_count": null,
   "id": "d200c5f7-6f77-4fda-8d9d-485f98cd2bad",
   "metadata": {},
   "outputs": [],
   "source": []
  },
  {
   "cell_type": "code",
   "execution_count": null,
   "id": "cd3351bb-3947-47cf-a1df-ce8f0f0e13e5",
   "metadata": {},
   "outputs": [],
   "source": []
  },
  {
   "cell_type": "code",
   "execution_count": null,
   "id": "2386ca22-10c9-4291-8d3f-e2fac16857ed",
   "metadata": {},
   "outputs": [],
   "source": []
  },
  {
   "cell_type": "code",
   "execution_count": null,
   "id": "88501275-8ae5-48a2-b50f-257f73daa4ce",
   "metadata": {},
   "outputs": [],
   "source": []
  },
  {
   "cell_type": "code",
   "execution_count": null,
   "id": "7af9e100-9e5e-4f23-9f80-d4acf87042a5",
   "metadata": {},
   "outputs": [],
   "source": []
  },
  {
   "cell_type": "code",
   "execution_count": null,
   "id": "52992c37-00b2-48d5-aaed-6b81d2a6838b",
   "metadata": {},
   "outputs": [],
   "source": []
  },
  {
   "cell_type": "code",
   "execution_count": null,
   "id": "143d0c45-4d22-493f-9dac-dc0be4840d0a",
   "metadata": {},
   "outputs": [],
   "source": []
  },
  {
   "cell_type": "code",
   "execution_count": null,
   "id": "d70586bf-1beb-409a-8413-6ecb79099093",
   "metadata": {},
   "outputs": [],
   "source": []
  },
  {
   "cell_type": "code",
   "execution_count": null,
   "id": "15b3d305-1d78-49c5-9282-128417c893e0",
   "metadata": {},
   "outputs": [],
   "source": []
  },
  {
   "cell_type": "code",
   "execution_count": null,
   "id": "260c7c65-0947-4a99-a72c-e860c595bfb8",
   "metadata": {},
   "outputs": [],
   "source": []
  },
  {
   "cell_type": "code",
   "execution_count": null,
   "id": "00980959-0529-437d-baf5-334da6f75932",
   "metadata": {},
   "outputs": [],
   "source": []
  },
  {
   "cell_type": "code",
   "execution_count": null,
   "id": "08b94264-e48a-4e97-a28b-a9b47fa4a3b2",
   "metadata": {},
   "outputs": [],
   "source": []
  },
  {
   "cell_type": "code",
   "execution_count": null,
   "id": "77597bc5-e45c-45b2-a0a0-dc566856a59e",
   "metadata": {},
   "outputs": [],
   "source": []
  },
  {
   "cell_type": "code",
   "execution_count": null,
   "id": "ec942887-14c2-4dc4-9be6-149603b723af",
   "metadata": {},
   "outputs": [],
   "source": []
  }
 ],
 "metadata": {
  "kernelspec": {
   "display_name": "Python [conda env:.conda-py3.7] *",
   "language": "python",
   "name": "conda-env-.conda-py3.7-py"
  },
  "language_info": {
   "codemirror_mode": {
    "name": "ipython",
    "version": 3
   },
   "file_extension": ".py",
   "mimetype": "text/x-python",
   "name": "python",
   "nbconvert_exporter": "python",
   "pygments_lexer": "ipython3",
   "version": "3.7.1"
  }
 },
 "nbformat": 4,
 "nbformat_minor": 5
}
