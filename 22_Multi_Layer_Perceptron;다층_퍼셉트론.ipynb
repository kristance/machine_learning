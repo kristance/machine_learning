{
 "cells": [
  {
   "cell_type": "code",
   "execution_count": 1,
   "id": "ac05c545-455d-4e51-a2af-766be16963b7",
   "metadata": {},
   "outputs": [
    {
     "name": "stdout",
     "output_type": "stream",
     "text": [
      "WARNING:tensorflow:From C:\\Users\\tj\\.conda\\envs\\py3.7\\lib\\site-packages\\tensorflow\\python\\compat\\v2_compat.py:107: disable_resource_variables (from tensorflow.python.ops.variable_scope) is deprecated and will be removed in a future version.\n",
      "Instructions for updating:\n",
      "non-resource variables are not supported in the long term\n"
     ]
    }
   ],
   "source": [
    "%config Completer.use_jedi = False                                       \n",
    "import warnings                                                             \n",
    "warnings.filterwarnings(action=\"ignore\")\n",
    "import tensorflow.compat.v1 as tf\n",
    "tf.disable_v2_behavior()"
   ]
  },
  {
   "cell_type": "markdown",
   "id": "c6507270-aabd-4a75-85ab-a2cf41c1d5b2",
   "metadata": {},
   "source": [
    "***\n",
    "다층 퍼셉트론\n",
    "***"
   ]
  },
  {
   "cell_type": "markdown",
   "id": "124f206a-c5e4-43f1-8621-6726fe60e9f5",
   "metadata": {},
   "source": [
    "<img src=\"./다중퍼셉트론 (1).png\">\n",
    "<img src=\"./다중퍼셉트론 (2).png\">\n",
    "<img src=\"./다중퍼셉트론 (3).png\">\n",
    "<img src=\"./다중퍼셉트론 (4).png\">"
   ]
  },
  {
   "cell_type": "markdown",
   "id": "2b1492f9-44e3-4ca1-9026-7f2c6a8a00b0",
   "metadata": {},
   "source": [
    "***\n",
    "XOR 연산은 입력 데이터를 X라고 할 경우 [[0, 0], [0, 1], [1, 0], [1, 1]]과 같은 경우의 수가 있다.  \n",
    "총 4개의 데이터가 각각 2개의 특성을 가지고 있으므로 X는 [4, 2]의 형태로 정의할 수 있다.  \n",
    "입력값에 따른 출력값 Y는 [[0], [1], [1], [0]]이므로 Y는 [4, 1]의 형태로 정의할 수 있다.  \n",
    "***"
   ]
  },
  {
   "cell_type": "code",
   "execution_count": 2,
   "id": "26e9a1ad-c200-4fed-ac46-a4f7204f4c68",
   "metadata": {},
   "outputs": [],
   "source": [
    "X = tf.placeholder( dtype=tf.float32, shape=(4, 2) ) #input; 학습데이터\n",
    "Y = tf.placeholder( dtype=tf.float32, shape=(4, 1) ) #output; 레이블"
   ]
  },
  {
   "cell_type": "markdown",
   "id": "65788b94-f6ad-4a08-91cc-85bfe73b8ecd",
   "metadata": {},
   "source": [
    "***\n",
    "첫번째 히든 레이어에서 2개의 입력(X)과 1개의 편향값(B1)을 받아서 2개의 시그모이드 출력(Z)을 2번째 히든 레이어로 전달한다.\n",
    "***"
   ]
  },
  {
   "cell_type": "code",
   "execution_count": 3,
   "id": "9007bdf4-ba4b-4245-b859-64c2f14c46c4",
   "metadata": {},
   "outputs": [],
   "source": [
    "# 2개의 입력을 받는 2개의 뉴런을 사용하기 위해서 가중치를 [건당 데이터 갯수, 뉴런의 갯수]만큼의 난수를 만든다.\n",
    "W1 = tf.Variable( tf.random_normal([2, 2]) )\n",
    "\n",
    "# 각 뉴런은 1개의 편향값(bias)를 갖는다.\n",
    "# zeros() 메소드는 모든 원소의 값이 0인 텐서(2차원 이상의 행렬)를 생성한다.\n",
    "B1 = tf.Variable( tf.zeros([2]) )\n",
    "\n",
    "#시그모이드 함수를 이용해서 1번째 히든 레이어의 출력을 리턴한다.\n",
    "Z = tf.sigmoid( tf.matmul(X, W1) + B1 )\n"
   ]
  },
  {
   "cell_type": "code",
   "execution_count": 4,
   "id": "c884bfa2-3ea4-47a5-b0e9-de2b695e8698",
   "metadata": {},
   "outputs": [
    {
     "name": "stdout",
     "output_type": "stream",
     "text": [
      "[[ 1.3414143   0.27822655]\n",
      " [ 1.0373353  -0.40772948]]\n",
      "[0. 0.]\n",
      "[[0.5        0.5       ]\n",
      " [0.7383355  0.39945668]\n",
      " [0.79272246 0.56911135]\n",
      " [0.9151924  0.46766946]]\n"
     ]
    }
   ],
   "source": [
    "sess = tf.Session()\n",
    "sess.run( tf.global_variables_initializer() )\n",
    "print( sess.run(W1) )\n",
    "print( sess.run(B1) )\n",
    "x_train =  [ [0, 0], [0, 1], [1, 0], [1, 1] ]\n",
    "print( sess.run(Z, feed_dict={X : x_train}) )"
   ]
  },
  {
   "cell_type": "markdown",
   "id": "92d3ed25-3cd0-407d-8d2e-9f21ac4bad62",
   "metadata": {},
   "source": [
    "***\n",
    "2번째 히든 레이어에서 1번째 히든 레이어의 출력값(Z)와 편향값(B2)을 받아서 1개의 시그모이드를 출력(Y_hat; 예측치)한다.; second_layer\n",
    "***"
   ]
  },
  {
   "cell_type": "code",
   "execution_count": 5,
   "id": "8d206223-0d02-4925-8711-93f03298aa9a",
   "metadata": {},
   "outputs": [],
   "source": [
    "# 2개의 Z(z1, z2)를 입력값으로 받는 1개의 뉴런을 만든다.\n",
    "W2 = tf.Variable( tf.random_normal([2, 1]) )\n",
    "B2 = tf.Variable( tf.zeros([1]) )\n",
    "Y_hat = tf.sigmoid( tf.matmul(Z, W2) + B2 )"
   ]
  },
  {
   "cell_type": "code",
   "execution_count": 6,
   "id": "4f3b021c-db32-4442-a62d-aaecc7ce0550",
   "metadata": {},
   "outputs": [
    {
     "name": "stdout",
     "output_type": "stream",
     "text": [
      "[[-0.8999967   0.27934673]\n",
      " [-0.8819918  -0.42423123]]\n",
      "[0. 0.]\n",
      "[[0.45519188]\n",
      " [0.4492726 ]\n",
      " [0.4079763 ]\n",
      " [0.41144407]]\n"
     ]
    }
   ],
   "source": [
    "sess = tf.Session()\n",
    "sess.run( tf.global_variables_initializer() )\n",
    "print( sess.run(W1) )\n",
    "print( sess.run(B1) )\n",
    "x_train =  [ [0, 0], [0, 1], [1, 0], [1, 1] ]\n",
    "print( sess.run(Y_hat, feed_dict={X : x_train}) )"
   ]
  },
  {
   "cell_type": "markdown",
   "id": "0b45d1c5-cd69-4f1f-a970-96ee28dbe1c6",
   "metadata": {},
   "source": [
    "***\n",
    "손실 함수로 크로스 엔트로피를 사용하고 경사 하강법으로 모델의 매개변수(가중치, 편향)를 최적화한다.\n",
    "***"
   ]
  },
  {
   "cell_type": "code",
   "execution_count": 7,
   "id": "7ffaa330-400a-4638-b216-4eca1ce4d23f",
   "metadata": {},
   "outputs": [],
   "source": [
    "# 크로스 엔트로피\n",
    "loss = tf.reduce_mean( -1 * (Y * tf.log(Y_hat) + (1.0 - Y) * tf.log(1 - Y_hat)) )\n",
    "\n",
    "#경사 하강법\n",
    "train_step = tf.train.GradientDescentOptimizer(0.05).minimize(loss)\n",
    "\n",
    "#모델 학습에 필요한 학습 데이터와 레이블을 만든다.\n",
    "x_train =  [ [0, 0], [0, 1], [1, 0], [1, 1] ]\n",
    "y_train = [ [0], [1], [1], [0] ]"
   ]
  },
  {
   "cell_type": "markdown",
   "id": "5f54e012-b581-4de6-b7d2-b9c986b2b3af",
   "metadata": {},
   "source": [
    "***\n",
    "학습시킨다. -> XOR연산은 값이 다르면 1을, 같으면 0\n",
    "***"
   ]
  },
  {
   "cell_type": "code",
   "execution_count": 13,
   "id": "6be03f24-2ca0-4dc7-8219-60dd1d80f695",
   "metadata": {},
   "outputs": [
    {
     "name": "stdout",
     "output_type": "stream",
     "text": [
      "학습 데이터 -> [[0, 0], [0, 1], [1, 0], [1, 1]]\n",
      "--------------------------------------\n",
      "epoch -> 0\n",
      "output\n",
      "[[0.3728474 ]\n",
      " [0.43581116]\n",
      " [0.3164098 ]\n",
      " [0.38311782]]\n",
      "epoch -> 2000\n",
      "output\n",
      "[[0.53464913]\n",
      " [0.5050073 ]\n",
      " [0.5086148 ]\n",
      " [0.44488835]]\n",
      "epoch -> 4000\n",
      "output\n",
      "[[0.3653035 ]\n",
      " [0.60865563]\n",
      " [0.6953234 ]\n",
      " [0.2713857 ]]\n",
      "epoch -> 6000\n",
      "output\n",
      "[[0.1186188 ]\n",
      " [0.85205895]\n",
      " [0.89736056]\n",
      " [0.0947821 ]]\n",
      "epoch -> 8000\n",
      "output\n",
      "[[0.05911748]\n",
      " [0.92383474]\n",
      " [0.9477594 ]\n",
      " [0.04831261]]\n",
      "epoch -> 10000\n",
      "output\n",
      "[[0.03793159]\n",
      " [0.95048326]\n",
      " [0.96612906]\n",
      " [0.03132233]]\n"
     ]
    }
   ],
   "source": [
    "sess = tf.Session()\n",
    "sess.run( tf.global_variables_initializer() )\n",
    "\n",
    "print( '학습 데이터 -> {}'.format(x_train) )\n",
    "print( '--------------------------------------' )\n",
    "\n",
    "for epoch in range(10001):\n",
    "    sess.run( train_step, feed_dict={X : x_train, Y : y_train} )\n",
    "    if epoch % 2000 == 0:\n",
    "        print( 'epoch -> {}'.format(epoch) )\n",
    "        print( 'output\\n', sess.run(Y_hat, feed_dict={X : x_train}), sep='' )\n",
    "    #--------- if epoch\n",
    "#------ for\n"
   ]
  },
  {
   "cell_type": "code",
   "execution_count": null,
   "id": "3fb3a5c2-c671-4db6-b1ff-5897326de857",
   "metadata": {},
   "outputs": [],
   "source": []
  },
  {
   "cell_type": "code",
   "execution_count": null,
   "id": "b1048ceb-1c67-4033-9d4a-2005361f4adc",
   "metadata": {},
   "outputs": [],
   "source": []
  },
  {
   "cell_type": "code",
   "execution_count": null,
   "id": "57d9a9e0-d26b-4524-bb4d-0e2c95b81d98",
   "metadata": {},
   "outputs": [],
   "source": []
  },
  {
   "cell_type": "code",
   "execution_count": null,
   "id": "cb806bf7-d325-4edf-8b9e-596d30f17600",
   "metadata": {},
   "outputs": [],
   "source": []
  },
  {
   "cell_type": "code",
   "execution_count": null,
   "id": "bda24bf1-79b1-440d-9b85-6985af2e3775",
   "metadata": {},
   "outputs": [],
   "source": []
  },
  {
   "cell_type": "code",
   "execution_count": null,
   "id": "ea709fb2-6ac6-47e9-9462-7a87859d4b5b",
   "metadata": {},
   "outputs": [],
   "source": []
  },
  {
   "cell_type": "code",
   "execution_count": null,
   "id": "8399efc1-6a1e-4bff-a92c-a194a64be2b2",
   "metadata": {},
   "outputs": [],
   "source": []
  },
  {
   "cell_type": "code",
   "execution_count": null,
   "id": "0b41436e-f866-4174-a721-ec3b868fcf4c",
   "metadata": {},
   "outputs": [],
   "source": []
  },
  {
   "cell_type": "code",
   "execution_count": null,
   "id": "d678c7ee-d5c7-4330-a446-f4fb44accafc",
   "metadata": {},
   "outputs": [],
   "source": []
  },
  {
   "cell_type": "code",
   "execution_count": null,
   "id": "dfb66479-a3e1-4ea5-b933-65cd513512d3",
   "metadata": {},
   "outputs": [],
   "source": []
  },
  {
   "cell_type": "code",
   "execution_count": null,
   "id": "2353880d-7a7d-48b7-aa91-4b419e12fd34",
   "metadata": {},
   "outputs": [],
   "source": []
  },
  {
   "cell_type": "code",
   "execution_count": null,
   "id": "b1a9fabc-6e99-483c-8c54-2ca0481b2fec",
   "metadata": {},
   "outputs": [],
   "source": []
  },
  {
   "cell_type": "code",
   "execution_count": null,
   "id": "b28a4af7-e069-475d-a4a7-d76f00f71527",
   "metadata": {},
   "outputs": [],
   "source": []
  },
  {
   "cell_type": "code",
   "execution_count": null,
   "id": "fe24a38f-3715-4b93-b6b8-f32604b47970",
   "metadata": {},
   "outputs": [],
   "source": []
  },
  {
   "cell_type": "code",
   "execution_count": null,
   "id": "37f0b223-9562-432c-a9a7-06ad41c3bf6a",
   "metadata": {},
   "outputs": [],
   "source": []
  },
  {
   "cell_type": "code",
   "execution_count": null,
   "id": "b1bb30c0-0f01-4296-aa1a-b37343b0e906",
   "metadata": {},
   "outputs": [],
   "source": []
  },
  {
   "cell_type": "code",
   "execution_count": null,
   "id": "2d3fb13e-9c57-429e-adae-c5fa3dd111c2",
   "metadata": {},
   "outputs": [],
   "source": []
  },
  {
   "cell_type": "code",
   "execution_count": null,
   "id": "d7a5f4f9-9a6f-4f8a-9680-184cc1ae9d55",
   "metadata": {},
   "outputs": [],
   "source": []
  },
  {
   "cell_type": "code",
   "execution_count": null,
   "id": "17901a59-128c-4f12-b1d1-a7a4d1fecb7e",
   "metadata": {},
   "outputs": [],
   "source": []
  },
  {
   "cell_type": "code",
   "execution_count": null,
   "id": "2e0d8309-4bca-4d76-bf14-97b9e5ab9613",
   "metadata": {},
   "outputs": [],
   "source": []
  },
  {
   "cell_type": "code",
   "execution_count": null,
   "id": "94ff0713-7f5d-403e-939a-5e6ae0ff7e84",
   "metadata": {},
   "outputs": [],
   "source": []
  },
  {
   "cell_type": "code",
   "execution_count": null,
   "id": "f740ca53-4d2c-421a-b1d4-e5cf91ce86c7",
   "metadata": {},
   "outputs": [],
   "source": []
  },
  {
   "cell_type": "code",
   "execution_count": null,
   "id": "e3d2084e-1fd0-4b6a-89ad-ce8efb896217",
   "metadata": {},
   "outputs": [],
   "source": []
  },
  {
   "cell_type": "code",
   "execution_count": null,
   "id": "a8ad53f4-2765-45bc-b593-821cf9c78570",
   "metadata": {},
   "outputs": [],
   "source": []
  },
  {
   "cell_type": "code",
   "execution_count": null,
   "id": "f7beaa3b-08d6-4493-a671-535638a91617",
   "metadata": {},
   "outputs": [],
   "source": []
  },
  {
   "cell_type": "code",
   "execution_count": null,
   "id": "5a9571e7-db4b-456b-9c7d-ace4fdfcb583",
   "metadata": {},
   "outputs": [],
   "source": []
  },
  {
   "cell_type": "code",
   "execution_count": null,
   "id": "d65f2e38-2679-4410-8c44-a25b967f496e",
   "metadata": {},
   "outputs": [],
   "source": []
  },
  {
   "cell_type": "code",
   "execution_count": null,
   "id": "9f7e8c6a-6037-4160-872b-fe48c4309474",
   "metadata": {},
   "outputs": [],
   "source": []
  },
  {
   "cell_type": "code",
   "execution_count": null,
   "id": "faee77ff-beb6-4cce-acaf-78f39586bd5f",
   "metadata": {},
   "outputs": [],
   "source": []
  },
  {
   "cell_type": "code",
   "execution_count": null,
   "id": "8bde05eb-0431-41eb-87c4-cd767b14a31a",
   "metadata": {},
   "outputs": [],
   "source": []
  },
  {
   "cell_type": "code",
   "execution_count": null,
   "id": "ed6d1dda-4e62-4939-8f0b-b85e019ed84c",
   "metadata": {},
   "outputs": [],
   "source": []
  },
  {
   "cell_type": "code",
   "execution_count": null,
   "id": "3b08a3d5-bf1f-4eff-9f4a-3d9bf8fe9a23",
   "metadata": {},
   "outputs": [],
   "source": []
  },
  {
   "cell_type": "code",
   "execution_count": null,
   "id": "115d9020-b186-4897-819d-c9e5013dde1c",
   "metadata": {},
   "outputs": [],
   "source": []
  },
  {
   "cell_type": "code",
   "execution_count": null,
   "id": "d1b88f63-068b-4c7f-8ac1-a3d5c991533b",
   "metadata": {},
   "outputs": [],
   "source": []
  },
  {
   "cell_type": "code",
   "execution_count": null,
   "id": "f46cf2ff-e692-4369-913a-a17d2137772d",
   "metadata": {},
   "outputs": [],
   "source": []
  },
  {
   "cell_type": "code",
   "execution_count": null,
   "id": "42f52116-43a2-40d4-bbd3-f318ec918ad9",
   "metadata": {},
   "outputs": [],
   "source": []
  },
  {
   "cell_type": "code",
   "execution_count": null,
   "id": "7dd4e761-12b6-4012-94ec-c652da5f0d4b",
   "metadata": {},
   "outputs": [],
   "source": []
  },
  {
   "cell_type": "code",
   "execution_count": null,
   "id": "92748899-3b70-47a8-b856-8e638b9f50f9",
   "metadata": {},
   "outputs": [],
   "source": []
  },
  {
   "cell_type": "code",
   "execution_count": null,
   "id": "6ecdcbd4-b503-4d3f-93d9-d87801ab53f1",
   "metadata": {},
   "outputs": [],
   "source": []
  },
  {
   "cell_type": "code",
   "execution_count": null,
   "id": "6c80b67a-8624-4f82-823b-47b98b140fde",
   "metadata": {},
   "outputs": [],
   "source": []
  },
  {
   "cell_type": "code",
   "execution_count": null,
   "id": "e57605f7-d0d5-4e27-adb0-fa06ad2a9ded",
   "metadata": {},
   "outputs": [],
   "source": []
  },
  {
   "cell_type": "code",
   "execution_count": null,
   "id": "03639f42-6c6e-44b1-9898-54067b344cdb",
   "metadata": {},
   "outputs": [],
   "source": []
  },
  {
   "cell_type": "code",
   "execution_count": null,
   "id": "394efc53-9d79-49a2-82f1-6fc2c845ad32",
   "metadata": {},
   "outputs": [],
   "source": []
  },
  {
   "cell_type": "code",
   "execution_count": null,
   "id": "f1534633-a6e9-4f8a-a736-33c93e34a678",
   "metadata": {},
   "outputs": [],
   "source": []
  },
  {
   "cell_type": "code",
   "execution_count": null,
   "id": "43894387-dde0-4a8d-9ac3-50ad711e15b8",
   "metadata": {},
   "outputs": [],
   "source": []
  },
  {
   "cell_type": "code",
   "execution_count": null,
   "id": "84c4c87d-b175-4076-82f1-531c49c5a109",
   "metadata": {},
   "outputs": [],
   "source": []
  },
  {
   "cell_type": "code",
   "execution_count": null,
   "id": "cef55ea7-502b-44a0-ad91-4498ef29eafa",
   "metadata": {},
   "outputs": [],
   "source": []
  },
  {
   "cell_type": "code",
   "execution_count": null,
   "id": "44cb831d-129f-40c9-b81e-46902016dcdc",
   "metadata": {},
   "outputs": [],
   "source": []
  },
  {
   "cell_type": "code",
   "execution_count": null,
   "id": "d693bb98-cae1-447a-95a9-d8ad6ae4c329",
   "metadata": {},
   "outputs": [],
   "source": []
  },
  {
   "cell_type": "code",
   "execution_count": null,
   "id": "340118bb-8744-4650-877d-1dd04f2f2aa9",
   "metadata": {},
   "outputs": [],
   "source": []
  }
 ],
 "metadata": {
  "kernelspec": {
   "display_name": "Python [conda env:.conda-py3.7] *",
   "language": "python",
   "name": "conda-env-.conda-py3.7-py"
  },
  "language_info": {
   "codemirror_mode": {
    "name": "ipython",
    "version": 3
   },
   "file_extension": ".py",
   "mimetype": "text/x-python",
   "name": "python",
   "nbconvert_exporter": "python",
   "pygments_lexer": "ipython3",
   "version": "3.7.1"
  }
 },
 "nbformat": 4,
 "nbformat_minor": 5
}
