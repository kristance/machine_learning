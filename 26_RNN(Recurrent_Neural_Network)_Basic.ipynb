{
 "cells": [
  {
   "cell_type": "code",
   "execution_count": 1,
   "id": "532709cc-b398-44cc-90e2-31ddbb3cc711",
   "metadata": {
    "tags": []
   },
   "outputs": [
    {
     "name": "stdout",
     "output_type": "stream",
     "text": [
      "WARNING:tensorflow:From C:\\Users\\tj\\.conda\\envs\\py3.7\\lib\\site-packages\\tensorflow\\python\\compat\\v2_compat.py:107: disable_resource_variables (from tensorflow.python.ops.variable_scope) is deprecated and will be removed in a future version.\n",
      "Instructions for updating:\n",
      "non-resource variables are not supported in the long term\n"
     ]
    }
   ],
   "source": [
    "import warnings\n",
    "warnings.filterwarnings(action='ignore')\n",
    "%config Completer.use_jedi = False\n",
    "import tensorflow.compat.v1 as tf\n",
    "tf.disable_v2_behavior()\n",
    "import numpy as np"
   ]
  },
  {
   "cell_type": "markdown",
   "id": "67502f22-c626-4891-9dee-cbfe1e39c01e",
   "metadata": {},
   "source": [
    "***\n",
    "RNN(Recurrent_Neural _Network) - 순환 신경망\n",
    "***\n",
    "RNN은 순차적인 데이터를 입력받아 결과값을 도출하는 데 사용하는 딥러닝 모델로  \n",
    "자연어 처리에 상당히 많이 사용되고 이전에 입력된 값들을 고려해서 현재 입력값의 출력값을 결정하는 딥러닝 모델이다.  \n",
    "\n",
    "x는 입력값, y는 출력값, 활성화 함수(tanh)를 거친 값은 상태(출력)을 의미한다.  \n",
    "네모 박스는 셀이라하며 셀 안에서 현재 셀의 입력값과 과거셀의 상태값을 사용해 현재 셀의 상태(출력)값을 계산한다.  \n",
    "현재 셀의 상태값은 현재 셀의 출력값과 동일하며 다음 셀의 이전 상태값으로 사용된다.  \n",
    "\n",
    "상태값을 결정하기 위해서는 다음 그림과 같이 두가지의 가중치가 존재한다.  \n",
    "현재 셀의 상태값은 tanh(입력값 * W<sub>xh</sub> + 이전 셀의 상태값 * W<sub>hh</sub> + 편향값)으로 결정된다.  \n",
    "가중치와 편향값은 최초 무작위로 부여하고 학습과정을 통해 가중치 및 편향값은 목적에 맞게 최적화된다."
   ]
  },
  {
   "cell_type": "markdown",
   "id": "c4c55099-8df8-49f2-a1d7-1292c2f719fe",
   "metadata": {},
   "source": [
    "<img src=\"./RNN.png\" width=\"700px\">"
   ]
  },
  {
   "cell_type": "markdown",
   "id": "e1ea942f-bba3-43e1-97f2-abce2368becc",
   "metadata": {},
   "source": [
    "***\n",
    "tensorflow - RNN 코드 구현\n",
    "***"
   ]
  },
  {
   "cell_type": "code",
   "execution_count": 2,
   "id": "8b13bc2c-74c0-4b8e-9e31-ef6c91f1a1d9",
   "metadata": {
    "tags": []
   },
   "outputs": [
    {
     "name": "stdout",
     "output_type": "stream",
     "text": [
      "입력데이터 -> [[[1. 2.]]]\n",
      "RNN 셀의 갯수 -> 4\n",
      "****************************************************************************************************\n",
      "WARNING:tensorflow:From C:\\Users\\tj\\AppData\\Local\\Temp\\ipykernel_18384\\1439821331.py:22: dynamic_rnn (from tensorflow.python.ops.rnn) is deprecated and will be removed in a future version.\n",
      "Instructions for updating:\n",
      "Please use `keras.layers.RNN(cell)`, which is equivalent to this API\n",
      "WARNING:tensorflow:From C:\\Users\\tj\\.conda\\envs\\py3.7\\lib\\site-packages\\keras\\layers\\rnn\\legacy_cells.py:467: calling Zeros.__init__ (from tensorflow.python.ops.init_ops) with dtype is deprecated and will be removed in a future version.\n",
      "Instructions for updating:\n",
      "Call initializer instance with the dtype argument instead of passing it to the constructor\n",
      "****************************************************************************************************\n",
      "출력값 -> Tensor(\"rnn/transpose_1:0\", shape=(1, 1, 4), dtype=float32)\n",
      "상태값 -> Tensor(\"rnn/while/Exit_3:0\", shape=(1, 4), dtype=float32)\n",
      "****************************************************************************************************\n",
      "가중치 갯수와 편향값의 개수\n",
      "<tf.Variable 'rnn/basic_rnn_cell/kernel:0' shape=(6, 4) dtype=float32_ref>\n",
      "<tf.Variable 'rnn/basic_rnn_cell/bias:0' shape=(4,) dtype=float32_ref>\n"
     ]
    }
   ],
   "source": [
    "inputs = np.array([[[1, 2]]]) #입력데이터\n",
    "#print(inputs) # [[[1 2]]]\n",
    "#print(inputs.shape) # (1, 1, 2)\n",
    "#print(inputs.shape[0]) # 1\n",
    "tf.set_random_seed(35)\n",
    "\n",
    "tf_inputs = tf.constant(inputs, dtype=tf.float32)\n",
    "sess = tf.Session()\n",
    "print('입력데이터 -> {}'.format(sess.run(tf_inputs)))\n",
    "\n",
    "\n",
    "#BasicRNNCell() 객체를 생성할 때 생성자의 인수 num_units로 RNN 셀의 갯수를 지정해서 RNN 객체를 생성한다.\n",
    "rnn_cell = tf.nn.rnn_cell.BasicRNNCell(num_units=4) #위 그림의 네모박스\n",
    "print( 'RNN 셀의 갯수 -> {}'.format(rnn_cell.state_size) )\n",
    "print('*' * 100)\n",
    "\n",
    "# dynamic_rnn() 메소드는 입력값과 RNN셀을 받아서 실행 결과(출력값, 상태값)를 리턴한다.\n",
    "# dynamic_rnn(cell, dtype, inputs)\n",
    "# cell : 실행할 RNN 객체\n",
    "# dtype : 데이터 타입\n",
    "# inputs : RNN 셀에 입력되는 데이터\n",
    "outputs, state = tf.nn.dynamic_rnn(cell=rnn_cell, dtype=tf.float32, inputs=tf_inputs)\n",
    "print('*' * 100)\n",
    "print( '출력값 -> {}'.format(outputs) )\n",
    "print( '상태값 -> {}'.format(state) )\n",
    "print('*' * 100)\n",
    "print( '가중치 갯수와 편향값의 개수' )\n",
    "for v in tf.get_collection(tf.GraphKeys.TRAINABLE_VARIABLES) :\n",
    "     print(v)"
   ]
  },
  {
   "cell_type": "code",
   "execution_count": 3,
   "id": "2f3a086c-e08f-45bf-b314-3a18cf69e92a",
   "metadata": {
    "tags": []
   },
   "outputs": [
    {
     "name": "stdout",
     "output_type": "stream",
     "text": [
      "['rnn/basic_rnn_cell/kernel:0', 'rnn/basic_rnn_cell/bias:0']\n",
      "출력값 -> [[[-0.7551901  -0.10510498 -0.40611452  0.17652836]]]\n",
      "최종 상태값 -> [[-0.7551901  -0.10510498 -0.40611452  0.17652836]]\n",
      "가중치 -> rnn/basic_rnn_cell/kernel:0\n",
      "[[ 0.39129794  0.27990448 -0.03417063 -0.13734835]\n",
      " [-0.6881115  -0.19269955 -0.19838947  0.15787274]\n",
      " [-0.3503854  -0.74573535  0.42230952  0.06174737]\n",
      " [-0.07638937  0.737661   -0.0250259   0.22168279]\n",
      " [ 0.6998607   0.48419607  0.55390215  0.55799115]\n",
      " [ 0.26617455  0.20661819 -0.65159154 -0.75656563]]\n",
      "편향값 -> rnn/basic_rnn_cell/bias:0\n",
      "[0. 0. 0. 0.]\n"
     ]
    }
   ],
   "source": [
    "variable_name = [vari.name for vari in tf.trainable_variables()]\n",
    "print(variable_name)\n",
    "with tf.Session() as sess:\n",
    "     sess.run(tf.global_variables_initializer())\n",
    "     outputs_, state_ = sess.run([outputs, state])\n",
    "     # 출력값과 상태값은 같은 값이고, 상태값이 다음 RNN 셀로 전달된다.\n",
    "     print( '출력값 -> {}'.format(outputs_) )\n",
    "     print( '최종 상태값 -> {}'.format(state_) )\n",
    "     \n",
    "     values = sess.run(variable_name)\n",
    "     print('가중치 -> ', variable_name[0], '\\n', values[0], sep='')\n",
    "     print('편향값 -> ', variable_name[1], '\\n', values[1], sep='')"
   ]
  },
  {
   "cell_type": "markdown",
   "id": "266002e6-fd52-4c5d-841f-c692148eab8a",
   "metadata": {},
   "source": [
    "***\n",
    "RNN 셀은 출력값과 상태값이 동일하다.  \n",
    "RNN 셀이 1개일 경우 가중치는 3개의 행과 1개의 열을 가지고, 편향값은 1개가 필요하다.  \n",
    "RNN 셀이 2개일 경우 가중치는 4개의 행과 2개의 열을 가지고, 편향값은 2개가 필요하다.  \n",
    "RNN 셀이 3개일 경우 가중치는 5개의 행과 3개의 열을 가지고, 편향값은 3개가 필요하다.  \n",
    "RNN 셀이 4개일 경우 가중치는 6개의 행과 4개의 열을 가지고, 편향값은 4개가 필요하다.  \n",
    "...  \n",
    "RNN 셀이 N개일 경우 가중치는 N+2개의 행과 N개의 열을 가지고, 편향값은 N개가 필요하다.  \n",
    "***"
   ]
  },
  {
   "cell_type": "code",
   "execution_count": null,
   "id": "51b610f9-d28d-4ee2-803f-c886dc87384c",
   "metadata": {},
   "outputs": [],
   "source": []
  },
  {
   "cell_type": "code",
   "execution_count": null,
   "id": "5a504878-4699-4fe0-9854-ec6a20d67559",
   "metadata": {},
   "outputs": [],
   "source": []
  },
  {
   "cell_type": "code",
   "execution_count": null,
   "id": "9a7c74d3-a05a-4a59-bde5-8b402f1c1905",
   "metadata": {},
   "outputs": [],
   "source": []
  },
  {
   "cell_type": "code",
   "execution_count": null,
   "id": "7e15e9d4-8642-4df4-93dd-dd3433b425aa",
   "metadata": {},
   "outputs": [],
   "source": []
  },
  {
   "cell_type": "code",
   "execution_count": null,
   "id": "38ef45a5-c002-42fe-bf7a-8e2dde5a6305",
   "metadata": {},
   "outputs": [],
   "source": []
  },
  {
   "cell_type": "code",
   "execution_count": null,
   "id": "d4cfe9bb-0a68-42f9-9216-3eafb3b6beca",
   "metadata": {},
   "outputs": [],
   "source": []
  },
  {
   "cell_type": "code",
   "execution_count": null,
   "id": "461c86cf-c894-426c-bbe1-bcb302a67978",
   "metadata": {},
   "outputs": [],
   "source": []
  },
  {
   "cell_type": "code",
   "execution_count": null,
   "id": "6a364f03-dbfd-49b8-945c-bebd6f3fb688",
   "metadata": {},
   "outputs": [],
   "source": []
  },
  {
   "cell_type": "code",
   "execution_count": null,
   "id": "60007c0b-7eab-499e-81b7-676e1a84fa70",
   "metadata": {},
   "outputs": [],
   "source": []
  },
  {
   "cell_type": "code",
   "execution_count": null,
   "id": "bc522a21-6625-47d9-b95e-c241c8737eef",
   "metadata": {},
   "outputs": [],
   "source": []
  },
  {
   "cell_type": "code",
   "execution_count": null,
   "id": "9534f020-1b83-4465-a3ba-c06121294853",
   "metadata": {},
   "outputs": [],
   "source": []
  },
  {
   "cell_type": "code",
   "execution_count": null,
   "id": "85b41ae1-e4dc-4a10-a277-00bb5814b878",
   "metadata": {},
   "outputs": [],
   "source": []
  },
  {
   "cell_type": "code",
   "execution_count": null,
   "id": "7e52e07b-5700-44cf-9cce-ef8a65ee1f33",
   "metadata": {},
   "outputs": [],
   "source": []
  },
  {
   "cell_type": "code",
   "execution_count": null,
   "id": "0a7e7d1e-9cae-4a90-a525-8e6510fe4379",
   "metadata": {},
   "outputs": [],
   "source": []
  },
  {
   "cell_type": "code",
   "execution_count": null,
   "id": "17d95c52-162f-4a73-b0a2-11b6c8028c77",
   "metadata": {},
   "outputs": [],
   "source": []
  },
  {
   "cell_type": "code",
   "execution_count": null,
   "id": "2d0838e0-9850-4ab7-9598-62467b146f34",
   "metadata": {},
   "outputs": [],
   "source": []
  },
  {
   "cell_type": "code",
   "execution_count": null,
   "id": "fbb430d2-ee9b-4899-8502-ce489e2adcbd",
   "metadata": {},
   "outputs": [],
   "source": []
  },
  {
   "cell_type": "code",
   "execution_count": null,
   "id": "8c684e1f-c058-4ae8-9b9f-e9973ee788cc",
   "metadata": {},
   "outputs": [],
   "source": []
  },
  {
   "cell_type": "code",
   "execution_count": null,
   "id": "b26c9cc9-2916-4bdf-bfa0-bfef54876b22",
   "metadata": {},
   "outputs": [],
   "source": []
  },
  {
   "cell_type": "code",
   "execution_count": null,
   "id": "86cdcf7b-4edb-46dc-9eae-76c39f41ec91",
   "metadata": {},
   "outputs": [],
   "source": []
  },
  {
   "cell_type": "code",
   "execution_count": null,
   "id": "45aa93b9-e485-410f-9d3a-48ba7e770beb",
   "metadata": {},
   "outputs": [],
   "source": []
  },
  {
   "cell_type": "code",
   "execution_count": null,
   "id": "c63da57f-7b7b-4fbe-9b9b-1f29650e1339",
   "metadata": {},
   "outputs": [],
   "source": []
  },
  {
   "cell_type": "code",
   "execution_count": null,
   "id": "e358c23e-985f-465c-8b66-fe963382fe23",
   "metadata": {},
   "outputs": [],
   "source": []
  },
  {
   "cell_type": "code",
   "execution_count": null,
   "id": "667bccd6-14d5-44ff-bb9e-c10c5e00ef14",
   "metadata": {},
   "outputs": [],
   "source": []
  },
  {
   "cell_type": "code",
   "execution_count": null,
   "id": "f9379384-050f-4650-90e8-2c3c18815bf9",
   "metadata": {},
   "outputs": [],
   "source": []
  },
  {
   "cell_type": "code",
   "execution_count": null,
   "id": "60b408fd-5f52-49e5-a6e5-fd6c160d1640",
   "metadata": {},
   "outputs": [],
   "source": []
  },
  {
   "cell_type": "code",
   "execution_count": null,
   "id": "998c3e5c-20a8-4cd8-905d-aa402df1946d",
   "metadata": {},
   "outputs": [],
   "source": []
  },
  {
   "cell_type": "code",
   "execution_count": null,
   "id": "1f925153-eb13-4f5f-8a48-6c725ef351c4",
   "metadata": {},
   "outputs": [],
   "source": []
  },
  {
   "cell_type": "code",
   "execution_count": null,
   "id": "1b7c1437-ecb3-43ff-aeb1-3173731a2046",
   "metadata": {},
   "outputs": [],
   "source": []
  },
  {
   "cell_type": "code",
   "execution_count": null,
   "id": "4443ec62-8681-48d4-9d33-ea0041fe7756",
   "metadata": {},
   "outputs": [],
   "source": []
  },
  {
   "cell_type": "code",
   "execution_count": null,
   "id": "afd3e490-26ca-4c11-87c7-542fb27db57f",
   "metadata": {},
   "outputs": [],
   "source": []
  },
  {
   "cell_type": "code",
   "execution_count": null,
   "id": "38b22add-ee38-4b7f-b4d6-9c2587699a1d",
   "metadata": {},
   "outputs": [],
   "source": []
  },
  {
   "cell_type": "code",
   "execution_count": null,
   "id": "2555e290-34a0-469c-bcef-1566efc5109b",
   "metadata": {},
   "outputs": [],
   "source": []
  },
  {
   "cell_type": "code",
   "execution_count": null,
   "id": "0f2f3040-c622-4912-8c27-3bbbfd5f8b12",
   "metadata": {},
   "outputs": [],
   "source": []
  },
  {
   "cell_type": "code",
   "execution_count": null,
   "id": "e939ea80-654d-4bd2-9faa-c1b35882f814",
   "metadata": {},
   "outputs": [],
   "source": []
  },
  {
   "cell_type": "code",
   "execution_count": null,
   "id": "89f26c86-a013-4ccd-b1c3-fa8f0bb066ba",
   "metadata": {},
   "outputs": [],
   "source": []
  },
  {
   "cell_type": "code",
   "execution_count": null,
   "id": "227fec7e-ac1f-4e1d-9b97-3ee4bb7abdbc",
   "metadata": {},
   "outputs": [],
   "source": []
  },
  {
   "cell_type": "code",
   "execution_count": null,
   "id": "4bff5091-0a0c-44e8-8045-b3c9600065b0",
   "metadata": {},
   "outputs": [],
   "source": []
  },
  {
   "cell_type": "code",
   "execution_count": null,
   "id": "4f1b6ea3-b67b-4193-a784-15b260eb784b",
   "metadata": {},
   "outputs": [],
   "source": []
  },
  {
   "cell_type": "code",
   "execution_count": null,
   "id": "f5a95ff5-472d-44eb-8d07-8d1d44d85d26",
   "metadata": {},
   "outputs": [],
   "source": []
  },
  {
   "cell_type": "code",
   "execution_count": null,
   "id": "2f6956e7-c9b6-4210-81b7-865bb4574ab3",
   "metadata": {},
   "outputs": [],
   "source": []
  },
  {
   "cell_type": "code",
   "execution_count": null,
   "id": "ea70c3f3-c2d1-4448-8c82-873d2bb28a18",
   "metadata": {},
   "outputs": [],
   "source": []
  },
  {
   "cell_type": "code",
   "execution_count": null,
   "id": "237baf36-8a62-419c-9789-49f46e73c985",
   "metadata": {},
   "outputs": [],
   "source": []
  },
  {
   "cell_type": "code",
   "execution_count": null,
   "id": "18a64411-ada8-414b-b23f-6efa514fcc47",
   "metadata": {},
   "outputs": [],
   "source": []
  },
  {
   "cell_type": "code",
   "execution_count": null,
   "id": "2a02f6f2-7a0f-49d5-843c-0b28da88bff3",
   "metadata": {},
   "outputs": [],
   "source": []
  },
  {
   "cell_type": "code",
   "execution_count": null,
   "id": "a749338f-62aa-45bc-bceb-fce6d3e6a11a",
   "metadata": {},
   "outputs": [],
   "source": []
  },
  {
   "cell_type": "code",
   "execution_count": null,
   "id": "2cfb6457-d323-4cc3-8f92-fb1f5bba55d8",
   "metadata": {},
   "outputs": [],
   "source": []
  },
  {
   "cell_type": "code",
   "execution_count": null,
   "id": "00dd9738-6d07-4143-8eda-ffbcd19d0a16",
   "metadata": {},
   "outputs": [],
   "source": []
  },
  {
   "cell_type": "code",
   "execution_count": null,
   "id": "3022ad03-15d6-476d-972d-d1ea920147e0",
   "metadata": {},
   "outputs": [],
   "source": []
  },
  {
   "cell_type": "code",
   "execution_count": null,
   "id": "7f38882c-e6a3-4864-bdce-5b95cbf85ba6",
   "metadata": {},
   "outputs": [],
   "source": []
  },
  {
   "cell_type": "code",
   "execution_count": null,
   "id": "2f23f989-3fce-4376-bfb0-e3efbda33b61",
   "metadata": {},
   "outputs": [],
   "source": []
  },
  {
   "cell_type": "code",
   "execution_count": null,
   "id": "dc89a39c-6337-4062-ba17-18aafccdf8ad",
   "metadata": {},
   "outputs": [],
   "source": []
  },
  {
   "cell_type": "code",
   "execution_count": null,
   "id": "2d552cca-4156-4dea-b060-133070a21c8a",
   "metadata": {},
   "outputs": [],
   "source": []
  },
  {
   "cell_type": "code",
   "execution_count": null,
   "id": "286aa661-2ee7-4e2d-86aa-6f20917c6837",
   "metadata": {},
   "outputs": [],
   "source": []
  }
 ],
 "metadata": {
  "kernelspec": {
   "display_name": "Python [conda env:.conda-py3.7] *",
   "language": "python",
   "name": "conda-env-.conda-py3.7-py"
  },
  "language_info": {
   "codemirror_mode": {
    "name": "ipython",
    "version": 3
   },
   "file_extension": ".py",
   "mimetype": "text/x-python",
   "name": "python",
   "nbconvert_exporter": "python",
   "pygments_lexer": "ipython3",
   "version": "3.7.1"
  }
 },
 "nbformat": 4,
 "nbformat_minor": 5
}
