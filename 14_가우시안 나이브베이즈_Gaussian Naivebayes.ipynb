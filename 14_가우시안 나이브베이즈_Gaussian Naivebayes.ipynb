{
 "cells": [
  {
   "cell_type": "code",
   "execution_count": 16,
   "id": "210032ff",
   "metadata": {},
   "outputs": [],
   "source": [
    "%config Completer.use_jedi = False                                       \n",
    "import warnings                                                             \n",
    "warnings.filterwarnings(action=\"ignore\")\n",
    "import numpy as np\n",
    "import pandas as pd                                                         \n",
    "import matplotlib.pyplot as plt                                            \n",
    "import matplotlib as mpl                                                    \n",
    "mpl.rcParams['axes.unicode_minus'] = False                                  \n",
    "#plt.rcParams('font.family') = 'RIDIBatang'                          \n",
    "#plt.rcParams('font.size') = 16                                             \n",
    "import matplotlib.font_manager as fm\n",
    "font = 'C:\\\\Windows\\\\Fonts\\\\RIDIBatang.otf'\n",
    "fontprop = fm.FontProperties(fname=font, size=16).get_name()\n",
    "plt.rc('font', family = 'RIDIBatang')\n",
    "plt.rc('font', size = 16)\n",
    "import seaborn as sns                                                       \n",
    "from sklearn.model_selection import train_test_split\n",
    "from sklearn.metrics import accuracy_score, confusion_matrix, classification_report"
   ]
  },
  {
   "cell_type": "markdown",
   "id": "4648336c",
   "metadata": {},
   "source": [
    "***\n",
    "나이브 베이즈(Naive Bayes)\n",
    "***\n",
    "확률 기반 머신러닝 분류 알고리즘으로 데이터를 나이브(단순)하고 독립적인 사건으로 가정하고,  \n",
    "이 독립 사건들을 베이즈 이론에 대입시켜 가장 높은 확률의 레이블로 분류하는 알고리즘이다.  "
   ]
  },
  {
   "cell_type": "markdown",
   "id": "24c975b3",
   "metadata": {},
   "source": [
    "***\n",
    "가우시안 나이브베이즈(Gaussian NaiveBayes)\n",
    "***\n",
    "분류 특징들의 값이 정규(가우시안) 분포되어 있다는 가정하에 조건부 확률을 계산하며 \n",
    "연속적인 성질이 있는 특성 데이터를 분류하는데 적합하다.\n",
    "\n",
    "P(A) : 어떤 사건 A가 발생할 확률  \n",
    "P(B) : 어떤 사건 B가 발생할 확률  \n",
    "P(A|B) : 어떤 사건 B가 발생한다는 가정하에 사건 A가 발생할 확률\n",
    "P(B|A) : 어떤 사건 A가 발생한다는 가정하에 사건 B가 발생할 확률\n",
    "\n",
    "$$P(A|B) = \\frac{P(B|A)P(A)}{P(B)}$$\n",
    "\n",
    "***\n",
    "\n",
    "<img src=\"./나이브베이즈 (1).png\">\n",
    "<img src=\"./나이브베이즈 (2).png\">\n",
    "<img src=\"./나이브베이즈 (3).png\">"
   ]
  },
  {
   "cell_type": "markdown",
   "id": "912d56f6",
   "metadata": {},
   "source": [
    "***\n",
    "가우시안 나이브 베이즈를 활용한 붓꽃(iris) 분류\n",
    "***\n",
    "Scikit-learn이 제공하는 iris 데이터를 활용해 데이터의 특징에 따른 붓꽃의 종류를 구분한다."
   ]
  },
  {
   "cell_type": "code",
   "execution_count": 2,
   "id": "a5a118a6",
   "metadata": {},
   "outputs": [],
   "source": [
    "#Scikit-learn이 제공하는 붓꽃 데이터를 불러오기 위해 import 한다.\n",
    "from sklearn.datasets import load_iris"
   ]
  },
  {
   "cell_type": "markdown",
   "id": "973dffc8",
   "metadata": {},
   "source": [
    "***\n",
    "데이터 획득\n",
    "***\n",
    "Scikit-learn에서 제공하는 iris dataset을 사용한다."
   ]
  },
  {
   "cell_type": "code",
   "execution_count": 3,
   "id": "19f5981c",
   "metadata": {
    "scrolled": true
   },
   "outputs": [],
   "source": [
    "dataset = load_iris() # Scikit-learn이 제공하는 iris dataset을 불러온다.\n",
    "#print(type(dataset))\n",
    "#print(dataset)\n",
    "#print(dataset.data) # Scikit-learn이 제공하는 dataset에서 데이터(피쳐)만 얻어온다.\n",
    "#'sepal length (cm)' : 꽃받침 길이\n",
    "#'sepal width (cm)' : 꽃받침 너비\n",
    "#'petal length (cm)': 꽃잎 길이\n",
    "#'petal width (cm)' : 꽃잎 너비\n",
    "#print(dataset.feature_names) #Scikit-learn이 제공하는 dataset에서 피쳐 이름만 얻어온다.\n",
    "#print(dataset.target) #Scikit-learn이 제공하는 dataset에서 결과(레이블)만 얻어온다.\n",
    "#'setosa' : 0\n",
    "#'versicolor' : 1\n",
    "#'virginica' : 2\n",
    "#print(dataset.target_names) #Scikit-learn이 제공하는 dataset에서 레이블 이름만 얻어온다."
   ]
  },
  {
   "cell_type": "code",
   "execution_count": 4,
   "id": "36e386f3",
   "metadata": {},
   "outputs": [
    {
     "data": {
      "text/html": [
       "<div>\n",
       "<style scoped>\n",
       "    .dataframe tbody tr th:only-of-type {\n",
       "        vertical-align: middle;\n",
       "    }\n",
       "\n",
       "    .dataframe tbody tr th {\n",
       "        vertical-align: top;\n",
       "    }\n",
       "\n",
       "    .dataframe thead th {\n",
       "        text-align: right;\n",
       "    }\n",
       "</style>\n",
       "<table border=\"1\" class=\"dataframe\">\n",
       "  <thead>\n",
       "    <tr style=\"text-align: right;\">\n",
       "      <th></th>\n",
       "      <th>sepal length (cm)</th>\n",
       "      <th>sepal width (cm)</th>\n",
       "      <th>petal length (cm)</th>\n",
       "      <th>petal width (cm)</th>\n",
       "      <th>target1</th>\n",
       "      <th>target</th>\n",
       "    </tr>\n",
       "  </thead>\n",
       "  <tbody>\n",
       "    <tr>\n",
       "      <th>0</th>\n",
       "      <td>5.1</td>\n",
       "      <td>3.5</td>\n",
       "      <td>1.4</td>\n",
       "      <td>0.2</td>\n",
       "      <td>0</td>\n",
       "      <td>setosa</td>\n",
       "    </tr>\n",
       "    <tr>\n",
       "      <th>1</th>\n",
       "      <td>4.9</td>\n",
       "      <td>3.0</td>\n",
       "      <td>1.4</td>\n",
       "      <td>0.2</td>\n",
       "      <td>0</td>\n",
       "      <td>setosa</td>\n",
       "    </tr>\n",
       "    <tr>\n",
       "      <th>2</th>\n",
       "      <td>4.7</td>\n",
       "      <td>3.2</td>\n",
       "      <td>1.3</td>\n",
       "      <td>0.2</td>\n",
       "      <td>0</td>\n",
       "      <td>setosa</td>\n",
       "    </tr>\n",
       "    <tr>\n",
       "      <th>3</th>\n",
       "      <td>4.6</td>\n",
       "      <td>3.1</td>\n",
       "      <td>1.5</td>\n",
       "      <td>0.2</td>\n",
       "      <td>0</td>\n",
       "      <td>setosa</td>\n",
       "    </tr>\n",
       "    <tr>\n",
       "      <th>4</th>\n",
       "      <td>5.0</td>\n",
       "      <td>3.6</td>\n",
       "      <td>1.4</td>\n",
       "      <td>0.2</td>\n",
       "      <td>0</td>\n",
       "      <td>setosa</td>\n",
       "    </tr>\n",
       "    <tr>\n",
       "      <th>...</th>\n",
       "      <td>...</td>\n",
       "      <td>...</td>\n",
       "      <td>...</td>\n",
       "      <td>...</td>\n",
       "      <td>...</td>\n",
       "      <td>...</td>\n",
       "    </tr>\n",
       "    <tr>\n",
       "      <th>145</th>\n",
       "      <td>6.7</td>\n",
       "      <td>3.0</td>\n",
       "      <td>5.2</td>\n",
       "      <td>2.3</td>\n",
       "      <td>2</td>\n",
       "      <td>virginica</td>\n",
       "    </tr>\n",
       "    <tr>\n",
       "      <th>146</th>\n",
       "      <td>6.3</td>\n",
       "      <td>2.5</td>\n",
       "      <td>5.0</td>\n",
       "      <td>1.9</td>\n",
       "      <td>2</td>\n",
       "      <td>virginica</td>\n",
       "    </tr>\n",
       "    <tr>\n",
       "      <th>147</th>\n",
       "      <td>6.5</td>\n",
       "      <td>3.0</td>\n",
       "      <td>5.2</td>\n",
       "      <td>2.0</td>\n",
       "      <td>2</td>\n",
       "      <td>virginica</td>\n",
       "    </tr>\n",
       "    <tr>\n",
       "      <th>148</th>\n",
       "      <td>6.2</td>\n",
       "      <td>3.4</td>\n",
       "      <td>5.4</td>\n",
       "      <td>2.3</td>\n",
       "      <td>2</td>\n",
       "      <td>virginica</td>\n",
       "    </tr>\n",
       "    <tr>\n",
       "      <th>149</th>\n",
       "      <td>5.9</td>\n",
       "      <td>3.0</td>\n",
       "      <td>5.1</td>\n",
       "      <td>1.8</td>\n",
       "      <td>2</td>\n",
       "      <td>virginica</td>\n",
       "    </tr>\n",
       "  </tbody>\n",
       "</table>\n",
       "<p>150 rows × 6 columns</p>\n",
       "</div>"
      ],
      "text/plain": [
       "     sepal length (cm)  sepal width (cm)  petal length (cm)  petal width (cm)  \\\n",
       "0                  5.1               3.5                1.4               0.2   \n",
       "1                  4.9               3.0                1.4               0.2   \n",
       "2                  4.7               3.2                1.3               0.2   \n",
       "3                  4.6               3.1                1.5               0.2   \n",
       "4                  5.0               3.6                1.4               0.2   \n",
       "..                 ...               ...                ...               ...   \n",
       "145                6.7               3.0                5.2               2.3   \n",
       "146                6.3               2.5                5.0               1.9   \n",
       "147                6.5               3.0                5.2               2.0   \n",
       "148                6.2               3.4                5.4               2.3   \n",
       "149                5.9               3.0                5.1               1.8   \n",
       "\n",
       "     target1     target  \n",
       "0          0     setosa  \n",
       "1          0     setosa  \n",
       "2          0     setosa  \n",
       "3          0     setosa  \n",
       "4          0     setosa  \n",
       "..       ...        ...  \n",
       "145        2  virginica  \n",
       "146        2  virginica  \n",
       "147        2  virginica  \n",
       "148        2  virginica  \n",
       "149        2  virginica  \n",
       "\n",
       "[150 rows x 6 columns]"
      ]
     },
     "execution_count": 4,
     "metadata": {},
     "output_type": "execute_result"
    }
   ],
   "source": [
    "df= pd.DataFrame(dataset.data, columns=dataset.feature_names)\n",
    "df['target1'] = dataset.target\n",
    "\n",
    "'''\n",
    "df['target2'] = np.NaN\n",
    "df.loc[df.target1 == 0, 'target2'] = 'setosa'\n",
    "df.loc[df.target1 == 1, 'target2'] = 'versicolor'\n",
    "df.loc[df.target1 == 2, 'target2'] = 'virginica'\n",
    "'''\n",
    "\n",
    "df['target'] = df.target1.map({0 : 'setosa', 1 : 'versicolor', 2: 'virginica'})\n",
    "#df['target2'] = pd.Series(dataset.target).map({0 : 'setosa', 1 : 'versicolor', 2: 'virginica'})\n",
    "#df.to_csv('./data/iris_df.csv')\n",
    "df"
   ]
  },
  {
   "cell_type": "markdown",
   "id": "6bd630a4",
   "metadata": {},
   "source": [
    "***\n",
    "데이터 시각화\n",
    "***"
   ]
  },
  {
   "cell_type": "code",
   "execution_count": 5,
   "id": "16cd23c7",
   "metadata": {},
   "outputs": [],
   "source": [
    "setosa_df = df[df.target == 'setosa']\n",
    "versicolor_df = df[df.target == 'versicolor']\n",
    "virginica_df = df[df.target == 'virginica']"
   ]
  },
  {
   "cell_type": "code",
   "execution_count": 6,
   "id": "0dd9f26b",
   "metadata": {},
   "outputs": [
    {
     "data": {
      "image/png": "[encoded data removed]",
      "text/plain": [
       "<Figure size 500x500 with 2 Axes>"
      ]
     },
     "metadata": {},
     "output_type": "display_data"
    }
   ],
   "source": [
    "#plt.figure(figsize=[8, 6])\n",
    "setosa_df['sepal length (cm)'].plot(kind='hist')\n",
    "setosa_df['sepal length (cm)'].plot(kind='kde', secondary_y=True, figsize=[5, 5], title='setosa 꽃받침 길이')\n",
    "plt.show()"
   ]
  },
  {
   "cell_type": "code",
   "execution_count": 7,
   "id": "a87c4c6f",
   "metadata": {},
   "outputs": [
    {
     "data": {
      "image/png": "[encoded data removed]",
      "text/plain": [
       "<Figure size 500x500 with 2 Axes>"
      ]
     },
     "metadata": {},
     "output_type": "display_data"
    }
   ],
   "source": [
    "versicolor_df['sepal length (cm)'].plot(kind='hist')\n",
    "versicolor_df['sepal length (cm)'].plot(kind='kde', secondary_y=True, figsize=[5, 5], title='versicolor 꽃받침 길이')\n",
    "plt.show()"
   ]
  },
  {
   "cell_type": "code",
   "execution_count": 8,
   "id": "c64207c4",
   "metadata": {},
   "outputs": [
    {
     "data": {
      "image/png": "[encoded data removed]",
      "text/plain": [
       "<Figure size 500x500 with 2 Axes>"
      ]
     },
     "metadata": {},
     "output_type": "display_data"
    }
   ],
   "source": [
    "virginica_df['sepal length (cm)'].plot(kind='hist')\n",
    "virginica_df['sepal length (cm)'].plot(kind='kde', secondary_y=True, figsize=[5, 5], title='virginica 꽃받침 길이')\n",
    "plt.show()"
   ]
  },
  {
   "cell_type": "markdown",
   "id": "602dc5e8",
   "metadata": {},
   "source": [
    "***\n",
    "데이터 다듬기\n",
    "***"
   ]
  },
  {
   "cell_type": "code",
   "execution_count": 9,
   "id": "a6f18124",
   "metadata": {},
   "outputs": [
    {
     "name": "stdout",
     "output_type": "stream",
     "text": [
      "(120, 4) (120,) (30, 4) (30,)\n"
     ]
    }
   ],
   "source": [
    "# 가우시안 나이브 베이즈 모델 학습을 시키기 위해 train 데이터와 test 데이터로 나눈다.\n",
    "\n",
    "#피쳐와 레이블이 데이터프레임 한 개에 모두 들어있을 경우 아래와 같이 학습 데이터와 테스트 데이터를 나눈다.\n",
    "#train, test = train_test_split(데이터 프레임, train_size=0.8)\n",
    "#x_train = train[[피쳐컬럼1, 피쳐컬럼2, ....]]\n",
    "#y_train = train[[레이블컬럼1, 레이블컬럼2, ....]]\n",
    "#x_test = test[[피쳐컬럼1, 피쳐컬럼2, ....]]\n",
    "#y_test = test[[레이블컬럼1, 레이블컬럼2, ....]]\n",
    "\n",
    "# 읽어들인 iris dataset은 피쳐(dataset.data)와 레이블(dataset.target)이 별도로 존재한다.\n",
    "#피쳐와 레이블이 뼐도로 졵재할 경우 같이 학습 데이터와 테스트 데이터를 나눈다.\n",
    "# x_train : 학습 데이터의 피쳐(독립변수), y_train : 학습 데이터의 레이블(종속변수)\n",
    "# x_test : 테스트 데이터의 피쳐(독립변수), y_test : 테스트 데이터의 레이블(종속변수)\n",
    "#x_train, x_test, y_train, y_test = train_test_split(피쳐, 레이블, train_size=0.8)\n",
    "x_train, x_test, y_train, y_test = train_test_split(dataset.data, dataset.target, train_size=0.8) # training, test 할 데이터 나누기;데이터파일이 다수일때\n",
    "print(x_train.shape, y_train.shape, x_test.shape, y_test.shape)"
   ]
  },
  {
   "cell_type": "markdown",
   "id": "8fb779b9",
   "metadata": {},
   "source": [
    "***\n",
    "가우시안 나이브베이즈 모델을 만들고 학습시키기\n",
    "***"
   ]
  },
  {
   "cell_type": "code",
   "execution_count": 10,
   "id": "f8c507a3",
   "metadata": {},
   "outputs": [],
   "source": [
    "#가우시안 나이브베이즈 모델을 사용하기 위해 import 한다.\n",
    "from sklearn.naive_bayes import GaussianNB"
   ]
  },
  {
   "cell_type": "code",
   "execution_count": 11,
   "id": "1b5eee96",
   "metadata": {},
   "outputs": [],
   "source": [
    "#가우시안 나이브베이즈 모델을 만들고 학습시킨다.\n",
    "#model = GaussianNB() # 가우시안 나이브 베이즈 모델을 만든다.\n",
    "#model.fit(x_train, y_train) #가우시안 나이브 베이즈 모델에 학습 데이터를 넘겨서 학습시킨다.\n",
    "model = GaussianNB().fit(x_train, y_train)"
   ]
  },
  {
   "cell_type": "markdown",
   "id": "18f690d0",
   "metadata": {},
   "source": [
    "***\n",
    "모델테스트\n",
    "***"
   ]
  },
  {
   "cell_type": "code",
   "execution_count": 12,
   "id": "a63ff2e6",
   "metadata": {},
   "outputs": [
    {
     "name": "stdout",
     "output_type": "stream",
     "text": [
      "[1 1 1 2 0 2 2 0 1 0 2 2 2 1 0 2 0 0 1 2 1 2 1 2 1 1 0 1 1 2]\n",
      "정확도 -> 96.67%\n"
     ]
    }
   ],
   "source": [
    "#predict() 메소드의 인수로 테스트 데이터의 피쳐를 넘겨서 예측치를 계산한다.\n",
    "predict = model.predict(x_test)\n",
    "print(predict)\n",
    "#accuracy_score() 메소드의 인수로 테스트 데이터의 레이블(실제값, 실측치, 결과)과 예측값(예측 결과값)을 넘겨서 정확도를 계산한다.\n",
    "accuracy = accuracy_score(y_test, predict)\n",
    "print('정확도 -> {:6.2%}'.format(accuracy))"
   ]
  },
  {
   "cell_type": "code",
   "execution_count": 17,
   "id": "f26e5aa0",
   "metadata": {},
   "outputs": [
    {
     "name": "stdout",
     "output_type": "stream",
     "text": [
      "[[ 7  0  0]\n",
      " [ 0 11  0]\n",
      " [ 0  1 11]]\n"
     ]
    }
   ],
   "source": [
    "#confusion_matrix() 메소드의 인수로 테스트 데이터의 레이블과 예측값을 넘겨서 혼동 행렬을 출력한다.\n",
    "print(confusion_matrix(y_test, predict))"
   ]
  },
  {
   "cell_type": "code",
   "execution_count": 23,
   "id": "83a5d1c2",
   "metadata": {},
   "outputs": [
    {
     "name": "stdout",
     "output_type": "stream",
     "text": [
      "              precision    recall  f1-score   support\n",
      "\n",
      "           0       1.00      1.00      1.00         7\n",
      "           1       0.92      1.00      0.96        11\n",
      "           2       1.00      0.92      0.96        12\n",
      "\n",
      "    accuracy                           0.97        30\n",
      "   macro avg       0.97      0.97      0.97        30\n",
      "weighted avg       0.97      0.97      0.97        30\n",
      "\n"
     ]
    }
   ],
   "source": [
    "# classification_report() 메소드ㅢ 인수로 테스트 데이터의 레이블과 예측값을 넘겨서 분류 리포트를 출력한다.\n",
    "print(classification_report(y_test, predict))"
   ]
  },
  {
   "cell_type": "code",
   "execution_count": 26,
   "id": "dbaf3a2d",
   "metadata": {
    "scrolled": true
   },
   "outputs": [
    {
     "data": {
      "text/html": [
       "<div>\n",
       "<style scoped>\n",
       "    .dataframe tbody tr th:only-of-type {\n",
       "        vertical-align: middle;\n",
       "    }\n",
       "\n",
       "    .dataframe tbody tr th {\n",
       "        vertical-align: top;\n",
       "    }\n",
       "\n",
       "    .dataframe thead th {\n",
       "        text-align: right;\n",
       "    }\n",
       "</style>\n",
       "<table border=\"1\" class=\"dataframe\">\n",
       "  <thead>\n",
       "    <tr style=\"text-align: right;\">\n",
       "      <th></th>\n",
       "      <th>실제값</th>\n",
       "      <th>예측값</th>\n",
       "    </tr>\n",
       "  </thead>\n",
       "  <tbody>\n",
       "    <tr>\n",
       "      <th>0</th>\n",
       "      <td>1</td>\n",
       "      <td>1</td>\n",
       "    </tr>\n",
       "    <tr>\n",
       "      <th>1</th>\n",
       "      <td>1</td>\n",
       "      <td>1</td>\n",
       "    </tr>\n",
       "    <tr>\n",
       "      <th>2</th>\n",
       "      <td>1</td>\n",
       "      <td>1</td>\n",
       "    </tr>\n",
       "    <tr>\n",
       "      <th>3</th>\n",
       "      <td>2</td>\n",
       "      <td>2</td>\n",
       "    </tr>\n",
       "    <tr>\n",
       "      <th>4</th>\n",
       "      <td>0</td>\n",
       "      <td>0</td>\n",
       "    </tr>\n",
       "    <tr>\n",
       "      <th>5</th>\n",
       "      <td>2</td>\n",
       "      <td>2</td>\n",
       "    </tr>\n",
       "    <tr>\n",
       "      <th>6</th>\n",
       "      <td>2</td>\n",
       "      <td>2</td>\n",
       "    </tr>\n",
       "    <tr>\n",
       "      <th>7</th>\n",
       "      <td>0</td>\n",
       "      <td>0</td>\n",
       "    </tr>\n",
       "    <tr>\n",
       "      <th>8</th>\n",
       "      <td>1</td>\n",
       "      <td>1</td>\n",
       "    </tr>\n",
       "    <tr>\n",
       "      <th>9</th>\n",
       "      <td>0</td>\n",
       "      <td>0</td>\n",
       "    </tr>\n",
       "    <tr>\n",
       "      <th>10</th>\n",
       "      <td>2</td>\n",
       "      <td>2</td>\n",
       "    </tr>\n",
       "    <tr>\n",
       "      <th>11</th>\n",
       "      <td>2</td>\n",
       "      <td>2</td>\n",
       "    </tr>\n",
       "    <tr>\n",
       "      <th>12</th>\n",
       "      <td>2</td>\n",
       "      <td>2</td>\n",
       "    </tr>\n",
       "    <tr>\n",
       "      <th>13</th>\n",
       "      <td>1</td>\n",
       "      <td>1</td>\n",
       "    </tr>\n",
       "    <tr>\n",
       "      <th>14</th>\n",
       "      <td>0</td>\n",
       "      <td>0</td>\n",
       "    </tr>\n",
       "    <tr>\n",
       "      <th>15</th>\n",
       "      <td>2</td>\n",
       "      <td>2</td>\n",
       "    </tr>\n",
       "    <tr>\n",
       "      <th>16</th>\n",
       "      <td>0</td>\n",
       "      <td>0</td>\n",
       "    </tr>\n",
       "    <tr>\n",
       "      <th>17</th>\n",
       "      <td>0</td>\n",
       "      <td>0</td>\n",
       "    </tr>\n",
       "    <tr>\n",
       "      <th>18</th>\n",
       "      <td>2</td>\n",
       "      <td>1</td>\n",
       "    </tr>\n",
       "    <tr>\n",
       "      <th>19</th>\n",
       "      <td>2</td>\n",
       "      <td>2</td>\n",
       "    </tr>\n",
       "    <tr>\n",
       "      <th>20</th>\n",
       "      <td>1</td>\n",
       "      <td>1</td>\n",
       "    </tr>\n",
       "    <tr>\n",
       "      <th>21</th>\n",
       "      <td>2</td>\n",
       "      <td>2</td>\n",
       "    </tr>\n",
       "    <tr>\n",
       "      <th>22</th>\n",
       "      <td>1</td>\n",
       "      <td>1</td>\n",
       "    </tr>\n",
       "    <tr>\n",
       "      <th>23</th>\n",
       "      <td>2</td>\n",
       "      <td>2</td>\n",
       "    </tr>\n",
       "    <tr>\n",
       "      <th>24</th>\n",
       "      <td>1</td>\n",
       "      <td>1</td>\n",
       "    </tr>\n",
       "    <tr>\n",
       "      <th>25</th>\n",
       "      <td>1</td>\n",
       "      <td>1</td>\n",
       "    </tr>\n",
       "    <tr>\n",
       "      <th>26</th>\n",
       "      <td>0</td>\n",
       "      <td>0</td>\n",
       "    </tr>\n",
       "    <tr>\n",
       "      <th>27</th>\n",
       "      <td>1</td>\n",
       "      <td>1</td>\n",
       "    </tr>\n",
       "    <tr>\n",
       "      <th>28</th>\n",
       "      <td>1</td>\n",
       "      <td>1</td>\n",
       "    </tr>\n",
       "    <tr>\n",
       "      <th>29</th>\n",
       "      <td>2</td>\n",
       "      <td>2</td>\n",
       "    </tr>\n",
       "  </tbody>\n",
       "</table>\n",
       "</div>"
      ],
      "text/plain": [
       "    실제값  예측값\n",
       "0     1    1\n",
       "1     1    1\n",
       "2     1    1\n",
       "3     2    2\n",
       "4     0    0\n",
       "5     2    2\n",
       "6     2    2\n",
       "7     0    0\n",
       "8     1    1\n",
       "9     0    0\n",
       "10    2    2\n",
       "11    2    2\n",
       "12    2    2\n",
       "13    1    1\n",
       "14    0    0\n",
       "15    2    2\n",
       "16    0    0\n",
       "17    0    0\n",
       "18    2    1\n",
       "19    2    2\n",
       "20    1    1\n",
       "21    2    2\n",
       "22    1    1\n",
       "23    2    2\n",
       "24    1    1\n",
       "25    1    1\n",
       "26    0    0\n",
       "27    1    1\n",
       "28    1    1\n",
       "29    2    2"
      ]
     },
     "execution_count": 26,
     "metadata": {},
     "output_type": "execute_result"
    }
   ],
   "source": [
    "pd.DataFrame({'실제값' : y_test, '예측값' : predict})"
   ]
  },
  {
   "cell_type": "code",
   "execution_count": null,
   "id": "67258ded",
   "metadata": {},
   "outputs": [],
   "source": []
  },
  {
   "cell_type": "code",
   "execution_count": null,
   "id": "d21a02de",
   "metadata": {},
   "outputs": [],
   "source": []
  },
  {
   "cell_type": "code",
   "execution_count": null,
   "id": "38d26d8b",
   "metadata": {},
   "outputs": [],
   "source": []
  },
  {
   "cell_type": "code",
   "execution_count": null,
   "id": "02dafb6a",
   "metadata": {},
   "outputs": [],
   "source": []
  },
  {
   "cell_type": "code",
   "execution_count": null,
   "id": "876abe6b",
   "metadata": {},
   "outputs": [],
   "source": []
  },
  {
   "cell_type": "code",
   "execution_count": null,
   "id": "9525f798",
   "metadata": {},
   "outputs": [],
   "source": []
  },
  {
   "cell_type": "code",
   "execution_count": null,
   "id": "b7c6e512",
   "metadata": {},
   "outputs": [],
   "source": []
  },
  {
   "cell_type": "code",
   "execution_count": null,
   "id": "77116ec1",
   "metadata": {},
   "outputs": [],
   "source": []
  },
  {
   "cell_type": "code",
   "execution_count": null,
   "id": "eabbee9c",
   "metadata": {},
   "outputs": [],
   "source": []
  },
  {
   "cell_type": "code",
   "execution_count": null,
   "id": "dad62ece",
   "metadata": {},
   "outputs": [],
   "source": []
  },
  {
   "cell_type": "code",
   "execution_count": null,
   "id": "7b3812fe",
   "metadata": {},
   "outputs": [],
   "source": []
  },
  {
   "cell_type": "code",
   "execution_count": null,
   "id": "7e47e81d",
   "metadata": {},
   "outputs": [],
   "source": []
  },
  {
   "cell_type": "code",
   "execution_count": null,
   "id": "f0e672b2",
   "metadata": {},
   "outputs": [],
   "source": []
  },
  {
   "cell_type": "code",
   "execution_count": null,
   "id": "601ed70e",
   "metadata": {},
   "outputs": [],
   "source": []
  },
  {
   "cell_type": "code",
   "execution_count": null,
   "id": "c5648e73",
   "metadata": {},
   "outputs": [],
   "source": []
  },
  {
   "cell_type": "code",
   "execution_count": null,
   "id": "08efaa31",
   "metadata": {},
   "outputs": [],
   "source": []
  },
  {
   "cell_type": "code",
   "execution_count": null,
   "id": "3eb4f2d2",
   "metadata": {},
   "outputs": [],
   "source": []
  }
 ],
 "metadata": {
  "kernelspec": {
   "display_name": "Python [conda env:.conda-py3.7] *",
   "language": "python",
   "name": "conda-env-.conda-py3.7-py"
  },
  "language_info": {
   "codemirror_mode": {
    "name": "ipython",
    "version": 3
   },
   "file_extension": ".py",
   "mimetype": "text/x-python",
   "name": "python",
   "nbconvert_exporter": "python",
   "pygments_lexer": "ipython3",
   "version": "3.7.1"
  }
 },
 "nbformat": 4,
 "nbformat_minor": 5
}
