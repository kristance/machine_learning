{
 "cells": [
  {
   "cell_type": "code",
   "execution_count": 1,
   "id": "4719f590-d679-43ce-b087-4963c16870b5",
   "metadata": {},
   "outputs": [],
   "source": [
    "%config Completer.use_jedi = False                                       \n",
    "import warnings                                                             \n",
    "warnings.filterwarnings(action=\"ignore\")\n",
    "import numpy as np\n",
    "import pandas as pd                                                         \n",
    "import matplotlib.pyplot as plt                                            \n",
    "import matplotlib as mpl                                                    \n",
    "mpl.rcParams['axes.unicode_minus'] = False                                  \n",
    "#plt.rcParams('font.family') = 'RIDIBatang'                          \n",
    "#plt.rcParams('font.size') = 16                                             \n",
    "import matplotlib.font_manager as fm\n",
    "font = 'C:\\\\Windows\\\\Fonts\\\\RIDIBatang.otf'\n",
    "fontprop = fm.FontProperties(fname=font, size=16).get_name()\n",
    "plt.rc('font', family = 'RIDIBatang')\n",
    "plt.rc('font', size = 16)\n",
    "import seaborn as sns                                                       \n",
    "from sklearn.model_selection import train_test_split\n",
    "from sklearn.metrics import accuracy_score, confusion_matrix, classification_report"
   ]
  },
  {
   "cell_type": "code",
   "execution_count": 2,
   "id": "08fad956-416b-4b34-9558-09d014960b29",
   "metadata": {},
   "outputs": [],
   "source": [
    "# Scikit-learn이 제공하는 MNIST 손글씨 데이터를 불러오기 위해 import 한다.\n",
    "from sklearn.datasets import load_digits\n",
    "#kNN 분류기; 최근접 이웃\n",
    "from sklearn.neighbors import KNeighborsClassifier\n",
    "#서포트 벡터 머신\n",
    "from sklearn.svm import SVC\n",
    "#의사결정 트리\n",
    "from sklearn.tree import DecisionTreeClassifier"
   ]
  },
  {
   "cell_type": "code",
   "execution_count": 3,
   "id": "5ea46930-a703-4b20-aa42-fa0a1c22ec6d",
   "metadata": {},
   "outputs": [
    {
     "name": "stdout",
     "output_type": "stream",
     "text": [
      "(1797, 64) (1797,)\n"
     ]
    }
   ],
   "source": [
    "mnist = load_digits() #Scikit-learn이 제공하는 손글씨 데이터를 불러온다.\n",
    "feature, label = mnist.data, mnist.target\n",
    "print(feature.shape, label.shape)"
   ]
  },
  {
   "cell_type": "markdown",
   "id": "c532ed75-5e2b-4961-a74c-984584706279",
   "metadata": {},
   "source": [
    "***\n",
    "학습 데이터와 테스트 데이터를 나눈다.\n",
    "***"
   ]
  },
  {
   "cell_type": "code",
   "execution_count": 4,
   "id": "5c470f0d-c4b2-4370-b0de-53641692c97f",
   "metadata": {},
   "outputs": [
    {
     "name": "stdout",
     "output_type": "stream",
     "text": [
      "학습 데이터 갯수 : 1437, 테스트 데이터 갯수 : 360\n"
     ]
    }
   ],
   "source": [
    "x_train, x_test, x_train_label, x_test_label = train_test_split(mnist.data, mnist.target, train_size=0.8)\n",
    "print('학습 데이터 갯수 : {}, 테스트 데이터 갯수 : {}'.format(x_train.shape[0], x_test.shape[0]))"
   ]
  },
  {
   "cell_type": "markdown",
   "id": "51fce309-0f54-468d-a224-a37a87c7b097",
   "metadata": {},
   "source": [
    "***\n",
    "단일 모델의 정확도 측정\n",
    "***\n",
    "앙상블 정확도를 측정하기에 앞서 단일 모델들의 정확도를 kNN, SVM, 의사결정 트리 분류기를 만들어 정확도를 계산한다."
   ]
  },
  {
   "cell_type": "code",
   "execution_count": 5,
   "id": "f9ef560a-01f5-485f-9514-ff420968937d",
   "metadata": {},
   "outputs": [
    {
     "name": "stdout",
     "output_type": "stream",
     "text": [
      "kNN의 정확도 : 87.50%\n"
     ]
    }
   ],
   "source": [
    "#kNN\n",
    "knn = KNeighborsClassifier(n_neighbors=299).fit(x_train, x_train_label) # 모델 생성 및 학습\n",
    "knn_predict = knn.predict(x_test) # 예측; x_text -> x_test_label\n",
    "knn_accuracy = accuracy_score(x_test_label, knn_predict) #정확도\n",
    "print('kNN의 정확도 : {:6.2%}'.format(knn_accuracy))"
   ]
  },
  {
   "cell_type": "code",
   "execution_count": 6,
   "id": "7a9d1af5-39f3-445d-ba59-0becfa2cab0d",
   "metadata": {},
   "outputs": [
    {
     "name": "stdout",
     "output_type": "stream",
     "text": [
      "SVM의 정확도 : 91.39%\n"
     ]
    }
   ],
   "source": [
    "#SVM\n",
    "svm = SVC(C=0.1, gamma=0.003, probability=True).fit(x_train, x_train_label) # 모델 생성 및 학습\n",
    "svm_predict = svm.predict(x_test) # 예측; x_text -> x_test_label\n",
    "svm_accuracy = accuracy_score(x_test_label, svm_predict) #정확도\n",
    "print('SVM의 정확도 : {:6.2%}'.format(svm_accuracy))"
   ]
  },
  {
   "cell_type": "code",
   "execution_count": 7,
   "id": "0ebb76ca-df11-44e9-9280-df4d1ff4f38c",
   "metadata": {},
   "outputs": [
    {
     "name": "stdout",
     "output_type": "stream",
     "text": [
      "의사결정 트리 의 정확도 : 85.00%\n"
     ]
    }
   ],
   "source": [
    "#의사결정 트리\n",
    "dt = DecisionTreeClassifier(max_depth=8).fit(x_train, x_train_label) # 모델 생성 및 학습\n",
    "dt_predict = dt.predict(x_test) # 예측; x_text -> x_test_label\n",
    "dt_accuracy = accuracy_score(x_test_label, dt_predict) #정확도\n",
    "print('의사결정 트리 의 정확도 : {:6.2%}'.format(dt_accuracy))"
   ]
  },
  {
   "cell_type": "markdown",
   "id": "21e03119-1057-4d36-b7ab-4614ec24ad70",
   "metadata": {},
   "source": [
    "***\n",
    "하드 보팅\n",
    "***\n",
    "일반적인 투표와 같이 각 분류기의 예측값들을 모아 가장 많은 투표를 받은 예측값으로 최종 결론을 내린다."
   ]
  },
  {
   "cell_type": "code",
   "execution_count": 8,
   "id": "e881adf1-77b5-4f34-b457-26248c6d2cd7",
   "metadata": {},
   "outputs": [],
   "source": [
    "#하드, 소프트 보팅을 계산하기 위해 import 한다.\n",
    "from sklearn.ensemble import VotingClassifier"
   ]
  },
  {
   "cell_type": "code",
   "execution_count": 9,
   "id": "2d80dc5d-e65f-4452-b5f2-01aa12620398",
   "metadata": {},
   "outputs": [
    {
     "name": "stdout",
     "output_type": "stream",
     "text": [
      "하드보팅의 정확도 : 93.33%\n"
     ]
    }
   ],
   "source": [
    "hv_clf = VotingClassifier(estimators=[('knn', knn), ('svm', svm), ('decision_tree', dt)],\n",
    "                          weights=[1, 1, 1], voting='hard').fit(x_train, x_train_label) # 모델 생성 및 학습\n",
    "hv_clf_predict = hv_clf.predict(x_test) # 예측; x_text -> x_test_label\n",
    "hv_clf_accuracy = accuracy_score(x_test_label, hv_clf_predict) #정확도\n",
    "print('하드보팅의 정확도 : {:6.2%}'.format(hv_clf_accuracy))"
   ]
  },
  {
   "cell_type": "markdown",
   "id": "0918db54-7486-4bee-8737-669755e98750",
   "metadata": {},
   "source": [
    "***\n",
    "소프트 보팅\n",
    "***\n",
    "각 분류별 확률을 더해준 값을 점수로 사용해 최대 점수를 가진 분류값으로 결론을 내린다."
   ]
  },
  {
   "cell_type": "markdown",
   "id": "0b3d01a7-1c74-4ace-a0f8-d4a281c88e4a",
   "metadata": {},
   "source": [
    "***\n",
    "확률 합계\n",
    "***"
   ]
  },
  {
   "cell_type": "code",
   "execution_count": 10,
   "id": "6061f8de-e928-4e61-b62e-eeda301bf349",
   "metadata": {},
   "outputs": [
    {
     "name": "stdout",
     "output_type": "stream",
     "text": [
      "[0.26421405 0.06020067 0.         0.11036789 0.         0.11705686\n",
      " 0.         0.         0.11705686 0.33110368]\n",
      "확률 합계 -> 100.00%\n"
     ]
    }
   ],
   "source": [
    "# predict_proba() 메소드로 분류 모델이 각 레이블의 확률을 계산한다.\n",
    "knn_proba = knn.predict_proba(x_test)\n",
    "#print(knn_proba)\n",
    "print(knn_proba[0])\n",
    "print('확률 합계 -> {:6.2%}'.format(knn_proba[0].sum()))"
   ]
  },
  {
   "cell_type": "code",
   "execution_count": 11,
   "id": "e5a9ce35-e912-4da7-a263-9d715d2fa7c6",
   "metadata": {},
   "outputs": [
    {
     "name": "stdout",
     "output_type": "stream",
     "text": [
      "[0.01294509 0.03248769 0.01794538 0.0305163  0.00943004 0.06028118\n",
      " 0.00834853 0.01778974 0.12112216 0.68913389]\n",
      "확률 합계 -> 100.00%\n"
     ]
    }
   ],
   "source": [
    "svm_proba = svm.predict_proba(x_test)\n",
    "#print(svm_proba)\n",
    "print(svm_proba[0])\n",
    "print('확률 합계 -> {:6.2%}'.format(svm_proba[0].sum()))"
   ]
  },
  {
   "cell_type": "code",
   "execution_count": 12,
   "id": "c9df16e0-d988-425d-9b9d-982479ce4d01",
   "metadata": {},
   "outputs": [
    {
     "name": "stdout",
     "output_type": "stream",
     "text": [
      "[1. 0. 0. 0. 0. 0. 0. 0. 0. 0.]\n",
      "확률 합계 -> 100.00%\n"
     ]
    }
   ],
   "source": [
    "dt_proba = dt.predict_proba(x_test)\n",
    "#print(dt_proba)\n",
    "print(dt_proba[0])\n",
    "print('확률 합계 -> {:6.2%}'.format(dt_proba[0].sum()))"
   ]
  },
  {
   "cell_type": "code",
   "execution_count": 13,
   "id": "41073827-4b94-49e7-ac44-bb8efcac78bd",
   "metadata": {},
   "outputs": [
    {
     "name": "stdout",
     "output_type": "stream",
     "text": [
      "소프트보팅의 정확도 : 91.94%\n"
     ]
    }
   ],
   "source": [
    "sv_clf = VotingClassifier(estimators=[('knn', knn), ('svm', svm), ('decision_tree', dt)],\n",
    "                          weights=[1, 1, 1], voting='soft').fit(x_train, x_train_label) # 모델 생성 및 학습\n",
    "sv_clf_predict = sv_clf.predict(x_test) # 예측; x_text -> x_test_label\n",
    "sv_clf_accuracy = accuracy_score(x_test_label, sv_clf_predict) #정확도\n",
    "print('소프트보팅의 정확도 : {:6.2%}'.format(sv_clf_accuracy))"
   ]
  },
  {
   "cell_type": "markdown",
   "id": "63d152c1-bb14-42ec-8af5-36293ef3539b",
   "metadata": {},
   "source": [
    "***\n",
    "단일 모델과 앙상블 모델의 정확도 비교 시각화\n",
    "***"
   ]
  },
  {
   "cell_type": "code",
   "execution_count": 21,
   "id": "274303df-801c-4121-8f48-2496379edb81",
   "metadata": {},
   "outputs": [
    {
     "data": {
      "image/png": "[encoded data removed]",
      "text/plain": [
       "<Figure size 500x500 with 1 Axes>"
      ]
     },
     "metadata": {},
     "output_type": "display_data"
    }
   ],
   "source": [
    "plt.figure(figsize=[5, 5])\n",
    "x = np.arange(5)\n",
    "plt.bar(x, height=[accuracy_score(x_test_label, knn_predict)\n",
    "                   , accuracy_score(x_test_label, svm_predict)\n",
    "                   , accuracy_score(x_test_label, dt_predict)\n",
    "                   , accuracy_score(x_test_label, hv_clf_predict)\n",
    "                   , accuracy_score(x_test_label, svm_predict)] )\n",
    "plt.xticks(x, ['knn', 'svm', 'decision_tree', 'hard_voting', 'soft_voting'], rotation=20)\n",
    "plt.title('단일 모델과 앙상블 모델의 정확도 비교 시각화')\n",
    "plt.xlabel('Model')\n",
    "plt.ylabel('Accuracy')\n",
    "plt.show()"
   ]
  },
  {
   "cell_type": "code",
   "execution_count": null,
   "id": "48933b90-4669-4931-bb69-f1efac9961f2",
   "metadata": {},
   "outputs": [],
   "source": []
  },
  {
   "cell_type": "code",
   "execution_count": null,
   "id": "d068258c-5399-4c68-839f-9b4404ffb19c",
   "metadata": {},
   "outputs": [],
   "source": []
  },
  {
   "cell_type": "code",
   "execution_count": null,
   "id": "8e3f7430-e118-4d96-89d7-201fd2ff52ee",
   "metadata": {},
   "outputs": [],
   "source": []
  },
  {
   "cell_type": "code",
   "execution_count": null,
   "id": "fd9394b9-b3ec-4444-a44a-af417aea353e",
   "metadata": {},
   "outputs": [],
   "source": []
  },
  {
   "cell_type": "code",
   "execution_count": null,
   "id": "278cf022-7418-4c28-88a3-df260d13b14c",
   "metadata": {},
   "outputs": [],
   "source": []
  },
  {
   "cell_type": "code",
   "execution_count": null,
   "id": "88d84fc6-eab7-4919-b6e0-df7573a5584e",
   "metadata": {},
   "outputs": [],
   "source": []
  },
  {
   "cell_type": "code",
   "execution_count": null,
   "id": "3589746d-8dec-4237-b124-7341cf77bce4",
   "metadata": {},
   "outputs": [],
   "source": []
  },
  {
   "cell_type": "code",
   "execution_count": null,
   "id": "99ab148a-c117-4b82-99d5-d716d2762b90",
   "metadata": {},
   "outputs": [],
   "source": []
  },
  {
   "cell_type": "code",
   "execution_count": null,
   "id": "daf26dec-95c3-41a6-91ce-4e7c926a6285",
   "metadata": {},
   "outputs": [],
   "source": []
  },
  {
   "cell_type": "code",
   "execution_count": null,
   "id": "b4982cac-5c32-4f9b-b356-d1aa63e2998f",
   "metadata": {},
   "outputs": [],
   "source": []
  },
  {
   "cell_type": "code",
   "execution_count": null,
   "id": "58533a32-02c5-44d3-8a85-1a2ca49d96a8",
   "metadata": {},
   "outputs": [],
   "source": []
  },
  {
   "cell_type": "code",
   "execution_count": null,
   "id": "d58f2487-607d-462f-8517-8604fa03fdc5",
   "metadata": {},
   "outputs": [],
   "source": []
  },
  {
   "cell_type": "code",
   "execution_count": null,
   "id": "0e8bf0e1-32de-4864-8fb3-7f466e40a1c8",
   "metadata": {},
   "outputs": [],
   "source": []
  },
  {
   "cell_type": "code",
   "execution_count": null,
   "id": "0806ed9f-4512-480f-8ff5-5a4f8869a4f3",
   "metadata": {},
   "outputs": [],
   "source": []
  },
  {
   "cell_type": "code",
   "execution_count": null,
   "id": "4b9f44bb-06e5-48e0-9204-ce860a4d1dd9",
   "metadata": {},
   "outputs": [],
   "source": []
  },
  {
   "cell_type": "code",
   "execution_count": null,
   "id": "8dccb93d-b798-4ef0-9186-181c5106b089",
   "metadata": {},
   "outputs": [],
   "source": []
  },
  {
   "cell_type": "code",
   "execution_count": null,
   "id": "549da284-4165-42bf-bdb0-9c67997908e0",
   "metadata": {},
   "outputs": [],
   "source": []
  },
  {
   "cell_type": "code",
   "execution_count": null,
   "id": "d1b30abb-60a4-459d-bcee-6ef295b1fcef",
   "metadata": {},
   "outputs": [],
   "source": []
  },
  {
   "cell_type": "code",
   "execution_count": null,
   "id": "10019d9d-caee-4af3-a845-ea1eeded342e",
   "metadata": {},
   "outputs": [],
   "source": []
  },
  {
   "cell_type": "code",
   "execution_count": null,
   "id": "0949e802-1e5d-448f-940c-5157166df89b",
   "metadata": {},
   "outputs": [],
   "source": []
  },
  {
   "cell_type": "code",
   "execution_count": null,
   "id": "e6e26f7c-26e4-4b5e-80cc-2d65053ba81c",
   "metadata": {},
   "outputs": [],
   "source": []
  },
  {
   "cell_type": "code",
   "execution_count": null,
   "id": "cdf35ca8-ee48-4ee9-b615-8379b46f2872",
   "metadata": {},
   "outputs": [],
   "source": []
  },
  {
   "cell_type": "code",
   "execution_count": null,
   "id": "311a00b3-b540-4e2c-9b1d-8663a348621b",
   "metadata": {},
   "outputs": [],
   "source": []
  },
  {
   "cell_type": "code",
   "execution_count": null,
   "id": "b6ea3d0a-506e-4a2d-ba59-aa50025ff1e9",
   "metadata": {},
   "outputs": [],
   "source": []
  },
  {
   "cell_type": "code",
   "execution_count": null,
   "id": "3430e640-4f56-4e7c-b0ed-4aae226efcc9",
   "metadata": {},
   "outputs": [],
   "source": []
  },
  {
   "cell_type": "code",
   "execution_count": null,
   "id": "1495f36b-c9d8-4811-85b2-259dd2aadc20",
   "metadata": {},
   "outputs": [],
   "source": []
  },
  {
   "cell_type": "code",
   "execution_count": null,
   "id": "407e92cf-6165-4cca-b450-2885807a6e18",
   "metadata": {},
   "outputs": [],
   "source": []
  }
 ],
 "metadata": {
  "kernelspec": {
   "display_name": "Python [conda env:.conda-py3.7] *",
   "language": "python",
   "name": "conda-env-.conda-py3.7-py"
  },
  "language_info": {
   "codemirror_mode": {
    "name": "ipython",
    "version": 3
   },
   "file_extension": ".py",
   "mimetype": "text/x-python",
   "name": "python",
   "nbconvert_exporter": "python",
   "pygments_lexer": "ipython3",
   "version": "3.7.1"
  }
 },
 "nbformat": 4,
 "nbformat_minor": 5
}
