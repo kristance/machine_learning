{
 "cells": [
  {
   "cell_type": "code",
   "execution_count": 1,
   "id": "52968edc",
   "metadata": {},
   "outputs": [
    {
     "name": "stdout",
     "output_type": "stream",
     "text": [
      "WARNING:tensorflow:From C:\\Users\\tj\\.conda\\envs\\py3.7\\lib\\site-packages\\tensorflow\\python\\compat\\v2_compat.py:107: disable_resource_variables (from tensorflow.python.ops.variable_scope) is deprecated and will be removed in a future version.\n",
      "Instructions for updating:\n",
      "non-resource variables are not supported in the long term\n"
     ]
    }
   ],
   "source": [
    "%config Completer.use_jedi = False                                       \n",
    "import warnings                                                             \n",
    "warnings.filterwarnings(action=\"ignore\")\n",
    "import tensorflow.compat.v1 as tf\n",
    "tf.disable_v2_behavior()\n",
    "import numpy as np\n",
    "import pandas as pd                                                         \n",
    "import matplotlib.pyplot as plt                                            \n",
    "import matplotlib as mpl                                                    \n",
    "mpl.rcParams['axes.unicode_minus'] = False                                  \n",
    "#plt.rcParams('font.family') = 'NanumGothicCoding'                          \n",
    "#plt.rcParams('font.size') = 16                                             \n",
    "import matplotlib.font_manager as fm\n",
    "font = 'C:\\\\Windows\\\\Fonts\\\\NanumGothicCoding.ttf'\n",
    "fontprop = fm.FontProperties(fname=font, size=16).get_name()\n",
    "plt.rc('font', family = 'NanumGothicCoding')\n",
    "plt.rc('font', size = 16)\n",
    "import seaborn as sns                                                       \n"
   ]
  },
  {
   "cell_type": "markdown",
   "id": "174e7186",
   "metadata": {},
   "source": [
    "***\n",
    "군집화\n",
    "***\n",
    "여러개의 데이터가 있을 때 비슷한 데이터끼리 묶어주는 것을 의미한다.  \n",
    "비슷한 데이터끼리 묶어놓으면 관리하기 쉽다는 장점이 있다.  \n",
    "예를 들면 학원을 운영할 때 초급반, 중급반, 고급반으로 적절히 나눠서 분류해서 관리한다면 활용 방안이 많아질 것이다.  "
   ]
  },
  {
   "cell_type": "markdown",
   "id": "96c9bfa6",
   "metadata": {},
   "source": [
    "***\n",
    "머신러닝의 학습 방법은 크게 지도 학습, 비지도 학습, 강화 학습으로 나눌 수 있다.  \n",
    "- 지도 학습(supervised learning)이란 라벨링이 된 데이터를 학습시키는 것을 의미하고,\n",
    "- 비지도 학습(unsupervised learning)이란 라벨링이 되지 않은 데이터를 학습시키는 것을 의미하고, \n",
    "- 강화 학습(reinforcement learning)이란 시행 착오(reward after try or error)에 통해 데이터를 학습시키는 것을 의미한다.\n",
    "***"
   ]
  },
  {
   "cell_type": "markdown",
   "id": "59d370ff",
   "metadata": {},
   "source": [
    "***\n",
    "라벨링\n",
    "***\n",
    "학습(트레이닝) 데이터에 정답(실제값, 관측값, 답, 레이블, 클래스, 타겟)이 표시된 것을 의미한다.  \n",
    "데이터가 정답을 가지고 있으면 <b>지도 학습</b>, 정답을 가지고 있지 않으면 <b>비지도 학습</b>이라 한다. \n",
    "  \n",
    "비지도 학습 알고리즘은 정답이 없으므로 정확한 방향성이 일치하지 않더라도 알아서 학습이 가능한 알고리즘으로 데이터를 군집화하는 알고리즘이 비지도 학습에 속한다.  \n",
    "&emsp;-> KMeans 알고리즘이 대표적인 비지도 학습 알고리즘이다."
   ]
  },
  {
   "cell_type": "markdown",
   "id": "edacd009",
   "metadata": {},
   "source": [
    "***\n",
    "머신러닝 알고리즘을 사용하기 위한 라이브러리를 설치한다.  \n",
    "conda install scikit-learn"
   ]
  },
  {
   "cell_type": "code",
   "execution_count": 2,
   "id": "f66db95d",
   "metadata": {},
   "outputs": [],
   "source": [
    "# 군집화(clustering)에 필요한 라이브러리를 import 시킨다.\n",
    "from sklearn.cluster import KMeans"
   ]
  },
  {
   "cell_type": "code",
   "execution_count": 3,
   "id": "99ffe807",
   "metadata": {},
   "outputs": [
    {
     "data": {
      "text/html": [
       "<div>\n",
       "<style scoped>\n",
       "    .dataframe tbody tr th:only-of-type {\n",
       "        vertical-align: middle;\n",
       "    }\n",
       "\n",
       "    .dataframe tbody tr th {\n",
       "        vertical-align: top;\n",
       "    }\n",
       "\n",
       "    .dataframe thead th {\n",
       "        text-align: right;\n",
       "    }\n",
       "</style>\n",
       "<table border=\"1\" class=\"dataframe\">\n",
       "  <thead>\n",
       "    <tr style=\"text-align: right;\">\n",
       "      <th></th>\n",
       "      <th>x</th>\n",
       "      <th>y</th>\n",
       "    </tr>\n",
       "  </thead>\n",
       "  <tbody>\n",
       "    <tr>\n",
       "      <th>0</th>\n",
       "      <td>2</td>\n",
       "      <td>3</td>\n",
       "    </tr>\n",
       "    <tr>\n",
       "      <th>1</th>\n",
       "      <td>2</td>\n",
       "      <td>11</td>\n",
       "    </tr>\n",
       "    <tr>\n",
       "      <th>2</th>\n",
       "      <td>2</td>\n",
       "      <td>18</td>\n",
       "    </tr>\n",
       "    <tr>\n",
       "      <th>3</th>\n",
       "      <td>4</td>\n",
       "      <td>5</td>\n",
       "    </tr>\n",
       "    <tr>\n",
       "      <th>4</th>\n",
       "      <td>4</td>\n",
       "      <td>7</td>\n",
       "    </tr>\n",
       "  </tbody>\n",
       "</table>\n",
       "</div>"
      ],
      "text/plain": [
       "   x   y\n",
       "0  2   3\n",
       "1  2  11\n",
       "2  2  18\n",
       "3  4   5\n",
       "4  4   7"
      ]
     },
     "execution_count": 3,
     "metadata": {},
     "output_type": "execute_result"
    }
   ],
   "source": [
    "df = pd.read_csv('./cluster.csv')\n",
    "df.head()"
   ]
  },
  {
   "cell_type": "code",
   "execution_count": 4,
   "id": "3d8cd156",
   "metadata": {},
   "outputs": [
    {
     "name": "stdout",
     "output_type": "stream",
     "text": [
      "RangeIndex(start=0, stop=30, step=1)\n",
      "<class 'pandas.core.indexes.range.RangeIndex'>\n",
      "[0, 1, 2, 3, 4, 5, 6, 7, 8, 9, 10, 11, 12, 13, 14, 15, 16, 17, 18, 19, 20, 21, 22, 23, 24, 25, 26, 27, 28, 29]\n"
     ]
    }
   ],
   "source": [
    "# index 속성으로 데이터프레임의 행 인덱스만 얻어올 수 있다.\n",
    "print(df.index)\n",
    "print(type(df.index))\n",
    "print(list(df.index))"
   ]
  },
  {
   "cell_type": "code",
   "execution_count": 5,
   "id": "0634a42c",
   "metadata": {},
   "outputs": [
    {
     "name": "stdout",
     "output_type": "stream",
     "text": [
      "Index(['x', 'y'], dtype='object')\n",
      "<class 'pandas.core.indexes.base.Index'>\n"
     ]
    }
   ],
   "source": [
    "# columns 속성으로 데이터프레임의 열 인덱스(열 이름)만 얻어올 수 있다.\n",
    "print(df.columns)\n",
    "print(type(df.columns))"
   ]
  },
  {
   "cell_type": "code",
   "execution_count": 6,
   "id": "7437fc1d",
   "metadata": {
    "scrolled": true
   },
   "outputs": [
    {
     "name": "stdout",
     "output_type": "stream",
     "text": [
      "<class 'numpy.ndarray'>\n",
      "[[ 2  3]\n",
      " [ 2 11]\n",
      " [ 2 18]\n",
      " [ 4  5]\n",
      " [ 4  7]\n",
      " [ 5  3]\n",
      " [ 5 15]\n",
      " [ 6  6]\n",
      " [ 6  8]\n",
      " [ 6  9]\n",
      " [ 7  2]\n",
      " [ 7  4]\n",
      " [ 7  5]\n",
      " [ 7 17]\n",
      " [ 7 18]\n",
      " [ 8  5]\n",
      " [ 8  4]\n",
      " [ 9 10]\n",
      " [ 9 11]\n",
      " [ 9 15]\n",
      " [ 9 19]\n",
      " [10  5]\n",
      " [10  8]\n",
      " [10 18]\n",
      " [12  6]\n",
      " [13  5]\n",
      " [14 11]\n",
      " [15  6]\n",
      " [15 18]\n",
      " [18 12]]\n"
     ]
    }
   ],
   "source": [
    "# values 속성으로 데이터프레임의 데이터만 numpy 배열 형태로 얻어올 수 있다.\n",
    "print(type(df.values))\n",
    "print(df.values)\n",
    "point = df.values #학습할 데이터"
   ]
  },
  {
   "cell_type": "markdown",
   "id": "c0d6545d",
   "metadata": {},
   "source": [
    "***\n",
    "군집화를 실행할 데이터 시각화\n",
    "***"
   ]
  },
  {
   "cell_type": "code",
   "execution_count": 7,
   "id": "53322d86",
   "metadata": {
    "scrolled": false
   },
   "outputs": [
    {
     "data": {
      "image/png": "[encoded data removed]",
      "text/plain": [
       "<Figure size 800x800 with 1 Axes>"
      ]
     },
     "metadata": {},
     "output_type": "display_data"
    }
   ],
   "source": [
    "plt.figure(figsize=[8, 8])\n",
    "sns.scatterplot(df, x = 'x', y = 'y', s = 50)\n",
    "plt.title('KMeans 시각화')\n",
    "plt.xlabel('x_bar')\n",
    "plt.ylabel('y_bar')\n",
    "plt.show()"
   ]
  },
  {
   "cell_type": "markdown",
   "id": "1d427724",
   "metadata": {},
   "source": [
    "***\n",
    "군집화를 수행하기 위해서는 군집화를 수행할 데이터의 주제를 결정하고 얼마나 많은 군집(cluster)를 만들지 결정한다.  \n",
    "이때, 데이터가 정확할수록 유리하게 군집화를 할 수 있고, 군집화를 수행하는 방법은 다양한 방법이 있다.  "
   ]
  },
  {
   "cell_type": "markdown",
   "id": "95dd6ca2",
   "metadata": {},
   "source": [
    "***\n",
    "무작위로 cluster의 중심을 선택하고 중심에 가까운 데이터를 cluster에 포함시키는 작업을 반복한 후 무작위로 선택된 cluster의 중심을  \n",
    "cluster에 포함된 데이터의 중앙으로 이동하는 과정을 반복 수행해서 더이상 cluster 중심의 위치가 변하지 않을때까지 반복하는 것이 일반적인 방법이고,  \n",
    "이러한 과정을 거치면 완벽하게 군집화된 cluster를 얻을 수 있다.  \n",
    "\n",
    "<img src=\"./cluster1.png\">"
   ]
  },
  {
   "cell_type": "markdown",
   "id": "57bf860d",
   "metadata": {},
   "source": [
    "***\n",
    "군집화를 위한 무작위로 cluster의 중심을 결정하는 방법은 가장 먼저 임의의 노드(데이터)를 선택해서 cluster의 중심으로 설정(파랑)한다.  \n",
    "그 이후에는 무작위로 cluster의 중심으로 선택된 노드(파랑)에서 가장 거리가 먼 노드(노랑)를 선택해서 두번째 cluster의 중심으로 설정한다.  \n",
    "그 다음부터는 이미 선택(파랑, 노랑)된 cluster의 중심들로부터 가장 멀리 떨어져있는 노드(녹색)를 선택해서 cluster의 중심으로 선택하는 작업을 반복한다."
   ]
  },
  {
   "cell_type": "markdown",
   "id": "23f0b8d0",
   "metadata": {},
   "source": [
    "***\n",
    "<img src=\"./cluster2.png\">"
   ]
  },
  {
   "cell_type": "markdown",
   "id": "1326517d",
   "metadata": {},
   "source": [
    "\n",
    "위와 같이 cluster의 중심을 선택하는 작업을 했더니 1, 2, 3 세 개의 cluster가 존재한다고 가정하고  \n",
    "하나의 데이터를 선택해서 세 개의 cluster 중심 중에서 가장 가까운 cluster에 속하도록 만드는 작업을 반복해서 실행한다.  \n",
    "***\n",
    "<img src=\"./cluster3.png\">"
   ]
  },
  {
   "cell_type": "markdown",
   "id": "e624925a",
   "metadata": {},
   "source": [
    "이러한 과정을 반복해 실행하면 위의 왼쪽 그림과 같을 것이다.  \n",
    "위의 왼쪽 그림과 같이 대략적으로 군집화가 완료되면 완벽한 군집화를 위해 cluster의 중심 위치를 위의 오른쪽 그림과 같이 군집화된 데이터의 중심으로 이동시킨다.  \n",
    "cluster의 중심을 이동시키고 다시 모든 데이터에 대해서 어떤 cluster의 중심에 가까운지 하나씩 체크해서 만약 특정 데이터가 다른 cluster의 중심에 더 가깝다면  \n",
    "그 cluster에 속하도록 설정하는 작업을 반복한다.  \n",
    "  \n",
    "cluster 중심의 위치가 더이상 바뀌지 않는다면 군집화가 끝난 것이다.\n"
   ]
  },
  {
   "cell_type": "markdown",
   "id": "39a544ee",
   "metadata": {},
   "source": [
    "***\n",
    "KMeans 알고리즘을 이용해서 cluster를 4개를 생성한다."
   ]
  },
  {
   "cell_type": "code",
   "execution_count": 8,
   "id": "fc2e54ff",
   "metadata": {},
   "outputs": [
    {
     "name": "stdout",
     "output_type": "stream",
     "text": [
      "KMeans(n_clusters=4)\n",
      "[[ 7.         17.14285714]\n",
      " [11.14285714  7.28571429]\n",
      " [ 5.53846154  5.53846154]\n",
      " [15.66666667 13.66666667]]\n",
      "[2 2 0 2 2 2 0 2 2 2 2 2 2 0 0 2 2 1 1 0 0 1 1 0 1 1 3 1 3 3]\n"
     ]
    }
   ],
   "source": [
    "# sklearn 라이브러리의 KMeans 알고리즘을 이용해서 모델을 만들고 학습시킨다.\n",
    "#n_clusters는 군집화할 cluster의 갯수를 지정하는 하이퍼 파라미터이다.\n",
    "#fit() 메소드의 인수로 학습할 데이터를 넣어서 모델을 학습시킨다.\n",
    "kmeans = KMeans(n_clusters=4).fit(point)\n",
    "print(kmeans)\n",
    "\n",
    "# cluster_centers_ 속성으로 군집화된 cluster의 중심 위치를 얻어온다. \n",
    "print(kmeans.cluster_centers_)\n",
    "\n",
    "# labels_ 속성으로 각각의 데이터가 군집화된 cluster를 얻어온다.\n",
    "print(kmeans.labels_)"
   ]
  },
  {
   "cell_type": "markdown",
   "id": "878a4b60",
   "metadata": {},
   "source": [
    "***\n",
    "데이터프레임에 cluster라는 파생 변수를 추가하고 군집화된 결과를 넣어준다.\n",
    "***"
   ]
  },
  {
   "cell_type": "code",
   "execution_count": 9,
   "id": "37997ced",
   "metadata": {},
   "outputs": [],
   "source": [
    "df['cluster'] = kmeans.labels_\n",
    "#df.to_csv('./df_clustered.csv', index=False)"
   ]
  },
  {
   "cell_type": "markdown",
   "id": "7fd83bbf",
   "metadata": {},
   "source": [
    "***\n",
    "클러스터링된 결과를 시각화 한다.\n",
    "***"
   ]
  },
  {
   "cell_type": "code",
   "execution_count": 10,
   "id": "4758cb2d",
   "metadata": {},
   "outputs": [
    {
     "data": {
      "image/png": "[encoded data removed]",
      "text/plain": [
       "<Figure size 800x800 with 1 Axes>"
      ]
     },
     "metadata": {},
     "output_type": "display_data"
    }
   ],
   "source": [
    "plt.figure(figsize=[8, 8])\n",
    "#palette 속성으로 시각화되는 데이터의 색상을 변경할 수 있다.\n",
    "#style 속성을 지정하면 시각화되는 데이터의 모양을 서로 다르게 변경할 수 있다.\n",
    "sns.scatterplot(df, x = 'x', y = 'y', s = 50, hue='cluster', palette='husl', style='cluster')\n",
    "plt.title('KMeans Clustered Visualize')\n",
    "plt.xlabel('x_bar')\n",
    "plt.ylabel('y_bar')\n",
    "plt.show()"
   ]
  },
  {
   "cell_type": "markdown",
   "id": "ff51b4e3",
   "metadata": {},
   "source": [
    "<img src=\"./seaborn_palette.png\" width=800>"
   ]
  },
  {
   "cell_type": "code",
   "execution_count": null,
   "id": "b6dbb905",
   "metadata": {},
   "outputs": [],
   "source": []
  },
  {
   "cell_type": "code",
   "execution_count": null,
   "id": "d3aeb01b",
   "metadata": {},
   "outputs": [],
   "source": []
  },
  {
   "cell_type": "code",
   "execution_count": null,
   "id": "3ddc01e0",
   "metadata": {},
   "outputs": [],
   "source": []
  },
  {
   "cell_type": "code",
   "execution_count": null,
   "id": "313b34ef",
   "metadata": {},
   "outputs": [],
   "source": []
  },
  {
   "cell_type": "code",
   "execution_count": null,
   "id": "81e77de7",
   "metadata": {},
   "outputs": [],
   "source": []
  },
  {
   "cell_type": "code",
   "execution_count": null,
   "id": "a1a0c904",
   "metadata": {},
   "outputs": [],
   "source": []
  },
  {
   "cell_type": "code",
   "execution_count": null,
   "id": "1f216880",
   "metadata": {},
   "outputs": [],
   "source": []
  },
  {
   "cell_type": "code",
   "execution_count": null,
   "id": "3628c1f5",
   "metadata": {},
   "outputs": [],
   "source": []
  }
 ],
 "metadata": {
  "kernelspec": {
   "display_name": "Python [conda env:.conda-py3.7] *",
   "language": "python",
   "name": "conda-env-.conda-py3.7-py"
  },
  "language_info": {
   "codemirror_mode": {
    "name": "ipython",
    "version": 3
   },
   "file_extension": ".py",
   "mimetype": "text/x-python",
   "name": "python",
   "nbconvert_exporter": "python",
   "pygments_lexer": "ipython3",
   "version": "3.7.1"
  }
 },
 "nbformat": 4,
 "nbformat_minor": 5
}
