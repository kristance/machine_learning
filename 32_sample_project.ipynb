{
 "cells": [
  {
   "cell_type": "code",
   "execution_count": 1,
   "id": "f97dbadb-fbee-475d-9756-bb387098341d",
   "metadata": {
    "tags": []
   },
   "outputs": [
    {
     "name": "stdout",
     "output_type": "stream",
     "text": [
      "WARNING:tensorflow:From C:\\Users\\tj\\.conda\\envs\\py3.7\\lib\\site-packages\\tensorflow\\python\\compat\\v2_compat.py:107: disable_resource_variables (from tensorflow.python.ops.variable_scope) is deprecated and will be removed in a future version.\n",
      "Instructions for updating:\n",
      "non-resource variables are not supported in the long term\n"
     ]
    }
   ],
   "source": [
    "import warnings\n",
    "warnings.filterwarnings(action='ignore')\n",
    "%config Completer.use_jedi = False\n",
    "import tensorflow.compat.v1 as tf\n",
    "tf.disable_v2_behavior()\n",
    "import numpy as np\n",
    "import pandas as pd"
   ]
  },
  {
   "cell_type": "markdown",
   "id": "063784e1-b6d1-4255-b3fd-24be3f79d6fd",
   "metadata": {},
   "source": [
    "***\n",
    "날씨와 농산물 가격은 어떤 상관관계가 있는지 예측한다.  \n",
    "기상 정보 -> 기상자료개방포털, 농산물 가격 정보 -> 카미스 검색; 농산물 유통 정보\n",
    "\n",
    "기상 정보 : 평균기온 (avgTemp), 최저기온 (minTemp),최고기온(maxTemp), 강수량(rainFall)\n",
    "가격 정보 : 평균가격 (avgPrice)"
   ]
  },
  {
   "cell_type": "code",
   "execution_count": 2,
   "id": "5585d742-c005-4aac-8a97-45054ce3d788",
   "metadata": {
    "tags": []
   },
   "outputs": [
    {
     "data": {
      "text/html": [
       "<div>\n",
       "<style scoped>\n",
       "    .dataframe tbody tr th:only-of-type {\n",
       "        vertical-align: middle;\n",
       "    }\n",
       "\n",
       "    .dataframe tbody tr th {\n",
       "        vertical-align: top;\n",
       "    }\n",
       "\n",
       "    .dataframe thead th {\n",
       "        text-align: right;\n",
       "    }\n",
       "</style>\n",
       "<table border=\"1\" class=\"dataframe\">\n",
       "  <thead>\n",
       "    <tr style=\"text-align: right;\">\n",
       "      <th></th>\n",
       "      <th>year</th>\n",
       "      <th>avgTemp</th>\n",
       "      <th>minTemp</th>\n",
       "      <th>maxTemp</th>\n",
       "      <th>rainFall</th>\n",
       "      <th>avgPrice</th>\n",
       "    </tr>\n",
       "  </thead>\n",
       "  <tbody>\n",
       "    <tr>\n",
       "      <th>0</th>\n",
       "      <td>20100101</td>\n",
       "      <td>-4.9</td>\n",
       "      <td>-11.0</td>\n",
       "      <td>0.9</td>\n",
       "      <td>0.0</td>\n",
       "      <td>2123</td>\n",
       "    </tr>\n",
       "    <tr>\n",
       "      <th>1</th>\n",
       "      <td>20100102</td>\n",
       "      <td>-3.1</td>\n",
       "      <td>-5.5</td>\n",
       "      <td>5.5</td>\n",
       "      <td>0.8</td>\n",
       "      <td>2123</td>\n",
       "    </tr>\n",
       "    <tr>\n",
       "      <th>2</th>\n",
       "      <td>20100103</td>\n",
       "      <td>-2.9</td>\n",
       "      <td>-6.9</td>\n",
       "      <td>1.4</td>\n",
       "      <td>0.0</td>\n",
       "      <td>2123</td>\n",
       "    </tr>\n",
       "    <tr>\n",
       "      <th>3</th>\n",
       "      <td>20100104</td>\n",
       "      <td>-1.8</td>\n",
       "      <td>-5.1</td>\n",
       "      <td>2.2</td>\n",
       "      <td>5.9</td>\n",
       "      <td>2020</td>\n",
       "    </tr>\n",
       "    <tr>\n",
       "      <th>4</th>\n",
       "      <td>20100105</td>\n",
       "      <td>-5.2</td>\n",
       "      <td>-8.7</td>\n",
       "      <td>-1.8</td>\n",
       "      <td>0.7</td>\n",
       "      <td>2060</td>\n",
       "    </tr>\n",
       "    <tr>\n",
       "      <th>...</th>\n",
       "      <td>...</td>\n",
       "      <td>...</td>\n",
       "      <td>...</td>\n",
       "      <td>...</td>\n",
       "      <td>...</td>\n",
       "      <td>...</td>\n",
       "    </tr>\n",
       "    <tr>\n",
       "      <th>2917</th>\n",
       "      <td>20171227</td>\n",
       "      <td>-3.9</td>\n",
       "      <td>-8.0</td>\n",
       "      <td>0.7</td>\n",
       "      <td>0.0</td>\n",
       "      <td>2865</td>\n",
       "    </tr>\n",
       "    <tr>\n",
       "      <th>2918</th>\n",
       "      <td>20171228</td>\n",
       "      <td>-1.5</td>\n",
       "      <td>-6.9</td>\n",
       "      <td>3.7</td>\n",
       "      <td>0.0</td>\n",
       "      <td>2884</td>\n",
       "    </tr>\n",
       "    <tr>\n",
       "      <th>2919</th>\n",
       "      <td>20171229</td>\n",
       "      <td>2.9</td>\n",
       "      <td>-2.1</td>\n",
       "      <td>8.0</td>\n",
       "      <td>0.0</td>\n",
       "      <td>2901</td>\n",
       "    </tr>\n",
       "    <tr>\n",
       "      <th>2920</th>\n",
       "      <td>20171230</td>\n",
       "      <td>2.9</td>\n",
       "      <td>-1.6</td>\n",
       "      <td>7.1</td>\n",
       "      <td>0.6</td>\n",
       "      <td>2901</td>\n",
       "    </tr>\n",
       "    <tr>\n",
       "      <th>2921</th>\n",
       "      <td>20171231</td>\n",
       "      <td>2.1</td>\n",
       "      <td>-2.0</td>\n",
       "      <td>5.8</td>\n",
       "      <td>0.4</td>\n",
       "      <td>2901</td>\n",
       "    </tr>\n",
       "  </tbody>\n",
       "</table>\n",
       "<p>2922 rows × 6 columns</p>\n",
       "</div>"
      ],
      "text/plain": [
       "          year  avgTemp  minTemp  maxTemp  rainFall  avgPrice\n",
       "0     20100101     -4.9    -11.0      0.9       0.0      2123\n",
       "1     20100102     -3.1     -5.5      5.5       0.8      2123\n",
       "2     20100103     -2.9     -6.9      1.4       0.0      2123\n",
       "3     20100104     -1.8     -5.1      2.2       5.9      2020\n",
       "4     20100105     -5.2     -8.7     -1.8       0.7      2060\n",
       "...        ...      ...      ...      ...       ...       ...\n",
       "2917  20171227     -3.9     -8.0      0.7       0.0      2865\n",
       "2918  20171228     -1.5     -6.9      3.7       0.0      2884\n",
       "2919  20171229      2.9     -2.1      8.0       0.0      2901\n",
       "2920  20171230      2.9     -1.6      7.1       0.6      2901\n",
       "2921  20171231      2.1     -2.0      5.8       0.4      2901\n",
       "\n",
       "[2922 rows x 6 columns]"
      ]
     },
     "execution_count": 2,
     "metadata": {},
     "output_type": "execute_result"
    }
   ],
   "source": [
    "# price_data.csv 파일을 읽어서 데이터프레임으로 저장한다.\n",
    "# csv파일의 첫 줄에 컬럼 이름(헤더)이 없을 경우 header=None 옵션을 지정해서 읽은 후 컬럼 이름을 붙여준다.\n",
    "price_data = pd.read_csv('./price_data.csv', header=None)\n",
    "price_data.columns = ('year', 'avgTemp', 'minTemp', 'maxTemp', 'rainFall', 'avgPrice')\n",
    "price_data"
   ]
  },
  {
   "cell_type": "code",
   "execution_count": 3,
   "id": "7e7523c0-3d18-4445-844d-aa6ddfae29ef",
   "metadata": {
    "tags": []
   },
   "outputs": [
    {
     "name": "stdout",
     "output_type": "stream",
     "text": [
      "(2922, 6)\n",
      "[[ 2.0100101e+07 -4.9000000e+00 -1.1000000e+01  9.0000000e-01\n",
      "   0.0000000e+00  2.1230000e+03]\n",
      " [ 2.0100102e+07 -3.1000000e+00 -5.5000000e+00  5.5000000e+00\n",
      "   8.0000000e-01  2.1230000e+03]\n",
      " [ 2.0100103e+07 -2.9000000e+00 -6.9000000e+00  1.4000000e+00\n",
      "   0.0000000e+00  2.1230000e+03]\n",
      " ...\n",
      " [ 2.0171229e+07  2.9000000e+00 -2.1000000e+00  8.0000000e+00\n",
      "   0.0000000e+00  2.9010000e+03]\n",
      " [ 2.0171230e+07  2.9000000e+00 -1.6000000e+00  7.1000000e+00\n",
      "   6.0000000e-01  2.9010000e+03]\n",
      " [ 2.0171231e+07  2.1000000e+00 -2.0000000e+00  5.8000000e+00\n",
      "   4.0000000e-01  2.9010000e+03]]\n"
     ]
    }
   ],
   "source": [
    "# 데이터프레임에 저장된 데이터를 numpy 배열로 변환한다.\n",
    "data = np.array(price_data)\n",
    "print(data.shape)\n",
    "print(data)"
   ]
  },
  {
   "cell_type": "code",
   "execution_count": 4,
   "id": "796bbbfb-9ccc-40d8-9a8f-469e71caedc1",
   "metadata": {},
   "outputs": [
    {
     "name": "stdout",
     "output_type": "stream",
     "text": [
      "[[ -4.9 -11.    0.9   0. ]\n",
      " [ -3.1  -5.5   5.5   0.8]\n",
      " [ -2.9  -6.9   1.4   0. ]\n",
      " ...\n",
      " [  2.9  -2.1   8.    0. ]\n",
      " [  2.9  -1.6   7.1   0.6]\n",
      " [  2.1  -2.    5.8   0.4]]\n"
     ]
    }
   ],
   "source": [
    "#numpy 배열에서 변화 요인(피쳐) 데이터(평균기온, 최저기온, 최고기온, 강수량)로 사용할 데이터를 뽑아낸다.\n",
    "xData = data[:, 1:5]\n",
    "print(xData)"
   ]
  },
  {
   "cell_type": "code",
   "execution_count": 5,
   "id": "ea9ade0a-ce78-4746-9582-73a104e29aa9",
   "metadata": {},
   "outputs": [
    {
     "name": "stdout",
     "output_type": "stream",
     "text": [
      "[[2123.]\n",
      " [2123.]\n",
      " [2123.]\n",
      " ...\n",
      " [2901.]\n",
      " [2901.]\n",
      " [2901.]]\n"
     ]
    }
   ],
   "source": [
    "#numpy 배열에서 변화 요인에 따른 레이블 데이터(평균가격)로 사용할 데이터를 뽑아낸다.\n",
    "#yData = data[:, -1] # 인덱싱으로 뽑아내면 1차원 형태로 데이터를 뽑아낸다.\n",
    "#변화 요인이 2차원이므로 결과도 2차원 형태로 뽑아내야 한다.\n",
    "#1차원 형태로 뽑아냈으면 reshape(-1, 1)을 실행해서 2차원 형태로 변형한다.\n",
    "#yData = data[:, -1].reshape(-1, 1)\n",
    "#yData = data[:, 5:6] #슬라이싱으로 뽑아내며 2차원 데이터를 뽑아낸다.\n",
    "yData = data[:, [-1]] # 인덱싱으로 뽑아낸 결과를 리스트화 시켜도 2차원 형태의 데이터로 뽑아낸다.\n",
    "print(yData)"
   ]
  },
  {
   "cell_type": "code",
   "execution_count": 6,
   "id": "70060f1b-7bd9-420e-80dd-1147a7a0ef59",
   "metadata": {
    "tags": []
   },
   "outputs": [],
   "source": [
    "# 입력 데이터와 입력 데이터에 따른 레이블을 저장할 placeholder를 만든다.\n",
    "X = tf.placeholder(dtype=tf.float32, shape=(None, 4))#변화 요인을 기억할 placeholder\n",
    "Y = tf.placeholder(dtype=tf.float32, shape=(None, 1))#변화 요인에 따른 결과 레이블 데이터(결과)를 기억할 placeholder"
   ]
  },
  {
   "cell_type": "code",
   "execution_count": 7,
   "id": "38eb6288-10cc-4ca9-a876-71f30fe27a63",
   "metadata": {
    "tags": []
   },
   "outputs": [
    {
     "name": "stdout",
     "output_type": "stream",
     "text": [
      "기울기\n",
      "[[0.32814336]\n",
      " [0.28359067]\n",
      " [0.90508807]\n",
      " [0.4887681 ]]\n",
      "y절편\n",
      "[0.07346058]\n"
     ]
    }
   ],
   "source": [
    "# 다변인 선형 회귀 모델의 기울기(가중치)와 y절편(바이어스)를 임의의 값으로 초기화한다.\n",
    "a = tf.Variable(tf.random_uniform((4, 1), dtype=tf.float32))# 기울기, 입력데이터와 행렬곱하기 위해서 4 x 1 로 난수를 발생시킨다.\n",
    "b = tf.Variable(tf.random_uniform([1], dtype=tf.float32))# y절편;바이어스\n",
    "sess = tf.Session()\n",
    "sess.run(tf.global_variables_initializer())\n",
    "print('기울기\\n', sess.run(a), sep='')\n",
    "print('y절편\\n', sess.run(b), sep='')"
   ]
  },
  {
   "cell_type": "code",
   "execution_count": 8,
   "id": "da08af96-53ea-4621-96ee-5110247b4a80",
   "metadata": {
    "tags": []
   },
   "outputs": [],
   "source": [
    "# 다변인 선형 회귀 모델의 가설(예측값을 계산하는 식)을 만든다.\n",
    "y = tf.matmul(X, a) + b # 예측값 계산식\n",
    "\n",
    "#평균 제곱근 오차 함수(RMSE)를 만든다. -> 예측값(y)과 실제값(Y)의 편차의 제곱에 대한 평균\n",
    "loss = tf.sqrt( tf.reduce_mean( tf.square(y - Y) ) )\n",
    "\n",
    "#경사 하강법 알고리즘을 사용해서 오차함수의 결과를 최소로 하는 기울기와 y절편을 찾는다.\n",
    "train = tf.train.GradientDescentOptimizer(0.01).minimize(loss)\n"
   ]
  },
  {
   "cell_type": "code",
   "execution_count": 9,
   "id": "1b57ca39-c91b-4d5c-8adb-ac9a25cf06f9",
   "metadata": {
    "tags": []
   },
   "outputs": [
    {
     "name": "stdout",
     "output_type": "stream",
     "text": [
      "epoch ->     0, loss -> 3521.2180, price ->   -11.55\n",
      "epoch ->  5000, loss -> 1733.0333, price ->   813.30\n",
      "epoch -> 10000, loss -> 1565.6587, price ->  1717.91\n",
      "epoch -> 15000, loss -> 1521.5409, price ->  2176.65\n",
      "epoch -> 20000, loss -> 1511.1726, price ->  2393.30\n",
      "epoch -> 25000, loss -> 1508.4528, price ->  2493.75\n",
      "epoch -> 30000, loss -> 1507.3824, price ->  2540.15\n",
      "epoch -> 35000, loss -> 1506.6649, price ->  2561.60\n",
      "epoch -> 40000, loss -> 1506.0245, price ->  2571.54\n",
      "epoch -> 45000, loss -> 1505.4022, price ->  2576.23\n",
      "epoch -> 50000, loss -> 1504.7859, price ->  2578.45\n",
      "epoch -> 55000, loss -> 1504.1725, price ->  2579.69\n",
      "epoch -> 60000, loss -> 1503.5609, price ->  2580.17\n",
      "epoch -> 65000, loss -> 1502.9540, price ->  2580.52\n",
      "epoch -> 70000, loss -> 1502.3489, price ->  2580.79\n",
      "epoch -> 75000, loss -> 1501.7451, price ->  2581.05\n",
      "epoch -> 80000, loss -> 1501.1434, price ->  2581.29\n",
      "epoch -> 85000, loss -> 1500.5460, price ->  2581.50\n",
      "epoch -> 90000, loss -> 1499.9498, price ->  2581.70\n",
      "epoch -> 95000, loss -> 1499.3547, price ->  2581.91\n",
      "epoch -> 100000, loss -> 1498.7611, price ->  2582.11\n"
     ]
    }
   ],
   "source": [
    "#학습시킨다.\n",
    "sess = tf.Session()\n",
    "sess.run(tf.global_variables_initializer())\n",
    "for epoch in range(100001):\n",
    "     _, loss_, y_ = sess.run([train, loss, y], feed_dict={ X : xData, Y: yData})\n",
    "     if epoch % 5000 == 0:\n",
    "          print('epoch -> {:5d}, loss -> {:9.4f}, price -> {:8.2f}'.format ( epoch, loss_, y_[0][0]))\n",
    "     "
   ]
  },
  {
   "cell_type": "code",
   "execution_count": 10,
   "id": "c92359ea-29eb-4677-8aea-6d4d9b4e2d7f",
   "metadata": {},
   "outputs": [
    {
     "name": "stdout",
     "output_type": "stream",
     "text": [
      "[[181345.69]]\n"
     ]
    }
   ],
   "source": [
    "# 테스트\n",
    "data = [[5.2, -7.5, 700.1, 15.0]]\n",
    "result = sess.run(y, feed_dict={X : data})\n",
    "print(result)"
   ]
  },
  {
   "cell_type": "code",
   "execution_count": 11,
   "id": "b33ba695-2a9e-4633-b353-98ce02e204ff",
   "metadata": {},
   "outputs": [
    {
     "name": "stdout",
     "output_type": "stream",
     "text": [
      "학습된 모델 저장!!!!\n"
     ]
    }
   ],
   "source": [
    "# 학습 완료된 예측 모델을 디스크에 저장한다.\n",
    "# Saver() 객체는 학습된 모델을 디스크에 저장 또는 불러올 때 사용한다.\n",
    "saver = tf.train.Saver()\n",
    "saver.save(sess, './model/baechu.ckpt' )\n",
    "print('학습된 모델 저장!!!!')"
   ]
  },
  {
   "cell_type": "code",
   "execution_count": 12,
   "id": "82779ad7-685a-49de-921f-e253e0bd9122",
   "metadata": {},
   "outputs": [],
   "source": [
    "sess.close()"
   ]
  },
  {
   "cell_type": "code",
   "execution_count": null,
   "id": "941ceb43-ce72-4b7b-b551-1c3dd74e0a65",
   "metadata": {},
   "outputs": [],
   "source": []
  },
  {
   "cell_type": "code",
   "execution_count": null,
   "id": "584c0484-d6c9-4f30-b3e3-2e709384afaf",
   "metadata": {},
   "outputs": [],
   "source": []
  },
  {
   "cell_type": "code",
   "execution_count": null,
   "id": "c5739c05-0b43-420b-a299-6e59b04aaa14",
   "metadata": {},
   "outputs": [],
   "source": []
  },
  {
   "cell_type": "code",
   "execution_count": null,
   "id": "fe40084e-8fbf-4859-aeb8-804f2d9be967",
   "metadata": {},
   "outputs": [],
   "source": []
  },
  {
   "cell_type": "code",
   "execution_count": null,
   "id": "9f3e9065-a5d1-45ea-b0a0-f8207ffb086d",
   "metadata": {},
   "outputs": [],
   "source": []
  },
  {
   "cell_type": "code",
   "execution_count": null,
   "id": "83032f41-8176-4e57-9847-45c7da526702",
   "metadata": {},
   "outputs": [],
   "source": []
  },
  {
   "cell_type": "code",
   "execution_count": null,
   "id": "a71c8c69-b606-4bec-8ec1-26591afc842e",
   "metadata": {},
   "outputs": [],
   "source": []
  },
  {
   "cell_type": "code",
   "execution_count": null,
   "id": "d76b56b5-6673-49b1-9501-484cc6454f6d",
   "metadata": {},
   "outputs": [],
   "source": []
  },
  {
   "cell_type": "code",
   "execution_count": null,
   "id": "2ba7244b-00da-4fd3-8713-8298f27b6b6f",
   "metadata": {},
   "outputs": [],
   "source": []
  },
  {
   "cell_type": "code",
   "execution_count": null,
   "id": "8c7e2044-4377-4481-8cec-913d304491cc",
   "metadata": {},
   "outputs": [],
   "source": []
  },
  {
   "cell_type": "code",
   "execution_count": null,
   "id": "90a4d365-754c-40c9-be5e-4a5457eac3f3",
   "metadata": {},
   "outputs": [],
   "source": []
  },
  {
   "cell_type": "code",
   "execution_count": null,
   "id": "b12165db-e8f0-45b7-8120-1af780855220",
   "metadata": {},
   "outputs": [],
   "source": []
  },
  {
   "cell_type": "code",
   "execution_count": null,
   "id": "8d3acd5d-43a3-4120-b341-784f093717d0",
   "metadata": {},
   "outputs": [],
   "source": []
  },
  {
   "cell_type": "code",
   "execution_count": null,
   "id": "6d5d50b0-64d1-429d-a5d1-6268734d58ab",
   "metadata": {},
   "outputs": [],
   "source": []
  },
  {
   "cell_type": "code",
   "execution_count": null,
   "id": "16ec867d-f69f-4632-a841-b4aa09773aef",
   "metadata": {},
   "outputs": [],
   "source": []
  },
  {
   "cell_type": "code",
   "execution_count": null,
   "id": "4d83eacf-a615-4877-b689-a334d6d5c53e",
   "metadata": {},
   "outputs": [],
   "source": []
  },
  {
   "cell_type": "code",
   "execution_count": null,
   "id": "62339969-154c-47ee-ba50-326cf5b75dd4",
   "metadata": {},
   "outputs": [],
   "source": []
  },
  {
   "cell_type": "code",
   "execution_count": null,
   "id": "acf8e7e4-fba1-4ac2-96d1-49b2656f4d4c",
   "metadata": {},
   "outputs": [],
   "source": []
  },
  {
   "cell_type": "code",
   "execution_count": null,
   "id": "001b4252-a890-4d9e-afc2-461bb0a81ad4",
   "metadata": {},
   "outputs": [],
   "source": []
  },
  {
   "cell_type": "code",
   "execution_count": null,
   "id": "7bb65861-feeb-423c-a99c-49a2a98416fd",
   "metadata": {},
   "outputs": [],
   "source": []
  },
  {
   "cell_type": "code",
   "execution_count": null,
   "id": "8dd8e03c-d37d-462b-a42a-772a461f0b22",
   "metadata": {},
   "outputs": [],
   "source": []
  },
  {
   "cell_type": "code",
   "execution_count": null,
   "id": "a25151e9-d098-451d-aaec-192db1cac727",
   "metadata": {},
   "outputs": [],
   "source": []
  },
  {
   "cell_type": "code",
   "execution_count": null,
   "id": "41bbc0b6-c20e-4b9a-8fcb-04b76343a3e7",
   "metadata": {},
   "outputs": [],
   "source": []
  },
  {
   "cell_type": "code",
   "execution_count": null,
   "id": "c8f6bee8-52e1-4c01-9c5a-e6f73f1f57f5",
   "metadata": {},
   "outputs": [],
   "source": []
  },
  {
   "cell_type": "code",
   "execution_count": null,
   "id": "7fc1351b-fa82-4588-bbc0-a5c11c4ad8aa",
   "metadata": {},
   "outputs": [],
   "source": []
  },
  {
   "cell_type": "code",
   "execution_count": null,
   "id": "aa97e2f0-7d54-495a-8411-88995074bfe2",
   "metadata": {},
   "outputs": [],
   "source": []
  },
  {
   "cell_type": "code",
   "execution_count": null,
   "id": "16253f28-75df-4a99-86be-d8d96ae2d677",
   "metadata": {},
   "outputs": [],
   "source": []
  },
  {
   "cell_type": "code",
   "execution_count": null,
   "id": "50dacec9-d014-47be-baf8-6c2c9d79d0ac",
   "metadata": {},
   "outputs": [],
   "source": []
  },
  {
   "cell_type": "code",
   "execution_count": null,
   "id": "e5cd1ab8-fad4-418e-83e4-9c4b337d74b7",
   "metadata": {},
   "outputs": [],
   "source": []
  },
  {
   "cell_type": "code",
   "execution_count": null,
   "id": "336155db-715e-49d3-914c-f357c743b517",
   "metadata": {},
   "outputs": [],
   "source": []
  },
  {
   "cell_type": "code",
   "execution_count": null,
   "id": "e9b36b9a-2b70-47a0-aba7-e5bb1012b874",
   "metadata": {},
   "outputs": [],
   "source": []
  },
  {
   "cell_type": "code",
   "execution_count": null,
   "id": "66c0c627-7bc5-4336-96f1-3a1251e61aa5",
   "metadata": {},
   "outputs": [],
   "source": []
  },
  {
   "cell_type": "code",
   "execution_count": null,
   "id": "11e5e86e-52a1-4a43-952a-078d67788ed3",
   "metadata": {},
   "outputs": [],
   "source": []
  },
  {
   "cell_type": "code",
   "execution_count": null,
   "id": "7b4fd92e-b198-46c3-addd-0c8df2fdc9f2",
   "metadata": {},
   "outputs": [],
   "source": []
  },
  {
   "cell_type": "code",
   "execution_count": null,
   "id": "3a42a7ac-ce40-496c-bc54-8d7cad070017",
   "metadata": {},
   "outputs": [],
   "source": []
  },
  {
   "cell_type": "code",
   "execution_count": null,
   "id": "506f95de-e0be-45f6-a7da-d42d9af54b7b",
   "metadata": {},
   "outputs": [],
   "source": []
  },
  {
   "cell_type": "code",
   "execution_count": null,
   "id": "f4af7ff5-7b41-403a-80c4-c2b75477797a",
   "metadata": {},
   "outputs": [],
   "source": []
  },
  {
   "cell_type": "code",
   "execution_count": null,
   "id": "1662f61b-bb5a-4cfe-9e7c-bb2d62539a62",
   "metadata": {},
   "outputs": [],
   "source": []
  },
  {
   "cell_type": "code",
   "execution_count": null,
   "id": "c87a44f3-9b34-4132-bb9b-c6420a398a01",
   "metadata": {},
   "outputs": [],
   "source": []
  },
  {
   "cell_type": "code",
   "execution_count": null,
   "id": "d920aab8-7bc8-489a-9a85-31746197aabb",
   "metadata": {},
   "outputs": [],
   "source": []
  },
  {
   "cell_type": "code",
   "execution_count": null,
   "id": "91418be0-588c-413e-b8da-1052debffcdd",
   "metadata": {},
   "outputs": [],
   "source": []
  },
  {
   "cell_type": "code",
   "execution_count": null,
   "id": "5a75b044-a8dc-4d52-b625-028e4991244c",
   "metadata": {},
   "outputs": [],
   "source": []
  },
  {
   "cell_type": "code",
   "execution_count": null,
   "id": "98779568-05cb-4d3b-97f3-f06f921343da",
   "metadata": {},
   "outputs": [],
   "source": []
  },
  {
   "cell_type": "code",
   "execution_count": null,
   "id": "abaf5e6a-7345-40d5-9fa9-ab723fc173b9",
   "metadata": {},
   "outputs": [],
   "source": []
  },
  {
   "cell_type": "code",
   "execution_count": null,
   "id": "0cad0a71-a3de-4934-909e-c9f746d73326",
   "metadata": {},
   "outputs": [],
   "source": []
  },
  {
   "cell_type": "code",
   "execution_count": null,
   "id": "3265eeb3-3243-4245-93a8-9a3ed2bd6c95",
   "metadata": {},
   "outputs": [],
   "source": []
  },
  {
   "cell_type": "code",
   "execution_count": null,
   "id": "37537bbd-7e88-45ba-afc0-c72cfb585f77",
   "metadata": {},
   "outputs": [],
   "source": []
  },
  {
   "cell_type": "code",
   "execution_count": null,
   "id": "22d25b43-e70d-4f36-a38a-ffbc5172e0fd",
   "metadata": {},
   "outputs": [],
   "source": []
  },
  {
   "cell_type": "code",
   "execution_count": null,
   "id": "381985c3-fa15-445a-90c0-c894a02bbf50",
   "metadata": {},
   "outputs": [],
   "source": []
  },
  {
   "cell_type": "code",
   "execution_count": null,
   "id": "c82c3725-4578-4146-a556-df16ca0756c8",
   "metadata": {},
   "outputs": [],
   "source": []
  },
  {
   "cell_type": "code",
   "execution_count": null,
   "id": "acb04105-7163-4efb-97a1-d59a4f6e091d",
   "metadata": {},
   "outputs": [],
   "source": []
  }
 ],
 "metadata": {
  "kernelspec": {
   "display_name": "Python [conda env:.conda-py3.7] *",
   "language": "python",
   "name": "conda-env-.conda-py3.7-py"
  },
  "language_info": {
   "codemirror_mode": {
    "name": "ipython",
    "version": 3
   },
   "file_extension": ".py",
   "mimetype": "text/x-python",
   "name": "python",
   "nbconvert_exporter": "python",
   "pygments_lexer": "ipython3",
   "version": "3.7.1"
  }
 },
 "nbformat": 4,
 "nbformat_minor": 5
}
