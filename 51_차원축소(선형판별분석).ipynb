{
 "cells": [
  {
   "cell_type": "code",
   "execution_count": 1,
   "id": "516de4e8-52c8-4ce8-b70e-5a4252883c12",
   "metadata": {
    "tags": []
   },
   "outputs": [],
   "source": [
    "import warnings\n",
    "warnings.filterwarnings(action='ignore')\n",
    "%config Completer.use_jedi = False\n",
    "import numpy as np\n",
    "import pandas as pd\n",
    "import matplotlib.pyplot as plt\n",
    "import matplotlib as mpl\n",
    "mpl.rcParams['axes.unicode_minus'] = False\n",
    "plt.rcParams['font.family'] = 'RIDIBatang'\n",
    "plt.rcParams['font.size'] = 10\n",
    "import seaborn as sns\n",
    "\n",
    "from sklearn import datasets\n",
    "from sklearn.model_selection import train_test_split\n",
    "from sklearn.preprocessing import StandardScaler\n",
    "from sklearn.metrics import accuracy_score\n",
    "from sklearn.metrics import confusion_matrix\n",
    "from sklearn.metrics import classification_report\n",
    "from sklearn.metrics import mean_squared_error  \n",
    "from sklearn.metrics import mean_absolute_error\n",
    "from sklearn.metrics import r2_score\n",
    "from sklearn.metrics import precision_score \n",
    "from sklearn.metrics import recall_score\n",
    "from sklearn.metrics import f1_score"
   ]
  },
  {
   "cell_type": "markdown",
   "id": "0c295430-eec7-4d59-8b0b-40cc1e22ba5b",
   "metadata": {},
   "source": [
    "***\n",
    "선형 판별 분석 (Linear Discriminant Analysis, LDA)\n",
    "***\n",
    "선형 판별 분석은 지도 학습적인 방법을 통한 차원 축소 알고리즘으로 선형 판별 분석이라는 말의 의미는 데이터 포인트가 속하는 클래스를 구분하는 판별함수가 선형 형태의 함수라는 의미이다.  \n",
    "\n",
    "데이터셋의 기존 공간으로부터 집단간 분산과 집단내 분산의 비율을 최대화하는 기존 공간보다 더 작은 차원의 공간으로 원래 데이터를 투영시킴으로써 차원축소를 한다.  \n",
    "즉, 데이터를 최대한 분리해주는 기능을 한다.   \n",
    "\n",
    "선형 판별 분석은 크게 3단계 과정을 거친다.  \n",
    "- 첫번째 단계로 집단간 거리를 계산한다. 이를 집단간 분산이라고 한다.  \n",
    "- 두번째 단계로 각 집단의 평균과 각 데이터 포인트간의 거리를 계산한다. 이를 집단내 분산이라고 한다.  \n",
    "- 세번쨰 단계는 기존 데이터셋의 공간보다 더 작은 차원의 공간을 만드는 것이다. 이 공간은 집단간 분산을 최대화하고 집단내 분산을 최소로 하는 공간이어야 한다.\n"
   ]
  },
  {
   "cell_type": "markdown",
   "id": "d23915b2-ace1-4dcc-99f2-e62f1a64abf6",
   "metadata": {},
   "source": [
    "***\n",
    "다른 차원 축소 방법과 비교하기 위해 와인 데이터를 이용한다.\n",
    "***"
   ]
  },
  {
   "cell_type": "code",
   "execution_count": 2,
   "id": "a9f9be8b-4bd8-4390-9b96-34cfac062de6",
   "metadata": {
    "tags": []
   },
   "outputs": [
    {
     "name": "stdout",
     "output_type": "stream",
     "text": [
      "(178, 13) (178,)\n",
      "(133, 13) (45, 13) (133,) (45,)\n"
     ]
    }
   ],
   "source": [
    "# 데이터 불러오기\n",
    "raw_data = datasets.load_wine() # 사이킷런이 제공하는 와인 데이터를 불러온다.\n",
    "\n",
    "# 피쳐, 레이블 데이터 저장\n",
    "xData = raw_data.data # 피쳐 데이터를 저장한다.\n",
    "yData = raw_data.target # 피쳐 데이터에 따른 레이블을 저장한다.\n",
    "print(xData.shape, yData.shape)\n",
    "\n",
    "# 학습 데이터와 테스트 데이터로 분할\n",
    "x_train, x_test, y_train, y_test = train_test_split(xData, yData, random_state=1)\n",
    "print(x_train.shape, x_test.shape, y_train.shape, y_test.shape)\n",
    "\n",
    "# 데이터 표준화\n",
    "std_scale = StandardScaler() # 표준화 스케일러 객체를 만든다.\n",
    "x_train = std_scale.fit_transform(x_train) # 학습 데이터를 스케일러로 표준화하고 적용한다.\n",
    "x_test = std_scale.transform(x_test) # 테스트 데이터를 학습 데이터로 표준화된 스케일러에 적용한다.\n"
   ]
  },
  {
   "cell_type": "markdown",
   "id": "a60ff65c-aa13-4122-b184-07866e40a869",
   "metadata": {},
   "source": [
    "***\n",
    "선형 판별 분석을 통한 차원 축소\n",
    "***"
   ]
  },
  {
   "cell_type": "code",
   "execution_count": 3,
   "id": "b30a87e9-d3ea-4210-a376-b5d96e35ad67",
   "metadata": {
    "tags": []
   },
   "outputs": [
    {
     "name": "stdout",
     "output_type": "stream",
     "text": [
      "(133, 2) (45, 2)\n"
     ]
    }
   ],
   "source": [
    "from sklearn.discriminant_analysis import LinearDiscriminantAnalysis # LDA 선형 판별 분석 알고리즘 사용\n",
    "\n",
    "# n_components 속성에 축소할 차원이 크기를 지정해 선형 판별 분석 모델 객체를 만든다.\n",
    "# n_components 속성에 사용가능한 값은 기본값인 min(피쳐 갯수, 클래스 갯수 - 1)보다 큰 값을 지정할 수 없다.\n",
    "# 와인 데이터의 피쳐는 13개이고, 클래스는 3개이므로 n_components 속성값은 min(13, 3 - 1)의 결과인\n",
    "# 2보다 큰 값을 지정하면 에러가 발생한다.   \n",
    "# n_components 속성 생략시 13차원 데이터는 2차원(기본값)으로 줄어들고, n_components 속성값을 1로 설정하면 1차원으로 줄어든다.   \n",
    "lda = LinearDiscriminantAnalysis(n_components=2)\n",
    "\n",
    "#lda.fit(x_train, y_train) # 학습 데이터와 학습 데이터의 레이블로 선형 판별 분석 모델 학습, 선형 판별 분석 알고리즘은 지도 학습이므로 레이블;답이 필요함.\n",
    "\n",
    "#x_train_lda = lda.transform(x_train)# 학습된 선형 판별 분석 모델에 학습 데이터를 적용\n",
    "\n",
    "x_train_lda = lda.fit_transform(x_train, y_train)\n",
    "\n",
    "# 학습은 학습 데이터로만 해야하고 테스트 데이터는 학습 데이터로 학습된 결과에 적용만 시킨다.\n",
    "x_test_lda = lda.transform(x_test)\n",
    "\n",
    "\n",
    "# 차원 축소 이전 데이터의 차원을 확인하면 차원 축소 전의 피쳐 데이터는 13차원의 데이터 133개로 구성되어 있음을 알 수 있고, \n",
    "# 주성분 분석을 이용, 차원 축소한 데이터는 2차원의 데이터 133개로 구성되어 있음을 알 수 있다. \n",
    "print(x_train_lda.shape, x_test_lda.shape) # ::before (133, 13) (45, 13) -> ::after (133, 2) (45, 2)"
   ]
  },
  {
   "cell_type": "code",
   "execution_count": 4,
   "id": "a9fe7c9a-9024-43ae-ab3a-cfcca654ac1c",
   "metadata": {
    "tags": []
   },
   "outputs": [
    {
     "name": "stdout",
     "output_type": "stream",
     "text": [
      "[ -9.49063922  -3.6792656  -10.65310672]\n"
     ]
    }
   ],
   "source": [
    "# 선형 판별 분석 상수항을 확인한다.\n",
    "# intercept_ 속성으로 상수항을 확인할 수 있다.\n",
    "print(lda.intercept_)"
   ]
  },
  {
   "cell_type": "code",
   "execution_count": 5,
   "id": "a1d6a40b-54de-419c-9efa-3351a8c35570",
   "metadata": {
    "tags": []
   },
   "outputs": [
    {
     "name": "stdout",
     "output_type": "stream",
     "text": [
      "[[ 2.11536841  0.34171834  1.60756274 -2.62777005 -0.02954383 -1.92461007\n",
      "   5.43612614  0.30142527 -0.66723405 -2.08948728  0.53569108  3.06011656\n",
      "   5.45318503]\n",
      " [-1.18707715 -0.97635273 -1.64104916  1.19614378  0.22114803  0.2969019\n",
      "   1.13721801  0.4338713   0.33425086 -1.57541361  0.56544507 -0.17730553\n",
      "  -2.34856045]\n",
      " [-0.59547207  1.01875252  0.59754164  1.13544231 -0.28238675  1.65463974\n",
      "  -7.48134065 -0.94177595  0.24492236  4.49319245 -1.38150969 -3.04974421\n",
      "  -2.54627163]]\n"
     ]
    }
   ],
   "source": [
    "# 선형 판별 분석 가중 벡터를 확인한다. \n",
    "# coef_ 속성으로 가중 벡터를 확인할 수 있다. \n",
    "print(lda.coef_)"
   ]
  },
  {
   "cell_type": "markdown",
   "id": "41884056-4870-40c6-b7e0-88251c3da92f",
   "metadata": {},
   "source": [
    "***\n",
    "선형 회귀 분석을 통해 차원 축소된 데이터 시각화\n",
    "***"
   ]
  },
  {
   "cell_type": "code",
   "execution_count": 6,
   "id": "39b59c90-3e11-44f5-b896-ad2863dbafd1",
   "metadata": {
    "tags": []
   },
   "outputs": [
    {
     "data": {
      "text/html": [
       "<div>\n",
       "<style scoped>\n",
       "    .dataframe tbody tr th:only-of-type {\n",
       "        vertical-align: middle;\n",
       "    }\n",
       "\n",
       "    .dataframe tbody tr th {\n",
       "        vertical-align: top;\n",
       "    }\n",
       "\n",
       "    .dataframe thead th {\n",
       "        text-align: right;\n",
       "    }\n",
       "</style>\n",
       "<table border=\"1\" class=\"dataframe\">\n",
       "  <thead>\n",
       "    <tr style=\"text-align: right;\">\n",
       "      <th></th>\n",
       "      <th>lda_compute1</th>\n",
       "      <th>lda_compute2</th>\n",
       "      <th>label</th>\n",
       "    </tr>\n",
       "  </thead>\n",
       "  <tbody>\n",
       "    <tr>\n",
       "      <th>0</th>\n",
       "      <td>2.563293</td>\n",
       "      <td>-0.503212</td>\n",
       "      <td>0</td>\n",
       "    </tr>\n",
       "    <tr>\n",
       "      <th>1</th>\n",
       "      <td>0.646015</td>\n",
       "      <td>-2.169761</td>\n",
       "      <td>1</td>\n",
       "    </tr>\n",
       "    <tr>\n",
       "      <th>2</th>\n",
       "      <td>3.981901</td>\n",
       "      <td>1.621584</td>\n",
       "      <td>0</td>\n",
       "    </tr>\n",
       "    <tr>\n",
       "      <th>3</th>\n",
       "      <td>5.956216</td>\n",
       "      <td>3.878140</td>\n",
       "      <td>0</td>\n",
       "    </tr>\n",
       "    <tr>\n",
       "      <th>4</th>\n",
       "      <td>4.047839</td>\n",
       "      <td>2.335699</td>\n",
       "      <td>0</td>\n",
       "    </tr>\n",
       "    <tr>\n",
       "      <th>...</th>\n",
       "      <td>...</td>\n",
       "      <td>...</td>\n",
       "      <td>...</td>\n",
       "    </tr>\n",
       "    <tr>\n",
       "      <th>128</th>\n",
       "      <td>-3.519877</td>\n",
       "      <td>0.440679</td>\n",
       "      <td>2</td>\n",
       "    </tr>\n",
       "    <tr>\n",
       "      <th>129</th>\n",
       "      <td>-4.457515</td>\n",
       "      <td>0.491287</td>\n",
       "      <td>2</td>\n",
       "    </tr>\n",
       "    <tr>\n",
       "      <th>130</th>\n",
       "      <td>-0.639263</td>\n",
       "      <td>-1.684700</td>\n",
       "      <td>1</td>\n",
       "    </tr>\n",
       "    <tr>\n",
       "      <th>131</th>\n",
       "      <td>-2.440212</td>\n",
       "      <td>1.168633</td>\n",
       "      <td>2</td>\n",
       "    </tr>\n",
       "    <tr>\n",
       "      <th>132</th>\n",
       "      <td>2.576351</td>\n",
       "      <td>1.189816</td>\n",
       "      <td>0</td>\n",
       "    </tr>\n",
       "  </tbody>\n",
       "</table>\n",
       "<p>133 rows × 3 columns</p>\n",
       "</div>"
      ],
      "text/plain": [
       "     lda_compute1  lda_compute2  label\n",
       "0        2.563293     -0.503212      0\n",
       "1        0.646015     -2.169761      1\n",
       "2        3.981901      1.621584      0\n",
       "3        5.956216      3.878140      0\n",
       "4        4.047839      2.335699      0\n",
       "..            ...           ...    ...\n",
       "128     -3.519877      0.440679      2\n",
       "129     -4.457515      0.491287      2\n",
       "130     -0.639263     -1.684700      1\n",
       "131     -2.440212      1.168633      2\n",
       "132      2.576351      1.189816      0\n",
       "\n",
       "[133 rows x 3 columns]"
      ]
     },
     "execution_count": 6,
     "metadata": {},
     "output_type": "execute_result"
    }
   ],
   "source": [
    "# 차원 축소한 데이터 시각화를 위해 데이터 프레임을 만든다.\n",
    "x_train_df = pd.DataFrame(x_train_lda, columns=['lda_compute1', 'lda_compute2'])\n",
    "x_train_df[\"label\"] = y_train\n",
    "x_train_df"
   ]
  },
  {
   "cell_type": "code",
   "execution_count": 7,
   "id": "150417e4-b6bb-4f7d-95ae-874b6c3f09ae",
   "metadata": {
    "tags": []
   },
   "outputs": [
    {
     "data": {
      "image/png": "[encoded data removed]",
      "text/plain": [
       "<Figure size 1000x700 with 1 Axes>"
      ]
     },
     "metadata": {},
     "output_type": "display_data"
    }
   ],
   "source": [
    "# 위 셀의 시각화 코드를 반복문을 사용해서 만든다.\n",
    "plt.figure(figsize=[10, 7])\n",
    "markers = [\"o\", \"*\", \"s\"]\n",
    "\n",
    "for index, marker in enumerate(markers):\n",
    "     df_index = x_train_df[x_train_df.label == index] # 레이블 별로 데이터를 분할한다.\n",
    "     x = df_index.lda_compute1 # 레이블 별로 분할된 데이터에 첫번째 주성분 벡터를 추출한다.\n",
    "     y = df_index.lda_compute2 # 레이블 별로 분할된 데이터에 두번째 주성분 벡터를 추출한다.\n",
    "     label = raw_data.target_names[index] # 레이블 이름을 지정한다.\n",
    "     plt.scatter(x=x, y=y, marker=marker, label= label ) # 산포도를 그린다.\n",
    "\n",
    "plt.title(\"레이블 적용된 선형 판별 분석 데이터 시각화\")\n",
    "plt.xlabel(\"lda_Comp_1\")\n",
    "plt.ylabel(\"lda_Comp_2\")\n",
    "plt.legend()\n",
    "plt.show()"
   ]
  },
  {
   "cell_type": "markdown",
   "id": "824edb38-c376-4eb9-b5ac-2bee497c63a2",
   "metadata": {},
   "source": [
    "***\n",
    "선형 판별 분석 적용 전 데이터 학습 x_train\n",
    "***"
   ]
  },
  {
   "cell_type": "code",
   "execution_count": 8,
   "id": "9fdc56dd-2f3b-4361-b6d0-3a7d422f6d0e",
   "metadata": {
    "tags": []
   },
   "outputs": [],
   "source": [
    "from sklearn.ensemble import RandomForestClassifier"
   ]
  },
  {
   "cell_type": "code",
   "execution_count": 9,
   "id": "827e2883-0d58-42b4-a3d8-49cfb6086173",
   "metadata": {
    "tags": []
   },
   "outputs": [
    {
     "data": {
      "text/plain": [
       "array([[18,  0,  0],\n",
       "       [ 1, 16,  0],\n",
       "       [ 0,  0, 10]], dtype=int64)"
      ]
     },
     "execution_count": 9,
     "metadata": {},
     "output_type": "execute_result"
    }
   ],
   "source": [
    "rfc = RandomForestClassifier(max_depth=4, random_state=0) # 랜덤 포레스트 모델 객체 생성\n",
    "rfc.fit(x_train, y_train) # 학습\n",
    "predict = rfc.predict(x_test) #예측\n",
    "#print(predict)\n",
    "confusion_matrix(y_test, predict) #혼동행렬"
   ]
  },
  {
   "cell_type": "code",
   "execution_count": 10,
   "id": "d55f8bfb-ad73-48bc-a1b4-36e1a54c4d3f",
   "metadata": {
    "tags": []
   },
   "outputs": [
    {
     "name": "stdout",
     "output_type": "stream",
     "text": [
      "              precision    recall  f1-score   support\n",
      "\n",
      "           0       0.95      1.00      0.97        18\n",
      "           1       1.00      0.94      0.97        17\n",
      "           2       1.00      1.00      1.00        10\n",
      "\n",
      "    accuracy                           0.98        45\n",
      "   macro avg       0.98      0.98      0.98        45\n",
      "weighted avg       0.98      0.98      0.98        45\n",
      "\n"
     ]
    }
   ],
   "source": [
    "print(classification_report(y_test, predict))"
   ]
  },
  {
   "cell_type": "markdown",
   "id": "d043e742-2b64-4894-8981-b1d4f969bb44",
   "metadata": {},
   "source": [
    "***\n",
    "선형 판별 분석 적용 후 데이터 학습 x_train_lda\n",
    "***"
   ]
  },
  {
   "cell_type": "code",
   "execution_count": 11,
   "id": "466b63b8-37d1-4a01-983d-154028c10b73",
   "metadata": {
    "tags": []
   },
   "outputs": [
    {
     "data": {
      "text/plain": [
       "array([[18,  0,  0],\n",
       "       [ 0, 17,  0],\n",
       "       [ 0,  0, 10]], dtype=int64)"
      ]
     },
     "execution_count": 11,
     "metadata": {},
     "output_type": "execute_result"
    }
   ],
   "source": [
    "rfc.fit(x_train_lda, y_train) # 학습\n",
    "predict = rfc.predict(x_test_lda) #예측\n",
    "#print(predict)\n",
    "confusion_matrix(y_test, predict) #혼동행렬"
   ]
  },
  {
   "cell_type": "code",
   "execution_count": 12,
   "id": "27450618-f5b1-4b86-939d-c2849a567882",
   "metadata": {
    "tags": []
   },
   "outputs": [
    {
     "name": "stdout",
     "output_type": "stream",
     "text": [
      "              precision    recall  f1-score   support\n",
      "\n",
      "           0       1.00      1.00      1.00        18\n",
      "           1       1.00      1.00      1.00        17\n",
      "           2       1.00      1.00      1.00        10\n",
      "\n",
      "    accuracy                           1.00        45\n",
      "   macro avg       1.00      1.00      1.00        45\n",
      "weighted avg       1.00      1.00      1.00        45\n",
      "\n"
     ]
    }
   ],
   "source": [
    "print(classification_report(y_test, predict))"
   ]
  },
  {
   "cell_type": "code",
   "execution_count": null,
   "id": "ca42c321-1f0f-4f8e-81fa-b65857d9d29f",
   "metadata": {},
   "outputs": [],
   "source": []
  },
  {
   "cell_type": "code",
   "execution_count": null,
   "id": "fe461634-aa16-4715-92aa-23d42545d43f",
   "metadata": {},
   "outputs": [],
   "source": []
  },
  {
   "cell_type": "code",
   "execution_count": null,
   "id": "4af5ce9c-41f2-44e7-91e2-749887730ff7",
   "metadata": {},
   "outputs": [],
   "source": []
  },
  {
   "cell_type": "code",
   "execution_count": null,
   "id": "c57a7e50-76b5-4b70-a4b5-911f6a885d7b",
   "metadata": {},
   "outputs": [],
   "source": []
  },
  {
   "cell_type": "code",
   "execution_count": null,
   "id": "47d79ef0-e7fd-49a4-8f80-224d935580a8",
   "metadata": {},
   "outputs": [],
   "source": []
  },
  {
   "cell_type": "code",
   "execution_count": null,
   "id": "f6ef6752-f872-40a7-909f-09745114555c",
   "metadata": {},
   "outputs": [],
   "source": []
  }
 ],
 "metadata": {
  "kernelspec": {
   "display_name": "Python [conda env:.conda-py3.7] *",
   "language": "python",
   "name": "conda-env-.conda-py3.7-py"
  },
  "language_info": {
   "codemirror_mode": {
    "name": "ipython",
    "version": 3
   },
   "file_extension": ".py",
   "mimetype": "text/x-python",
   "name": "python",
   "nbconvert_exporter": "python",
   "pygments_lexer": "ipython3",
   "version": "3.7.1"
  }
 },
 "nbformat": 4,
 "nbformat_minor": 5
}
