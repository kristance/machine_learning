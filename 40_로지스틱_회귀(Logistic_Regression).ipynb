{
 "cells": [
  {
   "cell_type": "code",
   "execution_count": 1,
   "id": "f5274d6e-02ff-4ba6-b6ac-54a26cb0f057",
   "metadata": {
    "tags": []
   },
   "outputs": [],
   "source": [
    "import warnings\n",
    "warnings.filterwarnings(action='ignore')\n",
    "%config Completer.use_jedi = False\n",
    "import numpy as np\n",
    "import pandas as pd\n",
    "import matplotlib.pyplot as plt\n",
    "import matplotlib as mpl\n",
    "mpl.rcParams['axes.unicode_minus'] = False\n",
    "plt.rcParams['font.family'] = 'NanumGothicCoding'\n",
    "plt.rcParams['font.size'] = 10\n",
    "import seaborn as sns\n",
    "\n",
    "from sklearn import datasets\n",
    "from sklearn.model_selection import train_test_split\n",
    "from sklearn.preprocessing import StandardScaler\n",
    "from sklearn.metrics import accuracy_score\n",
    "from sklearn.metrics import confusion_matrix\n",
    "from sklearn.metrics import classification_report\n",
    "from sklearn.metrics import mean_squared_error  \n",
    "from sklearn.metrics import mean_absolute_error\n",
    "from sklearn.metrics import r2_score\n",
    "from sklearn.metrics import precision_score \n",
    "from sklearn.metrics import recall_score\n",
    "from sklearn.metrics import f1_score"
   ]
  },
  {
   "cell_type": "markdown",
   "id": "786398e7-aa39-4dd8-bbd8-0da2e0b9bb50",
   "metadata": {},
   "source": [
    "***\n",
    "선형 회귀 분석은 예측 문제를 풀기에는 적합하지만 분류 문제를 풀기에는 적합하지 않다.\n",
    "***\n",
    "\n",
    "선형 회귀 분석의 레이블 데이터 값의 범위에는 제한이 없기 때문에 결과값이 제한되는 상황에서 회귀 모형이 결과 값에 제한이 없다면 분류 문제를 풀기 어려워진다. 0과 1로 분류해야 하는 문제에서 모델의 결과값는 오직 0과 1 사이의 값으로 나와야 할 것이다. 이러한 문제점을 해결하기 위해 사용하는 방법이 로지스틱 회귀 분석이다.\n",
    "\n",
    "$$z = w^Tx + b$$\n",
    "\n",
    "위 식은 선형 회귀 분석 모델이다.  \n",
    "z값은 제한이 없고 어떤 값도 가질 수 있으므로 위 식을 이용해서 분류 문제를 푸는 것은 어렵다는 것을 알 수 있다. 기존의 선형 회귀 모델 식을 분류 문제를 풀 수 있도록 변형시키는 과정이 필요하다. 이를 위해 결과값이 제한된 범위를 가지도록 변형시켜 보자.\n",
    "\n",
    "$$y = \\frac{1}{1 + e^{-z}} = \\frac{1}{1 + e^{-(w^Tx + b)}}$$\n",
    "\n",
    "z에 대한 선형 회귀 식을 위와 같이 변경시키면 새로운 출력 y는 0과 1 사이의 값만 가지게 된다. 위 함수를 시그모이드(sigmoid) 함수라고 부른다. 시그모이드 함수는 딥러닝에서도 자주 나오는 함수로 식의 우변이 $z = w^Tx + b$ 형태가 되도록 변형시키면 아래와 같이 표현할 수 있다.\n",
    "\n",
    "$$log(\\frac{y}{1 - y}) = w^Tx + b$$\n",
    "\n",
    "위식을 보면 우변이 $z = w^Tx + b$와 같은 선형 형태로 나타난다. 위 식에서 좌변 $\\frac{y}{1 - y}$를 오즈 비(odds ratio)라고 부른다.\n",
    "\n",
    "오즈 비에서 분자에 해당하는 y가 사건이 발생할 확률(성공 확률)이라고 했을 때 분모인 1 - y는 사건이 발생하지 않을 확률(실패 확률)에 해당된다. 실패 확률과 성공 확률의 비를 오즈 비라고 부른다. 또한 오즈 비에 log를 최한 값 $log(\\frac{y}{1 - y})$을 로짓(logit)이라고 부른다."
   ]
  },
  {
   "cell_type": "markdown",
   "id": "f8abc3a8-b01f-42fc-a2d3-45b16543c401",
   "metadata": {},
   "source": [
    "***\n",
    "위스콘신 대학 암 발생 데이터를 사용해 양성과 악성을 예측하는 모델을 생성하고 학습시킨다.\n",
    "***"
   ]
  },
  {
   "cell_type": "code",
   "execution_count": 2,
   "id": "f449c71d-a649-4888-9515-69e7978fcaf7",
   "metadata": {
    "tags": []
   },
   "outputs": [
    {
     "name": "stdout",
     "output_type": "stream",
     "text": [
      "(569, 30) (569,)\n",
      "(426, 30) (143, 30) (426,) (143,)\n",
      "[[-0.48143978 -0.41014209 -0.46725987 -0.51392775 -0.09769918  0.3020924\n",
      "  -0.72884664 -0.7890253  -0.01424461  0.39299676 -1.08415325 -0.04728618\n",
      "  -0.5669909  -0.74499028 -0.22229903  0.90896096 -0.05386185 -0.49962018\n",
      "   0.17826258  0.71184481 -1.05809159 -0.95888641 -0.91097127 -0.97646535\n",
      "  -0.41365059 -0.01729729 -0.82465772 -0.93295021 -0.76852329 -0.61983664]]\n",
      "[0.36341572]\n"
     ]
    }
   ],
   "source": [
    "# 데이터 불러오기\n",
    "raw_data = datasets.load_breast_cancer() # 사이킷런이 제공하는 위스콘신 암 발생 데이터를 불러온다.\n",
    "\n",
    "# 피쳐, 레이블 데이터 저장\n",
    "xData = raw_data.data # 피쳐 데이터를 저장한다.\n",
    "yData = raw_data.target # 피쳐 데이터에 따른 레이블을 저장한다.\n",
    "print(xData.shape, yData.shape)\n",
    "\n",
    "\n",
    "# 학습 데이터와 테스트 데이터로 분할\n",
    "x_train, x_test, y_train, y_test = train_test_split(xData, yData, random_state=1)\n",
    "print(x_train.shape, x_test.shape, y_train.shape, y_test.shape)\n",
    "\n",
    "# 데이터 표준화\n",
    "std_scale = StandardScaler() # 표준화 스케일러 객체를 만든다.\n",
    "x_train = std_scale.fit_transform(x_train) # 학습 데이터를 스케일러로 표준화하고 적용한다.\n",
    "x_test = std_scale.transform(x_test) # 테스트 데이터를 학습 데이터로 표준화된 스케일러에 적용한다.\n",
    "\n",
    "#  모델 생성 후 데이터 학습\n",
    "from sklearn.linear_model import LogisticRegression #로지스틱 회귀 알고리즘 사용을 위해 import\n",
    "# 로지스틱 회귀 모델의 penalty 속성으로 제약 방식 지정해서 모델을 만들 수 있다.\n",
    "# penaly 속성의 기본값은 'l2'이고, L2 제약식을 적용한다. 'l1'은 L1 제약식을, \n",
    "# 'elasticnet'은 L1,L2 제약식을 모두 적용하고, 'None'은 제약방식을 지정하지 않는다.\n",
    "clf = LogisticRegression(penalty='l2')\n",
    "# 표준화된 학습 데이터 x_train와 학습 데이터에 따른 레이블 데이터 y_train으로 로지스틱 회귀 모델에 학습시킨다.\n",
    "clf.fit(x_train, y_train)\n",
    "\n",
    "# 로지스틱 회귀 분석 계수(가중치)와 상수항 (바이어스) 확인\n",
    "print(clf.coef_) # 가중치\n",
    "print(clf.intercept_) # 바이어스"
   ]
  },
  {
   "cell_type": "markdown",
   "id": "8fda22e7-1498-4f24-a198-fdcc848762ec",
   "metadata": {},
   "source": [
    "***\n",
    "학습된 모델로 테스트 데이터를 예측한다.\n",
    "***"
   ]
  },
  {
   "cell_type": "code",
   "execution_count": 3,
   "id": "28b26a37-78a2-4a62-bab1-61e7af62917e",
   "metadata": {
    "tags": []
   },
   "outputs": [
    {
     "name": "stdout",
     "output_type": "stream",
     "text": [
      "[1 0 1 0 0 0 0 0 1 1 1 0 0 1 1 1 1 1 1 0 1 1 0 1 0 1 1 0 0 0 0 1 0 0 1 1 0\n",
      " 1 0 1 1 1 1 1 1 0 1 1 1 0 0 0 1 1 1 1 1 0 1 1 1 0 1 1 1 1 1 0 1 1 1 1 1 0\n",
      " 1 0 0 1 1 0 1 0 1 0 1 1 0 1 0 1 1 0 1 1 0 0 1 1 1 1 1 1 1 1 1 1 1 1 0 0 0\n",
      " 1 1 1 0 0 1 1 1 1 1 0 0 1 1 0 0 1 0 0 1 1 1 0 1 0 0 1 1 0 0 0 1]\n"
     ]
    }
   ],
   "source": [
    "#predict() 메소드의 인수로 표준화된 테스트 데이터를 넘겨서 예측한다.\n",
    "predict = clf.predict(x_test)\n",
    "print(predict)"
   ]
  },
  {
   "cell_type": "code",
   "execution_count": 4,
   "id": "95fe28bd-cd0c-42cd-9255-05e2aaed7b6c",
   "metadata": {
    "collapsed": true,
    "jupyter": {
     "outputs_hidden": true
    },
    "tags": []
   },
   "outputs": [
    {
     "name": "stdout",
     "output_type": "stream",
     "text": [
      "[[1.49488533e-01 8.50511467e-01]\n",
      " [9.89656817e-01 1.03431830e-02]\n",
      " [9.87187552e-03 9.90128124e-01]\n",
      " [9.94890005e-01 5.10999525e-03]\n",
      " [8.94370796e-01 1.05629204e-01]\n",
      " [9.94653457e-01 5.34654285e-03]\n",
      " [9.99934190e-01 6.58097367e-05]\n",
      " [8.39850104e-01 1.60149896e-01]\n",
      " [6.71620121e-03 9.93283799e-01]\n",
      " [2.48219387e-02 9.75178061e-01]\n",
      " [1.16133334e-03 9.98838667e-01]\n",
      " [9.97966542e-01 2.03345776e-03]\n",
      " [9.81618379e-01 1.83816207e-02]\n",
      " [1.87756245e-03 9.98122438e-01]\n",
      " [3.41727616e-01 6.58272384e-01]\n",
      " [3.22621426e-02 9.67737857e-01]\n",
      " [5.94546271e-04 9.99405454e-01]\n",
      " [8.11730977e-03 9.91882690e-01]\n",
      " [6.99424444e-04 9.99300576e-01]\n",
      " [9.99931832e-01 6.81684178e-05]\n",
      " [2.52926669e-03 9.97470733e-01]\n",
      " [4.58182448e-03 9.95418176e-01]\n",
      " [9.99946728e-01 5.32715029e-05]\n",
      " [1.28963362e-02 9.87103664e-01]\n",
      " [9.92283615e-01 7.71638528e-03]\n",
      " [3.06703381e-02 9.69329662e-01]\n",
      " [2.40952072e-02 9.75904793e-01]\n",
      " [9.99991486e-01 8.51390903e-06]\n",
      " [1.00000000e+00 2.62520146e-13]\n",
      " [9.85741614e-01 1.42583858e-02]\n",
      " [9.99999998e-01 2.06559941e-09]\n",
      " [1.07469867e-03 9.98925301e-01]\n",
      " [9.99985352e-01 1.46482459e-05]\n",
      " [9.66875257e-01 3.31247431e-02]\n",
      " [5.56480737e-04 9.99443519e-01]\n",
      " [8.21128905e-04 9.99178871e-01]\n",
      " [9.95869665e-01 4.13033475e-03]\n",
      " [4.30469825e-02 9.56953017e-01]\n",
      " [5.67194747e-01 4.32805253e-01]\n",
      " [2.71330039e-03 9.97286700e-01]\n",
      " [3.59136216e-04 9.99640864e-01]\n",
      " [1.61453638e-01 8.38546362e-01]\n",
      " [2.75204869e-02 9.72479513e-01]\n",
      " [7.85214916e-04 9.99214785e-01]\n",
      " [9.09942681e-03 9.90900573e-01]\n",
      " [9.99151027e-01 8.48972744e-04]\n",
      " [4.77731742e-05 9.99952227e-01]\n",
      " [9.55929516e-05 9.99904407e-01]\n",
      " [2.65669203e-02 9.73433080e-01]\n",
      " [9.73979508e-01 2.60204922e-02]\n",
      " [9.99812176e-01 1.87824378e-04]\n",
      " [9.99999996e-01 4.20038814e-09]\n",
      " [1.19370297e-02 9.88062970e-01]\n",
      " [8.05669246e-05 9.99919433e-01]\n",
      " [1.56361573e-03 9.98436384e-01]\n",
      " [1.10702616e-03 9.98892974e-01]\n",
      " [1.95181106e-03 9.98048189e-01]\n",
      " [9.76791018e-01 2.32089822e-02]\n",
      " [4.09100128e-03 9.95908999e-01]\n",
      " [4.73479953e-05 9.99952652e-01]\n",
      " [3.91528093e-05 9.99960847e-01]\n",
      " [9.99901220e-01 9.87801474e-05]\n",
      " [1.51116736e-02 9.84888326e-01]\n",
      " [1.38337804e-02 9.86166220e-01]\n",
      " [1.74816370e-03 9.98251836e-01]\n",
      " [1.72193260e-03 9.98278067e-01]\n",
      " [7.93016292e-04 9.99206984e-01]\n",
      " [9.99998155e-01 1.84520868e-06]\n",
      " [1.21864732e-04 9.99878135e-01]\n",
      " [1.26838788e-03 9.98731612e-01]\n",
      " [4.94198548e-05 9.99950580e-01]\n",
      " [7.84616055e-04 9.99215384e-01]\n",
      " [9.65590178e-02 9.03440982e-01]\n",
      " [9.99993548e-01 6.45191497e-06]\n",
      " [2.22013949e-05 9.99977799e-01]\n",
      " [9.99999953e-01 4.70817812e-08]\n",
      " [7.35631862e-01 2.64368138e-01]\n",
      " [1.06909679e-01 8.93090321e-01]\n",
      " [9.87040048e-05 9.99901296e-01]\n",
      " [9.99573998e-01 4.26001814e-04]\n",
      " [8.44698183e-04 9.99155302e-01]\n",
      " [9.99991659e-01 8.34108088e-06]\n",
      " [5.25445484e-05 9.99947455e-01]\n",
      " [9.99980746e-01 1.92542932e-05]\n",
      " [2.06630743e-03 9.97933693e-01]\n",
      " [4.30969065e-04 9.99569031e-01]\n",
      " [9.84542304e-01 1.54576960e-02]\n",
      " [2.31086126e-02 9.76891387e-01]\n",
      " [9.98445190e-01 1.55480995e-03]\n",
      " [1.91596007e-03 9.98084040e-01]\n",
      " [2.32430983e-02 9.76756902e-01]\n",
      " [9.96316516e-01 3.68348375e-03]\n",
      " [3.99928684e-03 9.96000713e-01]\n",
      " [2.36345892e-05 9.99976365e-01]\n",
      " [9.99996573e-01 3.42672109e-06]\n",
      " [9.26254646e-01 7.37453537e-02]\n",
      " [1.00529923e-05 9.99989947e-01]\n",
      " [8.56964564e-02 9.14303544e-01]\n",
      " [7.97632928e-04 9.99202367e-01]\n",
      " [1.12081756e-03 9.98879182e-01]\n",
      " [1.36820143e-02 9.86317986e-01]\n",
      " [8.66993273e-04 9.99133007e-01]\n",
      " [3.60020910e-05 9.99963998e-01]\n",
      " [1.24058080e-01 8.75941920e-01]\n",
      " [1.92483668e-02 9.80751633e-01]\n",
      " [6.47542192e-03 9.93524578e-01]\n",
      " [1.78993272e-05 9.99982101e-01]\n",
      " [3.65119898e-04 9.99634880e-01]\n",
      " [9.98840494e-01 1.15950632e-03]\n",
      " [9.93456387e-01 6.54361309e-03]\n",
      " [9.99394810e-01 6.05190160e-04]\n",
      " [3.17042114e-01 6.82957886e-01]\n",
      " [1.37009863e-01 8.62990137e-01]\n",
      " [1.98796020e-04 9.99801204e-01]\n",
      " [9.99507495e-01 4.92505318e-04]\n",
      " [9.99954929e-01 4.50709365e-05]\n",
      " [1.58600791e-06 9.99998414e-01]\n",
      " [5.39340814e-04 9.99460659e-01]\n",
      " [1.87991660e-04 9.99812008e-01]\n",
      " [8.53804884e-03 9.91461951e-01]\n",
      " [7.42828062e-02 9.25717194e-01]\n",
      " [9.99952182e-01 4.78181074e-05]\n",
      " [9.99999182e-01 8.17667606e-07]\n",
      " [2.25117093e-02 9.77488291e-01]\n",
      " [3.08098546e-02 9.69190145e-01]\n",
      " [1.00000000e+00 2.79394243e-12]\n",
      " [9.99430411e-01 5.69589484e-04]\n",
      " [4.51898914e-01 5.48101086e-01]\n",
      " [9.99999992e-01 7.96176995e-09]\n",
      " [9.99999999e-01 5.23155579e-10]\n",
      " [2.16660825e-02 9.78333918e-01]\n",
      " [1.37525567e-01 8.62474433e-01]\n",
      " [5.46311800e-04 9.99453688e-01]\n",
      " [9.99999945e-01 5.49406138e-08]\n",
      " [7.09871718e-06 9.99992901e-01]\n",
      " [9.97746039e-01 2.25396063e-03]\n",
      " [9.97737725e-01 2.26227454e-03]\n",
      " [2.14655983e-01 7.85344017e-01]\n",
      " [5.14462770e-03 9.94855372e-01]\n",
      " [6.52628591e-01 3.47371409e-01]\n",
      " [5.25794621e-01 4.74205379e-01]\n",
      " [9.99946701e-01 5.32986406e-05]\n",
      " [3.23894123e-03 9.96761059e-01]]\n"
     ]
    }
   ],
   "source": [
    "# predict_proba() 메소드는 클래스의 속할 확률로 예측한다.\n",
    "predict_proba = clf.predict_proba(x_test)\n",
    "print(predict_proba)\n",
    "\n",
    "# 종양은 2가지 (양성, 악성) 클래스로 예측되므로 두 개의 열로 결과가 이루어진 것을 알 수 있다.\n"
   ]
  },
  {
   "cell_type": "markdown",
   "id": "c33d8b58-122f-4332-8e82-70367fd7ed65",
   "metadata": {},
   "source": [
    "***\n",
    "학습된 모델을 평가한다.\n",
    "***"
   ]
  },
  {
   "cell_type": "code",
   "execution_count": 10,
   "id": "92a88fbe-08fb-474e-b7cf-eecfcbcb7cac",
   "metadata": {
    "tags": []
   },
   "outputs": [
    {
     "name": "stdout",
     "output_type": "stream",
     "text": [
      "0.9790209790209791\n"
     ]
    }
   ],
   "source": [
    "# 정확도 평가\n",
    "# accuracy_score() 메소드의 인수를 테스트 데이터의 실제값, 예측값 순서로 넘겨서 정확도를 계산한다.\n",
    "accuracy = accuracy_score(y_test, predict)\n",
    "print(accuracy)"
   ]
  },
  {
   "cell_type": "code",
   "execution_count": 11,
   "id": "e7804033-10f2-46a4-b9bd-1adf0d693897",
   "metadata": {},
   "outputs": [
    {
     "name": "stdout",
     "output_type": "stream",
     "text": [
      "[0.98148148 0.97752809]\n"
     ]
    }
   ],
   "source": [
    "# 정밀도 평가\n",
    "precision = precision_score(y_test, predict, average=None)\n",
    "print(precision)"
   ]
  },
  {
   "cell_type": "code",
   "execution_count": 12,
   "id": "9e4126ab-d130-4305-9d31-723bfa9a1039",
   "metadata": {},
   "outputs": [
    {
     "name": "stdout",
     "output_type": "stream",
     "text": [
      "[0.96363636 0.98863636]\n"
     ]
    }
   ],
   "source": [
    "# 재현률 평가\n",
    "recall = recall_score(y_test, predict, average=None)\n",
    "print(recall)"
   ]
  },
  {
   "cell_type": "code",
   "execution_count": 13,
   "id": "9aa6087b-ba87-4383-b8d3-8f6cd4ffa18f",
   "metadata": {},
   "outputs": [
    {
     "name": "stdout",
     "output_type": "stream",
     "text": [
      "[0.97247706 0.98305085]\n"
     ]
    }
   ],
   "source": [
    "# f1_score 평가\n",
    "f1Score = f1_score(y_test, predict, average=None)\n",
    "print(f1Score)"
   ]
  },
  {
   "cell_type": "code",
   "execution_count": 14,
   "id": "23b1ca9e-26ff-46f7-9edd-0a3a154e7f41",
   "metadata": {},
   "outputs": [
    {
     "name": "stdout",
     "output_type": "stream",
     "text": [
      "[[53  2]\n",
      " [ 1 87]]\n"
     ]
    }
   ],
   "source": [
    "# 혼동 행렬\n",
    "conf_matrix = confusion_matrix(y_test, predict)\n",
    "print(conf_matrix)"
   ]
  },
  {
   "cell_type": "code",
   "execution_count": 16,
   "id": "6519715e-fe74-47c6-bee2-85201910fded",
   "metadata": {},
   "outputs": [
    {
     "name": "stdout",
     "output_type": "stream",
     "text": [
      "              precision    recall  f1-score   support\n",
      "\n",
      "          악성       0.98      0.96      0.97        55\n",
      "          양성       0.98      0.99      0.98        88\n",
      "\n",
      "    accuracy                           0.98       143\n",
      "   macro avg       0.98      0.98      0.98       143\n",
      "weighted avg       0.98      0.98      0.98       143\n",
      "\n"
     ]
    }
   ],
   "source": [
    "#분류 리포트\n",
    "class_report = classification_report(y_test, predict, target_names=['악성', '양성'])\n",
    "print(class_report)"
   ]
  },
  {
   "cell_type": "code",
   "execution_count": null,
   "id": "043c8cf5-b61a-4f1e-be93-80f3f26f6b01",
   "metadata": {},
   "outputs": [],
   "source": []
  },
  {
   "cell_type": "code",
   "execution_count": null,
   "id": "8d8e6007-c414-4236-b146-1f1977689277",
   "metadata": {},
   "outputs": [],
   "source": []
  },
  {
   "cell_type": "code",
   "execution_count": null,
   "id": "49d8df48-8892-4670-a6d0-d36876cfc768",
   "metadata": {},
   "outputs": [],
   "source": []
  },
  {
   "cell_type": "code",
   "execution_count": null,
   "id": "e055b9cb-74a4-458a-9539-0ca8a6babb37",
   "metadata": {},
   "outputs": [],
   "source": []
  },
  {
   "cell_type": "code",
   "execution_count": null,
   "id": "431d44db-0220-4ab2-9645-f9f14cbf6c4c",
   "metadata": {},
   "outputs": [],
   "source": []
  },
  {
   "cell_type": "code",
   "execution_count": null,
   "id": "39a4d8e5-1ec8-4351-b020-fe083ed79c4b",
   "metadata": {},
   "outputs": [],
   "source": []
  },
  {
   "cell_type": "code",
   "execution_count": null,
   "id": "40c4bfb2-364d-4aeb-8cf0-6094f1846ed2",
   "metadata": {},
   "outputs": [],
   "source": []
  },
  {
   "cell_type": "code",
   "execution_count": null,
   "id": "abf5b119-b03e-4c5b-b274-97966fc29dfc",
   "metadata": {},
   "outputs": [],
   "source": []
  },
  {
   "cell_type": "code",
   "execution_count": null,
   "id": "f0b17c29-8c22-4287-81e2-945d9edaf528",
   "metadata": {},
   "outputs": [],
   "source": []
  },
  {
   "cell_type": "code",
   "execution_count": null,
   "id": "2e806a2d-92e6-438f-83fe-dd366c4639d6",
   "metadata": {},
   "outputs": [],
   "source": []
  },
  {
   "cell_type": "code",
   "execution_count": null,
   "id": "edfbda5f-2ce8-412f-b232-6fc9e1770873",
   "metadata": {},
   "outputs": [],
   "source": []
  },
  {
   "cell_type": "code",
   "execution_count": null,
   "id": "db7522a9-193f-40d4-851f-7afc0e14efb0",
   "metadata": {},
   "outputs": [],
   "source": []
  },
  {
   "cell_type": "code",
   "execution_count": null,
   "id": "1fab4208-9cfc-4bbe-b70a-783dcce4d24c",
   "metadata": {},
   "outputs": [],
   "source": []
  },
  {
   "cell_type": "code",
   "execution_count": null,
   "id": "716bc7ae-921a-4529-8567-8f1159bdd3e0",
   "metadata": {},
   "outputs": [],
   "source": []
  },
  {
   "cell_type": "code",
   "execution_count": null,
   "id": "6e1dc2a6-b424-490a-bc33-25af6ab24980",
   "metadata": {},
   "outputs": [],
   "source": []
  },
  {
   "cell_type": "code",
   "execution_count": null,
   "id": "105fe101-4f73-49b9-ab4b-ff5c89c5d0e0",
   "metadata": {},
   "outputs": [],
   "source": []
  },
  {
   "cell_type": "code",
   "execution_count": null,
   "id": "e848fb2e-d1ca-4185-a3eb-88c651d1f91f",
   "metadata": {},
   "outputs": [],
   "source": []
  },
  {
   "cell_type": "code",
   "execution_count": null,
   "id": "3b34582f-d590-4434-ba54-7ee8c9ae9e86",
   "metadata": {},
   "outputs": [],
   "source": []
  },
  {
   "cell_type": "code",
   "execution_count": null,
   "id": "386f7eb0-cff7-4477-91da-bd8b60209626",
   "metadata": {},
   "outputs": [],
   "source": []
  },
  {
   "cell_type": "code",
   "execution_count": null,
   "id": "4887e632-d02b-40f5-896f-9358a0c232b7",
   "metadata": {},
   "outputs": [],
   "source": []
  },
  {
   "cell_type": "code",
   "execution_count": null,
   "id": "4e7ff9d9-d5f4-4aab-9545-b9d88538c5b4",
   "metadata": {},
   "outputs": [],
   "source": []
  },
  {
   "cell_type": "code",
   "execution_count": null,
   "id": "39b9bb7c-e018-4fc3-a6dc-3dc5a8acbd9a",
   "metadata": {},
   "outputs": [],
   "source": []
  },
  {
   "cell_type": "code",
   "execution_count": null,
   "id": "449df96b-c951-4b51-856e-1b0a4ea5a478",
   "metadata": {},
   "outputs": [],
   "source": []
  },
  {
   "cell_type": "code",
   "execution_count": null,
   "id": "209174cb-3384-4c39-ae85-487c62b66c5b",
   "metadata": {},
   "outputs": [],
   "source": []
  },
  {
   "cell_type": "code",
   "execution_count": null,
   "id": "42cb862d-00ad-4f49-966d-8936a5409aa4",
   "metadata": {},
   "outputs": [],
   "source": []
  },
  {
   "cell_type": "code",
   "execution_count": null,
   "id": "a28f0b46-7d7b-4200-98b8-ce23fb37e325",
   "metadata": {},
   "outputs": [],
   "source": []
  },
  {
   "cell_type": "code",
   "execution_count": null,
   "id": "e8e79721-73f7-41f9-8e9b-c590c4b2f2a8",
   "metadata": {},
   "outputs": [],
   "source": []
  },
  {
   "cell_type": "code",
   "execution_count": null,
   "id": "f38a9c14-ca9c-46c1-950c-def596aca1ce",
   "metadata": {},
   "outputs": [],
   "source": []
  },
  {
   "cell_type": "code",
   "execution_count": null,
   "id": "27b15b6e-0658-4af6-8ab6-1c33d51860f2",
   "metadata": {},
   "outputs": [],
   "source": []
  },
  {
   "cell_type": "code",
   "execution_count": null,
   "id": "ba12a13e-d707-4f52-a2e0-5815e2ca4544",
   "metadata": {},
   "outputs": [],
   "source": []
  },
  {
   "cell_type": "code",
   "execution_count": null,
   "id": "5fc28128-d3a2-4cd9-b412-3e8762f6ff5f",
   "metadata": {},
   "outputs": [],
   "source": []
  },
  {
   "cell_type": "code",
   "execution_count": null,
   "id": "613d805f-7fd1-42d2-9696-fd7d93f9dc94",
   "metadata": {},
   "outputs": [],
   "source": []
  },
  {
   "cell_type": "code",
   "execution_count": null,
   "id": "798ebc2f-480f-43df-841b-3a2687f9282f",
   "metadata": {},
   "outputs": [],
   "source": []
  },
  {
   "cell_type": "code",
   "execution_count": null,
   "id": "03673b6e-71e5-4bbb-9bd7-2f77878facdd",
   "metadata": {},
   "outputs": [],
   "source": []
  },
  {
   "cell_type": "code",
   "execution_count": null,
   "id": "6e38505d-772e-4868-80f5-ada4f1775cb0",
   "metadata": {},
   "outputs": [],
   "source": []
  },
  {
   "cell_type": "code",
   "execution_count": null,
   "id": "53413115-13c1-4ca7-bafb-b96dbdb788be",
   "metadata": {},
   "outputs": [],
   "source": []
  },
  {
   "cell_type": "code",
   "execution_count": null,
   "id": "73c47ef6-cf24-4023-8182-8624f580c885",
   "metadata": {},
   "outputs": [],
   "source": []
  },
  {
   "cell_type": "code",
   "execution_count": null,
   "id": "10d0365c-4281-4ba6-8c80-a0ce616d7033",
   "metadata": {},
   "outputs": [],
   "source": []
  },
  {
   "cell_type": "code",
   "execution_count": null,
   "id": "05d9635b-0131-48c7-8868-f43f40dcf742",
   "metadata": {},
   "outputs": [],
   "source": []
  },
  {
   "cell_type": "code",
   "execution_count": null,
   "id": "8e209879-9e5c-48b7-a005-6007517efb65",
   "metadata": {},
   "outputs": [],
   "source": []
  },
  {
   "cell_type": "code",
   "execution_count": null,
   "id": "37b3e719-a7a8-448c-80f0-00bdfaf237fd",
   "metadata": {},
   "outputs": [],
   "source": []
  },
  {
   "cell_type": "code",
   "execution_count": null,
   "id": "60ef0caf-b7c3-483f-9d36-3eb20dd92459",
   "metadata": {},
   "outputs": [],
   "source": []
  },
  {
   "cell_type": "code",
   "execution_count": null,
   "id": "0c8d829a-9abc-4bc5-a3b2-65f4a09b443a",
   "metadata": {},
   "outputs": [],
   "source": []
  },
  {
   "cell_type": "code",
   "execution_count": null,
   "id": "6f5a0705-b14a-4c7c-b84a-86706cc35916",
   "metadata": {},
   "outputs": [],
   "source": []
  },
  {
   "cell_type": "code",
   "execution_count": null,
   "id": "fb4e36cd-61cf-4143-bbb2-886d7adbb6da",
   "metadata": {},
   "outputs": [],
   "source": []
  },
  {
   "cell_type": "code",
   "execution_count": null,
   "id": "711f1717-c891-4534-8fcc-75db163fbfa0",
   "metadata": {},
   "outputs": [],
   "source": []
  },
  {
   "cell_type": "code",
   "execution_count": null,
   "id": "8e2691e6-6694-4cb7-9c3e-1e12cbddc3fb",
   "metadata": {},
   "outputs": [],
   "source": []
  }
 ],
 "metadata": {
  "kernelspec": {
   "display_name": "Python [conda env:.conda-py3.7] *",
   "language": "python",
   "name": "conda-env-.conda-py3.7-py"
  },
  "language_info": {
   "codemirror_mode": {
    "name": "ipython",
    "version": 3
   },
   "file_extension": ".py",
   "mimetype": "text/x-python",
   "name": "python",
   "nbconvert_exporter": "python",
   "pygments_lexer": "ipython3",
   "version": "3.7.1"
  }
 },
 "nbformat": 4,
 "nbformat_minor": 5
}
