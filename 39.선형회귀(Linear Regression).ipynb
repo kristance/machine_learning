{
 "cells": [
  {
   "cell_type": "code",
   "execution_count": 16,
   "id": "7e1363ef-e8bd-447f-acd3-7f761fe8ec99",
   "metadata": {
    "tags": []
   },
   "outputs": [],
   "source": [
    "import warnings\n",
    "warnings.filterwarnings(action='ignore')\n",
    "%config Completer.use_jedi = False\n",
    "import numpy as np\n",
    "import pandas as pd\n",
    "import matplotlib.pyplot as plt\n",
    "import matplotlib as mpl\n",
    "mpl.rcParams['axes.unicode_minus'] = False\n",
    "plt.rcParams['font.family'] = 'NanumGothicCoding'\n",
    "plt.rcParams['font.size'] = 10\n",
    "import seaborn as sns\n",
    "\n",
    "from sklearn import datasets\n",
    "from sklearn.model_selection import train_test_split\n",
    "from sklearn.preprocessing import StandardScaler\n",
    "from sklearn.metrics import accuracy_score\n",
    "from sklearn.metrics import confusion_matrix\n",
    "from sklearn.metrics import classification_report\n",
    "from sklearn.metrics import mean_squared_error  \n",
    "from sklearn.metrics import mean_absolute_error\n",
    "from sklearn.metrics import r2_score"
   ]
  },
  {
   "cell_type": "markdown",
   "id": "f5151390-a8f0-4c33-b261-71ac4efad89d",
   "metadata": {},
   "source": [
    "***\n",
    "선형 회귀 분석은 가장 기본적인 머신러닝 방법이며, 여러 분야에서 사용된다.\n",
    "\n",
    "선형 회귀 분석은 학습 데이터와 레이블 간의 선형 관계를 파악하는 알고리즘으로  \n",
    "학습 데이터 x와 레이블 y 사이에 선형 관계가 존재할 때 이를 수식화하면 다음과 같다.\n",
    "\n",
    "$$y = wx + b$$\n",
    "\n",
    "데이터 x가 주어질 때, 데이터 x에 가중치 w를 곱하고 바이어스 b를 더하면 레이블을 얻을 수 있다.  \n",
    "선형 회귀에서 해야할 일은 학습 데이터 x와 레이블 y를 이용해서 가중치 w와  바이어스 b를 구하는 것이다.  \n",
    "\n",
    "위의 수식은 학습 데이터의 갯수가 1개일 경우이고, 이를 일반화시켜 p개의 학습 데이터를 가지는 데이터라고 가정하면 데이터셋을 구성하는  \n",
    "각 데이터 포인트는 p개의 학습 데이터로 구성되므로 $x = (x1, x2, x3 ... , x_p)$ x<sub>i</sub>는 i번째 데이터 행을 열벡터로 표현한 것이다.  \n",
    "그리고 선형 회귀 모델은 아래와 같다.\n",
    "\n",
    "$$y = w1x1 + w2x2 +  ...  + w_ix_i + b$$\n",
    "\n",
    "이때, $w = (w1, w2, w3 ... , w_i)^T$를 가중치라고 부른다. 각 가중치 요소 하나하나가 우리가 구하려는 파라미터이며,  \n",
    "파라미터 값은 예측에 영향을 미친다. 즉, 파라미터 값에 따라서 예측이 달라진다.  \n",
    "\n",
    "가중치는 학습 데이터로부터 최소 제곱법을 사용해 구할 수 있다. 최소 제곱법은 오차의 제곱합이 최소가 되는 추정량을 구하는 방법이다.\n",
    "***"
   ]
  },
  {
   "cell_type": "markdown",
   "id": "782c0346-d2e8-4547-9374-14d131551636",
   "metadata": {},
   "source": [
    "***\n",
    "보스턴 집값 데이터를 사용해 보스턴 집값을 예측하는 모형을 생성하고 학습시키다.\n",
    "***\n",
    "선형 회귀 뿐만 아니라 (L1 제약식 사용), 릿지(L2 제약식 사용), 엘라스틱 넷을 사용한 결과도 비교한다.\n",
    "\n"
   ]
  },
  {
   "cell_type": "code",
   "execution_count": 21,
   "id": "f2bb2c51-4c48-4b28-a273-5f166f2b16f4",
   "metadata": {
    "tags": []
   },
   "outputs": [
    {
     "name": "stdout",
     "output_type": "stream",
     "text": [
      "(506, 13) (506,)\n",
      "(379, 13) (127, 13) (379,) (127,)\n"
     ]
    }
   ],
   "source": [
    "raw_data = datasets.load_boston() # 사이킷런이 제공하는 보스턴 집값 데이터를 불러온다.\n",
    "\n",
    "# 피쳐, 레이블 데이터 저장\n",
    "xData = raw_data.data # 피쳐 데이터를 저장한다.\n",
    "yData = raw_data.target # 피쳐 데이터에 따른 레이블을 저장한다.\n",
    "print(xData.shape, yData.shape)\n",
    "\n",
    "\n",
    "# 학습 데이터와 테스트 데이터로 분할\n",
    "x_train, x_test, y_train, y_test = train_test_split(xData, yData, random_state=1)\n",
    "print(x_train.shape, x_test.shape, y_train.shape, y_test.shape)\n",
    "\n",
    "# 데이터 표준화\n",
    "std_scale = StandardScaler() # 표준화 스케일러 객체를 만든다.\n",
    "x_train = std_scale.fit_transform(x_train) # 학습 데이터를 스케일러로 표준화하고 적용한다.\n",
    "x_test = std_scale.transform(x_test) # 테스트 데이터를 학습 데이터로 표준화된 스케일러에 적용한다.\n",
    "\n"
   ]
  },
  {
   "cell_type": "markdown",
   "id": "1fbc372d-bccb-4600-bb77-ae21663c60a2",
   "metadata": {},
   "source": [
    "***\n",
    "일반 선형 회귀 분석\n",
    "***"
   ]
  },
  {
   "cell_type": "code",
   "execution_count": 3,
   "id": "65ebc209-f176-469e-b014-518dfcbb7dcc",
   "metadata": {
    "tags": []
   },
   "outputs": [
    {
     "data": {
      "text/plain": [
       "LinearRegression()"
      ]
     },
     "execution_count": 3,
     "metadata": {},
     "output_type": "execute_result"
    }
   ],
   "source": [
    "#  모델 생성 후 데이터 학습\n",
    "from sklearn.linear_model import LinearRegression #선형 회귀 알고리즘 사용을 위해 import\n",
    "# 선형 회귀 모델을 만든다.\n",
    "clf_common = LinearRegression()\n",
    "# 표준화된 학습 데이터 x_train와 학습 데이터에 따른 레이블 데이터 y_train으로 선형 회귀 모델에 학습시킨다.\n",
    "clf_common.fit(x_train, y_train)"
   ]
  },
  {
   "cell_type": "code",
   "execution_count": 4,
   "id": "87557874-7b2d-4a68-b81d-55e7c1eaebb7",
   "metadata": {
    "tags": []
   },
   "outputs": [
    {
     "name": "stdout",
     "output_type": "stream",
     "text": [
      "[-1.07145146  1.34036243  0.26298069  0.66554537 -2.49842551  1.97524314\n",
      "  0.19516605 -3.14274974  2.66736136 -1.80685572 -2.13034748  0.56172933\n",
      " -4.03223518]\n",
      "22.344591029023768\n"
     ]
    }
   ],
   "source": [
    "# 선형 회귀 분석 계수(가중치)와 상수항 (바이어스) 확인\n",
    "print(clf_common.coef_) # 가중치\n",
    "print(clf_common.intercept_) # 바이어스"
   ]
  },
  {
   "cell_type": "markdown",
   "id": "f751a14f-f7d8-4228-9e94-7e4ca185074a",
   "metadata": {},
   "source": [
    "***\n",
    "라쏘 선형 회귀 분석(L1 제약식 사용)\n",
    "***"
   ]
  },
  {
   "cell_type": "code",
   "execution_count": 5,
   "id": "5bd4f727-1709-42ac-9db6-dbe873433a93",
   "metadata": {
    "tags": []
   },
   "outputs": [
    {
     "data": {
      "text/plain": [
       "Lasso(alpha=1)"
      ]
     },
     "execution_count": 5,
     "metadata": {},
     "output_type": "execute_result"
    }
   ],
   "source": [
    "#  모델 생성 후 데이터 학습\n",
    "from sklearn.linear_model import Lasso # 라쏘 선형 회귀 알고리즘 사용을 위해 import\n",
    "# 라쏘 선형 회귀 모델을 만들때 alpha 속성을 사용해서 제약 정도를 지정해 라쏘 선형 회귀 모델을 만든다.\n",
    "# alpha 속성의 기본값은 1이며, 반드시 양수로 지정해야 하고 값이 클수록 강한 제약식을 의미한다.\n",
    "clf_lasso = Lasso(alpha=1)\n",
    "\n",
    "# 표준화된 학습 데이터 x_train와 학습 데이터에 따른 레이블 데이터 y_train으로 라쏘 선형 회귀 모델에 학습시킨다.\n",
    "clf_lasso.fit(x_train, y_train)"
   ]
  },
  {
   "cell_type": "code",
   "execution_count": 6,
   "id": "7fc10934-6243-4628-b6c1-29c8fb093b11",
   "metadata": {},
   "outputs": [
    {
     "name": "stdout",
     "output_type": "stream",
     "text": [
      "[-0.          0.         -0.          0.         -0.          1.98095526\n",
      " -0.         -0.         -0.         -0.         -1.35346816  0.\n",
      " -3.88203158]\n",
      "22.344591029023764\n"
     ]
    }
   ],
   "source": [
    "# 라쏘 선형 회귀 분석 계수(가중치)와 상수항 (바이어스) 확인\n",
    "print(clf_lasso.coef_) # 가중치\n",
    "print(clf_lasso.intercept_) # 바이어스"
   ]
  },
  {
   "cell_type": "markdown",
   "id": "43aedd3d-1c0d-4ed9-8d8b-f02b038996db",
   "metadata": {},
   "source": [
    "***\n",
    "릿지(Ridge) 선형 회귀 분석(L2 제약식 사용)\n",
    "***"
   ]
  },
  {
   "cell_type": "code",
   "execution_count": 7,
   "id": "dcbed339-8d48-4fc8-a246-906f9098bedd",
   "metadata": {
    "tags": []
   },
   "outputs": [
    {
     "data": {
      "text/plain": [
       "Ridge(alpha=1)"
      ]
     },
     "execution_count": 7,
     "metadata": {},
     "output_type": "execute_result"
    }
   ],
   "source": [
    "#  모델 생성 후 데이터 학습\n",
    "from sklearn.linear_model import Ridge # 릿지 선형 회귀 알고리즘 사용을 위해 import\n",
    "# 릿지 선형 회귀 모델을 만들때 alpha 속성을 사용해서 제약 정도를 지정해 릿지 선형 회귀 모델을 만든다.\n",
    "# alpha 속성의 기본값은 1이며, 반드시 양수로 지정해야 하고 값이 클수록 강한 제약식을 의미한다.\n",
    "clf_ridge = Ridge(alpha=1)\n",
    "\n",
    "# 표준화된 학습 데이터 x_train와 학습 데이터에 따른 레이블 데이터 y_train으로 릿지 선형 회귀 모델에 학습시킨다.\n",
    "clf_ridge.fit(x_train, y_train)"
   ]
  },
  {
   "cell_type": "code",
   "execution_count": 8,
   "id": "ef0e11d4-bd1d-47ad-9cf0-7fa4f670475e",
   "metadata": {
    "tags": []
   },
   "outputs": [
    {
     "name": "stdout",
     "output_type": "stream",
     "text": [
      "[-1.05933451  1.31050717  0.23022789  0.66955241 -2.45607567  1.99086611\n",
      "  0.18119169 -3.09919804  2.56480813 -1.71116799 -2.12002592  0.56264409\n",
      " -4.00942448]\n",
      "22.344591029023768\n"
     ]
    }
   ],
   "source": [
    "# 릿지 선형 회귀 분석 계수(가중치)와 상수항 (바이어스) 확인\n",
    "print(clf_ridge.coef_) # 가중치\n",
    "print(clf_ridge.intercept_) # 바이어스"
   ]
  },
  {
   "cell_type": "markdown",
   "id": "b3e7519e-0c1d-4c19-a8a8-36df04913048",
   "metadata": {},
   "source": [
    "***\n",
    "엘라스틱넷 (Elastic Net) 선형 회귀 분석(L1, L2 제약식 모두 사용)\n",
    "***"
   ]
  },
  {
   "cell_type": "code",
   "execution_count": 9,
   "id": "122f42b2-d027-4676-bc57-910ba309a8ed",
   "metadata": {
    "tags": []
   },
   "outputs": [
    {
     "data": {
      "text/plain": [
       "ElasticNet(alpha=0.01, l1_ratio=0.01)"
      ]
     },
     "execution_count": 9,
     "metadata": {},
     "output_type": "execute_result"
    }
   ],
   "source": [
    "#  모델 생성 후 데이터 학습\n",
    "from sklearn.linear_model import ElasticNet # 엘라스틱넷 선형 회귀 알고리즘 사용을 위해 import\n",
    "# 엘라스틱넷 선형 회귀 모델을 만들때 alpha 속성을 사용해서 제약 정도를 지정해 엘라스틱넷 선형 회귀 모델을 만든다.\n",
    "# alpha 속성에는 L1 제약식의 크기와 L2 제약식의 크기의 합을 지정한다.\n",
    "# l1_ratio 속성으로 alpha 속성에 지정한 값에서 L1제약이 차지하는 비율을 지정한다.\n",
    "# l1_ratio 속성값은 비율이므로 0 - 1 사이의 값을 지정해야하며, \n",
    "# 0을 지정하면 L1 제약은 사용하지 않고, L2 제약만 사용하는 릿지 선형회귀 분석을 의미하고\n",
    "# 1을 지정하면 L2 제약은 사용하지 않고, L1 제약만 사용하는 라쏘 선형회귀 분석을 의미한다.\n",
    "clf_elastic = ElasticNet(alpha=0.01, l1_ratio=0.01)\n",
    "\n",
    "# 표준화된 학습 데이터 x_train와 학습 데이터에 따른 레이블 데이터 y_train으로 엘라스틱넷 선형 회귀 모델에 학습시킨다.\n",
    "clf_elastic.fit(x_train, y_train)"
   ]
  },
  {
   "cell_type": "code",
   "execution_count": 10,
   "id": "0e991748-091b-4ade-b382-9753a2dd3ba2",
   "metadata": {},
   "outputs": [
    {
     "name": "stdout",
     "output_type": "stream",
     "text": [
      "[-1.02916603  1.23681955  0.15236504  0.67859622 -2.34646781  2.02965524\n",
      "  0.14575132 -2.98592423  2.32013379 -1.48829485 -2.09271972  0.56506801\n",
      " -3.9495281 ]\n",
      "22.344591029023768\n"
     ]
    }
   ],
   "source": [
    "# 엘라스틱넷 선형 회귀 분석 계수(가중치)와 상수항 (바이어스) 확인\n",
    "print(clf_elastic.coef_) # 가중치\n",
    "print(clf_elastic.intercept_) # 바이어스"
   ]
  },
  {
   "cell_type": "markdown",
   "id": "8cf86c92-b82a-424f-992b-5c487956a3e5",
   "metadata": {},
   "source": [
    "***\n",
    "학습된 모델로 테스트 데이터를 예측한다.\n",
    "***"
   ]
  },
  {
   "cell_type": "code",
   "execution_count": 15,
   "id": "f7d661d6-bfbc-470f-8e45-3902c45ce158",
   "metadata": {
    "collapsed": true,
    "jupyter": {
     "outputs_hidden": true
    },
    "tags": []
   },
   "outputs": [
    {
     "name": "stdout",
     "output_type": "stream",
     "text": [
      "일반 선형 -> 32.37817, 라쏘 -> 27.00717, 릿지 -> 32.26711, 엘라스틱넷 -> 31.99335\n",
      "일반 선형 -> 27.95684, 라쏘 -> 27.25981, 릿지 -> 27.97205, 엘라스틱넷 -> 28.00404\n",
      "일반 선형 -> 18.07214, 라쏘 -> 18.91229, 릿지 -> 18.08339, 엘라스틱넷 -> 18.11898\n",
      "일반 선형 -> 21.63167, 라쏘 -> 23.58297, 릿지 -> 21.68419, 엘라스틱넷 -> 21.81160\n",
      "일반 선형 -> 18.93030, 라쏘 -> 20.14969, 릿지 -> 18.89663, 엘라스틱넷 -> 18.81388\n",
      "일반 선형 -> 19.96277, 라쏘 -> 21.93214, 릿지 -> 19.99467, 엘라스틱넷 -> 20.06986\n",
      "일반 선형 -> 32.28347, 라쏘 -> 27.38765, 릿지 -> 32.17829, 엘라스틱넷 -> 31.91893\n",
      "일반 선형 -> 18.06716, 라쏘 -> 20.16268, 릿지 -> 18.09600, 엘라스틱넷 -> 18.16979\n",
      "일반 선형 -> 24.72989, 라쏘 -> 20.10589, 릿지 -> 24.68684, 엘라스틱넷 -> 24.58171\n",
      "일반 선형 -> 26.85359, 라쏘 -> 25.45342, 릿지 -> 26.86219, 엘라스틱넷 -> 26.87629\n",
      "일반 선형 -> 27.23327, 라쏘 -> 25.46963, 릿지 -> 27.17614, 엘라스틱넷 -> 27.02858\n",
      "일반 선형 -> 28.57021, 라쏘 -> 29.15263, 릿지 -> 28.61024, 엘라스틱넷 -> 28.70520\n",
      "일반 선형 -> 21.18778, 라쏘 -> 20.89801, 릿지 -> 21.22363, 엘라스틱넷 -> 21.30277\n",
      "일반 선형 -> 26.94394, 라쏘 -> 23.94400, 릿지 -> 26.90364, 엘라스틱넷 -> 26.79953\n",
      "일반 선형 -> 23.37893, 라쏘 -> 22.37514, 릿지 -> 23.35820, 엘라스틱넷 -> 23.30471\n",
      "일반 선형 -> 20.89177, 라쏘 -> 19.81843, 릿지 -> 20.82151, 엘라스틱넷 -> 20.64248\n",
      "일반 선형 -> 17.11747, 라쏘 -> 16.86011, 릿지 -> 17.11942, 엘라스틱넷 -> 17.12555\n",
      "일반 선형 -> 37.73998, 라쏘 -> 34.60963, 릿지 -> 37.71657, 엘라스틱넷 -> 37.65369\n",
      "일반 선형 -> 30.51980, 라쏘 -> 27.42009, 릿지 -> 30.50085, 엘라스틱넷 -> 30.44316\n",
      "일반 선형 ->  8.44489, 라쏘 -> 11.99357, 릿지 ->  8.52529, 엘라스틱넷 ->  8.73435\n",
      "일반 선형 -> 20.86558, 라쏘 -> 21.57559, 릿지 -> 20.86586, 엘라스틱넷 -> 20.86742\n",
      "일반 선형 -> 16.21989, 라쏘 -> 20.93129, 릿지 -> 16.27211, 엘라스틱넷 -> 16.40504\n",
      "일반 선형 -> 25.13606, 라쏘 -> 25.25431, 릿지 -> 25.13735, 엘라스틱넷 -> 25.13937\n",
      "일반 선형 -> 24.77659, 라쏘 -> 25.75207, 릿지 -> 24.78870, 엘라스틱넷 -> 24.82044\n",
      "일반 선형 -> 31.40498, 라쏘 -> 28.38457, 릿지 -> 31.36513, 엘라스틱넷 -> 31.25999\n",
      "일반 선형 -> 11.02741, 라쏘 -> 14.07014, 릿지 -> 11.02632, 엘라스틱넷 -> 11.02641\n",
      "일반 선형 -> 13.82098, 라쏘 -> 16.31438, 릿지 -> 13.86547, 엘라스틱넷 -> 13.98029\n",
      "일반 선형 -> 16.80208, 라쏘 -> 22.73463, 릿지 -> 16.93375, 엘라스틱넷 -> 17.26001\n",
      "일반 선형 -> 35.94637, 라쏘 -> 32.50579, 릿지 -> 35.91174, 엘라스틱넷 -> 35.82170\n",
      "일반 선형 -> 14.71557, 라쏘 -> 14.50979, 릿지 -> 14.68793, 엘라스틱넷 -> 14.62136\n",
      "일반 선형 -> 21.23940, 라쏘 -> 27.38612, 릿지 -> 21.37373, 엘라스틱넷 -> 21.70533\n",
      "일반 선형 -> 14.15079, 라쏘 -> 17.10894, 릿지 -> 14.18949, 엘라스틱넷 -> 14.29521\n",
      "일반 선형 -> 42.72493, 라쏘 -> 35.26361, 릿지 -> 42.60168, 엘라스틱넷 -> 42.29403\n",
      "일반 선형 -> 17.83887, 라쏘 -> 19.36088, 릿지 -> 17.84424, 엘라스틱넷 -> 17.86037\n",
      "일반 선형 -> 21.84610, 라쏘 -> 25.08499, 릿지 -> 21.97559, 엘라스틱넷 -> 22.28401\n",
      "일반 선형 -> 20.40178, 라쏘 -> 20.58540, 릿지 -> 20.44449, 엘라스틱넷 -> 20.54633\n",
      "일반 선형 -> 17.50288, 라쏘 -> 18.89610, 릿지 -> 17.50665, 엘라스틱넷 -> 17.51899\n",
      "일반 선형 -> 27.00093, 라쏘 -> 28.85783, 릿지 -> 27.04186, 엘라스틱넷 -> 27.14636\n",
      "일반 선형 ->  9.80760, 라쏘 ->  9.56082, 릿지 ->  9.74879, 엘라스틱넷 ->  9.60312\n",
      "일반 선형 -> 20.00289, 라쏘 -> 19.74907, 릿지 -> 19.97439, 엘라스틱넷 -> 19.90350\n",
      "일반 선형 -> 24.27067, 라쏘 -> 26.56950, 릿지 -> 24.39302, 엘라스틱넷 -> 24.68175\n",
      "일반 선형 -> 21.06719, 라쏘 -> 24.73127, 릿지 -> 21.10029, 엘라스틱넷 -> 21.19432\n",
      "일반 선형 -> 29.47090, 라쏘 -> 26.93591, 릿지 -> 29.41905, 엘라스틱넷 -> 29.28798\n",
      "일반 선형 -> 16.48483, 라쏘 -> 14.99332, 릿지 -> 16.45050, 엘라스틱넷 -> 16.36543\n",
      "일반 선형 -> 19.38853, 라쏘 -> 18.31716, 릿지 -> 19.35175, 엘라스틱넷 -> 19.25912\n",
      "일반 선형 -> 14.54778, 라쏘 -> 17.63341, 릿지 -> 14.57881, 엘라스틱넷 -> 14.65965\n",
      "일반 선형 -> 39.39838, 라쏘 -> 35.10935, 릿지 -> 39.38592, 엘라스틱넷 -> 39.33994\n",
      "일반 선형 -> 18.09811, 라쏘 -> 18.35884, 릿지 -> 18.07498, 엘라스틱넷 -> 18.01763\n",
      "일반 선형 -> 26.22165, 라쏘 -> 25.96685, 릿지 -> 26.18814, 엘라스틱넷 -> 26.09724\n",
      "일반 선형 -> 20.60677, 라쏘 -> 22.48018, 릿지 -> 20.63126, 엘라스틱넷 -> 20.68340\n",
      "일반 선형 -> 25.09994, 라쏘 -> 24.02964, 릿지 -> 25.07568, 엘라스틱넷 -> 25.01283\n",
      "일반 선형 -> 24.48367, 라쏘 -> 24.74930, 릿지 -> 24.48210, 엘라스틱넷 -> 24.48190\n",
      "일반 선형 -> 25.02298, 라쏘 -> 26.85329, 릿지 -> 25.04491, 엘라스틱넷 -> 25.10205\n",
      "일반 선형 -> 26.84987, 라쏘 -> 25.90362, 릿지 -> 26.81989, 엘라스틱넷 -> 26.73791\n",
      "일반 선형 ->  5.01518, 라쏘 ->  8.97744, 릿지 ->  5.18126, 엘라스틱넷 ->  5.57433\n",
      "일반 선형 -> 24.12810, 라쏘 -> 25.47973, 릿지 -> 24.10817, 엘라스틱넷 -> 24.06752\n",
      "일반 선형 -> 10.72843, 라쏘 -> 10.94866, 릿지 -> 10.74502, 엘라스틱넷 -> 10.79206\n",
      "일반 선형 -> 26.83178, 라쏘 -> 25.74118, 릿지 -> 26.81056, 엘라스틱넷 -> 26.75377\n",
      "일반 선형 -> 16.80235, 라쏘 -> 19.05132, 릿지 -> 16.84458, 엘라스틱넷 -> 16.95304\n",
      "일반 선형 -> 35.48142, 라쏘 -> 33.59526, 릿지 -> 35.46747, 엘라스틱넷 -> 35.43002\n",
      "일반 선형 -> 19.50938, 라쏘 -> 20.58461, 릿지 -> 19.49818, 엘라스틱넷 -> 19.47071\n",
      "일반 선형 -> 27.43260, 라쏘 -> 26.84860, 릿지 -> 27.43033, 엘라스틱넷 -> 27.42263\n",
      "일반 선형 -> 16.58017, 라쏘 -> 16.03902, 릿지 -> 16.55260, 엘라스틱넷 -> 16.48532\n",
      "일반 선형 -> 19.15149, 라쏘 -> 18.99680, 릿지 -> 19.10396, 엘라스틱넷 -> 18.98278\n",
      "일반 선형 -> 10.99903, 라쏘 -> 10.91701, 릿지 -> 11.03804, 엘라스틱넷 -> 11.14553\n",
      "일반 선형 -> 32.05017, 라쏘 -> 29.10116, 릿지 -> 32.00707, 엘라스틱넷 -> 31.89803\n",
      "일반 선형 -> 36.32673, 라쏘 -> 34.64920, 릿지 -> 36.31292, 엘라스틱넷 -> 36.27552\n",
      "일반 선형 -> 21.85964, 라쏘 -> 27.09667, 릿지 -> 22.04459, 엘라스틱넷 -> 22.48878\n",
      "일반 선형 -> 24.81584, 라쏘 -> 24.56201, 릿지 -> 24.79088, 엘라스틱넷 -> 24.73137\n",
      "일반 선형 -> 25.32934, 라쏘 -> 24.27204, 릿지 -> 25.30011, 엘라스틱넷 -> 25.22126\n",
      "일반 선형 -> 23.36795, 라쏘 -> 25.43876, 릿지 -> 23.39748, 엘라스틱넷 -> 23.47443\n",
      "일반 선형 ->  6.98356, 라쏘 ->  8.39294, 릿지 ->  6.97770, 엘라스틱넷 ->  6.96808\n",
      "일반 선형 -> 16.83775, 라쏘 -> 16.95371, 릿지 -> 16.78287, 엘라스틱넷 -> 16.64639\n",
      "일반 선형 -> 20.27044, 라쏘 -> 22.46863, 릿지 -> 20.31681, 엘라스틱넷 -> 20.43413\n",
      "일반 선형 -> 20.74891, 라쏘 -> 19.82119, 릿지 -> 20.76912, 엘라스틱넷 -> 20.81131\n",
      "일반 선형 -> 21.85918, 라쏘 -> 21.18048, 릿지 -> 21.81704, 엘라스틱넷 -> 21.71061\n",
      "일반 선형 -> 34.17776, 라쏘 -> 28.80238, 릿지 -> 34.10832, 엘라스틱넷 -> 33.92278\n",
      "일반 선형 -> 27.94673, 라쏘 -> 27.45074, 릿지 -> 27.97339, 엘라스틱넷 -> 28.03405\n",
      "일반 선형 -> 24.86030, 라쏘 -> 28.44573, 릿지 -> 24.90952, 엘라스틱넷 -> 25.03177\n",
      "일반 선형 -> 34.43416, 라쏘 -> 29.49415, 릿지 -> 34.33510, 엘라스틱넷 -> 34.09031\n",
      "일반 선형 -> 18.61652, 라쏘 -> 19.81089, 릿지 -> 18.65205, 엘라스틱넷 -> 18.73693\n",
      "일반 선형 -> 24.02303, 라쏘 -> 23.51113, 릿지 -> 24.04622, 엘라스틱넷 -> 24.09198\n",
      "일반 선형 -> 34.45439, 라쏘 -> 31.15034, 릿지 -> 34.46173, 엘라스틱넷 -> 34.46458\n",
      "일반 선형 -> 13.32265, 라쏘 -> 16.78630, 릿지 -> 13.35640, 엘라스틱넷 -> 13.44549\n",
      "일반 선형 -> 20.71540, 라쏘 -> 25.98033, 릿지 -> 20.83926, 엘라스틱넷 -> 21.14465\n",
      "일반 선형 -> 30.15834, 라쏘 -> 29.20502, 릿지 -> 30.15678, 엘라스틱넷 -> 30.14726\n",
      "일반 선형 -> 17.06612, 라쏘 -> 18.29970, 릿지 -> 17.06952, 엘라스틱넷 -> 17.08081\n",
      "일반 선형 -> 24.20120, 라쏘 -> 26.35635, 릿지 -> 24.23691, 엘라스틱넷 -> 24.32910\n",
      "일반 선형 -> 19.18052, 라쏘 -> 19.93082, 릿지 -> 19.21839, 엘라스틱넷 -> 19.30891\n",
      "일반 선형 -> 16.98160, 라쏘 -> 18.69133, 릿지 -> 17.02656, 엘라스틱넷 -> 17.13628\n",
      "일반 선형 -> 26.80734, 라쏘 -> 26.74243, 릿지 -> 26.80604, 엘라스틱넷 -> 26.79983\n",
      "일반 선형 -> 41.02667, 라쏘 -> 37.07072, 릿지 -> 41.00667, 엘라스틱넷 -> 40.95127\n",
      "일반 선형 -> 14.44768, 라쏘 -> 17.77610, 릿지 -> 14.59854, 엘라스틱넷 -> 14.94879\n",
      "일반 선형 -> 23.26993, 라쏘 -> 23.98757, 릿지 -> 23.28168, 엘라스틱넷 -> 23.31279\n",
      "일반 선형 -> 14.93803, 라쏘 -> 20.24986, 릿지 -> 14.94841, 엘라스틱넷 -> 14.97310\n",
      "일반 선형 -> 21.93018, 라쏘 -> 23.52813, 릿지 -> 21.95008, 엘라스틱넷 -> 22.00298\n",
      "일반 선형 -> 22.81878, 라쏘 -> 23.47456, 릿지 -> 22.83860, 엘라스틱넷 -> 22.88798\n",
      "일반 선형 -> 29.16467, 라쏘 -> 25.62123, 릿지 -> 29.06801, 엘라스틱넷 -> 28.83021\n",
      "일반 선형 -> 36.70334, 라쏘 -> 33.54812, 릿지 -> 36.67003, 엘라스틱넷 -> 36.58245\n",
      "일반 선형 -> 20.41387, 라쏘 -> 20.60235, 릿지 -> 20.46083, 엘라스틱넷 -> 20.57133\n",
      "일반 선형 -> 17.86801, 라쏘 -> 18.56875, 릿지 -> 17.81890, 엘라스틱넷 -> 17.69342\n",
      "일반 선형 -> 17.49943, 라쏘 -> 18.74277, 릿지 -> 17.51159, 엘라스틱넷 -> 17.54507\n",
      "일반 선형 -> 25.07246, 라쏘 -> 26.28447, 릿지 -> 25.08540, 엘라스틱넷 -> 25.12143\n",
      "일반 선형 -> 21.98273, 라쏘 -> 24.51256, 릿지 -> 21.98725, 엘라스틱넷 -> 22.00978\n",
      "일반 선형 ->  8.28653, 라쏘 ->  8.83868, 릿지 ->  8.29316, 엘라스틱넷 ->  8.31557\n",
      "일반 선형 -> 21.52177, 라쏘 -> 22.45563, 릿지 -> 21.56036, 엘라스틱넷 -> 21.65123\n",
      "일반 선형 -> 16.50789, 라쏘 -> 16.99500, 릿지 -> 16.44849, 엘라스틱넷 -> 16.29793\n",
      "일반 선형 -> 33.00115, 라쏘 -> 28.70976, 릿지 -> 32.96124, 엘라스틱넷 -> 32.84821\n",
      "일반 선형 -> 24.49693, 라쏘 -> 22.36257, 릿지 -> 24.46454, 엘라스틱넷 -> 24.38652\n",
      "일반 선형 -> 25.08491, 라쏘 -> 25.15364, 릿지 -> 25.12166, 엘라스틱넷 -> 25.20416\n",
      "일반 선형 -> 38.29622, 라쏘 -> 34.56178, 릿지 -> 38.25477, 엘라스틱넷 -> 38.14599\n",
      "일반 선형 -> 28.93273, 라쏘 -> 26.08656, 릿지 -> 28.90226, 엘라스틱넷 -> 28.81927\n",
      "일반 선형 -> 14.85478, 라쏘 -> 16.46733, 릿지 -> 14.85040, 엘라스틱넷 -> 14.84165\n",
      "일반 선형 -> 34.74292, 라쏘 -> 29.22367, 릿지 -> 34.63905, 엘라스틱넷 -> 34.38243\n",
      "일반 선형 -> 35.50029, 라쏘 -> 31.68177, 릿지 -> 35.45294, 엘라스틱넷 -> 35.33070\n",
      "일반 선형 -> 32.89600, 라쏘 -> 32.48250, 릿지 -> 32.94042, 엘라스틱넷 -> 33.03912\n",
      "일반 선형 -> 20.98069, 라쏘 -> 22.18888, 릿지 -> 20.97894, 엘라스틱넷 -> 20.98365\n",
      "일반 선형 -> 16.67850, 라쏘 -> 19.10965, 릿지 -> 16.71111, 엘라스틱넷 -> 16.79426\n",
      "일반 선형 -> 34.24729, 라쏘 -> 30.55384, 릿지 -> 34.18544, 엘라스틱넷 -> 34.03039\n",
      "일반 선형 -> 39.01179, 라쏘 -> 34.65127, 릿지 -> 38.98634, 엘라스틱넷 -> 38.91773\n",
      "일반 선형 -> 21.57170, 라쏘 -> 23.81632, 릿지 -> 21.68758, 엘라스틱넷 -> 21.96121\n",
      "일반 선형 -> 15.71337, 라쏘 -> 19.51909, 릿지 -> 15.72992, 엘라스틱넷 -> 15.77392\n",
      "일반 선형 -> 27.33122, 라쏘 -> 28.53924, 릿지 -> 27.35660, 엘라스틱넷 -> 27.42322\n",
      "일반 선형 -> 18.73350, 라쏘 -> 20.56834, 릿지 -> 18.73901, 엘라스틱넷 -> 18.75589\n",
      "일반 선형 -> 27.27438, 라쏘 -> 26.26428, 릿지 -> 27.24991, 엘라스틱넷 -> 27.19388\n",
      "일반 선형 -> 21.16402, 라쏘 -> 21.21331, 릿지 -> 21.19601, 엘라스틱넷 -> 21.27039\n",
      "일반 선형 -> 26.00459, 라쏘 -> 25.87921, 릿지 -> 25.98841, 엘라스틱넷 -> 25.95049\n"
     ]
    }
   ],
   "source": [
    "#predict() 메소드의 인수로 표준화된 테스트 데이터를 넘겨서 예측한다.\n",
    "predict_common = clf_common.predict(x_test)\n",
    "predict_lasso = clf_lasso.predict(x_test)\n",
    "predict_ridge = clf_ridge.predict(x_test)\n",
    "predict_elastic = clf_elastic.predict(x_test)\n",
    "\n",
    "for i in range (len(predict_common)):\n",
    "     print('일반 선형 -> {:8.5f}, 라쏘 -> {:8.5f}, 릿지 -> {:8.5f}, 엘라스틱넷 -> {:8.5f}'.format(predict_common[i], predict_lasso[i], predict_ridge[i], predict_elastic[i]))"
   ]
  },
  {
   "cell_type": "markdown",
   "id": "fca9d9f3-4a26-4d66-b33e-41ea241d0361",
   "metadata": {},
   "source": [
    "***\n",
    "학습된 모델을 평가한다.\n",
    "***"
   ]
  },
  {
   "cell_type": "code",
   "execution_count": 18,
   "id": "e97d231e-3e53-4ed6-8408-accce11fd4bc",
   "metadata": {
    "tags": []
   },
   "outputs": [
    {
     "name": "stdout",
     "output_type": "stream",
     "text": [
      "일반 ->  3.574868126127544\n",
      "라쏘 ->  4.31671117219462\n",
      "릿지 ->  3.5725770166994746\n",
      "엘라스틱 ->  3.5698270945059454\n"
     ]
    }
   ],
   "source": [
    "# 평균 절대값 오차(MAE)\n",
    "# mean_absolute_error() 메소드의 인수로 테스트 데이터의 레이블과 예측값을 넘겨 평균 절대값 오차를 계산한다.\n",
    "print(\"일반 -> \", mean_absolute_error(y_test, predict_common))\n",
    "print(\"라쏘 -> \", mean_absolute_error(y_test, predict_lasso))\n",
    "print(\"릿지 -> \", mean_absolute_error(y_test, predict_ridge))\n",
    "print(\"엘라스틱 -> \", mean_absolute_error(y_test, predict_elastic))"
   ]
  },
  {
   "cell_type": "code",
   "execution_count": 19,
   "id": "839a61e5-93e6-438b-b72f-58c0c7ff958e",
   "metadata": {
    "tags": []
   },
   "outputs": [
    {
     "name": "stdout",
     "output_type": "stream",
     "text": [
      "일반 ->  21.897765396049525\n",
      "라쏘 ->  32.74719740278476\n",
      "릿지 ->  21.894849212618745\n",
      "엘라스틱 ->  21.912961890936874\n"
     ]
    }
   ],
   "source": [
    "# 평균 제곱 오차(MSE)\n",
    "# mean_squared_error() 메소드의 인수로 테스트 데이터의 레이블과 예측값을 넘겨 평균 절대값 오차를 계산한다.\n",
    "print(\"일반 -> \", mean_squared_error(y_test, predict_common))\n",
    "print(\"라쏘 -> \", mean_squared_error(y_test, predict_lasso))\n",
    "print(\"릿지 -> \", mean_squared_error(y_test, predict_ridge))\n",
    "print(\"엘라스틱 -> \", mean_squared_error(y_test, predict_elastic))"
   ]
  },
  {
   "cell_type": "code",
   "execution_count": 20,
   "id": "5d8e087d-0e00-4c6f-a4bb-a151baea4585",
   "metadata": {
    "tags": []
   },
   "outputs": [
    {
     "name": "stdout",
     "output_type": "stream",
     "text": [
      "일반 ->  0.7789410172622855\n",
      "라쏘 ->  0.6694154853500854\n",
      "릿지 ->  0.7789704562726605\n",
      "엘라스틱 ->  0.7787876079239252\n"
     ]
    }
   ],
   "source": [
    "# R2 스코어\n",
    "# r2_score() 메소드의 인수로 테스트 데이터의 레이블과 예측값을 넘겨 R2 스코어를 계산한다.\n",
    "print(\"일반 -> \", r2_score(y_test, predict_common))\n",
    "print(\"라쏘 -> \", r2_score(y_test, predict_lasso))\n",
    "print(\"릿지 -> \", r2_score(y_test, predict_ridge))\n",
    "print(\"엘라스틱 -> \", r2_score(y_test, predict_elastic))"
   ]
  },
  {
   "cell_type": "code",
   "execution_count": null,
   "id": "6a3818ce-9cf3-403d-86f2-ac78488c198f",
   "metadata": {},
   "outputs": [],
   "source": []
  },
  {
   "cell_type": "code",
   "execution_count": null,
   "id": "746803dd-46f6-4583-857f-392e77f9e6af",
   "metadata": {},
   "outputs": [],
   "source": []
  },
  {
   "cell_type": "code",
   "execution_count": null,
   "id": "dbbfd175-470f-45e0-8a36-833baee4ef07",
   "metadata": {},
   "outputs": [],
   "source": []
  },
  {
   "cell_type": "code",
   "execution_count": null,
   "id": "a85e1050-003f-4f8f-a9aa-557359149c67",
   "metadata": {},
   "outputs": [],
   "source": []
  },
  {
   "cell_type": "code",
   "execution_count": null,
   "id": "99c7607c-9d31-4e71-9293-a8ce80e33069",
   "metadata": {},
   "outputs": [],
   "source": []
  },
  {
   "cell_type": "code",
   "execution_count": null,
   "id": "493675f9-9867-458a-b307-436910d4b0bc",
   "metadata": {},
   "outputs": [],
   "source": []
  },
  {
   "cell_type": "code",
   "execution_count": null,
   "id": "b637a97c-fd23-4425-8bed-7667a8363b36",
   "metadata": {},
   "outputs": [],
   "source": []
  },
  {
   "cell_type": "code",
   "execution_count": null,
   "id": "034408fa-2f5f-4ac3-8f27-adc2b8d2ad09",
   "metadata": {},
   "outputs": [],
   "source": []
  },
  {
   "cell_type": "code",
   "execution_count": null,
   "id": "31fb9c9c-a4e2-468e-8f92-77ce87ecd7ea",
   "metadata": {},
   "outputs": [],
   "source": []
  },
  {
   "cell_type": "code",
   "execution_count": null,
   "id": "7c06f293-17ba-4de5-aaf5-bd7abe9b7880",
   "metadata": {},
   "outputs": [],
   "source": []
  },
  {
   "cell_type": "code",
   "execution_count": null,
   "id": "3d13ed3c-a79f-4e08-b89c-1be899d77a3d",
   "metadata": {},
   "outputs": [],
   "source": []
  },
  {
   "cell_type": "code",
   "execution_count": null,
   "id": "1f492fa4-02db-47e2-9524-24a3993a1401",
   "metadata": {},
   "outputs": [],
   "source": []
  },
  {
   "cell_type": "code",
   "execution_count": null,
   "id": "30a9cb49-f9e4-42fe-aa3d-b875a3b64fad",
   "metadata": {},
   "outputs": [],
   "source": []
  },
  {
   "cell_type": "code",
   "execution_count": null,
   "id": "3b629dc0-b9a8-41d5-9aa8-512f1d78f899",
   "metadata": {},
   "outputs": [],
   "source": []
  },
  {
   "cell_type": "code",
   "execution_count": null,
   "id": "82f469d5-0707-40a0-9bba-bc501db4a915",
   "metadata": {},
   "outputs": [],
   "source": []
  },
  {
   "cell_type": "code",
   "execution_count": null,
   "id": "5c3e11dc-ef18-4115-8a23-524af401784f",
   "metadata": {},
   "outputs": [],
   "source": []
  },
  {
   "cell_type": "code",
   "execution_count": null,
   "id": "f9b67d2a-d333-4e8d-adc7-2b470e344c84",
   "metadata": {},
   "outputs": [],
   "source": []
  },
  {
   "cell_type": "code",
   "execution_count": null,
   "id": "7c19f291-0cab-4e76-821f-81ac7e8de705",
   "metadata": {},
   "outputs": [],
   "source": []
  },
  {
   "cell_type": "code",
   "execution_count": null,
   "id": "3d991e6c-b3ae-482a-8339-a414dbb2b214",
   "metadata": {},
   "outputs": [],
   "source": []
  },
  {
   "cell_type": "code",
   "execution_count": null,
   "id": "fbd6acd4-c2cb-412e-8016-a88be45966b5",
   "metadata": {},
   "outputs": [],
   "source": []
  },
  {
   "cell_type": "code",
   "execution_count": null,
   "id": "f36b3493-beca-462a-bab9-21f974b0b58d",
   "metadata": {},
   "outputs": [],
   "source": []
  },
  {
   "cell_type": "code",
   "execution_count": null,
   "id": "5eaea43b-30ab-46bd-8b6b-0cac30523b0b",
   "metadata": {},
   "outputs": [],
   "source": []
  },
  {
   "cell_type": "code",
   "execution_count": null,
   "id": "1290383d-ec90-4430-8add-3c649e3a64c9",
   "metadata": {},
   "outputs": [],
   "source": []
  },
  {
   "cell_type": "code",
   "execution_count": null,
   "id": "da1836d6-4402-4a18-aa2f-fbcc07de15c2",
   "metadata": {},
   "outputs": [],
   "source": []
  },
  {
   "cell_type": "code",
   "execution_count": null,
   "id": "e9b49792-7543-4336-bfea-72f7eb98f7e5",
   "metadata": {},
   "outputs": [],
   "source": []
  },
  {
   "cell_type": "code",
   "execution_count": null,
   "id": "1a40aacb-5e08-4d82-bac1-3fa8184e9a66",
   "metadata": {},
   "outputs": [],
   "source": []
  },
  {
   "cell_type": "code",
   "execution_count": null,
   "id": "7c891e6a-fb35-436c-81e7-b53511d5593b",
   "metadata": {},
   "outputs": [],
   "source": []
  },
  {
   "cell_type": "code",
   "execution_count": null,
   "id": "2889549b-5061-4b40-890f-a0d74f554d33",
   "metadata": {},
   "outputs": [],
   "source": []
  },
  {
   "cell_type": "code",
   "execution_count": null,
   "id": "3d058f9c-5db2-4e14-8f47-c0c309104076",
   "metadata": {},
   "outputs": [],
   "source": []
  },
  {
   "cell_type": "code",
   "execution_count": null,
   "id": "1fe0dd50-74d3-431e-976b-6189dc44b337",
   "metadata": {},
   "outputs": [],
   "source": []
  },
  {
   "cell_type": "code",
   "execution_count": null,
   "id": "e98f8d9c-3eff-487c-bf14-29e4297b12bc",
   "metadata": {},
   "outputs": [],
   "source": []
  },
  {
   "cell_type": "code",
   "execution_count": null,
   "id": "aa04cfc7-166d-4bdd-9ef8-18801fcce8d0",
   "metadata": {},
   "outputs": [],
   "source": []
  },
  {
   "cell_type": "code",
   "execution_count": null,
   "id": "88143f3c-c40c-414c-ba5a-03b63585e687",
   "metadata": {},
   "outputs": [],
   "source": []
  },
  {
   "cell_type": "code",
   "execution_count": null,
   "id": "8a8803c3-7b8e-40ca-8aa6-f1d29b699b49",
   "metadata": {},
   "outputs": [],
   "source": []
  },
  {
   "cell_type": "code",
   "execution_count": null,
   "id": "1c6e9ddf-a03b-4017-ad5c-6005034acc9c",
   "metadata": {},
   "outputs": [],
   "source": []
  },
  {
   "cell_type": "code",
   "execution_count": null,
   "id": "f8b85a90-0800-4696-b153-e9e4c9e8ef2e",
   "metadata": {},
   "outputs": [],
   "source": []
  },
  {
   "cell_type": "code",
   "execution_count": null,
   "id": "a0baffa3-efad-4999-bb66-8d5fb2ed5182",
   "metadata": {},
   "outputs": [],
   "source": []
  },
  {
   "cell_type": "code",
   "execution_count": null,
   "id": "f605f449-49b5-4508-8679-caa3b1101a18",
   "metadata": {},
   "outputs": [],
   "source": []
  },
  {
   "cell_type": "code",
   "execution_count": null,
   "id": "cceb2fa3-fdda-4a5c-be7a-aef7e8934460",
   "metadata": {},
   "outputs": [],
   "source": []
  },
  {
   "cell_type": "code",
   "execution_count": null,
   "id": "d4c44575-4c46-47ec-ac21-73f6561abca3",
   "metadata": {},
   "outputs": [],
   "source": []
  },
  {
   "cell_type": "code",
   "execution_count": null,
   "id": "422b5464-bd3e-4caf-ad33-4734b24eefde",
   "metadata": {},
   "outputs": [],
   "source": []
  },
  {
   "cell_type": "code",
   "execution_count": null,
   "id": "e7e08ec1-ad0d-4926-9fce-b3fad732f548",
   "metadata": {},
   "outputs": [],
   "source": []
  },
  {
   "cell_type": "code",
   "execution_count": null,
   "id": "cc4b33e3-0d01-4558-ac9d-263adc1b784a",
   "metadata": {},
   "outputs": [],
   "source": []
  },
  {
   "cell_type": "code",
   "execution_count": null,
   "id": "3cb2168a-fe75-4f8b-a03c-5a5420b67ba3",
   "metadata": {},
   "outputs": [],
   "source": []
  },
  {
   "cell_type": "code",
   "execution_count": null,
   "id": "414bc6a5-2deb-4e71-a57e-4a7604cf2f20",
   "metadata": {},
   "outputs": [],
   "source": []
  },
  {
   "cell_type": "code",
   "execution_count": null,
   "id": "d7fc77a7-33ab-4f0a-a9eb-f8504d33233b",
   "metadata": {},
   "outputs": [],
   "source": []
  },
  {
   "cell_type": "code",
   "execution_count": null,
   "id": "5d7d07df-67d3-409a-bc43-415152d0a072",
   "metadata": {},
   "outputs": [],
   "source": []
  },
  {
   "cell_type": "code",
   "execution_count": null,
   "id": "eafee744-1568-49db-bb2d-b10aa0384113",
   "metadata": {},
   "outputs": [],
   "source": []
  },
  {
   "cell_type": "code",
   "execution_count": null,
   "id": "dec3bafc-4dfe-45f1-a028-665afd032a1d",
   "metadata": {},
   "outputs": [],
   "source": []
  },
  {
   "cell_type": "code",
   "execution_count": null,
   "id": "5fc1f02a-4967-4ef1-8949-66a9ca545b45",
   "metadata": {},
   "outputs": [],
   "source": []
  }
 ],
 "metadata": {
  "kernelspec": {
   "display_name": "Python [conda env:.conda-py3.7] *",
   "language": "python",
   "name": "conda-env-.conda-py3.7-py"
  },
  "language_info": {
   "codemirror_mode": {
    "name": "ipython",
    "version": 3
   },
   "file_extension": ".py",
   "mimetype": "text/x-python",
   "name": "python",
   "nbconvert_exporter": "python",
   "pygments_lexer": "ipython3",
   "version": "3.7.1"
  }
 },
 "nbformat": 4,
 "nbformat_minor": 5
}
