{
 "cells": [
  {
   "cell_type": "code",
   "execution_count": 1,
   "id": "1fb1985c-d6e5-41e0-b67b-24847eed8887",
   "metadata": {},
   "outputs": [],
   "source": [
    "%config Completer.use_jedi = False                                       \n",
    "import warnings                                                             \n",
    "warnings.filterwarnings(action=\"ignore\")\n",
    "import numpy as np\n",
    "import matplotlib.pyplot as plt"
   ]
  },
  {
   "cell_type": "markdown",
   "id": "7c26d114-f023-43ac-af78-741bb3815a5c",
   "metadata": {},
   "source": [
    "***\n",
    "미분(Differential)\n",
    "***"
   ]
  },
  {
   "cell_type": "markdown",
   "id": "1c1d305b-0d1d-4eee-8c3e-1478b75a017f",
   "metadata": {},
   "source": [
    "<img src=\"./미분 (2).png\">\n"
   ]
  },
  {
   "cell_type": "code",
   "execution_count": 2,
   "id": "89d5834d-209c-4d98-aa12-9771187c8ace",
   "metadata": {},
   "outputs": [],
   "source": [
    "# diff1(미분할 함수, 미분할 값, delta_X)\n",
    "def diff1( f, x, h=1e-6 ):\n",
    "    return ( f(x + h) - f(x) ) / h"
   ]
  },
  {
   "cell_type": "markdown",
   "id": "2fcd7b86-2c63-4a60-ba86-c3341f11259e",
   "metadata": {},
   "source": [
    "***\n",
    "미분(Differentiation) : 대칭 파생\n",
    "***"
   ]
  },
  {
   "cell_type": "markdown",
   "id": "5064493d-3f2a-4b25-8fe1-631c218de502",
   "metadata": {},
   "source": [
    "<img src=\"./미분 (1).png\">"
   ]
  },
  {
   "cell_type": "code",
   "execution_count": 3,
   "id": "2e114a30-2371-4eb8-9f11-6afc7cde0730",
   "metadata": {},
   "outputs": [],
   "source": [
    "# diff2(미분할 함수, 미분할 값, delta_X)\n",
    "def diff2( f, x, h=1e-6 ):\n",
    "    return ( f(x + h) - f(x - h) ) / (2 * h)"
   ]
  },
  {
   "cell_type": "code",
   "execution_count": 4,
   "id": "903dc30d-f8ea-4fa6-a939-db8b63632dde",
   "metadata": {},
   "outputs": [],
   "source": [
    "def f1 ( x ) :\n",
    "    return (x ** 2)"
   ]
  },
  {
   "cell_type": "code",
   "execution_count": 5,
   "id": "d2ef246c-7bb9-4805-b200-5707f2c273af",
   "metadata": {},
   "outputs": [
    {
     "name": "stdout",
     "output_type": "stream",
     "text": [
      "2.0000009999243673\n",
      "2.000000000002\n"
     ]
    }
   ],
   "source": [
    "print( diff1(f1, 1) )\n",
    "print( diff2(f1, 1) )"
   ]
  },
  {
   "cell_type": "code",
   "execution_count": 6,
   "id": "62862b12-b974-4e9c-b8f8-68b32406c28a",
   "metadata": {},
   "outputs": [],
   "source": [
    "f2 = lambda x : x ** 2"
   ]
  },
  {
   "cell_type": "code",
   "execution_count": 7,
   "id": "eca7bcde-2a69-4b51-a740-99e39df580eb",
   "metadata": {},
   "outputs": [
    {
     "name": "stdout",
     "output_type": "stream",
     "text": [
      "2.0000009999243673\n",
      "2.000000000002\n"
     ]
    }
   ],
   "source": [
    "print( diff1(f2, 1) )\n",
    "print( diff2(f2, 1) )"
   ]
  },
  {
   "cell_type": "markdown",
   "id": "8471125f-5ae8-4f98-a1ce-817e1128846f",
   "metadata": {},
   "source": [
    "***\n",
    "경사 하강(강하)법\n",
    "***"
   ]
  },
  {
   "cell_type": "code",
   "execution_count": 8,
   "id": "3717e8b5-5417-48c1-b6f2-49056d44eb10",
   "metadata": {},
   "outputs": [],
   "source": [
    "#경사 하강법 클래스, Optimizer\n",
    "class Descent:\n",
    "    def __init__( self, lr, h=1e-6 ):\n",
    "        self.lr = lr # 학습률\n",
    "        self.h = h # 수치 미분을 위해 지정하는 값으로 작을수록 더 정교한 미분을 실행한다.\n",
    "        \n",
    "    def diff( self, func, x ) : #미분 함수\n",
    "        return ( f(x + self.h) - f(x) ) / self.h\n",
    "        #return ( f(x + self.h) - f(x - self.h) ) / (2 * self.h)\n",
    "        \n",
    "    def update ( self, func, x ) : #경사 하강법 업데이트 함수\n",
    "        dx = self.diff( func, x )\n",
    "        return ( x - (self.lr * dx) )\n",
    "    \n",
    "    def __str__ ( self ) : \n",
    "        return ( '경사 하강법 -> 학습률 -> {}'.format (self.lr) )\n",
    "         \n",
    "        "
   ]
  },
  {
   "cell_type": "code",
   "execution_count": 9,
   "id": "185adcd7-be82-40d3-a616-e43eb0cd1a70",
   "metadata": {},
   "outputs": [],
   "source": [
    "# 경사 하강법 시각화 클래스\n",
    "class DrawDescent :\n",
    "    def __init__ ( self, func, optimizer ) :\n",
    "        self.func = func # 최적화하려는 함수\n",
    "        self.optimizer = optimizer #옵티마이저 <---- ( 경사 하강법, 모멘텀 )\n",
    "    \n",
    "    def run ( self, x, iteration ) : #옵티마이저 실행 함수\n",
    "        self.xs = [ x ]\n",
    "        for i in range ( iteration ) :\n",
    "            self.xs.append( self.optimizer.update(self.func, self.xs[-1]) )\n",
    "        #------- for i\n",
    "        print( '{}에서 시작해서 {}번 {}을(를) 적용한 결과는 {:5.3f}입니다.'.format(x, iteration, self.optimizer, self.xs[-1]) )\n",
    "        \n",
    "    def draw( self, xi, xe ) : #시각화하는 함수\n",
    "        x = np.linspace( xi, xe, (int(xe - xi) * 100) )\n",
    "        y = [ self.func(xx) for xx in x ]\n",
    "        plt.plot( x, y, 'k--' ) # 2차원 곡선 시각화\n",
    "        ys = [ self.func(xx) for xx in self.xs ] \n",
    "        plt.plot( self.xs, ys, 'ro', markersize=3 ) #경사 하강법으로 이동하는 위치 시각화\n",
    "        plt.show()\n",
    "        \n",
    "    def history( self ):\n",
    "        for i, x in enumerate( self.xs ):\n",
    "            print( '{:3d}번 {}을(를) 적용한 결과는 {:5.3f}입니다.'.format((i + 1), self.optimizer, x) )"
   ]
  },
  {
   "cell_type": "code",
   "execution_count": 10,
   "id": "b1059cff-8af4-4242-bbaf-950cc961c133",
   "metadata": {},
   "outputs": [
    {
     "name": "stdout",
     "output_type": "stream",
     "text": [
      "경사 하강법 -> 학습률 -> 0.01\n"
     ]
    }
   ],
   "source": [
    "# 경사 하강법 실행\n",
    "optimizer = Descent( 0.01 ) #경사 하강법 클래스 객체를 생성\n",
    "print(optimizer)\n",
    "f = lambda x : x ** 2 # 미분할 대상이 되는 함수\n",
    "ex = DrawDescent( f, optimizer ) # 경사 하강법을 적용한 결과를 시각화하는 클래스 객체 생성"
   ]
  },
  {
   "cell_type": "code",
   "execution_count": 11,
   "id": "76edc312-56d3-40f8-9413-b3c28c3d3c6c",
   "metadata": {},
   "outputs": [
    {
     "name": "stdout",
     "output_type": "stream",
     "text": [
      "2에서 시작해서 100번 경사 하강법 -> 학습률 -> 0.01을(를) 적용한 결과는 0.265입니다.\n"
     ]
    }
   ],
   "source": [
    "ex.run( 2, 100 ) # 2에서 출발해서 경사 하강법을 100번 적용한다."
   ]
  },
  {
   "cell_type": "code",
   "execution_count": 12,
   "id": "deb07a35-5060-41c8-8bbd-766ad1b4d677",
   "metadata": {
    "tags": []
   },
   "outputs": [
    {
     "data": {
      "image/png": "[encoded data removed]",
      "text/plain": [
       "<Figure size 640x480 with 1 Axes>"
      ]
     },
     "metadata": {},
     "output_type": "display_data"
    }
   ],
   "source": [
    "ex.draw( -1, 2.5 ) # 경사 하강법 실행 결과 시각화"
   ]
  },
  {
   "cell_type": "code",
   "execution_count": 13,
   "id": "8b1b878d-753c-4277-8ec6-8a21c36f0820",
   "metadata": {
    "tags": []
   },
   "outputs": [
    {
     "name": "stdout",
     "output_type": "stream",
     "text": [
      "  1번 경사 하강법 -> 학습률 -> 0.01을(를) 적용한 결과는 2.000입니다.\n",
      "  2번 경사 하강법 -> 학습률 -> 0.01을(를) 적용한 결과는 1.960입니다.\n",
      "  3번 경사 하강법 -> 학습률 -> 0.01을(를) 적용한 결과는 1.921입니다.\n",
      "  4번 경사 하강법 -> 학습률 -> 0.01을(를) 적용한 결과는 1.882입니다.\n",
      "  5번 경사 하강법 -> 학습률 -> 0.01을(를) 적용한 결과는 1.845입니다.\n",
      "  6번 경사 하강법 -> 학습률 -> 0.01을(를) 적용한 결과는 1.808입니다.\n",
      "  7번 경사 하강법 -> 학습률 -> 0.01을(를) 적용한 결과는 1.772입니다.\n",
      "  8번 경사 하강법 -> 학습률 -> 0.01을(를) 적용한 결과는 1.736입니다.\n",
      "  9번 경사 하강법 -> 학습률 -> 0.01을(를) 적용한 결과는 1.702입니다.\n",
      " 10번 경사 하강법 -> 학습률 -> 0.01을(를) 적용한 결과는 1.667입니다.\n",
      " 11번 경사 하강법 -> 학습률 -> 0.01을(를) 적용한 결과는 1.634입니다.\n",
      " 12번 경사 하강법 -> 학습률 -> 0.01을(를) 적용한 결과는 1.601입니다.\n",
      " 13번 경사 하강법 -> 학습률 -> 0.01을(를) 적용한 결과는 1.569입니다.\n",
      " 14번 경사 하강법 -> 학습률 -> 0.01을(를) 적용한 결과는 1.538입니다.\n",
      " 15번 경사 하강법 -> 학습률 -> 0.01을(를) 적용한 결과는 1.507입니다.\n",
      " 16번 경사 하강법 -> 학습률 -> 0.01을(를) 적용한 결과는 1.477입니다.\n",
      " 17번 경사 하강법 -> 학습률 -> 0.01을(를) 적용한 결과는 1.448입니다.\n",
      " 18번 경사 하강법 -> 학습률 -> 0.01을(를) 적용한 결과는 1.419입니다.\n",
      " 19번 경사 하강법 -> 학습률 -> 0.01을(를) 적용한 결과는 1.390입니다.\n",
      " 20번 경사 하강법 -> 학습률 -> 0.01을(를) 적용한 결과는 1.362입니다.\n",
      " 21번 경사 하강법 -> 학습률 -> 0.01을(를) 적용한 결과는 1.335입니다.\n",
      " 22번 경사 하강법 -> 학습률 -> 0.01을(를) 적용한 결과는 1.309입니다.\n",
      " 23번 경사 하강법 -> 학습률 -> 0.01을(를) 적용한 결과는 1.282입니다.\n",
      " 24번 경사 하강법 -> 학습률 -> 0.01을(를) 적용한 결과는 1.257입니다.\n",
      " 25번 경사 하강법 -> 학습률 -> 0.01을(를) 적용한 결과는 1.232입니다.\n",
      " 26번 경사 하강법 -> 학습률 -> 0.01을(를) 적용한 결과는 1.207입니다.\n",
      " 27번 경사 하강법 -> 학습률 -> 0.01을(를) 적용한 결과는 1.183입니다.\n",
      " 28번 경사 하강법 -> 학습률 -> 0.01을(를) 적용한 결과는 1.159입니다.\n",
      " 29번 경사 하강법 -> 학습률 -> 0.01을(를) 적용한 결과는 1.136입니다.\n",
      " 30번 경사 하강법 -> 학습률 -> 0.01을(를) 적용한 결과는 1.113입니다.\n",
      " 31번 경사 하강법 -> 학습률 -> 0.01을(를) 적용한 결과는 1.091입니다.\n",
      " 32번 경사 하강법 -> 학습률 -> 0.01을(를) 적용한 결과는 1.069입니다.\n",
      " 33번 경사 하강법 -> 학습률 -> 0.01을(를) 적용한 결과는 1.048입니다.\n",
      " 34번 경사 하강법 -> 학습률 -> 0.01을(를) 적용한 결과는 1.027입니다.\n",
      " 35번 경사 하강법 -> 학습률 -> 0.01을(를) 적용한 결과는 1.006입니다.\n",
      " 36번 경사 하강법 -> 학습률 -> 0.01을(를) 적용한 결과는 0.986입니다.\n",
      " 37번 경사 하강법 -> 학습률 -> 0.01을(를) 적용한 결과는 0.966입니다.\n",
      " 38번 경사 하강법 -> 학습률 -> 0.01을(를) 적용한 결과는 0.947입니다.\n",
      " 39번 경사 하강법 -> 학습률 -> 0.01을(를) 적용한 결과는 0.928입니다.\n",
      " 40번 경사 하강법 -> 학습률 -> 0.01을(를) 적용한 결과는 0.910입니다.\n",
      " 41번 경사 하강법 -> 학습률 -> 0.01을(를) 적용한 결과는 0.891입니다.\n",
      " 42번 경사 하강법 -> 학습률 -> 0.01을(를) 적용한 결과는 0.874입니다.\n",
      " 43번 경사 하강법 -> 학습률 -> 0.01을(를) 적용한 결과는 0.856입니다.\n",
      " 44번 경사 하강법 -> 학습률 -> 0.01을(를) 적용한 결과는 0.839입니다.\n",
      " 45번 경사 하강법 -> 학습률 -> 0.01을(를) 적용한 결과는 0.822입니다.\n",
      " 46번 경사 하강법 -> 학습률 -> 0.01을(를) 적용한 결과는 0.806입니다.\n",
      " 47번 경사 하강법 -> 학습률 -> 0.01을(를) 적용한 결과는 0.790입니다.\n",
      " 48번 경사 하강법 -> 학습률 -> 0.01을(를) 적용한 결과는 0.774입니다.\n",
      " 49번 경사 하강법 -> 학습률 -> 0.01을(를) 적용한 결과는 0.758입니다.\n",
      " 50번 경사 하강법 -> 학습률 -> 0.01을(를) 적용한 결과는 0.743입니다.\n",
      " 51번 경사 하강법 -> 학습률 -> 0.01을(를) 적용한 결과는 0.728입니다.\n",
      " 52번 경사 하강법 -> 학습률 -> 0.01을(를) 적용한 결과는 0.714입니다.\n",
      " 53번 경사 하강법 -> 학습률 -> 0.01을(를) 적용한 결과는 0.699입니다.\n",
      " 54번 경사 하강법 -> 학습률 -> 0.01을(를) 적용한 결과는 0.686입니다.\n",
      " 55번 경사 하강법 -> 학습률 -> 0.01을(를) 적용한 결과는 0.672입니다.\n",
      " 56번 경사 하강법 -> 학습률 -> 0.01을(를) 적용한 결과는 0.658입니다.\n",
      " 57번 경사 하강법 -> 학습률 -> 0.01을(를) 적용한 결과는 0.645입니다.\n",
      " 58번 경사 하강법 -> 학습률 -> 0.01을(를) 적용한 결과는 0.632입니다.\n",
      " 59번 경사 하강법 -> 학습률 -> 0.01을(를) 적용한 결과는 0.620입니다.\n",
      " 60번 경사 하강법 -> 학습률 -> 0.01을(를) 적용한 결과는 0.607입니다.\n",
      " 61번 경사 하강법 -> 학습률 -> 0.01을(를) 적용한 결과는 0.595입니다.\n",
      " 62번 경사 하강법 -> 학습률 -> 0.01을(를) 적용한 결과는 0.583입니다.\n",
      " 63번 경사 하강법 -> 학습률 -> 0.01을(를) 적용한 결과는 0.572입니다.\n",
      " 64번 경사 하강법 -> 학습률 -> 0.01을(를) 적용한 결과는 0.560입니다.\n",
      " 65번 경사 하강법 -> 학습률 -> 0.01을(를) 적용한 결과는 0.549입니다.\n",
      " 66번 경사 하강법 -> 학습률 -> 0.01을(를) 적용한 결과는 0.538입니다.\n",
      " 67번 경사 하강법 -> 학습률 -> 0.01을(를) 적용한 결과는 0.527입니다.\n",
      " 68번 경사 하강법 -> 학습률 -> 0.01을(를) 적용한 결과는 0.517입니다.\n",
      " 69번 경사 하강법 -> 학습률 -> 0.01을(를) 적용한 결과는 0.506입니다.\n",
      " 70번 경사 하강법 -> 학습률 -> 0.01을(를) 적용한 결과는 0.496입니다.\n",
      " 71번 경사 하강법 -> 학습률 -> 0.01을(를) 적용한 결과는 0.486입니다.\n",
      " 72번 경사 하강법 -> 학습률 -> 0.01을(를) 적용한 결과는 0.477입니다.\n",
      " 73번 경사 하강법 -> 학습률 -> 0.01을(를) 적용한 결과는 0.467입니다.\n",
      " 74번 경사 하강법 -> 학습률 -> 0.01을(를) 적용한 결과는 0.458입니다.\n",
      " 75번 경사 하강법 -> 학습률 -> 0.01을(를) 적용한 결과는 0.448입니다.\n",
      " 76번 경사 하강법 -> 학습률 -> 0.01을(를) 적용한 결과는 0.440입니다.\n",
      " 77번 경사 하강법 -> 학습률 -> 0.01을(를) 적용한 결과는 0.431입니다.\n",
      " 78번 경사 하강법 -> 학습률 -> 0.01을(를) 적용한 결과는 0.422입니다.\n",
      " 79번 경사 하강법 -> 학습률 -> 0.01을(를) 적용한 결과는 0.414입니다.\n",
      " 80번 경사 하강법 -> 학습률 -> 0.01을(를) 적용한 결과는 0.405입니다.\n",
      " 81번 경사 하강법 -> 학습률 -> 0.01을(를) 적용한 결과는 0.397입니다.\n",
      " 82번 경사 하강법 -> 학습률 -> 0.01을(를) 적용한 결과는 0.389입니다.\n",
      " 83번 경사 하강법 -> 학습률 -> 0.01을(를) 적용한 결과는 0.382입니다.\n",
      " 84번 경사 하강법 -> 학습률 -> 0.01을(를) 적용한 결과는 0.374입니다.\n",
      " 85번 경사 하강법 -> 학습률 -> 0.01을(를) 적용한 결과는 0.366입니다.\n",
      " 86번 경사 하강법 -> 학습률 -> 0.01을(를) 적용한 결과는 0.359입니다.\n",
      " 87번 경사 하강법 -> 학습률 -> 0.01을(를) 적용한 결과는 0.352입니다.\n",
      " 88번 경사 하강법 -> 학습률 -> 0.01을(를) 적용한 결과는 0.345입니다.\n",
      " 89번 경사 하강법 -> 학습률 -> 0.01을(를) 적용한 결과는 0.338입니다.\n",
      " 90번 경사 하강법 -> 학습률 -> 0.01을(를) 적용한 결과는 0.331입니다.\n",
      " 91번 경사 하강법 -> 학습률 -> 0.01을(를) 적용한 결과는 0.325입니다.\n",
      " 92번 경사 하강법 -> 학습률 -> 0.01을(를) 적용한 결과는 0.318입니다.\n",
      " 93번 경사 하강법 -> 학습률 -> 0.01을(를) 적용한 결과는 0.312입니다.\n",
      " 94번 경사 하강법 -> 학습률 -> 0.01을(를) 적용한 결과는 0.306입니다.\n",
      " 95번 경사 하강법 -> 학습률 -> 0.01을(를) 적용한 결과는 0.299입니다.\n",
      " 96번 경사 하강법 -> 학습률 -> 0.01을(를) 적용한 결과는 0.293입니다.\n",
      " 97번 경사 하강법 -> 학습률 -> 0.01을(를) 적용한 결과는 0.288입니다.\n",
      " 98번 경사 하강법 -> 학습률 -> 0.01을(를) 적용한 결과는 0.282입니다.\n",
      " 99번 경사 하강법 -> 학습률 -> 0.01을(를) 적용한 결과는 0.276입니다.\n",
      "100번 경사 하강법 -> 학습률 -> 0.01을(를) 적용한 결과는 0.271입니다.\n",
      "101번 경사 하강법 -> 학습률 -> 0.01을(를) 적용한 결과는 0.265입니다.\n"
     ]
    }
   ],
   "source": [
    "ex.history(  )"
   ]
  },
  {
   "cell_type": "code",
   "execution_count": 14,
   "id": "341eda33-19de-4bf7-9cd6-4fd4c16fd23a",
   "metadata": {
    "tags": []
   },
   "outputs": [
    {
     "name": "stdout",
     "output_type": "stream",
     "text": [
      "2에서 시작해서 100번 경사 하강법 -> 학습률 -> 0.1을(를) 적용한 결과는 -0.000입니다.\n"
     ]
    },
    {
     "data": {
      "image/png": "[encoded data removed]",
      "text/plain": [
       "<Figure size 640x480 with 1 Axes>"
      ]
     },
     "metadata": {},
     "output_type": "display_data"
    },
    {
     "name": "stdout",
     "output_type": "stream",
     "text": [
      "  1번 경사 하강법 -> 학습률 -> 0.1을(를) 적용한 결과는 2.000입니다.\n",
      "  2번 경사 하강법 -> 학습률 -> 0.1을(를) 적용한 결과는 1.600입니다.\n",
      "  3번 경사 하강법 -> 학습률 -> 0.1을(를) 적용한 결과는 1.280입니다.\n",
      "  4번 경사 하강법 -> 학습률 -> 0.1을(를) 적용한 결과는 1.024입니다.\n",
      "  5번 경사 하강법 -> 학습률 -> 0.1을(를) 적용한 결과는 0.819입니다.\n",
      "  6번 경사 하강법 -> 학습률 -> 0.1을(를) 적용한 결과는 0.655입니다.\n",
      "  7번 경사 하강법 -> 학습률 -> 0.1을(를) 적용한 결과는 0.524입니다.\n",
      "  8번 경사 하강법 -> 학습률 -> 0.1을(를) 적용한 결과는 0.419입니다.\n",
      "  9번 경사 하강법 -> 학습률 -> 0.1을(를) 적용한 결과는 0.336입니다.\n",
      " 10번 경사 하강법 -> 학습률 -> 0.1을(를) 적용한 결과는 0.268입니다.\n",
      " 11번 경사 하강법 -> 학습률 -> 0.1을(를) 적용한 결과는 0.215입니다.\n",
      " 12번 경사 하강법 -> 학습률 -> 0.1을(를) 적용한 결과는 0.172입니다.\n",
      " 13번 경사 하강법 -> 학습률 -> 0.1을(를) 적용한 결과는 0.137입니다.\n",
      " 14번 경사 하강법 -> 학습률 -> 0.1을(를) 적용한 결과는 0.110입니다.\n",
      " 15번 경사 하강법 -> 학습률 -> 0.1을(를) 적용한 결과는 0.088입니다.\n",
      " 16번 경사 하강법 -> 학습률 -> 0.1을(를) 적용한 결과는 0.070입니다.\n",
      " 17번 경사 하강법 -> 학습률 -> 0.1을(를) 적용한 결과는 0.056입니다.\n",
      " 18번 경사 하강법 -> 학습률 -> 0.1을(를) 적용한 결과는 0.045입니다.\n",
      " 19번 경사 하강법 -> 학습률 -> 0.1을(를) 적용한 결과는 0.036입니다.\n",
      " 20번 경사 하강법 -> 학습률 -> 0.1을(를) 적용한 결과는 0.029입니다.\n",
      " 21번 경사 하강법 -> 학습률 -> 0.1을(를) 적용한 결과는 0.023입니다.\n",
      " 22번 경사 하강법 -> 학습률 -> 0.1을(를) 적용한 결과는 0.018입니다.\n",
      " 23번 경사 하강법 -> 학습률 -> 0.1을(를) 적용한 결과는 0.015입니다.\n",
      " 24번 경사 하강법 -> 학습률 -> 0.1을(를) 적용한 결과는 0.012입니다.\n",
      " 25번 경사 하강법 -> 학습률 -> 0.1을(를) 적용한 결과는 0.009입니다.\n",
      " 26번 경사 하강법 -> 학습률 -> 0.1을(를) 적용한 결과는 0.008입니다.\n",
      " 27번 경사 하강법 -> 학습률 -> 0.1을(를) 적용한 결과는 0.006입니다.\n",
      " 28번 경사 하강법 -> 학습률 -> 0.1을(를) 적용한 결과는 0.005입니다.\n",
      " 29번 경사 하강법 -> 학습률 -> 0.1을(를) 적용한 결과는 0.004입니다.\n",
      " 30번 경사 하강법 -> 학습률 -> 0.1을(를) 적용한 결과는 0.003입니다.\n",
      " 31번 경사 하강법 -> 학습률 -> 0.1을(를) 적용한 결과는 0.002입니다.\n",
      " 32번 경사 하강법 -> 학습률 -> 0.1을(를) 적용한 결과는 0.002입니다.\n",
      " 33번 경사 하강법 -> 학습률 -> 0.1을(를) 적용한 결과는 0.002입니다.\n",
      " 34번 경사 하강법 -> 학습률 -> 0.1을(를) 적용한 결과는 0.001입니다.\n",
      " 35번 경사 하강법 -> 학습률 -> 0.1을(를) 적용한 결과는 0.001입니다.\n",
      " 36번 경사 하강법 -> 학습률 -> 0.1을(를) 적용한 결과는 0.001입니다.\n",
      " 37번 경사 하강법 -> 학습률 -> 0.1을(를) 적용한 결과는 0.001입니다.\n",
      " 38번 경사 하강법 -> 학습률 -> 0.1을(를) 적용한 결과는 0.001입니다.\n",
      " 39번 경사 하강법 -> 학습률 -> 0.1을(를) 적용한 결과는 0.000입니다.\n",
      " 40번 경사 하강법 -> 학습률 -> 0.1을(를) 적용한 결과는 0.000입니다.\n",
      " 41번 경사 하강법 -> 학습률 -> 0.1을(를) 적용한 결과는 0.000입니다.\n",
      " 42번 경사 하강법 -> 학습률 -> 0.1을(를) 적용한 결과는 0.000입니다.\n",
      " 43번 경사 하강법 -> 학습률 -> 0.1을(를) 적용한 결과는 0.000입니다.\n",
      " 44번 경사 하강법 -> 학습률 -> 0.1을(를) 적용한 결과는 0.000입니다.\n",
      " 45번 경사 하강법 -> 학습률 -> 0.1을(를) 적용한 결과는 0.000입니다.\n",
      " 46번 경사 하강법 -> 학습률 -> 0.1을(를) 적용한 결과는 0.000입니다.\n",
      " 47번 경사 하강법 -> 학습률 -> 0.1을(를) 적용한 결과는 0.000입니다.\n",
      " 48번 경사 하강법 -> 학습률 -> 0.1을(를) 적용한 결과는 0.000입니다.\n",
      " 49번 경사 하강법 -> 학습률 -> 0.1을(를) 적용한 결과는 0.000입니다.\n",
      " 50번 경사 하강법 -> 학습률 -> 0.1을(를) 적용한 결과는 0.000입니다.\n",
      " 51번 경사 하강법 -> 학습률 -> 0.1을(를) 적용한 결과는 0.000입니다.\n",
      " 52번 경사 하강법 -> 학습률 -> 0.1을(를) 적용한 결과는 0.000입니다.\n",
      " 53번 경사 하강법 -> 학습률 -> 0.1을(를) 적용한 결과는 0.000입니다.\n",
      " 54번 경사 하강법 -> 학습률 -> 0.1을(를) 적용한 결과는 0.000입니다.\n",
      " 55번 경사 하강법 -> 학습률 -> 0.1을(를) 적용한 결과는 0.000입니다.\n",
      " 56번 경사 하강법 -> 학습률 -> 0.1을(를) 적용한 결과는 0.000입니다.\n",
      " 57번 경사 하강법 -> 학습률 -> 0.1을(를) 적용한 결과는 0.000입니다.\n",
      " 58번 경사 하강법 -> 학습률 -> 0.1을(를) 적용한 결과는 0.000입니다.\n",
      " 59번 경사 하강법 -> 학습률 -> 0.1을(를) 적용한 결과는 0.000입니다.\n",
      " 60번 경사 하강법 -> 학습률 -> 0.1을(를) 적용한 결과는 0.000입니다.\n",
      " 61번 경사 하강법 -> 학습률 -> 0.1을(를) 적용한 결과는 0.000입니다.\n",
      " 62번 경사 하강법 -> 학습률 -> 0.1을(를) 적용한 결과는 0.000입니다.\n",
      " 63번 경사 하강법 -> 학습률 -> 0.1을(를) 적용한 결과는 0.000입니다.\n",
      " 64번 경사 하강법 -> 학습률 -> 0.1을(를) 적용한 결과는 0.000입니다.\n",
      " 65번 경사 하강법 -> 학습률 -> 0.1을(를) 적용한 결과는 0.000입니다.\n",
      " 66번 경사 하강법 -> 학습률 -> 0.1을(를) 적용한 결과는 0.000입니다.\n",
      " 67번 경사 하강법 -> 학습률 -> 0.1을(를) 적용한 결과는 0.000입니다.\n",
      " 68번 경사 하강법 -> 학습률 -> 0.1을(를) 적용한 결과는 0.000입니다.\n",
      " 69번 경사 하강법 -> 학습률 -> 0.1을(를) 적용한 결과는 0.000입니다.\n",
      " 70번 경사 하강법 -> 학습률 -> 0.1을(를) 적용한 결과는 -0.000입니다.\n",
      " 71번 경사 하강법 -> 학습률 -> 0.1을(를) 적용한 결과는 -0.000입니다.\n",
      " 72번 경사 하강법 -> 학습률 -> 0.1을(를) 적용한 결과는 -0.000입니다.\n",
      " 73번 경사 하강법 -> 학습률 -> 0.1을(를) 적용한 결과는 -0.000입니다.\n",
      " 74번 경사 하강법 -> 학습률 -> 0.1을(를) 적용한 결과는 -0.000입니다.\n",
      " 75번 경사 하강법 -> 학습률 -> 0.1을(를) 적용한 결과는 -0.000입니다.\n",
      " 76번 경사 하강법 -> 학습률 -> 0.1을(를) 적용한 결과는 -0.000입니다.\n",
      " 77번 경사 하강법 -> 학습률 -> 0.1을(를) 적용한 결과는 -0.000입니다.\n",
      " 78번 경사 하강법 -> 학습률 -> 0.1을(를) 적용한 결과는 -0.000입니다.\n",
      " 79번 경사 하강법 -> 학습률 -> 0.1을(를) 적용한 결과는 -0.000입니다.\n",
      " 80번 경사 하강법 -> 학습률 -> 0.1을(를) 적용한 결과는 -0.000입니다.\n",
      " 81번 경사 하강법 -> 학습률 -> 0.1을(를) 적용한 결과는 -0.000입니다.\n",
      " 82번 경사 하강법 -> 학습률 -> 0.1을(를) 적용한 결과는 -0.000입니다.\n",
      " 83번 경사 하강법 -> 학습률 -> 0.1을(를) 적용한 결과는 -0.000입니다.\n",
      " 84번 경사 하강법 -> 학습률 -> 0.1을(를) 적용한 결과는 -0.000입니다.\n",
      " 85번 경사 하강법 -> 학습률 -> 0.1을(를) 적용한 결과는 -0.000입니다.\n",
      " 86번 경사 하강법 -> 학습률 -> 0.1을(를) 적용한 결과는 -0.000입니다.\n",
      " 87번 경사 하강법 -> 학습률 -> 0.1을(를) 적용한 결과는 -0.000입니다.\n",
      " 88번 경사 하강법 -> 학습률 -> 0.1을(를) 적용한 결과는 -0.000입니다.\n",
      " 89번 경사 하강법 -> 학습률 -> 0.1을(를) 적용한 결과는 -0.000입니다.\n",
      " 90번 경사 하강법 -> 학습률 -> 0.1을(를) 적용한 결과는 -0.000입니다.\n",
      " 91번 경사 하강법 -> 학습률 -> 0.1을(를) 적용한 결과는 -0.000입니다.\n",
      " 92번 경사 하강법 -> 학습률 -> 0.1을(를) 적용한 결과는 -0.000입니다.\n",
      " 93번 경사 하강법 -> 학습률 -> 0.1을(를) 적용한 결과는 -0.000입니다.\n",
      " 94번 경사 하강법 -> 학습률 -> 0.1을(를) 적용한 결과는 -0.000입니다.\n",
      " 95번 경사 하강법 -> 학습률 -> 0.1을(를) 적용한 결과는 -0.000입니다.\n",
      " 96번 경사 하강법 -> 학습률 -> 0.1을(를) 적용한 결과는 -0.000입니다.\n",
      " 97번 경사 하강법 -> 학습률 -> 0.1을(를) 적용한 결과는 -0.000입니다.\n",
      " 98번 경사 하강법 -> 학습률 -> 0.1을(를) 적용한 결과는 -0.000입니다.\n",
      " 99번 경사 하강법 -> 학습률 -> 0.1을(를) 적용한 결과는 -0.000입니다.\n",
      "100번 경사 하강법 -> 학습률 -> 0.1을(를) 적용한 결과는 -0.000입니다.\n",
      "101번 경사 하강법 -> 학습률 -> 0.1을(를) 적용한 결과는 -0.000입니다.\n"
     ]
    }
   ],
   "source": [
    "optimizer = Descent( 0.1 ) # 학습률을 0.01에서 0.1로 변경한 경사 하강법\n",
    "ex = DrawDescent( f, optimizer ) \n",
    "ex.run( 2, 100 ) # 2에서 출발해서 경사 하강법을 100번 적용한다.\n",
    "ex.draw( -1, 2.5 ) # 경사 하강법 실행 결과 시각화\n",
    "ex.history(  )"
   ]
  },
  {
   "cell_type": "code",
   "execution_count": 15,
   "id": "ac7532bf-230a-45e8-b3c9-d6b6ae8d8284",
   "metadata": {
    "tags": []
   },
   "outputs": [
    {
     "name": "stdout",
     "output_type": "stream",
     "text": [
      "2에서 시작해서 100번 경사 하강법 -> 학습률 -> 1을(를) 적용한 결과는 2.000입니다.\n"
     ]
    },
    {
     "data": {
      "image/png": "[encoded data removed]",
      "text/plain": [
       "<Figure size 640x480 with 1 Axes>"
      ]
     },
     "metadata": {},
     "output_type": "display_data"
    },
    {
     "name": "stdout",
     "output_type": "stream",
     "text": [
      "  1번 경사 하강법 -> 학습률 -> 1을(를) 적용한 결과는 2.000입니다.\n",
      "  2번 경사 하강법 -> 학습률 -> 1을(를) 적용한 결과는 -2.000입니다.\n",
      "  3번 경사 하강법 -> 학습률 -> 1을(를) 적용한 결과는 2.000입니다.\n",
      "  4번 경사 하강법 -> 학습률 -> 1을(를) 적용한 결과는 -2.000입니다.\n",
      "  5번 경사 하강법 -> 학습률 -> 1을(를) 적용한 결과는 2.000입니다.\n",
      "  6번 경사 하강법 -> 학습률 -> 1을(를) 적용한 결과는 -2.000입니다.\n",
      "  7번 경사 하강법 -> 학습률 -> 1을(를) 적용한 결과는 2.000입니다.\n",
      "  8번 경사 하강법 -> 학습률 -> 1을(를) 적용한 결과는 -2.000입니다.\n",
      "  9번 경사 하강법 -> 학습률 -> 1을(를) 적용한 결과는 2.000입니다.\n",
      " 10번 경사 하강법 -> 학습률 -> 1을(를) 적용한 결과는 -2.000입니다.\n",
      " 11번 경사 하강법 -> 학습률 -> 1을(를) 적용한 결과는 2.000입니다.\n",
      " 12번 경사 하강법 -> 학습률 -> 1을(를) 적용한 결과는 -2.000입니다.\n",
      " 13번 경사 하강법 -> 학습률 -> 1을(를) 적용한 결과는 2.000입니다.\n",
      " 14번 경사 하강법 -> 학습률 -> 1을(를) 적용한 결과는 -2.000입니다.\n",
      " 15번 경사 하강법 -> 학습률 -> 1을(를) 적용한 결과는 2.000입니다.\n",
      " 16번 경사 하강법 -> 학습률 -> 1을(를) 적용한 결과는 -2.000입니다.\n",
      " 17번 경사 하강법 -> 학습률 -> 1을(를) 적용한 결과는 2.000입니다.\n",
      " 18번 경사 하강법 -> 학습률 -> 1을(를) 적용한 결과는 -2.000입니다.\n",
      " 19번 경사 하강법 -> 학습률 -> 1을(를) 적용한 결과는 2.000입니다.\n",
      " 20번 경사 하강법 -> 학습률 -> 1을(를) 적용한 결과는 -2.000입니다.\n",
      " 21번 경사 하강법 -> 학습률 -> 1을(를) 적용한 결과는 2.000입니다.\n",
      " 22번 경사 하강법 -> 학습률 -> 1을(를) 적용한 결과는 -2.000입니다.\n",
      " 23번 경사 하강법 -> 학습률 -> 1을(를) 적용한 결과는 2.000입니다.\n",
      " 24번 경사 하강법 -> 학습률 -> 1을(를) 적용한 결과는 -2.000입니다.\n",
      " 25번 경사 하강법 -> 학습률 -> 1을(를) 적용한 결과는 2.000입니다.\n",
      " 26번 경사 하강법 -> 학습률 -> 1을(를) 적용한 결과는 -2.000입니다.\n",
      " 27번 경사 하강법 -> 학습률 -> 1을(를) 적용한 결과는 2.000입니다.\n",
      " 28번 경사 하강법 -> 학습률 -> 1을(를) 적용한 결과는 -2.000입니다.\n",
      " 29번 경사 하강법 -> 학습률 -> 1을(를) 적용한 결과는 2.000입니다.\n",
      " 30번 경사 하강법 -> 학습률 -> 1을(를) 적용한 결과는 -2.000입니다.\n",
      " 31번 경사 하강법 -> 학습률 -> 1을(를) 적용한 결과는 2.000입니다.\n",
      " 32번 경사 하강법 -> 학습률 -> 1을(를) 적용한 결과는 -2.000입니다.\n",
      " 33번 경사 하강법 -> 학습률 -> 1을(를) 적용한 결과는 2.000입니다.\n",
      " 34번 경사 하강법 -> 학습률 -> 1을(를) 적용한 결과는 -2.000입니다.\n",
      " 35번 경사 하강법 -> 학습률 -> 1을(를) 적용한 결과는 2.000입니다.\n",
      " 36번 경사 하강법 -> 학습률 -> 1을(를) 적용한 결과는 -2.000입니다.\n",
      " 37번 경사 하강법 -> 학습률 -> 1을(를) 적용한 결과는 2.000입니다.\n",
      " 38번 경사 하강법 -> 학습률 -> 1을(를) 적용한 결과는 -2.000입니다.\n",
      " 39번 경사 하강법 -> 학습률 -> 1을(를) 적용한 결과는 2.000입니다.\n",
      " 40번 경사 하강법 -> 학습률 -> 1을(를) 적용한 결과는 -2.000입니다.\n",
      " 41번 경사 하강법 -> 학습률 -> 1을(를) 적용한 결과는 2.000입니다.\n",
      " 42번 경사 하강법 -> 학습률 -> 1을(를) 적용한 결과는 -2.000입니다.\n",
      " 43번 경사 하강법 -> 학습률 -> 1을(를) 적용한 결과는 2.000입니다.\n",
      " 44번 경사 하강법 -> 학습률 -> 1을(를) 적용한 결과는 -2.000입니다.\n",
      " 45번 경사 하강법 -> 학습률 -> 1을(를) 적용한 결과는 2.000입니다.\n",
      " 46번 경사 하강법 -> 학습률 -> 1을(를) 적용한 결과는 -2.000입니다.\n",
      " 47번 경사 하강법 -> 학습률 -> 1을(를) 적용한 결과는 2.000입니다.\n",
      " 48번 경사 하강법 -> 학습률 -> 1을(를) 적용한 결과는 -2.000입니다.\n",
      " 49번 경사 하강법 -> 학습률 -> 1을(를) 적용한 결과는 2.000입니다.\n",
      " 50번 경사 하강법 -> 학습률 -> 1을(를) 적용한 결과는 -2.000입니다.\n",
      " 51번 경사 하강법 -> 학습률 -> 1을(를) 적용한 결과는 2.000입니다.\n",
      " 52번 경사 하강법 -> 학습률 -> 1을(를) 적용한 결과는 -2.000입니다.\n",
      " 53번 경사 하강법 -> 학습률 -> 1을(를) 적용한 결과는 2.000입니다.\n",
      " 54번 경사 하강법 -> 학습률 -> 1을(를) 적용한 결과는 -2.000입니다.\n",
      " 55번 경사 하강법 -> 학습률 -> 1을(를) 적용한 결과는 2.000입니다.\n",
      " 56번 경사 하강법 -> 학습률 -> 1을(를) 적용한 결과는 -2.000입니다.\n",
      " 57번 경사 하강법 -> 학습률 -> 1을(를) 적용한 결과는 2.000입니다.\n",
      " 58번 경사 하강법 -> 학습률 -> 1을(를) 적용한 결과는 -2.000입니다.\n",
      " 59번 경사 하강법 -> 학습률 -> 1을(를) 적용한 결과는 2.000입니다.\n",
      " 60번 경사 하강법 -> 학습률 -> 1을(를) 적용한 결과는 -2.000입니다.\n",
      " 61번 경사 하강법 -> 학습률 -> 1을(를) 적용한 결과는 2.000입니다.\n",
      " 62번 경사 하강법 -> 학습률 -> 1을(를) 적용한 결과는 -2.000입니다.\n",
      " 63번 경사 하강법 -> 학습률 -> 1을(를) 적용한 결과는 2.000입니다.\n",
      " 64번 경사 하강법 -> 학습률 -> 1을(를) 적용한 결과는 -2.000입니다.\n",
      " 65번 경사 하강법 -> 학습률 -> 1을(를) 적용한 결과는 2.000입니다.\n",
      " 66번 경사 하강법 -> 학습률 -> 1을(를) 적용한 결과는 -2.000입니다.\n",
      " 67번 경사 하강법 -> 학습률 -> 1을(를) 적용한 결과는 2.000입니다.\n",
      " 68번 경사 하강법 -> 학습률 -> 1을(를) 적용한 결과는 -2.000입니다.\n",
      " 69번 경사 하강법 -> 학습률 -> 1을(를) 적용한 결과는 2.000입니다.\n",
      " 70번 경사 하강법 -> 학습률 -> 1을(를) 적용한 결과는 -2.000입니다.\n",
      " 71번 경사 하강법 -> 학습률 -> 1을(를) 적용한 결과는 2.000입니다.\n",
      " 72번 경사 하강법 -> 학습률 -> 1을(를) 적용한 결과는 -2.000입니다.\n",
      " 73번 경사 하강법 -> 학습률 -> 1을(를) 적용한 결과는 2.000입니다.\n",
      " 74번 경사 하강법 -> 학습률 -> 1을(를) 적용한 결과는 -2.000입니다.\n",
      " 75번 경사 하강법 -> 학습률 -> 1을(를) 적용한 결과는 2.000입니다.\n",
      " 76번 경사 하강법 -> 학습률 -> 1을(를) 적용한 결과는 -2.000입니다.\n",
      " 77번 경사 하강법 -> 학습률 -> 1을(를) 적용한 결과는 2.000입니다.\n",
      " 78번 경사 하강법 -> 학습률 -> 1을(를) 적용한 결과는 -2.000입니다.\n",
      " 79번 경사 하강법 -> 학습률 -> 1을(를) 적용한 결과는 2.000입니다.\n",
      " 80번 경사 하강법 -> 학습률 -> 1을(를) 적용한 결과는 -2.000입니다.\n",
      " 81번 경사 하강법 -> 학습률 -> 1을(를) 적용한 결과는 2.000입니다.\n",
      " 82번 경사 하강법 -> 학습률 -> 1을(를) 적용한 결과는 -2.000입니다.\n",
      " 83번 경사 하강법 -> 학습률 -> 1을(를) 적용한 결과는 2.000입니다.\n",
      " 84번 경사 하강법 -> 학습률 -> 1을(를) 적용한 결과는 -2.000입니다.\n",
      " 85번 경사 하강법 -> 학습률 -> 1을(를) 적용한 결과는 2.000입니다.\n",
      " 86번 경사 하강법 -> 학습률 -> 1을(를) 적용한 결과는 -2.000입니다.\n",
      " 87번 경사 하강법 -> 학습률 -> 1을(를) 적용한 결과는 2.000입니다.\n",
      " 88번 경사 하강법 -> 학습률 -> 1을(를) 적용한 결과는 -2.000입니다.\n",
      " 89번 경사 하강법 -> 학습률 -> 1을(를) 적용한 결과는 2.000입니다.\n",
      " 90번 경사 하강법 -> 학습률 -> 1을(를) 적용한 결과는 -2.000입니다.\n",
      " 91번 경사 하강법 -> 학습률 -> 1을(를) 적용한 결과는 2.000입니다.\n",
      " 92번 경사 하강법 -> 학습률 -> 1을(를) 적용한 결과는 -2.000입니다.\n",
      " 93번 경사 하강법 -> 학습률 -> 1을(를) 적용한 결과는 2.000입니다.\n",
      " 94번 경사 하강법 -> 학습률 -> 1을(를) 적용한 결과는 -2.000입니다.\n",
      " 95번 경사 하강법 -> 학습률 -> 1을(를) 적용한 결과는 2.000입니다.\n",
      " 96번 경사 하강법 -> 학습률 -> 1을(를) 적용한 결과는 -2.000입니다.\n",
      " 97번 경사 하강법 -> 학습률 -> 1을(를) 적용한 결과는 2.000입니다.\n",
      " 98번 경사 하강법 -> 학습률 -> 1을(를) 적용한 결과는 -2.000입니다.\n",
      " 99번 경사 하강법 -> 학습률 -> 1을(를) 적용한 결과는 2.000입니다.\n",
      "100번 경사 하강법 -> 학습률 -> 1을(를) 적용한 결과는 -2.000입니다.\n",
      "101번 경사 하강법 -> 학습률 -> 1을(를) 적용한 결과는 2.000입니다.\n"
     ]
    }
   ],
   "source": [
    "optimizer = Descent( 1 ) # 학습률을 0.01에서 0.1로 변경한 경사 하강법 -> 학습률이 너무 크다.\n",
    "ex = DrawDescent( f, optimizer ) \n",
    "ex.run( 2, 100 ) # 2에서 출발해서 경사 하강법을 100번 적용한다.\n",
    "ex.draw( -1, 2.5 ) # 경사 하강법 실행 결과 시각화\n",
    "ex.history(  )"
   ]
  },
  {
   "cell_type": "code",
   "execution_count": 16,
   "id": "d5d63b49-7f49-4e5e-a0cf-5669a59ab4bd",
   "metadata": {
    "tags": []
   },
   "outputs": [
    {
     "name": "stdout",
     "output_type": "stream",
     "text": [
      "2에서 시작해서 100번 경사 하강법 -> 학습률 -> 0.001을(를) 적용한 결과는 1.637입니다.\n"
     ]
    },
    {
     "data": {
      "image/png": "[encoded data removed]",
      "text/plain": [
       "<Figure size 640x480 with 1 Axes>"
      ]
     },
     "metadata": {},
     "output_type": "display_data"
    },
    {
     "name": "stdout",
     "output_type": "stream",
     "text": [
      "  1번 경사 하강법 -> 학습률 -> 0.001을(를) 적용한 결과는 2.000입니다.\n",
      "  2번 경사 하강법 -> 학습률 -> 0.001을(를) 적용한 결과는 1.996입니다.\n",
      "  3번 경사 하강법 -> 학습률 -> 0.001을(를) 적용한 결과는 1.992입니다.\n",
      "  4번 경사 하강법 -> 학습률 -> 0.001을(를) 적용한 결과는 1.988입니다.\n",
      "  5번 경사 하강법 -> 학습률 -> 0.001을(를) 적용한 결과는 1.984입니다.\n",
      "  6번 경사 하강법 -> 학습률 -> 0.001을(를) 적용한 결과는 1.980입니다.\n",
      "  7번 경사 하강법 -> 학습률 -> 0.001을(를) 적용한 결과는 1.976입니다.\n",
      "  8번 경사 하강법 -> 학습률 -> 0.001을(를) 적용한 결과는 1.972입니다.\n",
      "  9번 경사 하강법 -> 학습률 -> 0.001을(를) 적용한 결과는 1.968입니다.\n",
      " 10번 경사 하강법 -> 학습률 -> 0.001을(를) 적용한 결과는 1.964입니다.\n",
      " 11번 경사 하강법 -> 학습률 -> 0.001을(를) 적용한 결과는 1.960입니다.\n",
      " 12번 경사 하강법 -> 학습률 -> 0.001을(를) 적용한 결과는 1.956입니다.\n",
      " 13번 경사 하강법 -> 학습률 -> 0.001을(를) 적용한 결과는 1.953입니다.\n",
      " 14번 경사 하강법 -> 학습률 -> 0.001을(를) 적용한 결과는 1.949입니다.\n",
      " 15번 경사 하강법 -> 학습률 -> 0.001을(를) 적용한 결과는 1.945입니다.\n",
      " 16번 경사 하강법 -> 학습률 -> 0.001을(를) 적용한 결과는 1.941입니다.\n",
      " 17번 경사 하강법 -> 학습률 -> 0.001을(를) 적용한 결과는 1.937입니다.\n",
      " 18번 경사 하강법 -> 학습률 -> 0.001을(를) 적용한 결과는 1.933입니다.\n",
      " 19번 경사 하강법 -> 학습률 -> 0.001을(를) 적용한 결과는 1.929입니다.\n",
      " 20번 경사 하강법 -> 학습률 -> 0.001을(를) 적용한 결과는 1.925입니다.\n",
      " 21번 경사 하강법 -> 학습률 -> 0.001을(를) 적용한 결과는 1.922입니다.\n",
      " 22번 경사 하강법 -> 학습률 -> 0.001을(를) 적용한 결과는 1.918입니다.\n",
      " 23번 경사 하강법 -> 학습률 -> 0.001을(를) 적용한 결과는 1.914입니다.\n",
      " 24번 경사 하강법 -> 학습률 -> 0.001을(를) 적용한 결과는 1.910입니다.\n",
      " 25번 경사 하강법 -> 학습률 -> 0.001을(를) 적용한 결과는 1.906입니다.\n",
      " 26번 경사 하강법 -> 학습률 -> 0.001을(를) 적용한 결과는 1.902입니다.\n",
      " 27번 경사 하강법 -> 학습률 -> 0.001을(를) 적용한 결과는 1.899입니다.\n",
      " 28번 경사 하강법 -> 학습률 -> 0.001을(를) 적용한 결과는 1.895입니다.\n",
      " 29번 경사 하강법 -> 학습률 -> 0.001을(를) 적용한 결과는 1.891입니다.\n",
      " 30번 경사 하강법 -> 학습률 -> 0.001을(를) 적용한 결과는 1.887입니다.\n",
      " 31번 경사 하강법 -> 학습률 -> 0.001을(를) 적용한 결과는 1.883입니다.\n",
      " 32번 경사 하강법 -> 학습률 -> 0.001을(를) 적용한 결과는 1.880입니다.\n",
      " 33번 경사 하강법 -> 학습률 -> 0.001을(를) 적용한 결과는 1.876입니다.\n",
      " 34번 경사 하강법 -> 학습률 -> 0.001을(를) 적용한 결과는 1.872입니다.\n",
      " 35번 경사 하강법 -> 학습률 -> 0.001을(를) 적용한 결과는 1.868입니다.\n",
      " 36번 경사 하강법 -> 학습률 -> 0.001을(를) 적용한 결과는 1.865입니다.\n",
      " 37번 경사 하강법 -> 학습률 -> 0.001을(를) 적용한 결과는 1.861입니다.\n",
      " 38번 경사 하강법 -> 학습률 -> 0.001을(를) 적용한 결과는 1.857입니다.\n",
      " 39번 경사 하강법 -> 학습률 -> 0.001을(를) 적용한 결과는 1.853입니다.\n",
      " 40번 경사 하강법 -> 학습률 -> 0.001을(를) 적용한 결과는 1.850입니다.\n",
      " 41번 경사 하강법 -> 학습률 -> 0.001을(를) 적용한 결과는 1.846입니다.\n",
      " 42번 경사 하강법 -> 학습률 -> 0.001을(를) 적용한 결과는 1.842입니다.\n",
      " 43번 경사 하강법 -> 학습률 -> 0.001을(를) 적용한 결과는 1.839입니다.\n",
      " 44번 경사 하강법 -> 학습률 -> 0.001을(를) 적용한 결과는 1.835입니다.\n",
      " 45번 경사 하강법 -> 학습률 -> 0.001을(를) 적용한 결과는 1.831입니다.\n",
      " 46번 경사 하강법 -> 학습률 -> 0.001을(를) 적용한 결과는 1.828입니다.\n",
      " 47번 경사 하강법 -> 학습률 -> 0.001을(를) 적용한 결과는 1.824입니다.\n",
      " 48번 경사 하강법 -> 학습률 -> 0.001을(를) 적용한 결과는 1.820입니다.\n",
      " 49번 경사 하강법 -> 학습률 -> 0.001을(를) 적용한 결과는 1.817입니다.\n",
      " 50번 경사 하강법 -> 학습률 -> 0.001을(를) 적용한 결과는 1.813입니다.\n",
      " 51번 경사 하강법 -> 학습률 -> 0.001을(를) 적용한 결과는 1.809입니다.\n",
      " 52번 경사 하강법 -> 학습률 -> 0.001을(를) 적용한 결과는 1.806입니다.\n",
      " 53번 경사 하강법 -> 학습률 -> 0.001을(를) 적용한 결과는 1.802입니다.\n",
      " 54번 경사 하강법 -> 학습률 -> 0.001을(를) 적용한 결과는 1.799입니다.\n",
      " 55번 경사 하강법 -> 학습률 -> 0.001을(를) 적용한 결과는 1.795입니다.\n",
      " 56번 경사 하강법 -> 학습률 -> 0.001을(를) 적용한 결과는 1.791입니다.\n",
      " 57번 경사 하강법 -> 학습률 -> 0.001을(를) 적용한 결과는 1.788입니다.\n",
      " 58번 경사 하강법 -> 학습률 -> 0.001을(를) 적용한 결과는 1.784입니다.\n",
      " 59번 경사 하강법 -> 학습률 -> 0.001을(를) 적용한 결과는 1.781입니다.\n",
      " 60번 경사 하강법 -> 학습률 -> 0.001을(를) 적용한 결과는 1.777입니다.\n",
      " 61번 경사 하강법 -> 학습률 -> 0.001을(를) 적용한 결과는 1.774입니다.\n",
      " 62번 경사 하강법 -> 학습률 -> 0.001을(를) 적용한 결과는 1.770입니다.\n",
      " 63번 경사 하강법 -> 학습률 -> 0.001을(를) 적용한 결과는 1.767입니다.\n",
      " 64번 경사 하강법 -> 학습률 -> 0.001을(를) 적용한 결과는 1.763입니다.\n",
      " 65번 경사 하강법 -> 학습률 -> 0.001을(를) 적용한 결과는 1.759입니다.\n",
      " 66번 경사 하강법 -> 학습률 -> 0.001을(를) 적용한 결과는 1.756입니다.\n",
      " 67번 경사 하강법 -> 학습률 -> 0.001을(를) 적용한 결과는 1.752입니다.\n",
      " 68번 경사 하강법 -> 학습률 -> 0.001을(를) 적용한 결과는 1.749입니다.\n",
      " 69번 경사 하강법 -> 학습률 -> 0.001을(를) 적용한 결과는 1.745입니다.\n",
      " 70번 경사 하강법 -> 학습률 -> 0.001을(를) 적용한 결과는 1.742입니다.\n",
      " 71번 경사 하강법 -> 학습률 -> 0.001을(를) 적용한 결과는 1.738입니다.\n",
      " 72번 경사 하강법 -> 학습률 -> 0.001을(를) 적용한 결과는 1.735입니다.\n",
      " 73번 경사 하강법 -> 학습률 -> 0.001을(를) 적용한 결과는 1.732입니다.\n",
      " 74번 경사 하강법 -> 학습률 -> 0.001을(를) 적용한 결과는 1.728입니다.\n",
      " 75번 경사 하강법 -> 학습률 -> 0.001을(를) 적용한 결과는 1.725입니다.\n",
      " 76번 경사 하강법 -> 학습률 -> 0.001을(를) 적용한 결과는 1.721입니다.\n",
      " 77번 경사 하강법 -> 학습률 -> 0.001을(를) 적용한 결과는 1.718입니다.\n",
      " 78번 경사 하강법 -> 학습률 -> 0.001을(를) 적용한 결과는 1.714입니다.\n",
      " 79번 경사 하강법 -> 학습률 -> 0.001을(를) 적용한 결과는 1.711입니다.\n",
      " 80번 경사 하강법 -> 학습률 -> 0.001을(를) 적용한 결과는 1.707입니다.\n",
      " 81번 경사 하강법 -> 학습률 -> 0.001을(를) 적용한 결과는 1.704입니다.\n",
      " 82번 경사 하강법 -> 학습률 -> 0.001을(를) 적용한 결과는 1.701입니다.\n",
      " 83번 경사 하강법 -> 학습률 -> 0.001을(를) 적용한 결과는 1.697입니다.\n",
      " 84번 경사 하강법 -> 학습률 -> 0.001을(를) 적용한 결과는 1.694입니다.\n",
      " 85번 경사 하강법 -> 학습률 -> 0.001을(를) 적용한 결과는 1.690입니다.\n",
      " 86번 경사 하강법 -> 학습률 -> 0.001을(를) 적용한 결과는 1.687입니다.\n",
      " 87번 경사 하강법 -> 학습률 -> 0.001을(를) 적용한 결과는 1.684입니다.\n",
      " 88번 경사 하강법 -> 학습률 -> 0.001을(를) 적용한 결과는 1.680입니다.\n",
      " 89번 경사 하강법 -> 학습률 -> 0.001을(를) 적용한 결과는 1.677입니다.\n",
      " 90번 경사 하강법 -> 학습률 -> 0.001을(를) 적용한 결과는 1.674입니다.\n",
      " 91번 경사 하강법 -> 학습률 -> 0.001을(를) 적용한 결과는 1.670입니다.\n",
      " 92번 경사 하강법 -> 학습률 -> 0.001을(를) 적용한 결과는 1.667입니다.\n",
      " 93번 경사 하강법 -> 학습률 -> 0.001을(를) 적용한 결과는 1.664입니다.\n",
      " 94번 경사 하강법 -> 학습률 -> 0.001을(를) 적용한 결과는 1.660입니다.\n",
      " 95번 경사 하강법 -> 학습률 -> 0.001을(를) 적용한 결과는 1.657입니다.\n",
      " 96번 경사 하강법 -> 학습률 -> 0.001을(를) 적용한 결과는 1.654입니다.\n",
      " 97번 경사 하강법 -> 학습률 -> 0.001을(를) 적용한 결과는 1.650입니다.\n",
      " 98번 경사 하강법 -> 학습률 -> 0.001을(를) 적용한 결과는 1.647입니다.\n",
      " 99번 경사 하강법 -> 학습률 -> 0.001을(를) 적용한 결과는 1.644입니다.\n",
      "100번 경사 하강법 -> 학습률 -> 0.001을(를) 적용한 결과는 1.640입니다.\n",
      "101번 경사 하강법 -> 학습률 -> 0.001을(를) 적용한 결과는 1.637입니다.\n"
     ]
    }
   ],
   "source": [
    "optimizer = Descent( 0.001 ) # 학습률을 0.01에서 0.1로 변경한 경사 하강법 -> 학습률이 너무 작다.\n",
    "ex = DrawDescent( f, optimizer ) \n",
    "ex.run( 2, 100 ) # 2에서 출발해서 경사 하강법을 100번 적용한다.\n",
    "ex.draw( -1, 2.5 ) # 경사 하강법 실행 결과 시각화\n",
    "ex.history(  )"
   ]
  },
  {
   "cell_type": "code",
   "execution_count": 17,
   "id": "4211cba3-f268-4aad-8017-e77017196fb8",
   "metadata": {},
   "outputs": [],
   "source": [
    "# 가운데 평탄한(기울기가 0인) 구간이 있는 함수\n",
    "def f3( x ):\n",
    "    if x > 1:\n",
    "        return x ** 2\n",
    "    elif x > 0.2 :\n",
    "        return 1\n",
    "    else : \n",
    "        return 25 * x ** 2"
   ]
  },
  {
   "cell_type": "code",
   "execution_count": 18,
   "id": "7e92ebd3-18f6-426d-a4c2-c6936f093183",
   "metadata": {
    "tags": []
   },
   "outputs": [
    {
     "name": "stdout",
     "output_type": "stream",
     "text": [
      "2에서 시작해서 100번 경사 하강법 -> 학습률 -> 0.01을(를) 적용한 결과는 0.265입니다.\n"
     ]
    },
    {
     "data": {
      "image/png": "[encoded data removed]",
      "text/plain": [
       "<Figure size 640x480 with 1 Axes>"
      ]
     },
     "metadata": {},
     "output_type": "display_data"
    },
    {
     "name": "stdout",
     "output_type": "stream",
     "text": [
      "  1번 경사 하강법 -> 학습률 -> 0.01을(를) 적용한 결과는 2.000입니다.\n",
      "  2번 경사 하강법 -> 학습률 -> 0.01을(를) 적용한 결과는 1.960입니다.\n",
      "  3번 경사 하강법 -> 학습률 -> 0.01을(를) 적용한 결과는 1.921입니다.\n",
      "  4번 경사 하강법 -> 학습률 -> 0.01을(를) 적용한 결과는 1.882입니다.\n",
      "  5번 경사 하강법 -> 학습률 -> 0.01을(를) 적용한 결과는 1.845입니다.\n",
      "  6번 경사 하강법 -> 학습률 -> 0.01을(를) 적용한 결과는 1.808입니다.\n",
      "  7번 경사 하강법 -> 학습률 -> 0.01을(를) 적용한 결과는 1.772입니다.\n",
      "  8번 경사 하강법 -> 학습률 -> 0.01을(를) 적용한 결과는 1.736입니다.\n",
      "  9번 경사 하강법 -> 학습률 -> 0.01을(를) 적용한 결과는 1.702입니다.\n",
      " 10번 경사 하강법 -> 학습률 -> 0.01을(를) 적용한 결과는 1.667입니다.\n",
      " 11번 경사 하강법 -> 학습률 -> 0.01을(를) 적용한 결과는 1.634입니다.\n",
      " 12번 경사 하강법 -> 학습률 -> 0.01을(를) 적용한 결과는 1.601입니다.\n",
      " 13번 경사 하강법 -> 학습률 -> 0.01을(를) 적용한 결과는 1.569입니다.\n",
      " 14번 경사 하강법 -> 학습률 -> 0.01을(를) 적용한 결과는 1.538입니다.\n",
      " 15번 경사 하강법 -> 학습률 -> 0.01을(를) 적용한 결과는 1.507입니다.\n",
      " 16번 경사 하강법 -> 학습률 -> 0.01을(를) 적용한 결과는 1.477입니다.\n",
      " 17번 경사 하강법 -> 학습률 -> 0.01을(를) 적용한 결과는 1.448입니다.\n",
      " 18번 경사 하강법 -> 학습률 -> 0.01을(를) 적용한 결과는 1.419입니다.\n",
      " 19번 경사 하강법 -> 학습률 -> 0.01을(를) 적용한 결과는 1.390입니다.\n",
      " 20번 경사 하강법 -> 학습률 -> 0.01을(를) 적용한 결과는 1.362입니다.\n",
      " 21번 경사 하강법 -> 학습률 -> 0.01을(를) 적용한 결과는 1.335입니다.\n",
      " 22번 경사 하강법 -> 학습률 -> 0.01을(를) 적용한 결과는 1.309입니다.\n",
      " 23번 경사 하강법 -> 학습률 -> 0.01을(를) 적용한 결과는 1.282입니다.\n",
      " 24번 경사 하강법 -> 학습률 -> 0.01을(를) 적용한 결과는 1.257입니다.\n",
      " 25번 경사 하강법 -> 학습률 -> 0.01을(를) 적용한 결과는 1.232입니다.\n",
      " 26번 경사 하강법 -> 학습률 -> 0.01을(를) 적용한 결과는 1.207입니다.\n",
      " 27번 경사 하강법 -> 학습률 -> 0.01을(를) 적용한 결과는 1.183입니다.\n",
      " 28번 경사 하강법 -> 학습률 -> 0.01을(를) 적용한 결과는 1.159입니다.\n",
      " 29번 경사 하강법 -> 학습률 -> 0.01을(를) 적용한 결과는 1.136입니다.\n",
      " 30번 경사 하강법 -> 학습률 -> 0.01을(를) 적용한 결과는 1.113입니다.\n",
      " 31번 경사 하강법 -> 학습률 -> 0.01을(를) 적용한 결과는 1.091입니다.\n",
      " 32번 경사 하강법 -> 학습률 -> 0.01을(를) 적용한 결과는 1.069입니다.\n",
      " 33번 경사 하강법 -> 학습률 -> 0.01을(를) 적용한 결과는 1.048입니다.\n",
      " 34번 경사 하강법 -> 학습률 -> 0.01을(를) 적용한 결과는 1.027입니다.\n",
      " 35번 경사 하강법 -> 학습률 -> 0.01을(를) 적용한 결과는 1.006입니다.\n",
      " 36번 경사 하강법 -> 학습률 -> 0.01을(를) 적용한 결과는 0.986입니다.\n",
      " 37번 경사 하강법 -> 학습률 -> 0.01을(를) 적용한 결과는 0.966입니다.\n",
      " 38번 경사 하강법 -> 학습률 -> 0.01을(를) 적용한 결과는 0.947입니다.\n",
      " 39번 경사 하강법 -> 학습률 -> 0.01을(를) 적용한 결과는 0.928입니다.\n",
      " 40번 경사 하강법 -> 학습률 -> 0.01을(를) 적용한 결과는 0.910입니다.\n",
      " 41번 경사 하강법 -> 학습률 -> 0.01을(를) 적용한 결과는 0.891입니다.\n",
      " 42번 경사 하강법 -> 학습률 -> 0.01을(를) 적용한 결과는 0.874입니다.\n",
      " 43번 경사 하강법 -> 학습률 -> 0.01을(를) 적용한 결과는 0.856입니다.\n",
      " 44번 경사 하강법 -> 학습률 -> 0.01을(를) 적용한 결과는 0.839입니다.\n",
      " 45번 경사 하강법 -> 학습률 -> 0.01을(를) 적용한 결과는 0.822입니다.\n",
      " 46번 경사 하강법 -> 학습률 -> 0.01을(를) 적용한 결과는 0.806입니다.\n",
      " 47번 경사 하강법 -> 학습률 -> 0.01을(를) 적용한 결과는 0.790입니다.\n",
      " 48번 경사 하강법 -> 학습률 -> 0.01을(를) 적용한 결과는 0.774입니다.\n",
      " 49번 경사 하강법 -> 학습률 -> 0.01을(를) 적용한 결과는 0.758입니다.\n",
      " 50번 경사 하강법 -> 학습률 -> 0.01을(를) 적용한 결과는 0.743입니다.\n",
      " 51번 경사 하강법 -> 학습률 -> 0.01을(를) 적용한 결과는 0.728입니다.\n",
      " 52번 경사 하강법 -> 학습률 -> 0.01을(를) 적용한 결과는 0.714입니다.\n",
      " 53번 경사 하강법 -> 학습률 -> 0.01을(를) 적용한 결과는 0.699입니다.\n",
      " 54번 경사 하강법 -> 학습률 -> 0.01을(를) 적용한 결과는 0.686입니다.\n",
      " 55번 경사 하강법 -> 학습률 -> 0.01을(를) 적용한 결과는 0.672입니다.\n",
      " 56번 경사 하강법 -> 학습률 -> 0.01을(를) 적용한 결과는 0.658입니다.\n",
      " 57번 경사 하강법 -> 학습률 -> 0.01을(를) 적용한 결과는 0.645입니다.\n",
      " 58번 경사 하강법 -> 학습률 -> 0.01을(를) 적용한 결과는 0.632입니다.\n",
      " 59번 경사 하강법 -> 학습률 -> 0.01을(를) 적용한 결과는 0.620입니다.\n",
      " 60번 경사 하강법 -> 학습률 -> 0.01을(를) 적용한 결과는 0.607입니다.\n",
      " 61번 경사 하강법 -> 학습률 -> 0.01을(를) 적용한 결과는 0.595입니다.\n",
      " 62번 경사 하강법 -> 학습률 -> 0.01을(를) 적용한 결과는 0.583입니다.\n",
      " 63번 경사 하강법 -> 학습률 -> 0.01을(를) 적용한 결과는 0.572입니다.\n",
      " 64번 경사 하강법 -> 학습률 -> 0.01을(를) 적용한 결과는 0.560입니다.\n",
      " 65번 경사 하강법 -> 학습률 -> 0.01을(를) 적용한 결과는 0.549입니다.\n",
      " 66번 경사 하강법 -> 학습률 -> 0.01을(를) 적용한 결과는 0.538입니다.\n",
      " 67번 경사 하강법 -> 학습률 -> 0.01을(를) 적용한 결과는 0.527입니다.\n",
      " 68번 경사 하강법 -> 학습률 -> 0.01을(를) 적용한 결과는 0.517입니다.\n",
      " 69번 경사 하강법 -> 학습률 -> 0.01을(를) 적용한 결과는 0.506입니다.\n",
      " 70번 경사 하강법 -> 학습률 -> 0.01을(를) 적용한 결과는 0.496입니다.\n",
      " 71번 경사 하강법 -> 학습률 -> 0.01을(를) 적용한 결과는 0.486입니다.\n",
      " 72번 경사 하강법 -> 학습률 -> 0.01을(를) 적용한 결과는 0.477입니다.\n",
      " 73번 경사 하강법 -> 학습률 -> 0.01을(를) 적용한 결과는 0.467입니다.\n",
      " 74번 경사 하강법 -> 학습률 -> 0.01을(를) 적용한 결과는 0.458입니다.\n",
      " 75번 경사 하강법 -> 학습률 -> 0.01을(를) 적용한 결과는 0.448입니다.\n",
      " 76번 경사 하강법 -> 학습률 -> 0.01을(를) 적용한 결과는 0.440입니다.\n",
      " 77번 경사 하강법 -> 학습률 -> 0.01을(를) 적용한 결과는 0.431입니다.\n",
      " 78번 경사 하강법 -> 학습률 -> 0.01을(를) 적용한 결과는 0.422입니다.\n",
      " 79번 경사 하강법 -> 학습률 -> 0.01을(를) 적용한 결과는 0.414입니다.\n",
      " 80번 경사 하강법 -> 학습률 -> 0.01을(를) 적용한 결과는 0.405입니다.\n",
      " 81번 경사 하강법 -> 학습률 -> 0.01을(를) 적용한 결과는 0.397입니다.\n",
      " 82번 경사 하강법 -> 학습률 -> 0.01을(를) 적용한 결과는 0.389입니다.\n",
      " 83번 경사 하강법 -> 학습률 -> 0.01을(를) 적용한 결과는 0.382입니다.\n",
      " 84번 경사 하강법 -> 학습률 -> 0.01을(를) 적용한 결과는 0.374입니다.\n",
      " 85번 경사 하강법 -> 학습률 -> 0.01을(를) 적용한 결과는 0.366입니다.\n",
      " 86번 경사 하강법 -> 학습률 -> 0.01을(를) 적용한 결과는 0.359입니다.\n",
      " 87번 경사 하강법 -> 학습률 -> 0.01을(를) 적용한 결과는 0.352입니다.\n",
      " 88번 경사 하강법 -> 학습률 -> 0.01을(를) 적용한 결과는 0.345입니다.\n",
      " 89번 경사 하강법 -> 학습률 -> 0.01을(를) 적용한 결과는 0.338입니다.\n",
      " 90번 경사 하강법 -> 학습률 -> 0.01을(를) 적용한 결과는 0.331입니다.\n",
      " 91번 경사 하강법 -> 학습률 -> 0.01을(를) 적용한 결과는 0.325입니다.\n",
      " 92번 경사 하강법 -> 학습률 -> 0.01을(를) 적용한 결과는 0.318입니다.\n",
      " 93번 경사 하강법 -> 학습률 -> 0.01을(를) 적용한 결과는 0.312입니다.\n",
      " 94번 경사 하강법 -> 학습률 -> 0.01을(를) 적용한 결과는 0.306입니다.\n",
      " 95번 경사 하강법 -> 학습률 -> 0.01을(를) 적용한 결과는 0.299입니다.\n",
      " 96번 경사 하강법 -> 학습률 -> 0.01을(를) 적용한 결과는 0.293입니다.\n",
      " 97번 경사 하강법 -> 학습률 -> 0.01을(를) 적용한 결과는 0.288입니다.\n",
      " 98번 경사 하강법 -> 학습률 -> 0.01을(를) 적용한 결과는 0.282입니다.\n",
      " 99번 경사 하강법 -> 학습률 -> 0.01을(를) 적용한 결과는 0.276입니다.\n",
      "100번 경사 하강법 -> 학습률 -> 0.01을(를) 적용한 결과는 0.271입니다.\n",
      "101번 경사 하강법 -> 학습률 -> 0.01을(를) 적용한 결과는 0.265입니다.\n"
     ]
    }
   ],
   "source": [
    "optimizer = Descent( 0.01 ) \n",
    "ex = DrawDescent( f3, optimizer ) \n",
    "ex.run( 2, 100 ) \n",
    "ex.draw( -0.2, 2.5 )\n",
    "ex.history(  )"
   ]
  },
  {
   "cell_type": "markdown",
   "id": "ec37b49f-a3ed-46a6-97a3-69238d618d45",
   "metadata": {},
   "source": [
    "***\n",
    "모멘텀(Momentum)\n",
    "***"
   ]
  },
  {
   "cell_type": "code",
   "execution_count": 19,
   "id": "726d06b9-7c05-428a-a716-2d90fd1f2fb1",
   "metadata": {},
   "outputs": [],
   "source": [
    "# 모렌텀 클래스, 옵티마이저\n",
    "class Momentum:\n",
    "    def __init__( self, mu, lr, h=1e-6 ):\n",
    "        self.previous = 0 # 이전에 얼마나 움직였는가 기록한다.\n",
    "        self.mu = mu # 관성, 보통 0.8이나 0.9정도를 사용한다. -> 1이면 무한등속운동\n",
    "        self.lr = lr \n",
    "        self.h = h \n",
    "        \n",
    "    def diff( self, func, x ) :\n",
    "        return ( f(x + self.h) - f(x) ) / self.h\n",
    "        #return ( f(x + self.h) - f(x - self.h) ) / (2 * self.h)\n",
    "        \n",
    "    def update ( self, func, x ) : \n",
    "        #dx = self.diff( func, x ) # 경사 하강법\n",
    "        dx = ( self.previous * self.mu ) - ( self.lr * self.diff(func, x) )\n",
    "        self.previous = dx # 이전에 움직인 거리를 저장한다.\n",
    "        #return ( x - (self.lr * dx) ) #경사 하강법\n",
    "        return ( x + dx )\n",
    "    \n",
    "    def __str__ ( self ) : \n",
    "        return ( '모멘텀 경사 하강법 -> 학습률 -> {}'.format (self.lr) )\n",
    "         "
   ]
  },
  {
   "cell_type": "code",
   "execution_count": 20,
   "id": "b7d3f089-3424-4844-8e0a-d6fca475ba9d",
   "metadata": {},
   "outputs": [
    {
     "name": "stdout",
     "output_type": "stream",
     "text": [
      "2에서 시작해서 15번 모멘텀 경사 하강법 -> 학습률 -> 0.01을(를) 적용한 결과는 -0.149입니다.\n"
     ]
    },
    {
     "data": {
      "image/png": "[encoded data removed]",
      "text/plain": [
       "<Figure size 640x480 with 1 Axes>"
      ]
     },
     "metadata": {},
     "output_type": "display_data"
    },
    {
     "name": "stdout",
     "output_type": "stream",
     "text": [
      "  1번 모멘텀 경사 하강법 -> 학습률 -> 0.01을(를) 적용한 결과는 2.000입니다.\n",
      "  2번 모멘텀 경사 하강법 -> 학습률 -> 0.01을(를) 적용한 결과는 1.960입니다.\n",
      "  3번 모멘텀 경사 하강법 -> 학습률 -> 0.01을(를) 적용한 결과는 1.885입니다.\n",
      "  4번 모멘텀 경사 하강법 -> 학습률 -> 0.01을(를) 적용한 결과는 1.779입니다.\n",
      "  5번 모멘텀 경사 하강법 -> 학습률 -> 0.01을(를) 적용한 결과는 1.649입니다.\n",
      "  6번 모멘텀 경사 하강법 -> 학습률 -> 0.01을(를) 적용한 결과는 1.499입니다.\n",
      "  7번 모멘텀 경사 하강법 -> 학습률 -> 0.01을(를) 적용한 결과는 1.333입니다.\n",
      "  8번 모멘텀 경사 하강법 -> 학습률 -> 0.01을(를) 적용한 결과는 1.158입니다.\n",
      "  9번 모멘텀 경사 하강법 -> 학습률 -> 0.01을(를) 적용한 결과는 0.977입니다.\n",
      " 10번 모멘텀 경사 하강법 -> 학습률 -> 0.01을(를) 적용한 결과는 0.794입니다.\n",
      " 11번 모멘텀 경사 하강법 -> 학습률 -> 0.01을(를) 적용한 결과는 0.614입니다.\n",
      " 12번 모멘텀 경사 하강법 -> 학습률 -> 0.01을(를) 적용한 결과는 0.440입니다.\n",
      " 13번 모멘텀 경사 하강법 -> 학습률 -> 0.01을(를) 적용한 결과는 0.274입니다.\n",
      " 14번 모멘텀 경사 하강법 -> 학습률 -> 0.01을(를) 적용한 결과는 0.119입니다.\n",
      " 15번 모멘텀 경사 하강법 -> 학습률 -> 0.01을(를) 적용한 결과는 -0.022입니다.\n",
      " 16번 모멘텀 경사 하강법 -> 학습률 -> 0.01을(를) 적용한 결과는 -0.149입니다.\n"
     ]
    }
   ],
   "source": [
    "optimizer = Momentum( 0.9, 0.01 ) # 관성 0.9, 학습률 0.01인 모멘텀 옵티마이저 객체 생성\n",
    "ex = DrawDescent( f3, optimizer ) \n",
    "ex.run( 2, 15 ) \n",
    "ex.draw( -0.2, 2.5 )\n",
    "ex.history(  )"
   ]
  },
  {
   "cell_type": "code",
   "execution_count": null,
   "id": "5269cb1a-ccc4-41fb-a9da-281fbf27e7d7",
   "metadata": {},
   "outputs": [],
   "source": []
  },
  {
   "cell_type": "code",
   "execution_count": null,
   "id": "26718118-ae91-4835-a7b4-e9fe2011f090",
   "metadata": {},
   "outputs": [],
   "source": []
  },
  {
   "cell_type": "code",
   "execution_count": null,
   "id": "8f88bb01-d68b-4de6-a12b-3b07b3d8f821",
   "metadata": {},
   "outputs": [],
   "source": []
  },
  {
   "cell_type": "code",
   "execution_count": null,
   "id": "3de42cbc-d19c-4e50-805c-b855bf792782",
   "metadata": {
    "tags": []
   },
   "outputs": [],
   "source": []
  },
  {
   "cell_type": "code",
   "execution_count": null,
   "id": "cd851711-7eb1-4b8b-813e-c7416d8804d7",
   "metadata": {},
   "outputs": [],
   "source": []
  },
  {
   "cell_type": "code",
   "execution_count": null,
   "id": "e6c63c31-1d1e-422c-a760-a8b0bfa6d36a",
   "metadata": {},
   "outputs": [],
   "source": []
  },
  {
   "cell_type": "code",
   "execution_count": null,
   "id": "7bee035f-3fdd-4f27-af29-12ac3031c1db",
   "metadata": {},
   "outputs": [],
   "source": []
  },
  {
   "cell_type": "code",
   "execution_count": null,
   "id": "4d662e15-5b2b-4a24-b339-82baf74bbad2",
   "metadata": {},
   "outputs": [],
   "source": []
  },
  {
   "cell_type": "code",
   "execution_count": null,
   "id": "2ff59969-87ad-4fa3-82b4-7100e1accd18",
   "metadata": {},
   "outputs": [],
   "source": []
  },
  {
   "cell_type": "code",
   "execution_count": null,
   "id": "dd498599-548b-40ba-83d6-24a7662bde32",
   "metadata": {},
   "outputs": [],
   "source": []
  },
  {
   "cell_type": "code",
   "execution_count": null,
   "id": "8fcd6feb-f323-43c6-83a7-cb856a6d49f4",
   "metadata": {},
   "outputs": [],
   "source": []
  },
  {
   "cell_type": "code",
   "execution_count": null,
   "id": "b9c06600-ef30-41ab-b2ad-c55b84f5fe65",
   "metadata": {},
   "outputs": [],
   "source": []
  },
  {
   "cell_type": "code",
   "execution_count": null,
   "id": "9f822574-b9cc-4ecf-b225-14aee937e6ba",
   "metadata": {},
   "outputs": [],
   "source": []
  },
  {
   "cell_type": "code",
   "execution_count": null,
   "id": "4050f269-085f-40ad-9063-86a62d8a612f",
   "metadata": {},
   "outputs": [],
   "source": []
  },
  {
   "cell_type": "code",
   "execution_count": null,
   "id": "20e05a5c-0f9e-4138-95bb-29192f5d7c33",
   "metadata": {},
   "outputs": [],
   "source": []
  },
  {
   "cell_type": "code",
   "execution_count": null,
   "id": "85f58642-a5cd-40ea-bab9-f3391a9d3904",
   "metadata": {},
   "outputs": [],
   "source": []
  },
  {
   "cell_type": "code",
   "execution_count": null,
   "id": "ec60e929-28d8-4cf3-858a-16140a7e727b",
   "metadata": {},
   "outputs": [],
   "source": []
  },
  {
   "cell_type": "code",
   "execution_count": null,
   "id": "6285526a-2be4-4aca-b3e5-a5112f178ea9",
   "metadata": {},
   "outputs": [],
   "source": []
  },
  {
   "cell_type": "code",
   "execution_count": null,
   "id": "ddeb9603-28b1-4f94-a87e-a937401f09a0",
   "metadata": {},
   "outputs": [],
   "source": []
  },
  {
   "cell_type": "code",
   "execution_count": null,
   "id": "653bf44f-3fc5-4475-8d85-f2e281311f7b",
   "metadata": {},
   "outputs": [],
   "source": []
  },
  {
   "cell_type": "code",
   "execution_count": null,
   "id": "08b97d19-b6d6-46b0-9bad-002e7975502e",
   "metadata": {},
   "outputs": [],
   "source": []
  },
  {
   "cell_type": "code",
   "execution_count": null,
   "id": "3165550b-91ce-4d4e-9cc3-7c2965a010c7",
   "metadata": {},
   "outputs": [],
   "source": []
  },
  {
   "cell_type": "code",
   "execution_count": null,
   "id": "e5e57945-b0bc-4778-ad0f-f71be1942962",
   "metadata": {},
   "outputs": [],
   "source": []
  },
  {
   "cell_type": "code",
   "execution_count": null,
   "id": "96e70b7c-e9bf-4102-81c2-1031d5170cbe",
   "metadata": {},
   "outputs": [],
   "source": []
  },
  {
   "cell_type": "markdown",
   "id": "7ce21a3e-7d02-4f53-8af8-5160e89643c6",
   "metadata": {},
   "source": [
    "## "
   ]
  }
 ],
 "metadata": {
  "kernelspec": {
   "display_name": "Python [conda env:.conda-py3.7] *",
   "language": "python",
   "name": "conda-env-.conda-py3.7-py"
  },
  "language_info": {
   "codemirror_mode": {
    "name": "ipython",
    "version": 3
   },
   "file_extension": ".py",
   "mimetype": "text/x-python",
   "name": "python",
   "nbconvert_exporter": "python",
   "pygments_lexer": "ipython3",
   "version": "3.7.1"
  }
 },
 "nbformat": 4,
 "nbformat_minor": 5
}
