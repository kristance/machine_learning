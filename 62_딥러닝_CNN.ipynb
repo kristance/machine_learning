{
 "cells": [
  {
   "cell_type": "code",
   "execution_count": 1,
   "id": "c3c1457e-9cd9-4aec-b49f-7e0f74b0ba86",
   "metadata": {},
   "outputs": [],
   "source": [
    "import warnings\n",
    "warnings.filterwarnings(action='ignore')\n",
    "%config Completer.use_jedi = False\n",
    "import numpy as np\n",
    "import pandas as pd\n",
    "import matplotlib.pyplot as plt\n",
    "import matplotlib as mpl\n",
    "mpl.rcParams['axes.unicode_minus'] = False\n",
    "plt.rcParams['font.family'] = 'NanumGothicCoding'\n",
    "plt.rcParams['font.size'] = 10\n",
    "import seaborn as sns\n",
    "\n",
    "import tensorflow as tf\n",
    "from tensorflow.keras import datasets # tensorflow가 제공하는 데이터셋을 사용하기 위해 추가\n",
    "from tensorflow.keras.utils import to_categorical \n",
    "from tensorflow.keras.models import  Sequential \n",
    "from tensorflow.keras.layers import Dense \n",
    "\n",
    "# tensorflow에서 합성곱 신경망(Convolution Neural Network, CNN)을 사용하기 위해 추가\n",
    "from tensorflow.keras.layers import Conv2D # 신경망에 추가할 합성곱 레이어를 생성하기 위해 import\n",
    "from tensorflow.keras.layers import MaxPooling2D # 신경망에 추가할 맥스 풀링 레이어를 생성하기 위해 import\n",
    "from tensorflow.keras.layers import Flatten# 신경망의 최종 출력층에서 벡터 형태를 만들기 위해 import\n",
    "from tensorflow.keras.layers import Dropout # 신경망에 추가할 드랍 다운 레이어를 생성하기 위해 import"
   ]
  },
  {
   "cell_type": "markdown",
   "id": "be1f9f5b-8efc-4299-9784-f23eec373467",
   "metadata": {},
   "source": [
    "***\n",
    "합성곱 신경망\n",
    "***\n",
    "합성곱 신경망은 흔히 CNN이라고 부르는 방법으로 합성곱이라는 연산을 사용하는 신경망이다.  \n",
    "CNN은 실제 여러 분야에서 사용되는 방법으로 특히 이미지 분류 작업에서 좋은 성능을 보여준다.  \n",
    "\n",
    "합성곱 연산은 아래와 같은 연산을 의미한다.\n",
    "\n",
    "$$y(i) = (x \\times w)(i) = \\sum_{k=-\\infty}^{\\infty} x(k)w(i-k)$$\n",
    "\n",
    "위 식은 i 시점에서의 입력 데이터 x값과 가중치 w값의 합성곱 연산의 결과는 y(i)와 같음을 나타낸다.  \n",
    "위 수식에서 k도 시점을 의미하는데, 가중치 w의 시점은 w(i)가 아닌 w(i-k)임을 알 수 있다. 이를 플립(flip)이라고 하며 가중치 커널이라고도 부른다. 플립은 우리말로 하면 '뒤집다'라는 뜻으로 가중치의 시점을 뒤집는다는 뜻이다. 위 식은 시점의 순서와 상관없이 결과가 동일하므로 아래와 같이 쓸수도 있다.\n",
    "\n",
    "$$y(i) = (x \\times w)(i) = \\sum_{k=-\\infty}^{\\infty} x(i-k)w(k)$$"
   ]
  },
  {
   "cell_type": "markdown",
   "id": "da86db5e-6e52-49c2-b607-c4c72c95abae",
   "metadata": {},
   "source": [
    "***\n",
    "패딩(Padding)\n",
    "***\n",
    "패딩은 입력 데이터 주변을 특정값으로 채우는 것을 말한다.\n",
    "\n",
    "<img src=\"./CNN1 (3).png\">\n",
    "\n",
    "신경망에 커널을 적용하면 층이 깊어질수록 데이터의 차원은 점점 줄어든다.  5 x 5 차원의 입력 데이터에 2 * 2 차원의 커널(필터)을 합성곱했을 때 4 x 4차원으로 입력 데이터보다 출력 데이터의 차원이 줄어든다.  \n",
    "이렇듯 입력 데이터에 커널을 합성곱한 후 출력 데이터의 차원이 줄어드는 현상을 방지하기 위해 패딩이라는 방법을 사용한다.  \n"
   ]
  },
  {
   "cell_type": "markdown",
   "id": "c03b41a2-4d2a-4653-b4ef-db38e915a68c",
   "metadata": {},
   "source": [
    "***\n",
    "스트라이드(Stride)\n",
    "***\n",
    "스트라이드는 한번 합성곱 연산을 한 후 다음 계산 영역을 선택할 때 얼마나 이동할지 간격을 정하는 것이다.\n",
    "\n",
    "<img src=\"./CNN1 (1).png\">\n",
    "\n",
    "\n",
    "스트라이드 2를 적용한 후 합성곱 연산을 한 결과 스트라이드 1일때와 비교해보면 출력 데이터의 차원이 더 적은 것을 알 수 있다.  \n"
   ]
  },
  {
   "cell_type": "markdown",
   "id": "2bec9ad6-ed4d-4632-9e34-cf5c23e6d752",
   "metadata": {},
   "source": [
    "***\n",
    "풀링(Pooling)\n",
    "***\n",
    "풀링은 데이터의 차원을 줄이는 방법이다.  \n",
    "\n",
    "<img src=\"./CNN1 (2).png\" width=\"500\">\n",
    "\n",
    "맥스 풀링이란 해당 영역에서 가장 큰 값을 선택하는 방법이다.  "
   ]
  },
  {
   "cell_type": "markdown",
   "id": "8b5cd49c-080d-4e65-b138-8a08dd829184",
   "metadata": {},
   "source": [
    "***\n",
    "합성곱 신경망을 이용, 손글씨 인식 모델을 생성해본다.  \n",
    "***"
   ]
  },
  {
   "cell_type": "code",
   "execution_count": 2,
   "id": "1f6fa71f-8eec-47e3-bb90-e5b3f96ab712",
   "metadata": {},
   "outputs": [],
   "source": [
    "# 일관된 결과값이 나오도록 numpy와 tensorflow의 seed를 설정한다. \n",
    "np.random.seed(0)\n",
    "tf.random.set_seed(0)"
   ]
  },
  {
   "cell_type": "markdown",
   "id": "113511b1-3c40-439f-9ad4-61ee6cb66952",
   "metadata": {},
   "source": [
    "***\n",
    "CNN 합성곱 신경망에 사용할 데이터 준비\n",
    "***"
   ]
  },
  {
   "cell_type": "code",
   "execution_count": 3,
   "id": "a09285fd-13a8-4926-87e6-c9ece5796700",
   "metadata": {
    "tags": []
   },
   "outputs": [
    {
     "name": "stdout",
     "output_type": "stream",
     "text": [
      "((array([[[0, 0, 0, ..., 0, 0, 0],\n",
      "        [0, 0, 0, ..., 0, 0, 0],\n",
      "        [0, 0, 0, ..., 0, 0, 0],\n",
      "        ...,\n",
      "        [0, 0, 0, ..., 0, 0, 0],\n",
      "        [0, 0, 0, ..., 0, 0, 0],\n",
      "        [0, 0, 0, ..., 0, 0, 0]],\n",
      "\n",
      "       [[0, 0, 0, ..., 0, 0, 0],\n",
      "        [0, 0, 0, ..., 0, 0, 0],\n",
      "        [0, 0, 0, ..., 0, 0, 0],\n",
      "        ...,\n",
      "        [0, 0, 0, ..., 0, 0, 0],\n",
      "        [0, 0, 0, ..., 0, 0, 0],\n",
      "        [0, 0, 0, ..., 0, 0, 0]],\n",
      "\n",
      "       [[0, 0, 0, ..., 0, 0, 0],\n",
      "        [0, 0, 0, ..., 0, 0, 0],\n",
      "        [0, 0, 0, ..., 0, 0, 0],\n",
      "        ...,\n",
      "        [0, 0, 0, ..., 0, 0, 0],\n",
      "        [0, 0, 0, ..., 0, 0, 0],\n",
      "        [0, 0, 0, ..., 0, 0, 0]],\n",
      "\n",
      "       ...,\n",
      "\n",
      "       [[0, 0, 0, ..., 0, 0, 0],\n",
      "        [0, 0, 0, ..., 0, 0, 0],\n",
      "        [0, 0, 0, ..., 0, 0, 0],\n",
      "        ...,\n",
      "        [0, 0, 0, ..., 0, 0, 0],\n",
      "        [0, 0, 0, ..., 0, 0, 0],\n",
      "        [0, 0, 0, ..., 0, 0, 0]],\n",
      "\n",
      "       [[0, 0, 0, ..., 0, 0, 0],\n",
      "        [0, 0, 0, ..., 0, 0, 0],\n",
      "        [0, 0, 0, ..., 0, 0, 0],\n",
      "        ...,\n",
      "        [0, 0, 0, ..., 0, 0, 0],\n",
      "        [0, 0, 0, ..., 0, 0, 0],\n",
      "        [0, 0, 0, ..., 0, 0, 0]],\n",
      "\n",
      "       [[0, 0, 0, ..., 0, 0, 0],\n",
      "        [0, 0, 0, ..., 0, 0, 0],\n",
      "        [0, 0, 0, ..., 0, 0, 0],\n",
      "        ...,\n",
      "        [0, 0, 0, ..., 0, 0, 0],\n",
      "        [0, 0, 0, ..., 0, 0, 0],\n",
      "        [0, 0, 0, ..., 0, 0, 0]]], dtype=uint8), array([5, 0, 4, ..., 5, 6, 8], dtype=uint8)), (array([[[0, 0, 0, ..., 0, 0, 0],\n",
      "        [0, 0, 0, ..., 0, 0, 0],\n",
      "        [0, 0, 0, ..., 0, 0, 0],\n",
      "        ...,\n",
      "        [0, 0, 0, ..., 0, 0, 0],\n",
      "        [0, 0, 0, ..., 0, 0, 0],\n",
      "        [0, 0, 0, ..., 0, 0, 0]],\n",
      "\n",
      "       [[0, 0, 0, ..., 0, 0, 0],\n",
      "        [0, 0, 0, ..., 0, 0, 0],\n",
      "        [0, 0, 0, ..., 0, 0, 0],\n",
      "        ...,\n",
      "        [0, 0, 0, ..., 0, 0, 0],\n",
      "        [0, 0, 0, ..., 0, 0, 0],\n",
      "        [0, 0, 0, ..., 0, 0, 0]],\n",
      "\n",
      "       [[0, 0, 0, ..., 0, 0, 0],\n",
      "        [0, 0, 0, ..., 0, 0, 0],\n",
      "        [0, 0, 0, ..., 0, 0, 0],\n",
      "        ...,\n",
      "        [0, 0, 0, ..., 0, 0, 0],\n",
      "        [0, 0, 0, ..., 0, 0, 0],\n",
      "        [0, 0, 0, ..., 0, 0, 0]],\n",
      "\n",
      "       ...,\n",
      "\n",
      "       [[0, 0, 0, ..., 0, 0, 0],\n",
      "        [0, 0, 0, ..., 0, 0, 0],\n",
      "        [0, 0, 0, ..., 0, 0, 0],\n",
      "        ...,\n",
      "        [0, 0, 0, ..., 0, 0, 0],\n",
      "        [0, 0, 0, ..., 0, 0, 0],\n",
      "        [0, 0, 0, ..., 0, 0, 0]],\n",
      "\n",
      "       [[0, 0, 0, ..., 0, 0, 0],\n",
      "        [0, 0, 0, ..., 0, 0, 0],\n",
      "        [0, 0, 0, ..., 0, 0, 0],\n",
      "        ...,\n",
      "        [0, 0, 0, ..., 0, 0, 0],\n",
      "        [0, 0, 0, ..., 0, 0, 0],\n",
      "        [0, 0, 0, ..., 0, 0, 0]],\n",
      "\n",
      "       [[0, 0, 0, ..., 0, 0, 0],\n",
      "        [0, 0, 0, ..., 0, 0, 0],\n",
      "        [0, 0, 0, ..., 0, 0, 0],\n",
      "        ...,\n",
      "        [0, 0, 0, ..., 0, 0, 0],\n",
      "        [0, 0, 0, ..., 0, 0, 0],\n",
      "        [0, 0, 0, ..., 0, 0, 0]]], dtype=uint8), array([7, 2, 1, ..., 4, 5, 6], dtype=uint8)))\n",
      "<class 'tuple'>\n"
     ]
    }
   ],
   "source": [
    "print(datasets.mnist.load_data())\n",
    "print(type(datasets.mnist.load_data()))"
   ]
  },
  {
   "cell_type": "code",
   "execution_count": 4,
   "id": "0d7b6bad-8703-49e0-83be-5de47c21fc63",
   "metadata": {},
   "outputs": [
    {
     "name": "stdout",
     "output_type": "stream",
     "text": [
      "<class 'numpy.ndarray'> (60000, 28, 28)\n",
      "<class 'numpy.ndarray'> (10000, 28, 28)\n",
      "<class 'numpy.ndarray'> (60000,)\n",
      "<class 'numpy.ndarray'> (10000,)\n"
     ]
    }
   ],
   "source": [
    "# MNIST 손글씨 데이터는 학습 데이터와 테스트 데이터가 튜플로 구분돼 저장되어 있다.\n",
    "# load_data() 메소드는 (학습 피쳐 데이터, 학습 레이블 데이터)와 (테스트 피쳐 데이터, 테스트 레이블 데이터)를 튜플 형태로 묶어서 리턴한다. \n",
    "# 손글씨 데이터셋을 학습 데이터와 테스트 데이터로 저장한다.\n",
    "(x_train, y_train), (x_test, y_test) = datasets.mnist.load_data()\n",
    "\n",
    "#오리지널 데이터 확인\n",
    "#학습 피쳐 데이터의 차원을 확인하면 (이미지 갯수, 행, 열) 형태로 나온다.\n",
    "# 즉, 학습 피쳐 데이터는 28 x 28의 이미지 60000개로 구성되어 있는 행렬이라는 것을 알 수 있다.\n",
    "print(type(x_train), x_train.shape)\n",
    "print(type(x_test), x_test.shape) #테스트 피쳐 데이터는 28 x 28의 이미지 60000개로 구성되어 있는 행렬이라는 것을 알 수 있다.\n",
    "print(type(y_train), y_train.shape) # 학습 레이블 데이터는 스칼라값 10000개로 이루어진 벡터이다\n",
    "print(type(y_test),y_test.shape) # 테스트 레이블 데이터는 스칼라값 10000개로 이루어진 벡터이다"
   ]
  },
  {
   "cell_type": "code",
   "execution_count": 5,
   "id": "4088246c-9d1b-433d-8115-d2b8fd2ff55d",
   "metadata": {},
   "outputs": [
    {
     "data": {
      "image/png": "[encoded data removed]",
      "text/plain": [
       "<Figure size 1000x700 with 10 Axes>"
      ]
     },
     "metadata": {},
     "output_type": "display_data"
    },
    {
     "name": "stdout",
     "output_type": "stream",
     "text": [
      "[5 0 4 1 9 2 1 3 1 4]\n"
     ]
    }
   ],
   "source": [
    "#오리지널 데이터 시각화\n",
    "plt.figure(figsize=[10, 7])\n",
    "for i in range(10) :\n",
    "     plt.subplot(1, 10, (i  + 1))\n",
    "     plt.imshow(x_train[i], cmap=plt.cm.gray_r)\n",
    "     plt.axis(\"off\")\n",
    "plt.show()\n",
    "print(y_train[:10])"
   ]
  },
  {
   "cell_type": "code",
   "execution_count": 6,
   "id": "93123816-9875-4f0d-8ed3-dd0cf3ffbfe0",
   "metadata": {},
   "outputs": [
    {
     "name": "stdout",
     "output_type": "stream",
     "text": [
      "{0, 1, 2, 3, 4, 5, 6, 7, 8, 9}\n"
     ]
    }
   ],
   "source": [
    "# 클래스(레이블)의 종류 확인\n",
    "# 클래스의 종류를 확인함으로써 분류 문제인지 회귀 문제인지 파악할 수 있고, \n",
    "# 분류 문제라면 몇가지 클래스로 구분되는지 알 수 있다. \n",
    "print(set(y_train))"
   ]
  },
  {
   "cell_type": "code",
   "execution_count": 7,
   "id": "2e9bdf6f-c9bb-4596-b2fd-4418cb8b26cf",
   "metadata": {},
   "outputs": [
    {
     "name": "stdout",
     "output_type": "stream",
     "text": [
      "(60000, 28, 28, 1) (10000, 28, 28, 1)\n"
     ]
    }
   ],
   "source": [
    "# 피쳐 데이터 차원 변경\n",
    "# 오리지널 데이터의 차원은 (이미지갯수, 행, 열) 형태의 3차원 데이터로 표현이 돼 있지만 합성곱 신경망에 데이터를 넣으려면 4차원 형태로 구성해야한다. \n",
    "# 합성곱 신경망은 입력 데이터를 (이미지 갯수, 행, 열, 채널갯수) 형태로 구성해야 한다.\n",
    "# 이때, 채널이란 RGB로 구분되는 것을 의미하는데 만약, 하나의 이미지 데이터를 R을 이용한 픽셀값, G를 이용한 픽셀값, B를 이용한 픽셀값으로 나타낼 때\n",
    "# 채널 갯수는 3개가 된다.\n",
    "# 하지만 MNIST 손글씨 데이터는 흑백 이미지이므로 채널 갯수는 1개가 된다. \n",
    "# 합성곱 신경망에 사용할 이미지 데이터는 reshape() 메소드를 이용해 (이미지 갯수, 행, 열, 채널갯수)형태로 변형한다.\n",
    "x_train = x_train.reshape(-1, 28, 28, 1)\n",
    "x_test = x_test.reshape(-1, 28, 28, 1)\n",
    "\n",
    "print(x_train.shape, x_test.shape)\n",
    "\n",
    "#피쳐 데이터 스케일 조정\n",
    "# 이미지의 픽셀값은 0 - 255 사이에 있으므로  최소값이 0, 최대값이 1이 되도록 조정한다.  \n",
    "# \"/=\" 대입 연산자를 사용했을 때 에러가 발생되면 \"/\"연산을 사용한다.\n",
    "x_train = x_train / 255\n",
    "x_test = x_test / 255"
   ]
  },
  {
   "cell_type": "code",
   "execution_count": 8,
   "id": "d3aa98ea-1b88-47c7-87ec-e97c1835107d",
   "metadata": {
    "tags": []
   },
   "outputs": [
    {
     "name": "stdout",
     "output_type": "stream",
     "text": [
      "[0. 0. 0. 0. 0. 1. 0. 0. 0. 0.] [0. 0. 0. 0. 0. 0. 0. 1. 0. 0.]\n"
     ]
    }
   ],
   "source": [
    "# 레이블 데이터 원-핫 인코딩\n",
    "y_train = to_categorical(y_train)\n",
    "y_test = to_categorical(y_test)\n",
    "print(y_train[0], y_test[0])"
   ]
  },
  {
   "cell_type": "markdown",
   "id": "ca3bf6bc-86ce-497d-bc92-aaf12d55fa57",
   "metadata": {},
   "source": [
    "***\n",
    "합성곱 신경망 모델을 만든다.\n",
    "***"
   ]
  },
  {
   "cell_type": "code",
   "execution_count": 18,
   "id": "75a98f5d-9a13-4977-895c-ea58a805cff5",
   "metadata": {},
   "outputs": [
    {
     "name": "stdout",
     "output_type": "stream",
     "text": [
      "Model: \"sequential_8\"\n",
      "_________________________________________________________________\n",
      " Layer (type)                Output Shape              Param #   \n",
      "=================================================================\n",
      " conv2d_7 (Conv2D)           (None, 28, 28, 32)        832       \n",
      "                                                                 \n",
      "=================================================================\n",
      "Total params: 832\n",
      "Trainable params: 832\n",
      "Non-trainable params: 0\n",
      "_________________________________________________________________\n"
     ]
    }
   ],
   "source": [
    "# Sequential() 객체 선언 후 Sequential 모델에 add() 메소드로 레이어를 추가해 신경망을 만든다.\n",
    "model = Sequential() # 시퀀스를 사용하는 신경망 모델을 만든다.\n",
    "\n",
    "# 입력 레이어를 만든다.\n",
    "# 입력 레이어는 input_dim 또는 input_shape 속성으로 신경망에 입력되는 데이터의 모양(차원)을 지정해야한다. \n",
    "#  input_dim 속성은 입력 데이터가 벡터(1차원; 행 또는 열 단일)일 경우 사용하며 벡터를 구성하는 스칼라값의 갯수를 지정한다.\n",
    "# input_shape 속성은 입력 데이터가 행렬(2차원)일 경우 \n",
    "# filters 속성으로 출력되는 데이터의 출력 차원을 지정한다. ;  레이어를 구성하는 노드의 갯수를 지정한다.\n",
    "# kernel_size 속성으로 커널의 크기를 지정한다.\n",
    "# padding 속성으로 패딩 여부를 지정한다. 기본값은 \"valid\"로 패딩을 적용하지 않고, \"same\"은 패딩을 적용한다.\n",
    "# activation 속성으로 활성화 함술르 지정한다.\n",
    "# Conv2D 레이어의 \n",
    "model.add(Conv2D(input_shape = (28, 28, 1), filters = 32, kernel_size = [5,  5], padding = \"same\", activation=\"relu\"))\n",
    "\n",
    "# 히든 레이어를 만든다.\n",
    "\n",
    "\n",
    "# 출력 레이어를 만든다.\n",
    "\n",
    "\n",
    "\n",
    "model.summary() # 신경망 모델의 구조를 확인한다."
   ]
  },
  {
   "cell_type": "code",
   "execution_count": null,
   "id": "9dd4352f-bdf5-4c56-9fc0-15e22d8255fe",
   "metadata": {},
   "outputs": [],
   "source": []
  },
  {
   "cell_type": "code",
   "execution_count": null,
   "id": "5b528f57-b5d5-4f8c-8eae-f529f1c6d539",
   "metadata": {},
   "outputs": [],
   "source": []
  },
  {
   "cell_type": "code",
   "execution_count": null,
   "id": "f81c29d8-6e08-458a-b20c-d4638360eca3",
   "metadata": {},
   "outputs": [],
   "source": []
  },
  {
   "cell_type": "code",
   "execution_count": null,
   "id": "cbe7492b-2799-4616-b865-82a1efd5a920",
   "metadata": {},
   "outputs": [],
   "source": []
  },
  {
   "cell_type": "code",
   "execution_count": null,
   "id": "7c916002-5019-43c9-86a8-9718ab7b81fe",
   "metadata": {},
   "outputs": [],
   "source": []
  },
  {
   "cell_type": "code",
   "execution_count": null,
   "id": "e46c3a0c-5d53-4151-bd93-d22f2377e24d",
   "metadata": {},
   "outputs": [],
   "source": []
  },
  {
   "cell_type": "code",
   "execution_count": null,
   "id": "e07bad59-2b04-4edd-b6ae-283468b8d642",
   "metadata": {},
   "outputs": [],
   "source": []
  },
  {
   "cell_type": "code",
   "execution_count": null,
   "id": "3ed0b8f3-decb-4880-9e7e-a7a567df9ad9",
   "metadata": {},
   "outputs": [],
   "source": []
  },
  {
   "cell_type": "code",
   "execution_count": null,
   "id": "fb7888f0-b1a0-4536-a0c8-3d39834dc763",
   "metadata": {},
   "outputs": [],
   "source": []
  },
  {
   "cell_type": "code",
   "execution_count": null,
   "id": "ddf6c7b8-1ab4-4810-98d2-21303eaa0823",
   "metadata": {},
   "outputs": [],
   "source": []
  },
  {
   "cell_type": "code",
   "execution_count": null,
   "id": "f35e5d31-be39-4da5-8f90-8c78eb5d02fc",
   "metadata": {},
   "outputs": [],
   "source": []
  },
  {
   "cell_type": "code",
   "execution_count": null,
   "id": "de0ca874-873e-498c-9860-84afe1cf7760",
   "metadata": {},
   "outputs": [],
   "source": []
  },
  {
   "cell_type": "code",
   "execution_count": null,
   "id": "80d792e6-e749-4bd9-b123-d787817b4738",
   "metadata": {},
   "outputs": [],
   "source": []
  },
  {
   "cell_type": "code",
   "execution_count": null,
   "id": "300ec4f0-cdb4-438c-bcf8-0ae20486bb0f",
   "metadata": {},
   "outputs": [],
   "source": []
  },
  {
   "cell_type": "code",
   "execution_count": null,
   "id": "421c57d9-5b87-4726-8011-09e7c4d3ebd2",
   "metadata": {},
   "outputs": [],
   "source": []
  },
  {
   "cell_type": "code",
   "execution_count": null,
   "id": "75efc85f-2050-4664-865b-82232db0f2e5",
   "metadata": {},
   "outputs": [],
   "source": []
  },
  {
   "cell_type": "code",
   "execution_count": null,
   "id": "9dfc3e16-e7b0-4ab7-9850-c05068ba001b",
   "metadata": {},
   "outputs": [],
   "source": []
  },
  {
   "cell_type": "code",
   "execution_count": null,
   "id": "f4209aec-e0ba-44b6-aa6e-fcd6ecc53f90",
   "metadata": {},
   "outputs": [],
   "source": []
  },
  {
   "cell_type": "code",
   "execution_count": null,
   "id": "caf0c6e3-b7b2-48ba-98f3-41e35096254f",
   "metadata": {},
   "outputs": [],
   "source": []
  },
  {
   "cell_type": "code",
   "execution_count": null,
   "id": "90732382-1c9c-4f7d-9bf7-ad3ebb6474a8",
   "metadata": {},
   "outputs": [],
   "source": []
  },
  {
   "cell_type": "code",
   "execution_count": null,
   "id": "b50e03a6-8518-4624-8b82-bc520d1257dc",
   "metadata": {},
   "outputs": [],
   "source": []
  },
  {
   "cell_type": "code",
   "execution_count": null,
   "id": "9c33d094-f6a8-41ad-b99e-f5cb8c7c6abe",
   "metadata": {},
   "outputs": [],
   "source": []
  },
  {
   "cell_type": "code",
   "execution_count": null,
   "id": "dc7782d7-fe50-4cbb-b467-840f32e0eaa5",
   "metadata": {},
   "outputs": [],
   "source": []
  },
  {
   "cell_type": "code",
   "execution_count": null,
   "id": "8f96494e-5eaf-495f-9f12-e48e5266ad3f",
   "metadata": {},
   "outputs": [],
   "source": []
  },
  {
   "cell_type": "code",
   "execution_count": null,
   "id": "9946a4e1-341e-4a0e-a86a-c64d6f03a8c5",
   "metadata": {},
   "outputs": [],
   "source": []
  },
  {
   "cell_type": "code",
   "execution_count": null,
   "id": "a96e2d6a-61cf-44c8-9984-fe6368a0bbcf",
   "metadata": {},
   "outputs": [],
   "source": []
  },
  {
   "cell_type": "code",
   "execution_count": null,
   "id": "a0a286ef-3c69-42e4-a24b-8306f85f1898",
   "metadata": {},
   "outputs": [],
   "source": []
  },
  {
   "cell_type": "code",
   "execution_count": null,
   "id": "3ca4b9f1-25e4-4c72-8119-6aa8f5d14bc1",
   "metadata": {},
   "outputs": [],
   "source": []
  },
  {
   "cell_type": "code",
   "execution_count": null,
   "id": "ea28fba9-7a11-4e03-8645-efb7960b6b54",
   "metadata": {},
   "outputs": [],
   "source": []
  },
  {
   "cell_type": "code",
   "execution_count": null,
   "id": "c293eb04-6a2c-4680-999e-48d2554f1dfc",
   "metadata": {},
   "outputs": [],
   "source": []
  },
  {
   "cell_type": "code",
   "execution_count": null,
   "id": "ef5ec52c-a45a-42bf-aff0-16519159dfa4",
   "metadata": {},
   "outputs": [],
   "source": []
  },
  {
   "cell_type": "code",
   "execution_count": null,
   "id": "73d7e7d3-75ef-47c1-817b-269247ae8734",
   "metadata": {},
   "outputs": [],
   "source": []
  },
  {
   "cell_type": "code",
   "execution_count": null,
   "id": "8cc306ef-b404-449d-b762-8d980f03e1c8",
   "metadata": {},
   "outputs": [],
   "source": []
  },
  {
   "cell_type": "code",
   "execution_count": null,
   "id": "858b28c2-072d-4bc5-af07-7fbc4977f11d",
   "metadata": {},
   "outputs": [],
   "source": []
  },
  {
   "cell_type": "code",
   "execution_count": null,
   "id": "547a4389-587f-4694-8ee7-fee5fd972e50",
   "metadata": {},
   "outputs": [],
   "source": []
  },
  {
   "cell_type": "code",
   "execution_count": null,
   "id": "49eb0521-6cac-4fb7-b830-d8d42f6528b9",
   "metadata": {},
   "outputs": [],
   "source": []
  }
 ],
 "metadata": {
  "kernelspec": {
   "display_name": "py3.7",
   "language": "python",
   "name": "py3.7"
  },
  "language_info": {
   "codemirror_mode": {
    "name": "ipython",
    "version": 3
   },
   "file_extension": ".py",
   "mimetype": "text/x-python",
   "name": "python",
   "nbconvert_exporter": "python",
   "pygments_lexer": "ipython3",
   "version": "3.7.1"
  }
 },
 "nbformat": 4,
 "nbformat_minor": 5
}
