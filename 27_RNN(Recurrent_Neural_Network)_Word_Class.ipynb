{
 "cells": [
  {
   "cell_type": "code",
   "execution_count": 1,
   "id": "b93a2f77-6432-49f9-b080-a69d88209446",
   "metadata": {
    "tags": []
   },
   "outputs": [
    {
     "name": "stdout",
     "output_type": "stream",
     "text": [
      "WARNING:tensorflow:From C:\\Users\\tj\\.conda\\envs\\py3.7\\lib\\site-packages\\tensorflow\\python\\compat\\v2_compat.py:107: disable_resource_variables (from tensorflow.python.ops.variable_scope) is deprecated and will be removed in a future version.\n",
      "Instructions for updating:\n",
      "non-resource variables are not supported in the long term\n"
     ]
    }
   ],
   "source": [
    "import warnings\n",
    "warnings.filterwarnings(action='ignore')\n",
    "%config Completer.use_jedi = False\n",
    "import tensorflow.compat.v1 as tf\n",
    "tf.disable_v2_behavior()\n",
    "import numpy as np"
   ]
  },
  {
   "cell_type": "markdown",
   "id": "e55993a8-487f-4760-9918-93f441a3375e",
   "metadata": {},
   "source": [
    "***\n",
    "단어 품사 구분하기\n",
    "***\n",
    "'I work at google', 'I google at work'의 단어 품사를 구분하는 RNN 코드를 만든다.  \n",
    "각 단어는 원-핫 인코딩으로 표현한다.  \n",
    "I   -> [1, 0, 0, 0]  # 대명사  \n",
    "work  -> [0, 1, 0, 0] # 동사  \n",
    "at  -> [0, 0, 1, 0] # 전치사  \n",
    "google -> [0, 0, 0, 1] #명사  \n",
    "\n",
    "I work at google -> [ [1, 0, 0, 0], [0, 1, 0, 0], [0, 0, 1, 0], [0, 0, 0, 1] ]  \n",
    "I google at work -> [ [1, 0, 0, 0], [0, 0, 0, 1], [0, 0, 1, 0], [0, 1, 0, 0] ]  "
   ]
  },
  {
   "cell_type": "code",
   "execution_count": 2,
   "id": "d85c4c4f-fa76-4571-aca5-7a2e9db441b8",
   "metadata": {
    "tags": []
   },
   "outputs": [
    {
     "name": "stdout",
     "output_type": "stream",
     "text": [
      "(2, 4, 4)\n"
     ]
    },
    {
     "data": {
      "text/plain": [
       "array([[[1, 0, 0, 0],\n",
       "        [0, 1, 0, 0],\n",
       "        [0, 0, 1, 0],\n",
       "        [0, 0, 0, 1]],\n",
       "\n",
       "       [[1, 0, 0, 0],\n",
       "        [0, 0, 0, 1],\n",
       "        [0, 0, 1, 0],\n",
       "        [0, 1, 0, 0]]])"
      ]
     },
     "execution_count": 2,
     "metadata": {},
     "output_type": "execute_result"
    }
   ],
   "source": [
    "inputs = np.array([ [ [1, 0, 0, 0], [0, 1, 0, 0], [0, 0, 1, 0], [0, 0, 0, 1] ],\n",
    "                    [ [1, 0, 0, 0], [0, 0, 0, 1], [0, 0, 1, 0], [0, 1, 0, 0] ] \n",
    "                  ])\n",
    "print(inputs.shape)\n",
    "inputs"
   ]
  },
  {
   "cell_type": "code",
   "execution_count": 3,
   "id": "31b2adb6-fa35-4d4d-89c7-b5ce3d204388",
   "metadata": {
    "tags": []
   },
   "outputs": [
    {
     "name": "stdout",
     "output_type": "stream",
     "text": [
      "WARNING:tensorflow:From C:\\Users\\tj\\AppData\\Local\\Temp\\ipykernel_15900\\2661193335.py:4: dynamic_rnn (from tensorflow.python.ops.rnn) is deprecated and will be removed in a future version.\n",
      "Instructions for updating:\n",
      "Please use `keras.layers.RNN(cell)`, which is equivalent to this API\n",
      "WARNING:tensorflow:From C:\\Users\\tj\\.conda\\envs\\py3.7\\lib\\site-packages\\keras\\layers\\rnn\\legacy_cells.py:467: calling Zeros.__init__ (from tensorflow.python.ops.init_ops) with dtype is deprecated and will be removed in a future version.\n",
      "Instructions for updating:\n",
      "Call initializer instance with the dtype argument instead of passing it to the constructor\n",
      "****************************************************************************************************\n",
      "출력값 -> Tensor(\"rnn/transpose_1:0\", shape=(2, 4, 3), dtype=float32)\n",
      "상태값 -> Tensor(\"rnn/while/Exit_3:0\", shape=(2, 3), dtype=float32)\n",
      "****************************************************************************************************\n",
      "가중치 갯수와 편향값의 개수\n",
      "<tf.Variable 'rnn/basic_rnn_cell/kernel:0' shape=(7, 3) dtype=float32_ref>\n",
      "<tf.Variable 'rnn/basic_rnn_cell/bias:0' shape=(3,) dtype=float32_ref>\n"
     ]
    }
   ],
   "source": [
    "tf.set_random_seed(35)\n",
    "tf_inputs = tf.constant(inputs, dtype=tf.float32)\n",
    "rnn_cell = tf.nn.rnn_cell.BasicRNNCell(num_units=3)\n",
    "outputs, state = tf.nn.dynamic_rnn(cell=rnn_cell, dtype=tf.float32, inputs=tf_inputs)\n",
    "print('*' * 100)\n",
    "\n",
    "print( '출력값 -> {}'.format(outputs) )\n",
    "print( '상태값 -> {}'.format(state) )\n",
    "print('*' * 100)\n",
    "\n",
    "print( '가중치 갯수와 편향값의 개수' )\n",
    "for v in tf.get_collection(tf.GraphKeys.TRAINABLE_VARIABLES) :\n",
    "     print(v)"
   ]
  },
  {
   "cell_type": "code",
   "execution_count": 4,
   "id": "f9b72f12-6e29-4ff8-8fd2-b06d0cf5f54a",
   "metadata": {},
   "outputs": [
    {
     "name": "stdout",
     "output_type": "stream",
     "text": [
      "****************************************************************************************************\n",
      "출력값\n",
      "[[[ 0.37247857  0.27281666 -0.03415733]\n",
      "  [-0.12360744 -0.23688789 -0.07885218]\n",
      "  [-0.27765325 -0.14212623 -0.44862753]\n",
      "  [-0.7634894  -0.13153659 -0.1189682 ]]\n",
      "\n",
      " [[ 0.37247857  0.27281666 -0.03415733]\n",
      "  [-0.62467164  0.70083857  0.17365289]\n",
      "  [ 0.10053852  0.2770306   0.05076913]\n",
      "  [-0.05543748 -0.37285638 -0.04752919]]]\n",
      "****************************************************************************************************\n",
      "최종 상태값\n",
      " [[-0.7634894  -0.13153659 -0.1189682 ]\n",
      " [-0.05543748 -0.37285638 -0.04752919]]\n",
      "****************************************************************************************************\n",
      "가중치 -> rnn/basic_rnn_cell/kernel:0\n",
      "[[ 0.39129794  0.27990448 -0.03417063]\n",
      " [-0.13734835 -0.6881115  -0.19269955]\n",
      " [-0.19838947  0.15787274 -0.3503854 ]\n",
      " [-0.74573535  0.42230952  0.06174737]\n",
      " [-0.07638937  0.737661   -0.0250259 ]\n",
      " [ 0.22168279  0.6998607   0.48419607]\n",
      " [ 0.55390215  0.55799115  0.26617455]]\n",
      "편향값 -> rnn/basic_rnn_cell/bias:0\n",
      "[0. 0. 0.]\n"
     ]
    }
   ],
   "source": [
    "variable_name = [vari.name for vari in tf.trainable_variables()]\n",
    "with tf.Session() as sess:\n",
    "     sess.run(tf.global_variables_initializer())\n",
    "     outputs_, state_ = sess.run([outputs, state])\n",
    "     print('*' * 100)\n",
    "     print( '출력값\\n', outputs_, sep='' )\n",
    "     print('*' * 100)\n",
    "     \n",
    "     '''\n",
    "     첫번째 문장 각 셀의 첫번째 단어의 출력값; 행은 문장의 1단위 품사\n",
    "     [[[ 0.37247857  0.27281666 -0.03415733] # 이전 단어가 없기때문에 같은 값이 출력된다.\n",
    "       [-0.12360744 -0.23688789 -0.07885218]\n",
    "       [-0.27765325 -0.14212623 -0.44862753]\n",
    "       [-0.7634894  -0.13153659 -0.1189682 ]] # 첫번째 문장 마지막 출력값\n",
    "     \n",
    "     두번째 문장 각 셀의 두번째 단어의 출력값\n",
    "      [[ 0.37247857  0.27281666 -0.03415733] # 이전 단어가 없기때문에 같은 값이 출력된다.\n",
    "       [-0.62467164  0.70083857  0.17365289]\n",
    "       [ 0.10053852  0.2770306   0.05076913]\n",
    "       [-0.05543748 -0.37285638 -0.04752919]]] # 두번째 문장 마지막 출력값\n",
    "     '''\n",
    "     \n",
    "     # 두 문장의 각 셀의 첫 단어의 출력값이 [ 0.37247857  0.27281666 -0.03415733]로 같다.\n",
    "     # 첫 단어의 출력값이 같은 이유는 이전 단어가 존재하지 않아 이전 상태값이 존재하지 않기때문이다.\n",
    "     # 두번째 단어부터는 출력값이 [-0.12360744 -0.23688789 -0.07885218], [-0.62467164  0.70083857  0.17365289]처럼 다르게 나타나게된다.\n",
    "     # -> 상태값이 같더라도 입력값이 다를 수 있고, 입력값이 같더라도 상태값이 다를 수 있기 때문이다. \n",
    "     # 두번째 단어부터 출력값이 다르게 나오는 이유는 이전 상태값이 현재 출력에 영향을 주기때문이다.\n",
    "     \n",
    "     print( '최종 상태값\\n ',state_ , sep='' )\n",
    "     print('*'* 100)\n",
    "     \n",
    "     '''\n",
    "     첫번째 문장 마지막 상태값\n",
    "     [[-0.7634894  -0.13153659 -0.1189682 ] # 첫번째 문장 마지막 상태값은 첫번째 문장 마지막 출력값과 같다.\n",
    "     \n",
    "     두번째 문장 마지막 상태값\n",
    "      [-0.05543748 -0.37285638 -0.04752919]] # 두번째 문장 마지막 상태값은 두번째 문장 마지막 출력값과 같다.\n",
    "     '''\n",
    "     # 최종 상태값은 최종 출력값과 같다.\n",
    "     \n",
    "     \n",
    "     \n",
    "     values = sess.run(variable_name)\n",
    "     print('가중치 -> ', variable_name[0], '\\n', values[0], sep='')\n",
    "     print('편향값 -> ', variable_name[1], '\\n', values[1], sep='')"
   ]
  },
  {
   "cell_type": "code",
   "execution_count": null,
   "id": "e5573f03-233b-45f4-b033-9fa2bc67e34d",
   "metadata": {},
   "outputs": [],
   "source": []
  },
  {
   "cell_type": "code",
   "execution_count": null,
   "id": "9144897d-df7c-45c1-baab-b2692360f5b8",
   "metadata": {},
   "outputs": [],
   "source": []
  },
  {
   "cell_type": "code",
   "execution_count": null,
   "id": "eb843b36-3a7b-4e97-8115-a2c60e21da64",
   "metadata": {},
   "outputs": [],
   "source": []
  },
  {
   "cell_type": "code",
   "execution_count": null,
   "id": "69a5dbde-5e22-46e1-b92a-4b66e91e7e9b",
   "metadata": {},
   "outputs": [],
   "source": []
  },
  {
   "cell_type": "code",
   "execution_count": null,
   "id": "bc0abcd3-42a1-4cbb-a408-99e37ad0f195",
   "metadata": {},
   "outputs": [],
   "source": []
  },
  {
   "cell_type": "code",
   "execution_count": null,
   "id": "29f4e7c8-42d9-48a1-8a66-3249c96456e2",
   "metadata": {},
   "outputs": [],
   "source": []
  },
  {
   "cell_type": "code",
   "execution_count": null,
   "id": "6ee423be-bf98-47dc-8721-348883582e89",
   "metadata": {},
   "outputs": [],
   "source": []
  },
  {
   "cell_type": "code",
   "execution_count": null,
   "id": "d7c21120-7ca2-42e9-bef4-ffa6d5154c99",
   "metadata": {},
   "outputs": [],
   "source": []
  },
  {
   "cell_type": "code",
   "execution_count": null,
   "id": "4ad03b14-0b75-4ff3-9ab8-29aad904dce0",
   "metadata": {},
   "outputs": [],
   "source": []
  },
  {
   "cell_type": "code",
   "execution_count": null,
   "id": "e86ccd3f-363d-402d-a0d7-60badbc63a44",
   "metadata": {},
   "outputs": [],
   "source": []
  },
  {
   "cell_type": "code",
   "execution_count": null,
   "id": "28b4b0e1-fc2b-403e-8006-0c990960ce6b",
   "metadata": {},
   "outputs": [],
   "source": []
  },
  {
   "cell_type": "code",
   "execution_count": null,
   "id": "82f1d5c3-72e5-4f65-adcb-0b5ce8aa047b",
   "metadata": {},
   "outputs": [],
   "source": []
  },
  {
   "cell_type": "code",
   "execution_count": null,
   "id": "982b456c-d66e-457f-80ae-6cdb4df26ea1",
   "metadata": {},
   "outputs": [],
   "source": []
  },
  {
   "cell_type": "code",
   "execution_count": null,
   "id": "0cc96880-3fa8-40bb-88bf-2cd5c5fed401",
   "metadata": {},
   "outputs": [],
   "source": []
  },
  {
   "cell_type": "code",
   "execution_count": null,
   "id": "4d86d3da-e328-4396-9314-f4e014e0d6ca",
   "metadata": {},
   "outputs": [],
   "source": []
  },
  {
   "cell_type": "code",
   "execution_count": null,
   "id": "9f97f925-8d38-46dc-b24c-a3f9d47ece83",
   "metadata": {},
   "outputs": [],
   "source": []
  },
  {
   "cell_type": "code",
   "execution_count": null,
   "id": "510a3475-d8ed-4d92-a71f-4a2246fb358b",
   "metadata": {},
   "outputs": [],
   "source": []
  },
  {
   "cell_type": "code",
   "execution_count": null,
   "id": "83d8f39c-fc97-446b-ab9a-dc5cbb74e2fd",
   "metadata": {},
   "outputs": [],
   "source": []
  },
  {
   "cell_type": "code",
   "execution_count": null,
   "id": "3a31dcc5-4a2f-4b8e-b00b-3a7a22ecc831",
   "metadata": {},
   "outputs": [],
   "source": []
  },
  {
   "cell_type": "code",
   "execution_count": null,
   "id": "0e39947a-d9bc-4b7e-a39c-db6d29184acd",
   "metadata": {},
   "outputs": [],
   "source": []
  },
  {
   "cell_type": "code",
   "execution_count": null,
   "id": "8fdfc4d8-d2d7-4237-a7c7-4dc54190d478",
   "metadata": {},
   "outputs": [],
   "source": []
  },
  {
   "cell_type": "code",
   "execution_count": null,
   "id": "a7ced3d9-a097-40e1-a0c9-3e30b2b5a172",
   "metadata": {},
   "outputs": [],
   "source": []
  },
  {
   "cell_type": "code",
   "execution_count": null,
   "id": "7e417d8b-d8bb-458e-8587-af181bc8194e",
   "metadata": {},
   "outputs": [],
   "source": []
  },
  {
   "cell_type": "code",
   "execution_count": null,
   "id": "8b638229-bec5-41f6-b551-1c7f101023f1",
   "metadata": {},
   "outputs": [],
   "source": []
  },
  {
   "cell_type": "code",
   "execution_count": null,
   "id": "0167dd24-8645-41f7-9f30-e433facc1385",
   "metadata": {},
   "outputs": [],
   "source": []
  },
  {
   "cell_type": "code",
   "execution_count": null,
   "id": "11c76cae-82b3-4aeb-9174-ac45a8820cb4",
   "metadata": {},
   "outputs": [],
   "source": []
  },
  {
   "cell_type": "code",
   "execution_count": null,
   "id": "e7048861-343d-456c-a2c2-0fe5339f860b",
   "metadata": {},
   "outputs": [],
   "source": []
  },
  {
   "cell_type": "code",
   "execution_count": null,
   "id": "8b11ad66-a443-4e3c-b2ac-5acd9d8e6732",
   "metadata": {},
   "outputs": [],
   "source": []
  },
  {
   "cell_type": "code",
   "execution_count": null,
   "id": "b019d728-3373-4b7d-9212-0a62ce91b9bc",
   "metadata": {},
   "outputs": [],
   "source": []
  },
  {
   "cell_type": "code",
   "execution_count": null,
   "id": "0c6774c4-b5ef-401d-8134-87c11acb2ada",
   "metadata": {},
   "outputs": [],
   "source": []
  },
  {
   "cell_type": "code",
   "execution_count": null,
   "id": "966de957-2465-4675-a178-29c43d35e6f6",
   "metadata": {},
   "outputs": [],
   "source": []
  },
  {
   "cell_type": "code",
   "execution_count": null,
   "id": "ed177537-5236-4d49-b2ee-fcca523fc17f",
   "metadata": {},
   "outputs": [],
   "source": []
  },
  {
   "cell_type": "code",
   "execution_count": null,
   "id": "9745017c-3ae8-4c89-afb7-387914ee5863",
   "metadata": {},
   "outputs": [],
   "source": []
  },
  {
   "cell_type": "code",
   "execution_count": null,
   "id": "54354c97-c78c-4167-b156-894cc9e137e5",
   "metadata": {},
   "outputs": [],
   "source": []
  },
  {
   "cell_type": "code",
   "execution_count": null,
   "id": "930109e9-cc0d-4084-9158-9b132f1d6ea6",
   "metadata": {},
   "outputs": [],
   "source": []
  },
  {
   "cell_type": "code",
   "execution_count": null,
   "id": "f56df934-e565-4325-8620-204cd3e9315c",
   "metadata": {},
   "outputs": [],
   "source": []
  },
  {
   "cell_type": "code",
   "execution_count": null,
   "id": "35dc4a2e-e27a-498d-9161-4d3a9058df32",
   "metadata": {},
   "outputs": [],
   "source": []
  },
  {
   "cell_type": "code",
   "execution_count": null,
   "id": "167a0b1b-066b-4645-b3ac-1188b1858706",
   "metadata": {},
   "outputs": [],
   "source": []
  },
  {
   "cell_type": "code",
   "execution_count": null,
   "id": "e06344aa-f3fe-40c9-8165-0e0953470646",
   "metadata": {},
   "outputs": [],
   "source": []
  },
  {
   "cell_type": "code",
   "execution_count": null,
   "id": "728cc286-d8a1-4684-b23e-270097f6f7d7",
   "metadata": {},
   "outputs": [],
   "source": []
  },
  {
   "cell_type": "code",
   "execution_count": null,
   "id": "8151e7c6-7c1f-4186-8f99-fa1290e83210",
   "metadata": {},
   "outputs": [],
   "source": []
  },
  {
   "cell_type": "code",
   "execution_count": null,
   "id": "7d5396d3-2f04-4c78-b7ed-8ef0cbf8d153",
   "metadata": {},
   "outputs": [],
   "source": []
  },
  {
   "cell_type": "code",
   "execution_count": null,
   "id": "e21b461d-949c-4337-9724-4a4724bf4477",
   "metadata": {},
   "outputs": [],
   "source": []
  },
  {
   "cell_type": "code",
   "execution_count": null,
   "id": "a74c7f68-731b-4ffb-a5a3-226d897b23a5",
   "metadata": {},
   "outputs": [],
   "source": []
  },
  {
   "cell_type": "code",
   "execution_count": null,
   "id": "426d5233-8bde-4490-86c3-77007ce7e78f",
   "metadata": {},
   "outputs": [],
   "source": []
  },
  {
   "cell_type": "code",
   "execution_count": null,
   "id": "ab1cae5f-071b-4f39-a4ef-75c7bbedd8d5",
   "metadata": {},
   "outputs": [],
   "source": []
  },
  {
   "cell_type": "code",
   "execution_count": null,
   "id": "d6e43734-00bf-404e-9246-44d8d0662ee1",
   "metadata": {},
   "outputs": [],
   "source": []
  },
  {
   "cell_type": "code",
   "execution_count": null,
   "id": "52bbd00e-3344-4825-b3b4-4f62ea3bc9cb",
   "metadata": {},
   "outputs": [],
   "source": []
  },
  {
   "cell_type": "code",
   "execution_count": null,
   "id": "ee1d10bd-9d43-45ea-8ef3-953e7b0559ea",
   "metadata": {},
   "outputs": [],
   "source": []
  },
  {
   "cell_type": "code",
   "execution_count": null,
   "id": "63b252cd-d84d-4e3f-a805-b15b45a1d2f1",
   "metadata": {},
   "outputs": [],
   "source": []
  },
  {
   "cell_type": "code",
   "execution_count": null,
   "id": "09d2a133-f42e-4792-a23b-b713c1e1606c",
   "metadata": {},
   "outputs": [],
   "source": []
  },
  {
   "cell_type": "code",
   "execution_count": null,
   "id": "22cd1e3e-d70c-45e9-bb52-637842cd4d20",
   "metadata": {},
   "outputs": [],
   "source": []
  },
  {
   "cell_type": "code",
   "execution_count": null,
   "id": "87371909-2c3f-40d3-b7da-e547dec65b19",
   "metadata": {},
   "outputs": [],
   "source": []
  },
  {
   "cell_type": "code",
   "execution_count": null,
   "id": "41a92ab0-2660-43e3-a10d-b1599302c42e",
   "metadata": {},
   "outputs": [],
   "source": []
  }
 ],
 "metadata": {
  "kernelspec": {
   "display_name": "Python [conda env:.conda-py3.7] *",
   "language": "python",
   "name": "conda-env-.conda-py3.7-py"
  },
  "language_info": {
   "codemirror_mode": {
    "name": "ipython",
    "version": 3
   },
   "file_extension": ".py",
   "mimetype": "text/x-python",
   "name": "python",
   "nbconvert_exporter": "python",
   "pygments_lexer": "ipython3",
   "version": "3.7.1"
  }
 },
 "nbformat": 4,
 "nbformat_minor": 5
}
