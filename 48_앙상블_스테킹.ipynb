{
 "cells": [
  {
   "cell_type": "code",
   "execution_count": 1,
   "id": "a6a4c7ea-94ef-49b0-9612-bff42c453cc2",
   "metadata": {
    "tags": []
   },
   "outputs": [],
   "source": [
    "import warnings\n",
    "warnings.filterwarnings(action='ignore')\n",
    "%config Completer.use_jedi = False\n",
    "import numpy as np\n",
    "import pandas as pd\n",
    "import matplotlib.pyplot as plt\n",
    "import matplotlib as mpl\n",
    "mpl.rcParams['axes.unicode_minus'] = False\n",
    "plt.rcParams['font.family'] = 'NanumGothicCoding'\n",
    "plt.rcParams['font.size'] = 10\n",
    "import seaborn as sns\n",
    "\n",
    "from sklearn import datasets\n",
    "from sklearn.model_selection import train_test_split\n",
    "from sklearn.preprocessing import StandardScaler\n",
    "from sklearn.metrics import accuracy_score\n",
    "from sklearn.metrics import confusion_matrix\n",
    "from sklearn.metrics import classification_report\n",
    "from sklearn.metrics import mean_squared_error  \n",
    "from sklearn.metrics import mean_absolute_error\n",
    "from sklearn.metrics import r2_score\n",
    "from sklearn.metrics import precision_score \n",
    "from sklearn.metrics import recall_score\n",
    "from sklearn.metrics import f1_score"
   ]
  },
  {
   "cell_type": "markdown",
   "id": "044563cc-d85e-49ee-854f-cf93d2275a02",
   "metadata": {},
   "source": [
    "***\n",
    "스태킹(Stacking)은 베이스 학습기와 메타 학습기로 구성되어 있고, 베이스 학습기와 메타 학습기는 서포트 벡터 머신, 랜덤 포레스트와 같은 학습 모델이다.  \n",
    "베이스 학습기가 먼저 학습한 후, 메타 학습기는 베이스 학습기의 예측 피쳐 데이터로 활용해 최종 예측을 한다.  \n",
    "***"
   ]
  },
  {
   "cell_type": "markdown",
   "id": "99819acb-f7fd-4ea1-bc0a-9ecc46f28e8f",
   "metadata": {},
   "source": [
    "***\n",
    "암 데이터 사용해 암 여부를 예측하는 모델을 생성, 학습한다.\n",
    "***"
   ]
  },
  {
   "cell_type": "code",
   "execution_count": 2,
   "id": "33f70ca0-6f5d-4cd9-bfc7-8974335fdcd7",
   "metadata": {
    "tags": []
   },
   "outputs": [
    {
     "name": "stdout",
     "output_type": "stream",
     "text": [
      "(569, 30) (569,)\n",
      "(426, 30) (143, 30) (426,) (143,)\n"
     ]
    },
    {
     "data": {
      "text/plain": [
       "AdaBoostClassifier()"
      ]
     },
     "execution_count": 2,
     "metadata": {},
     "output_type": "execute_result"
    }
   ],
   "source": [
    "# 데이터 불러오기\n",
    "raw_data = datasets.load_breast_cancer() # 사이킷런이 제공하는 암 데이터를 불러온다.\n",
    "\n",
    "# 피쳐, 레이블 데이터 저장\n",
    "xData = raw_data.data # 피쳐 데이터를 저장한다.\n",
    "yData = raw_data.target # 피쳐 데이터에 따른 레이블을 저장한다.\n",
    "print(xData.shape, yData.shape)\n",
    "\n",
    "\n",
    "# 학습 데이터와 테스트 데이터로 분할\n",
    "x_train, x_test, y_train, y_test = train_test_split(xData, yData, random_state=0)\n",
    "print(x_train.shape, x_test.shape, y_train.shape, y_test.shape)\n",
    "\n",
    "# 데이터 표준화\n",
    "std_scale = StandardScaler() # 표준화 스케일러 객체를 만든다.\n",
    "x_train = std_scale.fit_transform(x_train) # 학습 데이터를 스케일러로 표준화하고 적용한다.\n",
    "x_test = std_scale.transform(x_test) # 테스트 데이터를 학습 데이터로 표준화된 스케일러에 적용한다.\n",
    "\n",
    "# 모델 생성 후 데이터 학습\n",
    "from sklearn.ensemble import AdaBoostClassifier # 에이다 부스트 알고리즘 사용\n",
    "\n",
    "# 모델을 만든다.\n",
    "clf = AdaBoostClassifier()\n",
    "\n",
    "# 표준화된 학습 데이터 x_train와 학습 데이터에 따른 레이블 데이터 y_train으로 앙상블 에이다 부스트 모델을 학습시킨다.\n",
    "clf.fit(x_train, y_train)\n"
   ]
  },
  {
   "cell_type": "markdown",
   "id": "7405257e-05f6-4760-a74c-92c513bb46b6",
   "metadata": {},
   "source": [
    "***\n",
    "모델 생성 후 학습\n",
    "***"
   ]
  },
  {
   "cell_type": "code",
   "execution_count": 3,
   "id": "2d3d36eb-e6c1-4e6c-b9c9-deb67cf75257",
   "metadata": {
    "tags": []
   },
   "outputs": [
    {
     "data": {
      "text/plain": [
       "StackingClassifier(estimators=[('svm', SVC()), ('gnb', GaussianNB())],\n",
       "                   final_estimator=LogisticRegression())"
      ]
     },
     "execution_count": 3,
     "metadata": {},
     "output_type": "execute_result"
    }
   ],
   "source": [
    "# 베이스 학습기\n",
    "from sklearn.svm import SVC # 서포트 벡터 머신 알고리즘 사용\n",
    "from sklearn.naive_bayes import GaussianNB # 가우시안 나이브베이즈 알고리즘 사용\n",
    "\n",
    "clf1 = SVC() # 서포트 벡터 머신 알고리즘 학습기 모델 객체\n",
    "clf2 = GaussianNB() # 가우시안 나이브베이즈 학습기 모델 객체\n",
    "\n",
    "# 메타 학습기\n",
    "from sklearn.linear_model import LogisticRegression # 로지스티 회귀 알고리즘 사용\n",
    "\n",
    "clf3 = LogisticRegression()\n",
    "\n",
    "# 앙상블 스테킹\n",
    "from sklearn.ensemble import StackingClassifier # 스테킹 알고리즘 사용\n",
    "\n",
    "#estimators 속성에 스테킹 모델에서 사용할 베이스 학습기를 지정하고, final_estimator 속성에 스테킹 모델에서 사용할 메타 학습기를 지정해서 앙상블 스테킹 모델을 만든다.\n",
    "clf = StackingClassifier(estimators=[('svm', clf1), ('gnb', clf2)], final_estimator=clf3)\n",
    "\n",
    "# 표준화된 학습 데이터 x_train와 학습 데이터에 따른 레이블 데이터 y_train으로 앙상블 에이다 부스트 모델을 학습시킨다.\n",
    "clf.fit(x_train, y_train)\n"
   ]
  },
  {
   "cell_type": "markdown",
   "id": "ae69791f-86c6-4485-8109-1d89014d8cb5",
   "metadata": {},
   "source": [
    "***\n",
    "학습된 모델로 테스트 데이터를 예측한다.\n",
    "***"
   ]
  },
  {
   "cell_type": "code",
   "execution_count": 4,
   "id": "3b7c95cd-d1a6-4b19-b2cb-334a15daa554",
   "metadata": {
    "tags": []
   },
   "outputs": [
    {
     "name": "stdout",
     "output_type": "stream",
     "text": [
      "[0 1 1 1 1 1 1 1 1 1 1 1 1 0 1 0 1 0 0 0 0 0 1 1 0 1 1 0 1 0 1 0 1 0 1 0 1\n",
      " 0 1 0 0 1 0 1 1 0 1 1 1 0 0 0 0 1 1 1 1 1 1 0 0 0 1 1 0 1 0 0 0 1 1 0 1 0\n",
      " 0 1 1 1 1 1 0 0 0 1 0 1 1 1 0 0 1 1 0 0 1 1 0 1 1 1 1 1 1 1 0 1 0 1 1 0 1\n",
      " 0 0 1 1 1 1 1 1 1 1 1 0 1 0 1 1 1 1 1 0 1 1 1 1 1 1 1 0 1 1 1 0]\n"
     ]
    }
   ],
   "source": [
    "#predict() 메소드의 인수로 표준화된 테스트 데이터를 넘겨서 예측한다.\n",
    "predict = clf.predict(x_test)\n",
    "print(predict)"
   ]
  },
  {
   "cell_type": "markdown",
   "id": "3e005ddd-5362-4b15-a46b-73902139d718",
   "metadata": {},
   "source": [
    "***\n",
    "학습된 모델을 평가한다\n",
    "***"
   ]
  },
  {
   "cell_type": "code",
   "execution_count": 5,
   "id": "3e450220-26da-4d16-b1e9-4223ea27c323",
   "metadata": {
    "tags": []
   },
   "outputs": [
    {
     "name": "stdout",
     "output_type": "stream",
     "text": [
      "[[50  3]\n",
      " [ 2 88]]\n"
     ]
    }
   ],
   "source": [
    "# 혼동 행렬\n",
    "conf_matrix = confusion_matrix(y_test, predict)\n",
    "print(conf_matrix)"
   ]
  },
  {
   "cell_type": "code",
   "execution_count": 6,
   "id": "479a94c1-db7a-4a1b-a4f2-86a65f06f617",
   "metadata": {
    "tags": []
   },
   "outputs": [
    {
     "name": "stdout",
     "output_type": "stream",
     "text": [
      "              precision    recall  f1-score   support\n",
      "\n",
      "   malignant       0.96      0.94      0.95        53\n",
      "      benign       0.97      0.98      0.97        90\n",
      "\n",
      "    accuracy                           0.97       143\n",
      "   macro avg       0.96      0.96      0.96       143\n",
      "weighted avg       0.96      0.97      0.96       143\n",
      "\n"
     ]
    }
   ],
   "source": [
    "#분류 리포트\n",
    "class_report = classification_report(y_test, predict, target_names=raw_data.target_names)\n",
    "print(class_report)"
   ]
  },
  {
   "cell_type": "code",
   "execution_count": null,
   "id": "efb3730d-7c61-4fbe-a791-c02e86f2fc53",
   "metadata": {},
   "outputs": [],
   "source": []
  },
  {
   "cell_type": "code",
   "execution_count": null,
   "id": "ddaa0b26-0aef-4946-a762-cb0adad02530",
   "metadata": {},
   "outputs": [],
   "source": []
  },
  {
   "cell_type": "code",
   "execution_count": null,
   "id": "a7dda0ca-9265-4736-8dbe-f03e9af0ce38",
   "metadata": {},
   "outputs": [],
   "source": []
  },
  {
   "cell_type": "code",
   "execution_count": null,
   "id": "339eeafb-ab99-4317-b465-c1a5367cb47d",
   "metadata": {},
   "outputs": [],
   "source": []
  },
  {
   "cell_type": "code",
   "execution_count": null,
   "id": "c9557399-ba51-4629-9601-906fd77e563e",
   "metadata": {},
   "outputs": [],
   "source": []
  },
  {
   "cell_type": "code",
   "execution_count": null,
   "id": "6919eca1-30e5-4f61-a6d6-56e09a35d5de",
   "metadata": {},
   "outputs": [],
   "source": []
  },
  {
   "cell_type": "code",
   "execution_count": null,
   "id": "558972c0-0ff6-4d17-babd-02ea139246e9",
   "metadata": {},
   "outputs": [],
   "source": []
  },
  {
   "cell_type": "code",
   "execution_count": null,
   "id": "fe3d5aa1-1b6d-4854-a5de-96cf41442a88",
   "metadata": {},
   "outputs": [],
   "source": []
  },
  {
   "cell_type": "code",
   "execution_count": null,
   "id": "f7be6cca-5a47-45f4-a9a8-684ec4680290",
   "metadata": {},
   "outputs": [],
   "source": []
  },
  {
   "cell_type": "code",
   "execution_count": null,
   "id": "0c400f22-baab-41dc-a321-162ec1f9716d",
   "metadata": {},
   "outputs": [],
   "source": []
  },
  {
   "cell_type": "code",
   "execution_count": null,
   "id": "23ba5ae2-dc1e-4971-8b23-0a112278a9b0",
   "metadata": {},
   "outputs": [],
   "source": []
  },
  {
   "cell_type": "code",
   "execution_count": null,
   "id": "05376f90-38ce-4a1c-b2f0-70b081daeb7f",
   "metadata": {},
   "outputs": [],
   "source": []
  },
  {
   "cell_type": "code",
   "execution_count": null,
   "id": "ebe8edae-e5ba-4a6a-9858-ff6854f12f5c",
   "metadata": {},
   "outputs": [],
   "source": []
  },
  {
   "cell_type": "code",
   "execution_count": null,
   "id": "12f88a37-708e-471a-aabc-785800178338",
   "metadata": {},
   "outputs": [],
   "source": []
  },
  {
   "cell_type": "code",
   "execution_count": null,
   "id": "3db9b55e-6080-422d-a24f-71ad7676caca",
   "metadata": {},
   "outputs": [],
   "source": []
  },
  {
   "cell_type": "code",
   "execution_count": null,
   "id": "837f4a29-b025-4880-85b7-0f4f2f980ad9",
   "metadata": {},
   "outputs": [],
   "source": []
  },
  {
   "cell_type": "code",
   "execution_count": null,
   "id": "9b58b7e3-0acd-41ee-ac6f-d14ce26c9dc7",
   "metadata": {},
   "outputs": [],
   "source": []
  },
  {
   "cell_type": "code",
   "execution_count": null,
   "id": "db22d40e-a113-481d-a1dc-2b5312ec6471",
   "metadata": {},
   "outputs": [],
   "source": []
  },
  {
   "cell_type": "code",
   "execution_count": null,
   "id": "55d6b9a3-3f84-4b08-9fd8-7d9bf06af7a0",
   "metadata": {},
   "outputs": [],
   "source": []
  },
  {
   "cell_type": "code",
   "execution_count": null,
   "id": "bdf5684e-334d-45a8-a47e-a63d4031e17c",
   "metadata": {},
   "outputs": [],
   "source": []
  },
  {
   "cell_type": "code",
   "execution_count": null,
   "id": "383c868e-634a-4f42-8236-b83a60988824",
   "metadata": {},
   "outputs": [],
   "source": []
  },
  {
   "cell_type": "code",
   "execution_count": null,
   "id": "341f676b-f81e-46a1-8e5d-35d46820eab4",
   "metadata": {},
   "outputs": [],
   "source": []
  },
  {
   "cell_type": "code",
   "execution_count": null,
   "id": "739d3f0b-3b64-49ac-80be-8b3216c4346b",
   "metadata": {},
   "outputs": [],
   "source": []
  },
  {
   "cell_type": "code",
   "execution_count": null,
   "id": "3a73b4e9-b345-49f7-b266-c741921277b3",
   "metadata": {},
   "outputs": [],
   "source": []
  },
  {
   "cell_type": "code",
   "execution_count": null,
   "id": "cb8bcdf1-e3ad-4cba-848e-cb2f278939e3",
   "metadata": {},
   "outputs": [],
   "source": []
  },
  {
   "cell_type": "code",
   "execution_count": null,
   "id": "b61e21b4-c65c-4b15-b207-a211890171c1",
   "metadata": {},
   "outputs": [],
   "source": []
  }
 ],
 "metadata": {
  "kernelspec": {
   "display_name": "py3.7",
   "language": "python",
   "name": "py3.7"
  },
  "language_info": {
   "codemirror_mode": {
    "name": "ipython",
    "version": 3
   },
   "file_extension": ".py",
   "mimetype": "text/x-python",
   "name": "python",
   "nbconvert_exporter": "python",
   "pygments_lexer": "ipython3",
   "version": "3.7.1"
  }
 },
 "nbformat": 4,
 "nbformat_minor": 5
}
