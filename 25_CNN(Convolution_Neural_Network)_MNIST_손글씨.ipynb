{
 "cells": [
  {
   "cell_type": "code",
   "execution_count": 1,
   "id": "348b46ce-0635-4d8b-9121-22637d24d8e3",
   "metadata": {},
   "outputs": [
    {
     "name": "stdout",
     "output_type": "stream",
     "text": [
      "WARNING:tensorflow:From C:\\Users\\tj\\.conda\\envs\\py3.7\\lib\\site-packages\\tensorflow\\python\\compat\\v2_compat.py:107: disable_resource_variables (from tensorflow.python.ops.variable_scope) is deprecated and will be removed in a future version.\n",
      "Instructions for updating:\n",
      "non-resource variables are not supported in the long term\n"
     ]
    }
   ],
   "source": [
    "import warnings\n",
    "warnings.filterwarnings(action='ignore')\n",
    "%config Completer.use_jedi = False\n",
    "import tensorflow.compat.v1 as tf\n",
    "tf.disable_v2_behavior()\n",
    "import numpy as np"
   ]
  },
  {
   "cell_type": "markdown",
   "id": "db0a0b9c-3e9e-42f3-aba1-2045c3770517",
   "metadata": {},
   "source": [
    "***\n",
    "CNN(Convolution Neural Network) - 합성곱 신경망\n",
    "***\n",
    "데이터 획득  \n",
    "***\n",
    "MNIST 손글씨 데이터를 내려받아 학습 데이터 및 테스트 데이터로 분리해서 저장한다.  \n",
    "MNIST 손글씨 데이터는 28 x 28 픽셀 데이터로 각 픽셀은 흑백사진과 같이 0 - 255 사이의 그레이스케일을 가지고 있다."
   ]
  },
  {
   "cell_type": "code",
   "execution_count": 2,
   "id": "bf3705cb-094c-4629-8ec7-bf5d06e04819",
   "metadata": {},
   "outputs": [],
   "source": [
    "(x_train, y_train), (x_test, y_test) = tf.keras.datasets.mnist.load_data()"
   ]
  },
  {
   "cell_type": "markdown",
   "id": "1aa4965c-711a-4c0d-b732-19835df062fe",
   "metadata": {},
   "source": [
    "***\n",
    "학습 데이터에서 검증 데이터 분리하기\n",
    "***\n",
    "학습 중간마다 검증 데이터로 모델 성능을 측정하면 모델 학습이 제대로 진행되는지 검증 정확도를 알 수 있고  \n",
    "학습 정확도는 올라가는데 검증 정확도가 더 이상 올라가지 않거나 오히려 떨어질 경우 학습의 조기 종료를 구현할 수 있다."
   ]
  },
  {
   "cell_type": "code",
   "execution_count": 3,
   "id": "8bb4d8bc-4567-4c92-8ae4-57945619c4f0",
   "metadata": {},
   "outputs": [],
   "source": [
    "# 6만개의 학습 데이터 중에서 1만개의 학습 데이터를 검증 데이터로 따로 저장한다.\n",
    "x_val = x_train[50000:] # 28행 28열로 구성된 학습 결과 검증에 사용할 데이터 10000개\n",
    "x_train = x_train[:50000] # 28행 28열로 구성된 학습에 사용할 데이터 50000개\n",
    "y_val = y_train[50000:] # 검증 데이터 레이블 10000개\n",
    "y_train = y_train[:50000] # 학습 데이터 레이블 50000개"
   ]
  },
  {
   "cell_type": "code",
   "execution_count": 4,
   "id": "a42e3a0a-d88b-48ed-8019-1b8c02651332",
   "metadata": {},
   "outputs": [
    {
     "name": "stdout",
     "output_type": "stream",
     "text": [
      "학습 데이터 -> x_train.shape: (50000, 28, 28), y_train.shape: (50000,)\n",
      "검증데이터 -> x_val.shape: (10000, 28, 28), y_val.shape: (10000,)\n",
      "테스트데이터 -> x_test.shape: (10000, 28, 28), y_test.shape: (10000,)\n"
     ]
    }
   ],
   "source": [
    "print('학습 데이터 -> x_train.shape: {}, y_train.shape: {}'.format(x_train.shape, y_train.shape)) # 학습; 학습 데이터는 5만개이고 28x28 픽셀의 이미지이다.\n",
    "print('검증데이터 -> x_val.shape: {}, y_val.shape: {}'.format(x_val.shape, y_val.shape)) # 학습 중 검증\n",
    "print('테스트데이터 -> x_test.shape: {}, y_test.shape: {}'.format(x_test.shape, y_test.shape)) # 학습 후 테스트"
   ]
  },
  {
   "cell_type": "code",
   "execution_count": 5,
   "id": "dca2b2af-7ba1-46b3-89ac-0b0e1c41aba8",
   "metadata": {
    "tags": []
   },
   "outputs": [
    {
     "name": "stdout",
     "output_type": "stream",
     "text": [
      "[5 0 4 1 9 2 1 3 1 4]\n",
      "  0   0   0   0   0   0   0   0   0   0   0   0   0   0   0   0   0   0   0   0   0   0   0   0   0   0   0   0 \n",
      "  0   0   0   0   0   0   0   0   0   0   0   0   0   0   0   0   0   0   0   0   0   0   0   0   0   0   0   0 \n",
      "  0   0   0   0   0   0   0   0   0   0   0   0   0   0   0   0   0   0   0   0   0   0   0   0   0   0   0   0 \n",
      "  0   0   0   0   0   0   0   0   0   0   0   0   0   0   0   0   0   0   0   0   0   0   0   0   0   0   0   0 \n",
      "  0   0   0   0   0   0   0   0   0   0   0   0   0   0   0   0   0   0   0   0   0   0   0   0   0   0   0   0 \n",
      "  0   0   0   0   0   0   0   0   0   0   0   0   3  18  18  18 126 136 175  26 166 255 247 127   0   0   0   0 \n",
      "  0   0   0   0   0   0   0   0  30  36  94 154 170 253 253 253 253 253 225 172 253 242 195  64   0   0   0   0 \n",
      "  0   0   0   0   0   0   0  49 238 253 253 253 253 253 253 253 253 251  93  82  82  56  39   0   0   0   0   0 \n",
      "  0   0   0   0   0   0   0  18 219 253 253 253 253 253 198 182 247 241   0   0   0   0   0   0   0   0   0   0 \n",
      "  0   0   0   0   0   0   0   0  80 156 107 253 253 205  11   0  43 154   0   0   0   0   0   0   0   0   0   0 \n",
      "  0   0   0   0   0   0   0   0   0  14   1 154 253  90   0   0   0   0   0   0   0   0   0   0   0   0   0   0 \n",
      "  0   0   0   0   0   0   0   0   0   0   0 139 253 190   2   0   0   0   0   0   0   0   0   0   0   0   0   0 \n",
      "  0   0   0   0   0   0   0   0   0   0   0  11 190 253  70   0   0   0   0   0   0   0   0   0   0   0   0   0 \n",
      "  0   0   0   0   0   0   0   0   0   0   0   0  35 241 225 160 108   1   0   0   0   0   0   0   0   0   0   0 \n",
      "  0   0   0   0   0   0   0   0   0   0   0   0   0  81 240 253 253 119  25   0   0   0   0   0   0   0   0   0 \n",
      "  0   0   0   0   0   0   0   0   0   0   0   0   0   0  45 186 253 253 150  27   0   0   0   0   0   0   0   0 \n",
      "  0   0   0   0   0   0   0   0   0   0   0   0   0   0   0  16  93 252 253 187   0   0   0   0   0   0   0   0 \n",
      "  0   0   0   0   0   0   0   0   0   0   0   0   0   0   0   0   0 249 253 249  64   0   0   0   0   0   0   0 \n",
      "  0   0   0   0   0   0   0   0   0   0   0   0   0   0  46 130 183 253 253 207   2   0   0   0   0   0   0   0 \n",
      "  0   0   0   0   0   0   0   0   0   0   0   0  39 148 229 253 253 253 250 182   0   0   0   0   0   0   0   0 \n",
      "  0   0   0   0   0   0   0   0   0   0  24 114 221 253 253 253 253 201  78   0   0   0   0   0   0   0   0   0 \n",
      "  0   0   0   0   0   0   0   0  23  66 213 253 253 253 253 198  81   2   0   0   0   0   0   0   0   0   0   0 \n",
      "  0   0   0   0   0   0  18 171 219 253 253 253 253 195  80   9   0   0   0   0   0   0   0   0   0   0   0   0 \n",
      "  0   0   0   0  55 172 226 253 253 253 253 244 133  11   0   0   0   0   0   0   0   0   0   0   0   0   0   0 \n",
      "  0   0   0   0 136 253 253 253 212 135 132  16   0   0   0   0   0   0   0   0   0   0   0   0   0   0   0   0 \n",
      "  0   0   0   0   0   0   0   0   0   0   0   0   0   0   0   0   0   0   0   0   0   0   0   0   0   0   0   0 \n",
      "  0   0   0   0   0   0   0   0   0   0   0   0   0   0   0   0   0   0   0   0   0   0   0   0   0   0   0   0 \n",
      "  0   0   0   0   0   0   0   0   0   0   0   0   0   0   0   0   0   0   0   0   0   0   0   0   0   0   0   0 \n"
     ]
    }
   ],
   "source": [
    "print(y_train[:10])\n",
    "for i in x_train[0]:\n",
    "    for j in i:\n",
    "        print('{:3d} '.format(j), end='')\n",
    "    print()"
   ]
  },
  {
   "cell_type": "markdown",
   "id": "17895166-4281-48b5-9126-c2c37f466c07",
   "metadata": {},
   "source": [
    "***\n",
    "컴퓨터 비전에서 많이 사용되는 딥런이 모델인 CNN의 장점은 다층 퍼셉트론과 비교하면 쉽게 알 수 있다.\n",
    "\n",
    "다층 퍼셉트론의 첫번째 단점은 이미지의 고유 생김새를 사용할 수 없다는 것이다.  \n",
    "다층 퍼셉트론의 겨우 데이터를 입력하기위해서 2차원 평면에 있는 숫자이미지를 1차원 배열로 변환해야 한다.  \n",
    "1차원 배열로 변환된 이미지 데이터는 원래 고유 숫자를 이미지를 떠올리기 쉽지 않다.  \n",
    "1차원으로 변환된 이미지 데이터를 입력으로 받은 다층 퍼셉트론의 경우, 데이터가 2차원 평면에서 가지고 있던 고유 지역 정보(모양 정보)를 잃어버린 채로 학습을 시작한다.\n",
    "\n",
    "두번째 단점은 다층 퍼셉트론은 픽셀 하나 하나의 변화에 상당히 민감하다는 것이다  \n",
    "이미지의 생김새 정보를 사용할 수 없는 다층 퍼셉트론은 가지고 있는 정보가 픽셀 정보밖에 없기 때문에 한 두개의 차이가 모델 예측에 큰 영향을 끼친다.\n",
    "\n",
    "세번째 단점은 다층 퍼셉트론은 픽셀 한 두개의 정보에도 민감하게 반응하기 때문에 상당히 많은 변수를 모델안에 가지고 있어야 한다.  \n",
    "이로 인해 모델의 크기를 크게 만들고, 학습 시간이 오래 걸리며, 자칫 잘못하면 과대 적합된 모델이 되기 쉽다.  \n",
    "***"
   ]
  },
  {
   "cell_type": "markdown",
   "id": "ccdb0ae2-c602-49ce-9bf2-bed2973710a6",
   "metadata": {},
   "source": [
    "***\n",
    "생김새 정보 획득하기\n",
    "***\n",
    "<img src='./CNN (1).png' width=\"700px\">"
   ]
  },
  {
   "cell_type": "markdown",
   "id": "0460f96c-07d0-47a8-91de-cbe3e1af4556",
   "metadata": {},
   "source": [
    "***\n",
    "두 개의 비슷한 생김새의 숫자 2가 있을 때 전체적인 생김새는 달라도 머리와 꼬리 부분이 있고, 머리와 꼬리를 이어주는 대각선이 있다면 단번에 숫자 2임을 판별할 수 있다.\n",
    "\n",
    "CNN은 어떻게 특징을 찾아내는가?  \n",
    "***\n",
    "<img src='./CNN (2).png' width=\"700px\">"
   ]
  },
  {
   "cell_type": "markdown",
   "id": "717db3c4-5dab-43dd-a7c7-f706d2f3dcf3",
   "metadata": {},
   "source": [
    "***\n",
    "위 그림에서 필터 또는 커널이라고 불리는 반투명한 네모 상자가 이미지의 왼쪽 상단에서 일정하게 이동하면서 오른쪽 하단까지 이동한다.  \n",
    "이처럼 필터를 이동하는 기법을 스트라이드(Stride)라고 한다.  \n",
    "필터는 특징을 추출하기 위한 네모상자이고 이 필터와 겹치는 이미지 부분을 수용 영역이라 부른다.  \n",
    "***\n",
    "\n",
    "아래 그림에서 대각선 필터는 숫자 2로 부터 두 곳의 대각선 특징을 감지한다. 그러나 숫자 1에서는 대각선 특징을 발견하지 못한다.  \n",
    "<img src='./CNN (3).png' width=\"700px\">"
   ]
  },
  {
   "cell_type": "markdown",
   "id": "f66cc1aa-28f4-47e2-b311-3dc3775ba207",
   "metadata": {},
   "source": [
    "***\n",
    "모든 딥러닝 모델이 그렇듯이 CNN 모델 역시 수학적인 모델이다. 필터가 어떻게 특징을 추춣내는지 알아보자  \n",
    "MNIST 숫자 데이터는 흑백 이밎로 각 픽셀은 0부터 255 사이의 값 중 하나를 가지고 있다.   \n",
    "픽셀 안의 숫자 0은 흰색을 의미하며 255는 검은 색을 그리고 그 사이의 숫자는 흰색과 검은색 사이의 어떤 색(회색)을 의미한다.  \n",
    "만약에 이미지 안에 흰색과 검은색만 존재한다면 아래 그림과 같이 0과 255로만 구성되어 있을 것이다.  \n",
    "***\n",
    "<img src='./CNN (4).png' width=\"800px\">"
   ]
  },
  {
   "cell_type": "markdown",
   "id": "15d891a1-d546-482a-9bae-a7fa5f8b78d0",
   "metadata": {},
   "source": [
    "***\n",
    "위 그림에서 알 수 있듯이 필터 안에는 특정한 숫자가 들어가있고 필터와 이미지의 겹치는 부분마다 곱셈이 이루어지고  \n",
    "필터에 4개의 픽셀이 있다면 4개의 영역이 곱해지고 곱해진 값은 최종적으로 더해진다.  \n",
    "따라서 최종값이 크다는 의미는 필터와 겹쳐진 부분이 많다는 의미이며, 반대로 최종값이 작을 경우 필터와 겹쳐지는 부분이 적었다라고 해석을 할 수 있다. \n",
    "\n",
    "CNN 모델 안에서 각 특성의 갯수만큼 필터가 필요하다.  \n",
    "보통 전반부 레이어에 존재하는 필터는 직선, 곡선 같은 기초적인 특성을 구별하기 위해 존재하고,  \n",
    "후반부에 존재하는 필터는 동그라미, 세모같은 조금 더 고차원의 특징을 구별하기 위해 존재한다.  \n",
    "필터를 사용해서 모든 특징을 찾아낸 후, 이 특징들은 다중 퍼셉트론의 입력값으로 들어가서 필터로부터 구별된 특징을 기반으로 숫자 분류를 진행한다.\n",
    "***"
   ]
  },
  {
   "cell_type": "markdown",
   "id": "c37abb6b-a513-4ad5-a5a0-437b5109d07c",
   "metadata": {},
   "source": [
    "<img src='./CNN (5).png' width=\"700px\">"
   ]
  },
  {
   "cell_type": "markdown",
   "id": "a616b269-d127-45e1-92ef-70723a3000d9",
   "metadata": {},
   "source": [
    "***\n",
    "필터를 스트라이드를 통해 얻어진 행렬을 피쳐맵(feature Map)이라고 한다.  \n",
    "피쳐맵을 활성화 함수에 넣어 구현한 행렬을 액티베이션 맵(Activation Map)이라고 한다.\n",
    "***\n",
    "맥스 플링(Max Pooling)은 지정된 영역에서 가장 큰 수치를 선택하고 나머지는 버린다.  \n",
    "아래 그림은 2 x 2 필터에 스트라이드를 적용한 피쳐맵에 맥스 풀링을 적용한 예이다.  \n",
    "피쳐맵의 크기가 줄어듬으로써 얻는 장점은 계산에 사용되는 파라미터의 갯수가 줄어들어 계산 속도가 빨라지고  \n",
    "파라미터를 줄임으로써 모델의 분산을 줄이고 그에 따라 과대 적합의 가능성을 줄여준다.\n",
    "***"
   ]
  },
  {
   "cell_type": "markdown",
   "id": "a75e4e92-384c-4f69-a905-8cf62c9b3c2f",
   "metadata": {},
   "source": [
    "<img src='./CNN (6).png' width=\"700px\">"
   ]
  },
  {
   "cell_type": "markdown",
   "id": "a1bc5977-acbd-48ca-8f1b-2b6550df55ee",
   "metadata": {},
   "source": [
    "***\n",
    "제로 패딩(Zero Padding)은 0으로 입력 행렬의 테두리를 감싸주는 기술이다. \n",
    "스트라이드를 통해 입력된 행렬보다 작아진 행렬이 출력되고, 작아진만큼 정보손실이 발생되므로 제로 패딩을 통해 행렬의 크기를 크게함으로써 스트라이드 이후에도 이미지의 크기를 통일하게 유지할 수 있다.\n",
    "***"
   ]
  },
  {
   "cell_type": "markdown",
   "id": "9eb7fd6f-802e-40f7-a211-9152653c07ce",
   "metadata": {},
   "source": [
    "<img src='./CNN (7).png' width=\"700px\">"
   ]
  },
  {
   "cell_type": "markdown",
   "id": "cd39c3ab-05c8-476b-b37b-7f29c074905c",
   "metadata": {},
   "source": [
    "***\n",
    "제로 패딩으로 인해 스트라이드 할 공간이 더 많아졌다.  \n",
    "만약 필터 크기가 3 x 3이고 스트라이드를 1픽셀씩 할 경우 피쳐맵은 5 x 5로 제로 패딩을 하기 전의 입력과 동일한 크기로 출력될 것이다.  \n",
    "***\n"
   ]
  },
  {
   "cell_type": "markdown",
   "id": "0ef2bba0-2acf-42fd-9c4b-c7b528041769",
   "metadata": {},
   "source": [
    "***\n",
    "데이터 구조 변경하기  \n",
    "28 x 28 픽셀의  단색 이미지이므로 데이터의 형태를 28 x 28 x 1로 맞춰준다.\n",
    "***"
   ]
  },
  {
   "cell_type": "code",
   "execution_count": 6,
   "id": "04f47d6e-5493-4d30-a24c-b791dd12508b",
   "metadata": {},
   "outputs": [
    {
     "name": "stdout",
     "output_type": "stream",
     "text": [
      "x_train.shape -> (50000, 28, 28, 1)\n",
      "x_val.shape -> (10000, 28, 28, 1)\n",
      "x_test.shape -> (10000, 28, 28, 1)\n"
     ]
    }
   ],
   "source": [
    "# CNN 모델에 입력하기 위해 dataset을 생성한다.\n",
    "x_train = np.reshape(x_train, [50000, 28, 28, 1])\n",
    "print('x_train.shape -> {}'.format (x_train.shape))\n",
    "x_val = x_val.reshape(10000, 28, 28, 1)\n",
    "print('x_val.shape -> {}'.format (x_val.shape))\n",
    "x_test = x_test.reshape(-1, 28, 28, 1)\n",
    "print('x_test.shape -> {}'.format (x_test.shape))\n"
   ]
  },
  {
   "cell_type": "markdown",
   "id": "e901b0d2-3ccc-434f-8def-3ef4c6c711c2",
   "metadata": {},
   "source": [
    "***\n",
    "데이터 정규화\n",
    "***\n",
    "데이터 정규화는 학습 시간을 단축하고 더 나은 성능을 발휘하도록 도와준다.  \n",
    "MNIST 데이터의 모든 값은 0부터 255사이의 범위 안에 있으므로 255로 나눠줌으로써 모든 값을 0 - 1 사이의 값으로 정규화한다. "
   ]
  },
  {
   "cell_type": "code",
   "execution_count": 7,
   "id": "abedf008-e989-47e2-9352-e5fc1b04a016",
   "metadata": {},
   "outputs": [],
   "source": [
    "x_train = x_train.astype(np.float32)\n",
    "x_train /= 255\n",
    "x_val = x_val.astype(np.float32)\n",
    "x_val /= 255\n",
    "x_test = x_test.astype(np.float32)\n",
    "x_test /= 255"
   ]
  },
  {
   "cell_type": "markdown",
   "id": "9d322640-e236-4b85-b277-418388be1e8a",
   "metadata": {},
   "source": [
    "***\n",
    "손실 함수에서 크로스 엔트로피를 계산하기위해 레이블을 원-핫 인코딩으로 변경한다.\n",
    "***\n"
   ]
  },
  {
   "cell_type": "code",
   "execution_count": 8,
   "id": "71be8330-cf75-45e4-aa87-a23673db0f5e",
   "metadata": {},
   "outputs": [],
   "source": [
    "y_train = tf.keras.utils.to_categorical(y_train, num_classes=10) #학습데이터의 레이블에 원-핫 인코딩을 적용한다.\n",
    "y_val = tf.keras.utils.to_categorical(y_val, num_classes=10) #검증데이터의 레이블에 원-핫 인코딩을 적용한다.\n",
    "y_test = tf.keras.utils.to_categorical(y_test, num_classes=10) #테스트데이터의 레이블에 원-핫 인코딩을 적용한다."
   ]
  },
  {
   "cell_type": "markdown",
   "id": "4b9b64b6-5b62-4508-8f2e-9f25e715e6e5",
   "metadata": {},
   "source": [
    "***\n",
    "tensorflow로 CNN 구현하기\n",
    "***\n",
    "<img src='./CNN (8).png' width=\"700px\">"
   ]
  },
  {
   "cell_type": "code",
   "execution_count": 9,
   "id": "ea9dd41f-39f9-49a3-8f44-7c3538c4f27f",
   "metadata": {},
   "outputs": [],
   "source": [
    "# MNIST 데이터 형태 그대로 28 x 28의 포맷을 입력데이터로 사용하고, 레이블은 0에서 9사이의 숫자이다.\n",
    "x = tf.placeholder(dtype=tf.float32, shape=(None, 28, 28, 1)) #학습 데이터(x_train)를 기억할 placeholder를 선언한다.\n",
    "y = tf.placeholder(dtype=tf.float32, shape=(None, 10)) #학습 데이터의 레이블(y_train)을 기억할 placeholder를 선언한다."
   ]
  },
  {
   "cell_type": "markdown",
   "id": "8d7e0ecf-f782-41e7-b990-6500494044b6",
   "metadata": {},
   "source": [
    "***\n",
    "파라미터(가중치, 바이어스)의 초기값을 설정한다.\n",
    "***"
   ]
  },
  {
   "cell_type": "code",
   "execution_count": 10,
   "id": "50051eae-99e8-43f4-abaf-e54462f13301",
   "metadata": {},
   "outputs": [],
   "source": [
    "import matplotlib.pyplot as plt"
   ]
  },
  {
   "cell_type": "code",
   "execution_count": 11,
   "id": "17d87263-6e11-433a-917d-e93446c92229",
   "metadata": {},
   "outputs": [],
   "source": [
    "#random_normal()와 truncated_normal() 메소드는 매우 비슷하게 작동하지만 큰 차이가 있다.\n",
    "# 두 메소드 모두 정규 분포에 따른 랜덤한 값을 가져오지만,\n",
    "# 두 메소드의 가장 큰 차이점은 truncated_normal() 메소는 너무 작거나 너무 큰 값이 아닌 값으로 랜덤하게 가져온다.\n",
    "# 머신러닝이나 딥러닝 작업 중 너무 큰 기울기(기울기 폭주)값이나 너무 작은 기울기(기울기 소멸) 값이 들어오면 작동을 멈춰버리는 현상이 발생되는데\n",
    "# 이를 해결하기 위한 방법으로 너무 크거나 너무 작은 값을 랜덤값으로 가져오지 않는 truncated_normal() 메소드를 사용해 난수를 발생시켜 사용한다.\n",
    "n = 100000\n",
    "A = tf.random_normal((n,))\n",
    "B = tf.truncated_normal((n,), )"
   ]
  },
  {
   "cell_type": "code",
   "execution_count": 12,
   "id": "c171d122-723d-49ee-b952-17df0f3db584",
   "metadata": {},
   "outputs": [
    {
     "data": {
      "image/png": "[encoded data removed]",
      "text/plain": [
       "<Figure size 1000x500 with 1 Axes>"
      ]
     },
     "metadata": {},
     "output_type": "display_data"
    },
    {
     "data": {
      "image/png": "[encoded data removed]",
      "text/plain": [
       "<Figure size 1000x500 with 1 Axes>"
      ]
     },
     "metadata": {},
     "output_type": "display_data"
    }
   ],
   "source": [
    "with tf.Session() as sess:\n",
    "     a = sess.run(A)\n",
    "     plt.figure(figsize=[10, 5])\n",
    "     plt.hist(a, bins=1000, range=(-4.5, 4.5), color='black')\n",
    "     b = sess.run(B)\n",
    "     plt.figure(figsize=[10, 5])\n",
    "     plt.hist(b, bins=1000, range=(-4.5, 4.5), color='black')\n",
    "     plt.show()"
   ]
  },
  {
   "cell_type": "code",
   "execution_count": 13,
   "id": "38c7a970-49dd-4a10-bedc-57b6b014555c",
   "metadata": {
    "tags": []
   },
   "outputs": [],
   "source": [
    "# truncated_normal() 메소드는 0에서 거리가 아주 먼 값이 설정되지 않게 도와준다.\n",
    "# 0에서 거리가 먼 값을 제외시키는 이유는 소프트 맥스 안의 시그모이드 함수의 특성 때문인데 \n",
    "# 시그모이드 함수같은 경우 입력값이 매우 크거나 작으면 그 미분값이 0과 가까워져서 경사 하강법으로 파라미터를 변경하기 어려워진다.\n",
    "\n",
    "#가중치를 만들어 리턴하는 함수\n",
    "def weight_variable(shape) :\n",
    "     initial = tf.truncated_normal(shape, stddev=0.1) #stddev 속성으로 난수가 발생되는 범위를 지정할 수 있다.\n",
    "     return tf.Variable(initial)\n",
    "#------- def weight\n",
    "\n",
    "# 바이어스를 만들어 리턴하는 함수\n",
    "def bias_variable (shape):\n",
    "     initial = tf.constant(0.1, shape=shape)\n",
    "     return tf.Variable(initial)\n",
    "#------- def bias"
   ]
  },
  {
   "cell_type": "code",
   "execution_count": 14,
   "id": "d12ca6ce-a625-41eb-ad1d-e612b605037b",
   "metadata": {},
   "outputs": [
    {
     "name": "stdout",
     "output_type": "stream",
     "text": [
      "[[ 0.02390317]\n",
      " [-0.0346827 ]] [-0.14668432 -0.0670021 ]\n"
     ]
    }
   ],
   "source": [
    "with tf.Session() as sess:\n",
    "     w = weight_variable((2, 1))\n",
    "     b = weight_variable((2,))\n",
    "     sess.run(tf.global_variables_initializer())\n",
    "     print(sess.run(w), sess.run(b))"
   ]
  },
  {
   "cell_type": "code",
   "execution_count": 15,
   "id": "06d18418-bfd9-4bb3-9b54-8814effb4f19",
   "metadata": {},
   "outputs": [],
   "source": [
    "# 필터를 적용할 이미지 데이터와 필터를 넘겨받아 Convolution 레이어를 만들어 리턴하는 함수\n",
    "# conv2d(필터를 적용할 이미지 데이터, 필터, strides, padding) 메소드로 이미지 데티어에 필터를 스트라이드만큼 적용한다.\n",
    "# strides : 필터가 움직이는 간격으로 첫번째 값과 네번째 값은 통상적으로 1을 사용하고, 두번째 값은 가로 스트라이드 값, 세번째 값은 세로 스트라이드 값을 입력한다.\n",
    "# padding : 입력 데이터 주위를 무의한 값(0)으로 감싸서 필터를 거쳐 나온 피쳐맵의 크기가 작아지는 것을 방지하고, 과대 적합이 발생하는 것을 방지할 수 있다.\n",
    "#           -> SAME : tensorflow가 자동으로 패딩을 적용해 입력값과 출력값을 크기를 같게한다. 패딩 적용\n",
    "#           -> VALID : tensorflow가 자동으로 패딩을 적용하지 않아 입력값보다 출력값의 크기가 작아진다. 패딩 미적용\n",
    "def conv2D(x, W_conv):\n",
    "     return tf.nn.conv2d(x, W_conv, strides=[1, 1, 1, 1] ,padding='SAME')\n",
    "\n",
    "# 맥스 풀링을 적용할 데이터를 넘겨받아 맥스 풀링을 실행해서 리턴하는 함수\n",
    "# max_pool(활성화 함수로 ReLu를 적용하고 맥스 풀링을 적용할 데이터, ksize, strides, padding) 메소드로 맥스 풀링을 적용한다.\n",
    "# ksize : 맥스 풀링의 크기로 [1, 2, 2, 1]는 2 x 2 크기로 묶어서  맥스 풀링을 실행하라는 의미이다.\n",
    "# strides, padding은 conv2d() 메소드의 속성과 의미가 같다.\n",
    "# ksize, strides는 모두 필터의 크기를 의미하므로 동일한 값으로 지정해야 한다.\n",
    "def max_pool_2x2(h_conv):\n",
    "     return tf.nn.max_pool(h_conv, ksize=[1, 2, 2, 1], strides=[1, 2, 2, 1], padding='SAME')\n"
   ]
  },
  {
   "cell_type": "code",
   "execution_count": 16,
   "id": "19f690d1-ef3a-4168-ade1-65f725c3ef81",
   "metadata": {},
   "outputs": [],
   "source": [
    "# 첫번째 Convolution 레이어는 16개의 필터(출력)를 가지고 있고, 필터 크기는 5 x 5 이고 바이어스는 필터의 갯수만큼 만든다.\n",
    "# [필터의 가로크기, 필터의 세로크기, 입력의 갯수, 필터(출력)의 갯수]\n",
    "W_conv1 =weight_variable([5, 5, 1, 16]) #첫번째 Convolution 레이어의 필터 정의\n",
    "b_conv1 = bias_variable((16,))# 첫번째 Convolution 레이어의 바이어스 정의 \n",
    "\n",
    "#활성화 함수 ReLu를 사용한다.\n",
    "h_conv1 = tf.nn.relu(conv2D(x, W_conv1) + b_conv1)\n",
    "\n",
    "# 첫번째 Convolution 레이어의 출력에 맥스 풀링 레이어를 적용해서 액티베이션 맵의 크기를 줄인다.\n",
    "# 액티베이션 맵의 크기를 줄여줌으로써 파라미터가 줄어들어 모델의 크기가 작아지고 과대 적합의 위험도 감소시켜준다.\n",
    "h_pool1 = max_pool_2x2(h_conv1)\n",
    "\n",
    "# 맥스 폴링 레이어에 의해 액티베이션 맵의 크기가 14 x 14가 되었고, 이 값은 다음에 이어지는 두 번째 Convolution 레이어의 입력으로 들어간다."
   ]
  },
  {
   "cell_type": "code",
   "execution_count": 17,
   "id": "3cde5616-d645-4d5a-900a-8cb57cc45b8e",
   "metadata": {},
   "outputs": [],
   "source": [
    "# 두번째 Convolution 레이어는 32개의 필터(출력)를 가지고 있고, 필터 크기는 5 x 5 이고 바이어스는 필터의 갯수만큼 만든다.\n",
    "W_conv2 =weight_variable([5, 5, 16, 32]) #두번째 Convolution 레이어의 필터 정의\n",
    "b_conv2 = bias_variable((32,))# 두번째 Convolution 레이어의 바이어스 정의 \n",
    "h_conv2 = tf.nn.relu(conv2D(h_pool1, W_conv2) + b_conv2)\n",
    "h_pool2 = max_pool_2x2(h_conv2)\n",
    "\n",
    "# 맥스 풀링 레이어에 의해 액티베이션 맵의 크기가  7 x 7이 되었고 이 값은 FC(Fully Connected Layer)의 입력으로 들어간다.\n"
   ]
  },
  {
   "cell_type": "code",
   "execution_count": 18,
   "id": "e51bc6f3-3b17-4438-afe8-f11ecb347456",
   "metadata": {},
   "outputs": [],
   "source": [
    "# FC(Fully Connected Layer)\n",
    "# FC영역에는 FC1, FC2 총 2개의 히든 레이어가 존재하고 FC1은 128개의 노드, FC2는 10개의 노드가 존재한다.\n",
    "# FC2에 10개의 노드가 존재하는 이유는 FC2에 10개 노드의 값들을 소프트 맥스에 입력해 각 노드별 확률을 구하기 위함이다.\n",
    "# 각 노드의 숫자는 0부터 9를 의미하며, 이 예측값은 크로스 엔트로피를 통해서 레이블과의 차이를 계산하는데 사용한다.\n",
    "\n",
    "# FC는 Convolution 레이어를 통해 추출된 이미지의 특징을 입려받아 0부터 9사이의 숫자 중 하나로 이미지를 분류한다.\n",
    "W_fc1 = weight_variable([7 * 7 * 32, 128])\n",
    "B_fc1 = bias_variable((128,))\n",
    "\n",
    "# 두번째 Convolution 레이어의 맥스 풀링 결괄르 행과 열을 변경해서 가중치와 행렬의 곱을 이용해 계산하고,\n",
    "# 활성화 함수로 ReLu를 사용한다.\n",
    "h_pool_flat = tf.reshape ( h_pool2, (-1, 7 * 7 * 32) )\n",
    "h_fc1 = tf.nn.relu(tf.matmul(h_pool_flat, W_fc1) + B_fc1)\n",
    "\n",
    "W_fc2 = weight_variable([128, 10])\n",
    "B_fc2 = bias_variable((10,))\n",
    "y_conv = tf.matmul(h_fc1, W_fc2) + B_fc2"
   ]
  },
  {
   "cell_type": "markdown",
   "id": "df20e7fa-c89c-4c0d-a54e-cc1b69434b00",
   "metadata": {},
   "source": [
    "***\n",
    "손실 함수 정의\n",
    "***"
   ]
  },
  {
   "cell_type": "code",
   "execution_count": 19,
   "id": "e5e6ad14-48c2-40d7-a3e1-f6cb81b0bb7c",
   "metadata": {},
   "outputs": [],
   "source": [
    "# 모델 정의가 끝났으므로 모델을 학습시키기 위해 손실 함수를 정의한다. 손실 함수로는 크로스 엔트로피를 사용한다.\n",
    "# 레이블과 예측값(y_conv)의 크로스 엔트로피를 설정한다.\n",
    "cross_entropy = tf.reduce_mean( tf.nn.softmax_cross_entropy_with_logits_v2(logits=y_conv, labels=y) )\n",
    "\n",
    "\n",
    "# Adam 옵티마이저를 사용해 모델을 최적화한다.\n",
    "train = tf.train.AdamOptimizer(0.01).minimize(cross_entropy)"
   ]
  },
  {
   "cell_type": "markdown",
   "id": "85359587-f69e-494e-b7e0-3063c8916169",
   "metadata": {},
   "source": [
    "***\n",
    "정확도 계산\n",
    "***"
   ]
  },
  {
   "cell_type": "code",
   "execution_count": 20,
   "id": "93219f5f-57a1-4f54-a9b4-184c172128c8",
   "metadata": {},
   "outputs": [],
   "source": [
    "predict = tf.equal(tf.argmax(y_conv, 1), tf.argmax(y, 1))\n",
    "accuracy = tf.reduce_mean(tf.cast(predict, dtype=tf.float32))"
   ]
  },
  {
   "cell_type": "markdown",
   "id": "4e4e6525-36b4-4321-9a05-f1ab7065894e",
   "metadata": {},
   "source": [
    "***\n",
    "학습시킨다.\n",
    "***"
   ]
  },
  {
   "cell_type": "code",
   "execution_count": 21,
   "id": "8d03d754-0bcc-4724-862a-a714e3d1b859",
   "metadata": {},
   "outputs": [
    {
     "name": "stdout",
     "output_type": "stream",
     "text": [
      "epoch -> 1, step ->  10, 학습 정확도 ->  0.1122\n",
      "epoch -> 1, step ->  20, 학습 정확도 ->  0.1071\n",
      "epoch -> 1, step ->  30, 학습 정확도 ->  0.1125\n",
      "epoch -> 1, step ->  40, 학습 정확도 ->  0.1140\n",
      "epoch -> 1, step ->  50, 학습 정확도 ->  0.1139\n",
      "epoch -> 1, step ->  60, 학습 정확도 ->  0.1141\n",
      "epoch -> 1, step ->  70, 학습 정확도 ->  0.1143\n",
      "epoch -> 1, step ->  80, 학습 정확도 ->  0.1140\n",
      "epoch -> 1, step ->  90, 학습 정확도 ->  0.1139\n",
      "epoch -> 1, step -> 100, 학습 정확도 ->  0.1135\n",
      "epoch -> 1, 검증 정확도 ->  0.1064\n",
      "****************************************************************************************************\n",
      "epoch -> 2, step ->  10, 학습 정확도 ->  0.1102\n",
      "epoch -> 2, step ->  20, 학습 정확도 ->  0.1125\n",
      "epoch -> 2, step ->  30, 학습 정확도 ->  0.1125\n",
      "epoch -> 2, step ->  40, 학습 정확도 ->  0.1140\n",
      "epoch -> 2, step ->  50, 학습 정확도 ->  0.1139\n",
      "epoch -> 2, step ->  60, 학습 정확도 ->  0.1141\n",
      "epoch -> 2, step ->  70, 학습 정확도 ->  0.1143\n",
      "epoch -> 2, step ->  80, 학습 정확도 ->  0.1140\n",
      "epoch -> 2, step ->  90, 학습 정확도 ->  0.1139\n",
      "epoch -> 2, step -> 100, 학습 정확도 ->  0.1135\n",
      "epoch -> 2, 검증 정확도 ->  0.1064\n",
      "****************************************************************************************************\n",
      "epoch -> 3, step ->  10, 학습 정확도 ->  0.1102\n",
      "epoch -> 3, step ->  20, 학습 정확도 ->  0.1125\n",
      "epoch -> 3, step ->  30, 학습 정확도 ->  0.1125\n",
      "epoch -> 3, step ->  40, 학습 정확도 ->  0.1140\n",
      "epoch -> 3, step ->  50, 학습 정확도 ->  0.1139\n",
      "epoch -> 3, step ->  60, 학습 정확도 ->  0.1141\n",
      "epoch -> 3, step ->  70, 학습 정확도 ->  0.1143\n",
      "epoch -> 3, step ->  80, 학습 정확도 ->  0.1140\n",
      "epoch -> 3, step ->  90, 학습 정확도 ->  0.1139\n",
      "epoch -> 3, step -> 100, 학습 정확도 ->  0.1135\n",
      "epoch -> 3, 검증 정확도 ->  0.1064\n",
      "****************************************************************************************************\n",
      "최종 모델 테스트 정확도 ->  0.1135\n"
     ]
    }
   ],
   "source": [
    "# 미니 배치를 사용해서 모델을 최적화한다.\n",
    "# 하이퍼 파라미터 설정\n",
    "epoch_cnt = 3\n",
    "batch_size = 500\n",
    "iteration = len(x_train) // batch_size\n",
    "\n",
    "# 학습 시작\n",
    "with tf.Session() as sess :\n",
    "     tf.set_random_seed(35)\n",
    "     sess.run(tf.global_variables_initializer())\n",
    "     \n",
    "     for epoch in range(epoch_cnt):\n",
    "          start = 0\n",
    "          end = batch_size\n",
    "          \n",
    "          for i in range(iteration):\n",
    "               if (i + 1) % 10 == 0:\n",
    "                    train_acc = accuracy.eval(feed_dict={ x : x_train[start:end], y : y_train[start:end]})\n",
    "                    print('epoch -> {}, step -> {:3d}, 학습 정확도 -> {:7.4f}'.format((epoch + 1), ( i + 1), train_acc))\n",
    "          \n",
    "          \n",
    "               # Adam 옵티마이저를 사용한 최적화 함수를 실행한다.\n",
    "               train.run(feed_dict={ x : x_train[start:end], y : y_train[start:end]})\n",
    "               start += 1\n",
    "               end += batch_size\n",
    "          #----- for i\n",
    "          \n",
    "          # 검증 데이터로 모델을 검증한다.\n",
    "          val_accuracy = accuracy.eval(feed_dict={ x : x_val, y : y_val})\n",
    "          print('epoch -> {}, 검증 정확도 -> {:7.4f}'.format((epoch + 1), val_accuracy))\n",
    "          print('*' * 100)\n",
    "     #------ for epoch\n",
    "     # 모델을 테스트 데이터로 테스트한 정확도를 계산해서 출력한다.\n",
    "     test_accuracy = accuracy.eval(feed_dict={ x : x_test, y : y_test})\n",
    "     print('최종 모델 테스트 정확도 -> {:7.4f}'.format( test_accuracy))\n",
    "#--------- with session"
   ]
  },
  {
   "cell_type": "code",
   "execution_count": null,
   "id": "f8456037-55c7-442c-b3b5-8b7f65bed350",
   "metadata": {},
   "outputs": [],
   "source": []
  },
  {
   "cell_type": "code",
   "execution_count": null,
   "id": "1773427e-ecba-4e98-bbf4-ef0a91d2fbc0",
   "metadata": {},
   "outputs": [],
   "source": []
  },
  {
   "cell_type": "code",
   "execution_count": null,
   "id": "7f4e976a-ab37-43a8-aeb0-a78c6515a635",
   "metadata": {},
   "outputs": [],
   "source": []
  },
  {
   "cell_type": "code",
   "execution_count": null,
   "id": "8a24d07a-58a4-493a-9e8e-8634125fba42",
   "metadata": {},
   "outputs": [],
   "source": []
  },
  {
   "cell_type": "code",
   "execution_count": null,
   "id": "f9fafd3e-bb4c-45c9-9d00-1330e9456129",
   "metadata": {},
   "outputs": [],
   "source": []
  },
  {
   "cell_type": "code",
   "execution_count": null,
   "id": "7f97f283-79a9-4ac1-af46-4edcbb453e03",
   "metadata": {},
   "outputs": [],
   "source": []
  },
  {
   "cell_type": "code",
   "execution_count": null,
   "id": "39c9f5d6-c9f0-41c0-bf37-e3ce50fdb181",
   "metadata": {},
   "outputs": [],
   "source": []
  },
  {
   "cell_type": "code",
   "execution_count": null,
   "id": "9e81a7e0-198f-4e18-8915-38c3c8c5fecb",
   "metadata": {},
   "outputs": [],
   "source": []
  },
  {
   "cell_type": "code",
   "execution_count": null,
   "id": "80ec6b42-161a-423b-8712-5e6d1140d92e",
   "metadata": {},
   "outputs": [],
   "source": []
  },
  {
   "cell_type": "code",
   "execution_count": null,
   "id": "31104640-04db-41b3-b669-07574a18c781",
   "metadata": {},
   "outputs": [],
   "source": []
  },
  {
   "cell_type": "code",
   "execution_count": null,
   "id": "3839a17d-7a10-4b40-98d3-98b060d78342",
   "metadata": {},
   "outputs": [],
   "source": []
  },
  {
   "cell_type": "code",
   "execution_count": null,
   "id": "2b073fd4-e3c5-45f6-b6db-72af2787322f",
   "metadata": {},
   "outputs": [],
   "source": []
  },
  {
   "cell_type": "code",
   "execution_count": null,
   "id": "d45d93d1-e33f-4891-99ac-80b63ed8307a",
   "metadata": {},
   "outputs": [],
   "source": []
  },
  {
   "cell_type": "code",
   "execution_count": null,
   "id": "4d1be7d2-35e5-4a5f-a67e-a449cdeaa377",
   "metadata": {},
   "outputs": [],
   "source": []
  },
  {
   "cell_type": "code",
   "execution_count": null,
   "id": "6c52331c-eb24-42e2-82aa-7ac39907786c",
   "metadata": {},
   "outputs": [],
   "source": []
  }
 ],
 "metadata": {
  "kernelspec": {
   "display_name": "Python [conda env:.conda-py3.7] *",
   "language": "python",
   "name": "conda-env-.conda-py3.7-py"
  },
  "language_info": {
   "codemirror_mode": {
    "name": "ipython",
    "version": 3
   },
   "file_extension": ".py",
   "mimetype": "text/x-python",
   "name": "python",
   "nbconvert_exporter": "python",
   "pygments_lexer": "ipython3",
   "version": "3.7.1"
  }
 },
 "nbformat": 4,
 "nbformat_minor": 5
}
