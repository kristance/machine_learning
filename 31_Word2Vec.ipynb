{
 "cells": [
  {
   "cell_type": "code",
   "execution_count": 1,
   "id": "942bd870-8298-4233-b1a3-4010d5a8abfc",
   "metadata": {
    "tags": []
   },
   "outputs": [
    {
     "name": "stdout",
     "output_type": "stream",
     "text": [
      "WARNING:tensorflow:From C:\\Users\\tj\\.conda\\envs\\py3.7\\lib\\site-packages\\tensorflow\\python\\compat\\v2_compat.py:107: disable_resource_variables (from tensorflow.python.ops.variable_scope) is deprecated and will be removed in a future version.\n",
      "Instructions for updating:\n",
      "non-resource variables are not supported in the long term\n"
     ]
    }
   ],
   "source": [
    "import warnings\n",
    "warnings.filterwarnings(action='ignore')\n",
    "%config Completer.use_jedi = False\n",
    "import tensorflow.compat.v1 as tf\n",
    "tf.disable_v2_behavior()\n",
    "import numpy as np\n",
    "import pandas as pd"
   ]
  },
  {
   "cell_type": "markdown",
   "id": "53ba9bd5-e56f-4459-8b5a-f9e5401817eb",
   "metadata": {},
   "source": [
    "***\n",
    "Word2Vec는 Word To Vector의 줄임말이다.\n",
    "\n",
    "딥러닝 모델은 입력값으로 숫자를 받기때문에 자연어 처리 분야에서 단어(word)를 어떻게 수치(vector)로 변환하느냐가 딥러닝 모델의 성능을 결정하는 중요한 요소가 된다.  \n",
    "Word2Vec의 장점은 의미가 비슷한 단어는 벡터 공간에서도 서로 가까운 위치에 존재하게 되는 비지도 학습으로 말뭉치 데이터만 있으면 손쉽게 Word2Vec를 구현할 수 있다.  \n",
    "\n",
    "***"
   ]
  },
  {
   "cell_type": "markdown",
   "id": "6c38db18-6bc3-4e69-b632-e44c1000129c",
   "metadata": {},
   "source": [
    "***\n",
    "데이터 획득\n",
    "***"
   ]
  },
  {
   "cell_type": "code",
   "execution_count": 2,
   "id": "f5c4d76a-d952-4421-b3c2-3d71b40fb563",
   "metadata": {
    "tags": []
   },
   "outputs": [
    {
     "name": "stdout",
     "output_type": "stream",
     "text": [
      "['king is a strong man', 'queen is a wise woman', 'boy is a young man', 'girl is a young woman', 'prince is a young king', 'princess is a young queen', 'man is strong', 'woman is pretty', 'prince is a boy will be king', 'princess is a girl will be queen']\n"
     ]
    }
   ],
   "source": [
    "corpus = ['king is a strong man', \n",
    "          'queen is a wise woman', \n",
    "          'boy is a young man', \n",
    "          'girl is a young woman',\n",
    "          'prince is a young king', \n",
    "          'princess is a young queen', \n",
    "          'man is strong', \n",
    "          'woman is pretty',\n",
    "          'prince is a boy will be king', \n",
    "          'princess is a girl will be queen']\n",
    "print(corpus)"
   ]
  },
  {
   "cell_type": "markdown",
   "id": "fe3644c4-01d4-4885-8499-1f121f8829f6",
   "metadata": {},
   "source": [
    "***\n",
    "데이터 전처리 - 불용어(stopwords) 제거하기  \n",
    "불용어란 학습에 도움이 되지 않고 빈번하게 발생하는 단어르 의미하며 효율적인 학습을 위해서 불용어를 데이터에서 제거한다.  \n",
    "***"
   ]
  },
  {
   "cell_type": "code",
   "execution_count": 3,
   "id": "6d75103b-43e4-4bde-87c1-00b1b20f9017",
   "metadata": {
    "tags": []
   },
   "outputs": [],
   "source": [
    "# 불용어 제거 함수\n",
    "def remove_stop_words(corpus):\n",
    "     stop_words = ['is', 'a', 'will', 'be'] #불용어 정의\n",
    "     results = [] #불용어를 제거한 결과를 저장해서 리턴시킬 빈 리스트를 선언한다.\n",
    "     # 불용어를 제거할 문장을 한 줄씩 읽어가며 반복한다.\n",
    "     for text in corpus:\n",
    "          #print(text)\n",
    "          #불용어를 제거하기 위해서 공백을 경계로 문장을 단어 단위로 나눈다.\n",
    "          temp = text.split()\n",
    "          #print(temp)\n",
    "          for stop in stop_words:\n",
    "               #불용어를 제거할 문장에 불용어가 없을 때까지 반복한다\n",
    "               while stop in temp:\n",
    "                     temp.remove(stop)\n",
    "               #---- while\n",
    "          #--- for stop\n",
    "          #print(temp)\n",
    "          # 불용어 갯수만큼 반복하며 문장에서 불용어를 제거한다.\n",
    "          # 불용어가 제거된 단어 사이에 공백을 넣어서 불용어가 제거된 문장을 만든다.\n",
    "          #print(' '.join(temp))\n",
    "          results.append(' '.join(temp))\n",
    "     #----- for text\n",
    "     return results;"
   ]
  },
  {
   "cell_type": "code",
   "execution_count": 4,
   "id": "3f1353c6-a027-498d-8634-920345089d23",
   "metadata": {
    "tags": []
   },
   "outputs": [
    {
     "name": "stdout",
     "output_type": "stream",
     "text": [
      "['king strong man', 'queen wise woman', 'boy young man', 'girl young woman', 'prince young king', 'princess young queen', 'man strong', 'woman pretty', 'prince boy king', 'princess girl queen']\n"
     ]
    }
   ],
   "source": [
    "remove_stop_words(corpus)\n",
    "corpus = remove_stop_words(corpus)\n",
    "print(corpus)"
   ]
  },
  {
   "cell_type": "markdown",
   "id": "72b430b9-29bf-4266-a8a4-8f5ef4b09622",
   "metadata": {},
   "source": [
    "***\n",
    "데이터 전처리 -> 불용어를 제거한 단어의 중복을 제거한다.\n",
    "***"
   ]
  },
  {
   "cell_type": "code",
   "execution_count": 5,
   "id": "1f6ab4a3-4e3a-4703-b1d7-69a74f23cc6e",
   "metadata": {
    "tags": []
   },
   "outputs": [
    {
     "name": "stdout",
     "output_type": "stream",
     "text": [
      "['king', 'strong', 'man', 'queen', 'wise', 'woman', 'boy', 'young', 'man', 'girl', 'young', 'woman', 'prince', 'young', 'king', 'princess', 'young', 'queen', 'man', 'strong', 'woman', 'pretty', 'prince', 'boy', 'king', 'princess', 'girl', 'queen']\n"
     ]
    }
   ],
   "source": [
    "# 불용어를 제거한 후 데이터에 존재하는 단어들은 다음과 같다.\n",
    "words = []\n",
    "for text in corpus:\n",
    "     for word in text.split():\n",
    "          words.append(word)\n",
    "print(words) # 중복되는 단어가 존재한다."
   ]
  },
  {
   "cell_type": "code",
   "execution_count": 6,
   "id": "200b2f10-3e75-4bdf-a9f8-559f82803966",
   "metadata": {
    "tags": []
   },
   "outputs": [
    {
     "name": "stdout",
     "output_type": "stream",
     "text": [
      "{'man', 'strong', 'pretty', 'wise', 'woman', 'girl', 'king', 'queen', 'prince', 'princess', 'young', 'boy'}\n"
     ]
    }
   ],
   "source": [
    "words = set(words)\n",
    "print(words) #중복되는 단어가 존재하지 않는다."
   ]
  },
  {
   "cell_type": "markdown",
   "id": "c76f040f-c9fa-482b-8970-a26194bea562",
   "metadata": {},
   "source": [
    "***\n",
    "데이터 전처리 -> 단어별 인덱스 매핑\n",
    "***"
   ]
  },
  {
   "cell_type": "code",
   "execution_count": 7,
   "id": "d7c65c15-33c1-4f16-a5e7-d19284b910c9",
   "metadata": {
    "tags": []
   },
   "outputs": [
    {
     "name": "stdout",
     "output_type": "stream",
     "text": [
      "0 man\n",
      "1 strong\n",
      "2 pretty\n",
      "3 wise\n",
      "4 woman\n",
      "5 girl\n",
      "6 king\n",
      "7 queen\n",
      "8 prince\n",
      "9 princess\n",
      "10 young\n",
      "11 boy\n"
     ]
    }
   ],
   "source": [
    "for index, word in enumerate(words):\n",
    "     print(index, word)"
   ]
  },
  {
   "cell_type": "code",
   "execution_count": 8,
   "id": "7aac5738-abf7-4586-a27b-78ba84ce7ac0",
   "metadata": {
    "tags": []
   },
   "outputs": [
    {
     "name": "stdout",
     "output_type": "stream",
     "text": [
      "{'man': 0, 'strong': 1, 'pretty': 2, 'wise': 3, 'woman': 4, 'girl': 5, 'king': 6, 'queen': 7, 'prince': 8, 'princess': 9, 'young': 10, 'boy': 11}\n"
     ]
    }
   ],
   "source": [
    "#  word를 key로 하고 index를 value로 하는 딕셔너리를 만든다.\n",
    "word2dict = {}\n",
    "for index, word in enumerate(words):\n",
    "     word2dict[word] = index\n",
    "print(word2dict)"
   ]
  },
  {
   "cell_type": "markdown",
   "id": "b25066ec-c163-484a-bb92-df2e3d5678d6",
   "metadata": {},
   "source": [
    "***\n",
    "skip gram 방식으로 각 단어별 레이블을 생성한다.\n",
    "***"
   ]
  },
  {
   "cell_type": "markdown",
   "id": "4bf61d03-ad31-4605-a114-38306dee61be",
   "metadata": {},
   "source": [
    "<img src=\"Skip_Gram (1).png\" width=\"800px\">"
   ]
  },
  {
   "cell_type": "markdown",
   "id": "3535a259-4d1e-4e5e-9c32-53f4875a589b",
   "metadata": {},
   "source": [
    "<img src=\"Skip_Gram (2).png\" width=\"800px\">"
   ]
  },
  {
   "cell_type": "markdown",
   "id": "9ce6e891-1306-40f8-af62-e2b1616118f2",
   "metadata": {},
   "source": [
    "<img src=\"Skip_Gram (3).png\" width=\"800px\" >"
   ]
  },
  {
   "cell_type": "markdown",
   "id": "943f180c-8dbe-4b5c-a992-8f970a301e80",
   "metadata": {},
   "source": [
    "<img src=\"Skip_Gram (4).png\" width=\"800px\">"
   ]
  },
  {
   "cell_type": "markdown",
   "id": "ecbc1c1a-457d-4f0c-9144-92be84a5d0eb",
   "metadata": {},
   "source": [
    "<img src=\"Skip_Gram (5).png\" width=\"800px\">"
   ]
  },
  {
   "cell_type": "markdown",
   "id": "b6bd39e9-35ca-427d-9e99-b872594d195d",
   "metadata": {},
   "source": [
    "<img src=\"Skip_Gram (6).png\" width=\"800px\">"
   ]
  },
  {
   "cell_type": "code",
   "execution_count": 9,
   "id": "fd9f2575-9f71-4ffe-97d5-a5cfe71cc76d",
   "metadata": {},
   "outputs": [
    {
     "name": "stdout",
     "output_type": "stream",
     "text": [
      "[['king', 'strong', 'man'], ['queen', 'wise', 'woman'], ['boy', 'young', 'man'], ['girl', 'young', 'woman'], ['prince', 'young', 'king'], ['princess', 'young', 'queen'], ['man', 'strong'], ['woman', 'pretty'], ['prince', 'boy', 'king'], ['princess', 'girl', 'queen']]\n"
     ]
    }
   ],
   "source": [
    "sentences = []\n",
    "for sentence in corpus:\n",
    "     sentences.append(sentence.split())\n",
    "print(sentences)"
   ]
  },
  {
   "cell_type": "code",
   "execution_count": 10,
   "id": "17269de2-ad13-4d0c-9b46-af562f46ae0e",
   "metadata": {},
   "outputs": [],
   "source": [
    "WINDOW_SIZE = 2\n",
    "data = []\n",
    "# 단어별 레이블을 생성할  문장의 갯수만큼 반복하며 레이블을 생성한다.\n",
    "for sentence in sentences:\n",
    "     #print('sentence -> {}'.format(sentence) )\n",
    "     for index, word in enumerate(sentence):\n",
    "        #print('idx -> {}, word -> {}'.format(index, word))\n",
    "        for eiut in sentence[max(index - WINDOW_SIZE, 0): min(index + WINDOW_SIZE, len(sentence)) + 1]:\n",
    "            if word != eiut:\n",
    "                #print('word -> {}, eiut -> {}'.format(word, eiut))\n",
    "                data.append([word, eiut])\n",
    "            #------- if\n",
    "        #------for eiut\n",
    "    #--- for index, word\n",
    "#---- for sentence"
   ]
  },
  {
   "cell_type": "code",
   "execution_count": 11,
   "id": "f61e58c4-b897-4356-b72e-559304512fe2",
   "metadata": {},
   "outputs": [
    {
     "data": {
      "text/html": [
       "<div>\n",
       "<style scoped>\n",
       "    .dataframe tbody tr th:only-of-type {\n",
       "        vertical-align: middle;\n",
       "    }\n",
       "\n",
       "    .dataframe tbody tr th {\n",
       "        vertical-align: top;\n",
       "    }\n",
       "\n",
       "    .dataframe thead th {\n",
       "        text-align: right;\n",
       "    }\n",
       "</style>\n",
       "<table border=\"1\" class=\"dataframe\">\n",
       "  <thead>\n",
       "    <tr style=\"text-align: right;\">\n",
       "      <th></th>\n",
       "      <th>input</th>\n",
       "      <th>label</th>\n",
       "    </tr>\n",
       "  </thead>\n",
       "  <tbody>\n",
       "    <tr>\n",
       "      <th>0</th>\n",
       "      <td>king</td>\n",
       "      <td>strong</td>\n",
       "    </tr>\n",
       "    <tr>\n",
       "      <th>1</th>\n",
       "      <td>king</td>\n",
       "      <td>man</td>\n",
       "    </tr>\n",
       "    <tr>\n",
       "      <th>2</th>\n",
       "      <td>strong</td>\n",
       "      <td>king</td>\n",
       "    </tr>\n",
       "    <tr>\n",
       "      <th>3</th>\n",
       "      <td>strong</td>\n",
       "      <td>man</td>\n",
       "    </tr>\n",
       "    <tr>\n",
       "      <th>4</th>\n",
       "      <td>man</td>\n",
       "      <td>king</td>\n",
       "    </tr>\n",
       "    <tr>\n",
       "      <th>5</th>\n",
       "      <td>man</td>\n",
       "      <td>strong</td>\n",
       "    </tr>\n",
       "    <tr>\n",
       "      <th>6</th>\n",
       "      <td>queen</td>\n",
       "      <td>wise</td>\n",
       "    </tr>\n",
       "    <tr>\n",
       "      <th>7</th>\n",
       "      <td>queen</td>\n",
       "      <td>woman</td>\n",
       "    </tr>\n",
       "    <tr>\n",
       "      <th>8</th>\n",
       "      <td>wise</td>\n",
       "      <td>queen</td>\n",
       "    </tr>\n",
       "    <tr>\n",
       "      <th>9</th>\n",
       "      <td>wise</td>\n",
       "      <td>woman</td>\n",
       "    </tr>\n",
       "    <tr>\n",
       "      <th>10</th>\n",
       "      <td>woman</td>\n",
       "      <td>queen</td>\n",
       "    </tr>\n",
       "    <tr>\n",
       "      <th>11</th>\n",
       "      <td>woman</td>\n",
       "      <td>wise</td>\n",
       "    </tr>\n",
       "    <tr>\n",
       "      <th>12</th>\n",
       "      <td>boy</td>\n",
       "      <td>young</td>\n",
       "    </tr>\n",
       "    <tr>\n",
       "      <th>13</th>\n",
       "      <td>boy</td>\n",
       "      <td>man</td>\n",
       "    </tr>\n",
       "    <tr>\n",
       "      <th>14</th>\n",
       "      <td>young</td>\n",
       "      <td>boy</td>\n",
       "    </tr>\n",
       "    <tr>\n",
       "      <th>15</th>\n",
       "      <td>young</td>\n",
       "      <td>man</td>\n",
       "    </tr>\n",
       "    <tr>\n",
       "      <th>16</th>\n",
       "      <td>man</td>\n",
       "      <td>boy</td>\n",
       "    </tr>\n",
       "    <tr>\n",
       "      <th>17</th>\n",
       "      <td>man</td>\n",
       "      <td>young</td>\n",
       "    </tr>\n",
       "    <tr>\n",
       "      <th>18</th>\n",
       "      <td>girl</td>\n",
       "      <td>young</td>\n",
       "    </tr>\n",
       "    <tr>\n",
       "      <th>19</th>\n",
       "      <td>girl</td>\n",
       "      <td>woman</td>\n",
       "    </tr>\n",
       "    <tr>\n",
       "      <th>20</th>\n",
       "      <td>young</td>\n",
       "      <td>girl</td>\n",
       "    </tr>\n",
       "    <tr>\n",
       "      <th>21</th>\n",
       "      <td>young</td>\n",
       "      <td>woman</td>\n",
       "    </tr>\n",
       "    <tr>\n",
       "      <th>22</th>\n",
       "      <td>woman</td>\n",
       "      <td>girl</td>\n",
       "    </tr>\n",
       "    <tr>\n",
       "      <th>23</th>\n",
       "      <td>woman</td>\n",
       "      <td>young</td>\n",
       "    </tr>\n",
       "    <tr>\n",
       "      <th>24</th>\n",
       "      <td>prince</td>\n",
       "      <td>young</td>\n",
       "    </tr>\n",
       "    <tr>\n",
       "      <th>25</th>\n",
       "      <td>prince</td>\n",
       "      <td>king</td>\n",
       "    </tr>\n",
       "    <tr>\n",
       "      <th>26</th>\n",
       "      <td>young</td>\n",
       "      <td>prince</td>\n",
       "    </tr>\n",
       "    <tr>\n",
       "      <th>27</th>\n",
       "      <td>young</td>\n",
       "      <td>king</td>\n",
       "    </tr>\n",
       "    <tr>\n",
       "      <th>28</th>\n",
       "      <td>king</td>\n",
       "      <td>prince</td>\n",
       "    </tr>\n",
       "    <tr>\n",
       "      <th>29</th>\n",
       "      <td>king</td>\n",
       "      <td>young</td>\n",
       "    </tr>\n",
       "    <tr>\n",
       "      <th>30</th>\n",
       "      <td>princess</td>\n",
       "      <td>young</td>\n",
       "    </tr>\n",
       "    <tr>\n",
       "      <th>31</th>\n",
       "      <td>princess</td>\n",
       "      <td>queen</td>\n",
       "    </tr>\n",
       "    <tr>\n",
       "      <th>32</th>\n",
       "      <td>young</td>\n",
       "      <td>princess</td>\n",
       "    </tr>\n",
       "    <tr>\n",
       "      <th>33</th>\n",
       "      <td>young</td>\n",
       "      <td>queen</td>\n",
       "    </tr>\n",
       "    <tr>\n",
       "      <th>34</th>\n",
       "      <td>queen</td>\n",
       "      <td>princess</td>\n",
       "    </tr>\n",
       "    <tr>\n",
       "      <th>35</th>\n",
       "      <td>queen</td>\n",
       "      <td>young</td>\n",
       "    </tr>\n",
       "    <tr>\n",
       "      <th>36</th>\n",
       "      <td>man</td>\n",
       "      <td>strong</td>\n",
       "    </tr>\n",
       "    <tr>\n",
       "      <th>37</th>\n",
       "      <td>strong</td>\n",
       "      <td>man</td>\n",
       "    </tr>\n",
       "    <tr>\n",
       "      <th>38</th>\n",
       "      <td>woman</td>\n",
       "      <td>pretty</td>\n",
       "    </tr>\n",
       "    <tr>\n",
       "      <th>39</th>\n",
       "      <td>pretty</td>\n",
       "      <td>woman</td>\n",
       "    </tr>\n",
       "    <tr>\n",
       "      <th>40</th>\n",
       "      <td>prince</td>\n",
       "      <td>boy</td>\n",
       "    </tr>\n",
       "    <tr>\n",
       "      <th>41</th>\n",
       "      <td>prince</td>\n",
       "      <td>king</td>\n",
       "    </tr>\n",
       "    <tr>\n",
       "      <th>42</th>\n",
       "      <td>boy</td>\n",
       "      <td>prince</td>\n",
       "    </tr>\n",
       "    <tr>\n",
       "      <th>43</th>\n",
       "      <td>boy</td>\n",
       "      <td>king</td>\n",
       "    </tr>\n",
       "    <tr>\n",
       "      <th>44</th>\n",
       "      <td>king</td>\n",
       "      <td>prince</td>\n",
       "    </tr>\n",
       "    <tr>\n",
       "      <th>45</th>\n",
       "      <td>king</td>\n",
       "      <td>boy</td>\n",
       "    </tr>\n",
       "    <tr>\n",
       "      <th>46</th>\n",
       "      <td>princess</td>\n",
       "      <td>girl</td>\n",
       "    </tr>\n",
       "    <tr>\n",
       "      <th>47</th>\n",
       "      <td>princess</td>\n",
       "      <td>queen</td>\n",
       "    </tr>\n",
       "    <tr>\n",
       "      <th>48</th>\n",
       "      <td>girl</td>\n",
       "      <td>princess</td>\n",
       "    </tr>\n",
       "    <tr>\n",
       "      <th>49</th>\n",
       "      <td>girl</td>\n",
       "      <td>queen</td>\n",
       "    </tr>\n",
       "    <tr>\n",
       "      <th>50</th>\n",
       "      <td>queen</td>\n",
       "      <td>princess</td>\n",
       "    </tr>\n",
       "    <tr>\n",
       "      <th>51</th>\n",
       "      <td>queen</td>\n",
       "      <td>girl</td>\n",
       "    </tr>\n",
       "  </tbody>\n",
       "</table>\n",
       "</div>"
      ],
      "text/plain": [
       "       input     label\n",
       "0       king    strong\n",
       "1       king       man\n",
       "2     strong      king\n",
       "3     strong       man\n",
       "4        man      king\n",
       "5        man    strong\n",
       "6      queen      wise\n",
       "7      queen     woman\n",
       "8       wise     queen\n",
       "9       wise     woman\n",
       "10     woman     queen\n",
       "11     woman      wise\n",
       "12       boy     young\n",
       "13       boy       man\n",
       "14     young       boy\n",
       "15     young       man\n",
       "16       man       boy\n",
       "17       man     young\n",
       "18      girl     young\n",
       "19      girl     woman\n",
       "20     young      girl\n",
       "21     young     woman\n",
       "22     woman      girl\n",
       "23     woman     young\n",
       "24    prince     young\n",
       "25    prince      king\n",
       "26     young    prince\n",
       "27     young      king\n",
       "28      king    prince\n",
       "29      king     young\n",
       "30  princess     young\n",
       "31  princess     queen\n",
       "32     young  princess\n",
       "33     young     queen\n",
       "34     queen  princess\n",
       "35     queen     young\n",
       "36       man    strong\n",
       "37    strong       man\n",
       "38     woman    pretty\n",
       "39    pretty     woman\n",
       "40    prince       boy\n",
       "41    prince      king\n",
       "42       boy    prince\n",
       "43       boy      king\n",
       "44      king    prince\n",
       "45      king       boy\n",
       "46  princess      girl\n",
       "47  princess     queen\n",
       "48      girl  princess\n",
       "49      girl     queen\n",
       "50     queen  princess\n",
       "51     queen      girl"
      ]
     },
     "execution_count": 11,
     "metadata": {},
     "output_type": "execute_result"
    }
   ],
   "source": [
    "df = pd.DataFrame(data, columns=('input', 'label'))\n",
    "df"
   ]
  },
  {
   "cell_type": "markdown",
   "id": "7c6d1d31-162e-4901-806a-7b0b7c8ac5fd",
   "metadata": {},
   "source": [
    "***\n",
    "Word2Vec 모델 구현\n",
    "***"
   ]
  },
  {
   "cell_type": "markdown",
   "id": "057992f2-1a7c-4859-8cd4-bad2c6bdfe3f",
   "metadata": {},
   "source": [
    "<img src =\"Word2Vec.png\" width=\"700px\">"
   ]
  },
  {
   "cell_type": "code",
   "execution_count": 12,
   "id": "601c01d4-16c6-4463-b0d1-5d1702b4cd92",
   "metadata": {},
   "outputs": [],
   "source": [
    "ONE_HOT_DIM = len(words);\n",
    "\n",
    "# word를 key로 하고 index를 value로 하는 딕셔너리를 원-핫 인코딩으로 전환하는 함수를 만든다.\n",
    "def one_hot_encoding (index):\n",
    "     #print(index)\n",
    "     one_hot = np.zeros(ONE_HOT_DIM)\n",
    "     one_hot[index] = 1\n",
    "     #print(one_hot)\n",
    "     return one_hot;"
   ]
  },
  {
   "cell_type": "code",
   "execution_count": 13,
   "id": "022ea46f-1255-4ecb-bb42-aa2f80be24cb",
   "metadata": {},
   "outputs": [
    {
     "name": "stdout",
     "output_type": "stream",
     "text": [
      "[1. 0. 0. 0. 0. 0. 0. 0. 0. 0. 0. 0.]\n",
      "[0. 1. 0. 0. 0. 0. 0. 0. 0. 0. 0. 0.]\n",
      "[0. 0. 1. 0. 0. 0. 0. 0. 0. 0. 0. 0.]\n",
      "[0. 0. 0. 1. 0. 0. 0. 0. 0. 0. 0. 0.]\n",
      "[0. 0. 0. 0. 1. 0. 0. 0. 0. 0. 0. 0.]\n",
      "[0. 0. 0. 0. 0. 1. 0. 0. 0. 0. 0. 0.]\n",
      "[0. 0. 0. 0. 0. 0. 1. 0. 0. 0. 0. 0.]\n",
      "[0. 0. 0. 0. 0. 0. 0. 1. 0. 0. 0. 0.]\n",
      "[0. 0. 0. 0. 0. 0. 0. 0. 1. 0. 0. 0.]\n",
      "[0. 0. 0. 0. 0. 0. 0. 0. 0. 1. 0. 0.]\n",
      "[0. 0. 0. 0. 0. 0. 0. 0. 0. 0. 1. 0.]\n",
      "[0. 0. 0. 0. 0. 0. 0. 0. 0. 0. 0. 1.]\n"
     ]
    }
   ],
   "source": [
    "#for key in word2dict.keys():\n",
    "     #print(key, word2dict[key])\n",
    "     #result = one_hot_encoding(word2dict[key])\n",
    "     \n",
    "#for value in word2dict.values():\n",
    "     #print(value)\n",
    "     #result = one_hot_encoding(value)\n",
    "     \n",
    "for key, value in word2dict.items():\n",
    "     #print(key, value)\n",
    "     result = one_hot_encoding(value)\n",
    "# ----------------------------------------\n",
    "     print(result)\n"
   ]
  },
  {
   "cell_type": "code",
   "execution_count": 14,
   "id": "a1d8421e-ff13-4dae-8b76-a9f5d1e21cd3",
   "metadata": {
    "tags": []
   },
   "outputs": [
    {
     "name": "stdout",
     "output_type": "stream",
     "text": [
      "king [0. 0. 0. 0. 0. 0. 1. 0. 0. 0. 0. 0.] strong [0. 1. 0. 0. 0. 0. 0. 0. 0. 0. 0. 0.]\n",
      "king [0. 0. 0. 0. 0. 0. 1. 0. 0. 0. 0. 0.] man [1. 0. 0. 0. 0. 0. 0. 0. 0. 0. 0. 0.]\n",
      "strong [0. 1. 0. 0. 0. 0. 0. 0. 0. 0. 0. 0.] king [0. 0. 0. 0. 0. 0. 1. 0. 0. 0. 0. 0.]\n",
      "strong [0. 1. 0. 0. 0. 0. 0. 0. 0. 0. 0. 0.] man [1. 0. 0. 0. 0. 0. 0. 0. 0. 0. 0. 0.]\n",
      "man [1. 0. 0. 0. 0. 0. 0. 0. 0. 0. 0. 0.] king [0. 0. 0. 0. 0. 0. 1. 0. 0. 0. 0. 0.]\n",
      "man [1. 0. 0. 0. 0. 0. 0. 0. 0. 0. 0. 0.] strong [0. 1. 0. 0. 0. 0. 0. 0. 0. 0. 0. 0.]\n",
      "queen [0. 0. 0. 0. 0. 0. 0. 1. 0. 0. 0. 0.] wise [0. 0. 0. 1. 0. 0. 0. 0. 0. 0. 0. 0.]\n",
      "queen [0. 0. 0. 0. 0. 0. 0. 1. 0. 0. 0. 0.] woman [0. 0. 0. 0. 1. 0. 0. 0. 0. 0. 0. 0.]\n",
      "wise [0. 0. 0. 1. 0. 0. 0. 0. 0. 0. 0. 0.] queen [0. 0. 0. 0. 0. 0. 0. 1. 0. 0. 0. 0.]\n",
      "wise [0. 0. 0. 1. 0. 0. 0. 0. 0. 0. 0. 0.] woman [0. 0. 0. 0. 1. 0. 0. 0. 0. 0. 0. 0.]\n",
      "woman [0. 0. 0. 0. 1. 0. 0. 0. 0. 0. 0. 0.] queen [0. 0. 0. 0. 0. 0. 0. 1. 0. 0. 0. 0.]\n",
      "woman [0. 0. 0. 0. 1. 0. 0. 0. 0. 0. 0. 0.] wise [0. 0. 0. 1. 0. 0. 0. 0. 0. 0. 0. 0.]\n"
     ]
    }
   ],
   "source": [
    "X = [] # 입력 단어가 원-핫 인코딩으로 변환된 결과를 기억할 빈 리스트를 선언한다.\n",
    "Y = [] # 입력 단어에 따른 레이블이 원-핫 인코딩으로 변환된 결과를 기억할 빈 리스트를 선언한다.\n",
    "\n",
    "#데이터프레임에 저장된 입력 단어와 입력 단어에 따른 레이블을 원-핫 인코딩으로 변환해서 X, Y 리스트에 저장한다.\n",
    "for x, y in zip(df.input, df.label):\n",
    "     #print(x, y)\n",
    "     X.append(one_hot_encoding(word2dict[x]))\n",
    "     Y.append(one_hot_encoding(word2dict[y]))\n",
    "\n",
    "\n",
    "for i in range(len(words)):\n",
    "     print(df.input[i], X[i], df.label[i], Y[i])"
   ]
  },
  {
   "cell_type": "markdown",
   "id": "d7ee2dfe-db1a-4ae8-a54f-970ee631ef99",
   "metadata": {},
   "source": [
    "***\n",
    "Word2Vec 모델을 만든다.\n",
    "***"
   ]
  },
  {
   "cell_type": "code",
   "execution_count": 15,
   "id": "c198ad90-352b-407a-92ef-13fcff4081fa",
   "metadata": {},
   "outputs": [],
   "source": [
    "# numpy의 array() 메소드는 파이썬의 리스트나 튜플을 numpy 배열로 만든다.\n",
    "# numpy의 asarray() 메소드는 인수로 지정한 데이터가 이미 numpy 배열 형태라면 복사만 한다.\n",
    "x_train = np.array(X) # 입력 데이터\n",
    "y_train = np.array(Y) # 입력 데이터에 따른 레이블\n",
    "#print(x_train, y_train)\n",
    "#print(x_train.shape)\n",
    "\n",
    "# 입력 데이터와 입력 데이터에 따른 레이블을 저장할 placeholder를 만든다.\n",
    "x = tf.placeholder(dtype=tf.float32, shape=(None, ONE_HOT_DIM))#입력 데이터를 저장할 placeholder\n",
    "y = tf.placeholder(dtype=tf.float32, shape=(None, ONE_HOT_DIM))#입력 데이터에 따른 레이블을 저장할 placeholder\n",
    "\n",
    "#히든 레이어\n",
    "W1 = tf.Variable(tf.truncated_normal(shape=(ONE_HOT_DIM, 2), stddev=0.1))\n",
    "hidden_layer = tf.matmul(x, W1)\n",
    "\n",
    "# 출력 레이어\n",
    "W2 = tf.Variable(tf.truncated_normal(shape=(2, ONE_HOT_DIM), stddev=0.1))\n",
    "b2 = tf.Variable(tf.truncated_normal(shape=[1], stddev=0.1))\n",
    "\n",
    "# 예측\n",
    "predict = tf.nn.softmax(tf.add(tf.matmul(hidden_layer, W2), b2))\n",
    "\n",
    "# 손실 함수 - 크로스 엔트로피\n",
    "loss = tf.reduce_mean(-tf.reduce_sum(y * tf.log(predict), axis=1))\n",
    "\n",
    "# 최적화 - 경사 하강법\n",
    "train = tf.train.GradientDescentOptimizer(learning_rate=0.01).minimize(loss)"
   ]
  },
  {
   "cell_type": "markdown",
   "id": "768af3d2-0e2c-4b03-b6ab-218878824795",
   "metadata": {},
   "source": [
    "***\n",
    "학습시킨다.\n",
    "***"
   ]
  },
  {
   "cell_type": "code",
   "execution_count": 16,
   "id": "3786223c-f653-44e7-95b3-2da5e41a619f",
   "metadata": {},
   "outputs": [
    {
     "name": "stdout",
     "output_type": "stream",
     "text": [
      "epoch ->     0, loss -> 2.48356\n",
      "epoch ->  2500, loss -> 2.43725\n",
      "epoch ->  5000, loss -> 2.15417\n",
      "epoch ->  7500, loss -> 1.99543\n",
      "epoch -> 10000, loss -> 1.94229\n",
      "epoch -> 12500, loss -> 1.89709\n",
      "epoch -> 15000, loss -> 1.84599\n",
      "epoch -> 17500, loss -> 1.80848\n",
      "epoch -> 20000, loss -> 1.78661\n",
      "epoch -> 22500, loss -> 1.77291\n",
      "epoch -> 25000, loss -> 1.76294\n",
      "epoch -> 27500, loss -> 1.75483\n",
      "epoch -> 30000, loss -> 1.74776\n",
      "epoch -> 32500, loss -> 1.74134\n",
      "epoch -> 35000, loss -> 1.73536\n",
      "epoch -> 37500, loss -> 1.72976\n",
      "epoch -> 40000, loss -> 1.72450\n",
      "epoch -> 42500, loss -> 1.71957\n",
      "epoch -> 45000, loss -> 1.71498\n",
      "epoch -> 47500, loss -> 1.71072\n",
      "epoch -> 50000, loss -> 1.70679\n"
     ]
    }
   ],
   "source": [
    "sess = tf.Session()\n",
    "sess.run(tf.global_variables_initializer())\n",
    "for epoch in range(50001):\n",
    "     _, loss_ = sess.run([train, loss], feed_dict={x : x_train, y : y_train})\n",
    "     if epoch % 2500 == 0:\n",
    "          print('epoch -> {:5d}, loss -> {:7.5f}'.format( epoch, loss_ ))"
   ]
  },
  {
   "cell_type": "markdown",
   "id": "6747e1fa-e835-449f-bc1c-9c17213d3be7",
   "metadata": {},
   "source": [
    "***\n",
    "히든 레이어의 값(Word2Vec) 추출하기\n",
    "***"
   ]
  },
  {
   "cell_type": "code",
   "execution_count": 17,
   "id": "f5c166c0-7163-4fc0-831e-6f4f02df01b6",
   "metadata": {},
   "outputs": [
    {
     "name": "stdout",
     "output_type": "stream",
     "text": [
      "man     [-0.8235912 -2.3545868]\n",
      "strong  [ 1.2530985 -3.826152 ]\n",
      "pretty  [1.4701062 2.1161652]\n",
      "wise    [0.03662536 2.232686  ]\n",
      "woman   [-1.2930822  0.554336 ]\n",
      "girl    [-2.02554    1.2832729]\n",
      "king    [ 0.01307534 -0.773077  ]\n",
      "queen   [-1.4975611  0.8280293]\n",
      "prince  [-0.9195293 -3.6299963]\n",
      "princess [-3.340867   1.9352936]\n",
      "young   [0.40302247 0.15388487]\n",
      "boy     [ 0.09381526 -0.94894063]\n"
     ]
    }
   ],
   "source": [
    "vectors= sess.run( W1 )\n",
    "for key, value in word2dict.items():\n",
    "     print('{:7s} {}'.format(key, vectors[value]))\n"
   ]
  },
  {
   "cell_type": "markdown",
   "id": "035ca270-4ac2-4d95-bd35-14c39c2d75d5",
   "metadata": {},
   "source": [
    "***\n",
    "Word2Vec를 2차원 공간에 시각화한다.\n",
    "***"
   ]
  },
  {
   "cell_type": "code",
   "execution_count": 18,
   "id": "22230dc3-b4e8-437a-b0c7-e15497ebcbb0",
   "metadata": {},
   "outputs": [
    {
     "data": {
      "text/html": [
       "<div>\n",
       "<style scoped>\n",
       "    .dataframe tbody tr th:only-of-type {\n",
       "        vertical-align: middle;\n",
       "    }\n",
       "\n",
       "    .dataframe tbody tr th {\n",
       "        vertical-align: top;\n",
       "    }\n",
       "\n",
       "    .dataframe thead th {\n",
       "        text-align: right;\n",
       "    }\n",
       "</style>\n",
       "<table border=\"1\" class=\"dataframe\">\n",
       "  <thead>\n",
       "    <tr style=\"text-align: right;\">\n",
       "      <th></th>\n",
       "      <th>word</th>\n",
       "      <th>x1</th>\n",
       "      <th>x2</th>\n",
       "    </tr>\n",
       "  </thead>\n",
       "  <tbody>\n",
       "    <tr>\n",
       "      <th>0</th>\n",
       "      <td>man</td>\n",
       "      <td>-0.823591</td>\n",
       "      <td>-2.354587</td>\n",
       "    </tr>\n",
       "    <tr>\n",
       "      <th>1</th>\n",
       "      <td>strong</td>\n",
       "      <td>1.253098</td>\n",
       "      <td>-3.826152</td>\n",
       "    </tr>\n",
       "    <tr>\n",
       "      <th>2</th>\n",
       "      <td>pretty</td>\n",
       "      <td>1.470106</td>\n",
       "      <td>2.116165</td>\n",
       "    </tr>\n",
       "    <tr>\n",
       "      <th>3</th>\n",
       "      <td>wise</td>\n",
       "      <td>0.036625</td>\n",
       "      <td>2.232686</td>\n",
       "    </tr>\n",
       "    <tr>\n",
       "      <th>4</th>\n",
       "      <td>woman</td>\n",
       "      <td>-1.293082</td>\n",
       "      <td>0.554336</td>\n",
       "    </tr>\n",
       "    <tr>\n",
       "      <th>5</th>\n",
       "      <td>girl</td>\n",
       "      <td>-2.025540</td>\n",
       "      <td>1.283273</td>\n",
       "    </tr>\n",
       "    <tr>\n",
       "      <th>6</th>\n",
       "      <td>king</td>\n",
       "      <td>0.013075</td>\n",
       "      <td>-0.773077</td>\n",
       "    </tr>\n",
       "    <tr>\n",
       "      <th>7</th>\n",
       "      <td>queen</td>\n",
       "      <td>-1.497561</td>\n",
       "      <td>0.828029</td>\n",
       "    </tr>\n",
       "    <tr>\n",
       "      <th>8</th>\n",
       "      <td>prince</td>\n",
       "      <td>-0.919529</td>\n",
       "      <td>-3.629996</td>\n",
       "    </tr>\n",
       "    <tr>\n",
       "      <th>9</th>\n",
       "      <td>princess</td>\n",
       "      <td>-3.340867</td>\n",
       "      <td>1.935294</td>\n",
       "    </tr>\n",
       "    <tr>\n",
       "      <th>10</th>\n",
       "      <td>young</td>\n",
       "      <td>0.403022</td>\n",
       "      <td>0.153885</td>\n",
       "    </tr>\n",
       "    <tr>\n",
       "      <th>11</th>\n",
       "      <td>boy</td>\n",
       "      <td>0.093815</td>\n",
       "      <td>-0.948941</td>\n",
       "    </tr>\n",
       "  </tbody>\n",
       "</table>\n",
       "</div>"
      ],
      "text/plain": [
       "        word        x1        x2\n",
       "0        man -0.823591 -2.354587\n",
       "1     strong  1.253098 -3.826152\n",
       "2     pretty  1.470106  2.116165\n",
       "3       wise  0.036625  2.232686\n",
       "4      woman -1.293082  0.554336\n",
       "5       girl -2.025540  1.283273\n",
       "6       king  0.013075 -0.773077\n",
       "7      queen -1.497561  0.828029\n",
       "8     prince -0.919529 -3.629996\n",
       "9   princess -3.340867  1.935294\n",
       "10     young  0.403022  0.153885\n",
       "11       boy  0.093815 -0.948941"
      ]
     },
     "execution_count": 18,
     "metadata": {},
     "output_type": "execute_result"
    }
   ],
   "source": [
    "# Word2Vec의 단어에 따른 히든 레이어값을 데이터프레임으로 저장한다.\n",
    "w2v_df = pd.DataFrame(vectors, columns=('x1', 'x2'))\n",
    "# words는 set이고 set은 순서가 없으므로 에러가 발생된다. -> 3.6 버전은 에러가 발생하지 않았다.\n",
    "# set이 순서가 없다는 에러가 발생되면 list() 생성자 함수로 리스트로 만들어서 추가한다.\n",
    "w = list(words)\n",
    "w2v_df['word'] = w\n",
    "w2v_df = w2v_df[['word', 'x1', 'x2']]\n",
    "\n",
    "w2v_df"
   ]
  },
  {
   "cell_type": "code",
   "execution_count": 19,
   "id": "819ab6fa-707c-4d5d-bece-bee2d107ecea",
   "metadata": {},
   "outputs": [],
   "source": [
    "import matplotlib.pyplot as plt"
   ]
  },
  {
   "cell_type": "code",
   "execution_count": 21,
   "id": "14241acf-8683-4838-b003-fb6e9507a2c0",
   "metadata": {},
   "outputs": [
    {
     "data": {
      "text/plain": [
       "<Figure size 1600x1200 with 0 Axes>"
      ]
     },
     "metadata": {},
     "output_type": "display_data"
    },
    {
     "data": {
      "image/png": "[encoded data removed]",
      "text/plain": [
       "<Figure size 640x480 with 1 Axes>"
      ]
     },
     "metadata": {},
     "output_type": "display_data"
    }
   ],
   "source": [
    "plt.figure(figsize=(16, 12))\n",
    "fig, ax = plt.subplots()\n",
    "for word, x1, x2 in zip(w2v_df.word, w2v_df.x1, w2v_df.x2):\n",
    "     ax.annotate(word, (x1, x2))\n",
    "x_axis_min = np.amin(vectors, axis=0)[0] - 1.0\n",
    "x_axis_max = np.amax(vectors, axis=0)[0] + 1.0\n",
    "y_axis_min = np.amin(vectors, axis=0)[1] - 1.0\n",
    "y_axis_max = np.amax(vectors, axis=0)[1] + 1.0\n",
    "\n",
    "plt.xlim(x_axis_min, x_axis_max)\n",
    "plt.ylim(y_axis_min, y_axis_max)\n",
    "plt.show()"
   ]
  },
  {
   "cell_type": "code",
   "execution_count": null,
   "id": "8e7522d0-af38-4a48-8042-fd7427309b2c",
   "metadata": {},
   "outputs": [],
   "source": []
  },
  {
   "cell_type": "code",
   "execution_count": null,
   "id": "cf91f488-590f-462a-9002-551c028d39e7",
   "metadata": {},
   "outputs": [],
   "source": []
  },
  {
   "cell_type": "code",
   "execution_count": null,
   "id": "23844415-b86d-41e0-ab13-ca3af72b7a0b",
   "metadata": {},
   "outputs": [],
   "source": []
  },
  {
   "cell_type": "code",
   "execution_count": null,
   "id": "ac43cd40-3447-49a9-87cb-1c5f27cd71da",
   "metadata": {},
   "outputs": [],
   "source": []
  },
  {
   "cell_type": "code",
   "execution_count": null,
   "id": "65c71490-8b9f-48a9-ae0a-6d11ad5f2ce4",
   "metadata": {},
   "outputs": [],
   "source": []
  },
  {
   "cell_type": "code",
   "execution_count": null,
   "id": "04834cbd-1cb9-4195-a4f6-4981ac011196",
   "metadata": {},
   "outputs": [],
   "source": []
  },
  {
   "cell_type": "code",
   "execution_count": null,
   "id": "c953dee6-25a4-4840-ad16-86b32531191e",
   "metadata": {},
   "outputs": [],
   "source": []
  },
  {
   "cell_type": "code",
   "execution_count": null,
   "id": "e93cc38a-fe2b-41bd-b2e1-64fecc8278e0",
   "metadata": {},
   "outputs": [],
   "source": []
  },
  {
   "cell_type": "code",
   "execution_count": null,
   "id": "0adefe8a-9db1-4962-ab6a-a5f4b60e7414",
   "metadata": {},
   "outputs": [],
   "source": []
  },
  {
   "cell_type": "code",
   "execution_count": null,
   "id": "7cdffb5d-52f7-4258-a8cc-8df7a79c6129",
   "metadata": {},
   "outputs": [],
   "source": []
  },
  {
   "cell_type": "code",
   "execution_count": null,
   "id": "bc04d564-7b05-421e-a409-d4aeeff07d89",
   "metadata": {},
   "outputs": [],
   "source": []
  },
  {
   "cell_type": "code",
   "execution_count": null,
   "id": "8637e12f-b8bd-435f-b604-2dde279ba68e",
   "metadata": {},
   "outputs": [],
   "source": []
  },
  {
   "cell_type": "code",
   "execution_count": null,
   "id": "4d34e83a-0f6a-4a1a-af03-c6b0990b11bb",
   "metadata": {},
   "outputs": [],
   "source": []
  },
  {
   "cell_type": "code",
   "execution_count": null,
   "id": "46f365d5-81e0-4e4f-8e01-05242ce12a7d",
   "metadata": {},
   "outputs": [],
   "source": []
  },
  {
   "cell_type": "code",
   "execution_count": null,
   "id": "c69d574f-74a1-46e3-9b24-be3149e4ccfa",
   "metadata": {},
   "outputs": [],
   "source": []
  },
  {
   "cell_type": "code",
   "execution_count": null,
   "id": "9afa4f06-bc34-4d5f-88dd-d945ba405917",
   "metadata": {},
   "outputs": [],
   "source": []
  },
  {
   "cell_type": "code",
   "execution_count": null,
   "id": "0d633fa3-f469-44da-99fc-b2d31aafe613",
   "metadata": {},
   "outputs": [],
   "source": []
  },
  {
   "cell_type": "code",
   "execution_count": null,
   "id": "e199d67a-4adc-48ef-bd52-2110f3d9ae86",
   "metadata": {},
   "outputs": [],
   "source": []
  },
  {
   "cell_type": "code",
   "execution_count": null,
   "id": "d256c52e-a434-4361-a1e6-1cc243d6a227",
   "metadata": {},
   "outputs": [],
   "source": []
  },
  {
   "cell_type": "code",
   "execution_count": null,
   "id": "b23cfb20-afe1-4621-b289-585f6f1be0bc",
   "metadata": {},
   "outputs": [],
   "source": []
  },
  {
   "cell_type": "code",
   "execution_count": null,
   "id": "ed6499c8-1607-4350-a5e7-a959c24a6e32",
   "metadata": {},
   "outputs": [],
   "source": []
  },
  {
   "cell_type": "code",
   "execution_count": null,
   "id": "78dfb861-7f63-4479-abf9-db37799a3abc",
   "metadata": {},
   "outputs": [],
   "source": []
  },
  {
   "cell_type": "code",
   "execution_count": null,
   "id": "ed687b90-ba17-4d5f-8517-c59d65d65517",
   "metadata": {},
   "outputs": [],
   "source": []
  },
  {
   "cell_type": "code",
   "execution_count": null,
   "id": "84681b1c-947f-40a8-9c05-62cf99f0ae05",
   "metadata": {},
   "outputs": [],
   "source": []
  }
 ],
 "metadata": {
  "kernelspec": {
   "display_name": "Python [conda env:.conda-py3.7] *",
   "language": "python",
   "name": "conda-env-.conda-py3.7-py"
  },
  "language_info": {
   "codemirror_mode": {
    "name": "ipython",
    "version": 3
   },
   "file_extension": ".py",
   "mimetype": "text/x-python",
   "name": "python",
   "nbconvert_exporter": "python",
   "pygments_lexer": "ipython3",
   "version": "3.7.1"
  }
 },
 "nbformat": 4,
 "nbformat_minor": 5
}
