{
 "cells": [
  {
   "cell_type": "code",
   "execution_count": 1,
   "id": "3c68c6e2-96bd-46db-a593-449cc2462821",
   "metadata": {},
   "outputs": [],
   "source": [
    "%config Completer.use_jedi = False                                       \n",
    "import warnings                                                             \n",
    "warnings.filterwarnings(action=\"ignore\")\n",
    "import numpy as np\n",
    "import pandas as pd                                                         \n",
    "import matplotlib.pyplot as plt                                            \n",
    "import matplotlib as mpl                                                    \n",
    "mpl.rcParams['axes.unicode_minus'] = False                                  \n",
    "#plt.rcParams('font.family') = 'RIDIBatang'                          \n",
    "#plt.rcParams('font.size') = 16                                             \n",
    "import matplotlib.font_manager as fm\n",
    "font = 'C:\\\\Windows\\\\Fonts\\\\RIDIBatang.otf'\n",
    "fontprop = fm.FontProperties(fname=font, size=16).get_name()\n",
    "plt.rc('font', family = 'RIDIBatang')\n",
    "plt.rc('font', size = 16)\n",
    "import seaborn as sns                                                       \n",
    "from sklearn.model_selection import train_test_split\n",
    "from sklearn.metrics import accuracy_score, confusion_matrix, classification_report"
   ]
  },
  {
   "cell_type": "markdown",
   "id": "3c27e15a-a46d-4428-99c5-66bd35812076",
   "metadata": {},
   "source": [
    "***\n",
    "앙상블(Ensemble)\n",
    "***\n",
    "앙상블 기법이란 여러개의 분류 모델을 조합해서 더 나은 성능을 얻어내는 방법이다.\n",
    "최근접 이웃, 서포트 벡터 머신, 의사결정 트리, 나이브베이즈 분류 모델을 실습했는데  \n",
    "지금까지 실습한 여러 분류 모델을 조합해 단일 모델보다 더 좋은 성능을 낸다.  \n",
    "\n",
    "\n",
    "***\n",
    "- 배깅(Bagging)\n",
    "\n",
    "배깅의 어원은 부트스트랩(Bootstrap)과 어그리게이팅(AGGregatING; 집계)에서 유래되었고,  \n",
    "상당히 연주가 힘든 바이올린 연주곡을 두 세 명의 초급 바이올린 연주가 나누어 연주함으로써 한 명의 중급 바이올린 연주자가  \n",
    "연주하는 것보다 더 나은 연주를 할 수 있는 것과 유사하다.  \n",
    "중급 바이올린 연주자는 나름 잘 학습이 됐지만 학습 데이터에 과대 적합된 의사결정 트리라 볼 수 있다.  \n",
    "의사결정 트리의 최대 단점은 쉽게 과대 적합된다는 것인데,  \n",
    "배깅은 과대 적합이 되기 쉬운 모델에 상당히 적합한 앙상블 기법이다.  \n",
    "배킹은 한가지 분류 모델을 여러개 만들어서 서로 다른 학습 데이터로 학습시킨 후(부트스트랩),  \n",
    "동일한 테스트에 대한 서로 다른 예측값들을 투표를 통해(어그리게이팅) 가장 높은 예측값으로 최종 결론을 내리는 기법이다.  "
   ]
  },
  {
   "cell_type": "markdown",
   "id": "be0abb56-6835-4b7a-8ed6-71f18023404c",
   "metadata": {},
   "source": [
    "***\n",
    "부트스트랩\n",
    "***"
   ]
  },
  {
   "cell_type": "markdown",
   "id": "39f84c64-fa15-4885-bf0d-06fefeceadea",
   "metadata": {},
   "source": [
    "<img src=\"./부트스트랩.png\" width=\"1000px\">"
   ]
  },
  {
   "cell_type": "markdown",
   "id": "b131f0d0-0c97-4f73-bfd7-81b0c95ae6ab",
   "metadata": {},
   "source": [
    "***\n",
    "어그리게이팅\n",
    "***"
   ]
  },
  {
   "cell_type": "markdown",
   "id": "a2a3ea51-649f-4e00-8dc5-f766445f6139",
   "metadata": {},
   "source": [
    "<img src=\"./어그리게이팅 (1).png\" width=\"1000px\">\n",
    "<img src=\"./어그리게이팅 (2).png\" width=\"1000px\">\n",
    "<img src=\"./어그리게이팅 (3).png\" width=\"1000px\">\n"
   ]
  },
  {
   "cell_type": "markdown",
   "id": "f3eb755a-5f91-4bd5-9c8c-c27e118014d3",
   "metadata": {},
   "source": [
    "***\n",
    "부스팅\n",
    "***"
   ]
  },
  {
   "cell_type": "markdown",
   "id": "582fbc2d-644d-481e-b6ca-2313b6985616",
   "metadata": {},
   "source": [
    "<img src=\"./부스팅 (2).png\" width=\"1000px\">\n",
    "<img src=\"./부스팅 (1).png\" width=\"1000px\">"
   ]
  },
  {
   "cell_type": "markdown",
   "id": "08d7e116-00df-4544-8b61-7aef4148f967",
   "metadata": {},
   "source": [
    "***\n",
    "랜덤 포레스트(Random Forest)\n",
    "***\n",
    "여러 의사결정 트리에 배깅을 적용해서 예측을 실행하는 모델이다.  \n",
    "배깅은 모든 분류 모델에서 적용 가능하지만 특히, 과대 적합되기 쉬운 의사결정 트리에 사용하면 확실히 과대 적합을 줄여 성능이 높아지는 결과를 얻을 수 있기 때문에  \n",
    "배깅은 많은 의사결정 트리 모델의 개선을 이뤘고 여러개의 나무들이 모여있다는 개념에서 랜덤 포레스트라는 이름이 생겨났다.  \n",
    "\n",
    "의사결정 트리에서 최적의 특징으로 트리를 분기하는 반면, \n",
    "랜덤 포레스트는 각 노드에 주어진 데이터를 샘플링해서 일부 데이터를 제외한 채 최적의 특징을 찾으며 트리를 분기한다.  \n",
    "이러한 과정에서 랜덤 포레스트는 또 한 번 편향을 증가시켜 과대 적합의 위험을 감소시킨다.  "
   ]
  },
  {
   "cell_type": "markdown",
   "id": "6686a470-59d0-4f41-8272-e5567a51b9be",
   "metadata": {},
   "source": [
    "***\n",
    "부스팅\n",
    "***\n",
    "여러개의 분류기를 만들어 투표를 통해 예측값을 결정한다는 측면에서는 배깅과 동일하다.  \n",
    "배깅은 서로 다른 알고리즘에 기반한 여러 분류기를 병렬적으로 학습하는 반면에,  \n",
    "부스팅은 동일한 알고리즘의 분류기를 순차적으로 학습해서 여러개의 분류기를 만든 후 테스트시 가중 투표를 통해 예측값을 결정한다."
   ]
  },
  {
   "cell_type": "markdown",
   "id": "010b7821-2350-48dd-9286-aab07c1feaf9",
   "metadata": {},
   "source": [
    "***\n",
    "MNIST 손글씨 dataset으로 랜덤 포레스트 모델과 의사결정 트리 모델을 동일하게 학습시켜 두 모델의 성능 차이를 시각화해 비교한다.  \n",
    "\n",
    "MNIST 손글씨 데이터 불러오기"
   ]
  },
  {
   "cell_type": "code",
   "execution_count": 2,
   "id": "9e57f66b-a38b-4fd9-9692-7f1b84ca2f3f",
   "metadata": {},
   "outputs": [],
   "source": [
    "# Scikit-learn이 제공하는 MNIST 손글씨 데이터를 불러오기 위해 import 한다.\n",
    "from sklearn.datasets import load_digits"
   ]
  },
  {
   "cell_type": "code",
   "execution_count": 9,
   "id": "dcc04cfc-e446-4eff-8336-61cc335316fc",
   "metadata": {},
   "outputs": [
    {
     "name": "stdout",
     "output_type": "stream",
     "text": [
      "(1797, 64)\n",
      "(1797,)\n"
     ]
    }
   ],
   "source": [
    "mnist = load_digits() #Scikit-learn이 제공하는 손글씨 데이터를 불러온다.\n",
    "#print(mnist)\n",
    "feature = mnist.data\n",
    "label = mnist.target\n",
    "print(feature.shape)\n",
    "print(label.shape)"
   ]
  },
  {
   "cell_type": "code",
   "execution_count": 16,
   "id": "3686171f-7b10-4772-bb0f-71726dd9f79f",
   "metadata": {},
   "outputs": [
    {
     "name": "stdout",
     "output_type": "stream",
     "text": [
      "<class 'numpy.ndarray'>\n",
      "[[ 0.  0.  5. 13.  9.  1.  0.  0.]\n",
      " [ 0.  0. 13. 15. 10. 15.  5.  0.]\n",
      " [ 0.  3. 15.  2.  0. 11.  8.  0.]\n",
      " [ 0.  4. 12.  0.  0.  8.  8.  0.]\n",
      " [ 0.  5.  8.  0.  0.  9.  8.  0.]\n",
      " [ 0.  4. 11.  0.  1. 12.  7.  0.]\n",
      " [ 0.  2. 14.  5. 10. 12.  0.  0.]\n",
      " [ 0.  0.  6. 13. 10.  0.  0.  0.]] 0\n"
     ]
    }
   ],
   "source": [
    "print(type(feature[0]))\n",
    "print(feature[0].reshape(8, 8), label[0])"
   ]
  },
  {
   "cell_type": "markdown",
   "id": "3bdd0668-80df-40fe-b06a-838c4d1bff50",
   "metadata": {},
   "source": [
    "***\n",
    "교차 검증\n",
    "***\n",
    "cross_val_score(modal, x, y, scoring, cv)\n",
    "\n",
    "- model : 분석 모델\n",
    "-  x : 독립 변수, 학습 데이터(피쳐)\n",
    "-  y : 종속 변수, 학습 데이터의 학습 결과(실제값, 레이블, 클래스, 타겟)\n",
    "-   scoring : 성능 검증에 사용할 평가 지표, 정확도를 의미하는 'accuracy'를 지정한다.\n",
    "-   cv : 교차 검증 조각의 갯수\n"
   ]
  },
  {
   "cell_type": "code",
   "execution_count": 21,
   "id": "4bd02dca-1e98-465c-9cf4-60c8dfe8fe33",
   "metadata": {},
   "outputs": [],
   "source": [
    "#교차 검증을 실행하기 위해 import 한다.\n",
    "from sklearn.model_selection import cross_val_score\n",
    "#Scikit-learn의 의사결정 트리를 사용하기 위해 import 한다.\n",
    "from sklearn.tree import DecisionTreeClassifier\n",
    "#Scikit-learn의 랜덤 포레스트를 사용하기 위해 import 한다.\n",
    "from sklearn.ensemble import RandomForestClassifier"
   ]
  },
  {
   "cell_type": "code",
   "execution_count": 36,
   "id": "4849640d-6dae-4f16-810d-6bb78f361e5d",
   "metadata": {},
   "outputs": [],
   "source": [
    "#MNIST 손글씨 데이터에 대한 의사결정 트리와 랜덤 포레스트의 검증 정확도를 계산하는 함수\n",
    "#cross_validation(분류기, 학습데이터, 학습데이터에 따른 레이블(학습데이터에 대한 종속변수)):\n",
    "def cross_validation(classifier, feature, label):\n",
    "    cv_scores = []\n",
    "    for i in range(10):\n",
    "        scores= cross_val_score(classifier, feature, label, scoring='accuracy', cv=10)\n",
    "        #print(scores, scores.mean())\n",
    "        cv_scores.append(scores.mean())\n",
    "    #----- for i\n",
    "    return cv_scores\n",
    "#------ def "
   ]
  },
  {
   "cell_type": "code",
   "execution_count": 48,
   "id": "dd0c6fad-674a-4419-b19b-7a712d8b0254",
   "metadata": {},
   "outputs": [
    {
     "name": "stdout",
     "output_type": "stream",
     "text": [
      "0.82638 0.82190 0.82747 0.82191 0.82582 0.83194 0.82691 0.82302 0.82356 0.82136 "
     ]
    }
   ],
   "source": [
    "#의사결정 트리의 MNIST 손글씨 검증 정확도를 계산한다.\n",
    "dt_cv_score = cross_validation(DecisionTreeClassifier(), feature, label)\n",
    "for score in dt_cv_score:\n",
    "    print('{:7.5f}'.format(score), end=' ')"
   ]
  },
  {
   "cell_type": "code",
   "execution_count": 49,
   "id": "36948894-4d96-484b-9526-46f5ecf06240",
   "metadata": {},
   "outputs": [
    {
     "name": "stdout",
     "output_type": "stream",
     "text": [
      "0.95103 0.95325 0.94435 0.95157 0.95101 0.94601 0.95436 0.94935 0.94768 0.95046 "
     ]
    }
   ],
   "source": [
    "#랜덤 포레스트의 MNIST 손글씨 검증 정확도를 계산한다.\n",
    "rf_cv_score = cross_validation(RandomForestClassifier(), feature, label)\n",
    "for score in rf_cv_score:\n",
    "    print('{:7.5f}'.format(score), end=' ')"
   ]
  },
  {
   "cell_type": "markdown",
   "id": "10e6fb36-3eb1-4864-8a3f-8caff9c9d098",
   "metadata": {},
   "source": [
    "***\n",
    "의사결정 트리 VS 랜덤 포레스트 시각화\n",
    "***"
   ]
  },
  {
   "cell_type": "code",
   "execution_count": 52,
   "id": "8b56459d-b286-4797-beb3-aa932401ba29",
   "metadata": {},
   "outputs": [
    {
     "data": {
      "text/html": [
       "<div>\n",
       "<style scoped>\n",
       "    .dataframe tbody tr th:only-of-type {\n",
       "        vertical-align: middle;\n",
       "    }\n",
       "\n",
       "    .dataframe tbody tr th {\n",
       "        vertical-align: top;\n",
       "    }\n",
       "\n",
       "    .dataframe thead th {\n",
       "        text-align: right;\n",
       "    }\n",
       "</style>\n",
       "<table border=\"1\" class=\"dataframe\">\n",
       "  <thead>\n",
       "    <tr style=\"text-align: right;\">\n",
       "      <th></th>\n",
       "      <th>decision_tree</th>\n",
       "      <th>random_forest</th>\n",
       "    </tr>\n",
       "  </thead>\n",
       "  <tbody>\n",
       "    <tr>\n",
       "      <th>0</th>\n",
       "      <td>0.826381</td>\n",
       "      <td>0.951030</td>\n",
       "    </tr>\n",
       "    <tr>\n",
       "      <th>1</th>\n",
       "      <td>0.821899</td>\n",
       "      <td>0.953246</td>\n",
       "    </tr>\n",
       "    <tr>\n",
       "      <th>2</th>\n",
       "      <td>0.827467</td>\n",
       "      <td>0.944348</td>\n",
       "    </tr>\n",
       "    <tr>\n",
       "      <th>3</th>\n",
       "      <td>0.821909</td>\n",
       "      <td>0.951570</td>\n",
       "    </tr>\n",
       "    <tr>\n",
       "      <th>4</th>\n",
       "      <td>0.825819</td>\n",
       "      <td>0.951015</td>\n",
       "    </tr>\n",
       "    <tr>\n",
       "      <th>5</th>\n",
       "      <td>0.831940</td>\n",
       "      <td>0.946006</td>\n",
       "    </tr>\n",
       "    <tr>\n",
       "      <th>6</th>\n",
       "      <td>0.826912</td>\n",
       "      <td>0.954361</td>\n",
       "    </tr>\n",
       "    <tr>\n",
       "      <th>7</th>\n",
       "      <td>0.823017</td>\n",
       "      <td>0.949348</td>\n",
       "    </tr>\n",
       "    <tr>\n",
       "      <th>8</th>\n",
       "      <td>0.823557</td>\n",
       "      <td>0.947675</td>\n",
       "    </tr>\n",
       "    <tr>\n",
       "      <th>9</th>\n",
       "      <td>0.821359</td>\n",
       "      <td>0.950459</td>\n",
       "    </tr>\n",
       "  </tbody>\n",
       "</table>\n",
       "</div>"
      ],
      "text/plain": [
       "   decision_tree  random_forest\n",
       "0       0.826381       0.951030\n",
       "1       0.821899       0.953246\n",
       "2       0.827467       0.944348\n",
       "3       0.821909       0.951570\n",
       "4       0.825819       0.951015\n",
       "5       0.831940       0.946006\n",
       "6       0.826912       0.954361\n",
       "7       0.823017       0.949348\n",
       "8       0.823557       0.947675\n",
       "9       0.821359       0.950459"
      ]
     },
     "execution_count": 52,
     "metadata": {},
     "output_type": "execute_result"
    }
   ],
   "source": [
    "df = pd.DataFrame({'decision_tree' : dt_cv_score, 'random_forest' : rf_cv_score})\n",
    "df"
   ]
  },
  {
   "cell_type": "code",
   "execution_count": 56,
   "id": "c92ef3f2-943c-4db1-8f58-59fe55cb4e3d",
   "metadata": {},
   "outputs": [
    {
     "data": {
      "text/plain": [
       "<Figure size 1000x700 with 0 Axes>"
      ]
     },
     "metadata": {},
     "output_type": "display_data"
    },
    {
     "data": {
      "image/png": "[encoded data removed]",
      "text/plain": [
       "<Figure size 640x480 with 1 Axes>"
      ]
     },
     "metadata": {},
     "output_type": "display_data"
    }
   ],
   "source": [
    "plt.figure(figsize=[10, 7])\n",
    "df.plot()\n",
    "plt.ylabel('Accuracy')\n",
    "plt.show()"
   ]
  },
  {
   "cell_type": "markdown",
   "id": "3c15c27f-071f-4a62-b00d-1910fcd34e76",
   "metadata": {},
   "source": [
    "***\n",
    "최종 검증 정확도의 평균\n",
    "***"
   ]
  },
  {
   "cell_type": "code",
   "execution_count": 57,
   "id": "e0d82615-c452-4bd9-a829-60fcba74f465",
   "metadata": {},
   "outputs": [
    {
     "name": "stdout",
     "output_type": "stream",
     "text": [
      "의사결정 트리 : 82.503%\n",
      "랜덤포레스트 : 94.991%\n"
     ]
    }
   ],
   "source": [
    "print('의사결정 트리 : {:.3%}'.format(np.mean(dt_cv_score)))\n",
    "print('랜덤포레스트 : {:.3%}'.format(np.mean(rf_cv_score)))"
   ]
  },
  {
   "cell_type": "code",
   "execution_count": null,
   "id": "cc127f01-f771-4a61-9ca3-6b700a064bfa",
   "metadata": {},
   "outputs": [],
   "source": []
  },
  {
   "cell_type": "code",
   "execution_count": null,
   "id": "3a87f9f9-8a09-4582-b060-7300b7799f14",
   "metadata": {},
   "outputs": [],
   "source": []
  },
  {
   "cell_type": "code",
   "execution_count": null,
   "id": "df1ae990-9970-47b3-be2e-68265466a442",
   "metadata": {},
   "outputs": [],
   "source": []
  },
  {
   "cell_type": "code",
   "execution_count": null,
   "id": "ff5825f6-4cd0-4fe7-81fc-397d04da6601",
   "metadata": {},
   "outputs": [],
   "source": []
  },
  {
   "cell_type": "code",
   "execution_count": null,
   "id": "1ef8c94f-f45b-480b-95ef-9af8ff45f82b",
   "metadata": {},
   "outputs": [],
   "source": []
  },
  {
   "cell_type": "code",
   "execution_count": null,
   "id": "9db1f48d-35a2-4050-8510-822e6168e123",
   "metadata": {},
   "outputs": [],
   "source": []
  },
  {
   "cell_type": "code",
   "execution_count": null,
   "id": "89035c62-abdf-4e8a-94b1-1d49a6223ee5",
   "metadata": {},
   "outputs": [],
   "source": []
  },
  {
   "cell_type": "code",
   "execution_count": null,
   "id": "509d63cc-64ba-47b8-8e5f-7e0f7eeaa91d",
   "metadata": {},
   "outputs": [],
   "source": []
  },
  {
   "cell_type": "code",
   "execution_count": null,
   "id": "c72565fe-97da-4c90-a877-9f767dd0db40",
   "metadata": {},
   "outputs": [],
   "source": []
  },
  {
   "cell_type": "code",
   "execution_count": null,
   "id": "2c50d314-6301-4dd3-808a-b5c9ff86ed24",
   "metadata": {},
   "outputs": [],
   "source": []
  },
  {
   "cell_type": "code",
   "execution_count": null,
   "id": "393ea3b4-595c-4885-8e26-49e932756237",
   "metadata": {},
   "outputs": [],
   "source": []
  },
  {
   "cell_type": "code",
   "execution_count": null,
   "id": "3aaed59f-11d6-4d26-ac7d-0adecbb07acd",
   "metadata": {},
   "outputs": [],
   "source": []
  },
  {
   "cell_type": "code",
   "execution_count": null,
   "id": "5fca841b-ce25-439a-b23d-b6411c622352",
   "metadata": {},
   "outputs": [],
   "source": []
  },
  {
   "cell_type": "code",
   "execution_count": null,
   "id": "934247f9-a782-45ad-8317-22b4ff6e3f5a",
   "metadata": {},
   "outputs": [],
   "source": []
  },
  {
   "cell_type": "code",
   "execution_count": null,
   "id": "5c7924a3-b8da-489c-8e9e-9ca90d79eea9",
   "metadata": {},
   "outputs": [],
   "source": []
  },
  {
   "cell_type": "code",
   "execution_count": null,
   "id": "8c277353-873c-40c2-9297-8e059d624a4e",
   "metadata": {},
   "outputs": [],
   "source": []
  },
  {
   "cell_type": "code",
   "execution_count": null,
   "id": "ac878ec2-b981-418d-aa43-ee2606831cae",
   "metadata": {},
   "outputs": [],
   "source": []
  },
  {
   "cell_type": "code",
   "execution_count": null,
   "id": "9ef475cb-9a63-4831-ac96-fb66ce4e0796",
   "metadata": {},
   "outputs": [],
   "source": []
  },
  {
   "cell_type": "code",
   "execution_count": null,
   "id": "0cc73e82-cb13-44cd-b037-31bdf031c0a5",
   "metadata": {},
   "outputs": [],
   "source": []
  },
  {
   "cell_type": "code",
   "execution_count": null,
   "id": "615c17da-843f-4762-a6a4-6bb906a0deeb",
   "metadata": {},
   "outputs": [],
   "source": []
  },
  {
   "cell_type": "code",
   "execution_count": null,
   "id": "c5df86a9-3061-450e-8743-20092df302ef",
   "metadata": {},
   "outputs": [],
   "source": []
  },
  {
   "cell_type": "code",
   "execution_count": null,
   "id": "e2df713c-512c-4727-a794-19558b8566d5",
   "metadata": {},
   "outputs": [],
   "source": []
  },
  {
   "cell_type": "code",
   "execution_count": null,
   "id": "060c6d39-7739-4881-9f75-c6f73d459668",
   "metadata": {},
   "outputs": [],
   "source": []
  },
  {
   "cell_type": "code",
   "execution_count": null,
   "id": "d9e1e2fb-1606-45aa-b838-ea1ea1a7adc2",
   "metadata": {},
   "outputs": [],
   "source": []
  },
  {
   "cell_type": "code",
   "execution_count": null,
   "id": "369b8fb8-d082-43b1-b149-9474b8b3e9ff",
   "metadata": {},
   "outputs": [],
   "source": []
  },
  {
   "cell_type": "code",
   "execution_count": null,
   "id": "46920390-23e2-4f49-aecd-0e9c79a09d3c",
   "metadata": {},
   "outputs": [],
   "source": []
  },
  {
   "cell_type": "code",
   "execution_count": null,
   "id": "7489e3d8-2f85-48a5-9cac-8521561c946a",
   "metadata": {},
   "outputs": [],
   "source": []
  },
  {
   "cell_type": "code",
   "execution_count": null,
   "id": "5ed8fa08-711d-4232-b09c-cad1b17626ac",
   "metadata": {},
   "outputs": [],
   "source": []
  },
  {
   "cell_type": "code",
   "execution_count": null,
   "id": "deeeb9df-1302-402d-9bf4-587aa18aea17",
   "metadata": {},
   "outputs": [],
   "source": []
  },
  {
   "cell_type": "code",
   "execution_count": null,
   "id": "76e6dcac-4d00-49ef-9074-19c2b7728a8c",
   "metadata": {},
   "outputs": [],
   "source": []
  },
  {
   "cell_type": "code",
   "execution_count": null,
   "id": "598e471d-f46d-4774-a1f5-c015f6617369",
   "metadata": {},
   "outputs": [],
   "source": []
  },
  {
   "cell_type": "code",
   "execution_count": null,
   "id": "8a8ab3e9-ae6b-487e-a565-b9e88443b849",
   "metadata": {},
   "outputs": [],
   "source": []
  },
  {
   "cell_type": "code",
   "execution_count": null,
   "id": "ed396599-3089-45d2-8177-efcc40453f15",
   "metadata": {},
   "outputs": [],
   "source": []
  },
  {
   "cell_type": "code",
   "execution_count": null,
   "id": "5acd7f76-d9f6-48cb-a88d-dd3e432c7ff8",
   "metadata": {},
   "outputs": [],
   "source": []
  },
  {
   "cell_type": "code",
   "execution_count": null,
   "id": "e91ad0f0-c4c4-42e3-9ce6-60a676fbdc5c",
   "metadata": {},
   "outputs": [],
   "source": []
  },
  {
   "cell_type": "code",
   "execution_count": null,
   "id": "a923b70d-91dc-4751-bc5f-44f39642ab0a",
   "metadata": {},
   "outputs": [],
   "source": []
  },
  {
   "cell_type": "code",
   "execution_count": null,
   "id": "ada3dc4e-515f-440f-bc07-5fccc641df43",
   "metadata": {},
   "outputs": [],
   "source": []
  },
  {
   "cell_type": "code",
   "execution_count": null,
   "id": "57b050b0-7a5f-46e4-a6e9-2795c3359711",
   "metadata": {},
   "outputs": [],
   "source": []
  },
  {
   "cell_type": "code",
   "execution_count": null,
   "id": "12cb6d78-c1d3-4dd6-a2dd-9a5cffca60ac",
   "metadata": {},
   "outputs": [],
   "source": []
  },
  {
   "cell_type": "code",
   "execution_count": null,
   "id": "b37939e6-d96e-4225-bfb0-24e81976f1dc",
   "metadata": {},
   "outputs": [],
   "source": []
  },
  {
   "cell_type": "code",
   "execution_count": null,
   "id": "937fd2b2-e6d7-42b8-86a6-639a606a2cfd",
   "metadata": {},
   "outputs": [],
   "source": []
  },
  {
   "cell_type": "code",
   "execution_count": null,
   "id": "a4d45c22-2eb5-44c9-9de2-19d770484636",
   "metadata": {},
   "outputs": [],
   "source": []
  },
  {
   "cell_type": "code",
   "execution_count": null,
   "id": "0efc3785-60c7-40d4-944d-b95135103ddb",
   "metadata": {},
   "outputs": [],
   "source": []
  },
  {
   "cell_type": "code",
   "execution_count": null,
   "id": "f296fa7d-399c-4089-81d8-ac05a9fe2a72",
   "metadata": {},
   "outputs": [],
   "source": []
  },
  {
   "cell_type": "code",
   "execution_count": null,
   "id": "a44a91f0-9acd-45a9-92ef-7ece6c9e2d33",
   "metadata": {},
   "outputs": [],
   "source": []
  },
  {
   "cell_type": "code",
   "execution_count": null,
   "id": "ef467e99-a347-4c41-9760-fa76a027e4df",
   "metadata": {},
   "outputs": [],
   "source": []
  },
  {
   "cell_type": "code",
   "execution_count": null,
   "id": "ad27faa9-dbbe-48ac-9ea6-54a3af24c81f",
   "metadata": {},
   "outputs": [],
   "source": []
  },
  {
   "cell_type": "code",
   "execution_count": null,
   "id": "245042a2-cd3c-4d47-9999-5c24b7dcf109",
   "metadata": {},
   "outputs": [],
   "source": []
  },
  {
   "cell_type": "code",
   "execution_count": null,
   "id": "b8cdfe9a-7df2-48d1-8482-dae9d3336fdd",
   "metadata": {},
   "outputs": [],
   "source": []
  },
  {
   "cell_type": "code",
   "execution_count": null,
   "id": "a3e026d5-86f8-485e-8979-c123e2b47b16",
   "metadata": {},
   "outputs": [],
   "source": []
  },
  {
   "cell_type": "code",
   "execution_count": null,
   "id": "e9e2c373-97be-48e5-8203-119cefd83564",
   "metadata": {},
   "outputs": [],
   "source": []
  },
  {
   "cell_type": "code",
   "execution_count": null,
   "id": "b60ef7c4-e633-4c5a-9cae-25affba704fc",
   "metadata": {},
   "outputs": [],
   "source": []
  },
  {
   "cell_type": "code",
   "execution_count": null,
   "id": "02fd7b5c-62d9-4c52-8090-dff01bb2714c",
   "metadata": {},
   "outputs": [],
   "source": []
  },
  {
   "cell_type": "code",
   "execution_count": null,
   "id": "f69f3610-9246-4de5-898b-415272714de0",
   "metadata": {},
   "outputs": [],
   "source": []
  },
  {
   "cell_type": "code",
   "execution_count": null,
   "id": "d527d8eb-60f3-41b0-b62a-8060660e20ba",
   "metadata": {},
   "outputs": [],
   "source": []
  },
  {
   "cell_type": "code",
   "execution_count": null,
   "id": "f8125a9e-63b4-47fe-afc9-3804f5d22a8e",
   "metadata": {},
   "outputs": [],
   "source": []
  },
  {
   "cell_type": "code",
   "execution_count": null,
   "id": "eda83fa9-7142-4ade-a8ac-6ef86b249dd0",
   "metadata": {},
   "outputs": [],
   "source": []
  },
  {
   "cell_type": "code",
   "execution_count": null,
   "id": "63b589b8-890a-4763-838e-11608243087d",
   "metadata": {},
   "outputs": [],
   "source": []
  },
  {
   "cell_type": "code",
   "execution_count": null,
   "id": "11b5b65a-9ab7-4acf-8685-7324eb890cf5",
   "metadata": {},
   "outputs": [],
   "source": []
  }
 ],
 "metadata": {
  "kernelspec": {
   "display_name": "Python [conda env:.conda-py3.7] *",
   "language": "python",
   "name": "conda-env-.conda-py3.7-py"
  },
  "language_info": {
   "codemirror_mode": {
    "name": "ipython",
    "version": 3
   },
   "file_extension": ".py",
   "mimetype": "text/x-python",
   "name": "python",
   "nbconvert_exporter": "python",
   "pygments_lexer": "ipython3",
   "version": "3.7.1"
  }
 },
 "nbformat": 4,
 "nbformat_minor": 5
}
