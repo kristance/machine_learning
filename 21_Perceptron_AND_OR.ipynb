{
 "cells": [
  {
   "cell_type": "code",
   "execution_count": 1,
   "id": "5a8a2343-821a-4067-8d3e-9c505b766906",
   "metadata": {},
   "outputs": [
    {
     "name": "stdout",
     "output_type": "stream",
     "text": [
      "WARNING:tensorflow:From C:\\Users\\tj\\.conda\\envs\\py3.7\\lib\\site-packages\\tensorflow\\python\\compat\\v2_compat.py:107: disable_resource_variables (from tensorflow.python.ops.variable_scope) is deprecated and will be removed in a future version.\n",
      "Instructions for updating:\n",
      "non-resource variables are not supported in the long term\n"
     ]
    }
   ],
   "source": [
    "%config Completer.use_jedi = False                                       \n",
    "import warnings                                                             \n",
    "warnings.filterwarnings(action=\"ignore\")\n",
    "import tensorflow.compat.v1 as tf\n",
    "tf.disable_v2_behavior()"
   ]
  },
  {
   "cell_type": "markdown",
   "id": "e4aaef0c-6e72-4ad8-9240-324afb89949f",
   "metadata": {},
   "source": [
    "<img src=\"./딥러닝 (2).png\">\n",
    "<img src=\"./딥러닝 (1).png\">"
   ]
  },
  {
   "cell_type": "markdown",
   "id": "e23061fe-fe17-45b7-b9bc-33b2e05545c0",
   "metadata": {},
   "source": [
    "<img src=\"./퍼셉트론 (2).png\">\n",
    "<img src=\"./퍼셉트론 (1).png\">\n",
    "<img src=\"./퍼셉트론 (3).png\">"
   ]
  },
  {
   "cell_type": "markdown",
   "id": "2d8f6548-858b-47bd-a0e7-4a5dc016f561",
   "metadata": {},
   "source": [
    "***\n",
    "퍼셉트론은 엄밀히 말하면 딥러닝은 아니지만 뉴런과 상당히 닮은 분류기이다.  \n",
    "뉴런의 계산과정을 이해하고 뉴런 하나만으로 AND, OR 연산과 같은 기초적인 연산을 할 수 있음을 알아본다.\n",
    "***"
   ]
  },
  {
   "cell_type": "code",
   "execution_count": 2,
   "id": "48233c8d-2605-4e15-a048-25c28f3db472",
   "metadata": {},
   "outputs": [],
   "source": [
    "# 퍼셉트론 코드의 이해도를 높이기 위해 1을 True로, 0을 False로 그리고 편향(bias)은 1로 지정한다.\n",
    "T = 1.0\n",
    "F = 0.0\n",
    "bias = 1.0"
   ]
  },
  {
   "cell_type": "markdown",
   "id": "fe7b8de5-6c59-482f-a1a4-e30b953fc0c3",
   "metadata": {},
   "source": [
    "***\n",
    "AND, OR, XOR 실습 데이터를 함수로 정의해 함수를 호출하면 데이터를 얻을 수 있게 한다.\n",
    "***"
   ]
  },
  {
   "cell_type": "code",
   "execution_count": 3,
   "id": "e3ca3c3d-add5-4698-b52d-d39f313cf017",
   "metadata": {},
   "outputs": [],
   "source": [
    "def get_AND_data():\n",
    "    #학습 데이터\n",
    "    X = [\n",
    "         [F, F, bias], # F\n",
    "         [F, T, bias], # F\n",
    "         [T, F, bias], # F\n",
    "         [T, T, bias]  # T\n",
    "    ]\n",
    "    # 학습 데이터에 따른 실제값(레이블, 타겟, 클래스)\n",
    "    Y = [\n",
    "        [F],\n",
    "        [F],\n",
    "        [F],\n",
    "        [T],\n",
    "    ]\n",
    "    return X, Y\n",
    "\n",
    "def get_OR_data():\n",
    "    #학습 데이터\n",
    "    X = [\n",
    "         [F, F, bias], # F\n",
    "         [F, T, bias], # F\n",
    "         [T, F, bias], # T\n",
    "         [T, T, bias]  # T\n",
    "    ]\n",
    "    # 학습 데이터에 따른 실제값(레이블, 타겟, 클래스)\n",
    "    Y = [\n",
    "        [F],\n",
    "        [T],\n",
    "        [T],\n",
    "        [T],\n",
    "    ]\n",
    "    return X, Y\n",
    "\n",
    "\n",
    "\n",
    "def get_XOR_data():\n",
    "    #학습 데이터\n",
    "    X = [\n",
    "         [F, F, bias], # F\n",
    "         [F, T, bias], # T\n",
    "         [T, F, bias], # T\n",
    "         [T, T, bias]  # F\n",
    "    ]\n",
    "    # 학습 데이터에 따른 실제값(레이블, 타겟, 클래스)\n",
    "    Y = [\n",
    "        [F],\n",
    "        [T],\n",
    "        [T],\n",
    "        [F],\n",
    "    ]\n",
    "    return X, Y\n",
    "\n"
   ]
  },
  {
   "cell_type": "code",
   "execution_count": 4,
   "id": "778e7f50-d652-4fcb-ade0-be4accc72097",
   "metadata": {},
   "outputs": [
    {
     "name": "stdout",
     "output_type": "stream",
     "text": [
      "[[0.0, 0.0, 1.0], [0.0, 1.0, 1.0], [1.0, 0.0, 1.0], [1.0, 1.0, 1.0]] [[0.0], [1.0], [1.0], [1.0]]\n"
     ]
    }
   ],
   "source": [
    "# AND 연산에 필요한 데이터를 호출한다.\n",
    "#X, Y = get_AND_data()\n",
    "# OR 연산에 필요한 데이터를 호출한다.\n",
    "X, Y = get_OR_data()\n",
    "# XOR 연산에 필요한 데이터를 호출한다.\n",
    "#X, Y = get_XOR_data()\n",
    "print(X, Y)"
   ]
  },
  {
   "cell_type": "markdown",
   "id": "35094c93",
   "metadata": {},
   "source": [
    "***\n",
    "tenserflow를 사용해서 퍼셉트론을 구현한다.\n",
    "***"
   ]
  },
  {
   "cell_type": "code",
   "execution_count": 5,
   "id": "5d9b49ce-b8ab-40fe-b220-7b2d34051aa3",
   "metadata": {},
   "outputs": [
    {
     "name": "stdout",
     "output_type": "stream",
     "text": [
      "[[0.7616297 ]\n",
      " [0.48673058]\n",
      " [0.1578517 ]]\n"
     ]
    }
   ],
   "source": [
    "# 논리 연산을 위한 입력값으로 X, Y, 편향값을 입력받아(총 3개의 입력) 1개의 값을 출력해야 하므로 가중치는 [3, 1]로 설정한다.\n",
    "# matmul() 메소드로 행렬의 내적을 실행하기 위해 입력 데이터가 1행 3열이므로 가중치를 3행 1열로 만든다.\n",
    "#W = tf.Variable(tf.random_normal( (3, 1) )) # 정규분포를 따르는 난수를 만든다.\n",
    "W = tf.Variable(tf.random_uniform( (3, 1) )) # 균등분포를 따르는 난수를 만든다.\n",
    "sess = tf.Session() # 세션을 만든다.\n",
    "sess.run(tf.global_variables_initializer()) # 변수를 초기화한다. \n",
    "print(sess.run(W))"
   ]
  },
  {
   "cell_type": "markdown",
   "id": "d081f9ff-f8f3-432f-8ae1-198278a24864",
   "metadata": {},
   "source": [
    "***\n",
    "퍼셉트론은 두 개의 입력이 있을 때 하나의 뉴런으로 두 개의 입력을 계산한 뒤 최종적으로 0 또는 1을 출력한다.  \n",
    "두 개의 입력은 가중치와 곱해져 뉴런의 첫번째 단계인 시그마로 들어가고,  \n",
    "시그마 단계에서 모든 가중치와 입력값을 곱한 결과에 편향값을 더하는 과정이 이룯어진다.\n",
    "\n",
    "시그마 값은 뉴런의 두번째 단계인 활성화 함수의 입력으로 들어가는데 퍼셉스톤은 스텝 함수라는 활성화 함수를 사용하고,  \n",
    "스텝 함수는 시그마값이 x <= 0 일 경우 0을, x > 0일 경우 1을 출력한다.\n",
    "***"
   ]
  },
  {
   "cell_type": "code",
   "execution_count": 6,
   "id": "9ef471b4-1625-4ee8-a6e7-db2888ef8db6",
   "metadata": {},
   "outputs": [
    {
     "name": "stdout",
     "output_type": "stream",
     "text": [
      "True\n",
      "1.0\n",
      "False\n",
      "0.0\n"
     ]
    }
   ],
   "source": [
    "sess = tf.Session()\n",
    "# tensorflow의 greater(a, b) 메소드는 a > b일 경우 True, 그렇지 않으면 False\n",
    "#print(sess.run( tf.greater(1, 0) ))\n",
    "# tensorflow의 greater_equal(a, b) 메소드는 a >= b일 경우 True, 그렇지 않으면 False\n",
    "#print(sess.run( tf.greater_equal(1, 0) ))\n",
    "# tensorflow의 less(a, b) 메소드는 a < b일 경우 True, 그렇지 않으면 False\n",
    "#print(sess.run( tf.less(1, 0) ))\n",
    "# tensorflow의 less_equal(a, b) 메소드는 a <= b일 경우 True, 그렇지 않으면 False\n",
    "#print(sess.run( tf.less_equal(1, 0) ))\n",
    "# tensorflow의 equal(a, b) 메소드는 a = b일 경우 True, 그렇지 않으면 False\n",
    "#print(sess.run( tf.equal(1, 0) ))\n",
    "# tensorflow의 not_equal(a, b) 메소드는 a != b일 경우 True, 그렇지 않으면 False\n",
    "#print(sess.run( tf.not_equal(1, 0) ))\n",
    "\n",
    "print(sess.run( tf.greater(1, 0) ))\n",
    "# tensorflow의 cast(데이터, dtype) 메소드는 데이터를 dtype으로 형변환한다.\n",
    "# True는 숫자로 형변환하면 1, False는 숫자로 형변환하면 0으로 변환된다.\n",
    "f = tf.cast( tf.greater(1, 0), dtype=tf.float32 )\n",
    "print(sess.run(f))\n",
    "\n",
    "print(sess.run( tf.greater(1, 1) ))\n",
    "f = tf.cast( tf.greater(1, 1), dtype=tf.float32 )\n",
    "print(sess.run(f))"
   ]
  },
  {
   "cell_type": "code",
   "execution_count": 7,
   "id": "54e7ea68-48fe-49d1-ac35-0e0d0667305c",
   "metadata": {},
   "outputs": [],
   "source": [
    "# x가 0보다 크면 1, x가 0이하이면 0을 리턴하는 활성화 함수를 구현한다.\n",
    "def step(z):\n",
    "    return tf.cast( tf.greater(z, 0), dtype=tf.float32 )"
   ]
  },
  {
   "cell_type": "code",
   "execution_count": 8,
   "id": "c8f3fa44-ffba-4ac6-9e0c-37ecbb8356b0",
   "metadata": {},
   "outputs": [
    {
     "name": "stdout",
     "output_type": "stream",
     "text": [
      "예측값\n",
      " [[0.17539155]\n",
      " [0.21257651]\n",
      " [0.7898325 ]\n",
      " [0.8270174 ]]\n",
      "----------------------------------------------------------------------------------------------------\n",
      "최종 예측값\n",
      " [[1.]\n",
      " [1.]\n",
      " [1.]\n",
      " [1.]]\n",
      "----------------------------------------------------------------------------------------------------\n",
      "레이블(Y)과 최종 예측값(output)의 편차\n",
      " [[-1.]\n",
      " [ 0.]\n",
      " [ 0.]\n",
      " [ 0.]]\n",
      "----------------------------------------------------------------------------------------------------\n",
      "평균 제곱 오차\n",
      " 0.25\n"
     ]
    }
   ],
   "source": [
    "# 손실(오차, 비용) 함수로 평균 제곱 오차(MSE)를 사용한다.\n",
    "sess = tf.Session() # 세션을 만든다.\n",
    "sess.run(tf.global_variables_initializer()) # 변수를 초기화한다. \n",
    "\n",
    "# 행렬의 내적 메소드로 학습 데이터(X)와 가중치(W)를 곱한다.\n",
    "z = tf.matmul(X, W)\n",
    "print('예측값\\n', sess.run(z))\n",
    "print('-' * 100)\n",
    "\n",
    "# 예측값을 활성화(스텝) 함수에 넣어 최종 예측값을 계산한다.\n",
    "output = step(z)\n",
    "print('최종 예측값\\n', sess.run(output))\n",
    "print('-' * 100)\n",
    "\n",
    "# 레이블(Y)과 최종 예측값(스텝 함수 실행 결과; output)의 편차를 계산한다.\n",
    "error = tf.subtract(Y, output)\n",
    "print('레이블(Y)과 최종 예측값(output)의 편차\\n', sess.run(error))\n",
    "print('-' * 100)\n",
    "\n",
    "# 평균 제곱 오차를 계산한다.\n",
    "mse = tf.reduce_mean( tf.square(error) )\n",
    "print('평균 제곱 오차\\n', sess.run(mse))"
   ]
  },
  {
   "cell_type": "markdown",
   "id": "9b69f2d9-3276-4c84-bd62-ee969a7a6f8f",
   "metadata": {},
   "source": [
    "***\n",
    "보통의 경우 딥러닝 모델은 경사 하강법을 통해 매개 변수를 최적화하지만  \n",
    "미분값이 큰 의미가 없는 스텝 함수의 영향으로(0은 미분 불가능, 1(상수)은 미분하면 1) 퍼셉트론은 아래와 같은 방법으로 최적화를 진행한다.  \n",
    "***"
   ]
  },
  {
   "cell_type": "markdown",
   "id": "7264d28e-73b6-4ec0-aa96-a8fb84aab7aa",
   "metadata": {},
   "source": [
    "***\n",
    "퍼셉트론의 오차\n",
    "***\n",
    "결과값이 1이 나와야하는데 스텝함수의 출력이 0인 경우 : w_new = w_origin + delta (w_origin; 기존 가중치)   \n",
    "결과값이 0이 나와야하는데 스텝함수의 출력이 1인 경우 : w_new = w_origin - delta  \n",
    "\n",
    "위의 2가지 경우를 다음과 같이 사용할 수 있다."
   ]
  },
  {
   "cell_type": "code",
   "execution_count": 9,
   "id": "b1b4bbed-9773-4de0-b55f-0e6c184d81f3",
   "metadata": {},
   "outputs": [],
   "source": [
    "import numpy as np"
   ]
  },
  {
   "cell_type": "code",
   "execution_count": 10,
   "id": "b79bcf79-245c-4039-87ec-1e1681f6fa13",
   "metadata": {
    "tags": []
   },
   "outputs": [
    {
     "name": "stdout",
     "output_type": "stream",
     "text": [
      "<class 'list'>\n",
      "<class 'numpy.ndarray'>\n",
      "[[0. 0. 1.]\n",
      " [0. 1. 1.]\n",
      " [1. 0. 1.]\n",
      " [1. 1. 1.]]\n",
      "[[0. 0. 1. 1.]\n",
      " [0. 1. 0. 1.]\n",
      " [1. 1. 1. 1.]]\n"
     ]
    }
   ],
   "source": [
    "print(type(X))\n",
    "print(type( np.array(X) ))\n",
    "print( np.array(X) )\n",
    "print( np.array(X).T ) # 전치"
   ]
  },
  {
   "cell_type": "code",
   "execution_count": 11,
   "id": "5b28ccd2-aa68-4a14-ac1a-d378ba0673cc",
   "metadata": {},
   "outputs": [
    {
     "name": "stdout",
     "output_type": "stream",
     "text": [
      "가중치를 수정할 값\n",
      " [[ 0.]\n",
      " [ 0.]\n",
      " [-1.]]\n",
      "------------------------------------\n",
      "수정된 가중치\n",
      " [[ 0.2688514 ]\n",
      " [ 0.9247898 ]\n",
      " [-0.15957189]]\n",
      "------------------------------------\n"
     ]
    }
   ],
   "source": [
    "#행렬의 transpose는 행과 열을 교환하여 얻는 전치행렬를 의미한다.\n",
    "#matmul(A, B, transpose_a=True)는 행렬을 내적하기 전에 A행렬을 전치하고 내적한다.\n",
    "#matmul(A, B, transpose_b=True)는 행렬을 내적하기 전에 B행렬을 전치하고 내적한다.\n",
    "sess = tf.Session()\n",
    "sess.run(tf.global_variables_initializer())\n",
    "delta = tf.matmul(X, error, transpose_a=True) #행렬의 내적을 계산하기 전에 행렬 X를 전치한다.\n",
    "print('가중치를 수정할 값\\n', sess.run(delta))\n",
    "print('------------------------------------')\n",
    "\n",
    "# 가중치를 가중치를 수정할 값으로 수정해서 다시 계산한다. -> 역전파\n",
    "print('수정된 가중치\\n', sess.run(tf.add(W, delta)))\n",
    "print('------------------------------------')\n",
    "\n",
    "#assign() 메소드는 세션안에서 tensorflow 변수 값을 수정한다.\n",
    "train = tf.assign( W, tf.add(W, delta) )"
   ]
  },
  {
   "cell_type": "markdown",
   "id": "99c3a00d-ddf8-48ef-adf6-197b74b6f93b",
   "metadata": {},
   "source": [
    "***\n",
    "학습 후 테스트\n",
    "***"
   ]
  },
  {
   "cell_type": "code",
   "execution_count": 12,
   "id": "830123b8-723f-4e19-9d98-2d7b05b647c7",
   "metadata": {},
   "outputs": [
    {
     "name": "stdout",
     "output_type": "stream",
     "text": [
      "epoch ->  1, mse -> 0.25\n",
      "epoch ->  2, mse -> 0.0\n",
      "학습 결과\n",
      " [[0.]\n",
      " [1.]\n",
      " [1.]\n",
      " [1.]]\n"
     ]
    }
   ],
   "source": [
    "sess = tf.Session()\n",
    "sess.run(tf.global_variables_initializer())\n",
    "\n",
    "err, epoch, max_epoch = 1.0, 0, 20 # 오차, 현재 학습 횟수, 최대 학습 횟수\n",
    "# 오차가 발생하고 학습 횟수가 최대 학습 횟수를 초과하지 않는 동안 반복한다.\n",
    "while err > 0.0 and epoch < max_epoch : \n",
    "    epoch += 1 # 학습 횟수를 증가시킨다.\n",
    "    err = sess.run(mse) # 평균 제곱 오차를 계산한다. \n",
    "    sess.run(train) # 학습시킨다.\n",
    "    print('epoch -> {:2d}, mse -> {}'.format(epoch, err))\n",
    "#------- while\n",
    "\n",
    "print('학습 결과\\n', sess.run(output))\n",
    "sess.close()"
   ]
  },
  {
   "cell_type": "code",
   "execution_count": 13,
   "id": "19df7877-0fd8-4a01-a330-025efb833c23",
   "metadata": {},
   "outputs": [
    {
     "name": "stdout",
     "output_type": "stream",
     "text": [
      "epoch ->  1, mse -> 0.25\n",
      "epoch ->  2, mse -> 0.25\n",
      "epoch ->  3, mse -> 0.25\n",
      "epoch ->  4, mse -> 0.0\n",
      "학습 결과\n",
      " [[0.]\n",
      " [1.]\n",
      " [1.]\n",
      " [1.]]\n"
     ]
    }
   ],
   "source": [
    "# 세션을 with구문을 사용해서 만들면 with 블록이 종료되는 순간 자동으로 close한다.\n",
    "with tf.Session() as sess: # 세션을 만든다.\n",
    "    sess.run(tf.global_variables_initializer())\n",
    "\n",
    "    err, epoch, max_epoch = 1.0, 0, 20 \n",
    "    while err > 0.0 and epoch < max_epoch : \n",
    "        epoch += 1\n",
    "        err = sess.run(mse)\n",
    "        sess.run(train)\n",
    "        print('epoch -> {:2d}, mse -> {}'.format(epoch, err))\n",
    "    #------- while\n",
    "\n",
    "    print('학습 결과\\n', sess.run(output))\n"
   ]
  },
  {
   "cell_type": "code",
   "execution_count": null,
   "id": "2921c0ac-18ed-4652-b2ca-ef929de60d7c",
   "metadata": {},
   "outputs": [],
   "source": []
  },
  {
   "cell_type": "code",
   "execution_count": null,
   "id": "78d2068f-f6db-4153-8a97-fded85d45a51",
   "metadata": {},
   "outputs": [],
   "source": []
  },
  {
   "cell_type": "code",
   "execution_count": null,
   "id": "987211c2-17ea-4c4a-a36c-b19d4b1462bf",
   "metadata": {},
   "outputs": [],
   "source": []
  },
  {
   "cell_type": "code",
   "execution_count": null,
   "id": "0fed17be-d0c1-48fe-8d25-97e524a63520",
   "metadata": {},
   "outputs": [],
   "source": []
  },
  {
   "cell_type": "code",
   "execution_count": null,
   "id": "4b096aa6-1750-4916-b3f9-9fa0ab94c3cc",
   "metadata": {},
   "outputs": [],
   "source": []
  },
  {
   "cell_type": "code",
   "execution_count": null,
   "id": "9eb3cbd4-e487-420c-af9c-7238d7f0e3ea",
   "metadata": {},
   "outputs": [],
   "source": []
  },
  {
   "cell_type": "code",
   "execution_count": null,
   "id": "1200eb9d-773f-497a-85a4-d27d7615587a",
   "metadata": {},
   "outputs": [],
   "source": []
  },
  {
   "cell_type": "code",
   "execution_count": null,
   "id": "5ccef940-146f-4e61-8727-16ba5c2a7b8f",
   "metadata": {},
   "outputs": [],
   "source": []
  },
  {
   "cell_type": "code",
   "execution_count": null,
   "id": "973f2596-76c9-4e89-a69b-21d8190abea0",
   "metadata": {},
   "outputs": [],
   "source": []
  },
  {
   "cell_type": "code",
   "execution_count": null,
   "id": "9f6d6e83-46ea-4235-98cd-987fabeff676",
   "metadata": {},
   "outputs": [],
   "source": []
  },
  {
   "cell_type": "code",
   "execution_count": null,
   "id": "7cddf1d6-916e-4680-a839-24d6b746d1a8",
   "metadata": {},
   "outputs": [],
   "source": []
  },
  {
   "cell_type": "code",
   "execution_count": null,
   "id": "df77bc23-2309-486b-a35f-cee31a597bde",
   "metadata": {},
   "outputs": [],
   "source": []
  },
  {
   "cell_type": "code",
   "execution_count": null,
   "id": "1b006409-fae9-4d69-bcd0-6e5c2f8e21fa",
   "metadata": {},
   "outputs": [],
   "source": []
  },
  {
   "cell_type": "code",
   "execution_count": null,
   "id": "0c37d98a-1213-4d99-a45f-efbb5567d3ed",
   "metadata": {},
   "outputs": [],
   "source": []
  },
  {
   "cell_type": "code",
   "execution_count": null,
   "id": "94c5387b-54ff-425c-a444-a4aebefe9efc",
   "metadata": {},
   "outputs": [],
   "source": []
  },
  {
   "cell_type": "code",
   "execution_count": null,
   "id": "e9841106-222e-4a1b-9d43-1900876d3d53",
   "metadata": {},
   "outputs": [],
   "source": []
  },
  {
   "cell_type": "code",
   "execution_count": null,
   "id": "cf52eed6-96e2-4f81-824c-f62d80d9443a",
   "metadata": {},
   "outputs": [],
   "source": []
  },
  {
   "cell_type": "code",
   "execution_count": null,
   "id": "f9b495f5-6fa3-4569-8e53-b09c1e280257",
   "metadata": {},
   "outputs": [],
   "source": []
  },
  {
   "cell_type": "code",
   "execution_count": null,
   "id": "e8d8ed37-4bdd-46d6-85b4-d6d7068a28c1",
   "metadata": {},
   "outputs": [],
   "source": []
  },
  {
   "cell_type": "code",
   "execution_count": null,
   "id": "181d04ef-0b2a-4f5a-83c9-b63fc876546a",
   "metadata": {},
   "outputs": [],
   "source": []
  },
  {
   "cell_type": "code",
   "execution_count": null,
   "id": "edd8e486-9f60-4ecf-befc-abfa0225d1af",
   "metadata": {},
   "outputs": [],
   "source": []
  },
  {
   "cell_type": "code",
   "execution_count": null,
   "id": "463c85a0-2cbe-4336-9751-0560205a1724",
   "metadata": {},
   "outputs": [],
   "source": []
  },
  {
   "cell_type": "code",
   "execution_count": null,
   "id": "a04bd98c-a8ee-40b6-9d5f-c18a943b3b37",
   "metadata": {},
   "outputs": [],
   "source": []
  },
  {
   "cell_type": "code",
   "execution_count": null,
   "id": "c6267a54-cfd7-4c5f-86c7-c293086486d4",
   "metadata": {},
   "outputs": [],
   "source": []
  },
  {
   "cell_type": "code",
   "execution_count": null,
   "id": "3ab79a79-1c68-451c-99e4-b730755067a1",
   "metadata": {},
   "outputs": [],
   "source": []
  },
  {
   "cell_type": "code",
   "execution_count": null,
   "id": "598c530e-6d05-4b42-bbaf-6398ca8e3f88",
   "metadata": {},
   "outputs": [],
   "source": []
  },
  {
   "cell_type": "code",
   "execution_count": null,
   "id": "2ab20db4-df59-437e-96bf-7f9870a68bfc",
   "metadata": {},
   "outputs": [],
   "source": []
  },
  {
   "cell_type": "code",
   "execution_count": null,
   "id": "743ba312-2771-4e88-9147-c8457d699bbf",
   "metadata": {},
   "outputs": [],
   "source": []
  },
  {
   "cell_type": "code",
   "execution_count": null,
   "id": "89d2a631-54e0-4a99-b5f9-896885f3e8e5",
   "metadata": {},
   "outputs": [],
   "source": []
  },
  {
   "cell_type": "code",
   "execution_count": null,
   "id": "35e45132-1d45-4e34-8744-bcde312e7dc2",
   "metadata": {},
   "outputs": [],
   "source": []
  },
  {
   "cell_type": "code",
   "execution_count": null,
   "id": "d01c592e-9724-47aa-9a5a-3e4ad1ebf8b0",
   "metadata": {},
   "outputs": [],
   "source": []
  },
  {
   "cell_type": "code",
   "execution_count": null,
   "id": "d9d094be-81de-4bdc-8132-e27cf0f70968",
   "metadata": {},
   "outputs": [],
   "source": []
  },
  {
   "cell_type": "code",
   "execution_count": null,
   "id": "f5b541ff-cc69-43d7-b25a-1d35ffd312a2",
   "metadata": {},
   "outputs": [],
   "source": []
  },
  {
   "cell_type": "code",
   "execution_count": null,
   "id": "4aacf373-87d3-41dd-a983-3d37e22f9b57",
   "metadata": {},
   "outputs": [],
   "source": []
  },
  {
   "cell_type": "code",
   "execution_count": null,
   "id": "a6c30838-c628-4f1f-8868-dcdb0023af65",
   "metadata": {},
   "outputs": [],
   "source": []
  },
  {
   "cell_type": "code",
   "execution_count": null,
   "id": "36deba50-52ff-44b1-9ffd-f43f9116cb30",
   "metadata": {},
   "outputs": [],
   "source": []
  },
  {
   "cell_type": "code",
   "execution_count": null,
   "id": "0c50d3d8-53af-413c-8425-047e8bffa809",
   "metadata": {},
   "outputs": [],
   "source": []
  },
  {
   "cell_type": "code",
   "execution_count": null,
   "id": "65cd4b13-69ec-4828-9b61-1bce47048f75",
   "metadata": {},
   "outputs": [],
   "source": []
  },
  {
   "cell_type": "code",
   "execution_count": null,
   "id": "d445aecf-b7df-4374-b3de-ef150f88990b",
   "metadata": {},
   "outputs": [],
   "source": []
  },
  {
   "cell_type": "code",
   "execution_count": null,
   "id": "2ac085da-bbf5-441e-aaed-7a603bcb9ae8",
   "metadata": {},
   "outputs": [],
   "source": []
  },
  {
   "cell_type": "code",
   "execution_count": null,
   "id": "413f4110-9017-4077-8caa-2bef5fa75fbe",
   "metadata": {},
   "outputs": [],
   "source": []
  },
  {
   "cell_type": "code",
   "execution_count": null,
   "id": "22ef33b6-97c6-463f-860d-e3c2045710b7",
   "metadata": {},
   "outputs": [],
   "source": []
  },
  {
   "cell_type": "code",
   "execution_count": null,
   "id": "98653b30-78d4-47c6-bbe8-05098fc173fc",
   "metadata": {},
   "outputs": [],
   "source": []
  },
  {
   "cell_type": "code",
   "execution_count": null,
   "id": "86c3b06d-a6d3-4a56-ab33-f1aefda3efef",
   "metadata": {},
   "outputs": [],
   "source": []
  },
  {
   "cell_type": "code",
   "execution_count": null,
   "id": "d7fd48bc-e827-42e9-aaec-675b1af9b0af",
   "metadata": {},
   "outputs": [],
   "source": []
  },
  {
   "cell_type": "code",
   "execution_count": null,
   "id": "72e445ad-5e9a-4229-b0a9-c254e1068b5f",
   "metadata": {},
   "outputs": [],
   "source": []
  },
  {
   "cell_type": "code",
   "execution_count": null,
   "id": "9d10dbdb-3567-45c7-a954-a0e35dc7bc71",
   "metadata": {},
   "outputs": [],
   "source": []
  },
  {
   "cell_type": "code",
   "execution_count": null,
   "id": "9edc9b32-a25e-42ae-add9-564d33f933d9",
   "metadata": {},
   "outputs": [],
   "source": []
  },
  {
   "cell_type": "code",
   "execution_count": null,
   "id": "16f6bc96-c8ef-4500-9f07-ef19d6319bdd",
   "metadata": {},
   "outputs": [],
   "source": []
  },
  {
   "cell_type": "code",
   "execution_count": null,
   "id": "14ada7de-0d64-4559-99fa-ff9e18e2fda9",
   "metadata": {},
   "outputs": [],
   "source": []
  },
  {
   "cell_type": "code",
   "execution_count": null,
   "id": "2f74cc9e-8201-4b83-b586-1b7a9d83bd46",
   "metadata": {},
   "outputs": [],
   "source": []
  },
  {
   "cell_type": "code",
   "execution_count": null,
   "id": "b408c886-6c2e-49a2-a249-c5035107efdc",
   "metadata": {},
   "outputs": [],
   "source": []
  }
 ],
 "metadata": {
  "kernelspec": {
   "display_name": "Python [conda env:.conda-py3.7] *",
   "language": "python",
   "name": "conda-env-.conda-py3.7-py"
  },
  "language_info": {
   "codemirror_mode": {
    "name": "ipython",
    "version": 3
   },
   "file_extension": ".py",
   "mimetype": "text/x-python",
   "name": "python",
   "nbconvert_exporter": "python",
   "pygments_lexer": "ipython3",
   "version": "3.7.1"
  }
 },
 "nbformat": 4,
 "nbformat_minor": 5
}
