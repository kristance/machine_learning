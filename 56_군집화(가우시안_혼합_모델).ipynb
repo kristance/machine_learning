{
 "cells": [
  {
   "cell_type": "code",
   "execution_count": 1,
   "id": "ea5eef8a-263b-4fab-9083-0e30862549e2",
   "metadata": {
    "tags": []
   },
   "outputs": [],
   "source": [
    "import warnings\n",
    "warnings.filterwarnings(action='ignore')\n",
    "%config Completer.use_jedi = False\n",
    "import numpy as np\n",
    "import pandas as pd\n",
    "import matplotlib.pyplot as plt\n",
    "import matplotlib as mpl\n",
    "mpl.rcParams['axes.unicode_minus'] = False\n",
    "plt.rcParams['font.family'] = 'NanumGothicCoding'\n",
    "plt.rcParams['font.size'] = 10\n",
    "import seaborn as sns\n",
    "\n",
    "from sklearn import datasets\n",
    "from sklearn.model_selection import train_test_split\n",
    "from sklearn.preprocessing import StandardScaler\n",
    "from sklearn.metrics import accuracy_score\n",
    "from sklearn.metrics import precision_score\n",
    "from sklearn.metrics import recall_score\n",
    "from sklearn.metrics import f1_score\n",
    "from sklearn.metrics import confusion_matrix\n",
    "from sklearn.metrics import classification_report\n",
    "from sklearn.metrics import mean_absolute_error\n",
    "from sklearn.metrics import mean_squared_error\n",
    "from sklearn.metrics import r2_score\n",
    "from sklearn.metrics import silhouette_score"
   ]
  },
  {
   "cell_type": "markdown",
   "id": "22e2170c-c711-4ee1-b191-f5f159fef190",
   "metadata": {},
   "source": [
    "***\n",
    "가우시안 혼합 모델(Gaussian Mixture Model)\n",
    "***\n",
    "전체 집단 내부에 속한 하위 집단의 존재를 가정한 확률 모델이다.  \n",
    "전체 집단의 확률 분포가 가우시안 분포를 따르는 경우 흔히 정규 분포를 가우시안 분포라 부른다.  \n",
    "또한, 가우시안 혼합 모델은 비지도 학습의 한 종류로 클러스터링에 사용된다."
   ]
  },
  {
   "cell_type": "markdown",
   "id": "8dfc8b30-8fe1-4c02-a653-46d2891b4aa5",
   "metadata": {},
   "source": [
    "***\n",
    "가우시안 혼합 모델 클러스터링 알고리즘을 활용하여 주어진 데이터를 클러스터링 해본다.\n",
    "***\n",
    "데이터 불러오기"
   ]
  },
  {
   "cell_type": "code",
   "execution_count": 2,
   "id": "95894288-3e93-4f18-a702-84e8e36f568a",
   "metadata": {
    "tags": []
   },
   "outputs": [
    {
     "name": "stdout",
     "output_type": "stream",
     "text": [
      "(100, 2) (100,)\n"
     ]
    }
   ],
   "source": [
    "# 클러스터링용 가상 데이터를 불러온다.\n",
    "x_train, y_train = datasets.make_blobs(n_samples=100, n_features=2, random_state=10, centers=6) \n",
    "print(x_train.shape, y_train.shape)"
   ]
  },
  {
   "cell_type": "markdown",
   "id": "7b94d683-0919-4c46-8c91-406f31edbbdf",
   "metadata": {},
   "source": [
    "***\n",
    "클러스터링 되지 않은 데이터 시각화\n",
    "***"
   ]
  },
  {
   "cell_type": "code",
   "execution_count": 3,
   "id": "c5ba9d70-f798-4089-a578-50bda68a71ce",
   "metadata": {
    "tags": []
   },
   "outputs": [
    {
     "data": {
      "image/png": "[encoded data removed]",
      "text/plain": [
       "<Figure size 1000x700 with 1 Axes>"
      ]
     },
     "metadata": {},
     "output_type": "display_data"
    }
   ],
   "source": [
    "# 클러스터링되지 않은 데이터 시각화\n",
    "plt.figure(figsize=[10, 7])\n",
    "plt.scatter(x=x_train[: , 0], y=x_train[:, 1], c=\"red\")\n",
    "plt.show()"
   ]
  },
  {
   "cell_type": "markdown",
   "id": "66fdd776-bc91-4bb5-9e5b-5030b00fc54a",
   "metadata": {},
   "source": [
    "***\n",
    "가우시안 혼합 클러스터링 모델을 생성 후 학습시킨다.\n",
    "***"
   ]
  },
  {
   "cell_type": "code",
   "execution_count": 4,
   "id": "64f610cb-85b6-4505-808d-e041548d1232",
   "metadata": {
    "tags": []
   },
   "outputs": [
    {
     "data": {
      "text/plain": [
       "GaussianMixture(n_components=6, random_state=0)"
      ]
     },
     "execution_count": 4,
     "metadata": {},
     "output_type": "execute_result"
    }
   ],
   "source": [
    "# 가우시안 혼합 클러스터링 모델 알고리즘 사용\n",
    "from sklearn.mixture import GaussianMixture\n",
    "\n",
    "# n_components 속성에 클러스터링 갯수를 지정해서 가우시안 혼합 클러스터링 모델을 만든다. 기본값 -> 1\n",
    "cluster = GaussianMixture(n_components=6, random_state=0)\n",
    "\n",
    "#학습데이터로 가우시안 혼합 클러스터링 모델을 학습시킨다.\n",
    "cluster.fit(x_train)"
   ]
  },
  {
   "cell_type": "code",
   "execution_count": 5,
   "id": "05c391a9-c890-4342-8f20-8260a68eac99",
   "metadata": {
    "tags": []
   },
   "outputs": [
    {
     "name": "stdout",
     "output_type": "stream",
     "text": [
      "[4 1 2 2 0 2 3 3 0 4 5 2 0 4 0 2 1 3 0 3 3 2 4 2 2 2 4 5 0 3 3 4 4 0 4 4 1\n",
      " 5 4 5 3 3 5 3 0 5 5 4 0 1 0 1 0 4 5 0 0 4 1 3 2 1 1 3 4 2 1 1 1 0 5 5 2 3\n",
      " 0 2 4 4 5 3 4 2 2 0 0 5 3 1 5 3 5 3 5 1 5 2 1 1 1 5]\n"
     ]
    }
   ],
   "source": [
    "# 클러스터링 결과(레이블)를 확인한다.\n",
    "#fit_predict() 메소드에 피쳐 데이터를 넘겨서 클러스터링 결과를 확인할 수 있다. \n",
    "print(cluster.fit_predict(x_train))"
   ]
  },
  {
   "cell_type": "markdown",
   "id": "224341f0-ee76-446c-b717-2160a0c053f1",
   "metadata": {},
   "source": [
    "***\n",
    "실제 데이터의 레이블 데이터 시각화\n",
    "***"
   ]
  },
  {
   "cell_type": "code",
   "execution_count": 6,
   "id": "519677a7-36a4-45b3-8163-b825943714e9",
   "metadata": {
    "tags": []
   },
   "outputs": [
    {
     "data": {
      "text/html": [
       "<div>\n",
       "<style scoped>\n",
       "    .dataframe tbody tr th:only-of-type {\n",
       "        vertical-align: middle;\n",
       "    }\n",
       "\n",
       "    .dataframe tbody tr th {\n",
       "        vertical-align: top;\n",
       "    }\n",
       "\n",
       "    .dataframe thead th {\n",
       "        text-align: right;\n",
       "    }\n",
       "</style>\n",
       "<table border=\"1\" class=\"dataframe\">\n",
       "  <thead>\n",
       "    <tr style=\"text-align: right;\">\n",
       "      <th></th>\n",
       "      <th>x</th>\n",
       "      <th>y</th>\n",
       "      <th>label</th>\n",
       "      <th>cluster</th>\n",
       "    </tr>\n",
       "  </thead>\n",
       "  <tbody>\n",
       "    <tr>\n",
       "      <th>0</th>\n",
       "      <td>-6.086784</td>\n",
       "      <td>4.729827</td>\n",
       "      <td>3</td>\n",
       "      <td>4</td>\n",
       "    </tr>\n",
       "    <tr>\n",
       "      <th>1</th>\n",
       "      <td>3.801750</td>\n",
       "      <td>4.278268</td>\n",
       "      <td>1</td>\n",
       "      <td>1</td>\n",
       "    </tr>\n",
       "    <tr>\n",
       "      <th>2</th>\n",
       "      <td>-7.330583</td>\n",
       "      <td>-8.494063</td>\n",
       "      <td>4</td>\n",
       "      <td>2</td>\n",
       "    </tr>\n",
       "    <tr>\n",
       "      <th>3</th>\n",
       "      <td>-6.107069</td>\n",
       "      <td>-7.818906</td>\n",
       "      <td>4</td>\n",
       "      <td>2</td>\n",
       "    </tr>\n",
       "    <tr>\n",
       "      <th>4</th>\n",
       "      <td>5.525562</td>\n",
       "      <td>-8.186965</td>\n",
       "      <td>0</td>\n",
       "      <td>0</td>\n",
       "    </tr>\n",
       "    <tr>\n",
       "      <th>...</th>\n",
       "      <td>...</td>\n",
       "      <td>...</td>\n",
       "      <td>...</td>\n",
       "      <td>...</td>\n",
       "    </tr>\n",
       "    <tr>\n",
       "      <th>95</th>\n",
       "      <td>-6.950884</td>\n",
       "      <td>-9.024594</td>\n",
       "      <td>4</td>\n",
       "      <td>2</td>\n",
       "    </tr>\n",
       "    <tr>\n",
       "      <th>96</th>\n",
       "      <td>2.591843</td>\n",
       "      <td>4.446782</td>\n",
       "      <td>1</td>\n",
       "      <td>1</td>\n",
       "    </tr>\n",
       "    <tr>\n",
       "      <th>97</th>\n",
       "      <td>2.992321</td>\n",
       "      <td>5.436981</td>\n",
       "      <td>1</td>\n",
       "      <td>1</td>\n",
       "    </tr>\n",
       "    <tr>\n",
       "      <th>98</th>\n",
       "      <td>2.310466</td>\n",
       "      <td>4.854172</td>\n",
       "      <td>1</td>\n",
       "      <td>1</td>\n",
       "    </tr>\n",
       "    <tr>\n",
       "      <th>99</th>\n",
       "      <td>3.316214</td>\n",
       "      <td>10.323041</td>\n",
       "      <td>5</td>\n",
       "      <td>5</td>\n",
       "    </tr>\n",
       "  </tbody>\n",
       "</table>\n",
       "<p>100 rows × 4 columns</p>\n",
       "</div>"
      ],
      "text/plain": [
       "           x          y  label  cluster\n",
       "0  -6.086784   4.729827      3        4\n",
       "1   3.801750   4.278268      1        1\n",
       "2  -7.330583  -8.494063      4        2\n",
       "3  -6.107069  -7.818906      4        2\n",
       "4   5.525562  -8.186965      0        0\n",
       "..       ...        ...    ...      ...\n",
       "95 -6.950884  -9.024594      4        2\n",
       "96  2.591843   4.446782      1        1\n",
       "97  2.992321   5.436981      1        1\n",
       "98  2.310466   4.854172      1        1\n",
       "99  3.316214  10.323041      5        5\n",
       "\n",
       "[100 rows x 4 columns]"
      ]
     },
     "execution_count": 6,
     "metadata": {},
     "output_type": "execute_result"
    }
   ],
   "source": [
    "# 클러스터링된 데이터 시각화를 위해 데이터 프레임을 만든다.\n",
    "x_train_df = pd.DataFrame(x_train, columns=['x', 'y'])\n",
    "x_train_df[\"label\"] = y_train\n",
    "x_train_df[\"cluster\"] = cluster.fit_predict(x_train) # 데이터프레임에 클러스터링된 레이블을 넣어준다.\n",
    "x_train_df"
   ]
  },
  {
   "cell_type": "code",
   "execution_count": 7,
   "id": "7d9a8c6a-321c-40fb-97fe-dcf8a89f250b",
   "metadata": {},
   "outputs": [
    {
     "name": "stdout",
     "output_type": "stream",
     "text": [
      "{0, 1, 2, 3, 4, 5}\n",
      "{0, 1, 2, 3, 4, 5}\n"
     ]
    }
   ],
   "source": [
    "# 레이블과 클러스터링된 레이블의 종류 확인\n",
    "print(set(x_train_df.label))\n",
    "print(set(x_train_df.cluster))"
   ]
  },
  {
   "cell_type": "code",
   "execution_count": 8,
   "id": "e0af3b65-ea9f-441e-ac29-f32aaa4b6e4f",
   "metadata": {
    "tags": []
   },
   "outputs": [
    {
     "data": {
      "image/png": "[encoded data removed]",
      "text/plain": [
       "<Figure size 1000x700 with 1 Axes>"
      ]
     },
     "metadata": {},
     "output_type": "display_data"
    }
   ],
   "source": [
    "# 위 셀의 시각화 코드를 반복문을 사용해서 만든다.\n",
    "plt.figure(figsize=[10, 7])\n",
    "markers = [\"o\", \"*\", \"s\", \"x\", \"^\", \"v\"]\n",
    "\n",
    "for i in set(x_train_df.label):\n",
    "     df_index = x_train_df[x_train_df.label == i] # 원 데이터의 레이블 데이터를 분할한다.\n",
    "     X = df_index.x # 학습 데이터의 첫번째 성분 벡터를 추출한다.\n",
    "     Y = df_index.y # 학습 데이터의 두번째 성분 벡터를 추출한다.\n",
    "     plt.scatter(x=X, y=Y, marker = markers[i], label= i ) # 산포도를 그린다.\n",
    "\n",
    "plt.title(\" 레이블 별 데이터 시각화\")\n",
    "plt.xlabel(\"x\")\n",
    "plt.ylabel(\"y\")\n",
    "plt.legend()\n",
    "plt.show()"
   ]
  },
  {
   "cell_type": "markdown",
   "id": "4b195c44-cb9b-4b5d-8a40-e6037696b51d",
   "metadata": {},
   "source": [
    "***\n",
    "가우시안 혼합 모델 클러스터링 된 결과 데이터 시각화\n",
    "***"
   ]
  },
  {
   "cell_type": "code",
   "execution_count": 9,
   "id": "8628ef5b-7681-4816-9c1d-9a9b5814ec56",
   "metadata": {},
   "outputs": [
    {
     "data": {
      "image/png": "[encoded data removed]",
      "text/plain": [
       "<Figure size 1000x700 with 1 Axes>"
      ]
     },
     "metadata": {},
     "output_type": "display_data"
    }
   ],
   "source": [
    "# 위 셀의 시각화 코드를 반복문을 사용해서 만든다.\n",
    "plt.figure(figsize=[10, 7])\n",
    "markers = [\"o\", \"*\", \"s\", \"x\", \"^\", \"v\"]\n",
    "\n",
    "for i in set(x_train_df.cluster):\n",
    "     df_index = x_train_df[x_train_df.cluster == i] # 클러스터링 결과별로 데이터를 분할한다.\n",
    "     X = df_index.x # 클러스터링 결과에서 첫번째 성분 벡터를 추출한다.\n",
    "     Y = df_index.y # 클러스터링 결과에서 두번째 성분 벡터를 추출한다.\n",
    "     plt.scatter(x=X, y=Y, marker = markers[i], label=i ) # 산포도를 그린다.\n",
    "\n",
    "plt.title(\"병합 계층 클러스터링 시각화\")\n",
    "plt.xlabel(\"x\")\n",
    "plt.ylabel(\"y\")\n",
    "plt.legend()\n",
    "plt.show()"
   ]
  },
  {
   "cell_type": "markdown",
   "id": "50e232bd-bc06-41bc-844a-f453e48c304b",
   "metadata": {},
   "source": [
    "***\n",
    "학습된 모델을 평가한다.\n",
    "***"
   ]
  },
  {
   "cell_type": "code",
   "execution_count": 10,
   "id": "ffe555d2-faab-4362-86f2-816e2142a253",
   "metadata": {
    "tags": []
   },
   "outputs": [
    {
     "name": "stdout",
     "output_type": "stream",
     "text": [
      "0.7000819727948289\n"
     ]
    }
   ],
   "source": [
    "# silhouette_score() 메소드에 피쳐 데이터와 군집화 결과로 얻은 클러스터를 넘겨 실루엣 스코어를 평가한다.\n",
    "sil_score = silhouette_score(x_train, cluster.fit_predict(x_train))\n",
    "print(sil_score)"
   ]
  },
  {
   "cell_type": "code",
   "execution_count": null,
   "id": "8bdd8736-74b3-4366-808e-a7cace8313d1",
   "metadata": {},
   "outputs": [],
   "source": []
  },
  {
   "cell_type": "code",
   "execution_count": null,
   "id": "33895bc2-fc68-45c4-ac2f-ed2a98c9ce7d",
   "metadata": {},
   "outputs": [],
   "source": []
  },
  {
   "cell_type": "code",
   "execution_count": null,
   "id": "7b3ac6a9-0d2c-4e78-a87f-7a3090d18d69",
   "metadata": {},
   "outputs": [],
   "source": []
  },
  {
   "cell_type": "code",
   "execution_count": null,
   "id": "f2d56c0f-b073-4bce-8ce7-cad5432e806b",
   "metadata": {},
   "outputs": [],
   "source": []
  },
  {
   "cell_type": "code",
   "execution_count": null,
   "id": "c2ea16a8-8537-4576-82dd-ede235bbf4f6",
   "metadata": {},
   "outputs": [],
   "source": []
  },
  {
   "cell_type": "code",
   "execution_count": null,
   "id": "80500ac4-fd6f-4126-b9ae-19fa0edaaf5d",
   "metadata": {},
   "outputs": [],
   "source": []
  },
  {
   "cell_type": "code",
   "execution_count": null,
   "id": "c8579b52-d52e-4905-8995-cc7063e7c66e",
   "metadata": {},
   "outputs": [],
   "source": []
  },
  {
   "cell_type": "code",
   "execution_count": null,
   "id": "2c017fd2-85e1-4bf2-8a00-0e7f00610161",
   "metadata": {},
   "outputs": [],
   "source": []
  },
  {
   "cell_type": "code",
   "execution_count": null,
   "id": "690984c5-2ecc-45a5-81a1-31fe29348f5e",
   "metadata": {},
   "outputs": [],
   "source": []
  },
  {
   "cell_type": "code",
   "execution_count": null,
   "id": "fcfc4cc6-35d8-4960-a991-4c89072f45f2",
   "metadata": {},
   "outputs": [],
   "source": []
  },
  {
   "cell_type": "code",
   "execution_count": null,
   "id": "b4e92b69-0546-4892-b8f0-bdd0db3677d4",
   "metadata": {},
   "outputs": [],
   "source": []
  },
  {
   "cell_type": "code",
   "execution_count": null,
   "id": "b287ae12-cd64-4b9d-b043-2c8726a14a00",
   "metadata": {},
   "outputs": [],
   "source": []
  },
  {
   "cell_type": "code",
   "execution_count": null,
   "id": "e3ea81f8-7a23-4a4b-b1d3-65722d3967a4",
   "metadata": {},
   "outputs": [],
   "source": []
  },
  {
   "cell_type": "code",
   "execution_count": null,
   "id": "d68d0692-268a-4a81-bb94-c32be44aa779",
   "metadata": {},
   "outputs": [],
   "source": []
  },
  {
   "cell_type": "code",
   "execution_count": null,
   "id": "2499d795-a28a-45fb-b8a8-dd3aa82384a9",
   "metadata": {},
   "outputs": [],
   "source": []
  },
  {
   "cell_type": "code",
   "execution_count": null,
   "id": "a0fea37a-d8c3-4a81-bbc2-bc7654152844",
   "metadata": {},
   "outputs": [],
   "source": []
  },
  {
   "cell_type": "code",
   "execution_count": null,
   "id": "79f9e996-77c4-4c91-affc-99a2809fc5bf",
   "metadata": {},
   "outputs": [],
   "source": []
  },
  {
   "cell_type": "code",
   "execution_count": null,
   "id": "2a7b7ee9-844d-44a4-b04d-6ac6346b15d0",
   "metadata": {},
   "outputs": [],
   "source": []
  },
  {
   "cell_type": "code",
   "execution_count": null,
   "id": "f3f67f80-e069-4884-a685-1592db2ba747",
   "metadata": {},
   "outputs": [],
   "source": []
  },
  {
   "cell_type": "code",
   "execution_count": null,
   "id": "18884c54-ef02-42d9-b29d-2f76fc92bf09",
   "metadata": {},
   "outputs": [],
   "source": []
  },
  {
   "cell_type": "code",
   "execution_count": null,
   "id": "4e4234d5-a0e4-425e-b075-164647ff72f7",
   "metadata": {},
   "outputs": [],
   "source": []
  },
  {
   "cell_type": "code",
   "execution_count": null,
   "id": "7291ec52-1f60-4ce2-bd62-bfb010305a5a",
   "metadata": {},
   "outputs": [],
   "source": []
  },
  {
   "cell_type": "code",
   "execution_count": null,
   "id": "ffd90566-20d3-4a41-85bc-7bfe1af50a67",
   "metadata": {},
   "outputs": [],
   "source": []
  },
  {
   "cell_type": "code",
   "execution_count": null,
   "id": "21d8ccb6-1428-43f9-9ace-ca27e68b9706",
   "metadata": {},
   "outputs": [],
   "source": []
  },
  {
   "cell_type": "code",
   "execution_count": null,
   "id": "d55b6a47-a761-41e7-aa93-33defba79884",
   "metadata": {},
   "outputs": [],
   "source": []
  },
  {
   "cell_type": "code",
   "execution_count": null,
   "id": "3cbc9d1a-4fc3-49a5-a438-34b0ab3c025b",
   "metadata": {},
   "outputs": [],
   "source": []
  },
  {
   "cell_type": "code",
   "execution_count": null,
   "id": "360e6353-78c4-445e-97da-386c098dfb86",
   "metadata": {},
   "outputs": [],
   "source": []
  },
  {
   "cell_type": "code",
   "execution_count": null,
   "id": "d574ce2c-7fbc-4e25-a796-2445e64196e8",
   "metadata": {},
   "outputs": [],
   "source": []
  },
  {
   "cell_type": "code",
   "execution_count": null,
   "id": "73c38fd9-8b36-4eda-b259-48a11d0b4316",
   "metadata": {},
   "outputs": [],
   "source": []
  },
  {
   "cell_type": "code",
   "execution_count": null,
   "id": "7078fcc9-7636-4c10-8974-4d2dc410ba8c",
   "metadata": {},
   "outputs": [],
   "source": []
  },
  {
   "cell_type": "code",
   "execution_count": null,
   "id": "6d4b8cb1-2bea-4f48-a48b-dd7feaaa979f",
   "metadata": {},
   "outputs": [],
   "source": []
  },
  {
   "cell_type": "code",
   "execution_count": null,
   "id": "96276614-8fc0-4a7a-8ee8-2fc9f10dee1b",
   "metadata": {},
   "outputs": [],
   "source": []
  },
  {
   "cell_type": "code",
   "execution_count": null,
   "id": "91d6d59e-4cfd-4785-8070-8f6d014f8ff1",
   "metadata": {},
   "outputs": [],
   "source": []
  },
  {
   "cell_type": "code",
   "execution_count": null,
   "id": "27e6dd32-b295-47c8-87a3-3804676911a9",
   "metadata": {},
   "outputs": [],
   "source": []
  },
  {
   "cell_type": "code",
   "execution_count": null,
   "id": "56650f0d-621d-4bb8-b53d-9f72c7fa87f1",
   "metadata": {},
   "outputs": [],
   "source": []
  },
  {
   "cell_type": "code",
   "execution_count": null,
   "id": "b8a22d91-0962-46aa-b0e3-e5bc9bc6db41",
   "metadata": {},
   "outputs": [],
   "source": []
  },
  {
   "cell_type": "code",
   "execution_count": null,
   "id": "a849a9fa-1252-49bf-9c0c-a034192c1b46",
   "metadata": {},
   "outputs": [],
   "source": []
  },
  {
   "cell_type": "code",
   "execution_count": null,
   "id": "5c8e7e79-4943-4f64-80f5-7f6da16fd207",
   "metadata": {},
   "outputs": [],
   "source": []
  },
  {
   "cell_type": "code",
   "execution_count": null,
   "id": "2b8c1b9e-7b7d-498a-89e5-888a8af5b2eb",
   "metadata": {},
   "outputs": [],
   "source": []
  },
  {
   "cell_type": "code",
   "execution_count": null,
   "id": "f4426cdf-f1ad-434d-87b4-366f5b855ece",
   "metadata": {},
   "outputs": [],
   "source": []
  },
  {
   "cell_type": "code",
   "execution_count": null,
   "id": "a50b6790-538c-4c6b-b112-ea8fc6ec6b9e",
   "metadata": {},
   "outputs": [],
   "source": []
  },
  {
   "cell_type": "code",
   "execution_count": null,
   "id": "a32f960a-ff5f-475f-9003-08155c00ba22",
   "metadata": {},
   "outputs": [],
   "source": []
  },
  {
   "cell_type": "code",
   "execution_count": null,
   "id": "f3ea2a14-a595-4dbe-9b0d-049cef3d6d31",
   "metadata": {},
   "outputs": [],
   "source": []
  },
  {
   "cell_type": "code",
   "execution_count": null,
   "id": "fde301d2-5f73-4053-a495-14c64d322bb2",
   "metadata": {},
   "outputs": [],
   "source": []
  },
  {
   "cell_type": "code",
   "execution_count": null,
   "id": "d8c3bf94-69f6-45ee-97ce-ae4a4a3add5f",
   "metadata": {},
   "outputs": [],
   "source": []
  },
  {
   "cell_type": "code",
   "execution_count": null,
   "id": "ecf0ed62-4c00-44c7-ba98-3cdb235be0fd",
   "metadata": {},
   "outputs": [],
   "source": []
  },
  {
   "cell_type": "code",
   "execution_count": null,
   "id": "660fbdb9-edd9-4c82-9bb3-b829853e2e1a",
   "metadata": {},
   "outputs": [],
   "source": []
  },
  {
   "cell_type": "code",
   "execution_count": null,
   "id": "8df0956d-98a9-442c-b6f5-d46de8556809",
   "metadata": {},
   "outputs": [],
   "source": []
  },
  {
   "cell_type": "code",
   "execution_count": null,
   "id": "987677c5-7725-4e95-a554-052b4753e1d3",
   "metadata": {},
   "outputs": [],
   "source": []
  },
  {
   "cell_type": "code",
   "execution_count": null,
   "id": "7cd7d2a6-4c1e-4b8c-a94b-7bd862a4dfe7",
   "metadata": {},
   "outputs": [],
   "source": []
  },
  {
   "cell_type": "code",
   "execution_count": null,
   "id": "18a2cb96-978b-448d-9e58-ad1e9dd245d8",
   "metadata": {},
   "outputs": [],
   "source": []
  },
  {
   "cell_type": "code",
   "execution_count": null,
   "id": "24be7414-726a-400a-86ab-c50627a79c8a",
   "metadata": {},
   "outputs": [],
   "source": []
  }
 ],
 "metadata": {
  "kernelspec": {
   "display_name": "Python [conda env:.conda-py3.7] *",
   "language": "python",
   "name": "conda-env-.conda-py3.7-py"
  },
  "language_info": {
   "codemirror_mode": {
    "name": "ipython",
    "version": 3
   },
   "file_extension": ".py",
   "mimetype": "text/x-python",
   "name": "python",
   "nbconvert_exporter": "python",
   "pygments_lexer": "ipython3",
   "version": "3.7.1"
  }
 },
 "nbformat": 4,
 "nbformat_minor": 5
}
