{
 "cells": [
  {
   "cell_type": "code",
   "execution_count": 1,
   "id": "c53dba71-0803-48c6-bb64-9330783aa182",
   "metadata": {},
   "outputs": [],
   "source": [
    "import warnings\n",
    "warnings.filterwarnings(action='ignore')\n",
    "%config Completer.use_jedi = False\n",
    "import numpy as np\n",
    "import pandas as pd\n",
    "import matplotlib.pyplot as plt\n",
    "import matplotlib as mpl\n",
    "mpl.rcParams['axes.unicode_minus'] = False\n",
    "plt.rcParams['font.family'] = 'NanumGothicCoding'\n",
    "plt.rcParams['font.size'] = 10\n",
    "import seaborn as sns\n",
    "\n",
    "import tensorflow as tf\n",
    "from sklearn import datasets\n",
    "from tensorflow.keras.utils import to_categorical \n",
    "from sklearn.model_selection import train_test_split\n",
    "from tensorflow.keras.models import  Sequential \n",
    "from tensorflow.keras.layers import Dense \n",
    "from tensorflow.keras.layers import BatchNormalization \n",
    "from tensorflow.keras.layers import Activation  "
   ]
  },
  {
   "cell_type": "markdown",
   "id": "afc43f89-b18a-4072-a46c-105e19ae55d4",
   "metadata": {},
   "source": [
    "***\n",
    "회귀 신경망을 이용해 보스턴 집값을 예측하는 모델을 만들어 본다.\n",
    "***"
   ]
  },
  {
   "cell_type": "code",
   "execution_count": 2,
   "id": "5c6369ea-adae-465a-8d5f-08ce6244b751",
   "metadata": {},
   "outputs": [],
   "source": [
    "# 일관된 결과값이 나오도록 numpy와 tensorflow의 seed를 설정한다. \n",
    "np.random.seed(0)\n",
    "tf.random.set_seed(0)"
   ]
  },
  {
   "cell_type": "markdown",
   "id": "14af5733-266b-48e8-a0eb-c4afaecd5a51",
   "metadata": {},
   "source": [
    "***\n",
    "분류 신경망에 사용할 데이터 준비\n",
    "***"
   ]
  },
  {
   "cell_type": "code",
   "execution_count": 3,
   "id": "d482421f-9ecf-4ae7-9255-be9f2667c50f",
   "metadata": {},
   "outputs": [
    {
     "name": "stdout",
     "output_type": "stream",
     "text": [
      "(506, 13) (506,)\n",
      "{5.0, 6.3, 7.2, 8.8, 7.4, 10.2, 11.8, 12.7, 13.6, 14.5, 15.0, 16.5, 17.5, 18.9, 18.2, 20.4, 21.6, 22.9, 21.7, 24.0, 19.9, 26.6, 26.5, 27.5, 23.1, 27.1, 28.7, 24.7, 30.8, 33.4, 34.7, 34.9, 36.2, 35.4, 31.6, 33.0, 38.7, 33.2, 43.8, 41.3, 37.2, 39.8, 42.3, 48.5, 44.8, 50.0, 46.7, 48.3, 44.0, 48.8, 46.0, 10.5, 11.5, 11.0, 12.5, 12.0, 13.5, 13.0, 14.0, 16.6, 16.0, 16.1, 16.4, 17.4, 17.1, 17.0, 17.6, 17.9, 18.4, 18.6, 18.5, 18.0, 18.1, 19.6, 19.4, 19.5, 19.1, 19.0, 20.0, 20.5, 20.9, 20.6, 20.1, 21.0, 21.4, 21.5, 21.9, 21.1, 22.0, 22.5, 22.6, 22.4, 22.1, 23.4, 23.5, 23.9, 23.6, 23.0, 24.1, 24.6, 24.4, 24.5, 25.0, 25.1, 26.4, 27.0, 27.9, 28.0, 28.4, 28.1, 28.5, 28.6, 29.4, 29.9, 29.6, 29.1, 29.0, 30.5, 30.1, 31.1, 31.5, 31.0, 32.5, 32.0, 32.9, 32.4, 32.2, 33.3, 33.8, 33.1, 32.7, 8.4, 34.6, 35.2, 35.1, 10.4, 10.9, 7.0, 36.4, 36.0, 36.5, 36.1, 11.9, 37.9, 37.0, 37.6, 37.3, 13.9, 13.4, 14.4, 14.9, 15.4, 8.5, 41.7, 42.8, 43.1, 43.5, 45.4, 9.5, 8.3, 8.7, 9.7, 10.8, 11.3, 11.7, 12.3, 12.8, 13.2, 13.3, 13.8, 14.8, 14.3, 14.2, 15.2, 15.7, 15.3, 16.2, 16.8, 16.3, 16.7, 17.3, 17.8, 17.2, 17.7, 18.7, 18.8, 18.3, 19.3, 19.7, 19.8, 19.2, 20.2, 20.8, 20.3, 20.7, 21.2, 21.8, 22.2, 22.8, 22.7, 22.3, 23.3, 23.8, 23.2, 23.7, 24.8, 24.2, 24.3, 25.3, 25.2, 26.7, 26.2, 7.5, 28.2, 29.8, 30.3, 30.7, 5.6, 31.7, 31.2, 8.1, 9.6, 12.1, 12.6, 13.1, 14.6, 14.1, 15.6, 15.1}\n",
      "(379, 13) (127, 13) (379,) (127,)\n"
     ]
    }
   ],
   "source": [
    "# 데이터 불러오기\n",
    "raw_data = datasets.load_boston() # 사이킷런이 제공하는 와인 데이터를 불러온다.\n",
    "\n",
    "# 피쳐, 레이블 데이터 저장\n",
    "xData = raw_data.data # 피쳐 데이터를 저장한다.\n",
    "yData = raw_data.target # 피쳐 데이터에 따른 레이블을 저장한다.\n",
    "print(xData.shape, yData.shape)\n",
    "\n",
    "# 총 13개의 피쳐가 있고, 이는 신경망을 생성할 때 사용된다.\n",
    "\n",
    "# 클래스(레이블)의 종류 확인\n",
    "# 클래스의 종류를 확인함으로써 분류 문제인지 회귀 문제인지 파악할 수 있고, \n",
    "# 분류 문제라면 몇가지 클래스로 구분되는지 알 수 있다. \n",
    "print(set(yData))\n",
    "\n",
    "# 레이블 데이터 원-핫 인코딩은 분류 문제일 경우 사용하고 회귀 문제일 경우 사용하지 않는다.\n",
    "\n",
    "# 학습 데이터와 테스트 데이터로 분할\n",
    "x_train, x_test, y_train, y_test = train_test_split(xData, yData, random_state=0)\n",
    "print(x_train.shape, x_test.shape, y_train.shape, y_test.shape)\n"
   ]
  },
  {
   "cell_type": "markdown",
   "id": "713e2504-7321-4a6d-b31c-cffac75bdcf1",
   "metadata": {},
   "source": [
    "***\n",
    "시퀀스를 사용하는 회귀 신경망 생성\n",
    "***"
   ]
  },
  {
   "cell_type": "code",
   "execution_count": 4,
   "id": "7850cefe-9c7f-4935-af68-f2f59a667020",
   "metadata": {},
   "outputs": [
    {
     "name": "stdout",
     "output_type": "stream",
     "text": [
      "피쳐 갯수(입력 데이터 1건(피쳐)의 차원) -> 13\n"
     ]
    }
   ],
   "source": [
    "# 회귀 신경망 모델 학습에 사용되는 피쳐 갯수(n)와 클래스 갯수(c)를 저장한다.\n",
    "#  회귀 신경망은 클래스 개수를 별도로 저장할 필요가 없다\n",
    "n = x_train.shape[1]\n",
    "print(f'피쳐 갯수(입력 데이터 1건(피쳐)의 차원) -> {n}')\n",
    "epochs = 50"
   ]
  },
  {
   "cell_type": "code",
   "execution_count": 5,
   "id": "25e02f09-98a6-4146-b14c-fa616485285f",
   "metadata": {},
   "outputs": [
    {
     "name": "stdout",
     "output_type": "stream",
     "text": [
      "Model: \"sequential\"\n",
      "_________________________________________________________________\n",
      " Layer (type)                Output Shape              Param #   \n",
      "=================================================================\n",
      " dense (Dense)               (None, 20)                280       \n",
      "                                                                 \n",
      " dense_1 (Dense)             (None, 1)                 21        \n",
      "                                                                 \n",
      "=================================================================\n",
      "Total params: 301\n",
      "Trainable params: 301\n",
      "Non-trainable params: 0\n",
      "_________________________________________________________________\n"
     ]
    }
   ],
   "source": [
    "# Sequential() 객체 선언 후 Sequential 모델에 add() 메소드로 레이어를 추가해 신경망을 만든다.\n",
    "model = Sequential() # 시퀀스를 사용하는 신경망 모델을 만든다.\n",
    "\n",
    "# 입력 레이어를 만든다.\n",
    "# input_dim  속성으로 입력 데이터 1건(피쳐)의 차원, units 속성으로 레이어의 출력 차원,\n",
    "# activation 속성으로 활성화 함수를 지정한다.\n",
    "model.add(Dense( input_dim = n, units = 20, activation = \"relu\" ))\n",
    "\n",
    "# 출력 레이어를 만든다.  \n",
    "# 회귀 신경망은 구분해야할 클래스 갯수만큼 units 속을 지정해야 했지만, \n",
    "# 회귀 신경망은 1건을 예측만 하기때문에 units 속성값 1로 지정하면 된다.\n",
    "# 회귀 문제를 풀 때 최종 활성화 함수로 \"softmax\"를 사용했지만, \n",
    "# 최종 활성화 함수로 항등(선형) 함수를 사용해야 하는데, \n",
    "# 코드 상에서 최종 활성화 함수를 지정하지 않으면 항등 함수가 기본값으로 적용된다.\n",
    "model.add(Dense( units = 1, activation = \"linear\" ))\n",
    "\n",
    "#Dense 레이어의 Param은 [(입력 차원;갯수;13 + 바이어스;1) x 출력 차원;갯수;20]으로 계산되고, 바이어스는 레이어당 1개이다.\n",
    "#BatchNormalizetion의 Param은 [입력갯수 x 4]로 계산된다.\n",
    "model.summary() # 신경망 모델의 구조를 확인한다.\n"
   ]
  },
  {
   "cell_type": "markdown",
   "id": "5c2d3067-ed41-4ee5-9d19-5983ed117822",
   "metadata": {},
   "source": [
    "***\n",
    "회귀 신경망 모델 컴파일\n",
    "***"
   ]
  },
  {
   "cell_type": "code",
   "execution_count": 6,
   "id": "c359ef6a-437b-42ed-957d-d5778f372765",
   "metadata": {},
   "outputs": [],
   "source": [
    "# compile() 메소드로 생성한 신경망 모델을 컴파일 한다.\n",
    "# 회귀 신경망은 loss라는 속성에 손실함수(비용함수, 오차함수)를 지정할 때  \"mean_squared_error\"를 지정한다.\n",
    "# optimizer 속성에 최적화 함수(일반적으로 \"adam\";Adam Optimizer)를 지정한다.\n",
    "# metrics 속성에 평가 기준을 지정한다.\n",
    "model.compile(loss=\"mean_squared_error\", optimizer=\"adam\", metrics=\"mean_squared_error\")"
   ]
  },
  {
   "cell_type": "markdown",
   "id": "c641ddda-87e1-49aa-ac7d-29e6ecf2893b",
   "metadata": {},
   "source": [
    "***\n",
    "회귀 신경망 모델 학습\n",
    "***"
   ]
  },
  {
   "cell_type": "code",
   "execution_count": 7,
   "id": "796684d9-d192-4d18-ba98-19f3962c872e",
   "metadata": {
    "collapsed": true,
    "jupyter": {
     "outputs_hidden": true
    },
    "tags": []
   },
   "outputs": [
    {
     "name": "stdout",
     "output_type": "stream",
     "text": [
      "Epoch 1/50\n",
      "76/76 [==============================] - 0s 920us/step - loss: 1121.5302 - mean_squared_error: 1121.5302\n",
      "Epoch 2/50\n",
      "76/76 [==============================] - 0s 880us/step - loss: 104.8682 - mean_squared_error: 104.8682\n",
      "Epoch 3/50\n",
      "76/76 [==============================] - 0s 880us/step - loss: 68.5204 - mean_squared_error: 68.5204\n",
      "Epoch 4/50\n",
      "76/76 [==============================] - 0s 933us/step - loss: 60.5068 - mean_squared_error: 60.5068\n",
      "Epoch 5/50\n",
      "76/76 [==============================] - 0s 893us/step - loss: 56.8730 - mean_squared_error: 56.8730\n",
      "Epoch 6/50\n",
      "76/76 [==============================] - 0s 973us/step - loss: 53.6445 - mean_squared_error: 53.6445\n",
      "Epoch 7/50\n",
      "76/76 [==============================] - 0s 907us/step - loss: 53.7626 - mean_squared_error: 53.7626\n",
      "Epoch 8/50\n",
      "76/76 [==============================] - 0s 907us/step - loss: 48.1801 - mean_squared_error: 48.1801\n",
      "Epoch 9/50\n",
      "76/76 [==============================] - 0s 933us/step - loss: 45.4166 - mean_squared_error: 45.4166\n",
      "Epoch 10/50\n",
      "76/76 [==============================] - 0s 893us/step - loss: 47.5973 - mean_squared_error: 47.5973\n",
      "Epoch 11/50\n",
      "76/76 [==============================] - 0s 880us/step - loss: 42.5007 - mean_squared_error: 42.5007\n",
      "Epoch 12/50\n",
      "76/76 [==============================] - 0s 880us/step - loss: 40.2171 - mean_squared_error: 40.2171\n",
      "Epoch 13/50\n",
      "76/76 [==============================] - 0s 907us/step - loss: 40.6681 - mean_squared_error: 40.6681\n",
      "Epoch 14/50\n",
      "76/76 [==============================] - 0s 907us/step - loss: 38.0453 - mean_squared_error: 38.0453\n",
      "Epoch 15/50\n",
      "76/76 [==============================] - 0s 933us/step - loss: 37.7986 - mean_squared_error: 37.7986\n",
      "Epoch 16/50\n",
      "76/76 [==============================] - 0s 893us/step - loss: 39.7338 - mean_squared_error: 39.7338\n",
      "Epoch 17/50\n",
      "76/76 [==============================] - 0s 893us/step - loss: 38.2436 - mean_squared_error: 38.2436\n",
      "Epoch 18/50\n",
      "76/76 [==============================] - 0s 893us/step - loss: 36.8784 - mean_squared_error: 36.8784\n",
      "Epoch 19/50\n",
      "76/76 [==============================] - 0s 920us/step - loss: 35.3390 - mean_squared_error: 35.3390\n",
      "Epoch 20/50\n",
      "76/76 [==============================] - 0s 880us/step - loss: 35.5778 - mean_squared_error: 35.5778\n",
      "Epoch 21/50\n",
      "76/76 [==============================] - 0s 880us/step - loss: 35.6646 - mean_squared_error: 35.6646\n",
      "Epoch 22/50\n",
      "76/76 [==============================] - 0s 907us/step - loss: 36.7782 - mean_squared_error: 36.7782\n",
      "Epoch 23/50\n",
      "76/76 [==============================] - 0s 920us/step - loss: 35.0758 - mean_squared_error: 35.0758\n",
      "Epoch 24/50\n",
      "76/76 [==============================] - 0s 907us/step - loss: 36.6152 - mean_squared_error: 36.6152\n",
      "Epoch 25/50\n",
      "76/76 [==============================] - 0s 893us/step - loss: 35.7854 - mean_squared_error: 35.7854\n",
      "Epoch 26/50\n",
      "76/76 [==============================] - 0s 893us/step - loss: 36.0295 - mean_squared_error: 36.0295\n",
      "Epoch 27/50\n",
      "76/76 [==============================] - 0s 893us/step - loss: 33.0935 - mean_squared_error: 33.0935\n",
      "Epoch 28/50\n",
      "76/76 [==============================] - 0s 880us/step - loss: 35.4947 - mean_squared_error: 35.4947\n",
      "Epoch 29/50\n",
      "76/76 [==============================] - 0s 907us/step - loss: 32.0620 - mean_squared_error: 32.0620\n",
      "Epoch 30/50\n",
      "76/76 [==============================] - 0s 907us/step - loss: 31.2319 - mean_squared_error: 31.2319\n",
      "Epoch 31/50\n",
      "76/76 [==============================] - 0s 907us/step - loss: 33.5075 - mean_squared_error: 33.5075\n",
      "Epoch 32/50\n",
      "76/76 [==============================] - 0s 907us/step - loss: 32.5876 - mean_squared_error: 32.5876\n",
      "Epoch 33/50\n",
      "76/76 [==============================] - 0s 893us/step - loss: 32.0342 - mean_squared_error: 32.0342\n",
      "Epoch 34/50\n",
      "76/76 [==============================] - 0s 907us/step - loss: 35.2538 - mean_squared_error: 35.2538\n",
      "Epoch 35/50\n",
      "76/76 [==============================] - 0s 893us/step - loss: 31.1328 - mean_squared_error: 31.1328\n",
      "Epoch 36/50\n",
      "76/76 [==============================] - 0s 907us/step - loss: 32.9246 - mean_squared_error: 32.9246\n",
      "Epoch 37/50\n",
      "76/76 [==============================] - 0s 880us/step - loss: 34.7441 - mean_squared_error: 34.7441\n",
      "Epoch 38/50\n",
      "76/76 [==============================] - 0s 880us/step - loss: 32.4671 - mean_squared_error: 32.4671\n",
      "Epoch 39/50\n",
      "76/76 [==============================] - 0s 880us/step - loss: 30.7516 - mean_squared_error: 30.7516\n",
      "Epoch 40/50\n",
      "76/76 [==============================] - 0s 907us/step - loss: 31.6943 - mean_squared_error: 31.6943\n",
      "Epoch 41/50\n",
      "76/76 [==============================] - 0s 920us/step - loss: 30.7745 - mean_squared_error: 30.7745\n",
      "Epoch 42/50\n",
      "76/76 [==============================] - 0s 893us/step - loss: 33.9409 - mean_squared_error: 33.9409\n",
      "Epoch 43/50\n",
      "76/76 [==============================] - 0s 907us/step - loss: 30.9738 - mean_squared_error: 30.9738\n",
      "Epoch 44/50\n",
      "76/76 [==============================] - 0s 1ms/step - loss: 34.2237 - mean_squared_error: 34.2237\n",
      "Epoch 45/50\n",
      "76/76 [==============================] - 0s 973us/step - loss: 30.4491 - mean_squared_error: 30.4491\n",
      "Epoch 46/50\n",
      "76/76 [==============================] - 0s 880us/step - loss: 29.7257 - mean_squared_error: 29.7257\n",
      "Epoch 47/50\n",
      "76/76 [==============================] - 0s 880us/step - loss: 36.0017 - mean_squared_error: 36.0017\n",
      "Epoch 48/50\n",
      "76/76 [==============================] - 0s 933us/step - loss: 39.6271 - mean_squared_error: 39.6271\n",
      "Epoch 49/50\n",
      "76/76 [==============================] - 0s 893us/step - loss: 30.1011 - mean_squared_error: 30.1011\n",
      "Epoch 50/50\n",
      "76/76 [==============================] - 0s 920us/step - loss: 33.6304 - mean_squared_error: 33.6304\n"
     ]
    }
   ],
   "source": [
    "# fit() 메소드로 학습 데이터,  학습데이터에 따른 레이블, epoch 속성에 학습 횟수, batch-size 속성에 미니 배치 크기를 지정해 컴파일된 신경망 모델을 학습시킨다.\n",
    "history = model.fit( x_train, y_train, epochs=epochs , batch_size=5)"
   ]
  },
  {
   "cell_type": "code",
   "execution_count": 8,
   "id": "e77caf94-a242-4b7b-9c8a-4ffa76de464d",
   "metadata": {},
   "outputs": [
    {
     "name": "stdout",
     "output_type": "stream",
     "text": [
      "33.63044738769531\n",
      "33.63044738769531\n"
     ]
    }
   ],
   "source": [
    "# 모델의 epoch 단계별로 정확도와 오차 확인\n",
    "print(history.history[\"loss\"][-1]) # 모델 실행 결과에서 오차만 얻어온다.\n",
    "print(history.history[\"mean_squared_error\"][-1]) #모델 실행 결과에서 평균 제곱 오차만 얻어온다."
   ]
  },
  {
   "cell_type": "markdown",
   "id": "deb24dde-0127-4607-a7c1-a7a75e04d474",
   "metadata": {},
   "source": [
    "***\n",
    "회귀 신경망 평가\n",
    "***"
   ]
  },
  {
   "cell_type": "code",
   "execution_count": 9,
   "id": "3c322e2c-8191-46e0-8f14-bd71e1bb7d05",
   "metadata": {},
   "outputs": [
    {
     "name": "stdout",
     "output_type": "stream",
     "text": [
      "4/4 [==============================] - 0s 2ms/step - loss: 38.3968 - mean_squared_error: 38.3968\n",
      "[38.39683532714844, 38.39683532714844]\n"
     ]
    }
   ],
   "source": [
    "# evaluate() 메소드로 테스트 데이터와 그에 따른 테스트 레이블을 넘겨서  학습된 신경망을 평가한다.\n",
    "print(model.evaluate(x_test, y_test))"
   ]
  },
  {
   "cell_type": "markdown",
   "id": "ee29c234-cf48-443e-89be-808d7c44138e",
   "metadata": {},
   "source": [
    "***\n",
    "학습 결과 시각화\n",
    "***"
   ]
  },
  {
   "cell_type": "code",
   "execution_count": 10,
   "id": "fc9fc420-a0f8-41ec-ad72-62fd9650cf66",
   "metadata": {},
   "outputs": [],
   "source": [
    "#평균 제곱 오차 시각화\n",
    "epoch = np.arange(1, (epochs + 1) )\n",
    "mse = history.history[\"mean_squared_error\"]"
   ]
  },
  {
   "cell_type": "code",
   "execution_count": 11,
   "id": "d43a9493-4b2f-4f97-90d4-41cf706fe09b",
   "metadata": {},
   "outputs": [
    {
     "data": {
      "image/png": "[encoded data removed]",
      "text/plain": [
       "<Figure size 1000x700 with 1 Axes>"
      ]
     },
     "metadata": {},
     "output_type": "display_data"
    }
   ],
   "source": [
    "# 학습 정확도 시각화\n",
    "plt.figure(figsize=[10, 7])\n",
    "plt.plot(epoch, mse, \"r*-\" , label=\"Mean_Squared_Error\")\n",
    "plt.title(\"Epoch별 회귀 신경망 평균 제곱 오차\")\n",
    "plt.xlabel(\"epoch\")\n",
    "plt.ylabel(\"Mean_Squared_Error\")\n",
    "plt.legend()\n",
    "plt.grid()\n",
    "plt.yticks(rotation=30)\n",
    "plt.show()\n",
    "# 평균 제곱 오차 시각화 결과, epoch 진행 단계별로 전반적인 오차가  감소하는 것을 볼 수 있다."
   ]
  },
  {
   "cell_type": "code",
   "execution_count": 12,
   "id": "3eb21ad0-b712-4536-b30f-43596a20c1e8",
   "metadata": {},
   "outputs": [
    {
     "data": {
      "text/html": [
       "<div>\n",
       "<style scoped>\n",
       "    .dataframe tbody tr th:only-of-type {\n",
       "        vertical-align: middle;\n",
       "    }\n",
       "\n",
       "    .dataframe tbody tr th {\n",
       "        vertical-align: top;\n",
       "    }\n",
       "\n",
       "    .dataframe thead th {\n",
       "        text-align: right;\n",
       "    }\n",
       "</style>\n",
       "<table border=\"1\" class=\"dataframe\">\n",
       "  <thead>\n",
       "    <tr style=\"text-align: right;\">\n",
       "      <th></th>\n",
       "      <th>real_value</th>\n",
       "    </tr>\n",
       "  </thead>\n",
       "  <tbody>\n",
       "    <tr>\n",
       "      <th>0</th>\n",
       "      <td>22.6</td>\n",
       "    </tr>\n",
       "    <tr>\n",
       "      <th>1</th>\n",
       "      <td>50.0</td>\n",
       "    </tr>\n",
       "    <tr>\n",
       "      <th>2</th>\n",
       "      <td>23.0</td>\n",
       "    </tr>\n",
       "    <tr>\n",
       "      <th>3</th>\n",
       "      <td>8.3</td>\n",
       "    </tr>\n",
       "    <tr>\n",
       "      <th>4</th>\n",
       "      <td>21.2</td>\n",
       "    </tr>\n",
       "    <tr>\n",
       "      <th>...</th>\n",
       "      <td>...</td>\n",
       "    </tr>\n",
       "    <tr>\n",
       "      <th>122</th>\n",
       "      <td>19.4</td>\n",
       "    </tr>\n",
       "    <tr>\n",
       "      <th>123</th>\n",
       "      <td>21.2</td>\n",
       "    </tr>\n",
       "    <tr>\n",
       "      <th>124</th>\n",
       "      <td>20.3</td>\n",
       "    </tr>\n",
       "    <tr>\n",
       "      <th>125</th>\n",
       "      <td>18.8</td>\n",
       "    </tr>\n",
       "    <tr>\n",
       "      <th>126</th>\n",
       "      <td>33.4</td>\n",
       "    </tr>\n",
       "  </tbody>\n",
       "</table>\n",
       "<p>127 rows × 1 columns</p>\n",
       "</div>"
      ],
      "text/plain": [
       "     real_value\n",
       "0          22.6\n",
       "1          50.0\n",
       "2          23.0\n",
       "3           8.3\n",
       "4          21.2\n",
       "..          ...\n",
       "122        19.4\n",
       "123        21.2\n",
       "124        20.3\n",
       "125        18.8\n",
       "126        33.4\n",
       "\n",
       "[127 rows x 1 columns]"
      ]
     },
     "execution_count": 12,
     "metadata": {},
     "output_type": "execute_result"
    }
   ],
   "source": [
    "# 테스트 데이터 실제값(레이블)을 기억하는 데이터프레임을 만든다. \n",
    "result_df = pd.DataFrame(y_test, columns=[\"real_value\"])\n",
    "result_df"
   ]
  },
  {
   "cell_type": "code",
   "execution_count": 13,
   "id": "b0ba3d5e-8597-4222-8de8-17b209fc2e3c",
   "metadata": {
    "tags": []
   },
   "outputs": [
    {
     "name": "stdout",
     "output_type": "stream",
     "text": [
      "4/4 [==============================] - 0s 1ms/step\n",
      "(127, 1)\n",
      "4/4 [==============================] - 0s 1ms/step\n",
      "(127,)\n"
     ]
    }
   ],
   "source": [
    "# predict() 메소드에 테스트 데이터에 피쳐값을 인수로 해 예측값을 계산한다.\n",
    "predict1 = model.predict(x_test)\n",
    "print(predict1.shape)\n",
    "\n",
    "# flatten() 메소드는 배열을 무조건 1차원 배열로 변환한다.\n",
    "predict = model.predict(x_test).flatten()\n",
    "print(predict.shape)"
   ]
  },
  {
   "cell_type": "code",
   "execution_count": 14,
   "id": "e88cd4f9-e015-4b83-aa9b-a19ef6143877",
   "metadata": {},
   "outputs": [
    {
     "data": {
      "text/html": [
       "<div>\n",
       "<style scoped>\n",
       "    .dataframe tbody tr th:only-of-type {\n",
       "        vertical-align: middle;\n",
       "    }\n",
       "\n",
       "    .dataframe tbody tr th {\n",
       "        vertical-align: top;\n",
       "    }\n",
       "\n",
       "    .dataframe thead th {\n",
       "        text-align: right;\n",
       "    }\n",
       "</style>\n",
       "<table border=\"1\" class=\"dataframe\">\n",
       "  <thead>\n",
       "    <tr style=\"text-align: right;\">\n",
       "      <th></th>\n",
       "      <th>real_value</th>\n",
       "      <th>predict_value</th>\n",
       "    </tr>\n",
       "  </thead>\n",
       "  <tbody>\n",
       "    <tr>\n",
       "      <th>0</th>\n",
       "      <td>22.6</td>\n",
       "      <td>21.767063</td>\n",
       "    </tr>\n",
       "    <tr>\n",
       "      <th>1</th>\n",
       "      <td>50.0</td>\n",
       "      <td>24.345573</td>\n",
       "    </tr>\n",
       "    <tr>\n",
       "      <th>2</th>\n",
       "      <td>23.0</td>\n",
       "      <td>30.402328</td>\n",
       "    </tr>\n",
       "    <tr>\n",
       "      <th>3</th>\n",
       "      <td>8.3</td>\n",
       "      <td>14.108766</td>\n",
       "    </tr>\n",
       "    <tr>\n",
       "      <th>4</th>\n",
       "      <td>21.2</td>\n",
       "      <td>20.939941</td>\n",
       "    </tr>\n",
       "    <tr>\n",
       "      <th>...</th>\n",
       "      <td>...</td>\n",
       "      <td>...</td>\n",
       "    </tr>\n",
       "    <tr>\n",
       "      <th>122</th>\n",
       "      <td>19.4</td>\n",
       "      <td>20.433929</td>\n",
       "    </tr>\n",
       "    <tr>\n",
       "      <th>123</th>\n",
       "      <td>21.2</td>\n",
       "      <td>22.630524</td>\n",
       "    </tr>\n",
       "    <tr>\n",
       "      <th>124</th>\n",
       "      <td>20.3</td>\n",
       "      <td>26.351574</td>\n",
       "    </tr>\n",
       "    <tr>\n",
       "      <th>125</th>\n",
       "      <td>18.8</td>\n",
       "      <td>22.245884</td>\n",
       "    </tr>\n",
       "    <tr>\n",
       "      <th>126</th>\n",
       "      <td>33.4</td>\n",
       "      <td>34.075001</td>\n",
       "    </tr>\n",
       "  </tbody>\n",
       "</table>\n",
       "<p>127 rows × 2 columns</p>\n",
       "</div>"
      ],
      "text/plain": [
       "     real_value  predict_value\n",
       "0          22.6      21.767063\n",
       "1          50.0      24.345573\n",
       "2          23.0      30.402328\n",
       "3           8.3      14.108766\n",
       "4          21.2      20.939941\n",
       "..          ...            ...\n",
       "122        19.4      20.433929\n",
       "123        21.2      22.630524\n",
       "124        20.3      26.351574\n",
       "125        18.8      22.245884\n",
       "126        33.4      34.075001\n",
       "\n",
       "[127 rows x 2 columns]"
      ]
     },
     "execution_count": 14,
     "metadata": {},
     "output_type": "execute_result"
    }
   ],
   "source": [
    "# 데이터프레임에 예측값을 파생 변수로 추가한다.\n",
    "result_df[\"predict_value\"] = predict\n",
    "result_df"
   ]
  },
  {
   "cell_type": "code",
   "execution_count": 15,
   "id": "14ae3b2d-2ab1-40a3-97a8-cfc9f9e2cd9a",
   "metadata": {},
   "outputs": [
    {
     "data": {
      "image/png": "[encoded data removed]",
      "text/plain": [
       "<Figure size 1000x700 with 1 Axes>"
      ]
     },
     "metadata": {},
     "output_type": "display_data"
    }
   ],
   "source": [
    "# 테스트 데이터의 레이블(실제값)과 예측값 시각화\n",
    "plt.figure(figsize=[10, 7])\n",
    "idx = np.arange(1, (len(result_df) + 1))\n",
    "plt.plot(idx, result_df.real_value , \"k*\" ,label=\"실제값\")\n",
    "plt.plot(idx, result_df.predict_value, \"r-\" ,label=\"예측값\")\n",
    "plt.title(\"실제값과 예측값 시각화\")\n",
    "plt.xlabel(\"Index\")\n",
    "plt.ylabel(\"Value\")\n",
    "plt.legend()\n",
    "plt.grid()\n",
    "plt.yticks(rotation=30)\n",
    "plt.show()\n",
    "# 정확도 시각화 결과, epoch 진행 단계별로 전반적인 정확도가 상승하는 것을 볼 수 있다."
   ]
  },
  {
   "cell_type": "code",
   "execution_count": 16,
   "id": "a3cfed99-6195-4bba-8f98-e36862f427fa",
   "metadata": {},
   "outputs": [
    {
     "data": {
      "text/html": [
       "<div>\n",
       "<style scoped>\n",
       "    .dataframe tbody tr th:only-of-type {\n",
       "        vertical-align: middle;\n",
       "    }\n",
       "\n",
       "    .dataframe tbody tr th {\n",
       "        vertical-align: top;\n",
       "    }\n",
       "\n",
       "    .dataframe thead th {\n",
       "        text-align: right;\n",
       "    }\n",
       "</style>\n",
       "<table border=\"1\" class=\"dataframe\">\n",
       "  <thead>\n",
       "    <tr style=\"text-align: right;\">\n",
       "      <th></th>\n",
       "      <th>real_value</th>\n",
       "      <th>predict_value</th>\n",
       "    </tr>\n",
       "  </thead>\n",
       "  <tbody>\n",
       "    <tr>\n",
       "      <th>116</th>\n",
       "      <td>8.4</td>\n",
       "      <td>-1.559371</td>\n",
       "    </tr>\n",
       "    <tr>\n",
       "      <th>96</th>\n",
       "      <td>13.8</td>\n",
       "      <td>1.390946</td>\n",
       "    </tr>\n",
       "    <tr>\n",
       "      <th>106</th>\n",
       "      <td>10.4</td>\n",
       "      <td>3.237122</td>\n",
       "    </tr>\n",
       "    <tr>\n",
       "      <th>75</th>\n",
       "      <td>7.4</td>\n",
       "      <td>4.651848</td>\n",
       "    </tr>\n",
       "    <tr>\n",
       "      <th>13</th>\n",
       "      <td>10.5</td>\n",
       "      <td>7.179291</td>\n",
       "    </tr>\n",
       "    <tr>\n",
       "      <th>...</th>\n",
       "      <td>...</td>\n",
       "      <td>...</td>\n",
       "    </tr>\n",
       "    <tr>\n",
       "      <th>126</th>\n",
       "      <td>33.4</td>\n",
       "      <td>34.075001</td>\n",
       "    </tr>\n",
       "    <tr>\n",
       "      <th>84</th>\n",
       "      <td>50.0</td>\n",
       "      <td>34.223469</td>\n",
       "    </tr>\n",
       "    <tr>\n",
       "      <th>17</th>\n",
       "      <td>33.3</td>\n",
       "      <td>35.096817</td>\n",
       "    </tr>\n",
       "    <tr>\n",
       "      <th>14</th>\n",
       "      <td>50.0</td>\n",
       "      <td>38.178402</td>\n",
       "    </tr>\n",
       "    <tr>\n",
       "      <th>119</th>\n",
       "      <td>50.0</td>\n",
       "      <td>38.423679</td>\n",
       "    </tr>\n",
       "  </tbody>\n",
       "</table>\n",
       "<p>127 rows × 2 columns</p>\n",
       "</div>"
      ],
      "text/plain": [
       "     real_value  predict_value\n",
       "116         8.4      -1.559371\n",
       "96         13.8       1.390946\n",
       "106        10.4       3.237122\n",
       "75          7.4       4.651848\n",
       "13         10.5       7.179291\n",
       "..          ...            ...\n",
       "126        33.4      34.075001\n",
       "84         50.0      34.223469\n",
       "17         33.3      35.096817\n",
       "14         50.0      38.178402\n",
       "119        50.0      38.423679\n",
       "\n",
       "[127 rows x 2 columns]"
      ]
     },
     "execution_count": 16,
     "metadata": {},
     "output_type": "execute_result"
    }
   ],
   "source": [
    "# 예측값을 기준으로 데이터프레임을 오름차순 정렬한다.\n",
    "df_sort = result_df.sort_values([\"predict_value\"], ascending=True)\n",
    "df_sort"
   ]
  },
  {
   "cell_type": "code",
   "execution_count": 17,
   "id": "40059530-26fe-4492-9e97-c3594f31e99f",
   "metadata": {},
   "outputs": [
    {
     "data": {
      "image/png": "[encoded data removed]",
      "text/plain": [
       "<Figure size 1000x700 with 1 Axes>"
      ]
     },
     "metadata": {},
     "output_type": "display_data"
    }
   ],
   "source": [
    "# 테스트 데이터의 레이블(실제값)과 예측값 시각화\n",
    "plt.figure(figsize=[10, 7])\n",
    "idx = np.arange(1, (len(df_sort) + 1))\n",
    "plt.plot(idx, df_sort.real_value , \"k*\" ,label=\"실제값\")\n",
    "plt.plot(idx, df_sort.predict_value, \"r-\" ,label=\"예측값\")\n",
    "plt.title(\"실제값과 예측값 시각화_predict_value_asc\")\n",
    "plt.xlabel(\"Index\")\n",
    "plt.ylabel(\"Value\")\n",
    "plt.legend()\n",
    "plt.grid()\n",
    "plt.yticks(rotation=30)\n",
    "plt.show()\n",
    "# 정확도 시각화 결과, epoch 진행 단계별로 전반적인 정확도가 상승하는 것을 볼 수 있다."
   ]
  },
  {
   "cell_type": "code",
   "execution_count": null,
   "id": "d06b605a-81e1-4c84-9cf2-a392eea37092",
   "metadata": {},
   "outputs": [],
   "source": []
  },
  {
   "cell_type": "code",
   "execution_count": null,
   "id": "ea780f03-dda1-44a0-8160-ff50cfd86765",
   "metadata": {},
   "outputs": [],
   "source": []
  },
  {
   "cell_type": "code",
   "execution_count": null,
   "id": "aecd779d-13f3-48de-a532-7e680b6e5bb2",
   "metadata": {},
   "outputs": [],
   "source": []
  },
  {
   "cell_type": "code",
   "execution_count": null,
   "id": "369a9db9-1636-4ac4-a1b4-c8a4c92bad57",
   "metadata": {},
   "outputs": [],
   "source": []
  },
  {
   "cell_type": "code",
   "execution_count": null,
   "id": "983b6e8c-554c-4fd5-a356-266e94033595",
   "metadata": {},
   "outputs": [],
   "source": []
  },
  {
   "cell_type": "code",
   "execution_count": null,
   "id": "4b4fe52b-8fe8-4465-bfcc-3445df2bc853",
   "metadata": {},
   "outputs": [],
   "source": []
  },
  {
   "cell_type": "code",
   "execution_count": null,
   "id": "9d4c6c72-1c02-4826-b576-38d604d97c51",
   "metadata": {},
   "outputs": [],
   "source": []
  },
  {
   "cell_type": "code",
   "execution_count": null,
   "id": "ee82463a-0065-45a8-977a-a5c604166a31",
   "metadata": {},
   "outputs": [],
   "source": []
  },
  {
   "cell_type": "code",
   "execution_count": null,
   "id": "50ab1abb-1c74-4698-af72-0dc6d8c2f0fb",
   "metadata": {},
   "outputs": [],
   "source": []
  },
  {
   "cell_type": "code",
   "execution_count": null,
   "id": "4d2ba3f7-9198-4d5b-bbc0-51bf05613bee",
   "metadata": {},
   "outputs": [],
   "source": []
  },
  {
   "cell_type": "code",
   "execution_count": null,
   "id": "24dba9e8-df26-4f0f-97ca-b11bd142c9aa",
   "metadata": {},
   "outputs": [],
   "source": []
  },
  {
   "cell_type": "code",
   "execution_count": null,
   "id": "f3ffe0ab-77e2-43e3-b8c3-3f943a8f5d4f",
   "metadata": {},
   "outputs": [],
   "source": []
  },
  {
   "cell_type": "code",
   "execution_count": null,
   "id": "98f86e55-f495-4e8a-a9a9-1fed00929ccd",
   "metadata": {},
   "outputs": [],
   "source": []
  },
  {
   "cell_type": "code",
   "execution_count": null,
   "id": "9077629b-7caa-4053-96d3-11e22ebe1e6f",
   "metadata": {},
   "outputs": [],
   "source": []
  },
  {
   "cell_type": "code",
   "execution_count": null,
   "id": "d82f0d0a-42dc-40b2-af4b-d15bcc0d4510",
   "metadata": {},
   "outputs": [],
   "source": []
  },
  {
   "cell_type": "code",
   "execution_count": null,
   "id": "1b551a98-47c2-416c-84bb-4ab7370ba87e",
   "metadata": {},
   "outputs": [],
   "source": []
  },
  {
   "cell_type": "code",
   "execution_count": null,
   "id": "0d851c12-b9e1-4afc-bec7-22364bfe4706",
   "metadata": {},
   "outputs": [],
   "source": []
  },
  {
   "cell_type": "code",
   "execution_count": null,
   "id": "cb1ff621-a90c-4996-a504-272682e43b5c",
   "metadata": {},
   "outputs": [],
   "source": []
  },
  {
   "cell_type": "code",
   "execution_count": null,
   "id": "08199d81-ab1f-43cd-b47c-dcfb9994bb8e",
   "metadata": {},
   "outputs": [],
   "source": []
  },
  {
   "cell_type": "code",
   "execution_count": null,
   "id": "bda9992b-e913-45fe-942f-cda84f0887c6",
   "metadata": {},
   "outputs": [],
   "source": []
  },
  {
   "cell_type": "code",
   "execution_count": null,
   "id": "7e8932c9-84eb-40e0-b85d-921cde03187b",
   "metadata": {},
   "outputs": [],
   "source": []
  },
  {
   "cell_type": "code",
   "execution_count": null,
   "id": "76c7185c-c7b8-4bfa-a821-8a397faa4e2b",
   "metadata": {},
   "outputs": [],
   "source": []
  },
  {
   "cell_type": "code",
   "execution_count": null,
   "id": "5e48c1fd-cde2-4d41-bd25-c2a49fc1e8fe",
   "metadata": {},
   "outputs": [],
   "source": []
  },
  {
   "cell_type": "code",
   "execution_count": null,
   "id": "3e4061d3-28de-457e-99d2-6dcb1cfdb946",
   "metadata": {},
   "outputs": [],
   "source": []
  },
  {
   "cell_type": "code",
   "execution_count": null,
   "id": "607247f7-61a1-482a-935c-794fdcb67774",
   "metadata": {},
   "outputs": [],
   "source": []
  },
  {
   "cell_type": "code",
   "execution_count": null,
   "id": "e3dd3368-9259-42b6-980e-9bf8875832ec",
   "metadata": {},
   "outputs": [],
   "source": []
  },
  {
   "cell_type": "code",
   "execution_count": null,
   "id": "8de8383c-0236-45ea-a8ee-2abfd9da6ef3",
   "metadata": {},
   "outputs": [],
   "source": []
  },
  {
   "cell_type": "code",
   "execution_count": null,
   "id": "1932e8db-e50e-4afa-8096-5eb1a260a799",
   "metadata": {},
   "outputs": [],
   "source": []
  },
  {
   "cell_type": "code",
   "execution_count": null,
   "id": "4855bb0b-1447-4d92-b4bd-a0e890f87155",
   "metadata": {},
   "outputs": [],
   "source": []
  },
  {
   "cell_type": "code",
   "execution_count": null,
   "id": "6fff98aa-48c9-4e27-8410-4af8de536f4e",
   "metadata": {},
   "outputs": [],
   "source": []
  },
  {
   "cell_type": "code",
   "execution_count": null,
   "id": "b8f2f066-ca85-45ab-8874-f2ff56798497",
   "metadata": {},
   "outputs": [],
   "source": []
  },
  {
   "cell_type": "code",
   "execution_count": null,
   "id": "374094ec-87af-4cf1-95fc-bae743611010",
   "metadata": {},
   "outputs": [],
   "source": []
  },
  {
   "cell_type": "code",
   "execution_count": null,
   "id": "b6c8fbc8-d0b1-4cd5-aeec-4c08f87159d1",
   "metadata": {},
   "outputs": [],
   "source": []
  },
  {
   "cell_type": "code",
   "execution_count": null,
   "id": "7f94f448-8177-4459-8288-a8822939fe4e",
   "metadata": {},
   "outputs": [],
   "source": []
  }
 ],
 "metadata": {
  "kernelspec": {
   "display_name": "py3.7",
   "language": "python",
   "name": "py3.7"
  },
  "language_info": {
   "codemirror_mode": {
    "name": "ipython",
    "version": 3
   },
   "file_extension": ".py",
   "mimetype": "text/x-python",
   "name": "python",
   "nbconvert_exporter": "python",
   "pygments_lexer": "ipython3",
   "version": "3.7.1"
  }
 },
 "nbformat": 4,
 "nbformat_minor": 5
}
