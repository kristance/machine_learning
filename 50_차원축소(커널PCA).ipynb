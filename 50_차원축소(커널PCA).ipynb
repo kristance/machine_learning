{
 "cells": [
  {
   "cell_type": "code",
   "execution_count": 1,
   "id": "0b58c095-f5c5-4cc2-8ea4-8ddf6202707f",
   "metadata": {
    "tags": []
   },
   "outputs": [],
   "source": [
    "import warnings\n",
    "warnings.filterwarnings(action='ignore')\n",
    "%config Completer.use_jedi = False\n",
    "import numpy as np\n",
    "import pandas as pd\n",
    "import matplotlib.pyplot as plt\n",
    "import matplotlib as mpl\n",
    "mpl.rcParams['axes.unicode_minus'] = False\n",
    "plt.rcParams['font.family'] = 'RIDIBatang'\n",
    "plt.rcParams['font.size'] = 10\n",
    "import seaborn as sns\n",
    "\n",
    "from sklearn import datasets\n",
    "from sklearn.model_selection import train_test_split\n",
    "from sklearn.preprocessing import StandardScaler\n",
    "from sklearn.metrics import accuracy_score\n",
    "from sklearn.metrics import confusion_matrix\n",
    "from sklearn.metrics import classification_report\n",
    "from sklearn.metrics import mean_squared_error  \n",
    "from sklearn.metrics import mean_absolute_error\n",
    "from sklearn.metrics import r2_score\n",
    "from sklearn.metrics import precision_score \n",
    "from sklearn.metrics import recall_score\n",
    "from sklearn.metrics import f1_score"
   ]
  },
  {
   "cell_type": "markdown",
   "id": "c06bef99-ed4c-4beb-9097-53d9c9134f18",
   "metadata": {},
   "source": [
    "***\n",
    "커널 PCA\n",
    "***\n",
    "기존 주성분 분석은 데이터 행렬 X의 공분산 행렬을 고유값 분해한 후 고유 벡터를 새로운 좌표축에 할당하는 방법이었다.  \n",
    "기존 데이터 포인트는 새로운 좌표축을 기준으로 좌표를 할당받았다.  \n",
    "이때, 사용하는 새로운 좌표축에 해당하는 고유 벡터를 주성분이라고 불렀으며, 기존 데이터 포인트를 주성분에 직교 정사영하는 방법을 사용했었다.  \n",
    "\n",
    "이에 반해, 커널 PCA는 기존 PCA를 일반화한 방법으로 비선형적으로 수행하는 방법이다.  \n",
    "\n",
    "기존 데이터 행렬 X를 기존 행렬보다 큰 공간으로 매핑한 후 새로운 공간으로 이동한 데이터에 대해서 주성분 분석을 실시한다.  \n",
    "그리고 데이터를 다시 원래 공간으로 매핑시키면 곡선 형태를 띈 주성분 축을 확인할 수 있다.  "
   ]
  },
  {
   "cell_type": "markdown",
   "id": "f326ebca-f494-4e0a-a7a1-883d9520a8e4",
   "metadata": {},
   "source": [
    "***\n",
    "다른 차원 축소 방법과 비교하기 위해 와인 데이터를 이용한다.\n",
    "***"
   ]
  },
  {
   "cell_type": "code",
   "execution_count": 2,
   "id": "c6ba1dc8-a533-48bb-9f13-d7a3e8106469",
   "metadata": {
    "tags": []
   },
   "outputs": [
    {
     "name": "stdout",
     "output_type": "stream",
     "text": [
      "(178, 13) (178,)\n",
      "(133, 13) (45, 13) (133,) (45,)\n"
     ]
    }
   ],
   "source": [
    "# 데이터 불러오기\n",
    "raw_data = datasets.load_wine() # 사이킷런이 제공하는 와인 데이터를 불러온다.\n",
    "\n",
    "# 피쳐, 레이블 데이터 저장\n",
    "xData = raw_data.data # 피쳐 데이터를 저장한다.\n",
    "yData = raw_data.target # 피쳐 데이터에 따른 레이블을 저장한다.\n",
    "print(xData.shape, yData.shape)\n",
    "\n",
    "# 학습 데이터와 테스트 데이터로 분할\n",
    "x_train, x_test, y_train, y_test = train_test_split(xData, yData, random_state=1)\n",
    "print(x_train.shape, x_test.shape, y_train.shape, y_test.shape)\n",
    "\n",
    "# 데이터 표준화\n",
    "std_scale = StandardScaler() # 표준화 스케일러 객체를 만든다.\n",
    "x_train = std_scale.fit_transform(x_train) # 학습 데이터를 스케일러로 표준화하고 적용한다.\n",
    "x_test = std_scale.transform(x_test) # 테스트 데이터를 학습 데이터로 표준화된 스케일러에 적용한다.\n"
   ]
  },
  {
   "cell_type": "markdown",
   "id": "910ac071-184c-4ec8-94f6-671f2554f511",
   "metadata": {},
   "source": [
    "***\n",
    "커널 PCA를 통한 차원 축소\n",
    "***"
   ]
  },
  {
   "cell_type": "code",
   "execution_count": 3,
   "id": "19f16ffd-e7e2-412c-ac56-61613631dd18",
   "metadata": {
    "tags": []
   },
   "outputs": [
    {
     "name": "stdout",
     "output_type": "stream",
     "text": [
      "(133, 2) (45, 2)\n"
     ]
    }
   ],
   "source": [
    "from sklearn.decomposition import KernelPCA # 커널 PCA 알고리즘 사용\n",
    "# n_components 속성에 축소할 차원의 크기를 지정하고, kernel 속성에 사용할 커널의 형태를 지정해서 커널 PCA 모델을 만든다.\n",
    "# kernel 속성 기본값은 'linear'이고 'poly', 'rbf', 'sigmoid', 'cosine','precomputed'를 지정할 수 있다. \n",
    "k_pca = KernelPCA(n_components=2, kernel='poly')\n",
    "\n",
    "k_pca.fit(x_train) # 학습 데이터로 커널 PCA 모델을 학습시킨다.\n",
    "x_train_kpca = k_pca.transform(x_train) #학습된 커널 PCA 모델에 학습 데이터를 적용시킨다.\n",
    "# 학습은 학습 데이터로만 해야하고 테스트 데이터는 학습 데이터로 학습된 결과에 적용만 시킨다.\n",
    "x_test_kpca = k_pca.transform(x_test)\n",
    "\n",
    "# 차원 축소 이전 데이터의 차원을 확인하면 차원 축소 전의 피쳐 데이터는 13차원의 데이터 133개로 구성되어 있음을 알 수 있고, \n",
    "# 주성분 분석을 이용, 차원 축소한 데이터는 2차원의 데이터 133개로 구성되어 있음을 알 수 있다. \n",
    "print(x_train_kpca.shape, x_test_kpca.shape) # ::before (133, 13) (45, 13) -> ::after (133, 2) (45, 2)"
   ]
  },
  {
   "cell_type": "code",
   "execution_count": 4,
   "id": "307a4551-231a-438f-b5ad-85757678cff2",
   "metadata": {
    "tags": []
   },
   "outputs": [
    {
     "name": "stdout",
     "output_type": "stream",
     "text": [
      "[193.89824561 118.0368972 ]\n"
     ]
    }
   ],
   "source": [
    "# 고유값을 확인한다.\n",
    "# lambdas_ 속성으로 고유값을 확인할 수 있다.\n",
    "# 13차원의 학습 데이터를 2차원으로 차원 축소했으므로 2개의 고유값을 확인할 수 있다.\n",
    "print(k_pca.lambdas_)"
   ]
  },
  {
   "cell_type": "code",
   "execution_count": 5,
   "id": "82d8a753-5b38-4e7d-9211-7b751346fec1",
   "metadata": {
    "tags": []
   },
   "outputs": [
    {
     "name": "stdout",
     "output_type": "stream",
     "text": [
      "[[ 0.07266242  0.00456251]\n",
      " [ 0.0469712  -0.04020348]\n",
      " [ 0.08698324  0.07012786]\n",
      " [ 0.19996777  0.218482  ]\n",
      " [ 0.14558241  0.12759024]\n",
      " [-0.0316937  -0.0955557 ]\n",
      " [-0.10921606  0.09183472]\n",
      " [-0.11306065  0.07491762]\n",
      " [ 0.08725253  0.05204947]\n",
      " [-0.02421116 -0.09637237]\n",
      " [ 0.10518354  0.00629214]\n",
      " [ 0.08056162  0.03107663]\n",
      " [ 0.03371273 -0.12190244]\n",
      " [-0.10603515  0.03252174]\n",
      " [ 0.07314539 -0.07636543]\n",
      " [-0.00830065 -0.06671645]\n",
      " [ 0.08166126  0.0683314 ]\n",
      " [-0.12106496  0.08116178]\n",
      " [-0.00440492 -0.13286099]\n",
      " [-0.098436    0.01206587]\n",
      " [ 0.16936111  0.14411655]\n",
      " [-0.00112801 -0.10236899]\n",
      " [ 0.05046673  0.05090575]\n",
      " [ 0.02312764 -0.11672988]\n",
      " [ 0.05288299  0.01634404]\n",
      " [-0.14390684  0.07755703]\n",
      " [-0.1116687   0.10213843]\n",
      " [-0.09004075  0.07111502]\n",
      " [-0.13169412  0.12006775]\n",
      " [-0.06341878 -0.03931811]\n",
      " [-0.01177083 -0.10981527]\n",
      " [ 0.03619517 -0.01828061]\n",
      " [-0.156624    0.11828334]\n",
      " [ 0.09838309  0.05224656]\n",
      " [-0.03607944 -0.04304917]\n",
      " [-0.08718829  0.03003902]\n",
      " [ 0.107761    0.08440051]\n",
      " [ 0.02229238 -0.09214541]\n",
      " [ 0.14598933  0.11737633]\n",
      " [-0.13726263  0.04433401]\n",
      " [-0.02909904 -0.06226158]\n",
      " [ 0.02879929 -0.04917687]\n",
      " [ 0.09714857  0.06450556]\n",
      " [ 0.04000178 -0.1192372 ]\n",
      " [-0.01859724 -0.09181325]\n",
      " [ 0.00251214 -0.07232383]\n",
      " [ 0.11625552  0.0812522 ]\n",
      " [ 0.00709013 -0.06305782]\n",
      " [ 0.05196883 -0.05957236]\n",
      " [-0.04336402 -0.06775749]\n",
      " [-0.10557423  0.09018568]\n",
      " [ 0.00284754 -0.13096497]\n",
      " [-0.00452854 -0.10536972]\n",
      " [ 0.00540651 -0.10814659]\n",
      " [ 0.05361027 -0.11464222]\n",
      " [ 0.15903704  0.13298658]\n",
      " [ 0.05278354  0.0185511 ]\n",
      " [ 0.05767792  0.00623569]\n",
      " [-0.08791754  0.02786623]\n",
      " [ 0.05012411 -0.02309564]\n",
      " [-0.07800725 -0.0008041 ]\n",
      " [-0.09451979  0.03076353]\n",
      " [-0.15926294  0.13889875]\n",
      " [ 0.04703695 -0.00072346]\n",
      " [ 0.02517162 -0.1074433 ]\n",
      " [ 0.0523388  -0.01980112]\n",
      " [-0.00521189 -0.12235619]\n",
      " [ 0.01151112 -0.1164174 ]\n",
      " [ 0.11197133  0.07026609]\n",
      " [-0.10478657  0.08647942]\n",
      " [ 0.01491144 -0.09929837]\n",
      " [-0.02464473 -0.07230424]\n",
      " [-0.09393307  0.02258847]\n",
      " [-0.13020435  0.10884047]\n",
      " [-0.0038558  -0.13747784]\n",
      " [ 0.06785059 -0.05913142]\n",
      " [ 0.00085246 -0.09671848]\n",
      " [-0.11482046  0.06874722]\n",
      " [-0.07600419  0.14444789]\n",
      " [-0.00686517 -0.10007114]\n",
      " [ 0.10366448  0.09017341]\n",
      " [-0.00364815 -0.12633395]\n",
      " [ 0.0271437  -0.01060392]\n",
      " [-0.07831699  0.01848051]\n",
      " [ 0.04412929 -0.08682403]\n",
      " [ 0.02188734 -0.16297035]\n",
      " [ 0.16966385  0.15219112]\n",
      " [ 0.07133477  0.03600883]\n",
      " [ 0.01669791 -0.10235969]\n",
      " [ 0.01870693 -0.01374662]\n",
      " [ 0.05507547 -0.0181637 ]\n",
      " [ 0.20873621  0.22363036]\n",
      " [-0.1272234   0.09590234]\n",
      " [ 0.12466478  0.11571988]\n",
      " [-0.0754834   0.01426684]\n",
      " [-0.10724634  0.08853718]\n",
      " [ 0.10048432  0.06583684]\n",
      " [ 0.05807732 -0.10520692]\n",
      " [ 0.01604432 -0.21958032]\n",
      " [-0.16410527  0.11694079]\n",
      " [ 0.10960069  0.07793703]\n",
      " [-0.0344665  -0.06967614]\n",
      " [-0.00335884 -0.10631255]\n",
      " [ 0.08197977  0.01628397]\n",
      " [ 0.09182267  0.06536358]\n",
      " [ 0.08861495  0.02462391]\n",
      " [-0.04690543 -0.03946835]\n",
      " [ 0.05678815 -0.09241071]\n",
      " [ 0.09139202  0.0774402 ]\n",
      " [-0.10450925  0.07078308]\n",
      " [-0.07003339  0.01075776]\n",
      " [-0.01031492 -0.11303415]\n",
      " [-0.00921992 -0.04251139]\n",
      " [-0.01647968 -0.02802329]\n",
      " [ 0.13494004  0.06028009]\n",
      " [-0.09566898  0.0225553 ]\n",
      " [-0.13171243  0.07016883]\n",
      " [-0.12892906  0.09819332]\n",
      " [-0.06988297  0.00125385]\n",
      " [-0.17657606  0.09408459]\n",
      " [-0.00546049 -0.10135525]\n",
      " [ 0.12293879  0.07335327]\n",
      " [ 0.04139737 -0.02016764]\n",
      " [-0.06927577 -0.01420696]\n",
      " [ 0.04548497 -0.06856504]\n",
      " [-0.04010431 -0.05997517]\n",
      " [-0.08094054  0.04076356]\n",
      " [ 0.0136731  -0.07847278]\n",
      " [-0.06717016  0.00871639]\n",
      " [-0.15022051  0.06304039]\n",
      " [-0.01272266 -0.06212804]\n",
      " [-0.08471991  0.01152327]\n",
      " [ 0.0411036  -0.00361584]]\n"
     ]
    }
   ],
   "source": [
    "# 고유벡터를 확인한다. \n",
    "# alphas_ 속성으로 고유벡터를 확인할 수 있다. \n",
    "# 고유벡터는 각 고유값에 대응하는 벡터로, 이 고유 벡터가 주성분 벡터이다.\n",
    "print(k_pca.alphas_)"
   ]
  },
  {
   "cell_type": "markdown",
   "id": "c520ff05-ab77-4d06-a0c1-c50a37d8f0ff",
   "metadata": {},
   "source": [
    "***\n",
    "커널 PCA를 통해 차원 축소된 데이터 시각화\n",
    "***"
   ]
  },
  {
   "cell_type": "code",
   "execution_count": 6,
   "id": "bf4b5824-a4ab-43bf-8de2-02f0dfb32041",
   "metadata": {
    "tags": []
   },
   "outputs": [
    {
     "data": {
      "text/html": [
       "<div>\n",
       "<style scoped>\n",
       "    .dataframe tbody tr th:only-of-type {\n",
       "        vertical-align: middle;\n",
       "    }\n",
       "\n",
       "    .dataframe tbody tr th {\n",
       "        vertical-align: top;\n",
       "    }\n",
       "\n",
       "    .dataframe thead th {\n",
       "        text-align: right;\n",
       "    }\n",
       "</style>\n",
       "<table border=\"1\" class=\"dataframe\">\n",
       "  <thead>\n",
       "    <tr style=\"text-align: right;\">\n",
       "      <th></th>\n",
       "      <th>kPCA_compute1</th>\n",
       "      <th>kPCA_compute2</th>\n",
       "      <th>label</th>\n",
       "    </tr>\n",
       "  </thead>\n",
       "  <tbody>\n",
       "    <tr>\n",
       "      <th>0</th>\n",
       "      <td>1.011805</td>\n",
       "      <td>0.049569</td>\n",
       "      <td>0</td>\n",
       "    </tr>\n",
       "    <tr>\n",
       "      <th>1</th>\n",
       "      <td>0.654061</td>\n",
       "      <td>-0.436790</td>\n",
       "      <td>1</td>\n",
       "    </tr>\n",
       "    <tr>\n",
       "      <th>2</th>\n",
       "      <td>1.211219</td>\n",
       "      <td>0.761903</td>\n",
       "      <td>0</td>\n",
       "    </tr>\n",
       "    <tr>\n",
       "      <th>3</th>\n",
       "      <td>2.784498</td>\n",
       "      <td>2.373693</td>\n",
       "      <td>0</td>\n",
       "    </tr>\n",
       "    <tr>\n",
       "      <th>4</th>\n",
       "      <td>2.027196</td>\n",
       "      <td>1.386201</td>\n",
       "      <td>0</td>\n",
       "    </tr>\n",
       "    <tr>\n",
       "      <th>...</th>\n",
       "      <td>...</td>\n",
       "      <td>...</td>\n",
       "      <td>...</td>\n",
       "    </tr>\n",
       "    <tr>\n",
       "      <th>128</th>\n",
       "      <td>-0.935327</td>\n",
       "      <td>0.094699</td>\n",
       "      <td>2</td>\n",
       "    </tr>\n",
       "    <tr>\n",
       "      <th>129</th>\n",
       "      <td>-2.091781</td>\n",
       "      <td>0.684901</td>\n",
       "      <td>2</td>\n",
       "    </tr>\n",
       "    <tr>\n",
       "      <th>130</th>\n",
       "      <td>-0.177160</td>\n",
       "      <td>-0.674989</td>\n",
       "      <td>1</td>\n",
       "    </tr>\n",
       "    <tr>\n",
       "      <th>131</th>\n",
       "      <td>-1.179702</td>\n",
       "      <td>0.125194</td>\n",
       "      <td>2</td>\n",
       "    </tr>\n",
       "    <tr>\n",
       "      <th>132</th>\n",
       "      <td>0.572357</td>\n",
       "      <td>-0.039284</td>\n",
       "      <td>0</td>\n",
       "    </tr>\n",
       "  </tbody>\n",
       "</table>\n",
       "<p>133 rows × 3 columns</p>\n",
       "</div>"
      ],
      "text/plain": [
       "     kPCA_compute1  kPCA_compute2  label\n",
       "0         1.011805       0.049569      0\n",
       "1         0.654061      -0.436790      1\n",
       "2         1.211219       0.761903      0\n",
       "3         2.784498       2.373693      0\n",
       "4         2.027196       1.386201      0\n",
       "..             ...            ...    ...\n",
       "128      -0.935327       0.094699      2\n",
       "129      -2.091781       0.684901      2\n",
       "130      -0.177160      -0.674989      1\n",
       "131      -1.179702       0.125194      2\n",
       "132       0.572357      -0.039284      0\n",
       "\n",
       "[133 rows x 3 columns]"
      ]
     },
     "execution_count": 6,
     "metadata": {},
     "output_type": "execute_result"
    }
   ],
   "source": [
    "# 차원 축소한 데이터 시각화를 위해 데이터 프레임을 만든다.\n",
    "x_train_df = pd.DataFrame(x_train_kpca, columns=['kPCA_compute1', 'kPCA_compute2'])\n",
    "x_train_df[\"label\"] = y_train\n",
    "x_train_df"
   ]
  },
  {
   "cell_type": "code",
   "execution_count": 7,
   "id": "9e1cd49f-5b4b-4f27-b6a8-f3652b104c65",
   "metadata": {
    "tags": []
   },
   "outputs": [
    {
     "data": {
      "image/png": "[encoded data removed]",
      "text/plain": [
       "<Figure size 1000x700 with 1 Axes>"
      ]
     },
     "metadata": {},
     "output_type": "display_data"
    }
   ],
   "source": [
    "# 위 셀의 시각화 코드를 반복문을 사용해서 만든다.\n",
    "plt.figure(figsize=[10, 7])\n",
    "markers = [\"o\", \"*\", \"s\"]\n",
    "\n",
    "for index, marker in enumerate(markers):\n",
    "     df_index = x_train_df[x_train_df.label == index] # 레이블 별로 데이터를 분할한다.\n",
    "     x = df_index.kPCA_compute1 # 레이블 별로 분할된 데이터에 첫번째 주성분 벡터를 추출한다.\n",
    "     y = df_index.kPCA_compute2 # 레이블 별로 분할된 데이터에 두번째 주성분 벡터를 추출한다.\n",
    "     label = raw_data.target_names[index] # 레이블 이름을 지정한다.\n",
    "     plt.scatter(x=x, y=y, marker=marker, label= label ) # 산포도를 그린다.\n",
    "\n",
    "plt.title(\"레이블 적용된 커널 PCA 데이터 시각화\")\n",
    "plt.xlabel(\"kPCA_Comp_1\")\n",
    "plt.ylabel(\"kPCA_Comp_2\")\n",
    "plt.legend()\n",
    "plt.show()"
   ]
  },
  {
   "cell_type": "markdown",
   "id": "26329ded-5032-4e73-8158-c445dcea1c49",
   "metadata": {},
   "source": [
    "***\n",
    "커널 PCA 적용 전 데이터 학습 x_train\n",
    "***"
   ]
  },
  {
   "cell_type": "code",
   "execution_count": 8,
   "id": "e0925557-c265-4d26-9ffd-25b0de69c0e8",
   "metadata": {
    "tags": []
   },
   "outputs": [],
   "source": [
    "from sklearn.ensemble import RandomForestClassifier"
   ]
  },
  {
   "cell_type": "code",
   "execution_count": 9,
   "id": "34b1bfea-ec4a-44e4-a95d-0ed4c1138076",
   "metadata": {
    "tags": []
   },
   "outputs": [
    {
     "name": "stdout",
     "output_type": "stream",
     "text": [
      "[2 1 0 1 0 2 1 0 2 1 0 0 1 0 1 1 2 0 1 0 0 1 2 0 0 2 0 0 0 2 1 2 2 0 1 1 1\n",
      " 1 1 0 0 1 2 0 0]\n"
     ]
    },
    {
     "data": {
      "text/plain": [
       "array([[18,  0,  0],\n",
       "       [ 1, 16,  0],\n",
       "       [ 0,  0, 10]], dtype=int64)"
      ]
     },
     "execution_count": 9,
     "metadata": {},
     "output_type": "execute_result"
    }
   ],
   "source": [
    "rfc = RandomForestClassifier(max_depth=4, random_state=0) # 랜덤 포레스트 모델 객체 생성\n",
    "rfc.fit(x_train, y_train) # 학습\n",
    "predict = rfc.predict(x_test) #예측\n",
    "print(predict)\n",
    "confusion_matrix(y_test, predict) #혼동행렬"
   ]
  },
  {
   "cell_type": "code",
   "execution_count": 10,
   "id": "38d38a40-7c3f-4e13-a241-97a16c0da57e",
   "metadata": {
    "tags": []
   },
   "outputs": [
    {
     "name": "stdout",
     "output_type": "stream",
     "text": [
      "              precision    recall  f1-score   support\n",
      "\n",
      "           0       0.95      1.00      0.97        18\n",
      "           1       1.00      0.94      0.97        17\n",
      "           2       1.00      1.00      1.00        10\n",
      "\n",
      "    accuracy                           0.98        45\n",
      "   macro avg       0.98      0.98      0.98        45\n",
      "weighted avg       0.98      0.98      0.98        45\n",
      "\n"
     ]
    }
   ],
   "source": [
    "print(classification_report(y_test, predict))"
   ]
  },
  {
   "cell_type": "markdown",
   "id": "d7a6cfa6-3ece-41bc-a4e7-2489cce7772e",
   "metadata": {},
   "source": [
    "***\n",
    "주성분 분석 적용 후 데이터 학습 x_train_kpca\n",
    "***"
   ]
  },
  {
   "cell_type": "code",
   "execution_count": 11,
   "id": "25e34185-1469-4e6d-abc2-77c637b82a2a",
   "metadata": {
    "tags": []
   },
   "outputs": [
    {
     "name": "stdout",
     "output_type": "stream",
     "text": [
      "[2 1 0 1 0 2 1 0 2 1 0 0 1 0 1 1 2 0 1 0 0 1 0 0 0 2 0 0 0 2 1 2 2 0 1 1 1\n",
      " 1 1 0 0 1 2 0 0]\n"
     ]
    },
    {
     "data": {
      "text/plain": [
       "array([[18,  0,  0],\n",
       "       [ 1, 16,  0],\n",
       "       [ 1,  0,  9]], dtype=int64)"
      ]
     },
     "execution_count": 11,
     "metadata": {},
     "output_type": "execute_result"
    }
   ],
   "source": [
    "rfc.fit(x_train_kpca, y_train) # 학습\n",
    "predict = rfc.predict(x_test_kpca) #예측\n",
    "print(predict)\n",
    "confusion_matrix(y_test, predict) #혼동행렬"
   ]
  },
  {
   "cell_type": "code",
   "execution_count": 12,
   "id": "2a888711-f1ed-4507-99b6-ee99f6dacce6",
   "metadata": {
    "tags": []
   },
   "outputs": [
    {
     "name": "stdout",
     "output_type": "stream",
     "text": [
      "              precision    recall  f1-score   support\n",
      "\n",
      "           0       0.90      1.00      0.95        18\n",
      "           1       1.00      0.94      0.97        17\n",
      "           2       1.00      0.90      0.95        10\n",
      "\n",
      "    accuracy                           0.96        45\n",
      "   macro avg       0.97      0.95      0.95        45\n",
      "weighted avg       0.96      0.96      0.96        45\n",
      "\n"
     ]
    }
   ],
   "source": [
    "print(classification_report(y_test, predict))"
   ]
  },
  {
   "cell_type": "code",
   "execution_count": null,
   "id": "ac3da80c-989b-4e85-b056-a66572473885",
   "metadata": {},
   "outputs": [],
   "source": []
  },
  {
   "cell_type": "code",
   "execution_count": null,
   "id": "7c56ffb4-53cd-47a4-b12b-bf0428360867",
   "metadata": {},
   "outputs": [],
   "source": []
  },
  {
   "cell_type": "code",
   "execution_count": null,
   "id": "6657c172-4385-4bed-b960-0985827490e5",
   "metadata": {},
   "outputs": [],
   "source": []
  },
  {
   "cell_type": "code",
   "execution_count": null,
   "id": "1915a466-af76-4ffd-9e72-5a8fd08266e2",
   "metadata": {},
   "outputs": [],
   "source": []
  },
  {
   "cell_type": "code",
   "execution_count": null,
   "id": "b967b112-75ef-4856-8d97-f701c56ac665",
   "metadata": {},
   "outputs": [],
   "source": []
  },
  {
   "cell_type": "code",
   "execution_count": null,
   "id": "ff4f9425-0480-4bcb-a81a-d97c2e452661",
   "metadata": {},
   "outputs": [],
   "source": []
  },
  {
   "cell_type": "code",
   "execution_count": null,
   "id": "0ecf546f-2d97-4a3b-8d0f-4aa723b4368b",
   "metadata": {},
   "outputs": [],
   "source": []
  },
  {
   "cell_type": "code",
   "execution_count": null,
   "id": "8a2aecee-b990-4b2b-9d3a-6625ab6ce792",
   "metadata": {},
   "outputs": [],
   "source": []
  },
  {
   "cell_type": "code",
   "execution_count": null,
   "id": "b5462674-87ec-428b-a209-86ceb927c5b2",
   "metadata": {},
   "outputs": [],
   "source": []
  },
  {
   "cell_type": "code",
   "execution_count": null,
   "id": "5a07ad6d-8879-4a3e-a49f-8698d0ffd486",
   "metadata": {},
   "outputs": [],
   "source": []
  },
  {
   "cell_type": "code",
   "execution_count": null,
   "id": "aa7be122-cd9c-436b-9b46-96fd1e9c04fd",
   "metadata": {},
   "outputs": [],
   "source": []
  },
  {
   "cell_type": "code",
   "execution_count": null,
   "id": "f275e216-a30f-490d-8754-be2b06c73856",
   "metadata": {},
   "outputs": [],
   "source": []
  },
  {
   "cell_type": "code",
   "execution_count": null,
   "id": "f11f5ff4-6e0f-49a7-86b7-1a010f93eed4",
   "metadata": {},
   "outputs": [],
   "source": []
  },
  {
   "cell_type": "code",
   "execution_count": null,
   "id": "5a8a4e11-cbe9-440b-9007-55d4d116f5ba",
   "metadata": {},
   "outputs": [],
   "source": []
  },
  {
   "cell_type": "code",
   "execution_count": null,
   "id": "5b54e597-c27b-4e1c-ba95-b2f5a7089bd9",
   "metadata": {},
   "outputs": [],
   "source": []
  },
  {
   "cell_type": "code",
   "execution_count": null,
   "id": "c6bf646d-2ca0-4add-9de2-383e90bc7421",
   "metadata": {},
   "outputs": [],
   "source": []
  },
  {
   "cell_type": "code",
   "execution_count": null,
   "id": "d4c356d3-147e-4882-8588-20028dabcea1",
   "metadata": {},
   "outputs": [],
   "source": []
  },
  {
   "cell_type": "code",
   "execution_count": null,
   "id": "a3ce7715-a07e-4cdc-b269-94889a3ca291",
   "metadata": {},
   "outputs": [],
   "source": []
  },
  {
   "cell_type": "code",
   "execution_count": null,
   "id": "8c3a9369-ad39-478a-9283-7862dadb3810",
   "metadata": {},
   "outputs": [],
   "source": []
  },
  {
   "cell_type": "code",
   "execution_count": null,
   "id": "2dc17b8a-73b5-4d8a-8272-6e012a4e837d",
   "metadata": {},
   "outputs": [],
   "source": []
  },
  {
   "cell_type": "code",
   "execution_count": null,
   "id": "5de6bc94-11ac-42a9-9fc1-a6b067fa301f",
   "metadata": {},
   "outputs": [],
   "source": []
  }
 ],
 "metadata": {
  "kernelspec": {
   "display_name": "Python [conda env:.conda-py3.7] *",
   "language": "python",
   "name": "conda-env-.conda-py3.7-py"
  },
  "language_info": {
   "codemirror_mode": {
    "name": "ipython",
    "version": 3
   },
   "file_extension": ".py",
   "mimetype": "text/x-python",
   "name": "python",
   "nbconvert_exporter": "python",
   "pygments_lexer": "ipython3",
   "version": "3.7.1"
  }
 },
 "nbformat": 4,
 "nbformat_minor": 5
}
