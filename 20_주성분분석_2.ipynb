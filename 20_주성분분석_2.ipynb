{
 "cells": [
  {
   "cell_type": "code",
   "execution_count": 1,
   "id": "ed7bb255-efa1-441e-894e-2cc56b3daa8b",
   "metadata": {},
   "outputs": [],
   "source": [
    "%config Completer.use_jedi = False                                       \n",
    "import warnings                                                             \n",
    "warnings.filterwarnings(action=\"ignore\")\n",
    "import numpy as np\n",
    "import pandas as pd                                                         \n",
    "import matplotlib.pyplot as plt                                            \n",
    "import matplotlib as mpl                                                    \n",
    "mpl.rcParams['axes.unicode_minus'] = False                                  \n",
    "#plt.rcParams('font.family') = 'RIDIBatang'                          \n",
    "#plt.rcParams('font.size') = 16                                             \n",
    "import matplotlib.font_manager as fm\n",
    "font = 'C:\\\\Windows\\\\Fonts\\\\RIDIBatang.otf'\n",
    "fontprop = fm.FontProperties(fname=font, size=16).get_name()\n",
    "plt.rc('font', family = 'RIDIBatang')\n",
    "plt.rc('font', size = 16)\n",
    "import seaborn as sns                                                       \n",
    "from sklearn.model_selection import train_test_split\n",
    "from sklearn.metrics import accuracy_score, confusion_matrix, classification_report"
   ]
  },
  {
   "cell_type": "markdown",
   "id": "0ef8567a-abc6-47ad-8603-2d45b41480ec",
   "metadata": {},
   "source": [
    "***\n",
    "식습관 데이터를 차원 축소시켜 시각화 하기\n",
    "***"
   ]
  },
  {
   "cell_type": "markdown",
   "id": "a362f928-f8cd-4d26-bc11-5ef7c81a1984",
   "metadata": {},
   "source": [
    "***\n",
    "데이터 획득\n",
    "***\n",
    "사람들의 하루 식습관 데이터를 만든후 주성분 분석을 사용해 시각화하기 위해 칼로리, 아침, 점심, 저녁, 운동횟수, 체형이라는 특성을 가지는 데이터프레임을 생성한다."
   ]
  },
  {
   "cell_type": "code",
   "execution_count": 2,
   "id": "f67588cc-f836-45d0-b789-38ac92a101ab",
   "metadata": {},
   "outputs": [
    {
     "data": {
      "text/html": [
       "<div>\n",
       "<style scoped>\n",
       "    .dataframe tbody tr th:only-of-type {\n",
       "        vertical-align: middle;\n",
       "    }\n",
       "\n",
       "    .dataframe tbody tr th {\n",
       "        vertical-align: top;\n",
       "    }\n",
       "\n",
       "    .dataframe thead th {\n",
       "        text-align: right;\n",
       "    }\n",
       "</style>\n",
       "<table border=\"1\" class=\"dataframe\">\n",
       "  <thead>\n",
       "    <tr style=\"text-align: right;\">\n",
       "      <th></th>\n",
       "      <th>calorie</th>\n",
       "      <th>breakfast</th>\n",
       "      <th>lunch</th>\n",
       "      <th>dinner</th>\n",
       "      <th>exercise</th>\n",
       "      <th>body_shape</th>\n",
       "    </tr>\n",
       "  </thead>\n",
       "  <tbody>\n",
       "    <tr>\n",
       "      <th>0</th>\n",
       "      <td>1200</td>\n",
       "      <td>1</td>\n",
       "      <td>0</td>\n",
       "      <td>0</td>\n",
       "      <td>2</td>\n",
       "      <td>Skinny</td>\n",
       "    </tr>\n",
       "    <tr>\n",
       "      <th>1</th>\n",
       "      <td>2800</td>\n",
       "      <td>1</td>\n",
       "      <td>1</td>\n",
       "      <td>1</td>\n",
       "      <td>1</td>\n",
       "      <td>Normal</td>\n",
       "    </tr>\n",
       "    <tr>\n",
       "      <th>2</th>\n",
       "      <td>3500</td>\n",
       "      <td>2</td>\n",
       "      <td>2</td>\n",
       "      <td>1</td>\n",
       "      <td>0</td>\n",
       "      <td>Fat</td>\n",
       "    </tr>\n",
       "    <tr>\n",
       "      <th>3</th>\n",
       "      <td>1400</td>\n",
       "      <td>0</td>\n",
       "      <td>1</td>\n",
       "      <td>0</td>\n",
       "      <td>3</td>\n",
       "      <td>Skinny</td>\n",
       "    </tr>\n",
       "    <tr>\n",
       "      <th>4</th>\n",
       "      <td>5000</td>\n",
       "      <td>2</td>\n",
       "      <td>2</td>\n",
       "      <td>2</td>\n",
       "      <td>0</td>\n",
       "      <td>Fat</td>\n",
       "    </tr>\n",
       "    <tr>\n",
       "      <th>5</th>\n",
       "      <td>1300</td>\n",
       "      <td>0</td>\n",
       "      <td>0</td>\n",
       "      <td>1</td>\n",
       "      <td>2</td>\n",
       "      <td>Skinny</td>\n",
       "    </tr>\n",
       "    <tr>\n",
       "      <th>6</th>\n",
       "      <td>3000</td>\n",
       "      <td>1</td>\n",
       "      <td>0</td>\n",
       "      <td>1</td>\n",
       "      <td>1</td>\n",
       "      <td>Normal</td>\n",
       "    </tr>\n",
       "    <tr>\n",
       "      <th>7</th>\n",
       "      <td>4000</td>\n",
       "      <td>2</td>\n",
       "      <td>2</td>\n",
       "      <td>2</td>\n",
       "      <td>0</td>\n",
       "      <td>Fat</td>\n",
       "    </tr>\n",
       "    <tr>\n",
       "      <th>8</th>\n",
       "      <td>2600</td>\n",
       "      <td>0</td>\n",
       "      <td>2</td>\n",
       "      <td>0</td>\n",
       "      <td>0</td>\n",
       "      <td>Normal</td>\n",
       "    </tr>\n",
       "    <tr>\n",
       "      <th>9</th>\n",
       "      <td>3000</td>\n",
       "      <td>1</td>\n",
       "      <td>2</td>\n",
       "      <td>1</td>\n",
       "      <td>1</td>\n",
       "      <td>Fat</td>\n",
       "    </tr>\n",
       "  </tbody>\n",
       "</table>\n",
       "</div>"
      ],
      "text/plain": [
       "  calorie breakfast lunch dinner exercise body_shape\n",
       "0    1200         1     0      0        2     Skinny\n",
       "1    2800         1     1      1        1     Normal\n",
       "2    3500         2     2      1        0        Fat\n",
       "3    1400         0     1      0        3     Skinny\n",
       "4    5000         2     2      2        0        Fat\n",
       "5    1300         0     0      1        2     Skinny\n",
       "6    3000         1     0      1        1     Normal\n",
       "7    4000         2     2      2        0        Fat\n",
       "8    2600         0     2      0        0     Normal\n",
       "9    3000         1     2      1        1        Fat"
      ]
     },
     "execution_count": 2,
     "metadata": {},
     "output_type": "execute_result"
    }
   ],
   "source": [
    "df = pd.DataFrame(columns = ['calorie', 'breakfast', 'lunch', 'dinner', 'exercise', 'body_shape'])\n",
    "df.loc[0] = [1200, 1, 0, 0, 2, 'Skinny']\n",
    "df.loc[1] = [2800, 1, 1, 1, 1, 'Normal']\n",
    "df.loc[2] = [3500, 2, 2, 1, 0, 'Fat']\n",
    "df.loc[3] = [1400, 0, 1, 0, 3, 'Skinny']\n",
    "df.loc[4] = [5000, 2, 2, 2, 0, 'Fat']\n",
    "df.loc[5] = [1300, 0, 0, 1, 2, 'Skinny']\n",
    "df.loc[6] = [3000, 1, 0, 1, 1, 'Normal']\n",
    "df.loc[7] = [4000, 2, 2, 2, 0, 'Fat']\n",
    "df.loc[8] = [2600, 0, 2, 0, 0, 'Normal']\n",
    "df.loc[9] = [3000, 1, 2, 1, 1, 'Fat']\n",
    "df"
   ]
  },
  {
   "cell_type": "markdown",
   "id": "db2918d0-c660-4131-ac57-b031a0108025",
   "metadata": {},
   "source": [
    "***\n",
    "데이터 전처리 과정을 통해 데이터의 범위가 제각각인 특징을 표준화(정규화)한다.\n",
    "***"
   ]
  },
  {
   "cell_type": "markdown",
   "id": "6cc50fdd-3244-4445-ad57-1f02be4c3a2c",
   "metadata": {},
   "source": [
    "위의 데이터는 칼로리가 다른 특성들에 비해 수치 범위가 유난히 큰 것을 확인할 수 있다.  \n",
    "수치가 큰 칼로리와 다른 특성들은 상관관계를 육안으로 비교할 수 없듯이 머신러닝 모델도 비교하기 힘들어진다.  \n",
    "이 경우 모든 특성들이 평균이 0이고 분산 1인 데이터로 변환한 후 비교하면 특성들의 상관관계를 이해하기 쉬워지고,  \n",
    "머신러닝 모델 역시 더욱 호율적으로 데이터를 학습할 수 있다."
   ]
  },
  {
   "cell_type": "code",
   "execution_count": 3,
   "id": "d0ba30d4-67e3-4ec3-9839-db3717425390",
   "metadata": {},
   "outputs": [
    {
     "data": {
      "text/html": [
       "<div>\n",
       "<style scoped>\n",
       "    .dataframe tbody tr th:only-of-type {\n",
       "        vertical-align: middle;\n",
       "    }\n",
       "\n",
       "    .dataframe tbody tr th {\n",
       "        vertical-align: top;\n",
       "    }\n",
       "\n",
       "    .dataframe thead th {\n",
       "        text-align: right;\n",
       "    }\n",
       "</style>\n",
       "<table border=\"1\" class=\"dataframe\">\n",
       "  <thead>\n",
       "    <tr style=\"text-align: right;\">\n",
       "      <th></th>\n",
       "      <th>calorie</th>\n",
       "      <th>breakfast</th>\n",
       "      <th>lunch</th>\n",
       "      <th>dinner</th>\n",
       "      <th>exercise</th>\n",
       "    </tr>\n",
       "  </thead>\n",
       "  <tbody>\n",
       "    <tr>\n",
       "      <th>0</th>\n",
       "      <td>1200</td>\n",
       "      <td>1</td>\n",
       "      <td>0</td>\n",
       "      <td>0</td>\n",
       "      <td>2</td>\n",
       "    </tr>\n",
       "    <tr>\n",
       "      <th>1</th>\n",
       "      <td>2800</td>\n",
       "      <td>1</td>\n",
       "      <td>1</td>\n",
       "      <td>1</td>\n",
       "      <td>1</td>\n",
       "    </tr>\n",
       "    <tr>\n",
       "      <th>2</th>\n",
       "      <td>3500</td>\n",
       "      <td>2</td>\n",
       "      <td>2</td>\n",
       "      <td>1</td>\n",
       "      <td>0</td>\n",
       "    </tr>\n",
       "    <tr>\n",
       "      <th>3</th>\n",
       "      <td>1400</td>\n",
       "      <td>0</td>\n",
       "      <td>1</td>\n",
       "      <td>0</td>\n",
       "      <td>3</td>\n",
       "    </tr>\n",
       "    <tr>\n",
       "      <th>4</th>\n",
       "      <td>5000</td>\n",
       "      <td>2</td>\n",
       "      <td>2</td>\n",
       "      <td>2</td>\n",
       "      <td>0</td>\n",
       "    </tr>\n",
       "    <tr>\n",
       "      <th>5</th>\n",
       "      <td>1300</td>\n",
       "      <td>0</td>\n",
       "      <td>0</td>\n",
       "      <td>1</td>\n",
       "      <td>2</td>\n",
       "    </tr>\n",
       "    <tr>\n",
       "      <th>6</th>\n",
       "      <td>3000</td>\n",
       "      <td>1</td>\n",
       "      <td>0</td>\n",
       "      <td>1</td>\n",
       "      <td>1</td>\n",
       "    </tr>\n",
       "    <tr>\n",
       "      <th>7</th>\n",
       "      <td>4000</td>\n",
       "      <td>2</td>\n",
       "      <td>2</td>\n",
       "      <td>2</td>\n",
       "      <td>0</td>\n",
       "    </tr>\n",
       "    <tr>\n",
       "      <th>8</th>\n",
       "      <td>2600</td>\n",
       "      <td>0</td>\n",
       "      <td>2</td>\n",
       "      <td>0</td>\n",
       "      <td>0</td>\n",
       "    </tr>\n",
       "    <tr>\n",
       "      <th>9</th>\n",
       "      <td>3000</td>\n",
       "      <td>1</td>\n",
       "      <td>2</td>\n",
       "      <td>1</td>\n",
       "      <td>1</td>\n",
       "    </tr>\n",
       "  </tbody>\n",
       "</table>\n",
       "</div>"
      ],
      "text/plain": [
       "  calorie breakfast lunch dinner exercise\n",
       "0    1200         1     0      0        2\n",
       "1    2800         1     1      1        1\n",
       "2    3500         2     2      1        0\n",
       "3    1400         0     1      0        3\n",
       "4    5000         2     2      2        0\n",
       "5    1300         0     0      1        2\n",
       "6    3000         1     0      1        1\n",
       "7    4000         2     2      2        0\n",
       "8    2600         0     2      0        0\n",
       "9    3000         1     2      1        1"
      ]
     },
     "execution_count": 3,
     "metadata": {},
     "output_type": "execute_result"
    }
   ],
   "source": [
    "# 데이터의 피쳐와 레이블이 함께 있으므로 피쳐로만 구성된 데이터 프레임을 만든다.\n",
    "X = df[['calorie',\t'breakfast', 'lunch', 'dinner', 'exercise' ]]\n",
    "X"
   ]
  },
  {
   "cell_type": "code",
   "execution_count": 4,
   "id": "a57290e1-bfc9-4ae1-b227-b6884104f076",
   "metadata": {},
   "outputs": [],
   "source": [
    "# 평균이 0이고 분산이 1인 데이터로 표준화를 하기 위해 import 한다.\n",
    "from sklearn.preprocessing import StandardScaler"
   ]
  },
  {
   "cell_type": "code",
   "execution_count": 10,
   "id": "e0266523-01c1-42d7-b489-973dda5902d0",
   "metadata": {},
   "outputs": [
    {
     "name": "stdout",
     "output_type": "stream",
     "text": [
      "[[-1.35205803  0.         -1.3764944  -1.28571429  1.        ]\n",
      " [ 0.01711466  0.         -0.22941573  0.14285714  0.        ]\n",
      " [ 0.61612771  1.29099445  0.91766294  0.14285714 -1.        ]\n",
      " [-1.18091145 -1.29099445 -0.22941573 -1.28571429  2.        ]\n",
      " [ 1.89972711  1.29099445  0.91766294  1.57142857 -1.        ]\n",
      " [-1.26648474 -1.29099445 -1.3764944   0.14285714  1.        ]\n",
      " [ 0.18826125  0.         -1.3764944   0.14285714  0.        ]\n",
      " [ 1.04399418  1.29099445  0.91766294  1.57142857 -1.        ]\n",
      " [-0.15403193 -1.29099445  0.91766294 -1.28571429 -1.        ]\n",
      " [ 0.18826125  0.          0.91766294  0.14285714  0.        ]]\n"
     ]
    }
   ],
   "source": [
    "# 칼로리를 포함한 모든 특성들을 같은 범위로 표준화한다.\n",
    "X_std = StandardScaler().fit_transform(X)\n",
    "print(X_std)"
   ]
  },
  {
   "cell_type": "markdown",
   "id": "004afc6c-26cd-4f09-a870-a6d56de5dc2b",
   "metadata": {},
   "source": [
    "***\n",
    "레이블 분리하기\n",
    "***"
   ]
  },
  {
   "cell_type": "code",
   "execution_count": 13,
   "id": "6d32e9d6-b37f-483b-bb93-5b0b463ab3ef",
   "metadata": {},
   "outputs": [
    {
     "data": {
      "text/html": [
       "<div>\n",
       "<style scoped>\n",
       "    .dataframe tbody tr th:only-of-type {\n",
       "        vertical-align: middle;\n",
       "    }\n",
       "\n",
       "    .dataframe tbody tr th {\n",
       "        vertical-align: top;\n",
       "    }\n",
       "\n",
       "    .dataframe thead th {\n",
       "        text-align: right;\n",
       "    }\n",
       "</style>\n",
       "<table border=\"1\" class=\"dataframe\">\n",
       "  <thead>\n",
       "    <tr style=\"text-align: right;\">\n",
       "      <th></th>\n",
       "      <th>body_shape</th>\n",
       "    </tr>\n",
       "  </thead>\n",
       "  <tbody>\n",
       "    <tr>\n",
       "      <th>0</th>\n",
       "      <td>Skinny</td>\n",
       "    </tr>\n",
       "    <tr>\n",
       "      <th>1</th>\n",
       "      <td>Normal</td>\n",
       "    </tr>\n",
       "    <tr>\n",
       "      <th>2</th>\n",
       "      <td>Fat</td>\n",
       "    </tr>\n",
       "    <tr>\n",
       "      <th>3</th>\n",
       "      <td>Skinny</td>\n",
       "    </tr>\n",
       "    <tr>\n",
       "      <th>4</th>\n",
       "      <td>Fat</td>\n",
       "    </tr>\n",
       "    <tr>\n",
       "      <th>5</th>\n",
       "      <td>Skinny</td>\n",
       "    </tr>\n",
       "    <tr>\n",
       "      <th>6</th>\n",
       "      <td>Normal</td>\n",
       "    </tr>\n",
       "    <tr>\n",
       "      <th>7</th>\n",
       "      <td>Fat</td>\n",
       "    </tr>\n",
       "    <tr>\n",
       "      <th>8</th>\n",
       "      <td>Normal</td>\n",
       "    </tr>\n",
       "    <tr>\n",
       "      <th>9</th>\n",
       "      <td>Fat</td>\n",
       "    </tr>\n",
       "  </tbody>\n",
       "</table>\n",
       "</div>"
      ],
      "text/plain": [
       "  body_shape\n",
       "0     Skinny\n",
       "1     Normal\n",
       "2        Fat\n",
       "3     Skinny\n",
       "4        Fat\n",
       "5     Skinny\n",
       "6     Normal\n",
       "7        Fat\n",
       "8     Normal\n",
       "9        Fat"
      ]
     },
     "execution_count": 13,
     "metadata": {},
     "output_type": "execute_result"
    }
   ],
   "source": [
    "Y = df[['body_shape']]\n",
    "Y"
   ]
  },
  {
   "cell_type": "markdown",
   "id": "2c0e9e7c-f013-4846-a5a8-8deb6aa6c8b9",
   "metadata": {},
   "source": [
    "***\n",
    "공분산 행렬 구하기\n",
    "***\n",
    "주성분 분석을 하기 위해 가장 먼저할 일은 특성들의 공분산 행렬을 구하는 것이다."
   ]
  },
  {
   "cell_type": "code",
   "execution_count": 21,
   "id": "5518c8d6-e598-44dd-8dba-23d813717609",
   "metadata": {},
   "outputs": [
    {
     "data": {
      "text/plain": [
       "array([[ 1.11111111,  0.88379717,  0.76782385,  0.89376551, -0.93179808],\n",
       "       [ 0.88379717,  1.11111111,  0.49362406,  0.81967902, -0.71721914],\n",
       "       [ 0.76782385,  0.49362406,  1.11111111,  0.40056715, -0.76471911],\n",
       "       [ 0.89376551,  0.81967902,  0.40056715,  1.11111111, -0.63492063],\n",
       "       [-0.93179808, -0.71721914, -0.76471911, -0.63492063,  1.11111111]])"
      ]
     },
     "execution_count": 21,
     "metadata": {},
     "output_type": "execute_result"
    }
   ],
   "source": [
    "# numpy의 cov() 메소드를 사용하면 공분산 행렬을 계산할 수 있다.\n",
    "feature = X_std.T\n",
    "covariance_matrix = np.cov(feature)\n",
    "covariance_matrix"
   ]
  },
  {
   "cell_type": "markdown",
   "id": "8879c30b-435d-4455-b523-1c6f2d66c5d4",
   "metadata": {},
   "source": [
    "***\n",
    "고유값과 고유벡터 구하기\n",
    "***\n",
    "공분산 행렬에서 가장 큰 고유값을 가진 고유벡터를 찾아 그 벡터 위에 데이터를 사영시킨다.  \n",
    "사영시킨다는 의미는 데이터 손실을 최소한으로 하는 고차원 공간을 저차원으로 축소한다는 의미이다.  "
   ]
  },
  {
   "cell_type": "code",
   "execution_count": 28,
   "id": "5099ae6c-88ba-4c7d-9483-92c5d7f9d0d6",
   "metadata": {},
   "outputs": [
    {
     "name": "stdout",
     "output_type": "stream",
     "text": [
      "고유값 -> [4.0657343  0.8387565  0.07629538 0.27758568 0.2971837 ]\n",
      "고유벡터\n",
      " -> [[-0.508005   -0.0169937  -0.84711404  0.11637853  0.10244985]\n",
      " [-0.44660335 -0.36890361  0.12808055 -0.63112016 -0.49973822]\n",
      " [-0.38377913  0.70804084  0.20681005 -0.40305226  0.38232213]\n",
      " [-0.42845209 -0.53194699  0.3694462   0.22228235  0.58954327]\n",
      " [ 0.46002038 -0.2816592  -0.29450345 -0.61341895  0.49601841]]\n"
     ]
    }
   ],
   "source": [
    "# 공분산 행렬에서 고유값과 고유벡터를 계산한다.\n",
    "las, evs = np.linalg.eig(covariance_matrix)\n",
    "print('고유값 -> {}\\n고유벡터\\n -> {}'.format(las, evs))"
   ]
  },
  {
   "cell_type": "code",
   "execution_count": 29,
   "id": "2ec7922e-4cb6-4511-8a3f-2b39b8f9a72d",
   "metadata": {},
   "outputs": [
    {
     "name": "stdout",
     "output_type": "stream",
     "text": [
      "0.7318321731427545\n",
      "0.1509761705671509\n",
      "0.01373316793695008\n",
      "0.04996542317586191\n",
      "0.0534930651772826\n"
     ]
    }
   ],
   "source": [
    "# 각각의 고유 벡터로 데이터를 사영할 경우 얼마만큼의 정보가 유지되는지 확인한다.\n",
    "for i in range(len(las)):\n",
    "    print(las[i] / sum(las))"
   ]
  },
  {
   "cell_type": "markdown",
   "id": "8c60d28b-60f3-4975-a46e-f3daec8838a4",
   "metadata": {},
   "source": [
    "***\n",
    "위의 결과를 통해 1차원 데이터로 차원 축소를 하더라도 73.2%정도에 해당되는 정보를 유지할 수 있다는 사실을 확인할 수 있고,  \n",
    "26.8%정도의 정보 손실은 감수하고 1차원 데이터로 축소한다. "
   ]
  },
  {
   "cell_type": "code",
   "execution_count": 31,
   "id": "bf1ddd35-12b8-445b-aef0-9d34cd6de8f1",
   "metadata": {},
   "outputs": [
    {
     "name": "stdout",
     "output_type": "stream",
     "text": [
      "[ 2.22600943  0.0181432  -1.76296611  2.73542407 -3.02711544  2.14702579\n",
      "  0.37142473 -2.59239883  0.39347815 -0.50902498]\n"
     ]
    }
   ],
   "source": [
    "projected_X = X_std.dot(evs.T[0] / np.linalg.norm(evs.T[0]))\n",
    "print(projected_X)"
   ]
  },
  {
   "cell_type": "markdown",
   "id": "b844f515-81c2-4f21-8aec-c20b5435964e",
   "metadata": {},
   "source": [
    "***\n",
    "시각화\n",
    "***\n",
    "데이터가 사영된 고유 벡터(주성분)를 X축으로 하고 1차원 데이터이므로 Y축은 0으로 고정시킨다."
   ]
  },
  {
   "cell_type": "code",
   "execution_count": 37,
   "id": "ad0bbcae-f042-49bb-a05b-27889c541ead",
   "metadata": {},
   "outputs": [
    {
     "data": {
      "text/html": [
       "<div>\n",
       "<style scoped>\n",
       "    .dataframe tbody tr th:only-of-type {\n",
       "        vertical-align: middle;\n",
       "    }\n",
       "\n",
       "    .dataframe tbody tr th {\n",
       "        vertical-align: top;\n",
       "    }\n",
       "\n",
       "    .dataframe thead th {\n",
       "        text-align: right;\n",
       "    }\n",
       "</style>\n",
       "<table border=\"1\" class=\"dataframe\">\n",
       "  <thead>\n",
       "    <tr style=\"text-align: right;\">\n",
       "      <th></th>\n",
       "      <th>PCA</th>\n",
       "      <th>Y</th>\n",
       "      <th>label</th>\n",
       "    </tr>\n",
       "  </thead>\n",
       "  <tbody>\n",
       "    <tr>\n",
       "      <th>0</th>\n",
       "      <td>2.226009</td>\n",
       "      <td>0</td>\n",
       "      <td>Skinny</td>\n",
       "    </tr>\n",
       "    <tr>\n",
       "      <th>1</th>\n",
       "      <td>0.018143</td>\n",
       "      <td>0</td>\n",
       "      <td>Normal</td>\n",
       "    </tr>\n",
       "    <tr>\n",
       "      <th>2</th>\n",
       "      <td>-1.762966</td>\n",
       "      <td>0</td>\n",
       "      <td>Fat</td>\n",
       "    </tr>\n",
       "    <tr>\n",
       "      <th>3</th>\n",
       "      <td>2.735424</td>\n",
       "      <td>0</td>\n",
       "      <td>Skinny</td>\n",
       "    </tr>\n",
       "    <tr>\n",
       "      <th>4</th>\n",
       "      <td>-3.027115</td>\n",
       "      <td>0</td>\n",
       "      <td>Fat</td>\n",
       "    </tr>\n",
       "    <tr>\n",
       "      <th>5</th>\n",
       "      <td>2.147026</td>\n",
       "      <td>0</td>\n",
       "      <td>Skinny</td>\n",
       "    </tr>\n",
       "    <tr>\n",
       "      <th>6</th>\n",
       "      <td>0.371425</td>\n",
       "      <td>0</td>\n",
       "      <td>Normal</td>\n",
       "    </tr>\n",
       "    <tr>\n",
       "      <th>7</th>\n",
       "      <td>-2.592399</td>\n",
       "      <td>0</td>\n",
       "      <td>Fat</td>\n",
       "    </tr>\n",
       "    <tr>\n",
       "      <th>8</th>\n",
       "      <td>0.393478</td>\n",
       "      <td>0</td>\n",
       "      <td>Normal</td>\n",
       "    </tr>\n",
       "    <tr>\n",
       "      <th>9</th>\n",
       "      <td>-0.509025</td>\n",
       "      <td>0</td>\n",
       "      <td>Fat</td>\n",
       "    </tr>\n",
       "  </tbody>\n",
       "</table>\n",
       "</div>"
      ],
      "text/plain": [
       "        PCA  Y   label\n",
       "0  2.226009  0  Skinny\n",
       "1  0.018143  0  Normal\n",
       "2 -1.762966  0     Fat\n",
       "3  2.735424  0  Skinny\n",
       "4 -3.027115  0     Fat\n",
       "5  2.147026  0  Skinny\n",
       "6  0.371425  0  Normal\n",
       "7 -2.592399  0     Fat\n",
       "8  0.393478  0  Normal\n",
       "9 -0.509025  0     Fat"
      ]
     },
     "execution_count": 37,
     "metadata": {},
     "output_type": "execute_result"
    }
   ],
   "source": [
    "result = pd.DataFrame(projected_X, columns=['PCA'])\n",
    "result['Y'] = 0\n",
    "result['label'] = Y\n",
    "result"
   ]
  },
  {
   "cell_type": "code",
   "execution_count": 42,
   "id": "15876bb6-d1ee-495b-a81c-971edb722c38",
   "metadata": {},
   "outputs": [
    {
     "data": {
      "text/plain": [
       "<Figure size 800x600 with 0 Axes>"
      ]
     },
     "metadata": {},
     "output_type": "display_data"
    },
    {
     "data": {
      "image/png": "[encoded data removed]",
      "text/plain": [
       "<Figure size 654.75x500 with 1 Axes>"
      ]
     },
     "metadata": {},
     "output_type": "display_data"
    }
   ],
   "source": [
    "plt.figure(figsize=[8,6])\n",
    "sns.lmplot(data=result, x='PCA', y='Y', hue='label', fit_reg=False, scatter_kws={ 's' : 30}, palette='husl')\n",
    "plt.title('차원 축소 결과')\n",
    "plt.show()"
   ]
  },
  {
   "cell_type": "markdown",
   "id": "51d6cb66-b008-4b5f-9aab-e844f4ec4814",
   "metadata": {},
   "source": [
    "***\n",
    "Scikit-learn을 이용한 주성분 분석 간단 구현\n",
    "***\n",
    "Scikit-learn 라이브러리를 사용하면 단 몇 줄만으로 간단하게 주성분 분석을 구현할 수 있다.  \n",
    "다음과 같이 주성분 분석 라이브러리를 사용해 5차원 데이터를 1차원으로 아주 간단히 축소할 수 있다. "
   ]
  },
  {
   "cell_type": "code",
   "execution_count": 43,
   "id": "e1bd7b88-8204-4912-806d-61f4f62aa0ec",
   "metadata": {},
   "outputs": [],
   "source": [
    "#Scikit-learn에서 주성분 분석을 하기 위해 import 한다.\n",
    "from sklearn.decomposition import PCA"
   ]
  },
  {
   "cell_type": "code",
   "execution_count": 47,
   "id": "b2a6679a-a9c8-486a-8f16-a7c56e8f8865",
   "metadata": {},
   "outputs": [
    {
     "data": {
      "text/plain": [
       "array([[-2.22600943],\n",
       "       [-0.0181432 ],\n",
       "       [ 1.76296611],\n",
       "       [-2.73542407],\n",
       "       [ 3.02711544],\n",
       "       [-2.14702579],\n",
       "       [-0.37142473],\n",
       "       [ 2.59239883],\n",
       "       [-0.39347815],\n",
       "       [ 0.50902498]])"
      ]
     },
     "execution_count": 47,
     "metadata": {},
     "output_type": "execute_result"
    }
   ],
   "source": [
    "# PCA 모델 객체를 만들 때 n_components 옵션으로 축소하려는 차원의 크기를 지정한다.\n",
    "pca = PCA(n_components=1).fit_transform(X_std)\n",
    "pca"
   ]
  },
  {
   "cell_type": "code",
   "execution_count": 48,
   "id": "9bf44925-7ec3-4fd3-b752-970779440f8b",
   "metadata": {},
   "outputs": [
    {
     "data": {
      "text/html": [
       "<div>\n",
       "<style scoped>\n",
       "    .dataframe tbody tr th:only-of-type {\n",
       "        vertical-align: middle;\n",
       "    }\n",
       "\n",
       "    .dataframe tbody tr th {\n",
       "        vertical-align: top;\n",
       "    }\n",
       "\n",
       "    .dataframe thead th {\n",
       "        text-align: right;\n",
       "    }\n",
       "</style>\n",
       "<table border=\"1\" class=\"dataframe\">\n",
       "  <thead>\n",
       "    <tr style=\"text-align: right;\">\n",
       "      <th></th>\n",
       "      <th>PCA</th>\n",
       "      <th>Y</th>\n",
       "      <th>label</th>\n",
       "    </tr>\n",
       "  </thead>\n",
       "  <tbody>\n",
       "    <tr>\n",
       "      <th>0</th>\n",
       "      <td>-2.226009</td>\n",
       "      <td>0</td>\n",
       "      <td>Skinny</td>\n",
       "    </tr>\n",
       "    <tr>\n",
       "      <th>1</th>\n",
       "      <td>-0.018143</td>\n",
       "      <td>0</td>\n",
       "      <td>Normal</td>\n",
       "    </tr>\n",
       "    <tr>\n",
       "      <th>2</th>\n",
       "      <td>1.762966</td>\n",
       "      <td>0</td>\n",
       "      <td>Fat</td>\n",
       "    </tr>\n",
       "    <tr>\n",
       "      <th>3</th>\n",
       "      <td>-2.735424</td>\n",
       "      <td>0</td>\n",
       "      <td>Skinny</td>\n",
       "    </tr>\n",
       "    <tr>\n",
       "      <th>4</th>\n",
       "      <td>3.027115</td>\n",
       "      <td>0</td>\n",
       "      <td>Fat</td>\n",
       "    </tr>\n",
       "    <tr>\n",
       "      <th>5</th>\n",
       "      <td>-2.147026</td>\n",
       "      <td>0</td>\n",
       "      <td>Skinny</td>\n",
       "    </tr>\n",
       "    <tr>\n",
       "      <th>6</th>\n",
       "      <td>-0.371425</td>\n",
       "      <td>0</td>\n",
       "      <td>Normal</td>\n",
       "    </tr>\n",
       "    <tr>\n",
       "      <th>7</th>\n",
       "      <td>2.592399</td>\n",
       "      <td>0</td>\n",
       "      <td>Fat</td>\n",
       "    </tr>\n",
       "    <tr>\n",
       "      <th>8</th>\n",
       "      <td>-0.393478</td>\n",
       "      <td>0</td>\n",
       "      <td>Normal</td>\n",
       "    </tr>\n",
       "    <tr>\n",
       "      <th>9</th>\n",
       "      <td>0.509025</td>\n",
       "      <td>0</td>\n",
       "      <td>Fat</td>\n",
       "    </tr>\n",
       "  </tbody>\n",
       "</table>\n",
       "</div>"
      ],
      "text/plain": [
       "        PCA  Y   label\n",
       "0 -2.226009  0  Skinny\n",
       "1 -0.018143  0  Normal\n",
       "2  1.762966  0     Fat\n",
       "3 -2.735424  0  Skinny\n",
       "4  3.027115  0     Fat\n",
       "5 -2.147026  0  Skinny\n",
       "6 -0.371425  0  Normal\n",
       "7  2.592399  0     Fat\n",
       "8 -0.393478  0  Normal\n",
       "9  0.509025  0     Fat"
      ]
     },
     "execution_count": 48,
     "metadata": {},
     "output_type": "execute_result"
    }
   ],
   "source": [
    "Scikit_learn_result = pd.DataFrame(pca, columns=['PCA'])\n",
    "Scikit_learn_result['Y'] = 0\n",
    "Scikit_learn_result['label'] = Y\n",
    "Scikit_learn_result"
   ]
  },
  {
   "cell_type": "code",
   "execution_count": 50,
   "id": "9b3494fa-341a-4d90-8312-22dafe19eb25",
   "metadata": {},
   "outputs": [
    {
     "data": {
      "text/plain": [
       "<Figure size 800x600 with 0 Axes>"
      ]
     },
     "metadata": {},
     "output_type": "display_data"
    },
    {
     "data": {
      "image/png": "[encoded data removed]",
      "text/plain": [
       "<Figure size 654.75x500 with 1 Axes>"
      ]
     },
     "metadata": {},
     "output_type": "display_data"
    }
   ],
   "source": [
    "plt.figure(figsize=[8,6])\n",
    "sns.lmplot(data=Scikit_learn_result, x='PCA', y='Y', hue='label', fit_reg=False, scatter_kws={ 's' : 30}, palette='rainbow')\n",
    "plt.title('Scikit-learn 차원 축소 결과')\n",
    "plt.show()"
   ]
  },
  {
   "cell_type": "code",
   "execution_count": null,
   "id": "f0e3dd49-5a5b-4cd2-9aca-bcba00b9949c",
   "metadata": {},
   "outputs": [],
   "source": []
  },
  {
   "cell_type": "code",
   "execution_count": null,
   "id": "8f9101db-be79-4b76-9447-0a5b29c599ed",
   "metadata": {},
   "outputs": [],
   "source": []
  },
  {
   "cell_type": "code",
   "execution_count": null,
   "id": "94d7b307-a27a-46a3-a4e7-02dc3a0683c9",
   "metadata": {},
   "outputs": [],
   "source": []
  },
  {
   "cell_type": "code",
   "execution_count": null,
   "id": "c9db92fe-a7aa-402a-8c67-6e613b9dbd05",
   "metadata": {},
   "outputs": [],
   "source": []
  },
  {
   "cell_type": "code",
   "execution_count": null,
   "id": "98fe168e-e8ae-4355-a102-f37d58dd5600",
   "metadata": {},
   "outputs": [],
   "source": []
  },
  {
   "cell_type": "code",
   "execution_count": null,
   "id": "ef16c363-f573-4e15-bb80-42bd22984d16",
   "metadata": {},
   "outputs": [],
   "source": []
  },
  {
   "cell_type": "code",
   "execution_count": null,
   "id": "97dd094c-4577-4c7e-b192-2325c78ebe37",
   "metadata": {},
   "outputs": [],
   "source": []
  },
  {
   "cell_type": "code",
   "execution_count": null,
   "id": "e5932f67-ab86-4942-a656-7702f31b44d8",
   "metadata": {},
   "outputs": [],
   "source": []
  },
  {
   "cell_type": "code",
   "execution_count": null,
   "id": "83cec08e-9677-4fc6-ba61-0f4f26b7be94",
   "metadata": {},
   "outputs": [],
   "source": []
  },
  {
   "cell_type": "code",
   "execution_count": null,
   "id": "2ebb3d7d-d57a-464a-87f6-c07bd7b58525",
   "metadata": {},
   "outputs": [],
   "source": []
  },
  {
   "cell_type": "code",
   "execution_count": null,
   "id": "b6053879-2300-4f6c-a668-15dd917b954a",
   "metadata": {},
   "outputs": [],
   "source": []
  },
  {
   "cell_type": "code",
   "execution_count": null,
   "id": "15853ca8-e194-442d-8ea8-e62197adc400",
   "metadata": {},
   "outputs": [],
   "source": []
  },
  {
   "cell_type": "code",
   "execution_count": null,
   "id": "c18d9f1a-4f95-4799-9a03-584483714ebf",
   "metadata": {},
   "outputs": [],
   "source": []
  },
  {
   "cell_type": "code",
   "execution_count": null,
   "id": "5bbb28dc-9a85-469d-a4d8-6aa4f23c67c2",
   "metadata": {},
   "outputs": [],
   "source": []
  },
  {
   "cell_type": "code",
   "execution_count": null,
   "id": "58b34826-bd49-424a-81c2-12c6f57687c5",
   "metadata": {},
   "outputs": [],
   "source": []
  },
  {
   "cell_type": "code",
   "execution_count": null,
   "id": "cc2b001d-a7fa-49a1-8ef6-15720ee6a937",
   "metadata": {},
   "outputs": [],
   "source": []
  },
  {
   "cell_type": "code",
   "execution_count": null,
   "id": "8ece2c26-8119-483f-a1a0-07ad2932f6db",
   "metadata": {},
   "outputs": [],
   "source": []
  },
  {
   "cell_type": "code",
   "execution_count": null,
   "id": "433f08c0-cae6-46ec-8f8d-c8a739b251d4",
   "metadata": {},
   "outputs": [],
   "source": []
  },
  {
   "cell_type": "code",
   "execution_count": null,
   "id": "6bf1a48e-6de0-47e6-9d83-0d59ae607177",
   "metadata": {},
   "outputs": [],
   "source": []
  },
  {
   "cell_type": "code",
   "execution_count": null,
   "id": "e793922f-4967-480e-84bf-d4c5815395a5",
   "metadata": {},
   "outputs": [],
   "source": []
  },
  {
   "cell_type": "code",
   "execution_count": null,
   "id": "d1cbec5b-99d3-4540-9a9c-8275eb588067",
   "metadata": {},
   "outputs": [],
   "source": []
  },
  {
   "cell_type": "code",
   "execution_count": null,
   "id": "cac9d082-d1d4-4d20-8bca-8d023c10a1ab",
   "metadata": {},
   "outputs": [],
   "source": []
  },
  {
   "cell_type": "code",
   "execution_count": null,
   "id": "d586a93b-7a7f-4c9f-b7c3-44e9326caec2",
   "metadata": {},
   "outputs": [],
   "source": []
  },
  {
   "cell_type": "code",
   "execution_count": null,
   "id": "3fd9235e-f31c-49f3-a950-41ad5b5d4329",
   "metadata": {},
   "outputs": [],
   "source": []
  },
  {
   "cell_type": "code",
   "execution_count": null,
   "id": "1321770d-5c9a-4db2-9252-df85f76ea9a3",
   "metadata": {},
   "outputs": [],
   "source": []
  },
  {
   "cell_type": "code",
   "execution_count": null,
   "id": "49a45222-1aed-47be-8e92-721ba6786227",
   "metadata": {},
   "outputs": [],
   "source": []
  },
  {
   "cell_type": "code",
   "execution_count": null,
   "id": "70957c94-ca4f-4112-9949-6b7d84d03482",
   "metadata": {},
   "outputs": [],
   "source": []
  },
  {
   "cell_type": "code",
   "execution_count": null,
   "id": "ad071e10-db5d-4a2e-ba1d-dc4c1ac38224",
   "metadata": {},
   "outputs": [],
   "source": []
  },
  {
   "cell_type": "code",
   "execution_count": null,
   "id": "fa4a44c7-5b2c-495f-813c-4e5bf1dcdaad",
   "metadata": {},
   "outputs": [],
   "source": []
  },
  {
   "cell_type": "code",
   "execution_count": null,
   "id": "2082e6dc-c9be-41e6-828e-9bfe41b8dce9",
   "metadata": {},
   "outputs": [],
   "source": []
  },
  {
   "cell_type": "code",
   "execution_count": null,
   "id": "e74da1ea-ff42-4241-b9ce-d4ce377d1d6d",
   "metadata": {},
   "outputs": [],
   "source": []
  },
  {
   "cell_type": "code",
   "execution_count": null,
   "id": "d8ff7ac5-df6d-4c2a-a39d-4599490a43c1",
   "metadata": {},
   "outputs": [],
   "source": []
  },
  {
   "cell_type": "code",
   "execution_count": null,
   "id": "04a3e68b-c304-4a78-91b2-fc6bc7865b24",
   "metadata": {},
   "outputs": [],
   "source": []
  },
  {
   "cell_type": "code",
   "execution_count": null,
   "id": "93f2272e-c3d0-4291-bb61-633dc956d0c4",
   "metadata": {},
   "outputs": [],
   "source": []
  },
  {
   "cell_type": "code",
   "execution_count": null,
   "id": "f59b0855-3caf-4e8c-b298-9797019cf3b3",
   "metadata": {},
   "outputs": [],
   "source": []
  },
  {
   "cell_type": "code",
   "execution_count": null,
   "id": "40f57abb-93ce-499c-9bf4-3928d5278a9f",
   "metadata": {},
   "outputs": [],
   "source": []
  },
  {
   "cell_type": "code",
   "execution_count": null,
   "id": "36c5f95a-2655-4f28-8fbc-af9e9e6a22fc",
   "metadata": {},
   "outputs": [],
   "source": []
  },
  {
   "cell_type": "code",
   "execution_count": null,
   "id": "a7a8ec59-30b5-4cb0-84d8-b5fa04b00dff",
   "metadata": {},
   "outputs": [],
   "source": []
  },
  {
   "cell_type": "code",
   "execution_count": null,
   "id": "70f25bac-5ad6-4203-b91f-7764150227bc",
   "metadata": {},
   "outputs": [],
   "source": []
  }
 ],
 "metadata": {
  "kernelspec": {
   "display_name": "Python [conda env:.conda-py3.7] *",
   "language": "python",
   "name": "conda-env-.conda-py3.7-py"
  },
  "language_info": {
   "codemirror_mode": {
    "name": "ipython",
    "version": 3
   },
   "file_extension": ".py",
   "mimetype": "text/x-python",
   "name": "python",
   "nbconvert_exporter": "python",
   "pygments_lexer": "ipython3",
   "version": "3.7.1"
  }
 },
 "nbformat": 4,
 "nbformat_minor": 5
}
