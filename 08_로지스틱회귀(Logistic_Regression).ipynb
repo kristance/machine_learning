{
 "cells": [
  {
   "cell_type": "code",
   "execution_count": 1,
   "id": "64fafc0d",
   "metadata": {},
   "outputs": [
    {
     "name": "stdout",
     "output_type": "stream",
     "text": [
      "WARNING:tensorflow:From C:\\Users\\tj\\.conda\\envs\\py3.7\\lib\\site-packages\\tensorflow\\python\\compat\\v2_compat.py:107: disable_resource_variables (from tensorflow.python.ops.variable_scope) is deprecated and will be removed in a future version.\n",
      "Instructions for updating:\n",
      "non-resource variables are not supported in the long term\n"
     ]
    }
   ],
   "source": [
    "%config Completer.use_jedi = False                                       \n",
    "import warnings                                                             \n",
    "warnings.filterwarnings(action=\"ignore\")\n",
    "import tensorflow.compat.v1 as tf\n",
    "tf.disable_v2_behavior()\n",
    "import numpy as np"
   ]
  },
  {
   "cell_type": "markdown",
   "id": "d52ba2a3",
   "metadata": {},
   "source": [
    "***\n",
    "로지스틱 회귀\n",
    "***\n",
    "공부시간, 과외시간과 시험점수 사이의 관계는 좌표로 나타냈을 때 형태가 직선으로 해결되는 선형회귀를 사용하기에 적합했었다.  \n",
    "공부시간, 과외시간에 따른 시험 점수가 합격 여부로 발표되는 시험이 있을경우 직선으로 해결하기에 적합하지 않은 문제가 발생된다.  \n",
    "이럴때 사용하는 로지스틱 회귀는 참과 거짓 중에 하나를 내놓는 과정으로 참과 거짓을 구분한 's'자를 눕혀놓은 그래프가 그려진다.\n",
    "\n",
    "<img src='./sigmoid.png' width=500px>"
   ]
  },
  {
   "cell_type": "code",
   "execution_count": 2,
   "id": "3a00bb83",
   "metadata": {},
   "outputs": [
    {
     "name": "stdout",
     "output_type": "stream",
     "text": [
      "공부시간 -> [2, 4, 6, 8, 10, 12, 14], 합격여부 -> [0, 0, 1, 1, 1, 1, 1]\n"
     ]
    }
   ],
   "source": [
    "data = [ [2, 0], [4, 0], [6, 1], [8, 1], [10, 1], [12, 1], [14, 1] ] # [공부시간, 합격여부]\n",
    "x = [i[0] for i in data] #공부시간\n",
    "y = [i[1] for i in data] #합격여부\n",
    "print('공부시간 -> {}, 합격여부 -> {}'.format(x, y))"
   ]
  },
  {
   "cell_type": "code",
   "execution_count": 3,
   "id": "44405037",
   "metadata": {},
   "outputs": [
    {
     "name": "stdout",
     "output_type": "stream",
     "text": [
      "a = [0.46631498], b = [0.19633779]\n"
     ]
    }
   ],
   "source": [
    "a = tf.Variable(tf.random_uniform([1], dtype=tf.float64)) # 공부시간 기울기\n",
    "b = tf.Variable(tf.random_uniform([1], dtype=tf.float64)) # y절편\n",
    "sess = tf.Session()\n",
    "sess.run(tf.global_variables_initializer())\n",
    "print('a = {}, b = {}'.format( sess.run(a), sess.run(b) ))"
   ]
  },
  {
   "cell_type": "markdown",
   "id": "ec19d5bf",
   "metadata": {},
   "source": [
    "***\n",
    "시그모이드 방정식 -> sigmoid = 1 / (1 + e^(ax + b))\n",
    "***"
   ]
  },
  {
   "cell_type": "code",
   "execution_count": 12,
   "id": "1fa36739",
   "metadata": {},
   "outputs": [],
   "source": [
    "# np.e : numpy에서 지수값(2.718281828459045)을 의미하는 상수\n",
    "#print(np.e)\n",
    "Y = 1 / (1 + np.e ** -(a * x + b))\n"
   ]
  },
  {
   "cell_type": "markdown",
   "id": "96099d36",
   "metadata": {},
   "source": [
    "***\n",
    "시그모이드 방정식의 오차를 계산하는 수식을 만든다. -> 시그모이드 함수의 특성은 예측값(Y)이 항상 0 아니면 1이다.  \n",
    "***"
   ]
  },
  {
   "cell_type": "code",
   "execution_count": 21,
   "id": "f1c4f1cc",
   "metadata": {},
   "outputs": [],
   "source": [
    "loss =  - tf.reduce_mean( (np.array(y) * tf.log(Y)) + ( ( 1 - np.array(y) ) * tf.log(1 - Y) ))"
   ]
  },
  {
   "cell_type": "markdown",
   "id": "896d508f",
   "metadata": {},
   "source": [
    "***\n",
    "경사하강법 알고리즘을 이용해서 오차를 최소로 하는 값을 찾는다.\n",
    "***"
   ]
  },
  {
   "cell_type": "code",
   "execution_count": 22,
   "id": "aa5052fb",
   "metadata": {},
   "outputs": [],
   "source": [
    "gradient_descent = tf.train.GradientDescentOptimizer(0.01).minimize(loss)"
   ]
  },
  {
   "cell_type": "markdown",
   "id": "98c0237a",
   "metadata": {},
   "source": [
    "***\n",
    "학습시킨다.\n",
    "***"
   ]
  },
  {
   "cell_type": "code",
   "execution_count": 23,
   "id": "661caeb3",
   "metadata": {
    "scrolled": false
   },
   "outputs": [
    {
     "name": "stdout",
     "output_type": "stream",
     "text": [
      "epoch ->     0, loss ->  0.9534, a -> 0.88098, b ->  0.6413\n",
      "epoch ->   500, loss ->  0.3846, a -> 0.24901, b -> -0.0944\n",
      "epoch ->  1000, loss ->  0.3258, a -> 0.32157, b -> -0.6312\n",
      "epoch ->  1500, loss ->  0.2828, a -> 0.38766, b -> -1.0894\n",
      "epoch ->  2000, loss ->  0.2508, a -> 0.44770, b -> -1.4847\n",
      "epoch ->  2500, loss ->  0.2263, a -> 0.50238, b -> -1.8304\n",
      "epoch ->  3000, loss ->  0.2070, a -> 0.55241, b -> -2.1369\n",
      "epoch ->  3500, loss ->  0.1914, a -> 0.59845, b -> -2.4118\n",
      "epoch ->  4000, loss ->  0.1786, a -> 0.64107, b -> -2.6612\n",
      "epoch ->  4500, loss ->  0.1679, a -> 0.68074, b -> -2.8894\n",
      "epoch ->  5000, loss ->  0.1587, a -> 0.71786, b -> -3.1001\n",
      "epoch ->  5500, loss ->  0.1508, a -> 0.75275, b -> -3.2959\n",
      "epoch ->  6000, loss ->  0.1439, a -> 0.78568, b -> -3.4790\n",
      "epoch ->  6500, loss ->  0.1377, a -> 0.81690, b -> -3.6510\n",
      "epoch ->  7000, loss ->  0.1323, a -> 0.84657, b -> -3.8134\n",
      "epoch ->  7500, loss ->  0.1274, a -> 0.87488, b -> -3.9674\n",
      "epoch ->  8000, loss ->  0.1230, a -> 0.90195, b -> -4.1138\n",
      "epoch ->  8500, loss ->  0.1189, a -> 0.92791, b -> -4.2535\n",
      "epoch ->  9000, loss ->  0.1152, a -> 0.95286, b -> -4.3872\n",
      "epoch ->  9500, loss ->  0.1118, a -> 0.97688, b -> -4.5155\n",
      "epoch -> 10000, loss ->  0.1087, a -> 1.00006, b -> -4.6388\n"
     ]
    }
   ],
   "source": [
    "sess = tf.Session()\n",
    "sess.run(tf.global_variables_initializer())\n",
    "\n",
    "for epoch in range(10001):\n",
    "    sess.run(gradient_descent)\n",
    "    if epoch % 500 == 0:\n",
    "        #print(epoch, sess.run(loss), sess.run(a), sess.run(b))\n",
    "        '''\n",
    "        print('epoch -> %5d, loss -> %7.4f, a -> %7.4f, b -> %7.4f'\n",
    "              %  ( epoch, sess.run(loss), sess.run(a), sess.run(b) ))\n",
    "        '''\n",
    "        print('epoch -> {:5d}, loss -> {:7.4f}, a -> {:7.5f}, b -> {:7.4f}'\n",
    "               .format( epoch, sess.run(loss), sess.run(a)[0], sess.run(b)[0] ))"
   ]
  },
  {
   "cell_type": "code",
   "execution_count": null,
   "id": "0f579bb0",
   "metadata": {},
   "outputs": [],
   "source": []
  },
  {
   "cell_type": "code",
   "execution_count": null,
   "id": "10c87b61",
   "metadata": {},
   "outputs": [],
   "source": []
  },
  {
   "cell_type": "code",
   "execution_count": null,
   "id": "50eee68f",
   "metadata": {},
   "outputs": [],
   "source": []
  },
  {
   "cell_type": "code",
   "execution_count": null,
   "id": "385ae9f7",
   "metadata": {},
   "outputs": [],
   "source": []
  },
  {
   "cell_type": "code",
   "execution_count": null,
   "id": "2936d281",
   "metadata": {},
   "outputs": [],
   "source": []
  },
  {
   "cell_type": "code",
   "execution_count": null,
   "id": "f6fa17df",
   "metadata": {},
   "outputs": [],
   "source": []
  },
  {
   "cell_type": "code",
   "execution_count": null,
   "id": "060f5bb4",
   "metadata": {},
   "outputs": [],
   "source": []
  },
  {
   "cell_type": "code",
   "execution_count": null,
   "id": "0d6b7fc4",
   "metadata": {},
   "outputs": [],
   "source": []
  },
  {
   "cell_type": "code",
   "execution_count": null,
   "id": "5736ea9b",
   "metadata": {},
   "outputs": [],
   "source": []
  },
  {
   "cell_type": "code",
   "execution_count": null,
   "id": "a596da94",
   "metadata": {},
   "outputs": [],
   "source": []
  },
  {
   "cell_type": "code",
   "execution_count": null,
   "id": "ff738041",
   "metadata": {},
   "outputs": [],
   "source": []
  },
  {
   "cell_type": "code",
   "execution_count": null,
   "id": "a5477258",
   "metadata": {},
   "outputs": [],
   "source": []
  },
  {
   "cell_type": "code",
   "execution_count": null,
   "id": "afa3f9d5",
   "metadata": {},
   "outputs": [],
   "source": []
  },
  {
   "cell_type": "code",
   "execution_count": null,
   "id": "2f518eb5",
   "metadata": {},
   "outputs": [],
   "source": []
  },
  {
   "cell_type": "code",
   "execution_count": null,
   "id": "2e25dfaa",
   "metadata": {},
   "outputs": [],
   "source": []
  },
  {
   "cell_type": "code",
   "execution_count": null,
   "id": "32296956",
   "metadata": {},
   "outputs": [],
   "source": []
  },
  {
   "cell_type": "code",
   "execution_count": null,
   "id": "bea73dcb",
   "metadata": {},
   "outputs": [],
   "source": []
  },
  {
   "cell_type": "code",
   "execution_count": null,
   "id": "fce61d8e",
   "metadata": {},
   "outputs": [],
   "source": []
  },
  {
   "cell_type": "code",
   "execution_count": null,
   "id": "2658871f",
   "metadata": {},
   "outputs": [],
   "source": []
  },
  {
   "cell_type": "code",
   "execution_count": null,
   "id": "4b3b4397",
   "metadata": {},
   "outputs": [],
   "source": []
  },
  {
   "cell_type": "code",
   "execution_count": null,
   "id": "c0a662e8",
   "metadata": {},
   "outputs": [],
   "source": []
  },
  {
   "cell_type": "code",
   "execution_count": null,
   "id": "55a110c4",
   "metadata": {},
   "outputs": [],
   "source": []
  },
  {
   "cell_type": "code",
   "execution_count": null,
   "id": "154b6b8d",
   "metadata": {},
   "outputs": [],
   "source": []
  },
  {
   "cell_type": "code",
   "execution_count": null,
   "id": "c07e7074",
   "metadata": {},
   "outputs": [],
   "source": []
  },
  {
   "cell_type": "code",
   "execution_count": null,
   "id": "b8c4c3d2",
   "metadata": {},
   "outputs": [],
   "source": []
  },
  {
   "cell_type": "code",
   "execution_count": null,
   "id": "9a3dd125",
   "metadata": {},
   "outputs": [],
   "source": []
  },
  {
   "cell_type": "code",
   "execution_count": null,
   "id": "79b4af40",
   "metadata": {},
   "outputs": [],
   "source": []
  },
  {
   "cell_type": "code",
   "execution_count": null,
   "id": "3aa6a4ac",
   "metadata": {},
   "outputs": [],
   "source": []
  },
  {
   "cell_type": "code",
   "execution_count": null,
   "id": "d3d48ff2",
   "metadata": {},
   "outputs": [],
   "source": []
  }
 ],
 "metadata": {
  "kernelspec": {
   "display_name": "Python [conda env:.conda-py3.7] *",
   "language": "python",
   "name": "conda-env-.conda-py3.7-py"
  },
  "language_info": {
   "codemirror_mode": {
    "name": "ipython",
    "version": 3
   },
   "file_extension": ".py",
   "mimetype": "text/x-python",
   "name": "python",
   "nbconvert_exporter": "python",
   "pygments_lexer": "ipython3",
   "version": "3.7.1"
  }
 },
 "nbformat": 4,
 "nbformat_minor": 5
}
