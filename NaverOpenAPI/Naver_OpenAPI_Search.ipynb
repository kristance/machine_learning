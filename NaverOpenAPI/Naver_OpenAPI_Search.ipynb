{
 "cells": [
  {
   "cell_type": "code",
   "execution_count": 1,
   "id": "8bd13f17-e3c1-446a-940e-584f4bbbce43",
   "metadata": {},
   "outputs": [],
   "source": [
    "import warnings\n",
    "warnings.filterwarnings(action='ignore')\n",
    "%config Completer.use_jedi = False\n",
    "import requests"
   ]
  },
  {
   "cell_type": "markdown",
   "id": "452719ed-24e9-41c7-8791-fc42b1559d5e",
   "metadata": {},
   "source": [
    "***\n",
    "네이버 오픈 API를 사용하려면 먼저 네이버 개발자 센터에서 애플리케이션을 등록하고 클라이언트 ID와 클라이언트 Secret을 발급받아야한다.  \n",
    "네이버 로그인한 사용자 계정으로 애플리케이션이 등록되므로 애플리케이션을 등록한 네이버 아이디는 관리자 권한을 가지므로 보안에 각별히 주의해야한다.  \n",
    "***"
   ]
  },
  {
   "cell_type": "code",
   "execution_count": 2,
   "id": "94c66d5e-edf8-4dd1-925a-4da48d4416af",
   "metadata": {},
   "outputs": [],
   "source": [
    "headers = {\n",
    "     \"user-agent\" : \"Mozilla/5.0 (Windows NT 6.3; Win64; x64; Trident/7.0; MSAppHost/2.0; rv:11.0) like Gecko\",\n",
    "     \"X-Naver-Client-Id\" : \"yFGTgnCZqLItfmxFZ_sq\",\n",
    "     \"X-Naver-Client-Secret\" : \"e8uyWugyAc\"\n",
    "}"
   ]
  },
  {
   "cell_type": "markdown",
   "id": "8a0d1aa3-0fa7-4573-8b14-d6391992f33d",
   "metadata": {},
   "source": [
    "***\n",
    "네이버 샘플 코드\n",
    "***\n"
   ]
  },
  {
   "cell_type": "code",
   "execution_count": 3,
   "id": "69c8dd78-6dea-4b10-ac95-b8c354ebfc13",
   "metadata": {
    "tags": []
   },
   "outputs": [
    {
     "name": "stdout",
     "output_type": "stream",
     "text": [
      "<?xml version=\"1.0\" encoding=\"UTF-8\"?><rss version=\"2.0\"><channel><title>Naver Open API - blog ::&apos;홍길동&apos;</title><link>https://search.naver.com</link><description>Naver Search Result</description><lastBuildDate>Fri, 31 May 2024 16:09:44 +0900</lastBuildDate><total>285482</total><start>1</start><display>10</display><item><title>(2024) 3월 일상 시켜줘 명예&lt;b&gt;홍길동&lt;/b&gt;</title><link>https://blog.naver.com/qquiop/223412855635</link><description>명예&lt;b&gt;홍길동&lt;/b&gt;.. 시작합니다 레쓰고 3월 일상 시작부터 냅따 마취크림 바른 사진 올리기 2차 갑상선 레이저흉터 했다..홀홀 원래 교수님이 2번만 하면 된다 했는데 다음 외래도 잡아주심(녜???ㅎㅅㅎ??) 디저트계의... </description><bloggername>야금야금 냠냠</bloggername><bloggerlink>blog.naver.com/qquiop</bloggerlink><postdate>20240411</postdate></item><item><title>중랑구 대방어 웨이팅 맛집 - &lt;b&gt;홍길동&lt;/b&gt; 회 수산 (방문 포장)</title><link>https://blog.naver.com/kim2ee_/223348658405</link><description>맛집 &lt;b&gt;홍길동&lt;/b&gt; 회 수산 (방문 포장) 리뷰입니다! 올겨울 대방어 철이 다 가기 전에 중랑구에서 핫하다는 대방어 맛집에 다녀왔어요 ㅎㅎ 같이 알아보시죠! &lt;b&gt;홍길동&lt;/b&gt; 회 수산 영업시간 월, 수, 목, 금, 토, 일 17:00 ~ 02... </description><bloggername>먹깨비 부부의 일상 *´ސު｀*</bloggername><bloggerlink>blog.naver.com/kim2ee_</bloggerlink><postdate>20240209</postdate></item><item><title>장성 펜션 &apos;&lt;b&gt;홍길동&lt;/b&gt;건강펜션&apos; 전라도 애견 동반 장성 독채 펜션</title><link>https://blog.naver.com/anndam/223393877856</link><description>장성 펜션 &lt;b&gt;홍길동&lt;/b&gt;건강펜션 전남 장성 독채 펜션, 전라도 애견 동반 가능 펜션으로 조용하고 편안한 곳인데요. &lt;b&gt;홍길동&lt;/b&gt;테마파크, 황룡강생태공원 인근으로 아름다운 자연속 힐링하며 묵기 좋은 전남 독채... </description><bloggername>♥마리안의 여행이야기-마음이 머무는 이곳♥</bloggername><bloggerlink>blog.naver.com/anndam</bloggerlink><postdate>20240325</postdate></item><item><title>장성 펜션 애견동반 가능 단체 &lt;b&gt;홍길동&lt;/b&gt;건강펜션</title><link>https://blog.naver.com/lllpeacelll1/223434902136</link><description>&lt;b&gt;홍길동&lt;/b&gt;테마파크, 황룡강생태공원과도 가까워서 함께 관광하기에도 좋습니다 :) &lt;b&gt;홍길동&lt;/b&gt;건강펜션 전남 장성군 황룡면 금호초지길 24-31 까치방 기준 2인(4인까지 가능) 체크인 14:00 체크아웃 11:00 단체방(10... </description><bloggername>블랙토끼의 새콤달콤 여행기록</bloggername><bloggerlink>blog.naver.com/lllpeacelll1</bloggerlink><postdate>20240503</postdate></item><item><title>유 퀴즈 온 더 블럭 241화 &lt;b&gt;홍길동&lt;/b&gt;에서 쓰저씨까지 Y아저씨... </title><link>https://blog.naver.com/dayeon1007/223426242463</link><description>&amp;quot; 큰 자기 유재석&amp;amp;아기자기 조세호와 자기님들의 인생으로 떠나는 사람 여행 28년 전 &lt;b&gt;홍길동&lt;/b&gt; 쓰레기... 국립극단에서 연극을 하던 중 처음으로 오디션을 본 드라마 &amp;lt;&lt;b&gt;홍길동&lt;/b&gt;&amp;gt;. 드라마 데뷔와 동시에 주연 &apos;&lt;b&gt;홍길동&lt;/b&gt;... </description><bloggername>하나님 그리고 조나단</bloggername><bloggerlink>blog.naver.com/dayeon1007</bloggerlink><postdate>20240424</postdate></item><item><title>상봉/망우 맛집 : &lt;b&gt;홍길동&lt;/b&gt; 회수산 (갓성비 회는 짱이지만... </title><link>https://blog.naver.com/mey471/223444999360</link><description>오늘 리뷰할 맛집은 &amp;quot;&lt;b&gt;홍길동&lt;/b&gt;회수산&amp;quot;임!! [기본 정보] ●영업시간 : 17시 - 02시 (정기휴무 : 매주 화요일) ●예약은 따로 불가함. 이미 상봉 근처에 사는 사람들이라면 익히 알고 있는 갓성비 회 맛집 &amp;quot;&lt;b&gt;홍길동&lt;/b&gt;... </description><bloggername>에베베베메롱</bloggername><bloggerlink>blog.naver.com/mey471</bloggerlink><postdate>20240513</postdate></item><item><title>&lt;b&gt;홍길동&lt;/b&gt;은 정말 의적일까?</title><link>https://blog.naver.com/k2gvtopia/223384027639</link><description>&lt;b&gt;홍길동&lt;/b&gt;은 의적일까? 아닐까? 결론적으로 말해서 &lt;b&gt;홍길동&lt;/b&gt;은 의적이 아니라 도적에 지나지 않다. 어린 시절 누구나 한 번쯤은 읽었을 &lt;b&gt;홍길동&lt;/b&gt;전은 조선 광해군 때에 지어진 최초의 한글 소설이기에 그 가치가 매우... </description><bloggername>K2GVTopia</bloggername><bloggerlink>blog.naver.com/k2gvtopia</bloggerlink><postdate>20240315</postdate></item><item><title>주문진 어민 수산시장 이시가리 자연산 활어전문 &lt;b&gt;홍길동&lt;/b&gt; 너무... </title><link>https://blog.naver.com/cutejun01/223425471511</link><description>2인이서 먹어야해서 사이즈와 금액대도 괜찮은 &lt;b&gt;홍길동&lt;/b&gt;에서 해산물 포장하기로 했어요. 역시나... 각종 자연산 활어 전문 전국 택배도 가능하고 &lt;b&gt;홍길동&lt;/b&gt; 사장님 친절하셨어요. 회 뜨는 곳에서 포장하고 야채도... </description><bloggername>나오느른의 life</bloggername><bloggerlink>blog.naver.com/cutejun01</bloggerlink><postdate>20240424</postdate></item><item><title>부산 간판 정관 &lt;b&gt;홍길동&lt;/b&gt; 매장 대형 현수막 설치</title><link>https://blog.naver.com/baren_sign/223420340908</link><description>정관 &lt;b&gt;홍길동&lt;/b&gt; 리세일 매장에서 부산 간판 업체 바른 광고로 대형 현수막 설치를 의뢰해 주셨습니다.... 새롭게 제작된 &lt;b&gt;홍길동&lt;/b&gt; 리세일 매장의 상호가 적힌 현수막을 피스를 사용하여, 시계 방향으로 고정을 해... </description><bloggername>바른광고_Bareun Sign</bloggername><bloggerlink>blog.naver.com/baren_sign</bloggerlink><postdate>20240419</postdate></item><item><title>리어왕읽기5_에드먼드와 &lt;b&gt;홍길동&lt;/b&gt;</title><link>https://blog.naver.com/enitheater/223461359870</link><description>에드먼드와 &lt;b&gt;홍길동&lt;/b&gt;이라는 ‘서자’라는 형상을 내세워 적서차별의 문제를 다루고 있다. 서양과 동양이라는 거리상의 차이에도 불구하고 같은 문제를 공유하고 있었던 것이다. &amp;lt;리어왕&amp;gt;과 &amp;lt;&lt;b&gt;홍길동&lt;/b&gt;전&amp;gt;에... </description><bloggername>경험과상상 소식지블로그</bloggername><bloggerlink>blog.naver.com/enitheater</bloggerlink><postdate>20240528</postdate></item></channel></rss>\n"
     ]
    }
   ],
   "source": [
    "import os\n",
    "import sys\n",
    "import urllib.request\n",
    "client_id = \"yFGTgnCZqLItfmxFZ_sq\" # 개발자센터에서 발급받은 Client ID 값\n",
    "client_secret = \"e8uyWugyAc\" # 개발자센터에서 발급받은 Client Secret 값\n",
    "encText = urllib.parse.quote(\"홍길동\")\n",
    "url = \"https://openapi.naver.com/v1/search/blog.xml?query=\" + encText\n",
    "request = urllib.request.Request(url)\n",
    "request.add_header(\"X-Naver-Client-Id\",client_id)\n",
    "request.add_header(\"X-Naver-Client-Secret\",client_secret)\n",
    "response = urllib.request.urlopen(request)\n",
    "rescode = response.getcode()\n",
    "if(rescode==200):\n",
    "    response_body = response.read()\n",
    "    print(response_body.decode('utf-8'))\n",
    "else:\n",
    "    print(\"Error Code:\" + rescode)"
   ]
  },
  {
   "cell_type": "code",
   "execution_count": 4,
   "id": "31d8f869-1f90-4c69-b613-50f61a3b1639",
   "metadata": {},
   "outputs": [
    {
     "name": "stdin",
     "output_type": "stream",
     "text": [
      "검색어는 무엇일까????  황금계란\n"
     ]
    },
    {
     "name": "stdout",
     "output_type": "stream",
     "text": [
      "{'title': '표고버섯 <b>계란</b>장조림 <b>황금</b>레시피 w. 햇살담은 진간장, 임영웅이... ', 'link': 'https://blog.naver.com/psy9133/223461944604', 'description': '표고버섯장조림 <b>계란</b>장조림 <b>황금</b>레시피 w. 햇살담은 진간장, 임영웅이 선택한 간장 안녕하세요, 은솔희섭mom이에요. 평소 다양한 요리를 만들 때 양념 중에서도 볶음, 조림은 기본이고 간을 맞추거나 맛을... ', 'bloggername': '은솔희섭mom의 데이바이데이 story~*', 'bloggerlink': 'blog.naver.com/psy9133', 'postdate': '20240529'}\n",
      "\n",
      "{'title': '간장 <b>계란</b>볶음밥 레시피 스팸 <b>계란</b>볶음밥 <b>황금</b>볶음밥', 'link': 'https://blog.naver.com/mj_hudadak/223326276562', 'description': '간장 계란볶음밥 레시피 스팸 계란볶음밥 황금볶음밥 방학 중 아이 아침메뉴로 빼놓을 수 없는 볶음밥... 노란빛의 <b>황금계란</b>볶음밥 이라 조금 더 특별한 기분도 들고요. 무엇보다 아이들이 진짜 좋아해요... ', 'bloggername': 'MJ의후다닥레시피~♥', 'bloggerlink': 'blog.naver.com/mj_hudadak', 'postdate': '20240118'}\n",
      "\n",
      "{'title': '반찬 필요 없는 주말 한 그릇 요리~ <b>황금계란</b>볶음밥~!', 'link': 'https://ribi.tistory.com/2486', 'description': '대파와 계란, 굴소스만으로 <b>황금계란</b>볶음밥을 만들었습니다. 재료 : 계란 3개, 대파, 굴소스, 올리브유, 소금과 후추 약간, 참기름, 참깨, 김가루(선택) 마땅한 반찬이 없어서 급하게 만들어 본 계란볶음밥입니다.... ', 'bloggername': '은벼리파파의 얼렁뚱땅 육아일기', 'bloggerlink': 'https://ribi.tistory.com/', 'postdate': '20240310'}\n",
      "\n",
      "{'title': '<b>황금 계란</b>볶음밥 레시피 초간단 자취요리 볶음밥 만들기', 'link': 'https://blog.naver.com/peace8012/223109662444', 'description': '요리 계란볶음밥 레시피 소개해 볼게요! 이 볶음밥은 달걀물이 전체적으로 노르스름하게 밥알에 코팅이 되어 마치 황금색을 띤다고 하여 붙여진 이름이 <b>황금 계란</b> 볶음밥 레시피 지요 한동안 유행해서 많이들... ', 'bloggername': '레즐리의 톡톡한 이야기', 'bloggerlink': 'blog.naver.com/peace8012', 'postdate': '20230523'}\n",
      "\n",
      "{'title': '파기름 <b>황금 계란</b>볶음밥 5분 간단 계란볶음밥 레시피 칼로리', 'link': 'https://blog.naver.com/yooelf/223353175951', 'description': '먹고싶은 음식의 칼로리를 비교하곤 하죠ㅎㅎ 계란은 하나 당 70kcal의 칼로리를 가지고 있어요 <b>황금 계란</b>볶음밥 1인분에 밥 한 그릇과 계란 두개가 들어가니 총 440칼로리 라고 생각하시면 될 것 같습니다!', 'bloggername': '요민쿡쿡 cook cook :>', 'bloggerlink': 'blog.naver.com/yooelf', 'postdate': '20240214'}\n",
      "\n",
      "{'title': '<b>계란</b>장조림 <b>황금</b>레시피 임영웅이 선택한 더 진하게 맛있는 간장', 'link': 'https://blog.naver.com/dhdmsdo79/223451473620', 'description': '<b>계란</b>장조림 <b>황금</b>레시피 임영웅이 선택한 햇살담은 진간장 레시피 안녕하세요. 제시예요. 매일 가족과 함께 집밥을 즐기기에 맛있는 요리를 만들어 식탁을 풍성하게 준비한답니다. 오늘은 어떤 요리를 만들어... ', 'bloggername': '제시의 달빛부엌', 'bloggerlink': 'blog.naver.com/dhdmsdo79', 'postdate': '20240529'}\n",
      "\n",
      "{'title': '맛있는 임영웅이 선택한 진간장 골드 간장 <b>계란</b>장조림 <b>황금</b>레시피', 'link': 'https://blog.naver.com/wookyungmom/223462170350', 'description': '<b>계란</b>장 레시피 더 진하게 맛있는 임영웅이 선택한 진간장 골드 간장 <b>계란</b>장조림 <b>황금</b>레시피 삶은 달걀만 있으면 뚝딱 완성할 수 있는 <b>계란</b>장 레시피! <b>계란</b>장조림처럼 간장양념을 졸여서 만들지 않고... ', 'bloggername': '투우맘', 'bloggerlink': 'blog.naver.com/wookyungmom', 'postdate': '20240529'}\n",
      "\n",
      "{'title': '<b>황금 계란</b>볶음밥 레시피 파기름 계란볶음밥 간장 대파볶음밥... ', 'link': 'https://blog.naver.com/theboni/223123914034', 'description': '<b>황금 계란</b> 볶음밥 파기름 계란 볶음밥 간장계란 볶음밥 계란 볶음밥 레시피 고소한 맛과 부드러운... * 일반적인 방법은 재료를 볶다가 스크램블 에그를 따로 만들어 볶지만 황금처럼 노란색을 내주기 위해서... ', 'bloggername': '보니의 참쉬운 레시피', 'bloggerlink': 'blog.naver.com/theboni', 'postdate': '20230608'}\n",
      "\n",
      "{'title': '황금볶음밥 한그릇 요리 <b>황금계란</b>볶음밥  아이도시락 계란볶... ', 'link': 'https://blog.naver.com/gtbaby35/223303234965', 'description': '^^ #혼밥 메뉴 #볶음밥 #집밥 #아이도시락 #초딩도시락 #계란볶음밥 #황금볶음밥 #<b>황금계란</b>볶음밥 #계란볶음밥레시피 #초딩언니도시락 #초딩언니레시피 #계란볶음밥만들기 #초딩도시락메뉴 #도시락볶음밥', 'bloggername': '소꼽놀이 11년차,', 'bloggerlink': 'blog.naver.com/gtbaby35', 'postdate': '20231226'}\n",
      "\n",
      "{'title': '<b>황금 계란</b>볶음밥 레시피 대파 듬뿍 파계란볶음밥 굴소스... ', 'link': 'https://blog.naver.com/naipo000/223086792290', 'description': '요래 미리 계란물과 섞어서 볶으면 간단함도 있고, 완성했을 때 전체적으로 황금색 빛을 띠기 때문에... 파계란볶음밥, <b>황금계란</b>볶음밥 레시피 전해드렸어요. 계란스크램블이 필요 없고 밥에 계란물을 코팅해서... ', 'bloggername': '세아이와 살림하는 그녀', 'bloggerlink': 'blog.naver.com/naipo000', 'postdate': '20230427'}\n",
      "\n"
     ]
    }
   ],
   "source": [
    "searchTest = input(\"블로그 검색어는 무엇일까???? \")\n",
    "# https://openapi.naver.com/v1/search/blog.xml : xml 형태로 검색 결과를 리턴받는다. \n",
    "# https://openapi.naver.com/v1/search/blog.json : json 형태로 검색 결과를 리턴받는다. \n",
    "# 파라미터 : URL 뒤에 \"?\"을 붙이고 입력한다.\n",
    "# query(필수) : 검색어, UTF-8로 인코딩되어야 한다.\n",
    "# display(선택) : 한 번에 표시할 검색 결과의 갯수, 기본값은 10, 최대 100까지 지정 가능\n",
    "# start(선택) : 검색 시작 위치, 기본값은 1이고,  최대 1000까지 지정할 수 있다.\n",
    "# sort(선택) : 검색 결과 정렬 방법, 기본값은 \"sim\"으로 정확도 내림차순 정렬, \"date\"는 작성일순으로 내림차순 정렬\n",
    "\n",
    "targetSite = \"https://openapi.naver.com/v1/search/blog.json?query=\" + searchTest;\n",
    "#print(targetSite)\n",
    "\n",
    "response = requests.get(targetSite, headers=headers) # 네이버 검색 API 요청\n",
    "#print(response) # response 200\n",
    "#print(type(response)) # <class 'requests.models.Response'>\n",
    "#print(response.text)\n",
    "searchResult = response.json(); # 응답받은 json 형태의 문자열을 딕셔너리 형태로 가공\n",
    "#print(type(searchResult))\n",
    "#print(searchResult.keys()) # ['lastBuildDate', 'total', 'start', 'display', 'items']\n",
    "items = searchResult['items']\n",
    "#print(items)\n",
    "for item in items:\n",
    "     print(\"{}\".format(item), end=\"\\n\" )\n",
    "     print()\n"
   ]
  },
  {
   "cell_type": "markdown",
   "id": "58bdf0a3-b8f7-4335-ba74-070b86ffbda0",
   "metadata": {},
   "source": [
    "***\n",
    "***\n",
    "파라미터 참고 : https://developers.naver.com/docs/serviceapi/search/shopping/shopping.md#%EC%87%BC%ED%95%91\n",
    "***\n",
    "***"
   ]
  },
  {
   "cell_type": "markdown",
   "id": "b5bc7576-7fdb-4460-b1d3-965e6bfd54af",
   "metadata": {},
   "source": [
    "***\n",
    "뉴스 검색\n",
    "***"
   ]
  },
  {
   "cell_type": "code",
   "execution_count": 6,
   "id": "95e83e53-b574-4e0a-980e-9edb0f7aca9f",
   "metadata": {},
   "outputs": [
    {
     "name": "stdin",
     "output_type": "stream",
     "text": [
      "뉴스 검색어는 무엇일까????  보조금\n"
     ]
    },
    {
     "name": "stdout",
     "output_type": "stream",
     "text": [
      "{'title': '생활 속 작은 불편이라도 신고해 주세요', 'originallink': 'http://news.heraldcorp.com/village/view.php?ud=202405310942135989205_10', 'link': 'https://n.news.naver.com/mnews/article/016/0002316413?sid=102', 'description': '주요 발굴과제에는 △화물자동차 유가<b>보조금</b> 부정수급 처분기준 개선 △임업후계자 요건 연령 제한 폐지 △한전 선로 부족에 따른 전기사업 허가 개선 등이 보고됐다. 화물자동차 유가<b>보조금</b> 부정수급 처분기준 개선은... ', 'pubDate': 'Fri, 31 May 2024 16:12:00 +0900'}\n",
      "\n",
      "{'title': '[시승기]“아우디의 저력이란 이런 것”…아우디, Q4 40 e-트론', 'originallink': 'https://www.mediapen.com/news/view/924180', 'link': 'https://www.mediapen.com/news/view/924180', 'description': '또한 Q4 e-트론은 SUV와 스포트백 모델 모두 정부와 지자체에서 지원하는 전기차 <b>보조금</b> 혜택을 받을 수 있다. 올해 기준 국고 <b>보조금</b>으로 △Q4 40 e-트론 196만 원 △Q4 스포트백 40 e-트론 198만 원이다.', 'pubDate': 'Fri, 31 May 2024 16:06:00 +0900'}\n",
      "\n",
      "{'title': '단통법 폐지→이통사 지원금 증가→알뜰폰 도산…&quot;단말기 유통 경쟁 약해질 수...', 'originallink': 'http://www.inews24.com/view/1725897', 'link': 'https://n.news.naver.com/mnews/article/031/0000841117?sid=105', 'description': '단통법은 소모적인 <b>보조금</b> 경쟁에서 벗어나고 소비자 후생을 높이겠다는 취지로 2014년 제정됐다. 하지만 <b>보조금</b> 경쟁이 위축돼 단말기를 저렴하게 구입할 수 있는 기회가 제한되는 등 소비자 후생이 되려 감소했다는... ', 'pubDate': 'Fri, 31 May 2024 16:02:00 +0900'}\n",
      "\n",
      "{'title': '&quot;신재생株에도 볕들 날?&quot;…對中 관세･정부 지원 확대에 반등', 'originallink': 'https://www.electimes.com/news/articleView.html?idxno=337802', 'link': 'https://www.electimes.com/news/articleView.html?idxno=337802', 'description': '앞서 조 바이든 미국 대통령은 지난 4월 17일 중국 정부 및 기업의 <b>보조금</b> 부정행위를 지적하며 일부 품목에 대해 현행 대비 3배의 관세를 부과한다는 뜻을 내비쳤고, 실제 5월 26일에는 부과를 유예했던 200여 개... ', 'pubDate': 'Fri, 31 May 2024 16:00:00 +0900'}\n",
      "\n",
      "{'title': \"어민 피눈물 짜는 '수협 비리', 금감원에 칼 쥐여 줘라\", 'originallink': 'http://www.newswell.co.kr/news/articleView.html?idxno=9835', 'link': 'http://www.newswell.co.kr/news/articleView.html?idxno=9835', 'description': '들어간 <b>보조금</b> 사업까지 담당하며 돈을 빼돌린 것이 확인됐다. 특히 이 직원은 유용한 자금을 도박... 횡령 사건이 있었던 해당 수협에선 지난달 또다시 직원 2명이 수천만원대 <b>보조금</b>을 유용한 사실이 드러났다. 이들... ', 'pubDate': 'Fri, 31 May 2024 15:58:00 +0900'}\n",
      "\n",
      "{'title': \"한·중·일 전고체 전지 '삼국지'...K-배터리 어디까지 왔나\", 'originallink': 'http://www.updownnews.co.kr/news/articleView.html?idxno=308448', 'link': 'http://www.updownnews.co.kr/news/articleView.html?idxno=308448', 'description': '앞서 중국은 2009년부터 배터리 시장에 90조원에 가까운 막대한 <b>보조금</b>을 쏟아부은 덕에 빠른 성장세를 보였다. 전폭적인 정부 지원과 물량 공세에 힘입어 현재 글로벌 배터리 시장에서 70%가량의 점유율을 차지하고... ', 'pubDate': 'Fri, 31 May 2024 15:58:00 +0900'}\n",
      "\n",
      "{'title': '군위군, 고등학교에 진학 시 최대 250만 원 지급', 'originallink': 'https://www.cnbnews.com/news/article.html?no=662719', 'link': 'https://www.cnbnews.com/news/article.html?no=662719', 'description': '지원금 신청은 <b>보조금</b>24를 통한 온라인 신청 및 주소지 관할 보건소를 방문하여 신청 할 수 있다. 김진열 군위군수는 “다자녀 가정에 대한 지원을 확대하게 돼 매우 기쁘게 생각한다“면서 ”출산과 양육이 행복한... ', 'pubDate': 'Fri, 31 May 2024 15:58:00 +0900'}\n",
      "\n",
      "{'title': '광양시 소상공인 원스톱지원센터 2명 근무', 'originallink': 'https://news.heraldcorp.com/view.php?ud=20240531050556', 'link': 'https://n.news.naver.com/mnews/article/016/0002316405?sid=101', 'description': '광양시(시장 정인화) <b>보조금</b>이 지원되는 원스톱센터는 센터장 1명과 매니저 1명이 근무하며 소상공인들에게 마케팅, 교육, 홍보, 맞춤형 컨설팅 등을 제공한다. 이를 통해 지역 내 소상공인들은 여러 기관에서 운영 중인... ', 'pubDate': 'Fri, 31 May 2024 15:56:00 +0900'}\n",
      "\n",
      "{'title': \"광양시 '청년의 날 행사' 사업수행자 공모\", 'originallink': 'https://www.polinews.co.kr/news/articleView.html?idxno=651287', 'link': 'https://www.polinews.co.kr/news/articleView.html?idxno=651287', 'description': '청년단체에 <b>보조금</b>을 지원해 행사를 개최할 예정이다. 신청 자격은 공고일 현재 시에 주소지를 두고... 시는 접수된 사업신청서를 1차 서류 및 면접심사를 통해 면밀히 검토하고 2차 <b>보조금</b> 심의위원회 심의를 거쳐 내달... ', 'pubDate': 'Fri, 31 May 2024 15:56:00 +0900'}\n",
      "\n",
      "{'title': '은평구의회, 26일까지 제307회 정례회 개회', 'originallink': 'https://www.siminilbo.co.kr/news/newsview.php?ncode=1160288465272867', 'link': 'https://www.siminilbo.co.kr/news/newsview.php?ncode=1160288465272867', 'description': '각 상임위원회별로 심사될 안건은 서울시 은평구 지방공무원 여비 조례 일부개정조례안 등 25건으로, 그 중 의원발의 조례안은 ▲ 서울시 은평구 지방<b>보조금</b> 지원 표지판 설치에 관한 조례안(장연순 의원) ▲ 서울시... ', 'pubDate': 'Fri, 31 May 2024 15:56:00 +0900'}\n",
      "\n"
     ]
    }
   ],
   "source": [
    "searchTest = input(\"뉴스 검색어는 무엇일까???? \")\n",
    "\n",
    "targetSite = \"https://openapi.naver.com/v1/search/news.json?query=\" + searchTest;\n",
    "\n",
    "response = requests.get(targetSite, headers=headers)\n",
    "\n",
    "searchResult = response.json(); \n",
    "\n",
    "items = searchResult['items']\n",
    "for item in items:\n",
    "     print(\"{}\".format(item), end=\"\\n\" )\n",
    "     print()\n"
   ]
  },
  {
   "cell_type": "markdown",
   "id": "182b4d9c-91c6-4b74-a162-c6a9e9696da8",
   "metadata": {},
   "source": [
    "***\n",
    "도서 검색\n",
    "***"
   ]
  },
  {
   "cell_type": "code",
   "execution_count": 8,
   "id": "3711208d-d35a-4a89-a86c-35399fe76421",
   "metadata": {
    "collapsed": true,
    "jupyter": {
     "outputs_hidden": true
    },
    "tags": []
   },
   "outputs": [
    {
     "name": "stdin",
     "output_type": "stream",
     "text": [
      "도서 검색어는 무엇일까????  버드나무에 부는 바람\n"
     ]
    },
    {
     "name": "stdout",
     "output_type": "stream",
     "text": [
      "{'title': '버드나무에 부는 바람', 'link': 'https://search.shopping.naver.com/book/catalog/47415904621', 'image': 'https://shopping-phinf.pstatic.net/main_4741590/47415904621.20240502071148.jpg', 'author': '케네스 그레이엄', 'discount': '15120', 'publisher': '보물창고', 'pubdate': '20240610', 'isbn': '9788961709323', 'description': '자동차와 마차가 공존하는 19세기 말에서 20세기 초 영국을 배경으로 하는 『버드나무에 부는 바람』은 호기심 많고 용감한 두더지, 사교적이고 현명하며 친절한 물쥐, 명랑한 사고뭉치 두꺼비, 너그럽고 현명한 오소리 아저씨의 엉뚱 발랄한 일상과 모험을 그린다.\\n강가를 여행하며 친해진 두더쥐와 물쥐는 눈 내린 숲에서 길을 잃고 헤매다 오소리 아저씨의 도움을 받기도 하고, 뽐내기 좋아하는 천방지축 두꺼비는 자동차를 가지고 싶다는 욕심을 버리지 못해 감옥에 갇혔다가 탈출하기도 한다. 그사이 두꺼비의 자랑인 저택이 천연림에 사는 족제비와 담비들의 차지가 되었음을 알게 된 두꺼비는 두더지, 물쥐, 오소리 아저씨와 함께 급습하여 저택을 되찾는다. 이 사건을 계기로 두꺼비는 의젓한 친구로 거듭났고, 네 동물의 명성은 천연림에 자자하게 되었다.'}\n",
      "\n",
      "{'title': '버드나무에 부는 바람', 'link': 'https://search.shopping.naver.com/book/catalog/32443154664', 'image': 'https://shopping-phinf.pstatic.net/main_3244315/32443154664.20230801123042.jpg', 'author': '케네스 그레이엄', 'discount': '17820', 'publisher': '살림어린이', 'pubdate': '20100915', 'isbn': '9788952214577', 'description': '『버드나무에 부는 바람』 출간 100주년 기념 특별판!\\n\\n영국 아동문학의 거장, 케네스 그레이엄의 대표작『버드나무에 부는 바람』. 강둑 주변에서 살아가는 물쥐, 두더지, 오소리, 두꺼비 등 동물 친구들의 우정과 모험 가득한 이야기가 펼쳐진다. 100년의 세월이 흐른 지금까지 영국의 자존심이라고 할 정도로 사랑받는 이 작품은 출간 100주년을 맞아 안데르센 상 수상 작가 로버트 잉펜의 그림으로 아름답게 재탄생되었다. 백 년 전 케네스 그레이엄이 언어로 그려낸 버드나무 강변과 두꺼비의 저택, 원시림, 목신의 섬을 섬세하고 부드러운 화풍으로 생생하게 되살려내고 있다.'}\n",
      "\n",
      "{'title': '버드나무에 부는 바람', 'link': 'https://search.shopping.naver.com/book/catalog/32496134298', 'image': 'https://shopping-phinf.pstatic.net/main_3249613/32496134298.20221019150546.jpg', 'author': '케네스 그레이엄', 'discount': '10800', 'publisher': '보물창고', 'pubdate': '20120210', 'isbn': '9788961702614', 'description': '영국 최고의 고전!\\n\\n꼭꼭 숨겨진 보물을 찾아내듯 세계의 좋은 동화만을 가려 뽑은 「동화 보물창고」  제43권 『버드나무에 부는 바람』. 영국인이 가장 사랑하는 대표적 동화작가 케네스 그레이엄이 선천적 장애로 인해 시력이 약한 아들을 위해 들려주던 이야기를 동화로 다듬어 펴낸 것이다. 마차와 자동차가 공존하는 20세기 초의 영국 시골 마을을 무대로 동물 친구들의 흥미진진한 모험 속으로 아이들을 초대한다. 순수한 호기심쟁이 두더지, 영리하고 사교적 시인 물쥐, 명랑한 사고뭉치 두꺼비, 그리고 따뜻한 마음을 가진 현명한 오소리 아저씨가 펼치는 유쾌한 소동이 생생하게 펼쳐지고 있다. 저자 특유의 기발한 상상력이 잔잔한 유머와 섬세한 묘사와 어우러져 끝없이 웃음을 자아낸다.'}\n",
      "\n",
      "{'title': '버드나무에 부는 바람', 'link': 'https://search.shopping.naver.com/book/catalog/32436334029', 'image': 'https://shopping-phinf.pstatic.net/main_3243633/32436334029.20240309070953.jpg', 'author': '케네스 그레이엄', 'discount': '12420', 'publisher': '인디고(글담)', 'pubdate': '20130725', 'isbn': '9788992632720', 'description': '고전 명작을 다시 읽는 즐거움!\\n\\n케네스 그레이엄의 소설 『버드나무에 부는 바람』. 어른이 되어 다시 읽는 명작 「아름다운 고전」 시리즈의 하나로, 개성 넘치는 일러스트를 담아 소장 가치를 높였으며 보관과 휴대가 간편한 사이즈로 만들었다. 제16권에서는 아름다운 버드나무 숲을 배경으로 펼쳐지는 네 마리 동물들의 유쾌하고 마음 따뜻해지는 잔잔한 풍경 같은 이야기를 만나볼 수 있다.\\n\\n새로운 것만 보면 정신을 못 차리는 사고뭉치 두꺼비, 영리하고 생각이 깊은 물쥐와 호기심 많고 맘씨 착한 두더지, 그리고 그런 아이들을 무척이나 좋아하는 신중한 성격의 오소리 아저씨까지 이들 앞에 펼쳐질 흥미진진한 모험과 가슴 뭉클한 이야기를 담았다. 아름다운 버드나무 숲을 묘사한 케네스 그레이엄의 사색적이고 시적인 문체, 다채롭고 화려한 문장을 마주하게 된다.'}\n",
      "\n",
      "{'title': '버드나무에 부는 바람', 'link': 'https://search.shopping.naver.com/book/catalog/32487153083', 'image': 'https://shopping-phinf.pstatic.net/main_3248715/32487153083.20230920071225.jpg', 'author': '케네스 그레이엄', 'discount': '10800', 'publisher': '현대문학', 'pubdate': '20111130', 'isbn': '9788972755739', 'description': '생생한 원전의 감동을 선사하는 『버드나무에 부는 바람』 완역본!\\n\\n책 읽는 즐거움을 열어주는 고전 명작으로 구성한 세계문학 시리즈 「에오스 클래식」. 세계적인 고전 명작들을 엄선해 새로운 완역본으로 선보이는 이 시리즈는 를 텍스트로 삼아 원전의 정확한 의미와 생생한 감동을 전하고자 했다. 제6권에서는 영국 문학의 자존심이자 전 세계 아동문학가들이 가장 좋아하는 작품으로 손꼽는 명작 『버드나무에 부는 바람』을 소개한다. 600개가 넘는 주석을 참고해 번역한 완역본으로,  시리즈의 삽화가로 유명한 어니스트 셰퍼드의 삽화를 수록해 읽는 재미를 더했다. 케네스 그레이엄이 시력이 약한 아들을 위해 썼다는 이 작품은 환상적인 모험 이야기를 그리고 있다. 생생한 풍경 묘사, 소리와 동작에 관한 다양한 표현, 목가적이고 서정적인 분위기 등이 돋보인다.'}\n",
      "\n",
      "{'title': '버드나무에 부는 바람 2', 'link': 'https://search.shopping.naver.com/book/catalog/33434717765', 'image': 'https://shopping-phinf.pstatic.net/main_3343471/33434717765.20221019151514.jpg', 'author': '케네스 그레이엄', 'discount': '4500', 'publisher': '맑은창', 'pubdate': '20040106', 'isbn': '9788986607314', 'description': '진정한 삶의 의미를 발견하는 이야기가 재미와 감동을 선사한다.'}\n",
      "\n",
      "{'title': '버드나무에 부는 바람 1', 'link': 'https://search.shopping.naver.com/book/catalog/33435047755', 'image': 'https://shopping-phinf.pstatic.net/main_3343504/33435047755.20221019105548.jpg', 'author': '케네스 그레이엄', 'discount': '4500', 'publisher': '맑은창', 'pubdate': '20040106', 'isbn': '9788986607307', 'description': '이 책은 일반 독자들을 대상으로 집필한 소설이다.'}\n",
      "\n",
      "{'title': '버드나무에 부는 바람', 'link': 'https://search.shopping.naver.com/book/catalog/42372335658', 'image': 'https://shopping-phinf.pstatic.net/main_4237233/42372335658.20230913071510.jpg', 'author': '마이리 매키넌', 'discount': '9900', 'publisher': '어스본코리아', 'pubdate': '20230904', 'isbn': '9791192430423', 'description': '● 전 세계 아동 문학가들이 사랑하는 명작 ● \\n아름다운 숲속, 동물 친구들이 펼치는 꿈같은 모험!\\n\\n◆ 어린이가 ‘처음’ 읽는 세계 명작 「어스본 세계 명작」 시리즈\\n 어린이가 꼭 읽어야 하는 세계 문학 고전을 쉽고 재미있게 읽을 수 있도록, 원작에 충실한 탄탄한 글과 매력적인 그림으로 소개하는 「어스본 세계 명작」 시리즈가 출간되었어요. 오랜 세월 동안 전 세계에서 사랑받아 온 세계 명작을 엄선하여, 초등 저학년의 책 읽기 눈높이에 맞춘 ‘어린이 세계 문학’이 새롭게 태어났어요. 국내 유수의 번역자들이 오랜 시간 공들여 번역하고 재구성한 완성도 높은 글에 상상력을 더해 줄 매력적인 그림이 더해져, 어린이들이 고전에 흥미를 갖고 책 읽기의 즐거움을 느낄 수 있게 해 줄 거예요.\\n 초등 저학년을 위한 얇고 가벼우며 안정감 있는 책의 만듦새도 특징적이에요. 읽기 독립을 준비하는 어린이부터 매일매일 탄탄한 독서 습관을 갖춰 나가는 어린이까지, 가정과 학교 등 어느 곳에서나 독서 시간을 책임져 줄 거예요. 익숙한 이야기는 제대로 읽고, 낯선 이야기는 새롭게 읽어 보세요. 시대와 공간, 세대를 초월하는 고전을 읽다 보면, 어린이들은 세상을 살아가는 이치를 자연스럽게 깨닫고 마음속 자양분을 얻고 교양을 쌓게 된답니다.\\n\\n◆ 호기심 넘치는 세 친구의 아름답고 빛나는 우정\\n어느 봄날, 땅속에 사는 호기심 많고 착한 두더지 ‘모울’은 대청소를 하다 세상 밖에 나와 상냥하고 친절한 물쥐 ‘래티’를 만나요. 모울은 래티 덕분에 땅 위 새로운 세상을 맛보고 모험하며 따뜻하고 지혜로운 오소리 ‘배저 아저씨’를 알게 되지요. 그리고 새로운 것만 보면 빠져드는 사고뭉치 두꺼비 ‘토드’를 만나 유쾌하고도 아슬아슬한 여행을 떠나기도 해요. 그런데 토드의 사고 수준은 점점 더 심해지고, 배저 아저씨와 두 친구는 힘을 합쳐 토드를 고쳐 놓기로 해요. 토드가 마음을 고쳐먹을 때까지 집 안에 가두기로 하지만, 토드는 몰래 도망쳐 다시 사고를 내고 급기야 재판장에까지 서게 되는데……. \\n어린이들은 섬세하고 생생한 묘사로 펼쳐지는 아름답고 따뜻한 이야기 속에 잔잔히 녹아드는 경험을 하게 될 거예요. 마치 마음속에 작은 동물들이 사는 마을이 그대로 옮겨지는 듯하지요. 서로 다르지만 마음씨가 착한 세 친구는 이런저런 성격을 가진 어린이들의 모습을 닮아 더욱 공감이 되지요. 다정하게 들려오는 이야기는 신비롭고 환상적인 모험의 세계로 안내해 준답니다.\\n\\n◆ 풍성하고 매력적인 그림으로 상상력을 더해 주는 ‘어린이 세계 문학’\\n 이 이야기는 100년이 넘는 세월 동안 고전 중의 고전으로 손꼽혀 오며, 전 세계의 수많은 독자들에게 사랑받고 있어요. 제목은 익히 들어 알고 있을 테지만, 제대로 내용을 알고 있는 초등 저학년 친구는 드물 거예요. 묵직한 완역본 고전을 읽어 내기 어려운 초등 저학년 친구들을 위해, 원작에 기초하여 초등 저학년의 책 읽기 수준에 맞는 분량과 번역으로 재구성했어요. 여기에 감각적인 색감을 입힌 매력적인 그림이 풍성하게 더해져 상상력의 폭을 넓혀 주고, 명작을 읽는 재미를 배가 되게 해 준답니다. 책장을 펼치면 신비롭고 아름다운 버드나무 숲이 눈앞에 펼쳐지고, 개성 넘치고 생동감 있게 표현된 토드, 모울, 래티, 배저 아저씨 등 등장인물들을 만나는 경험을 하게 될 거예요.\\n 얇고 가볍지만 견고하고 안정감 있는 책의 판형과 만듦새도 초등 어린이를 위해 고안되었어요. 언제 어디서든 세계 명작을 즐길 수 있고, 고전을 통해 탄탄한 독서 자양분과 교양을 쌓을 수 있게 이끌어 준답니다.\\n\\n◆ 명작을 깊고 의미 있게 즐기도록 안내하는 〈원작자와 작품에 대하여〉\\n 원작자 케네스 그레이엄은 소중한 아들 앨러스테어를 얻었지만, 안타깝게도 앨러스테어는 날 때부터 시력이 약했어요. 잘 보지 못해 집 안에서만 생활해야 했지요. 그레이엄은 아들을 위해 기상천외한 모험을 떠나는 동물들의 이야기를 지어 들려주기도 하고, 편지를 통해 전해 주기도 했어요. 이 이야기가 바로 『버드나무에 부는 바람』이에요.\\n 부록 〈원작자와 작품에 대하여〉에는 작품이 언제, 누구에 의해, 어떠한 과정으로 쓰여 전해지는지, 원작자와 작품에 대한 정보가 실려 있어요. 작품과 함께 읽으면 고전을 더 깊이 이해하고 풍성하고 의미 있게 즐길 수 있답니다.'}\n",
      "\n",
      "{'title': '버드나무에 부는 바람(문고판)', 'link': 'https://search.shopping.naver.com/book/catalog/32466551814', 'image': 'https://shopping-phinf.pstatic.net/main_3246655/32466551814.20230920073158.jpg', 'author': '케네스 그레이엄', 'discount': '6120', 'publisher': '네버엔딩스토리', 'pubdate': '20130315', 'isbn': '9788957983393', 'description': '유쾌한 모험과 웃음, 아름다운 대자연이 담긴 고전!\\n\\n영국인이 사랑하는 작가 케네스 그레이엄의 대표작 『버드나무에 부는 바람』. 어린이와 청소년을 위한 책들을 작고 간편한 문고본으로 소개하는 「네버엔딩스토리」의 52번째 책이다. 1908년에 출간된 이 작품은 작가가 시력이 약해 앞을 잘 보지 못하는 아들을 위해 들려주던 이야기를 동화로 다듬은 것으로, 사람보다 더 사람 같은 동물들이 벌이는 모험과 일상을 그리고 있다. \\n\\n마차와 자동차가 공존하는 20세기 초의 영국 시골 마을. 순수한 호기심쟁이 두더지, 영리하고 사교적인 시인 물쥐, 현명한 오소리 아저씨, 명랑한 사고뭉치 두꺼비 등이 벌이는 유쾌한 소동이 펼쳐진다. 인간과 사회에 대한 깊은 통찰과 풍자, 대자연의 아름다움을 묘사한 서정적인 언어, 세련된 유머가 어우러지며 이야기를 흥미진진하게 이끌어간다. 버드나무 숲 동물 친구들을 통해 일상의 소중함과 삶의 진정한 가치를 일깨워준다.'}\n",
      "\n",
      "{'title': '버드나무에 부는 바람(리커버) (인디고 아름다운 고전 리커버북 시리즈 12)', 'link': 'https://search.shopping.naver.com/book/catalog/32476381678', 'image': 'https://shopping-phinf.pstatic.net/main_3247638/32476381678.20230822103407.jpg', 'author': '케네스 그레이엄', 'discount': '12420', 'publisher': '글담출판', 'pubdate': '20200701', 'isbn': '9791159350689', 'description': '인디고 ‘아름다운 고전 리커버북 시리즈 ⑫’ 『버드나무에 부는 바람』\\n100여 년 전 출간된 세계적 명작을 깔끔하고 고급스러운 패턴의\\n새로운 표지로 다시 만난다!\\n\\n인디고 ‘아름다운 고전 시리즈’ 열여섯 번째 책으로 출간됐던 『버드나무에 부는 바람』이 깔끔하고 고급스러운 패턴의 새로운 표지로 재탄생했다. 『비밀의 화원』『백설공주』 등에서 동심을 불러일으키는 순수한 일러스트로 큰 사랑을 받았던 천은실 작가의 그림이 새로운 판형에 찰떡같이 어우러지며 소장욕구를 자극한다. 『버드나무에 부는 바람』은 아름다운 버드나무 숲을 배경으로 펼쳐지는 네 마리 동물들의 유쾌하고 마음 따뜻해지는 잔잔한 풍경 같은 이야기이다. 새로운 것만 보면 정신을 못 차리는 사고뭉치 두꺼비, 영리하고 생각이 깊은 물쥐와 호기심 많고 맘씨 착한 두더지, 그리고 그런 아이들을 무척이나 좋아하는 신중한 성격의 오소리 아저씨까지 이들 앞에 펼쳐질 흥미진진한 모험과 가슴 뭉클한 이야기가 마치 눈앞에서 아른거리듯 생생하게 시선을 사로잡는다. 최근 JTBC 드라마 〈날씨가 좋으면 찾아가겠어요〉에서 남자주인공이 책 소개를 하며 국내 독자들의 관심을 다시 한번 집중시킨 이 책은 ‘엄마가 자녀에게 선물하기 좋은 책’으로 꾸준히 사랑받고 있다.\\n\\n“물론 자연 속에서 살다 보면 가혹한 일도 많겠지만\\n눈앞에 펼쳐진 그 공간 속으로 지혜롭게 따라갈 것이다.\\n평생 즐거운 모험이 가득한 그곳으로.”\\n아름다운 버드나무 숲에서 펼쳐지는 동물 4인방의 ‘꿈같은 이야기’ ! \\n\\n영국을 대표하는 아동문학가 케네스 그레이엄. 불우한 어린 시절을 보낸 그에게 있어 아들은 더없이 소중한 존재였다. 이 책은 본래 날 때부터 시력이 약해 앞을 잘 보지 못했던 아들을 위해 직접 편지를 쓰고 머리맡에서 들려주던 이야기를 모은 것으로, 작가의 탄탄한 필력이 살아 숨 쉬는 책이다.\\n우리에게 『해리포터』 시리즈로 유명한 조앤 롤링은 어릴 적 읽은 책 중에 ‘가장 기억에 남는 책’으로 이 책을 추천했고, 『곰돌이 푸』 시리즈의 작가 앨런 알렉산더는 ‘어느 가정에나 한 권씩은 꼭 갖춰야 할 책’이라고 말했다. 사색적이고 시적인 문체, 다채롭고 화려한 문장, 세월이 지나도 변하지 않는 작가의 상상력은 그 문학적 가치가 높아 백 년이 지난 지금도 독자들의 마음을 사로잡는다.\\n그래서일까. 그 속에서 전개되는 4인방의 이야기는 그야말로 흥미롭다. 새로운 것만 보면 미친 듯이 몰두하다가도 금세 싫증을 잘 내는 두꺼비는 어쩌면 우리 아이들의 어릴 적 모습과도 같다. 아이들이라고 해서 늘 말썽만 피우는 건 또 아니다. 어른스럽고 의젓하고 생각이 깊을 때도 많다. 작품 속에서 물쥐와 두더지가 그런 역할을 담당하며, 사고뭉치 두꺼비의 위험스러운 모험에 제어를 걸고 우정을 과시한다. 그들 곁에는 언제나 아버지같이 든든하게 지켜주는 오소리 아저씨의 존재감도 크다. 어렵고 힘든 일이 닥치거나 논의해야 할 상황이 생길 때마다 지혜로운 두 친구 물쥐와 두더지는 오소리 아저씨를 찾아가곤 한다. 그 모든 경우가 두꺼비 덕분이긴 하지만.\\n책을 읽는 동안 독자들은 어느새 그들과 함께 버드나무 숲속을 달리고 있는 감성에 젖어 들 것이다. 또한 현대적인 감각에 맞춰 새롭게 재해석한 아름다운 천은실 작가의 그림은 우리를 모험의 세계로 이끌며 더 친근감 있게 작품에 다가설 수 있게 안내한다.'}\n",
      "\n"
     ]
    }
   ],
   "source": [
    "searchTest = input(\"도서 검색어는 무엇일까???? \")\n",
    "\n",
    "targetSite = \"https://openapi.naver.com/v1/search/book.json?query=\" + searchTest;\n",
    "\n",
    "response = requests.get(targetSite, headers=headers)\n",
    "\n",
    "searchResult = response.json(); \n",
    "\n",
    "items = searchResult['items']\n",
    "for item in items:\n",
    "     print(\"{}\".format(item), end=\"\\n\" )\n",
    "     print()\n"
   ]
  },
  {
   "cell_type": "markdown",
   "id": "5e07c06e-f86e-41d6-b1d0-7ead6648ea13",
   "metadata": {
    "tags": []
   },
   "source": [
    "***\n",
    "지식백과 검색\n",
    "***"
   ]
  },
  {
   "cell_type": "code",
   "execution_count": 11,
   "id": "fe6ab30c-85c2-40a8-a3a1-78406377d2cb",
   "metadata": {},
   "outputs": [
    {
     "name": "stdin",
     "output_type": "stream",
     "text": [
      "도서 검색어는 무엇일까????  감가상각비\n"
     ]
    },
    {
     "name": "stdout",
     "output_type": "stream",
     "text": [
      "{'title': '<b>감가상각비</b>', 'link': 'https://terms.naver.com/entry.naver?docId=65710&cid=43667&categoryId=43667', 'description': '<b>감가상각비</b>란 기물, 설비가 제품이나 서비스 등을 생산하면서 노후한 만큼의 가치를 제품생산원가에 포함시킬 목적으로 계산한 비용. 따라서 우리가 구매하는 모든 공산품과 서비스 소비자가격에는... ', 'thumbnail': ''}\n",
      "\n",
      "{'title': '<b>감가상각비</b>', 'link': 'https://terms.naver.com/entry.naver?docId=2428291&cid=42329&categoryId=42329', 'description': '기업이 사용하는 기물이나 설비 등은 해마다 소모되는데 이러한 가치의 감소분을 고정자산의 금액에서 공제함과 동시에 비용으로 계산하는 절차를 <b>감가</b>상각이라 하고, 그 비용을 <b>감가상각비</b>라 한다.... ', 'thumbnail': ''}\n",
      "\n",
      "{'title': '<b>감가상각비</b>', 'link': 'https://terms.naver.com/entry.naver?docId=3391110&cid=60289&categoryId=60289', 'description': ' <b>감가</b>상각에 의해 계산된 비용으로 시간이 지남에 따라 공장이나 기계설비와 같은 고정자산의 <b>감가</b>액을 말함.  시간이 지남에 따라 공장이나 기계설비와 같은 고정자산은 노후화로 인해 물리적, 경제적 가치가... ', 'thumbnail': ''}\n",
      "\n",
      "{'title': '<b>감가 상각비</b>', 'link': 'https://terms.naver.com/entry.naver?docId=1913753&cid=50304&categoryId=50304', 'description': '외국어 표기 depreciation(영어), 減價償却費(한자) <b>감가상각비</b>시사경제용어사전 시간이 경과함에 따라 노후되는 설비의 원가에 대해 사용기간 등에 의한 물리적, 경제적 가치하락의 감소분을 <b>감가</b>상각이라 하고... ', 'thumbnail': ''}\n",
      "\n",
      "{'title': '<b>감가상각비</b>', 'link': 'https://terms.naver.com/entry.naver?docId=943414&cid=47332&categoryId=47332', 'description': '그러나 그 가치는 그것을 사용할 수 없게 되었을 때 모두 없어지는 것이 아니라, 전 사용기간에 걸쳐서 평균적으로 가치가 감해진다고 보고 각 기간의 비용으로 할당되는 것을 <b>감가상각비</b>라 한다.', 'thumbnail': ''}\n",
      "\n",
      "{'title': '<b>감가 상각비</b>', 'link': 'https://terms.naver.com/entry.naver?docId=411310&cid=42327&categoryId=42327', 'description': '건물이나 기계 설비 등의 고정자산의 가격 감소를 보상하기 위한 비용. 원가계산의 경비 또는 간접비 속에 포함된다. ∙ 정액법 (D : 매기의 <b>감가상각비</b>) · 정률법 (x=상각의 비율) <b>감가</b> 상각의 방법', 'thumbnail': 'http://openapi-dbscthumb.phinf.naver.net/2537_000_1/20130723105307170_RPOT5VVT2.jpg/i54.jpg?type=m160_160'}\n",
      "\n",
      "{'title': '<b>감가상각비</b>', 'link': 'https://terms.naver.com/entry.naver?docId=6461287&cid=58453&categoryId=58453', 'description': '[정의] 유형 · 무형 자산의 사용, 시간의 경과 등으로 소모된 경제적 가치를 평가하여 비용으로 차감하는 평가적 비용을 말한다.', 'thumbnail': ''}\n",
      "\n",
      "{'title': '자영사업자의 합법적인 절세법', 'link': 'https://terms.naver.com/entry.naver?docId=2401564&cid=51281&categoryId=51286', 'description': '자영사업자의 소득세는 부가세와 밀접한 관계가 있다. 그래서 일부 업종에서 사업을 영위하는 사람들은 갖은 수단을 동원해 세무서에 매출을 축소하여 신고한다. 이렇게 하면 부가세도 덜 낼 뿐만 아니라... ', 'thumbnail': 'http://openapi-dbscthumb.phinf.naver.net/3635_000_1/20141127101715241_46JBH4EQQ.jpg/bg15_45_i1.jpg?type=m160_160'}\n",
      "\n",
      "{'title': '<b>감가상각비</b>명세서', 'link': 'https://terms.naver.com/entry.naver?docId=1925018&cid=42279&categoryId=42279', 'description': '<b>감가상각비</b>는 기업이 사용하는 기물이나 설비 등은 해마다 소모되는데 이러한 가치의 감소분을 보전하는 데 사용되는 비용을 말한다. 기업은 <b>감가</b>분을 제품이나 서비스의 원가에 넣어 적립한다. 적립분은... ', 'thumbnail': 'http://openapi-dbscthumb.phinf.naver.net/2453_000_19/20221031192139933_ABQACGDPY.png/hb10_5351_i1.png?type=m160_160'}\n",
      "\n",
      "{'title': '<b>감가상각비</b>손익계산서', 'link': 'https://terms.naver.com/entry.naver?docId=3331679&cid=51373&categoryId=51373', 'description': ' <b>감가상각비</b>를 적용하여 손익 내용을 작성하는 서식.  <b>감가상각비</b>란 유형, 무형 자산들의 가격 감소를 보상하기 위한 비용이다. 비품이나 집기 같은 유형자산의 경우 구매 후 시간이 지나고 자산의 가치가... ', 'thumbnail': 'http://openapi-dbscthumb.phinf.naver.net/3703_000_5/20151209161005910_BB3UCA8CL.jpg/ba17_37721.jpg?type=m160_160'}\n",
      "\n"
     ]
    }
   ],
   "source": [
    "searchTest = input(\"지식백과 검색어는 무엇일까???? \")\n",
    "\n",
    "targetSite = \"https://openapi.naver.com/v1/search/encyc.json?query=\" + searchTest;\n",
    "\n",
    "response = requests.get(targetSite, headers=headers)\n",
    "\n",
    "searchResult = response.json(); \n",
    "\n",
    "items = searchResult['items']\n",
    "for item in items:\n",
    "     print(\"{}\".format(item), end=\"\\n\" )\n",
    "     print()\n"
   ]
  },
  {
   "cell_type": "markdown",
   "id": "723c657c-7f39-487c-8487-02bace97b839",
   "metadata": {},
   "source": [
    "***\n",
    "카페글 검색\n",
    "***"
   ]
  },
  {
   "cell_type": "code",
   "execution_count": 12,
   "id": "9c03678d-6de2-4952-afe7-d55c66ee313b",
   "metadata": {
    "tags": []
   },
   "outputs": [
    {
     "name": "stdin",
     "output_type": "stream",
     "text": [
      "도서 검색어는 무엇일까????  이북리더스\n"
     ]
    },
    {
     "name": "stdout",
     "output_type": "stream",
     "text": [
      "{'title': '레디<b>리더스</b> <b>이북</b> e북샘플소식 일,프 제작소식', 'link': 'http://cafe.naver.com/supermomstory/1215422', 'description': '레디<b>리더스</b> <b>이북</b> e북샘플소식 일,프 제작소식 &lt;&lt; 박현영팝송 이야기 &gt;&gt; 다소 충격적이던 앨비스의 안타까운 사망소식이야기 그러나 라방의 히트소식은 레디<b>리더스</b>~와 하일라이츠 단어 스티커북 500개를 막 놀면서 익히는... ', 'cafename': '[수퍼맘스토리]대한민국 엄마들의 열정...', 'cafeurl': 'https://cafe.naver.com/supermomstory'}\n",
      "\n",
      "{'title': '나의 사랑❤️ 너의 사랑❤️ 매버릭 <b>리더스</b>', 'link': 'http://cafe.naver.com/supermomstory/1940005', 'description': '아이가 영어 AR 숙제가 있어서 번역본 없는 <b>이북 리더스</b>를 제 맘대로 해석해서 읽어주는 의미없는.. 시간을 보내고 있었는데 ㅠㅠ 매버릭 책이 검색이 되네요 :) 책읽고 점수따고 ㅎㅎ 꿩먹고 알먹고! 단점 아이가... ', 'cafename': '[수퍼맘스토리]대한민국 엄마들의 열정...', 'cafeurl': 'https://cafe.naver.com/supermomstory'}\n",
      "\n",
      "{'title': '자녀에게 퓨처팩같은 <b>리더스</b>북 어플을 <b>이북</b>리더기로 사용하게 해주시는 분 계시나요?', 'link': 'http://cafe.naver.com/ebook/695607', 'description': '리딩앤같은 데서 ORT 퓨처팩 등 유명 <b>리더스</b> 전집 일부를 전자책으로 볼 수 있게 앱으로 1년권같이 기간제한 정액권을 팔더라고요. 보통 탭으로 보여주시는 분들이 많은 것 같았는데 여기는 <b>이북</b>리더 카페니까 탭 대신... ', 'cafename': '디지털감성 e북카페', 'cafeurl': 'https://cafe.naver.com/ebook'}\n",
      "\n",
      "{'title': '대박사건!!!리치하이어<b>리더스</b> 어디서 본기억이 있었는데..', 'link': 'http://cafe.naver.com/supermomstory/1989043', 'description': '리치하이어<b>리더스</b> <b>이북</b>이ㄷㄷㄷ 옴마나시상에 깜짝놀랐어요!!!ㅋㅋㅋㅋㅋ 아실분은 다 알고계실거 같아요??ㅎㅎ 무려 사은품으로 추가된...ㄷㄷ 선생님 설명없이는 이 좋은책을 못알아본 까막눈이었습니댜ㅎㅎ 리치하이어... ', 'cafename': '[수퍼맘스토리]대한민국 엄마들의 열정...', 'cafeurl': 'https://cafe.naver.com/supermomstory'}\n",
      "\n",
      "{'title': '<b>이북</b>리더기 하이센스 a5 32기가 팝니다', 'link': 'http://cafe.naver.com/joonggonara/890185698', 'description': '안에 데이터만 지우겠으니 기본 설정되신 대로 쓰시면 될 거 같아요 저는 <b>이북리더스</b> 카페 디지털이북카페 이용하여 하이센스 사용법 익혔구요 다만 핸드폰 내 한글로 시스템 내용(?)이 안뜨는데 이건 제 역량으로는... ', 'cafename': '중고나라', 'cafeurl': 'https://cafe.naver.com/joonggonara'}\n",
      "\n",
      "{'title': '리틀크리터 <b>리더스</b>북(아이들<b>이북</b>) 이미지 리스트(진도표)예요.', 'link': 'http://cafe.naver.com/dochithink/1118329', 'description': '아이들<b>이북</b> 리틀크리터 <b>리더스</b>북 30권 프로젝트가 시작된 거 같아서 만들었어요. 잘은 모르겠는데 (칸이 좀 남아서) 5종짜리 리틀크리터 <b>리더스</b>북이 또 있더라고요. 그래서 그냥 껴... ', 'cafename': '[도치맘카페]도치엄마들의생각키우기', 'cafeurl': 'https://cafe.naver.com/dochithink'}\n",
      "\n",
      "{'title': '5/28 라방후기 영프쌍둥<b>이북</b> PonPon 소개, 프랑스 공립대vs사립대 비교', 'link': 'http://cafe.naver.com/supermomstory/2193856', 'description': '프랑스어는 보카파닉스 , 쓰기노트, 팔봉이패턴회화, 곰곰이, 코꿀이, 레디디더스, 퍼니본, ELI 다개국어<b>리더스</b>/사전 , pon pon 쌍둥<b>이북</b> 등 지금도 몇 개 안 되요. 전에 읽어 주었던 프랑스 <b>리더스</b>들 이어서 프랑스... ', 'cafename': '[수퍼맘스토리]대한민국 엄마들의 열정...', 'cafeurl': 'https://cafe.naver.com/supermomstory'}\n",
      "\n",
      "{'title': '[아이들<b>이북</b>] 사이언스 <b>리더스</b> 64권, 픽션 <b>리더스</b> 15권, 아서 188권, 핑크공주 66권 등 전세계 베스트셀러 ...', 'link': 'http://cafe.naver.com/dochithink/2004942', 'description': '첨부파일 <b>이북</b> 독서진행표.pdf 파일 다운로드 첨부파일 비디오북 독서진행표.pdf 파일 다운로드', 'cafename': '[도치맘카페]도치엄마들의생각키우기', 'cafeurl': 'https://cafe.naver.com/dochithink'}\n",
      "\n",
      "{'title': '아이들<b>이북</b>에서 레벨드 <b>리더스</b> 추천해주실거 있을까요?', 'link': 'http://cafe.naver.com/dochithink/1996582', 'description': '아이들<b>이북</b>에 ORT처럼 레벨 올리면서 읽을만한 시리즈 있을까요? 저레벨부터 고레벨로 쭉 집중해서 읽고 싶은데 이 시리즈 저시리즈 계속 고르다 하나에 집중못하고 방황하는듯 해서요ㅠㅠ', 'cafename': '[도치맘카페]도치엄마들의생각키우기', 'cafeurl': 'https://cafe.naver.com/dochithink'}\n",
      "\n",
      "{'title': '키즈 클래식 <b>리더스</b> 왔어요! 웅진빅박스 이용하시는 분 보세요.', 'link': 'http://cafe.naver.com/supermomstory/1558183', 'description': '클래식<b>리더스</b> <b>이북</b>은 레벨6까지 있구요. 이번에 공구한 매직어드벤쳐와 스쿨어드벤쳐 <b>이북</b>과 담에 공구할 베라 에일리언헌터도 있어요. 페이지를 넘기는 <b>이북</b>형식이 아니라 동영상같은?? 그런 형식이에요. 매직어드벤쳐는... ', 'cafename': '[수퍼맘스토리]대한민국 엄마들의 열정...', 'cafeurl': 'https://cafe.naver.com/supermomstory'}\n",
      "\n"
     ]
    }
   ],
   "source": [
    "searchTest = input(\"카페글 검색어는 무엇일까???? \")\n",
    "\n",
    "targetSite = \"https://openapi.naver.com/v1/search/cafearticle.json?query=\" + searchTest;\n",
    "\n",
    "response = requests.get(targetSite, headers=headers)\n",
    "\n",
    "searchResult = response.json(); \n",
    "\n",
    "items = searchResult['items']\n",
    "for item in items:\n",
    "     print(\"{}\".format(item), end=\"\\n\" )\n",
    "     print()\n"
   ]
  },
  {
   "cell_type": "markdown",
   "id": "b8de7156-3b24-4e67-8330-a71ae6c2e527",
   "metadata": {},
   "source": [
    "***\n",
    "지식인 검색\n",
    "***"
   ]
  },
  {
   "cell_type": "code",
   "execution_count": 13,
   "id": "872b6029-d68a-42f1-b5c2-1de694987ea1",
   "metadata": {},
   "outputs": [
    {
     "name": "stdin",
     "output_type": "stream",
     "text": [
      "지식인 검색어는 무엇일까????  아주\n"
     ]
    },
    {
     "name": "stdout",
     "output_type": "stream",
     "text": [
      "{'title': '상처가 <b>아주</b> 심하게 났는데', 'link': 'https://kin.naver.com/qna/detail.naver?d1id=7&dirId=70103&docId=467880750&qb=7JWE7KO8&enc=utf8&section=kin.qna&rank=1&search_sort=0&spq=0', 'description': '상처가 <b>아주</b> 깊게 났는데 저는 괜찮다지만 주변에서 미쳤냐면서 병원가라해서 내일 갑니다.. 근데 술을 조금... 진짜 까먹고 먹은거고 <b>아주</b> 조금 양인데 곪지는 않겠죠? 안녕하세요. 대한의사협회·네이버 지식iN 상담의사 정현화 입니다.... '}\n",
      "\n",
      "{'title': '<b>아주</b> 작은유방혹 조직검사', 'link': 'https://kin.naver.com/qna/detail.naver?d1id=7&dirId=70116&docId=469594239&qb=7JWE7KO8&enc=utf8&section=kin.qna&rank=2&search_sort=0&spq=0', 'description': '... 혹이 많아요 ㅜㅜ 그리고 최근에 다시 초음파를했는데 <b>아주</b>작은 혹이 또... 여기서 궁금한점이 1.4mm 혹이라 <b>아주</b>작은데 혹시 총조직검사를해서 악성이... <b>아주</b>작다고해도 조직검사를 안하기엔 제가 너무 걱정되고 무서워서 안하기도... '}\n",
      "\n",
      "{'title': '<b>아주</b> 작은 잔상 보였음', 'link': 'https://kin.naver.com/qna/detail.naver?d1id=7&dirId=70112&docId=467307139&qb=7JWE7KO8&enc=utf8&section=kin.qna&rank=3&search_sort=0&spq=0', 'description': '방금 화장실에서 세수하는 데 오른쪽 눈에서 두 번이나 <b>아주</b> 작은 잔상이 날파리 처럼 보이다가 사라졌는데 실명 증상은 진짜 아니죠..??ㅠㅠㅠ 안녕하세요. 대한의사협회·네이버 지식iN 상담의사 김선영 입니다. 눈 앞에 무언가 떠다니는... '}\n",
      "\n",
      "{'title': '<b>아주</b> 작은 벌레가 출몰해요', 'link': 'https://kin.naver.com/qna/detail.naver?d1id=11&dirId=111608&docId=467700089&qb=7JWE7KO8&enc=utf8&section=kin.qna&rank=4&search_sort=0&spq=0', 'description': '딱정벌레 같은데 <b>아주</b> 작아요 바구미도 출연하다가 걔는 잘 안나오고 요 벌레가 스멀스멀 다니는데 <b>아주</b>... 체장 ~2mm <b>아주</b> 작은 갈색의 반질반질한 동그란 모양의 딱정벌레 종류로 너무 작아서 눈에 잘 보이지 않으며 건들면... '}\n",
      "\n",
      "{'title': '중2 160에 겨털이 <b>아주</b> 조금 낳는', 'link': 'https://kin.naver.com/qna/detail.naver?d1id=7&dirId=70115&docId=453598215&qb=7JWE7KO8&enc=utf8&section=kin.qna&rank=5&search_sort=0&spq=0', 'description': '중2 160에 겨털이 <b>아주</b> 조금 낳는데 175까지 클수 있을까요?현재 성장호르몬 결핍이 있어서 주사도 맞고 있어요... 겨드랑이털이 <b>아주</b> 조금나거나 안나는 경우도 개인차가 있으니, 이는 곧 키와 직접적인 관계가 있는 것은 아닙니다.... '}\n",
      "\n",
      "{'title': '요산을 <b>아주</b> 쉽고 간단하게 설명 하려면 뭐라고 하나요?', 'link': 'https://kin.naver.com/qna/detail.naver?d1id=7&dirId=7010108&docId=459309622&qb=7JWE7KO8&enc=utf8&section=kin.qna&rank=6&search_sort=0&spq=0', 'description': '요산을 <b>아주</b> 쉽고 간단하게 설명 하려면 뭐라고 하나요? 안녕하세요. 대한의사협회·네이버 지식iN 상담의사 고재기... 요산을 <b>아주</b> 쉽고 간단하게 설명 하려면 뭐라고 하나요? 퓨린이라는 물질이 간에서 대사되면서 생기는 최종 분해... '}\n",
      "\n",
      "{'title': '보일러가 <b>아주</b> 뜨거운 온수가 안나와요. 교체해야할까요?', 'link': 'https://kin.naver.com/qna/detail.naver?d1id=8&dirId=80902&docId=464216545&qb=7JWE7KO8&enc=utf8&section=kin.qna&rank=7&search_sort=0&spq=0', 'description': '... 따뜻한 정도의 온수는 잘 나오는데 갑자기 잘 나오던 <b>아주</b> 뜨거운 온수가 안나옵니다. 그래서 요즘날씨에... 그리고 아무리 오래 온수를 틀어 놓아도 <b>아주</b> 뜨겁다 할 정도의 온수는 나오질 않습니다. 온수전용 또는 난방과 함께... '}\n",
      "\n",
      "{'title': '틱장애가 <b>아주</b> 어린 애에게도 생길 수 있나요?(인천 소아... ', 'link': 'https://kin.naver.com/qna/detail.naver?d1id=7&dirId=70305&docId=452683630&qb=7JWE7KO8&enc=utf8&section=kin.qna&rank=8&search_sort=0&spq=0', 'description': '틱장애가 <b>아주</b> 어린 애에게도 생길 수 있나요? 울 아들이... 걱정되어 <b>아주</b> 어린 나이에도 틱장애가 나타날 수 있는지... 틱장애가 더 진행되어 증상이 <b>아주</b> 심해지게 되면 상황에... 치료방법은 <b>아주</b> 어린 나이라고 하더라도 틱장애를... '}\n",
      "\n",
      "{'title': '<b>아주</b>오래전 뺐던 사랑니 자리에 고름', 'link': 'https://kin.naver.com/qna/detail.naver?d1id=7&dirId=70201&docId=462854530&qb=7JWE7KO8&enc=utf8&section=kin.qna&rank=9&search_sort=0&spq=0', 'description': '<b>아주</b>오래전 뺏던 사랑니 자리에 고름주머니가 생긴거같아요 지금 교정중인데 교정과 관련 있나요?? 통증은 없어요 안녕하세요. 하이닥-네이버 지식iN 상담의 서준석입니다. 교정과 관련은 없어보입니다 교정때문에... '}\n",
      "\n",
      "{'title': '영화 찾ㄹ<b>아주</b>세요', 'link': 'https://kin.naver.com/qna/detail.naver?d1id=3&dirId=30302&docId=470146273&qb=7JWE7KO8&enc=utf8&section=kin.qna&rank=10&search_sort=0&spq=0', 'description': '노래방에 뜬 영환데 무슨영환지 궁금합니다 퐁네프의 연인들 감독 레오 까락스 출연 줄리엣 비노쉬, 드니 라방, 클라우스-마이클 그러버, 다니엘 부아인, 마리언 스타렌즈 개봉 1992. 04. 18.'}\n",
      "\n"
     ]
    }
   ],
   "source": [
    "searchTest = input(\"지식인 검색어는 무엇일까???? \")\n",
    "\n",
    "targetSite = \"https://openapi.naver.com/v1/search/kin.json?query=\" + searchTest;\n",
    "\n",
    "response = requests.get(targetSite, headers=headers)\n",
    "\n",
    "searchResult = response.json(); \n",
    "\n",
    "items = searchResult['items']\n",
    "for item in items:\n",
    "     print(\"{}\".format(item), end=\"\\n\" )\n",
    "     print()\n"
   ]
  },
  {
   "cell_type": "markdown",
   "id": "e0f6d250-9879-44c6-a427-1803ab0ed3e7",
   "metadata": {
    "tags": []
   },
   "source": [
    "***\n",
    "지역별 상호 검색\n",
    "***"
   ]
  },
  {
   "cell_type": "code",
   "execution_count": null,
   "id": "8ef461c4-0e85-490f-854b-3c9257455bdf",
   "metadata": {},
   "outputs": [],
   "source": [
    "searchTest = input(\"지역별 상호 검색 검색어는 무엇일까???? \")\n",
    "\n",
    "targetSite = \"https://openapi.naver.com/v1/search/local.json?query=\" + searchTest;\n",
    "\n",
    "response = requests.get(targetSite, headers=headers)\n",
    "\n",
    "searchResult = response.json(); \n",
    "\n",
    "items = searchResult['items']\n",
    "for item in items:\n",
    "     print(\"{}\".format(item), end=\"\\n\" )\n",
    "     print()\n"
   ]
  },
  {
   "cell_type": "markdown",
   "id": "e376db21-b6fa-43ba-b9b7-038ff797bf72",
   "metadata": {},
   "source": [
    "***\n",
    "웹문서 검색\n",
    "***"
   ]
  },
  {
   "cell_type": "code",
   "execution_count": 14,
   "id": "87691853-4773-4e2d-8307-c854afca0a5c",
   "metadata": {},
   "outputs": [
    {
     "name": "stdin",
     "output_type": "stream",
     "text": [
      "웹문서 검색 검색어는 무엇일까????  도둑토끼\n"
     ]
    },
    {
     "name": "stdout",
     "output_type": "stream",
     "text": [
      "{'title': '<b>토끼</b><b>도둑</b> 검색결과 | 교보문고', 'link': 'https://search.kyobobook.co.kr/search?keyword=%ED%86%A0%EB%81%BC%EB%8F%84%EB%91%91', 'description': '[국내도서] 영어동화 100편: 위인동화 ; [eBook] 인류의 기원 ; [국내도서] 탐정이 된 책 <b>도둑 토끼</b> ; [국내도서] 아는 길도 물어 가는 안전 백과 ; [국내도서] 펼쳐라 마인드맵 한국사 2 ; [국내도서] 인류의 기원'}\n",
      "\n",
      "{'title': '<b>토끼</b><b>도둑</b> | 일러스트레이터 - 교보문고', 'link': 'https://www.kyobobook.co.kr/service/profile/information?chrcCode=1115013001', 'description': '<b>토끼</b><b>도둑</b> | 일러스트레이터 | 성균관대학교 서양화과를 졸업하고, 일러스트레이터로 활동하고 있다. 그린 책으로는 《푸른 별 아이들》, 《수학 이솝우화》, 《보이니? 명화 속 숨은 마음》, 《세계 문학 속 지구 환경 이야기》, 《아는 길도 물어 가는 안전 백과》 들이 있으'}\n",
      "\n",
      "{'title': '[책 <b>도둑 토끼</b>] 책이 너무 좋다면?', 'link': 'https://blog.naver.com/windycloud7/223292779816', 'description': '책 <b>도둑 토끼</b> 에밀리 맥켄지 글,그림 주니어 김영사 이 <b>토끼</b>의 이름은 랄피예요. 랄피는 책을 정말 좋아해요. 책 나오는 꿈을 꾸고 사람들이 쿨쿨 잘 때 몰래 가서 책을 읽기도 할 정도라니까요. 그런데 랄피는 책을...'}\n",
      "\n",
      "{'title': '<b>토끼</b><b>도둑</b> - 예스24 작가파일', 'link': 'https://www.yes24.com/24/AuthorFile/Author/124286', 'description': '<b>토끼</b><b>도둑</b>. 성균관대학교 서양화과를 졸업한 뒤, 일러스트레이터로 활동하고 있습니다. 그린 책으로는 『푸른 별 아이들』, 『수학 이솝우화』, 『보이니? 명화 속 숨은 마음』, 『세계 문학 속 지구 환경 이야기』, 『아는 길도 물어 가는 안전 백과』 등이 있으며, 1인 출판물 『인디.진 2分』, 『Ma Peach』, 『<b>토끼</b><b>도둑</b>의 일러스트레이션과 드로잉』을...'}\n",
      "\n",
      "{'title': '<b>도둑토끼</b>의 셋방살이 :: <b>도둑토끼</b>의 셋방살이', 'link': 'https://openart.tistory.com/', 'description': '<b>도둑토끼</b>의 셋방살이'}\n",
      "\n",
      "{'title': '재미있는 유아그림책, 책 <b>도둑 토끼</b>', 'link': 'https://blog.naver.com/birdkiss/220245052685', 'description': '랄피와 아서는 친한 책 친구가 되고 함께 도서관에 가는데요. 함께 책을 읽는 친구가 생겼답니다. 뛰어난 상상력과 재미있는 소재로 유쾌하게 읽을 수 있었던 책<b>도둑토끼</b> 아이와 도서관 가기 전에 함께 보기 좋네요!'}\n",
      "\n",
      "{'title': '<b>도둑 토끼</b> - 예스24', 'link': 'https://m.yes24.com/Search?query=%EB%8F%84%EB%91%91+%ED%86%A0%EB%81%BC', 'description': '책 <b>도둑 토끼</b> · 에밀리 맥켄지 글그림 / 김소연 역 · 『모두 잠드는 나라』, 테이블 매트 증정 ; 펼쳐라 마인드맵 한국사 2 · 최형미 저 / <b>토끼</b><b>도둑</b> 그림 ; 펼쳐라 마인드맵 한국사 5 · 최형미 저 / <b>토끼</b><b>도둑</b> 그림 ; <b>도둑</b>맞은 <b>토끼</b> · 이경혜 · 비룡소 · 500원'}\n",
      "\n",
      "{'title': '알라딘: 책 <b>도둑 토끼</b>', 'link': 'https://www.aladin.co.kr/shop/wproduct.aspx?ItemId=50211514', 'description': '정가 : 12,000원, 판매가 : 10,800원 (10%, 1,200원 할인) ; 선물포장불가 ; 전자책 출간알림 신청 ; 중고 등록알림 신청 ; 중고로 팔기'}\n",
      "\n",
      "{'title': '책 <b>도둑 토끼</b> - 예스24', 'link': 'https://www.yes24.com/Product/Goods/15527116', 'description': '에밀리 맥켄지 글그림/김소연 역. 주니어김영사. 판매가 10,800원(10% 할인). 포인트 600원(5% 적립). 주니어김영사의 베스트셀러 《책 먹는 여우》의 유아 그림책 버전!책을 사랑해서 책 <b>도둑</b>이 된 <b>토끼</b>의 ‘웃픈(웃기고 슬픈)’ 이야기!못 말리는 책 ...'}\n",
      "\n",
      "{'title': '<b>토끼</b><b>도둑</b> - 예스24', 'link': 'https://www.yes24.com/Product/Search?query=%ED%86%A0%EB%81%BC%EB%8F%84%EB%91%91', 'description': '펼쳐라 마인드맵 한국사 2 · 판매지수 2,346 ; 펼쳐라 마인드맵 한국사 5 · 판매지수 1,968 ; 펼쳐라 마인드맵 한국사 세트 · [ 전5권 ] · 이나영 · 2,370원 ; 인물로 읽는 한국사-09 · 임진왜란, 일본을 무찌른 조선의 장군들 · 박은정 · 휴먼어린이 · 물병 스트랩 (휴먼어린이 1만 5천원↑, 색상 ...'}\n",
      "\n"
     ]
    }
   ],
   "source": [
    "searchTest = input(\"웹문서 검색 검색어는 무엇일까???? \")\n",
    "\n",
    "targetSite = \"https://openapi.naver.com/v1/search/webkr.json?query=\" + searchTest;\n",
    "\n",
    "response = requests.get(targetSite, headers=headers)\n",
    "\n",
    "searchResult = response.json(); \n",
    "\n",
    "items = searchResult['items']\n",
    "for item in items:\n",
    "     print(\"{}\".format(item), end=\"\\n\" )\n",
    "     print()\n"
   ]
  },
  {
   "cell_type": "markdown",
   "id": "4362c4dd-4a50-4612-8c1b-e2ab26093458",
   "metadata": {},
   "source": [
    "***\n",
    "이미지 검색\n",
    "***"
   ]
  },
  {
   "cell_type": "code",
   "execution_count": 16,
   "id": "7ea1a4f9-9b52-4cd7-8469-def7bb48d764",
   "metadata": {},
   "outputs": [
    {
     "name": "stdin",
     "output_type": "stream",
     "text": [
      "이미지 검색 검색어는 무엇일까????  뽀로로\n"
     ]
    },
    {
     "name": "stdout",
     "output_type": "stream",
     "text": [
      "{'title': '뽀로로 - 나무위키 뽀로로', 'link': 'https://i.namu.wiki/i/IzZNZMwZo3_qZ1fAHJ6Iu05VMyHxwOuboM-UkIx_Ggtiu9es8sq96g67ojeh23qEw-hCI4oO2STMYhKK5Vi20w.webp', 'thumbnail': 'https://search.pstatic.net/sunny/?type=b150&src=https://i.namu.wiki/i/IzZNZMwZo3_qZ1fAHJ6Iu05VMyHxwOuboM-UkIx_Ggtiu9es8sq96g67ojeh23qEw-hCI4oO2STMYhKK5Vi20w.webp', 'sizeheight': '359', 'sizewidth': '311'}\n",
      "\n",
      "{'title': '뽀로로젤리 6가지모양 3가지과일맛 구미젤리 53g 36봉', 'link': 'http://shopping.phinf.naver.net/main_4296657/42966578144.1.20240505011927.jpg', 'thumbnail': 'https://search.pstatic.net/common/?type=b150&src=http://shopping.phinf.naver.net/main_4296657/42966578144.1.20240505011927.jpg', 'sizeheight': '1000', 'sizewidth': '1000'}\n",
      "\n",
      "{'title': '뽀로로 홍삼쏙쏙 오렌지 100ml 10팩 : 드링크올데이', 'link': 'http://shop1.phinf.naver.net/20220504_47/1651631735795JuRkU_JPEG/52767570615841998_667775270.jpg', 'thumbnail': 'https://search.pstatic.net/common/?type=b150&src=http://shop1.phinf.naver.net/20220504_47/1651631735795JuRkU_JPEG/52767570615841998_667775270.jpg', 'sizeheight': '1000', 'sizewidth': '1000'}\n",
      "\n",
      "{'title': '지구화학 뽀로로 샤프식 미니 색연필 12색 : 나무내음', 'link': 'http://shop1.phinf.naver.net/20240401_53/1711981411705j1XEJ_JPEG/113117300401377387_1947760591.jpg', 'thumbnail': 'https://search.pstatic.net/common/?type=b150&src=http://shop1.phinf.naver.net/20240401_53/1711981411705j1XEJ_JPEG/113117300401377387_1947760591.jpg', 'sizeheight': '922', 'sizewidth': '850'}\n",
      "\n",
      "{'title': 'Laugh 뽀로로 GIF - Laugh 뽀로로 애니메이션 - Discover & Share GIFs | Animated cartoons, Gif, Dancing gif', 'link': 'https://i.pinimg.com/originals/e4/9a/f8/e49af87c36b78490745115cc14b5a80e.gif', 'thumbnail': 'https://search.pstatic.net/sunny/?type=b150&src=https://i.pinimg.com/originals/e4/9a/f8/e49af87c36b78490745115cc14b5a80e.gif', 'sizeheight': '280', 'sizewidth': '498'}\n",
      "\n",
      "{'title': '뽀로로 구슬정글 소근육발달완구 : 어린이스토리', 'link': 'http://shop1.phinf.naver.net/20230314_8/1678758288268EumKL_JPEG/79894186966433592_1839645261.jpg', 'thumbnail': 'https://search.pstatic.net/common/?type=b150&src=http://shop1.phinf.naver.net/20230314_8/1678758288268EumKL_JPEG/79894186966433592_1839645261.jpg', 'sizeheight': '3780', 'sizewidth': '3780'}\n",
      "\n",
      "{'title': '뽀롱뽀롱 뽀로로 NEW 1 | 왓챠', 'link': 'https://an2-img.amz.wtchn.net/image/v2/0TU8HV-86kVzUHeJO3DH1Q.jpg?jwt=ZXlKaGJHY2lPaUpJVXpJMU5pSjkuZXlKdmNIUnpJanBiSW1KbklsMHNJbkFpT2lJdmRqSXZjM1J2Y21VdmFXMWhaMlV2TVRZeE5UZzNOak0zTmpnMk1UWXpPVGMwTXlKOS4zZ1puMHpzSnRueXFub2QyekptYUpVLUZ4dWhfdzVUdE44THpWemlyZjlJ', 'thumbnail': 'https://search.pstatic.net/sunny/?type=b150&src=https://an2-img.amz.wtchn.net/image/v2/0TU8HV-86kVzUHeJO3DH1Q.jpg?jwt=ZXlKaGJHY2lPaUpJVXpJMU5pSjkuZXlKdmNIUnpJanBiSW1KbklsMHNJbkFpT2lJdmRqSXZjM1J2Y21VdmFXMWhaMlV2TVRZeE5UZzNOak0zTmpnMk1UWXpPVGMwTXlKOS4zZ1puMHpzSnRueXFub2QyekptYUpVLUZ4dWhfdzVUdE44THpWemlyZjlJ', 'sizeheight': '1080', 'sizewidth': '1920'}\n",
      "\n",
      "{'title': 'MZ가 사랑하는 뽀로로, 잔망루피!‘잔망루피’에 대한 알잘딱깔센 5가지', 'link': 'http://post.phinf.naver.net/MjAyMzEyMTJfMTM4/MDAxNzAyMzU3Mjc5MzA3.SKodctjIcmS4Ne3_BGNcR8K_fCctpBN4LFUS3yOCLi4g.ppeAZ7hneKirDvKRomHrtaGBTQisIpHRU2rmf2CD59Yg.JPEG/IbIYYU6cKE-oz9HLx3IodHXxWISw.jpg', 'thumbnail': 'https://search.pstatic.net/common/?type=b150&src=http://post.phinf.naver.net/MjAyMzEyMTJfMTM4/MDAxNzAyMzU3Mjc5MzA3.SKodctjIcmS4Ne3_BGNcR8K_fCctpBN4LFUS3yOCLi4g.ppeAZ7hneKirDvKRomHrtaGBTQisIpHRU2rmf2CD59Yg.JPEG/IbIYYU6cKE-oz9HLx3IodHXxWISw.jpg', 'sizeheight': '338', 'sizewidth': '600'}\n",
      "\n",
      "{'title': '뽀로로 리얼 피규어 9종세트 달리는 뽀로로 포함 장난감 : 싼타하우스', 'link': 'http://shop1.phinf.naver.net/20210730_122/1627637579614zTNr4_JPEG/103024_10.jpg', 'thumbnail': 'https://search.pstatic.net/common/?type=b150&src=http://shop1.phinf.naver.net/20210730_122/1627637579614zTNr4_JPEG/103024_10.jpg', 'sizeheight': '1000', 'sizewidth': '1000'}\n",
      "\n",
      "{'title': '뽀롱뽀롱 뽀로로 시즌7 1화 | TVING', 'link': 'https://image.tving.com/ntgs/contents/CTC/caip/CAIP0500/ko/20201123/P001378241.png/dims/resize/F_webp,1280', 'thumbnail': 'https://search.pstatic.net/sunny/?type=b150&src=https://image.tving.com/ntgs/contents/CTC/caip/CAIP0500/ko/20201123/P001378241.png/dims/resize/F_webp,1280', 'sizeheight': '720', 'sizewidth': '1280'}\n",
      "\n"
     ]
    }
   ],
   "source": [
    "searchTest = input(\"이미지 검색 검색어는 무엇일까???? \")\n",
    "\n",
    "targetSite = \"https://openapi.naver.com/v1/search/image.json?query=\" + searchTest;\n",
    "\n",
    "response = requests.get(targetSite, headers=headers)\n",
    "\n",
    "searchResult = response.json(); \n",
    "\n",
    "items = searchResult['items']\n",
    "for item in items:\n",
    "     print(\"{}\".format(item), end=\"\\n\" )\n",
    "     print()\n"
   ]
  },
  {
   "cell_type": "markdown",
   "id": "1113e8c9-286b-4dee-b831-25691674e2a7",
   "metadata": {},
   "source": [
    "***\n",
    "쇼핑 검색\n",
    "***"
   ]
  },
  {
   "cell_type": "code",
   "execution_count": 17,
   "id": "897b6394-aa25-4db5-b728-e74348289c2d",
   "metadata": {},
   "outputs": [
    {
     "name": "stdin",
     "output_type": "stream",
     "text": [
      "쇼핑 검색 검색어는 무엇일까????  노트북\n"
     ]
    },
    {
     "name": "stdout",
     "output_type": "stream",
     "text": [
      "{'title': '삼성전자 갤럭시북4 프로 NT960XGQ-A51A', 'link': 'https://search.shopping.naver.com/gate.nhn?id=44884086618', 'image': 'https://shopping-phinf.pstatic.net/main_4488408/44884086618.20231226162032.jpg', 'lprice': '1698920', 'hprice': '', 'mallName': '네이버', 'productId': '44884086618', 'productType': '1', 'brand': '갤럭시북4 프로', 'maker': '삼성전자', 'category1': '디지털/가전', 'category2': '노트북', 'category3': '', 'category4': ''}\n",
      "\n",
      "{'title': '삼성전자 갤럭시북4 NT750XGR-A71A', 'link': 'https://search.shopping.naver.com/gate.nhn?id=46633100618', 'image': 'https://shopping-phinf.pstatic.net/main_4663310/46633100618.20240325185914.jpg', 'lprice': '1098000', 'hprice': '', 'mallName': '네이버', 'productId': '46633100618', 'productType': '1', 'brand': '갤럭시북4', 'maker': '삼성전자', 'category1': '디지털/가전', 'category2': '노트북', 'category3': '', 'category4': ''}\n",
      "\n",
      "{'title': '삼성 15인치 갤럭시북 업무용 사무용 인강용 대학생 가성비 싼<b>노트북</b> 윈도우11포함 기본팩', 'link': 'https://search.shopping.naver.com/gate.nhn?id=85662765582', 'image': 'https://shopping-phinf.pstatic.net/main_8566276/85662765582.4.jpg', 'lprice': '529000', 'hprice': '', 'mallName': '삼성공식파트너 코인비엠에스', 'productId': '85662765582', 'productType': '2', 'brand': '갤럭시북', 'maker': '삼성전자', 'category1': '디지털/가전', 'category2': '노트북', 'category3': '', 'category4': ''}\n",
      "\n",
      "{'title': '삼성전자 갤럭시북4 프로 NT940XGQ-A51A', 'link': 'https://search.shopping.naver.com/gate.nhn?id=44881382618', 'image': 'https://shopping-phinf.pstatic.net/main_4488138/44881382618.20231226133413.jpg', 'lprice': '1362250', 'hprice': '', 'mallName': '네이버', 'productId': '44881382618', 'productType': '1', 'brand': '갤럭시북4 프로', 'maker': '삼성전자', 'category1': '디지털/가전', 'category2': '노트북', 'category3': '', 'category4': ''}\n",
      "\n",
      "{'title': '삼성전자 갤럭시북4 NT750XGR-A51A', 'link': 'https://search.shopping.naver.com/gate.nhn?id=46670109618', 'image': 'https://shopping-phinf.pstatic.net/main_4667010/46670109618.20240327103306.jpg', 'lprice': '798000', 'hprice': '', 'mallName': '네이버', 'productId': '46670109618', 'productType': '1', 'brand': '갤럭시북4', 'maker': '삼성전자', 'category1': '디지털/가전', 'category2': '노트북', 'category3': '', 'category4': ''}\n",
      "\n",
      "{'title': '삼성전자 갤럭시북2 NT550XED-K24A', 'link': 'https://search.shopping.naver.com/gate.nhn?id=43494810618', 'image': 'https://shopping-phinf.pstatic.net/main_4349481/43494810618.20231027141030.jpg', 'lprice': '511700', 'hprice': '', 'mallName': '네이버', 'productId': '43494810618', 'productType': '1', 'brand': '갤럭시북2', 'maker': '삼성전자', 'category1': '디지털/가전', 'category2': '노트북', 'category3': '', 'category4': ''}\n",
      "\n",
      "{'title': 'LG전자 울트라PC 라이젠 15인치 사무용 인강용 업무용 학생용 저렴한 가성비 LG<b>노트북</b>', 'link': 'https://search.shopping.naver.com/gate.nhn?id=83718736488', 'image': 'https://shopping-phinf.pstatic.net/main_8371873/83718736488.10.jpg', 'lprice': '539000', 'hprice': '', 'mallName': '제이 씨앤에스', 'productId': '83718736488', 'productType': '2', 'brand': '울트라PC', 'maker': 'LG전자', 'category1': '디지털/가전', 'category2': '노트북', 'category3': '', 'category4': ''}\n",
      "\n",
      "{'title': '삼성전자 갤럭시북4 프로360 NT960QGK-K71AR', 'link': 'https://search.shopping.naver.com/gate.nhn?id=44880953618', 'image': 'https://shopping-phinf.pstatic.net/main_4488095/44880953618.20231226125811.jpg', 'lprice': '2199000', 'hprice': '', 'mallName': '네이버', 'productId': '44880953618', 'productType': '1', 'brand': '갤럭시북4 프로360', 'maker': '삼성전자', 'category1': '디지털/가전', 'category2': '노트북', 'category3': '', 'category4': ''}\n",
      "\n",
      "{'title': '(혜택가30만)LG 울트라PC 14인치 <b>노트북</b> 사무 업무 인강 학습용 저렴한 윈도우 탑재 <b>노트북</b>', 'link': 'https://search.shopping.naver.com/gate.nhn?id=86332529467', 'image': 'https://shopping-phinf.pstatic.net/main_8633252/86332529467.4.jpg', 'lprice': '369000', 'hprice': '', 'mallName': 'LG전자인증점 노트북랜드', 'productId': '86332529467', 'productType': '2', 'brand': '울트라PC', 'maker': 'LG전자', 'category1': '디지털/가전', 'category2': '노트북', 'category3': '', 'category4': ''}\n",
      "\n",
      "{'title': '삼성전자 갤럭시북3 360 NT750QFT-A51A', 'link': 'https://search.shopping.naver.com/gate.nhn?id=37624157618', 'image': 'https://shopping-phinf.pstatic.net/main_3762415/37624157618.20231206133819.jpg', 'lprice': '1399000', 'hprice': '', 'mallName': '네이버', 'productId': '37624157618', 'productType': '1', 'brand': '갤럭시북3 360', 'maker': '삼성전자', 'category1': '디지털/가전', 'category2': '노트북', 'category3': '', 'category4': ''}\n",
      "\n"
     ]
    }
   ],
   "source": [
    "searchTest = input(\"쇼핑 검색 검색어는 무엇일까???? \")\n",
    "\n",
    "targetSite = \"https://openapi.naver.com/v1/search/shop.json?query=\" + searchTest;\n",
    "\n",
    "response = requests.get(targetSite, headers=headers)\n",
    "\n",
    "searchResult = response.json(); \n",
    "\n",
    "items = searchResult['items']\n",
    "for item in items:\n",
    "     print(\"{}\".format(item), end=\"\\n\" )\n",
    "     print()\n"
   ]
  },
  {
   "cell_type": "markdown",
   "id": "a4cc65bf-bc1c-4d45-9104-6c38dbdb6d77",
   "metadata": {},
   "source": [
    "***\n",
    "전문 자료 검색\n",
    "***"
   ]
  },
  {
   "cell_type": "code",
   "execution_count": 18,
   "id": "024f737b-fbff-4e52-9e52-d7cdde3b5201",
   "metadata": {},
   "outputs": [
    {
     "name": "stdin",
     "output_type": "stream",
     "text": [
      "전문자료 검색 검색어는 무엇일까????  미치는 영향\n"
     ]
    },
    {
     "name": "stdout",
     "output_type": "stream",
     "text": [
      "{'title': '코로나바이러스(COVID-19) 감염에 대한 일반대중의 두려움과 심리, 사회적 ', 'link': 'http://academic.naver.com/article.naver?doc_id=765941997', 'description': 'The Influence of Public Fear, and Psycho-social Experiences during the Coronavirus Disease 2019(COVID-19) Pandemic on Depression and An'}\n",
      "\n",
      "{'title': '청소년의 스마트폰 중독이 사회성 발달에 <b>미치는 영향</b>', 'link': 'http://academic.naver.com/article.naver?doc_id=58322249', 'description': 'Effect of Smart-phone Addiction on Youth’s Sociality Development 본 연구는 청소년의 스마트폰 중독이 사회성 발달'}\n",
      "\n",
      "{'title': '코로나 19(COVID-19)로 인한 온라인 강의 대체가 간호대학생의 학습동기, 교', 'link': 'http://academic.naver.com/article.naver?doc_id=650647352', 'description': 'The Effect of Online Substitution Class Cuased by Coronavirus(COVID-19) on the Learning Motivation, Instructor-Learner Interaction, and'}\n",
      "\n",
      "{'title': '행정조직문화가 조직몰입과 직무만족에 <b>미치는 영향</b>', 'link': 'http://academic.naver.com/article.naver?doc_id=11170096', 'description': 'Effects of Organizational Culture on Organizational Commitment and Job Satisfaction in the Public Sector 본연구는 기초자치단'}\n",
      "\n",
      "{'title': '대학생의 학습몰입과 자기효능감이 대학생활적응과 학업성취에 <b>미치는</b> ', 'link': 'http://academic.naver.com/article.naver?doc_id=45734335', 'description': 'The Effect of Flow on Learning and Self-efficacy on College Adaptation and Academic Achievement in Undergraduate Students 본 연구는'}\n",
      "\n",
      "{'title': '부모의 교육적 관여가 학업성취에 <b>미치는 영향</b>:가정배경의 <b>영향</b>을 중심', 'link': 'http://academic.naver.com/article.naver?doc_id=13668517', 'description': 'Parental involvement and student achievement in South Korea: Focusing on differential effects by family background 본 연구에서는 '}\n",
      "\n",
      "{'title': '긍정심리자본이 조직구성원의 직무만족과 정서적 몰입에 <b>미치는 영향</b>', 'link': 'http://academic.naver.com/article.naver?doc_id=46985687', 'description': 'The effects of positive psychological capital on employee job satisfaction and affective commitment 본 연구의 목적은 급변하'}\n",
      "\n",
      "{'title': '기업의 재무적 특성이 조세회피행위에 <b>미치는 영향</b>', 'link': 'http://academic.naver.com/article.naver?doc_id=16396827', 'description': 'The Effect of Corporate Financial Characteristics on Tax Avoidance 김진회**ㆍ정재욱*** 목차\\n기업의 재무적 특성이 조'}\n",
      "\n",
      "{'title': '다차원적 속성의 국가이미지가 제품평가 및 브랜드 태도에 <b>미치는 영향</b>:', 'link': 'http://academic.naver.com/article.naver?doc_id=17538009', 'description': 'Multifaceted Country Image and its Impact on Product Evaluation and Brand Attitude: A Case for Chinese Consumers  I. 문제제기=63,68'}\n",
      "\n",
      "{'title': '스마트폰에 대한 지각특성이 스마트폰 채택의도에 <b>미치는 영향</b>', 'link': 'http://academic.naver.com/article.naver?doc_id=41447671', 'description': 'Effects of Perceived Attributes on the Purchase Intention of Smart-Phone 스마트폰은 휴대폰과 PDA의 결합으로 볼 수 있'}\n",
      "\n"
     ]
    }
   ],
   "source": [
    "searchTest = input(\"전문자료 검색 검색어는 무엇일까???? \")\n",
    "\n",
    "targetSite = \"https://openapi.naver.com/v1/search/doc.json?query=\" + searchTest;\n",
    "\n",
    "response = requests.get(targetSite, headers=headers)\n",
    "\n",
    "searchResult = response.json(); \n",
    "\n",
    "items = searchResult['items']\n",
    "for item in items:\n",
    "     print(\"{}\".format(item), end=\"\\n\" )\n",
    "     print()\n"
   ]
  },
  {
   "cell_type": "markdown",
   "id": "0ae6586e-bd8b-4f36-adc6-838955b1b03c",
   "metadata": {},
   "source": [
    "***\n",
    "성인 검색어 판별\n",
    "***\n",
    "성인 검색어 판별 결과 : \"0\" -> 일반 검색어,  \"1\" -> 성인 검색어"
   ]
  },
  {
   "cell_type": "code",
   "execution_count": 30,
   "id": "b744cafd-83d7-4705-be0c-d4c1aa5cea50",
   "metadata": {},
   "outputs": [
    {
     "name": "stdin",
     "output_type": "stream",
     "text": [
      "성인 검색어일까???  ㅇㅇ\n"
     ]
    },
    {
     "name": "stdout",
     "output_type": "stream",
     "text": [
      "ㅇㅇ(은)는 일반 검색어 입니다.\n"
     ]
    }
   ],
   "source": [
    "searchTest = input(\"성인 검색어일까??? \")\n",
    "\n",
    "targetSite = \"https://openapi.naver.com/v1/search/adult.json?query=\" + searchTest;\n",
    "\n",
    "response = requests.get(targetSite, headers=headers)\n",
    "\n",
    "searchResult = response.json(); \n",
    "#print(searchResult[\"adult\"])\n",
    "print(\"{}(은)는 {} 검색어 입니다.\".format ( searchTest, \"일반\" if searchResult[\"adult\"] == str(0) else \"성인\"))"
   ]
  },
  {
   "cell_type": "markdown",
   "id": "b9961a70-65f8-41e0-8219-d2b9b9bb3be6",
   "metadata": {},
   "source": [
    "***\n",
    "오타변환\n",
    "***\n",
    "오타가 발견되면 오타를 반환한 결과를 출력하고, 오타가 없으면 빈 문자열이 리턴된다."
   ]
  },
  {
   "cell_type": "code",
   "execution_count": 65,
   "id": "81554094-6207-46a7-9c89-24a0554a644c",
   "metadata": {},
   "outputs": [
    {
     "name": "stdin",
     "output_type": "stream",
     "text": [
      "오타가 있을까? 문장으로  하모니 밥 목었어\n"
     ]
    },
    {
     "name": "stdout",
     "output_type": "stream",
     "text": [
      "\n",
      "하모니 밥 먹었어\n"
     ]
    }
   ],
   "source": [
    "searchTest = input(\"오타가 있을까? 문장으로 \").split( )\n",
    "\n",
    "result = []\n",
    "for text in searchTest:\n",
    "     targetSite = \"https://openapi.naver.com/v1/search/errata.json?query=\" + text;\n",
    "     response = requests.get(targetSite, headers=headers)\n",
    "     searchResult = response.json()\n",
    "     #print(searchResult.get(\"errata\"))\n",
    "     if searchResult.get(\"errata\") == \"\":\n",
    "          result.append(text)\n",
    "     else :\n",
    "          result.append(searchResult.get(\"errata\"))\n",
    "     #---- if\n",
    "#--- for keyword\n",
    "print()\n",
    "print(\" \".join(result))\n"
   ]
  },
  {
   "cell_type": "code",
   "execution_count": null,
   "id": "2e4705a7-80fe-4bcc-8f10-cc1d366fd98b",
   "metadata": {},
   "outputs": [],
   "source": []
  },
  {
   "cell_type": "code",
   "execution_count": null,
   "id": "b590267c-d50e-4c19-9577-07574fe327d3",
   "metadata": {},
   "outputs": [],
   "source": []
  },
  {
   "cell_type": "code",
   "execution_count": null,
   "id": "841aa3a3-8970-4dc6-8ab8-003bac7ccc3f",
   "metadata": {},
   "outputs": [],
   "source": []
  },
  {
   "cell_type": "code",
   "execution_count": null,
   "id": "0440d80d-e277-4103-a441-42cb38c10870",
   "metadata": {},
   "outputs": [],
   "source": []
  },
  {
   "cell_type": "code",
   "execution_count": null,
   "id": "0a8a96fc-aa46-48cb-a474-b40b22a4b0a9",
   "metadata": {},
   "outputs": [],
   "source": []
  },
  {
   "cell_type": "code",
   "execution_count": null,
   "id": "3ba42d82-44e6-4bfd-8dec-c855a07c97b2",
   "metadata": {},
   "outputs": [],
   "source": []
  },
  {
   "cell_type": "code",
   "execution_count": null,
   "id": "a6e892a2-8bc6-4405-81fa-9827c6443741",
   "metadata": {},
   "outputs": [],
   "source": []
  },
  {
   "cell_type": "code",
   "execution_count": null,
   "id": "9be45730-fc0c-43fa-b601-f33f92b121f2",
   "metadata": {},
   "outputs": [],
   "source": []
  },
  {
   "cell_type": "code",
   "execution_count": null,
   "id": "e2eb1bef-76f2-4c62-933e-178de1648ba6",
   "metadata": {},
   "outputs": [],
   "source": []
  },
  {
   "cell_type": "code",
   "execution_count": null,
   "id": "19e9249a-ff68-4357-ac75-fad0b7322574",
   "metadata": {},
   "outputs": [],
   "source": []
  }
 ],
 "metadata": {
  "kernelspec": {
   "display_name": "py3.7",
   "language": "python",
   "name": "py3.7"
  },
  "language_info": {
   "codemirror_mode": {
    "name": "ipython",
    "version": 3
   },
   "file_extension": ".py",
   "mimetype": "text/x-python",
   "name": "python",
   "nbconvert_exporter": "python",
   "pygments_lexer": "ipython3",
   "version": "3.7.1"
  }
 },
 "nbformat": 4,
 "nbformat_minor": 5
}
